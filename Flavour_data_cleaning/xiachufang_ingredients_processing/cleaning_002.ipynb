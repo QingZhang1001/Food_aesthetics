{
 "cells": [
  {
   "cell_type": "code",
   "execution_count": 1,
   "metadata": {},
   "outputs": [],
   "source": [
    "import pandas as pd\n",
    "import numpy as np\n",
    "import matplotlib.pyplot as plt\n",
    "import seaborn as sns\n",
    "import os\n",
    "import re"
   ]
  },
  {
   "cell_type": "code",
   "execution_count": 3,
   "metadata": {},
   "outputs": [],
   "source": [
    "def explode(df,column):\n",
    "    df1=df[column].str.split('、',expand=True).stack().str.strip().reset_index(level=1,drop=True)\n",
    "    df1=pd.DataFrame(df1)\n",
    "    df=df.drop(column,axis=1).join(df1).reset_index(drop=True)\n",
    "    df.rename(columns={0:'ingredients'},inplace=True)\n",
    "    return df"
   ]
  },
  {
   "cell_type": "code",
   "execution_count": 4,
   "metadata": {},
   "outputs": [
    {
     "data": {
      "text/plain": [
       "(181374, 2)"
      ]
     },
     "execution_count": 4,
     "metadata": {},
     "output_type": "execute_result"
    }
   ],
   "source": [
    "x_ingr=pd.read_csv('/home/IW_student/work/food_flavor/ingredient_preprocessing/datasets/x_ingr_3.csv',index_col=0)\n",
    "x_ingr=explode(x_ingr,'ingredients')\n",
    "x_ingr.dropna(inplace=True)\n",
    "x_ingr.shape"
   ]
  },
  {
   "cell_type": "code",
   "execution_count": 4,
   "metadata": {},
   "outputs": [],
   "source": [
    "## nut/seed/pulse"
   ]
  },
  {
   "cell_type": "code",
   "execution_count": 5,
   "metadata": {},
   "outputs": [],
   "source": [
    "## find 核桃  walnut"
   ]
  },
  {
   "cell_type": "code",
   "execution_count": 5,
   "metadata": {},
   "outputs": [],
   "source": [
    "hetao_str=[]\n",
    "for index,row in x_ingr.iterrows():\n",
    "    if re.search('核桃',row.ingredients)!=None:\n",
    "        hetao_str.append(x_ingr.loc[index,'ingredients'])"
   ]
  },
  {
   "cell_type": "code",
   "execution_count": 6,
   "metadata": {},
   "outputs": [
    {
     "name": "stdout",
     "output_type": "stream",
     "text": [
      "[]\n"
     ]
    }
   ],
   "source": [
    "print(list(set(hetao_str)))"
   ]
  },
  {
   "cell_type": "code",
   "execution_count": 35,
   "metadata": {},
   "outputs": [],
   "source": [
    "for index,row in x_ingr.iterrows():\n",
    "    if re.search('核桃露',row.ingredients)!=None:\n",
    "        x_ingr.loc[index,'ingredients']='walnut_milk' "
   ]
  },
  {
   "cell_type": "code",
   "execution_count": 36,
   "metadata": {},
   "outputs": [],
   "source": [
    "for index,row in x_ingr.iterrows():\n",
    "    if re.search('核桃',row.ingredients)!=None:\n",
    "        x_ingr.loc[index,'ingredients']='walnut' "
   ]
  },
  {
   "cell_type": "code",
   "execution_count": null,
   "metadata": {},
   "outputs": [],
   "source": [
    "## find 开心果 pistachio"
   ]
  },
  {
   "cell_type": "code",
   "execution_count": 37,
   "metadata": {},
   "outputs": [],
   "source": [
    "for index,row in x_ingr.iterrows():\n",
    "    if re.search('开心果',row.ingredients)!=None:\n",
    "        x_ingr.loc[index,'ingredients']='pistachio'"
   ]
  },
  {
   "cell_type": "code",
   "execution_count": null,
   "metadata": {},
   "outputs": [],
   "source": [
    "## find hazelnut -> 榛子"
   ]
  },
  {
   "cell_type": "code",
   "execution_count": 9,
   "metadata": {},
   "outputs": [],
   "source": [
    "zhenzi_str=[]\n",
    "for index,row in x_ingr.iterrows():\n",
    "    if re.search('榛子',row.ingredients)!=None:\n",
    "        zhenzi_str.append(x_ingr.loc[index,'ingredients'])"
   ]
  },
  {
   "cell_type": "code",
   "execution_count": 10,
   "metadata": {},
   "outputs": [
    {
     "name": "stdout",
     "output_type": "stream",
     "text": [
      "{'熟榛子', '去皮熟榛子', '榛子', '榛子粉', '榛子粉各一半量', '榛子屑', 'chocolate榛子酱', '榛子仁', '生榛子', '裹入榛子', '榛子chocolate酱', '榛子油', '榛子酱'}\n"
     ]
    }
   ],
   "source": [
    "print(set(list(zhenzi_str)))"
   ]
  },
  {
   "cell_type": "code",
   "execution_count": null,
   "metadata": {},
   "outputs": [],
   "source": [
    "## find 熟芝麻 -> roasted_sesame_seed；黑芝麻 -> black_sesame_seed；sesame_seed -> 黑芝麻；toasted_sesame_seed -> toasted_sesame_seed"
   ]
  },
  {
   "cell_type": "code",
   "execution_count": 11,
   "metadata": {},
   "outputs": [],
   "source": [
    "zhima_str=[]\n",
    "for index,row in x_ingr.iterrows():\n",
    "    if re.search('芝麻',row.ingredients)!=None:\n",
    "        zhima_str.append(x_ingr.loc[index,'ingredients'])"
   ]
  },
  {
   "cell_type": "code",
   "execution_count": 12,
   "metadata": {},
   "outputs": [
    {
     "name": "stdout",
     "output_type": "stream",
     "text": [
      "set()\n"
     ]
    }
   ],
   "source": [
    "print(set(list(zhima_str)))"
   ]
  },
  {
   "cell_type": "code",
   "execution_count": 42,
   "metadata": {},
   "outputs": [],
   "source": [
    "# 芝麻菜 arugula\n",
    "for index,row in x_ingr.iterrows():\n",
    "    if re.search('芝麻菜',row.ingredients)!=None:\n",
    "        x_ingr.loc[index,'ingredients']='arugula' "
   ]
  },
  {
   "cell_type": "code",
   "execution_count": 46,
   "metadata": {},
   "outputs": [],
   "source": [
    "# 熟芝麻 \n",
    "for index,row in x_ingr.iterrows():\n",
    "    if re.search('熟.*芝麻',row.ingredients)!=None:\n",
    "        x_ingr.loc[index,'ingredients']='roasted_sesame_seed'"
   ]
  },
  {
   "cell_type": "code",
   "execution_count": 50,
   "metadata": {},
   "outputs": [],
   "source": [
    "# 黑芝麻\n",
    "for index,row in x_ingr.iterrows():\n",
    "    if (re.search('黑芝麻$',row.ingredients)!=None) or (re.search('黑芝麻粉',row.ingredients)!=None) or (re.search('黑芝麻馅',row.ingredients)!=None):\n",
    "        x_ingr.loc[index,'ingredients']='sesame_seed'"
   ]
  },
  {
   "cell_type": "code",
   "execution_count": 54,
   "metadata": {},
   "outputs": [],
   "source": [
    "# 炒芝麻\n",
    "for index,row in x_ingr.iterrows():\n",
    "    if re.search('炒.*芝麻',row.ingredients)!=None:\n",
    "        x_ingr.loc[index,'ingredients']='roasted_sesame_seed'"
   ]
  },
  {
   "cell_type": "code",
   "execution_count": 59,
   "metadata": {},
   "outputs": [],
   "source": [
    "for index,row in x_ingr.iterrows():\n",
    "    if (re.search('^芝麻$',row.ingredients)!=None) or (re.search('^芝麻儿',row.ingredients)!=None) or (re.search('^芝麻几',row.ingredients)!=None) or (re.search('^芝麻馅',row.ingredients)!=None) or (re.search('白芝麻',row.ingredients)!=None):\n",
    "        x_ingr.loc[index,'ingredients']='sesame_seed'"
   ]
  },
  {
   "cell_type": "code",
   "execution_count": null,
   "metadata": {},
   "outputs": [],
   "source": [
    "# 芝麻酱 tahini"
   ]
  },
  {
   "cell_type": "code",
   "execution_count": 63,
   "metadata": {},
   "outputs": [],
   "source": [
    "for index,row in x_ingr.iterrows():\n",
    "    if (re.search('芝麻酱',row.ingredients)!=None) or (re.search('芝麻醬',row.ingredients)!=None):\n",
    "        x_ingr.loc[index,'ingredients']='tahini'"
   ]
  },
  {
   "cell_type": "code",
   "execution_count": 66,
   "metadata": {},
   "outputs": [],
   "source": [
    "# 芝麻蕉 \n",
    "for index,row in x_ingr.iterrows():\n",
    "    if re.search('芝麻蕉',row.ingredients)!=None:\n",
    "        x_ingr.loc[index,'ingredients']='banana'"
   ]
  },
  {
   "cell_type": "code",
   "execution_count": 67,
   "metadata": {},
   "outputs": [],
   "source": [
    "# 沙拉汁\n",
    "for index,row in x_ingr.iterrows():\n",
    "    if (re.search('丘比焙煎芝麻沙拉汁',row.ingredients)!=None) or (re.search('焙煎芝麻沙拉汁',row.ingredients)!=None) or (re.search('丘比沙拉汁培煎芝麻口味',row.ingredients)!=None) or (re.search('丘比沙拉汁焙煎芝麻口味',row.ingredients)!=None):\n",
    "        x_ingr.loc[index,'ingredients']='salad_dressing'"
   ]
  },
  {
   "cell_type": "code",
   "execution_count": 70,
   "metadata": {},
   "outputs": [],
   "source": [
    "for index,row in x_ingr.iterrows():\n",
    "    if re.search('芝麻',row.ingredients)!=None:\n",
    "        x_ingr.loc[index,'ingredients']='sesame_seed'"
   ]
  },
  {
   "cell_type": "code",
   "execution_count": 73,
   "metadata": {},
   "outputs": [],
   "source": [
    "x_ingr.to_csv('/home/IW_student/work/food_flavor/ingredient_preprocessing/datasets/x_ingr_3.csv')"
   ]
  },
  {
   "cell_type": "code",
   "execution_count": null,
   "metadata": {},
   "outputs": [],
   "source": [
    "# roasted_peanut -> 烤花生;peanut -> 花生; raw_peanut -> raw_peanut"
   ]
  },
  {
   "cell_type": "code",
   "execution_count": 13,
   "metadata": {},
   "outputs": [],
   "source": [
    "huasheng_str=[]\n",
    "for index,row in x_ingr.iterrows():\n",
    "    if re.search('花生',row.ingredients)!=None:\n",
    "        huasheng_str.append(x_ingr.loc[index,'ingredients'])"
   ]
  },
  {
   "cell_type": "code",
   "execution_count": 14,
   "metadata": {},
   "outputs": [
    {
     "name": "stdout",
     "output_type": "stream",
     "text": [
      "['油炸花生', '酒鬼花生', '表面装饰花生仁', '花生糖粉', '炒熟花生', '腰果花生', '四季宝花生酱', '原味花生酱', '小红花生', '新花生', '五香花生米', '熟花生米', '无糖花生酱', '炸花生米', '炒花生仁', '脆花生', '红皮花生米', '纯花生酱', '油氽花生米', '烤熟花生米', '四季宝柔滑花生酱', '煮花生米', '粗花生酱', '麻辣花生', '红衣花生', '花生豆', '黄飞红麻辣花生', '去皮熟花生仁', '花生仁', '熟花生仁', '无盐天然花生酱', '烤花生', '烤熟花生', '熟脱皮花生仁', '带壳花生', '炒熟花生米', '红皮生花生', '花生末', '咸味花生', '去皮花生', '红皮花生', '炒花生米', '生红皮花生', '花生红衣', '炒花生', '生花生', '幼滑花生酱', '奶油花生酱', '熟花生末', '花生酱', '油炸花生米', '小红衣生花生', '花生米', '白皮花生', '去皮熟花生', '红皮花生若干', '型花生酱', '生花生米', '熟花生', '生花生仁', '大花生', '无壳花生', '花生', '煮花生', '油酥花生米']\n"
     ]
    }
   ],
   "source": [
    "print(list(set(huasheng_str)))"
   ]
  },
  {
   "cell_type": "code",
   "execution_count": 15,
   "metadata": {},
   "outputs": [],
   "source": [
    "for index,row in x_ingr.iterrows():\n",
    "    if (re.search('油.*花生米',row.ingredients)!=None) or (re.search('油氽花生米',row.ingredients)!=None) or (re.search('炸花生米',row.ingredients)!=None):\n",
    "        x_ingr.loc[index,'ingredients']='roasted_peanut'"
   ]
  },
  {
   "cell_type": "code",
   "execution_count": 16,
   "metadata": {},
   "outputs": [],
   "source": [
    "for index,row in x_ingr.iterrows():\n",
    "    if re.search('.*熟花生',row.ingredients)!=None:\n",
    "        x_ingr.loc[index,'ingredients']='roasted_peanut'"
   ]
  },
  {
   "cell_type": "code",
   "execution_count": 17,
   "metadata": {},
   "outputs": [],
   "source": [
    "for index,row in x_ingr.iterrows():\n",
    "    if re.search('.*炒花生',row.ingredients)!=None:\n",
    "        x_ingr.loc[index,'ingredients']='roasted_peanut'"
   ]
  },
  {
   "cell_type": "code",
   "execution_count": 18,
   "metadata": {},
   "outputs": [],
   "source": [
    "# 花生酱\n",
    "for index,row in x_ingr.iterrows():\n",
    "    if re.search('花生酱',row.ingredients)!=None:\n",
    "        x_ingr.loc[index,'ingredients']='peanut_butter'"
   ]
  },
  {
   "cell_type": "code",
   "execution_count": 19,
   "metadata": {},
   "outputs": [],
   "source": [
    "# 生花生\n",
    "for index,row in x_ingr.iterrows():\n",
    "    if re.search('生花生',row.ingredients)!=None:\n",
    "        x_ingr.loc[index,'ingredients']='raw_peanut'"
   ]
  },
  {
   "cell_type": "code",
   "execution_count": 20,
   "metadata": {},
   "outputs": [],
   "source": [
    "for index,row in x_ingr.iterrows():\n",
    "    if re.search('花生',row.ingredients)!=None:\n",
    "        x_ingr.loc[index,'ingredients']='peanut'"
   ]
  },
  {
   "cell_type": "code",
   "execution_count": 21,
   "metadata": {},
   "outputs": [],
   "source": [
    "## 扁豆\n",
    "biandou_str=[]\n",
    "for index,row in x_ingr.iterrows():\n",
    "    if re.search('扁豆',row.ingredients)!=None:\n",
    "        biandou_str.append(x_ingr.loc[index,'ingredients'])"
   ]
  },
  {
   "cell_type": "code",
   "execution_count": 22,
   "metadata": {},
   "outputs": [
    {
     "name": "stdout",
     "output_type": "stream",
     "text": [
      "['宽扁豆', '长扁豆', '扁豆角', '扁豆', '白扁豆', '大扁豆']\n"
     ]
    }
   ],
   "source": [
    "print(list(set(biandou_str)))"
   ]
  },
  {
   "cell_type": "code",
   "execution_count": 23,
   "metadata": {},
   "outputs": [],
   "source": [
    "## 腰果 cashew\n",
    "yaoguo_str=[]\n",
    "for index,row in x_ingr.iterrows():\n",
    "    if re.search('腰果',row.ingredients)!=None:\n",
    "        yaoguo_str.append(x_ingr.loc[index,'ingredients'])"
   ]
  },
  {
   "cell_type": "code",
   "execution_count": 24,
   "metadata": {},
   "outputs": [
    {
     "name": "stdout",
     "output_type": "stream",
     "text": [
      "['腰果', '腰果仁', '表面装饰腰果', '熟腰果', '碳烧腰果', '腰果馅', '油炸腰果', '生腰果']\n"
     ]
    }
   ],
   "source": [
    "print(list(set(yaoguo_str)))"
   ]
  },
  {
   "cell_type": "code",
   "execution_count": 25,
   "metadata": {},
   "outputs": [],
   "source": [
    "for index,row in x_ingr.iterrows():\n",
    "    if re.search('腰果',row.ingredients)!=None:\n",
    "        x_ingr.loc[index,'ingredients']='cashew'"
   ]
  },
  {
   "cell_type": "code",
   "execution_count": 26,
   "metadata": {},
   "outputs": [],
   "source": [
    "## 坚果\n",
    "jianguo_str=[]\n",
    "for index,row in x_ingr.iterrows():\n",
    "    if re.search('坚果',row.ingredients)!=None:\n",
    "        jianguo_str.append(x_ingr.loc[index,'ingredients'])"
   ]
  },
  {
   "cell_type": "code",
   "execution_count": 27,
   "metadata": {},
   "outputs": [
    {
     "name": "stdout",
     "output_type": "stream",
     "text": [
      "[]\n"
     ]
    }
   ],
   "source": [
    "print(list(set(jianguo_str)))"
   ]
  },
  {
   "cell_type": "code",
   "execution_count": 28,
   "metadata": {},
   "outputs": [],
   "source": [
    "for index,row in x_ingr.iterrows():\n",
    "    if re.search('坚果',row.ingredients)!=None:\n",
    "        x_ingr.loc[index,'ingredients']='nut'"
   ]
  },
  {
   "cell_type": "code",
   "execution_count": 29,
   "metadata": {},
   "outputs": [],
   "source": [
    "x_ingr.to_csv('/home/IW_student/work/food_flavor/ingredient_preprocessing/datasets/x_ingr_3.csv')"
   ]
  },
  {
   "cell_type": "code",
   "execution_count": null,
   "metadata": {},
   "outputs": [],
   "source": [
    "## spice "
   ]
  },
  {
   "cell_type": "code",
   "execution_count": null,
   "metadata": {},
   "outputs": [],
   "source": [
    "## 黑胡椒 black_pepper"
   ]
  },
  {
   "cell_type": "code",
   "execution_count": 32,
   "metadata": {},
   "outputs": [],
   "source": [
    "for index,row in x_ingr.iterrows():\n",
    "    if re.search('黑胡椒',row.ingredients)!=None:\n",
    "        x_ingr.loc[index,'ingredients']='black_pepper'"
   ]
  },
  {
   "cell_type": "code",
   "execution_count": 40,
   "metadata": {},
   "outputs": [],
   "source": [
    "## 胡椒\n",
    "for index,row in x_ingr.iterrows():\n",
    "    if re.search('胡椒',row.ingredients)!=None:\n",
    "        x_ingr.loc[index,'ingredients']='pepper'"
   ]
  },
  {
   "cell_type": "code",
   "execution_count": null,
   "metadata": {},
   "outputs": [],
   "source": [
    "## cumin -> 小茴香/孜然"
   ]
  },
  {
   "cell_type": "code",
   "execution_count": 4,
   "metadata": {},
   "outputs": [
    {
     "name": "stdout",
     "output_type": "stream",
     "text": [
      "[]\n"
     ]
    }
   ],
   "source": [
    "ziran_str=[]\n",
    "for index,row in x_ingr.iterrows():\n",
    "    if re.search('孜然',row.ingredients)!=None:\n",
    "        ziran_str.append(x_ingr.loc[index,'ingredients'])\n",
    "        #x_ingr.loc[index,'ingredients']='cumin'\n",
    "print(list(set(ziran_str)))"
   ]
  },
  {
   "cell_type": "code",
   "execution_count": null,
   "metadata": {},
   "outputs": [],
   "source": [
    "## 姜 "
   ]
  },
  {
   "cell_type": "code",
   "execution_count": 5,
   "metadata": {
    "scrolled": true
   },
   "outputs": [
    {
     "name": "stdout",
     "output_type": "stream",
     "text": [
      "['老姜丝', '姜花', '生姜蓉', '见普通姜饼屋', '红姜', '姜薄片', '沙姜粉', '鲜姜汁', '姜黄粉', '生姜末', '姜油', '姜比例', '老干姜', '生姜膏', '南姜', '酸姜', '姜汁', '黄姜粉', '香姜', '姜茸', '姜小块', '黄姜', '薄姜片', '生姜', '老姜末', '沙姜片', '高良姜', '泡生姜', '姜', '姜一小块', '腌渍嫩姜', '鲜姜', '木姜子', '生姜粉', '生姜丝', '鲜姜末', '良姜', '姜母', '生姜汁', '肉姜', '姜末', '姜片', '夏日鲜姜', '老姜片', '嫩姜', '南姜梅粉', '泡姜丝', '嫩生姜', '沙姜', '去皮生姜', '生姜片', '生姜沫', '仔姜', '姜丝', '姜水', '姜汁沙拉酱', '姜片数片', '老姜小块', '姜蓉', '姜片片', '生姜切片', '姜泥', '生姜块', '姜饼预拌粉', '姜切丝', '姜沫', '姜块', '姜芽', '沙姜各', '姜米', '木姜子油', '姜粉', '生姜泥', '泡姜', '洋姜', '姜面', '甜姜', '细姜丝', '生姜水', '子姜', '鲜砂姜', '老姜', '鲜姜片']\n"
     ]
    }
   ],
   "source": [
    "jiang_str=[]\n",
    "for index,row in x_ingr.iterrows():\n",
    "    if re.search('姜',row.ingredients)!=None:\n",
    "        jiang_str.append(x_ingr.loc[index,'ingredients'])\n",
    "        #x_ingr.loc[index,'ingredients']='ginger'\n",
    "print(list(set(jiang_str)))"
   ]
  },
  {
   "cell_type": "code",
   "execution_count": 6,
   "metadata": {},
   "outputs": [],
   "source": [
    "## 姜黄 turmeric\n",
    "for index,row in x_ingr.iterrows():\n",
    "    if re.search('姜黄',row.ingredients)!=None:\n",
    "        x_ingr.loc[index,'ingredients']='turmeric'"
   ]
  },
  {
   "cell_type": "code",
   "execution_count": 7,
   "metadata": {},
   "outputs": [],
   "source": [
    "## 良姜 galanga\n",
    "for index,row in x_ingr.iterrows():\n",
    "    if (re.search('良姜',row.ingredients)!=None) or (re.search('南姜',row.ingredients)!=None):\n",
    "         x_ingr.loc[index,'ingredients']='galanga'"
   ]
  },
  {
   "cell_type": "code",
   "execution_count": 8,
   "metadata": {},
   "outputs": [],
   "source": [
    "for index,row in x_ingr.iterrows():\n",
    "    if re.search('姜',row.ingredients)!=None: \n",
    "        x_ingr.loc[index,'ingredients']='ginger'"
   ]
  },
  {
   "cell_type": "code",
   "execution_count": null,
   "metadata": {},
   "outputs": [],
   "source": [
    "## cumin -> 小茴香"
   ]
  },
  {
   "cell_type": "code",
   "execution_count": 14,
   "metadata": {},
   "outputs": [],
   "source": [
    "for index,row in x_ingr.iterrows():\n",
    "    if re.search('小茴香',row.ingredients)!=None:\n",
    "        x_ingr.loc[index,'ingredients']='cumin'"
   ]
  },
  {
   "cell_type": "code",
   "execution_count": null,
   "metadata": {},
   "outputs": [],
   "source": [
    "## chinese_star_anise -> 大茴香/八角"
   ]
  },
  {
   "cell_type": "code",
   "execution_count": 19,
   "metadata": {},
   "outputs": [],
   "source": [
    "#bajiao_str=[]\n",
    "for index,row in x_ingr.iterrows():\n",
    "    if (re.search('大茴香',row.ingredients)!=None) or (re.search('八角',row.ingredients)!=None) or (re.search('大料',row.ingredients)!=None):\n",
    "        #bajiao_str.append(x_ingr.loc[index,'ingredients'])\n",
    "        x_ingr.loc[index,'ingredients']='chinese_star_anise'\n",
    "#print(list(set(bajiao_str)))"
   ]
  },
  {
   "cell_type": "code",
   "execution_count": null,
   "metadata": {},
   "outputs": [],
   "source": [
    "## anise -> 茴香"
   ]
  },
  {
   "cell_type": "code",
   "execution_count": 21,
   "metadata": {},
   "outputs": [],
   "source": [
    "for index,row in x_ingr.iterrows():\n",
    "    if re.search('茴香',row.ingredients)!=None:\n",
    "        #huixiang_str.append(x_ingr.loc[index,'ingredients'])\n",
    "        x_ingr.loc[index,'ingredients']='anise'\n",
    "#print(list(set(huixiang_str)))"
   ]
  },
  {
   "cell_type": "code",
   "execution_count": 23,
   "metadata": {},
   "outputs": [
    {
     "data": {
      "text/html": [
       "<div>\n",
       "<style scoped>\n",
       "    .dataframe tbody tr th:only-of-type {\n",
       "        vertical-align: middle;\n",
       "    }\n",
       "\n",
       "    .dataframe tbody tr th {\n",
       "        vertical-align: top;\n",
       "    }\n",
       "\n",
       "    .dataframe thead th {\n",
       "        text-align: right;\n",
       "    }\n",
       "</style>\n",
       "<table border=\"1\" class=\"dataframe\">\n",
       "  <thead>\n",
       "    <tr style=\"text-align: right;\">\n",
       "      <th></th>\n",
       "      <th>recipe_id</th>\n",
       "      <th>ingredients</th>\n",
       "    </tr>\n",
       "  </thead>\n",
       "  <tbody>\n",
       "    <tr>\n",
       "      <th>123002</th>\n",
       "      <td>103096062</td>\n",
       "      <td>荔枝肉桂圆</td>\n",
       "    </tr>\n",
       "  </tbody>\n",
       "</table>\n",
       "</div>"
      ],
      "text/plain": [
       "        recipe_id ingredients\n",
       "123002  103096062       荔枝肉桂圆"
      ]
     },
     "execution_count": 23,
     "metadata": {},
     "output_type": "execute_result"
    }
   ],
   "source": [
    "x_ingr[x_ingr['ingredients']=='荔枝肉桂圆']"
   ]
  },
  {
   "cell_type": "code",
   "execution_count": 25,
   "metadata": {},
   "outputs": [],
   "source": [
    "x_ingr.loc[123002,'ingredients']='荔枝肉、桂圆'"
   ]
  },
  {
   "cell_type": "code",
   "execution_count": 27,
   "metadata": {},
   "outputs": [
    {
     "data": {
      "text/html": [
       "<div>\n",
       "<style scoped>\n",
       "    .dataframe tbody tr th:only-of-type {\n",
       "        vertical-align: middle;\n",
       "    }\n",
       "\n",
       "    .dataframe tbody tr th {\n",
       "        vertical-align: top;\n",
       "    }\n",
       "\n",
       "    .dataframe thead th {\n",
       "        text-align: right;\n",
       "    }\n",
       "</style>\n",
       "<table border=\"1\" class=\"dataframe\">\n",
       "  <thead>\n",
       "    <tr style=\"text-align: right;\">\n",
       "      <th></th>\n",
       "      <th>recipe_id</th>\n",
       "      <th>ingredients</th>\n",
       "    </tr>\n",
       "  </thead>\n",
       "  <tbody>\n",
       "    <tr>\n",
       "      <th>97075</th>\n",
       "      <td>102219365</td>\n",
       "      <td>香叶草果桂皮</td>\n",
       "    </tr>\n",
       "  </tbody>\n",
       "</table>\n",
       "</div>"
      ],
      "text/plain": [
       "       recipe_id ingredients\n",
       "97075  102219365      香叶草果桂皮"
      ]
     },
     "execution_count": 27,
     "metadata": {},
     "output_type": "execute_result"
    }
   ],
   "source": [
    "x_ingr[x_ingr['ingredients']=='香叶草果桂皮']"
   ]
  },
  {
   "cell_type": "code",
   "execution_count": 28,
   "metadata": {},
   "outputs": [],
   "source": [
    "x_ingr.loc[97075,'ingredients']='香叶、草果、桂皮'"
   ]
  },
  {
   "cell_type": "code",
   "execution_count": 29,
   "metadata": {},
   "outputs": [],
   "source": [
    "x_ingr=explode(x_ingr,'ingredients')"
   ]
  },
  {
   "cell_type": "code",
   "execution_count": null,
   "metadata": {},
   "outputs": [],
   "source": [
    "## cinnamon -> 肉桂"
   ]
  },
  {
   "cell_type": "code",
   "execution_count": 31,
   "metadata": {},
   "outputs": [],
   "source": [
    "for index,row in x_ingr.iterrows():\n",
    "    if (re.search('肉桂',row.ingredients)!=None) or (re.search('桂皮',row.ingredients)!=None):\n",
    "        #rougui_str.append(x_ingr.loc[index,'ingredients'])\n",
    "        x_ingr.loc[index,'ingredients']='cinnamon'\n",
    "#print(list(set(rougui_str)))"
   ]
  },
  {
   "cell_type": "code",
   "execution_count": null,
   "metadata": {},
   "outputs": [],
   "source": [
    "## cardamom -> 豆蔻果实/草果；nutmeg -> 肉豆蔻；豆蒄"
   ]
  },
  {
   "cell_type": "code",
   "execution_count": 139,
   "metadata": {},
   "outputs": [
    {
     "name": "stdout",
     "output_type": "stream",
     "text": [
      "[]\n"
     ]
    }
   ],
   "source": [
    "doukou_str=[]\n",
    "for index,row in x_ingr.iterrows():\n",
    "    if re.search('豆蔻',row.ingredients)!=None:\n",
    "        doukou_str.append(x_ingr.loc[index,'ingredients'])\n",
    "        #x_ingr.loc[index,'ingredients']='chinese_star_anise'\n",
    "print(list(set(doukou_str)))"
   ]
  },
  {
   "cell_type": "code",
   "execution_count": 33,
   "metadata": {},
   "outputs": [],
   "source": [
    "for index,row in x_ingr.iterrows():\n",
    "    if re.search('肉豆蔻',row.ingredients)!=None:\n",
    "        x_ingr.loc[index,'ingredients']='nutmeg'"
   ]
  },
  {
   "cell_type": "code",
   "execution_count": 141,
   "metadata": {},
   "outputs": [],
   "source": [
    "#doukou_str=[]\n",
    "for index,row in x_ingr.iterrows():\n",
    "    if (re.search('豆蔻',row.ingredients)!=None) or (re.search('草果',row.ingredients)!=None) or (re.search('豆蒄',row.ingredients)!=None):\n",
    "        #doukou_str.append(x_ingr.loc[index,'ingredients'])\n",
    "        x_ingr.loc[index,'ingredients']='cardamom'\n",
    "#print(list(set(doukou_str)))"
   ]
  },
  {
   "cell_type": "code",
   "execution_count": null,
   "metadata": {},
   "outputs": [],
   "source": [
    "## parsley -> 洋香菜"
   ]
  },
  {
   "cell_type": "code",
   "execution_count": 42,
   "metadata": {},
   "outputs": [
    {
     "name": "stdout",
     "output_type": "stream",
     "text": [
      "['巴西里']\n"
     ]
    }
   ],
   "source": [
    "xiangcai_str=[]\n",
    "for index,row in x_ingr.iterrows():\n",
    "    if (re.search('巴西里',row.ingredients)!=None) or (re.search('巴西利',row.ingredients)!=None):\n",
    "        xiangcai_str.append(x_ingr.loc[index,'ingredients'])\n",
    "        #x_ingr.loc[index,'ingredients']='cardamom'\n",
    "print(list(set(xiangcai_str)))"
   ]
  },
  {
   "cell_type": "code",
   "execution_count": 43,
   "metadata": {},
   "outputs": [],
   "source": [
    "for index,row in x_ingr.iterrows():\n",
    "    if (re.search('洋香菜',row.ingredients)!=None) or (re.search('芫荽',row.ingredients)!=None) or (re.search('香芹',row.ingredients)!=None) or (re.search('欧芹',row.ingredients)!=None) or (re.search('巴西里',row.ingredients)!=None):\n",
    "        xiangcai_str.append(x_ingr.loc[index,'ingredients'])\n",
    "        x_ingr.loc[index,'ingredients']='parsley'"
   ]
  },
  {
   "cell_type": "code",
   "execution_count": null,
   "metadata": {},
   "outputs": [],
   "source": [
    "## clove -> 丁香"
   ]
  },
  {
   "cell_type": "code",
   "execution_count": 45,
   "metadata": {},
   "outputs": [],
   "source": [
    "for index,row in x_ingr.iterrows():\n",
    "    if (re.search('丁香',row.ingredients)!=None) or (re.search('桃金娘',row.ingredients)!=None):\n",
    "        x_ingr.loc[index,'ingredients']='clove'"
   ]
  },
  {
   "cell_type": "code",
   "execution_count": null,
   "metadata": {},
   "outputs": [],
   "source": [
    "## 香叶 bay_laurel "
   ]
  },
  {
   "cell_type": "code",
   "execution_count": 51,
   "metadata": {},
   "outputs": [],
   "source": [
    "#xiangye_str=[]\n",
    "for index,row in x_ingr.iterrows():\n",
    "    if (re.search('^香叶',row.ingredients)!=None) or (re.search('月桂',row.ingredients)!=None):\n",
    "        xiangye_str.append(x_ingr.loc[index,'ingredients'])\n",
    "        x_ingr.loc[index,'ingredients']='bay_laurel'\n",
    "#print(list(set(xiangye_str)))"
   ]
  },
  {
   "cell_type": "code",
   "execution_count": 54,
   "metadata": {},
   "outputs": [],
   "source": [
    "for index,row in x_ingr.iterrows():\n",
    "    if re.search('bay_laurel ',row.ingredients)!=None:\n",
    "        x_ingr.loc[index,'ingredients']='bay_laurel'"
   ]
  },
  {
   "cell_type": "code",
   "execution_count": null,
   "metadata": {},
   "outputs": [],
   "source": [
    "## rosemary -> 迷迭香"
   ]
  },
  {
   "cell_type": "code",
   "execution_count": 53,
   "metadata": {},
   "outputs": [],
   "source": [
    "for index,row in x_ingr.iterrows():\n",
    "    if re.search('迷迭香',row.ingredients)!=None:\n",
    "        #print(row)\n",
    "        x_ingr.loc[index,'ingredients']='rosemary'"
   ]
  },
  {
   "cell_type": "code",
   "execution_count": null,
   "metadata": {},
   "outputs": [],
   "source": [
    "## mentha -> 薄荷、留兰香"
   ]
  },
  {
   "cell_type": "code",
   "execution_count": 57,
   "metadata": {},
   "outputs": [],
   "source": [
    "for index,row in x_ingr.iterrows():\n",
    "    if re.search('留兰香',row.ingredients)!=None:\n",
    "        x_ingr.loc[index,'ingredients']='spearmint'"
   ]
  },
  {
   "cell_type": "code",
   "execution_count": 59,
   "metadata": {},
   "outputs": [],
   "source": [
    "for index,row in x_ingr.iterrows():\n",
    "    if re.search('薄荷',row.ingredients)!=None:\n",
    "        x_ingr.loc[index,'ingredients']='mint'"
   ]
  },
  {
   "cell_type": "code",
   "execution_count": null,
   "metadata": {},
   "outputs": [],
   "source": [
    "## vanilla -> 香草"
   ]
  },
  {
   "cell_type": "code",
   "execution_count": 76,
   "metadata": {},
   "outputs": [],
   "source": [
    "#xiangcao_str=[]\n",
    "for index,row in x_ingr.iterrows():\n",
    "    if (re.search('香草精',row.ingredients)!=None) or (re.search('香草油',row.ingredients)!=None) or (re.search('香草汁',row.ingredients)!=None):\n",
    "        xiangcao_str.append(x_ingr.loc[index,'ingredients'])\n",
    "        x_ingr.loc[index,'ingredients']='vanilla_oil'\n",
    "#print(list(set(xiangcao_str)))"
   ]
  },
  {
   "cell_type": "code",
   "execution_count": 77,
   "metadata": {},
   "outputs": [],
   "source": [
    "#xiangcao_str=[]\n",
    "for index,row in x_ingr.iterrows():\n",
    "    if re.search('香草',row.ingredients)!=None:\n",
    "        xiangcao_str.append(x_ingr.loc[index,'ingredients'])\n",
    "        x_ingr.loc[index,'ingredients']='vanilla'\n",
    "#print(list(set(xiangcao_str)))"
   ]
  },
  {
   "cell_type": "code",
   "execution_count": null,
   "metadata": {},
   "outputs": [],
   "source": [
    "## basil -> 罗勒"
   ]
  },
  {
   "cell_type": "code",
   "execution_count": 80,
   "metadata": {},
   "outputs": [],
   "source": [
    "#luole_str=[]\n",
    "for index,row in x_ingr.iterrows():\n",
    "    if re.search('罗勒',row.ingredients)!=None:\n",
    "        #luole_str.append(x_ingr.loc[index,'ingredients'])\n",
    "        x_ingr.loc[index,'ingredients']='basil'\n",
    "#print(list(set(luole_str)))"
   ]
  },
  {
   "cell_type": "code",
   "execution_count": 129,
   "metadata": {},
   "outputs": [],
   "source": [
    "x_ingr.to_csv('/home/IW_student/work/food_flavor/ingredient_preprocessing/datasets/x_ingr_3.csv')"
   ]
  },
  {
   "cell_type": "markdown",
   "metadata": {},
   "source": [
    "# vegetables"
   ]
  },
  {
   "cell_type": "code",
   "execution_count": 84,
   "metadata": {},
   "outputs": [],
   "source": [
    "for index,row in x_ingr.iterrows():\n",
    "    if re.search('.*机$',row.ingredients)!=None:\n",
    "        x_ingr.drop(index,inplace=True)"
   ]
  },
  {
   "cell_type": "code",
   "execution_count": 160,
   "metadata": {
    "scrolled": true
   },
   "outputs": [
    {
     "name": "stdout",
     "output_type": "stream",
     "text": [
      "['郫县辣豆瓣', '酸豆角', '花生豆', '豆奶', '扁豆', '老干妈豆豉辣酱', '豆瓣油', '冬豆', '豆渣', '甘纳豆', '豆皮', '豆浆', '豇豆', '绢丝豆花预拌粉', '阳江豆豉', '豆豉', '豆角', '豆芽蚝油', '香磨豆豉酱', '蛇豆', '宽扁豆', '糖豆', '长豆角丁', '豆饼', '豆苗', '老干妈牛肉豆豉酱', '蝶豆花汁液', '蚕豆米', '辣豆瓣醬', '蝶豆花', '豆鼓', '圆豆角', '风味豆豉酱', '风味豆豉', '豆豉辣酱', '烤角豆粉', '无糖豆浆', '豆芽菜', '重油豆瓣辣椒酱', '原味豆奶', '甜豆荚', '老豆角', '豆瓣水', '蝶豆花茶冻成水', '香辣豆豉酱', '连度豆', '豆豉酱', '豆鼓酱', '豆角干', '陴县豆瓣', '甘竹牌豆豉鲮鱼罐头', '纯豆浆粉', '肉末豆芽', '花豆', '豆瓣酱', '荷兰豆', '五香豆干', '豆制品', '豆酱', '水豆豉', '老干妈风味豆豉', '豆面', '扁豆角', '浓豆浆', '蝶豆花茶', '豆薯', '豆瓣菜', '长豆角', '黒豆豉', '兰度豆', '甜豆', '豆瓣辣酱', '辣豆瓣', '豆泡', '豆瓣儿酱', '豆皮丝', '香辣豆豉', '老干妈豆豉', '浏阳豆鼓', '刀豆', '山药豆', '雪豆', '老干妈豆豉辣椒酱', '豆干', '彩色糖豆', '普宁豆酱', '甜豆角', '豆笋', '做成酱香豆角丝炒饼增加下列食材', '豆芽', '罗定豆豉', '白豆干', '鲜豇豆', '泡豇豆', '圆豆', '蚕豆仁', '去皮蚕豆', '肉豆角', '豆豉鲮鱼', '豆筋', '郫县豆酱', '酸豇豆', '豇豆角', '豆粉', '豆豉鲮鱼罐头', '去皮鲜蚕豆', '老干妈豆鼓', '千张豆皮', '豆豉豆瓣蚝油', '豆鼓鲮鱼罐头', '豆皮结', '酸豆', '油豆角', '长豇豆', '眉豆', '老干妈豆豉酱', '豆瓣', '麦豆', '蚕豆', '白扁豆', '永川豆豉', '生豆面', '当然要有豆角', '辣豆豉', '碟豆花泡水', '缸豆', '豆豉香辣酱', '蚕豆瓣', '油豆皮', '纳豆', '豆瓣醬', '长扁豆', '豆卜', '蒸鱼豆豉', '东北豆角', '大扁豆']\n"
     ]
    }
   ],
   "source": [
    "# dou\n",
    "dou_str=[]\n",
    "for index,row in x_ingr.iterrows():\n",
    "    if re.search('豆',row.ingredients)!=None:\n",
    "        dou_str.append(x_ingr.loc[index,'ingredients'])\n",
    "        #x_ingr.loc[index,'ingredients']='mashed_potato'\n",
    "print(list(set(dou_str)))"
   ]
  },
  {
   "cell_type": "code",
   "execution_count": 159,
   "metadata": {},
   "outputs": [],
   "source": [
    "for index,row in x_ingr.iterrows():\n",
    "    if (re.search('^豆$',row.ingredients)!=None)  or (re.search('杂粮豆',row.ingredients)!=None) or (re.search('豆子',row.ingredients)!=None) or (re.search('豆类',row.ingredients)!=None) or (re.search('芸豆',row.ingredients)!=None) or (re.search('云豆',row.ingredients)!=None) or (re.search('杂豆',row.ingredients)!=None):\n",
    "        x_ingr.loc[index,'ingredients']='bean'\n",
    "        #print(row)"
   ]
  },
  {
   "cell_type": "code",
   "execution_count": 144,
   "metadata": {},
   "outputs": [],
   "source": [
    "for index,row in x_ingr.iterrows():\n",
    "    if re.search('豆沙',row.ingredients)!=None:\n",
    "        x_ingr.loc[index,'ingredients']='red_bean'"
   ]
  },
  {
   "cell_type": "code",
   "execution_count": 140,
   "metadata": {},
   "outputs": [],
   "source": [
    "for index,row in x_ingr.iterrows():\n",
    "    if re.search('豆腐',row.ingredients)!=None:\n",
    "        x_ingr.loc[index,'ingredients']='toufu'\n",
    "        #print(row)"
   ]
  },
  {
   "cell_type": "code",
   "execution_count": 134,
   "metadata": {},
   "outputs": [],
   "source": [
    "for index,row in x_ingr.iterrows():\n",
    "    if re.search('^豆沙$',row.ingredients)!=None:\n",
    "        x_ingr.loc[index,'ingredients']='red_bean'\n",
    "        #print(row)"
   ]
  },
  {
   "cell_type": "code",
   "execution_count": 154,
   "metadata": {},
   "outputs": [],
   "source": [
    "for index,row in x_ingr.iterrows():\n",
    "    if (re.search('红腰豆',row.ingredients)!=None) or (re.search('红芸豆',row.ingredients)!=None):\n",
    "        x_ingr.loc[index,'ingredients']='red_kidney_bean'\n",
    "        #print(row)"
   ]
  },
  {
   "cell_type": "code",
   "execution_count": 149,
   "metadata": {},
   "outputs": [],
   "source": [
    "for index,row in x_ingr.iterrows():\n",
    "    if re.search('腰豆',row.ingredients)!=None:\n",
    "        x_ingr.loc[index,'ingredients']='kidney_bean'"
   ]
  },
  {
   "cell_type": "code",
   "execution_count": 132,
   "metadata": {},
   "outputs": [],
   "source": [
    "for index,row in x_ingr.iterrows():\n",
    "    if re.search('可可豆',row.ingredients)!=None:\n",
    "        x_ingr.loc[index,'ingredients']='cocoa'"
   ]
  },
  {
   "cell_type": "code",
   "execution_count": 145,
   "metadata": {},
   "outputs": [],
   "source": [
    "for index,row in x_ingr.iterrows():\n",
    "    if (re.search('chocolate豆',row.ingredients)!=None) or (re.search('朱古力豆',row.ingredients)!=None):\n",
    "        x_ingr.loc[index,'ingredients']='chocolate'"
   ]
  },
  {
   "cell_type": "code",
   "execution_count": 86,
   "metadata": {},
   "outputs": [],
   "source": [
    "# tudou\n",
    "#tudou_str=[]\n",
    "for index,row in x_ingr.iterrows():\n",
    "    if re.search('土豆泥',row.ingredients)!=None:\n",
    "        #tudou_str.append(x_ingr.loc[index,'ingredients'])\n",
    "        x_ingr.loc[index,'ingredients']='mashed_potato'\n",
    "#print(list(set(tudou_str)))"
   ]
  },
  {
   "cell_type": "code",
   "execution_count": 87,
   "metadata": {},
   "outputs": [],
   "source": [
    "for index,row in x_ingr.iterrows():\n",
    "    if re.search('土豆',row.ingredients)!=None:\n",
    "        #tudou_str.append(x_ingr.loc[index,'ingredients'])\n",
    "        x_ingr.loc[index,'ingredients']='potato'"
   ]
  },
  {
   "cell_type": "code",
   "execution_count": null,
   "metadata": {},
   "outputs": [],
   "source": [
    "# pea -> 豌豆 碗豆"
   ]
  },
  {
   "cell_type": "code",
   "execution_count": 151,
   "metadata": {},
   "outputs": [],
   "source": [
    "#wandou_str=[]\n",
    "for index,row in x_ingr.iterrows():\n",
    "    if (re.search('豌豆',row.ingredients)!=None) or (re.search('碗豆',row.ingredients)!=None) or (re.search('青豆',row.ingredients)!=None):\n",
    "        #wandou_str.append(x_ingr.loc[index,'ingredients'])\n",
    "        x_ingr.loc[index,'ingredients']='pea'\n",
    "#print(list(set(wandou_str)))"
   ]
  },
  {
   "cell_type": "code",
   "execution_count": 113,
   "metadata": {},
   "outputs": [],
   "source": [
    "# mung_bean -> 绿豆\n",
    "#lvdou_str=[]\n",
    "for index,row in x_ingr.iterrows():\n",
    "    if re.search('绿豆',row.ingredients)!=None:\n",
    "        #lvdou_str.append(x_ingr.loc[index,'ingredients'])\n",
    "        x_ingr.loc[index,'ingredients']='mung_bean'\n",
    "#print(list(set(lvdou_str)))"
   ]
  },
  {
   "cell_type": "code",
   "execution_count": 112,
   "metadata": {},
   "outputs": [],
   "source": [
    "for index,row in x_ingr.iterrows():\n",
    "    if re.search('绿豆粉',row.ingredients)!=None:\n",
    "        #lvdou_str.append(x_ingr.loc[index,'ingredients'])\n",
    "        x_ingr.loc[index,'ingredients']='mung_vermicelli'"
   ]
  },
  {
   "cell_type": "code",
   "execution_count": null,
   "metadata": {},
   "outputs": [],
   "source": [
    "# black_bean -> 黑豆"
   ]
  },
  {
   "cell_type": "code",
   "execution_count": 146,
   "metadata": {},
   "outputs": [],
   "source": [
    "#heidou_str=[]\n",
    "for index,row in x_ingr.iterrows():\n",
    "    if re.search('黑豆',row.ingredients)!=None:\n",
    "        #heidou_str.append(x_ingr.loc[index,'ingredients'])\n",
    "        x_ingr.loc[index,'ingredients']='black_bean'\n",
    "#print(list(set(heidou_str)))"
   ]
  },
  {
   "cell_type": "code",
   "execution_count": null,
   "metadata": {},
   "outputs": [],
   "source": [
    "## red_bean 红豆 紅豆"
   ]
  },
  {
   "cell_type": "code",
   "execution_count": 156,
   "metadata": {},
   "outputs": [],
   "source": [
    "#hongdou_str=[]\n",
    "for index,row in x_ingr.iterrows():\n",
    "    if (re.search('红.*豆',row.ingredients)!=None) or (re.search('蜜豆',row.ingredients)!=None) or (re.search('密豆',row.ingredients)!=None):\n",
    "        #hongdou_str.append(x_ingr.loc[index,'ingredients'])\n",
    "        x_ingr.loc[index,'ingredients']='red_bean'\n",
    "#print(list(set(hongdou_str)))"
   ]
  },
  {
   "cell_type": "code",
   "execution_count": 158,
   "metadata": {},
   "outputs": [],
   "source": [
    "#hongdou_str=[]\n",
    "for index,row in x_ingr.iterrows():\n",
    "    if (re.search('赤豆',row.ingredients)!=None) or (re.search('小豆',row.ingredients)!=None) or (re.search('紅豆',row.ingredients)!=None):\n",
    "        #hongdou_str.append(x_ingr.loc[index,'ingredients'])\n",
    "        x_ingr.loc[index,'ingredients']='red_bean'\n",
    "#print(list(set(hongdou_str)))"
   ]
  },
  {
   "cell_type": "code",
   "execution_count": null,
   "metadata": {},
   "outputs": [],
   "source": [
    "# soybean -> 黄豆"
   ]
  },
  {
   "cell_type": "code",
   "execution_count": 124,
   "metadata": {},
   "outputs": [],
   "source": [
    "for index,row in x_ingr.iterrows():\n",
    "    if (re.search('黄豆酱',row.ingredients)!=None) or (re.search('大豆',row.ingredients)!=None):\n",
    "        #huangdou_str.append(x_ingr.loc[index,'ingredients'])\n",
    "        x_ingr.loc[index,'ingredients']='soybean_paste'"
   ]
  },
  {
   "cell_type": "code",
   "execution_count": 150,
   "metadata": {},
   "outputs": [],
   "source": [
    "#huangdou_str=[]\n",
    "for index,row in x_ingr.iterrows():\n",
    "    if (re.search('黄豆',row.ingredients)!=None) or (re.search('大豆',row.ingredients)!=None) or (re.search('毛豆',row.ingredients)!=None):\n",
    "        #huangdou_str.append(x_ingr.loc[index,'ingredients'])\n",
    "        x_ingr.loc[index,'ingredients']='soybean'\n",
    "#print(list(set(huangdou_str)))"
   ]
  },
  {
   "cell_type": "code",
   "execution_count": null,
   "metadata": {},
   "outputs": [],
   "source": [
    "## 四季豆 snap_bean"
   ]
  },
  {
   "cell_type": "code",
   "execution_count": 127,
   "metadata": {},
   "outputs": [],
   "source": [
    "#huangdou_str=[]\n",
    "for index,row in x_ingr.iterrows():\n",
    "    if re.search('四季豆',row.ingredients)!=None:\n",
    "        #huangdou_str.append(x_ingr.loc[index,'ingredients'])\n",
    "        x_ingr.loc[index,'ingredients']='snap_bean'\n",
    "#print(list(set(huangdou_str)))"
   ]
  },
  {
   "cell_type": "code",
   "execution_count": 128,
   "metadata": {},
   "outputs": [],
   "source": [
    "# chickpea -> 鹰嘴豆\n",
    "for index,row in x_ingr.iterrows():\n",
    "    if re.search('鹰嘴豆',row.ingredients)!=None:\n",
    "        #huangdou_str.append(x_ingr.loc[index,'ingredients'])\n",
    "        x_ingr.loc[index,'ingredients']='chickpea'"
   ]
  },
  {
   "cell_type": "code",
   "execution_count": null,
   "metadata": {},
   "outputs": [],
   "source": [
    "# garlic -> 大蒜"
   ]
  },
  {
   "cell_type": "code",
   "execution_count": 101,
   "metadata": {},
   "outputs": [],
   "source": [
    "for index,row in x_ingr.iterrows():\n",
    "    if (re.search('蒜台',row.ingredients)!=None) or (re.search('蒜苗',row.ingredients)!=None) or (re.search('蒜薹',row.ingredients)!=None) or (re.search('蒜苔',row.ingredients)!=None):\n",
    "        #suan_str.append(x_ingr.loc[index,'ingredients'])\n",
    "        x_ingr.loc[index,'ingredients']='garlic_moss'"
   ]
  },
  {
   "cell_type": "code",
   "execution_count": 102,
   "metadata": {
    "collapsed": true
   },
   "outputs": [
    {
     "name": "stdout",
     "output_type": "stream",
     "text": [
      "['蒜汁', '青大蒜', '蒜瓣末', '大蒜梗', '大蒜叶', '蒜叶', '蒜肉', '蒜备用', '青蒜', '蒜粉', '炸蒜蓉', '青苗蒜', '大蒜子', '大蒜白', '青蒜叶', '大蒜坨', '炸蒜瓣', '大蒜头', '蒜瓣', '白皮蒜', '新大蒜', '独头蒜', '大蒜切段', '大蒜', '青蒜丝', '炸蒜米', '蒜青', '蒜头', '蒜片儿', '蒜瓣儿', '蒜', '大蒜蒜瓣', '蒜米', '大蒜无数', '酸蒜头', '蒜花', '蒜容', '生蒜蓉', '剁大蒜', '蒜蓉', '糖蒜', '蒜籽', '蒜片！', '蒜比例', '葱蒜', '蒜未', '青蒜段', '生蒜', '蒜泥', '大蒜籽', '新蒜', '大蒜半', '大蒜末', '蒜膏', '蒜拍', '紫皮蒜', '大蒜片', '蒜頭', '圆头蒜', '蒜洋葱', '五瓣蒜', '蒜三瓣', '几瓣蒜', '小蒜', '大蒜瓣', '调料蒜', '蒜绿', '蒜黄', '犬蒜头', '腊八蒜', '青蒜末', '蒜茸汁', '蒜沫', '大蒜粉', '蒜蓉丁', '蒜子', '蒜拍扁', '蒜茸', '蒜末', '蒜片', '蒜盐', '蒜切片', '蒜段', '蒜末各', '料汁蒜泥', '炸金蒜', '青蒜杆', '单仁蒜头', '炸蒜酥', '香蒜', '蒜水', '整蒜', '独蒜头', '蒜干辣椒', '独蒜', '蒜泥水', '瓣蒜']\n"
     ]
    }
   ],
   "source": [
    "suan_str=[]\n",
    "for index,row in x_ingr.iterrows():\n",
    "    if re.search('蒜',row.ingredients)!=None:\n",
    "        suan_str.append(x_ingr.loc[index,'ingredients'])\n",
    "        #x_ingr.loc[index,'ingredients']='garlic_sauce'\n",
    "print(list(set(suan_str)))"
   ]
  },
  {
   "cell_type": "code",
   "execution_count": 103,
   "metadata": {},
   "outputs": [],
   "source": [
    "for index,row in x_ingr.iterrows():\n",
    "    if re.search('蒜',row.ingredients)!=None:\n",
    "        #suan_str.append(x_ingr.loc[index,'ingredients'])\n",
    "        x_ingr.loc[index,'ingredients']='garlic'"
   ]
  },
  {
   "cell_type": "code",
   "execution_count": null,
   "metadata": {},
   "outputs": [],
   "source": [
    "# onion -> 洋葱"
   ]
  },
  {
   "cell_type": "code",
   "execution_count": 105,
   "metadata": {},
   "outputs": [],
   "source": [
    "#yangcong_str=[]\n",
    "for index,row in x_ingr.iterrows():\n",
    "    if re.search('洋葱',row.ingredients)!=None:\n",
    "        #yangcong_str.append(x_ingr.loc[index,'ingredients'])\n",
    "        x_ingr.loc[index,'ingredients']='onion'\n",
    "#print(list(set(yangcong_str)))"
   ]
  },
  {
   "cell_type": "code",
   "execution_count": null,
   "metadata": {},
   "outputs": [],
   "source": [
    "# scallion -> 葱"
   ]
  },
  {
   "cell_type": "code",
   "execution_count": 24,
   "metadata": {},
   "outputs": [],
   "source": [
    "for index,row in x_ingr.iterrows():\n",
    "    if re.search('葱伴侣',row.ingredients)!=None:\n",
    "        #x_ingr.loc[index,'ingredients']=re.sub('葱伴侣','',row.ingredients)\n",
    "        print(row)"
   ]
  },
  {
   "cell_type": "code",
   "execution_count": 109,
   "metadata": {},
   "outputs": [],
   "source": [
    "#cong_str=[]\n",
    "for index,row in x_ingr.iterrows():\n",
    "    if re.search('葱',row.ingredients)!=None:\n",
    "        #cong_str.append(x_ingr.loc[index,'ingredients'])\n",
    "        x_ingr.loc[index,'ingredients']='scallion'\n",
    "#print(list(set(cong_str)))"
   ]
  },
  {
   "cell_type": "code",
   "execution_count": null,
   "metadata": {},
   "outputs": [],
   "source": [
    "# 菇 "
   ]
  },
  {
   "cell_type": "code",
   "execution_count": 35,
   "metadata": {
    "scrolled": false
   },
   "outputs": [
    {
     "name": "stdout",
     "output_type": "stream",
     "text": [
      "[]\n"
     ]
    }
   ],
   "source": [
    "gu_str=[]\n",
    "for index,row in x_ingr.iterrows():\n",
    "    if re.search('菇',row.ingredients)!=None:\n",
    "        gu_str.append(x_ingr.loc[index,'ingredients'])   \n",
    "print(list(set(gu_str)))"
   ]
  },
  {
   "cell_type": "code",
   "execution_count": 38,
   "metadata": {},
   "outputs": [],
   "source": [
    "for index,row in x_ingr.iterrows():\n",
    "    if re.search('蘑',row.ingredients)!=None:\n",
    "        x_ingr.loc[index,'ingredients']='mushroom'  "
   ]
  },
  {
   "cell_type": "code",
   "execution_count": 32,
   "metadata": {},
   "outputs": [],
   "source": [
    "for index,row in x_ingr.iterrows():\n",
    "    if re.search('菌菇味浓汤宝',row.ingredients)!=None:\n",
    "        x_ingr.loc[index,'ingredients'] ='浓汤宝' "
   ]
  },
  {
   "cell_type": "code",
   "execution_count": 33,
   "metadata": {},
   "outputs": [],
   "source": [
    "for index,row in x_ingr.iterrows():\n",
    "    if re.search('菇娘果',row.ingredients)!=None:\n",
    "        x_ingr.loc[index,'ingredients'] ='水果' "
   ]
  },
  {
   "cell_type": "code",
   "execution_count": 34,
   "metadata": {},
   "outputs": [],
   "source": [
    "for index,row in x_ingr.iterrows():\n",
    "    if re.search('菇',row.ingredients)!=None:\n",
    "        x_ingr.loc[index,'ingredients']='mushroom'"
   ]
  },
  {
   "cell_type": "code",
   "execution_count": 27,
   "metadata": {},
   "outputs": [],
   "source": [
    "for index,row in x_ingr.iterrows():\n",
    "    if re.search('草菇老抽',row.ingredients)!=None:\n",
    "        x_ingr.loc[index,'ingredients']='soysauce'"
   ]
  },
  {
   "cell_type": "code",
   "execution_count": 28,
   "metadata": {},
   "outputs": [],
   "source": [
    "# shiitake -> 香菇\n",
    "for index,row in x_ingr.iterrows():\n",
    "    if (re.search('香菇',row.ingredients)!=None) or (re.search('冬菇',row.ingredients)!=None):\n",
    "        x_ingr.loc[index,'ingredients']='shiitake'"
   ]
  },
  {
   "cell_type": "code",
   "execution_count": 22,
   "metadata": {},
   "outputs": [],
   "source": [
    "## porcini -> 牛肝菌\n",
    "for index,row in x_ingr.iterrows():\n",
    "    if re.search('牛肝菌',row.ingredients)!=None: \n",
    "        x_ingr.loc[index,'ingredients']='porcini'"
   ]
  },
  {
   "cell_type": "code",
   "execution_count": 30,
   "metadata": {},
   "outputs": [],
   "source": [
    "#  enokidake -> 金针菇\n",
    "for index,row in x_ingr.iterrows():\n",
    "    if (re.search('金针菇',row.ingredients)!=None) or (re.search('金钱菇',row.ingredients)!=None):\n",
    "        x_ingr.loc[index,'ingredients']='enokidake'"
   ]
  },
  {
   "cell_type": "code",
   "execution_count": null,
   "metadata": {},
   "outputs": [],
   "source": [
    "# agaricus -> 姬松茸"
   ]
  },
  {
   "cell_type": "code",
   "execution_count": 25,
   "metadata": {},
   "outputs": [],
   "source": [
    "for index,row in x_ingr.iterrows():\n",
    "    if re.search('姬松茸',row.ingredients)!=None:\n",
    "        x_ingr.loc[index,'ingredients']='agaricus'"
   ]
  },
  {
   "cell_type": "code",
   "execution_count": 26,
   "metadata": {},
   "outputs": [],
   "source": [
    "# matsutake -> 松茸\n",
    "for index,row in x_ingr.iterrows():\n",
    "    if re.search('松茸',row.ingredients)!=None:\n",
    "        x_ingr.loc[index,'ingredients']='matsutake'"
   ]
  },
  {
   "cell_type": "code",
   "execution_count": null,
   "metadata": {},
   "outputs": [],
   "source": [
    "# 萝卜"
   ]
  },
  {
   "cell_type": "code",
   "execution_count": 45,
   "metadata": {
    "collapsed": true
   },
   "outputs": [
    {
     "name": "stdout",
     "output_type": "stream",
     "text": [
      "['萝卜小', '小萝卜苗', '象牙白大萝卜', '萝卜丝', '白萝卜皮', '小红萝卜', '萝卜均可', '潮汕萝卜仔', '卫青萝卜', '红皮萝卜', '萝卜皮', '日本萝卜', '萝卜泥', '萝卜丁', '萝卜', '象牙白萝卜', '普通大小绿萝卜', '洋花萝卜', '樱桃小萝卜', '水萝卜', '中等大小萝卜', '白萝卜片', '小水萝卜', '萝卜片', '红萝卜丁', '白萝卜丝', '白萝卜', '绿萝卜', '樱桃萝卜', '红萝卜丝', '白萝卜块', '红萝卜肉饼', '小萝卜', '红萝卜', '萝卜苗', '黄萝卜', '长萝卜', '心里美萝卜', '樱桃水萝卜', '红萝卜切丁', '甜水萝卜', '青萝卜', '红萝卜块', '白萝卜丝儿', '红萝卜半根', '刀把萝卜', '大白萝卜']\n"
     ]
    }
   ],
   "source": [
    "luobo_str=[]\n",
    "for index,row in x_ingr.iterrows():\n",
    "    if re.search('萝卜',row.ingredients)!=None:\n",
    "        luobo_str.append(x_ingr.loc[index,'ingredients'])   \n",
    "print(list(set(luobo_str)))"
   ]
  },
  {
   "cell_type": "code",
   "execution_count": 42,
   "metadata": {},
   "outputs": [],
   "source": [
    "# carrot -> 胡萝卜\n",
    "for index,row in x_ingr.iterrows():\n",
    "    if re.search('胡萝卜',row.ingredients)!=None:\n",
    "        x_ingr.loc[index,'ingredients']='carrot'   "
   ]
  },
  {
   "cell_type": "code",
   "execution_count": 44,
   "metadata": {},
   "outputs": [],
   "source": [
    "for index,row in x_ingr.iterrows():\n",
    "    if (re.search('泡菜萝卜',row.ingredients)!=None) or (re.search('腌萝卜',row.ingredients)!=None) or (re.search('辣萝卜',row.ingredients)!=None) or (re.search('酸萝卜',row.ingredients)!=None) or (re.search('萝卜干',row.ingredients)!=None) or (re.search('酱萝卜',row.ingredients)!=None) or (re.search('甜萝卜',row.ingredients)!=None):\n",
    "        x_ingr.loc[index,'ingredients']='fermented_radish'        "
   ]
  },
  {
   "cell_type": "code",
   "execution_count": 46,
   "metadata": {},
   "outputs": [],
   "source": [
    "for index,row in x_ingr.iterrows():\n",
    "    if re.search('萝卜',row.ingredients)!=None:\n",
    "        x_ingr.loc[index,'ingredients']='radish' "
   ]
  },
  {
   "cell_type": "code",
   "execution_count": 65,
   "metadata": {},
   "outputs": [
    {
     "name": "stdout",
     "output_type": "stream",
     "text": [
      "['辣椒花椒油', '韩国辣椒面', '红辣椒粉', '辣椒干', '红辣椒剁椒', '红辣椒干', '熟油辣椒', '辣椒酱', '辣椒节', '重油豆瓣辣椒酱', '市售瓶装剁辣椒', '秘制熟油辣椒', '老干妈油辣椒', '鲜红辣椒', '辣椒', '辣椒片', '鲜辣椒根', '磨辣椒', '青辣椒剁椒', '墨西哥辣椒粉', '辣椒糊', '红辣椒段', '小干辣椒', '二荆条辣椒', '普通红辣椒', '红辣椒末', '辣椒油', '辣椒圈', '红干辣椒', '红辣椒红尖椒', '老干妈红油辣椒', '墨西哥辣椒酱', '辣椒切断', '老干妈辣椒酱', '尖红辣椒', '辣椒仔', '是拉差辣椒酱', '糟辣椒', '生辣椒', '辣椒段', '四川泡辣椒', '红辣椒', '红色干辣椒', '韩国辣椒粉', '红制辣椒', '辣椒皮', '自贡七星椒干辣椒面', '辣椒面', '油泼辣椒', '糊辣椒粉', '韩式辣椒酱', '调味料老干妈油辣椒', '小尖红辣椒', '甜辣椒粉', '红辣椒油', '去籽干辣椒段', '放干辣椒', '红油辣椒油', '辣椒粉五香粉咖喱等', '红油辣椒', '酒酿辣椒', '鲜辣椒', '老干妈豆豉辣椒酱', '青辣椒红辣椒', '制过辣椒酱', '红辣椒?️', '油辣椒', '红辣椒丁', '浸辣椒', '老干妈辣三丁油辣椒', '特细辣椒粉', '大冲辣椒酱', '线辣椒', '小青辣椒', '辣椒条', '墨西哥辣椒', '辣椒若', '白干辣椒', '剁椒辣椒酱', '韩式辣椒粉', '辣椒末', '辣椒粉', '青辣椒', '辣椒红油', '细辣椒', '泡菜用辣椒粉', '七星干辣椒段', '泡红辣椒', '酸辣椒', '四川泡红辣椒', '粗辣椒面', '辣椒粉粉', '调味辣椒面', '卡宴辣椒', '墨西哥干辣椒粉', '干辣椒', '红辣椒面', '重庆干红辣椒', '辣椒面佐料', '韩国辣椒', '香料干辣椒', '红辣椒支', '桂林辣椒酱', '韩国辣椒酱', '辣椒花椒', '辣椒只', '外婆剁辣椒', '剁辣椒', '泡辣椒', '妈妈秘制辣椒酱']\n"
     ]
    }
   ],
   "source": [
    "# 椒\n",
    "jiao_str=[]\n",
    "for index,row in x_ingr.iterrows():\n",
    "    if re.search('辣椒',row.ingredients)!=None:\n",
    "        jiao_str.append(x_ingr.loc[index,'ingredients'])   \n",
    "print(list(set(jiao_str)))"
   ]
  },
  {
   "cell_type": "code",
   "execution_count": 55,
   "metadata": {},
   "outputs": [],
   "source": [
    "# green_bell_pepper -> green_bell_pepper\n",
    "for index,row in x_ingr.iterrows():\n",
    "    if (re.search('青灯笼椒',row.ingredients)!=None) or (re.search('青柿子椒',row.ingredients)!=None) or (re.search('^青椒$',row.ingredients)!=None) or (re.search('绿柿子椒',row.ingredients)!=None) or (re.search('青甜椒',row.ingredients)!=None):\n",
    "        x_ingr.loc[index,'ingredients']='green_bell_pepper'       "
   ]
  },
  {
   "cell_type": "code",
   "execution_count": 69,
   "metadata": {},
   "outputs": [],
   "source": [
    "for index,row in x_ingr.iterrows():\n",
    "    if (re.search('灯笼椒',row.ingredients)!=None) or (re.search('柿子椒',row.ingredients)!=None) or (re.search('甜椒',row.ingredients)!=None) or (re.search('菜椒',row.ingredients)!=None):\n",
    "        x_ingr.loc[index,'ingredients']='bell_pepper'    "
   ]
  },
  {
   "cell_type": "code",
   "execution_count": 58,
   "metadata": {},
   "outputs": [],
   "source": [
    "for index,row in x_ingr.iterrows():\n",
    "    if (re.search('青红辣椒',row.ingredients)!=None) or (re.search('黄辣椒',row.ingredients)!=None) or (re.search('辣椒丝',row.ingredients)!=None) or (re.search('绿辣椒',row.ingredients)!=None) or (re.search('灯笼辣椒',row.ingredients)!=None):\n",
    "        x_ingr.loc[index,'ingredients']='bell_pepper'    "
   ]
  },
  {
   "cell_type": "code",
   "execution_count": 60,
   "metadata": {},
   "outputs": [],
   "source": [
    "for index,row in x_ingr.iterrows():\n",
    "    if (re.search('指天椒',row.ingredients)!=None) or (re.search('朝天椒',row.ingredients)!=None) or (re.search('小米辣',row.ingredients)!=None) or (re.search('小米椒',row.ingredients)!=None):\n",
    "        x_ingr.loc[index,'ingredients']='thai_pepper' "
   ]
  },
  {
   "cell_type": "code",
   "execution_count": 61,
   "metadata": {},
   "outputs": [],
   "source": [
    "for index,row in x_ingr.iterrows():\n",
    "    if (re.search('小红辣椒',row.ingredients)!=None) or (re.search('小辣椒',row.ingredients)!=None) or (re.search('小米辣',row.ingredients)!=None) or (re.search('小米椒',row.ingredients)!=None):\n",
    "        x_ingr.loc[index,'ingredients']='thai_pepper' "
   ]
  },
  {
   "cell_type": "code",
   "execution_count": 64,
   "metadata": {},
   "outputs": [],
   "source": [
    "for index,row in x_ingr.iterrows():\n",
    "    if (re.search('朝天辣椒',row.ingredients)!=None) or (re.search('小红.*辣椒',row.ingredients)!=None) or (re.search('尖辣椒',row.ingredients)!=None) or (re.search('子弹头辣椒',row.ingredients)!=None):\n",
    "        x_ingr.loc[index,'ingredients']='thai_pepper' "
   ]
  },
  {
   "cell_type": "code",
   "execution_count": 66,
   "metadata": {},
   "outputs": [],
   "source": [
    "# tabasco_pepper\n",
    "for index,row in x_ingr.iterrows():\n",
    "    if re.search('墨西哥辣椒',row.ingredients)!=None:\n",
    "        x_ingr.loc[index,'ingredients']='tabasco_pepper' "
   ]
  },
  {
   "cell_type": "code",
   "execution_count": 115,
   "metadata": {
    "scrolled": true
   },
   "outputs": [
    {
     "name": "stdout",
     "output_type": "stream",
     "text": [
      "['菠菜色拉', '淡菜', '韩式泡菜', '云南酸腌菜', '东北酸菜', '发菜丸子', '面条菜', '空心菜秆', '蓬蒿菜', '莧菜', '仁汉菜', '酸菜鱼调料', '小菜', '芥菜丛', '配菜', '宗家府泡菜', '腌咸菜', '波菜', '腌雪菜', '酸腌菜', '盒装混合沙拉菜', '黄心菜', '红菜苔', '咸菜', '盖菜', '瓶装橄榄菜', '野荠菜', '儿菜', '炸菜丝', '泡菜汤', '紫贝菜', '菜根', '青苋菜', '荠菜木耳猪肉', '嫩芽菜', '地菜花', '洋菜粉', '海底捞酸菜鱼调味料', '榨菜鲜肉馅', '老坛酸菜', '宗家府切件泡菜', '芽菜末', '血皮菜', '榄菜', '色拉菜', '老坛泡菜水', '沙拉菜', '有机菜花', '荠菜', '洪山菜薹', '菜脯', '菜干', '荠菜花', '苤菜根', '云南酸菜', '针菜', '菜苔', '黄芽菜', '菠菜一小把', '涪陵榨菜', '韮菜', '泡菜盐', '嫩菠菜', '榨菜', '罐装橄榄菜', '空心菜', '菜板', '什锦杂菜', '自腌雪菜', '发菜', '野蕨菜', '梅菜', '牛心菜', '芥菜疙瘩', '菠菜', '宜宾芽菜', '小菠菜', '青江菜', '泡菜', '雪菜', '蕨菜', '烂腌菜', '头菜', '菠菜粉', '酸菜调料包', '榨菜丝', '野生蕨菜', '红苋菜', '苋菜', '凉拌菜', '菠菜泥', '小咸菜', '菱角菜', '小菜秧', '空心菜梗', '绍兴霉干菜', '橄榄菜', '莲菜', '杂菜', '霉干菜', '涪陵榨菜丝', '潮汕冬菜', '泡菜用辣椒粉', '芽菜', '空心菜茎', '韩国泡菜', '紫苣等杂菜', '榨菜末', '惠州甜梅菜', '酸甜榨菜', '豆芽菜', '散式菜花', '泡菜酱', '冬菜', '米芽菜', '配菜青红椒', '水东芥菜', '荠荠菜', '菠菜面', '有机菠菜', '塔菜', '酸菜', '酸菜鱼调料包', '乌江榨菜', '四川酸菜', '芥菜', '梅干菜', '海底捞酸菜鱼调料', '高丽菜', '金针菜', '鱼酸菜', '茼蒿菜', '各式火锅涮菜', '芽菜肉绍', '四川泡酸菜', '狗牙菜', '芥菜头', '木耳菜', '菜', '蒿菜']\n"
     ]
    }
   ],
   "source": [
    "# 菜\n",
    "cai_str=[]\n",
    "for index,row in x_ingr.iterrows():\n",
    "    if re.search('菜',row.ingredients)!=None:\n",
    "        cai_str.append(x_ingr.loc[index,'ingredients'])   \n",
    "print(list(set(cai_str)))"
   ]
  },
  {
   "cell_type": "code",
   "execution_count": 113,
   "metadata": {},
   "outputs": [],
   "source": [
    "# algae\n",
    "for index,row in x_ingr.iterrows():\n",
    "    if re.search('紫菜',row.ingredients)!=None:\n",
    "        x_ingr.loc[index,'ingredients']='algae'"
   ]
  },
  {
   "cell_type": "code",
   "execution_count": 110,
   "metadata": {},
   "outputs": [],
   "source": [
    "for index,row in x_ingr.iterrows():\n",
    "    if re.search('青菜',row.ingredients)!=None:\n",
    "        x_ingr.loc[index,'ingredients']='vegetable'"
   ]
  },
  {
   "cell_type": "code",
   "execution_count": 114,
   "metadata": {},
   "outputs": [],
   "source": [
    "for index,row in x_ingr.iterrows():\n",
    "    if (re.search('菜叶',row.ingredients)!=None) or (re.search('菜汁',row.ingredients)!=None) or (re.search('炒菜',row.ingredients)!=None) or (re.search('绿叶菜',row.ingredients)!=None) or (re.search('素菜',row.ingredients)!=None) or (re.search('菜芯',row.ingredients)!=None) or (re.search('菜心',row.ingredients)!=None) or (re.search('叶子菜',row.ingredients)!=None):\n",
    "        x_ingr.loc[index,'ingredients']='vegetable'"
   ]
  },
  {
   "cell_type": "code",
   "execution_count": 111,
   "metadata": {},
   "outputs": [],
   "source": [
    "for index,row in x_ingr.iterrows():\n",
    "    if re.search('大头菜',row.ingredients)!=None:\n",
    "        x_ingr.loc[index,'ingredients']='rutabaga'"
   ]
  },
  {
   "cell_type": "code",
   "execution_count": 94,
   "metadata": {},
   "outputs": [],
   "source": [
    "#cai_str=[]\n",
    "for index,row in x_ingr.iterrows():\n",
    "    if re.search('蔬菜',row.ingredients)!=None:\n",
    "        x_ingr.loc[index,'ingredients']='vegetable' \n",
    "        #cai_str.append(x_ingr.loc[index,'ingredients'])   \n",
    "#print(list(set(cai_str)))"
   ]
  },
  {
   "cell_type": "code",
   "execution_count": null,
   "metadata": {},
   "outputs": [],
   "source": [
    "# cauliflower -> 菜花"
   ]
  },
  {
   "cell_type": "code",
   "execution_count": 104,
   "metadata": {},
   "outputs": [],
   "source": [
    "for index,row in x_ingr.iterrows():\n",
    "    if (re.search('^菜花$',row.ingredients)!=None) or (re.search('花菜',row.ingredients)!=None) or (re.search('花椰菜',row.ingredients)!=None) or (re.search('有机花菜',row.ingredients)!=None) or (re.search('散花菜',row.ingredients)!=None):\n",
    "        x_ingr.loc[index,'ingredients']='cauliflower' "
   ]
  },
  {
   "cell_type": "code",
   "execution_count": null,
   "metadata": {},
   "outputs": [],
   "source": [
    "# broccoli -> 西兰花"
   ]
  },
  {
   "cell_type": "code",
   "execution_count": 77,
   "metadata": {},
   "outputs": [],
   "source": [
    "for index,row in x_ingr.iterrows():\n",
    "    if re.search('西兰花',row.ingredients)!=None:\n",
    "        x_ingr.loc[index,'ingredients']='broccoli'"
   ]
  },
  {
   "cell_type": "code",
   "execution_count": null,
   "metadata": {},
   "outputs": [],
   "source": [
    "# chinese_cabbage -> 白菜"
   ]
  },
  {
   "cell_type": "code",
   "execution_count": 108,
   "metadata": {},
   "outputs": [],
   "source": [
    "#cai_str=[]\n",
    "for index,row in x_ingr.iterrows():\n",
    "    if (re.search('小白菜',row.ingredients)!=None) or (re.search('油.*菜',row.ingredients)!=None) or (re.search('上海青',row.ingredients)!=None) or (re.search('^青菜$',row.ingredients)!=None) or (re.search('鸡毛菜',row.ingredients)!=None) or (re.search('小油菜',row.ingredients)!=None):\n",
    "        x_ingr.loc[index,'ingredients']='vegetable'\n",
    "        #cai_str.append(x_ingr.loc[index,'ingredients']) \n",
    "#print(list(set(cai_str)))"
   ]
  },
  {
   "cell_type": "code",
   "execution_count": 103,
   "metadata": {},
   "outputs": [],
   "source": [
    "#cai_str=[]\n",
    "for index,row in x_ingr.iterrows():\n",
    "    if (re.search('白菜',row.ingredients)!=None) or (re.search('娃娃菜',row.ingredients)!=None) :\n",
    "        x_ingr.loc[index,'ingredients']='chinese_cabbage'\n",
    "        #cai_str.append(x_ingr.loc[index,'ingredients']) \n",
    "#print(list(set(cai_str)))"
   ]
  },
  {
   "cell_type": "code",
   "execution_count": null,
   "metadata": {},
   "outputs": [],
   "source": [
    "# watercress -> 豆瓣菜/西洋菜"
   ]
  },
  {
   "cell_type": "code",
   "execution_count": 81,
   "metadata": {},
   "outputs": [],
   "source": [
    "for index,row in x_ingr.iterrows():\n",
    "    if (re.search('豆瓣菜',row.ingredients)!=None) or (re.search('西洋菜',row.ingredients)!=None):\n",
    "        x_ingr.loc[index,'ingredients']='watercress'"
   ]
  },
  {
   "cell_type": "code",
   "execution_count": null,
   "metadata": {},
   "outputs": [],
   "source": [
    "# cabbage -> 卷心菜"
   ]
  },
  {
   "cell_type": "code",
   "execution_count": 96,
   "metadata": {},
   "outputs": [],
   "source": [
    "#cai_str=[]\n",
    "for index,row in x_ingr.iterrows():\n",
    "    if (re.search('包菜',row.ingredients)!=None) or (re.search('卷心菜',row.ingredients)!=None) or (re.search('包心菜',row.ingredients)!=None) or (re.search('通心菜',row.ingredients)!=None):\n",
    "        x_ingr.loc[index,'ingredients']='cabbage'\n",
    "        #cai_str.append(x_ingr.loc[index,'ingredients']) \n",
    "#print(list(set(cai_str)))"
   ]
  },
  {
   "cell_type": "code",
   "execution_count": null,
   "metadata": {},
   "outputs": [],
   "source": [
    "# nira -> 韭菜韮菜"
   ]
  },
  {
   "cell_type": "code",
   "execution_count": 116,
   "metadata": {},
   "outputs": [],
   "source": [
    "#cai_str=[]\n",
    "for index,row in x_ingr.iterrows():\n",
    "    if (re.search('韭菜',row.ingredients)!=None) or (re.search('韮菜',row.ingredients)!=None):\n",
    "        x_ingr.loc[index,'ingredients']='nira'\n",
    "        #cai_str.append(x_ingr.loc[index,'ingredients']) \n",
    "#print(list(set(cai_str)))"
   ]
  },
  {
   "cell_type": "code",
   "execution_count": null,
   "metadata": {},
   "outputs": [],
   "source": [
    "# lettuce -> 生菜"
   ]
  },
  {
   "cell_type": "code",
   "execution_count": 91,
   "metadata": {},
   "outputs": [],
   "source": [
    "for index,row in x_ingr.iterrows():\n",
    "    if re.search('生菜',row.ingredients)!=None:\n",
    "        x_ingr.loc[index,'ingredients']='lettuce'    "
   ]
  },
  {
   "cell_type": "code",
   "execution_count": 93,
   "metadata": {},
   "outputs": [],
   "source": [
    "# celery -> 芹菜\n",
    "for index,row in x_ingr.iterrows():\n",
    "    if re.search('芹菜',row.ingredients)!=None:\n",
    "        x_ingr.loc[index,'ingredients']='celery'    "
   ]
  },
  {
   "cell_type": "code",
   "execution_count": null,
   "metadata": {},
   "outputs": [],
   "source": [
    "# caraway_seed -> 香菜种子"
   ]
  },
  {
   "cell_type": "code",
   "execution_count": 99,
   "metadata": {},
   "outputs": [],
   "source": [
    "for index,row in x_ingr.iterrows():\n",
    "    if re.search('香菜籽',row.ingredients)!=None:\n",
    "        x_ingr.loc[index,'ingredients']='caraway_seed' "
   ]
  },
  {
   "cell_type": "code",
   "execution_count": 100,
   "metadata": {},
   "outputs": [],
   "source": [
    "for index,row in x_ingr.iterrows():\n",
    "    if re.search('香菜',row.ingredients)!=None:\n",
    "        x_ingr.loc[index,'ingredients']='caraway' "
   ]
  },
  {
   "cell_type": "code",
   "execution_count": null,
   "metadata": {},
   "outputs": [],
   "source": [
    "# beet_juice -> 甜菜汁; beet -> 甜菜"
   ]
  },
  {
   "cell_type": "code",
   "execution_count": 105,
   "metadata": {},
   "outputs": [],
   "source": [
    "for index,row in x_ingr.iterrows():\n",
    "    if re.search('甜菜汁',row.ingredients)!=None:\n",
    "        x_ingr.loc[index,'ingredients']='beet_juice' "
   ]
  },
  {
   "cell_type": "code",
   "execution_count": 106,
   "metadata": {},
   "outputs": [],
   "source": [
    "for index,row in x_ingr.iterrows():\n",
    "    if re.search('甜菜',row.ingredients)!=None:\n",
    "        x_ingr.loc[index,'ingredients']='beet' "
   ]
  },
  {
   "cell_type": "code",
   "execution_count": null,
   "metadata": {},
   "outputs": [],
   "source": [
    "# tomato -> 番茄"
   ]
  },
  {
   "cell_type": "code",
   "execution_count": 7,
   "metadata": {},
   "outputs": [
    {
     "name": "stdout",
     "output_type": "stream",
     "text": [
      "[]\n"
     ]
    }
   ],
   "source": [
    "cai_str=[]\n",
    "for index,row in x_ingr.iterrows():\n",
    "    if (re.search('番茄$',row.ingredients)!=None) or (re.search('西红柿',row.ingredients)!=None):\n",
    "        cai_str.append(x_ingr.loc[index,'ingredients'])   \n",
    "print(list(set(cai_str)))"
   ]
  },
  {
   "cell_type": "code",
   "execution_count": 121,
   "metadata": {},
   "outputs": [],
   "source": [
    "for index,row in x_ingr.iterrows():\n",
    "    if (re.search('番茄$',row.ingredients)!=None) or (re.search('西红柿',row.ingredients)!=None):\n",
    "        x_ingr.loc[index,'ingredients']='tomato'"
   ]
  },
  {
   "cell_type": "code",
   "execution_count": 123,
   "metadata": {},
   "outputs": [],
   "source": [
    "# cucumber -> 黄瓜\n",
    "for index,row in x_ingr.iterrows():\n",
    "    if (re.search('黄瓜$',row.ingredients)!=None) or (re.search('青瓜',row.ingredients)!=None):\n",
    "        x_ingr.loc[index,'ingredients']='cucumber'"
   ]
  },
  {
   "cell_type": "code",
   "execution_count": null,
   "metadata": {},
   "outputs": [],
   "source": [
    "# zucchini -> 夏南瓜"
   ]
  },
  {
   "cell_type": "code",
   "execution_count": 125,
   "metadata": {},
   "outputs": [],
   "source": [
    "for index,row in x_ingr.iterrows():\n",
    "    if re.search('西葫芦',row.ingredients)!=None:\n",
    "        x_ingr.loc[index,'ingredients']='zucchini'"
   ]
  },
  {
   "cell_type": "code",
   "execution_count": null,
   "metadata": {},
   "outputs": [],
   "source": [
    "# pumpkin -> 南瓜"
   ]
  },
  {
   "cell_type": "code",
   "execution_count": 126,
   "metadata": {},
   "outputs": [],
   "source": [
    "for index,row in x_ingr.iterrows():\n",
    "    if re.search('南瓜',row.ingredients)!=None:\n",
    "        x_ingr.loc[index,'ingredients']='pumpkin'"
   ]
  },
  {
   "cell_type": "code",
   "execution_count": 128,
   "metadata": {},
   "outputs": [],
   "source": [
    "# 笋 asparagus -> 芦笋\n",
    "#cai_str=[]\n",
    "for index,row in x_ingr.iterrows():\n",
    "    if re.search('笋',row.ingredients)!=None:\n",
    "        #cai_str.append(x_ingr.loc[index,'ingredients'])\n",
    "        x_ingr.loc[index,'ingredients']='asparagus'\n",
    "#print(list(set(cai_str)))"
   ]
  },
  {
   "cell_type": "code",
   "execution_count": null,
   "metadata": {},
   "outputs": [],
   "source": [
    "# "
   ]
  }
 ],
 "metadata": {
  "kernelspec": {
   "display_name": "Python 3",
   "language": "python",
   "name": "python3"
  },
  "language_info": {
   "codemirror_mode": {
    "name": "ipython",
    "version": 3
   },
   "file_extension": ".py",
   "mimetype": "text/x-python",
   "name": "python",
   "nbconvert_exporter": "python",
   "pygments_lexer": "ipython3",
   "version": "3.6.3"
  }
 },
 "nbformat": 4,
 "nbformat_minor": 2
}
