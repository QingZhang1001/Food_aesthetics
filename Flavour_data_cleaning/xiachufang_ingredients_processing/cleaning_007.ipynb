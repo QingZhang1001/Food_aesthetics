{
 "cells": [
  {
   "cell_type": "code",
   "execution_count": 1,
   "metadata": {},
   "outputs": [],
   "source": [
    "import pandas as pd\n",
    "import numpy as np\n",
    "import os\n",
    "import re"
   ]
  },
  {
   "cell_type": "code",
   "execution_count": 2,
   "metadata": {},
   "outputs": [
    {
     "data": {
      "text/plain": [
       "'/home/IW_student/work/food_flavor/xiachufang_ingredient_preprocessing'"
      ]
     },
     "execution_count": 2,
     "metadata": {},
     "output_type": "execute_result"
    }
   ],
   "source": [
    "os.getcwd()"
   ]
  },
  {
   "cell_type": "code",
   "execution_count": 3,
   "metadata": {},
   "outputs": [],
   "source": [
    "def explode(df,column):\n",
    "    df1=df[column].str.split('、',expand=True).stack().str.strip().reset_index(level=1,drop=True)\n",
    "    df1=pd.DataFrame(df1)\n",
    "    df=df.drop(column,axis=1).join(df1).reset_index(drop=True)\n",
    "    df.rename(columns={0:'ingredients'},inplace=True)\n",
    "    return df"
   ]
  },
  {
   "cell_type": "code",
   "execution_count": 4,
   "metadata": {},
   "outputs": [
    {
     "data": {
      "text/plain": [
       "(172706, 2)"
      ]
     },
     "execution_count": 4,
     "metadata": {},
     "output_type": "execute_result"
    }
   ],
   "source": [
    "data=pd.read_csv('/home/IW_student/work/food_flavor/xiachufang_ingredient_preprocessing/datasets/x_ingr_6.csv',index_col=0,dtype=str)\n",
    "data.dropna(inplace=True)\n",
    "data.shape"
   ]
  },
  {
   "cell_type": "code",
   "execution_count": 5,
   "metadata": {},
   "outputs": [
    {
     "data": {
      "text/html": [
       "<div>\n",
       "<style scoped>\n",
       "    .dataframe tbody tr th:only-of-type {\n",
       "        vertical-align: middle;\n",
       "    }\n",
       "\n",
       "    .dataframe tbody tr th {\n",
       "        vertical-align: top;\n",
       "    }\n",
       "\n",
       "    .dataframe thead th {\n",
       "        text-align: right;\n",
       "    }\n",
       "</style>\n",
       "<table border=\"1\" class=\"dataframe\">\n",
       "  <thead>\n",
       "    <tr style=\"text-align: right;\">\n",
       "      <th></th>\n",
       "      <th>recipe_id</th>\n",
       "      <th>ingredients</th>\n",
       "    </tr>\n",
       "  </thead>\n",
       "  <tbody>\n",
       "    <tr>\n",
       "      <th>0</th>\n",
       "      <td>100000002</td>\n",
       "      <td>asparagus</td>\n",
       "    </tr>\n",
       "    <tr>\n",
       "      <th>1</th>\n",
       "      <td>100000002</td>\n",
       "      <td>garlic</td>\n",
       "    </tr>\n",
       "    <tr>\n",
       "      <th>2</th>\n",
       "      <td>100000002</td>\n",
       "      <td>capsicum_annuum</td>\n",
       "    </tr>\n",
       "    <tr>\n",
       "      <th>3</th>\n",
       "      <td>100000003</td>\n",
       "      <td>chocolate</td>\n",
       "    </tr>\n",
       "    <tr>\n",
       "      <th>4</th>\n",
       "      <td>100000003</td>\n",
       "      <td>chiffon</td>\n",
       "    </tr>\n",
       "  </tbody>\n",
       "</table>\n",
       "</div>"
      ],
      "text/plain": [
       "   recipe_id      ingredients\n",
       "0  100000002        asparagus\n",
       "1  100000002           garlic\n",
       "2  100000002  capsicum_annuum\n",
       "3  100000003        chocolate\n",
       "4  100000003          chiffon"
      ]
     },
     "execution_count": 5,
     "metadata": {},
     "output_type": "execute_result"
    }
   ],
   "source": [
    "data.head()"
   ]
  },
  {
   "cell_type": "code",
   "execution_count": 6,
   "metadata": {},
   "outputs": [],
   "source": [
    "# find rows with Chinese ingredients"
   ]
  },
  {
   "cell_type": "code",
   "execution_count": 6,
   "metadata": {},
   "outputs": [
    {
     "data": {
      "text/html": [
       "<div>\n",
       "<style scoped>\n",
       "    .dataframe tbody tr th:only-of-type {\n",
       "        vertical-align: middle;\n",
       "    }\n",
       "\n",
       "    .dataframe tbody tr th {\n",
       "        vertical-align: top;\n",
       "    }\n",
       "\n",
       "    .dataframe thead th {\n",
       "        text-align: right;\n",
       "    }\n",
       "</style>\n",
       "<table border=\"1\" class=\"dataframe\">\n",
       "  <thead>\n",
       "    <tr style=\"text-align: right;\">\n",
       "      <th></th>\n",
       "      <th>recipe_id</th>\n",
       "      <th>ingredients</th>\n",
       "    </tr>\n",
       "  </thead>\n",
       "  <tbody>\n",
       "  </tbody>\n",
       "</table>\n",
       "</div>"
      ],
      "text/plain": [
       "Empty DataFrame\n",
       "Columns: [recipe_id, ingredients]\n",
       "Index: []"
      ]
     },
     "execution_count": 6,
     "metadata": {},
     "output_type": "execute_result"
    }
   ],
   "source": [
    "ch_data=data[data['ingredients'].str.contains('[\\u4e00-\\u9fa5]+')]\n",
    "ch_data.drop_duplicates('ingredients',inplace=True)"
   ]
  },
  {
   "cell_type": "code",
   "execution_count": 7,
   "metadata": {},
   "outputs": [
    {
     "data": {
      "text/plain": [
       "(0, 2)"
      ]
     },
     "execution_count": 7,
     "metadata": {},
     "output_type": "execute_result"
    }
   ],
   "source": [
    "ch_data.shape"
   ]
  },
  {
   "cell_type": "code",
   "execution_count": 9,
   "metadata": {},
   "outputs": [],
   "source": [
    "ch_data.to_csv('datasets/ch_data.csv')"
   ]
  },
  {
   "cell_type": "code",
   "execution_count": 10,
   "metadata": {},
   "outputs": [],
   "source": [
    "# check how many ingredients in xichufang recipes"
   ]
  },
  {
   "cell_type": "code",
   "execution_count": 8,
   "metadata": {},
   "outputs": [],
   "source": [
    "data['ingredients']=data['ingredients'].str.strip()  # delete all whitespace\n",
    "data['ingredients']=data['ingredients'].str.replace(\" \",'')"
   ]
  },
  {
   "cell_type": "code",
   "execution_count": 9,
   "metadata": {},
   "outputs": [
    {
     "data": {
      "text/plain": [
       "(172706, 2)"
      ]
     },
     "execution_count": 9,
     "metadata": {},
     "output_type": "execute_result"
    }
   ],
   "source": [
    "data.shape"
   ]
  },
  {
   "cell_type": "code",
   "execution_count": 10,
   "metadata": {},
   "outputs": [
    {
     "name": "stdout",
     "output_type": "stream",
     "text": [
      "426\n"
     ]
    }
   ],
   "source": [
    "ing=list(set(data['ingredients'].values.tolist()))\n",
    "print(len(ing))"
   ]
  },
  {
   "cell_type": "code",
   "execution_count": 11,
   "metadata": {
    "collapsed": true
   },
   "outputs": [
    {
     "name": "stdout",
     "output_type": "stream",
     "text": [
      "['Gochujang', 'LAB', 'MSG', 'Sprite', 'agar', 'agaric', 'agaricus', 'alcoholic_beverage', 'algae', 'almond', 'almond_milk', 'almond_oil', 'amaranth', 'american_ginseng', 'aminaria_japonica', 'amomum_villosum', 'angelica_dahurica', 'angelica_sinensis', 'anise', 'apple', 'apricot', 'apricot_kernel', 'arugula', 'asparagus', 'astragalus', 'avocado', 'bacon', 'baking_powder', 'baking_soda', 'banana', 'barley', 'basil', 'bay_laurel', 'bayberry', 'bean', 'bean_sprout', 'beef', 'beef_broth', 'beef_tallow', 'beer', 'beet', 'beet_juice', 'bell_pepper', 'berry', 'bhotpot_seasoning', 'biscuit', 'bitter_almond', 'bitter_gourd', 'black_bean', 'black_eyed_pea', 'black_pepper', 'black_tea', 'blackcurrant', 'blackpepper', 'blueberry', 'bottle_gourd', 'brandy', 'bread', 'brewed_tea', 'broad_bean', 'broccoli', 'brown_rice', 'buckwheat', 'bullfrog', 'butter', 'cabbage', 'cake', 'candy', 'cantaloupe', 'capsicum_annuum', 'cardamom', 'carrot', 'cashew', 'cashewc', 'cassava', 'cassia', 'catfish', 'cauliflower', 'caviar', 'cayenne', 'celery', 'cereal', 'ceylon_tea', 'char_siu_sauce', 'cheddar_cheese', 'cheese', 'chenopodium_quinoa', 'cherry', 'chicken', 'chicken_broth', 'chicken_brothchicken_broth', 'chicken_liver', 'chicken_powder', 'chickpea', 'chiffon', 'chilli_bean_paste', 'chilli_oil', 'chilli_paste', 'chinese_cabbage', 'chinese_chestnut', 'chinese_kale', 'chinese_mustard', 'chinese_spirits', 'chinese_star_anise', 'chinese_toon', 'chinese_water_chestnut', 'chive', 'chocolate', 'cinnamon', 'citronella', 'clam', 'clove', 'cocoa', 'coconut', 'coconut_oil', 'cod', 'coffee', 'coke', 'compositae', 'cooking_wine', 'coriander', 'coriander_seed', 'corn_flake', 'corn_oil', 'corn_syrup', 'cottage_cheese', 'crab', 'cranberry', 'crayfish', 'cream', 'cream_cheese', 'crown_daisy', 'cucumber', 'cumin', 'cured_pork', 'curry', 'custard', 'cuttlefish', 'dairy', 'dill', 'diqu', 'dumpling', 'durian', 'eel', 'egg', 'eggplant', 'ejiao', 'endivia', 'enokidake', 'euryale_ferox', 'fermented_radish', 'fermented_soya_beans', 'fermented_tea', 'fermented_tofu', 'feta_cheese', 'fig', 'fish', 'fish_ball', 'fish_cake', 'fish_can', 'five-nuts', 'five_spice_powder', 'flax_seed', 'fried_pork', 'fritillaria_cirrhosa', 'frog', 'fruit', 'fuling', 'galanga', 'garlic', 'garlic_moss', 'garlic_sauce', 'garlicshrimp', 'gelatin', 'ginger', 'gingkgo', 'ginseng', 'gose', 'grain', 'grape', 'grapefruit', 'grapefruit_juice', 'green_bean', 'green_bell_pepper', 'green_tea', 'guava', 'ham', 'hawthorn', 'hazelnut', 'honey', 'honeydew', 'hong_qu', 'hyacinth_bean', 'ice_cream', 'indian_aster', 'jasmine_tea', 'jelly', 'jujube', 'kaempferia_galanga', 'katsuobushi', 'kidney_bean', 'kimchi', 'kiwi', 'konjac', 'korean_soybean_paste', 'lamb', 'laminaria_japonica', 'laoganma', 'lard', 'leavening_agent', 'lemon', 'lemon_juice', 'lemon_peel', 'lettuce', 'licorice', 'lilium_candidum_flower', 'litchi', 'lobster', 'long_pepper', 'loquat', 'lotus_paste', 'lotus_root', 'lotus_seed', 'luffa', 'lycium_barbarum', 'macadamia_nut', 'macaroni', 'mace', 'maize', 'maltose', 'mandarin', 'mango', 'mantis_shrimp', 'maple_syrup', 'mascarpen', 'mashed_potato', 'matsutake', 'mayonnaise', 'milk', 'milk_tea', 'mint', 'mirin', 'miso', 'monopterus_albus', 'mozzarella_cheese', 'mulberry', 'mung_bean', 'mung_vermicelli', 'mushroom', 'muskmelon', 'mussel', 'mustard', 'mustard_greens_oil', 'mutton', 'nut', 'nutmeg', 'oat', 'oatmeal', 'octopus', 'okra', 'olive', 'olive_oil', 'onion', 'ophiocordyceps_sinensis', 'orange', 'orange_peel', 'oregano', 'osmanthus', 'oyster', 'oyster_sauce', 'pandan', 'parmesan_cheese', 'parsley', 'passion_fruit', 'passion_fruit_juice', 'pawpaw', 'pea', 'peach', 'peanut', 'peanut_butter', 'peanut_oil', 'pear', 'pearl_barley', 'pepper', 'perilla_frutescens', 'persimmon', 'pigeon', 'pineapple', 'pistachio', 'pitaya', 'pizza_sauce', 'plum', 'porcini', 'pork', 'pork_liver', 'pork_sausage', 'potato', 'potato_chip', 'prawn', 'pudding', 'pumpkin', 'rabbit', 'radish', 'raisin', 'raspberry', 'red_bean', 'red_kidney_bean', 'red_wine', 'redcurrant', 'rice', 'rice_cake', 'ring_snail', 'roasted_almond', 'roasted_chicken', 'roasted_peanut', 'roasted_sesame_seed', 'rose', 'rose_wine', 'roselle', 'rosemary', 'rum', 'rutabaga', 'rye_bread', 'rye_flour', 'saffron', 'sago', 'sake', 'salad_dressing', 'salmon', 'salmon_roe', 'salt', 'saruka', 'sausage', 'scallion', 'scallop', 'sea_bass', 'sea_cucumber', 'seasoner', 'see_ieu', 'seed', 'seed_oil', 'sesame_oil', 'sesame_paste', 'sesame_seed', 'setaria_italica', 'shallot', 'shellfish', \"shepherd's_purse\", 'shiitake', 'shrimp', 'shrimp_balls', 'sichuan_pickles', 'skim_milk', 'snap_bean', 'soda_ash', 'soy_milk', 'soy_sauce', 'soybean', 'soybean_oil', 'soybean_paste', 'soysauce', 'spaghetti', 'spearmint', 'spinach', 'squid', 'starch', 'starfruit', 'sticky_rice', 'strawberry', 'sugar', 'sugarcane', 'sunflower_oil', 'sunflower_seed', 'sweet_chilli_sauce', 'sweet_ferment_rice', 'sweet_potato', 'tabasco_pepper', 'tahini', 'tea', 'tea_oil', 'tempeh', 'tequila', 'thai_pepper', 'thirteen_spices', 'thyme', 'tofu', 'tomato', 'tomato_sauce', 'trassi', 'tremella_fuciformis', 'tuber', 'tuna', 'turkey', 'turmeric', 'unkonwn', 'unkonwon', 'vanilla', 'vanilla_oil', 'vegetable', 'vegetable_oil', 'vermicelli', 'vinegar', 'vodka', 'walnut', 'walnut_milk', 'water', 'water_caltrop', 'water_spinach', 'watercress', 'watermelon', 'wheat', 'wheat_bran', 'wheat_gluten', 'white_wine', 'whole_grain_wheat_flour', 'wine', 'winter_melon', 'xiang_gan', 'ya_cai', 'yam', 'yeast', 'yogurt', 'yuba', 'zanthoxylum_piperitum', 'zanthoxylum_piperitum_fruit_oil', 'zizania_latifolia', 'zucchini', '七叶瓜', '七味粉', '七喜', '七谷物粉', '万用凉拌汁', '万能炸粉', '三角', '上新粉', '上汤', '东北大拉皮', '东北酸菜', '东非头花胶筒', '丸子', '丸子类', '乌梅', '乌梅干', '乌榄', '乌江榨菜', '九制乌梅', '九制话梅', '乳清', '云南昭通酱', '云南酱', '云南酸腌菜', '云南酸菜', '五谷杂粮', '京式甜酱', '什锦杂菜', '仙草粉', '优质番红花', '低卡酱汁', '佐料', '何首乌', '儿童优酪乳', '元宵', '光明冰砖', '全麦卷饼', '八果', '六月黄', '兰度豆', '兰香子', '内酯', '冬菜', '冬豆', '冬阴功汤料', '冬阴功酱', '冬阴功酱料', '冰皮', '冰皮月饼粉', '冰皮粉', '冰粉', '冰粉籽', '冰粉粉', '冰花梅酱', '冰草', '冷冻', '冷冻披萨饼', '冷冻速食飞饼', '冷冻飞饼', '凉拌汁', '凉拌菜', '凉皮', '凉粉', '凉粉籽', '凉粉粉', '凉粉草', '凉糕粉', '凤眼果', '凯里红酸汤', '刀豆', '刺山柑', '包心麻辣丸', '北京干黄酱', '北芪', '千层', '千层皮', '千岛酱', '千里香', '南乳', '南乳汁', '南非冰草', '卡仕达馅布丁', '卡仕達醬', '卡士达酱', '卡夫奇妙酱', '卡真粉', '卤料', '印度飞饼', '印度飞饼皮', '厚百叶', '原味优酪乳', '原味卷饼', '原味微甜飞饼皮', '原味薄饼', '原味飞饼皮', '原汤', '双汇王中王', '发粉', '发菜', '发菜丸子', '古越龙山', '可尔必思', '可颂', '台湾话梅', '叻沙汤底', '叽汁', '各色丸子', '各色果干', '吉香居', '味料', '咸味话梅', '咸菜', '哥顿金酒', '喼汁', '四川泡酸菜', '四川老坛泡酸罗卜', '四川酸菜', '圆子', '圆豆', '地榆', '地胶', '坨坨馍', '塔菜', '墨西哥卷饼', '墨西哥卷饼皮', '墨西哥薄饼', '夏巴塔', '夏枯草', '多香果粉', '夜开花', '夜香花', '大乌梅', '大车螺', '大连鲍', '大饼', '大麦叶青汁粉', '大麦若叶粉', '大麦若叶青汁', '大麦青汁粉', '天妇罗粉', '天麻', '太妃酱', '太白粉', '头菜', '奇亚籽', '奇异籽', '姑娘果', '威化饼', '威士忌', '嫩马齿苋', '宇峰白凉粉', '安琪烧烤粉', '客家娘酒', '家常饼', '家庭比萨酱', '家庭酱', '宽粉', '寒天粉', '寸饼皮', '寿喜锅酱汁', '小仁仙', '小仁鲜', '小元宵', '小咸菜', '小汤圆', '小粉', '小红莓浓缩汁', '小菜秧', '展艺冰皮月饼粉', '山黄皮', '川帮掌门', '川芎', '川见丸子', '巴瑞脆片', '布丁', '布丁粉', '布朗尼', '广式九制话梅', '思念飞饼', '惠州甜梅菜', '意大利混合香料', '意大利酱', '意大利香料', '意式混合干香料', '意式混合香料', '意式香料', '扁尖', '手抓饼', '手粉', '手粉适', '批杷', '批萨酱', '折耳根', '折耳根叶', '披萨', '披萨底', '披萨料', '披萨皮', '披萨饼寸', '披萨饼皮', '拉条', '拉汁', '拉瓜', '捞汁', '撒尿丸', '撻皮', '支竹', '改良剂', '料汁', '料理话梅', '新奥尔良', '新疆烤馕', '无铝泡打', '无铝膨松剂', '日式烧烤汁', '日式照烧酱', '日式麻糬', '日本青芥辣', '春卷皮', '春卷饼皮', '昭通酱', '普宁豆酱', '普罗旺斯香料', '月子酒', '月饼', '月饼皮', '月饼粉', '月饼馅', '杂果', '杂菜', '李派林喼汁', '李派林酸甜汁', '松柳苗', '松饼', '松饼粉', '极美滋', '果丹皮', '果子', '果干', '果料包', '果料威士忌', '果汁', '果泥', '果脯', '果蔬', '果蔬汁', '果蔬泥', '果蔬粉', '果酱', '枳壳', '枸己', '柱侯酱', '柱候酱', '柱候醬', '柿饼', '栀子', '标准粉', '树叶', '树皮', '梅子', '梅子酱', '梅干', '梅干菜', '梅汁', '梅粉', '梅菜', '棕叶', '植物', '植皮', '楂干', '榄菜', '榆钱', '榨菜', '榨菜丝', '榨菜末', '槐花', '槟榔', '槟榔芋', '槲叶', '正山小种', '母乳', '比萨酱', '毛肚', '毛肚丝', '毛肚片', '水', '水妈妈河粉', '水混合物', '水疙瘩头', '水草', '水饺', '水麦芽', '汤', '汤圆', '汤圆汤料', '汤圆皮', '汤头', '汤汁', '沙律酱', '沙朗', '沙茶', '沙茶酱', '沙虫干', '河粉', '法国粉', '法棍', '泡打', '泡芙', '泡芙体', '泥鳅', '泸州老窖', '洋菜粉', '洋蓟心', '洋车前子壳粉', '洋车前子粉', '洋酒', '洪山菜薹', '流沙', '流沙馅', '浏阳豆鼓', '浓豆浆', '海产品', '海凉粉', '海蜇', '海蜇皮', '海鲜', '海鲜粉', '海鲜酱', '润唐内脂', '涪陵榨菜', '涪陵榨菜丝', '混合小丸子', '混合杂粮', '混合果干', '混合豉汁料', '混合香料', '清汤', '清补凉煲汤料', '潮汕冬菜', '濑粉', '火锅丸子', '火锅汤', '火锅粉', '灭活罂粟籽', '灵芝', '炙制乌梅', '炸丸子', '炸粉', '炸菜丝', '炸酱', '烂腌菜', '烤角豆粉', '烤麸', '烧仙草粉', '烧汁', '烧汁料', '烧烤干料', '烧烤料', '烧烤汁', '烧烤粉', '烧烤蘸料', '烧烤酱', '煎饼', '照烧汁', '照烧酱', '熟元麦粉', '熟地', '熟毛肚', '熟粉', '熟糕粉', '燕条', '燕窝', '燕窝盏', '燕饺', '爪子仁', '爱他美', '片粟粉', '狗牙菜', '猫耳朵', '玉竹', '玛丽饼', '现采蒿叶', '珍珠', '班戟皮', '班戟粉', '甘粟仁', '甘纳豆', '甜不辣', '甜味剂', '甜甜圈', '甜豆', '甜豆荚', '甜辣味', '甜酱', '生瓜', '生鴨舌', '田螺', '疆烤馕', '白凉粉', '白吉馍', '白巧', '白干', '白汁', '白涼粉', '白玉', '白玉皮', '白百叶', '白芍', '白莲', '白酱粉', '百叶', '百叶结', '百页', '皮冻', '皮屑', '皮料', '益母草', '盖菜', '眉豆', '石斛', '石槲', '石螺', '种混合香料', '秘制怪味酱', '秘制红烧汁', '秘制酱料', '秘制酱汁', '秘制酸甜酱汁', '穿心莲', '竹炭', '竹炭粉', '竹碳粉', '竹荪', '竹荪粉', '竹蔗', '竹蔗节', '竹轮', '筒子骨', '筒骨', '簿百叶', '粉', '粉块', '粉浆', '粉皮', '粉葛', '粗粮粉', '粟粉', '粥底', '粽子', '粽子叶', '糕片', '糕粉', '素丸子', '紫色', '紫苣杂菜', '紫贝菜', '红丝绒溶液', '红果', '红烧汁', '红烧汤头', '红糟', '红色果酱', '红色水果粉', '红苕尖', '红莲', '红菜苔', '红龙果', '纯豆浆粉', '纳豆', '绢丝豆花预拌粉', '缸豆', '罂粟', '罂粟仔', '罂粟籽', '罗汉果', '美奶兹', '老坛酸菜', '老汤', '老虎酱', '耗豉', '能多益', '脆皮底', '脊骨', '脱水烤麸', '腌咸菜', '腌渍料', '腌粉', '腔骨', '腰花', '臭粉', '舒可曼', '舞茸', '艾草', '艾草嫩叶', '艾草汁', '艾草粉', '节瓜', '芋丝', '芋圆', '芋子', '芋泥', '芋苗', '芝果', '芝焙原味流心酱', '芡汁', '芦苇叶', '芦蒿', '芫茜', '花掓', '花胶', '花胶只', '花螺', '花豆', '花辣', '芽白', '苇叶', '苏子叶', '苏式话梅', '苕尖', '苕粉', '苤菜根', '英式麦芬', '茅根', '茨实', '茨菰', '茶干', '茶粉', '草头', '草寇', '草粿草', '草蔻', '草裹', '荷叶', '莓果', '莜麦粉', '莧菜', '莲白', '莲花白', '莲蓬', '莲角', '菜干', '菜根', '菜脯', '菜苔', '萄葡干', '葛粉', '蒲瓜', '蒿子', '蒿子杆', '蒿子秆', '蒿子秆嫩尖', '蒿菜', '蓝色汁液', '蓬蒿菜', '蔬之鲜', '蔬果', '蔬果泥', '蕨根粉', '蕨菜', '薄脆', '藍莓', '藿香', '蘸料', '蘸粉', '蘸酱', '虎皮', '蛇豆', '蜜蜂', '蜜饯', '蝦皮', '蝶豆花', '蝶豆花汁液', '蝶豆花茶', '螺丝', '螺丝粉', '螺旋藻粉', '血皮菜', '西式混合干香料', '西梅', '西梅干', '西贡酱汁', '角瓜', '话梅', '调', '谢记烧仙草粉', '谷物粉', '豆卜', '豆泡', '豆浆', '豆渣', '豆皮', '豆皮丝', '豆皮结', '豆粉', '豆苗', '豆酱', '豆饼', '豆鼓', '豆鼓酱', '豉汁', '贝母粉', '贝素', '贡丸', '越南春卷皮', '车前子', '车螺', '辛夷', '辣子粉', '辣松', '辣柳', '辣根', '辣皮', '辣皮子', '辣青', '辣鲜露', '连度豆', '迭迭香', '迷你干鲍', '速冻丸子', '速冻包子', '速冻汤圆', '速冻饺', '酒类', '酪乳', '酱', '酱制乌梅', '酱包瓜', '酱料', '酱汁', '酸梅', '酸梅汁', '酸梅粉', '酸梅酱', '酸甜榨菜', '酸甜酱', '酸腌菜', '酸苷', '酸荞头', '酸菜', '酸豆', '酸辣鲜露', '醇味鲜', '里叶白莲', '野山莓果酱', '野生天麻干', '野生蕨菜', '野蕨菜', '金宝酥', '金粉', '金针菜', '金钱腱', '金钱草', '金银花', '针菜', '钉螺', '钵仔糕粉', '银丝粉', '锅巴', '锅酱', '陈村粉', '陈肾', '雨露', '雪燕', '雪花粉', '雪豆', '霉干菜', '霸王花', '青岛凉粉', '青梅', '青汁', '青汁粉', '青江菜', '青红丝', '青芥辣', '青酱', '非洲冰草', '飞饼', '飞饼皮', '食用调', '食用香精', '饵块', '饼', '饼丝', '饼坯', '饼皮', '饼馅', '馄饨', '馕', '香兰叶', '香兰草汁', '香味料', '香料', '香料包', '香料粉', '香松', '香果', '香榧', '香苜蓿', '香辣甜咸混合酱', '马卡龙壳', '马头兰', '马来西亚三角盏', '马琳混合物', '马苏', '马莲草', '马连', '骨头', '骨头汤', '骨汤', '高湯', '高粱', '高粱粉', '鲍汁', '鲜味汁', '鲜榨汁', '鲜汤', '鲜竹荪', '鲜艾叶', '鲜芦根', '鲜芦苇叶', '鲜花', '鲜茅根', '鲜辣味粉', '鲜辣粉', '鲜鱿', '鲜黄花', '鹧鸪', '麝香', '麦冬', '麦卡伦年', '麦芽粉', '麦豆', '麦青汁', '麦青汁粉', '麻汁', '麻汁酱', '麻糬', '麻辣块', '麻辣底料', '麻辣烫底料', '麻辣粉', '麻辣鲜', '黄原胶', '黄喉', '黄心菜', '黄皮', '黄皮酱', '黄节瓜', '黄芥辣', '黄芥酱', '黄花', '黄芽白', '黄辣丁', '黄酱', '黄金鲳', '黄鳝', '黎麦', '黑凉粉', '黑凉粉粉', '黑啤', '黑布林', '黑毛肚', '黑百叶', '黑裸麦粉', '黒加仑', '鼠尾草', '龙蒿', '龙骨', '龟苓膏粉']\n"
     ]
    }
   ],
   "source": [
    "ing.sort()\n",
    "print(ing)"
   ]
  },
  {
   "cell_type": "code",
   "execution_count": 11,
   "metadata": {},
   "outputs": [],
   "source": [
    "for index,row in data.iterrows():\n",
    "    if re.search('\\u200d',row.ingredients)!=None:\n",
    "        data.loc[index,'ingredients']=re.sub('\\u200d','',row.ingredients)\n",
    "        print(row)"
   ]
  },
  {
   "cell_type": "code",
   "execution_count": 15,
   "metadata": {},
   "outputs": [],
   "source": [
    "for index,row in data.iterrows():\n",
    "    if re.search('\\u200b',row.ingredients)!=None:\n",
    "        data.loc[index,'ingredients']=re.sub('\\u200b','',row.ingredients)\n",
    "        #print(row)"
   ]
  },
  {
   "cell_type": "code",
   "execution_count": 16,
   "metadata": {
    "collapsed": true
   },
   "outputs": [
    {
     "name": "stdout",
     "output_type": "stream",
     "text": [
      "['六月黄', '雪花粉', '芽白', '冰皮月饼粉', '金宝酥', '野生蕨菜', '果料威士忌', '麦卡伦年', '钉螺', '马莲草', '凉糕粉', '白干', '果酱', '炙制乌梅', '青汁', '狗牙菜', '螺丝粉', '春卷饼皮', '生瓜', '麻汁', '蕨菜', '皮屑', '蒿子秆', '烧汁', '甘粟仁', '黄心菜', '燕条', '炸丸子', '撻皮', '食用调', '黑凉粉', '折耳根', '冰花梅酱', '撒尿丸', '马连', '腰花', '各色丸子', '大连鲍', '疆烤馕', '沙茶', '万用凉拌汁', '水妈妈河粉', '九制乌梅', '老坛酸菜', '片粟粉', '巴瑞脆片', '艾草汁', '白吉馍', '脆皮底', '寸饼皮', '冬阴功酱', '楂干', '酱汁', '饼馅', '蒿菜', '香辣甜咸混合酱', '乌江榨菜', '上新粉', '麦芽粉', '酸甜榨菜', '种混合香料', '白芍', '青江菜', '皮料', '梅子', '天麻', '陈肾', '手抓饼', '小汤圆', '原味飞饼皮', '拉瓜', '竹蔗节', '麻辣底料', '酱', '夜开花', '果蔬', '各色果干', '梅子酱', '食用香精', '水混合物', '榨菜丝', '炸酱', '洋菜粉', '泸州老窖', '冰粉粉', '栀子', '益母草', '莜麦粉', '豆粉', '洋车前子壳粉', '圆豆', '烧烤粉', '冷冻', '七喜', '芋圆', '千层皮', '天妇罗粉', '鲍汁', '卡夫奇妙酱', '甘纳豆', '雪豆', '蔬果', '月饼馅', '草头', '罂粟', '熟粉', '香榧', '梅汁', '梅干', '海蜇', '纳豆', '饵块', '印度飞饼', '内酯', '辣皮', '蘸粉', '绢丝豆花预拌粉', '植物', '班戟皮', '奇异籽', '果蔬粉', '班戟粉', '披萨饼皮', '爪子仁', '小咸菜', '草寇', '家常饼', '腌粉', '豉汁', '麝香', '普罗旺斯香料', '拉条', '花辣', '香兰草汁', '青芥辣', '夏枯草', '酸辣鲜露', '上汤', '冬阴功汤料', '哥顿金酒', '丸子类', '盖菜', '展艺冰皮月饼粉', '意大利香料', '茨实', '李派林酸甜汁', '北芪', '冰皮粉', '披萨料', '日式烧烤汁', '麻辣粉', '车前子', '海蜇皮', '改良剂', '豆皮', '卡仕达馅布丁', '美奶兹', '支竹', '八果', '海鲜酱', '黄喉', '金粉', '豆渣', '饼坯', '蝶豆花汁液', '菜干', '凉粉', '燕窝', '乌梅干', '青梅', '黎麦', '生鴨舌', '酸梅', '泡芙', '麦青汁粉', '螺丝', '小仁仙', '冷冻速食飞饼', '高粱', '鲜味汁', '大乌梅', '秘制红烧汁', '饼皮', '鹧鸪', '黄皮', '黑啤', '濑粉', '可颂', '意大利混合香料', '冰粉', '话梅', '黑毛肚', '梅菜', '坨坨馍', '麦豆', '太白粉', '九制话梅', '烤麸', '比萨酱', '批杷', '小粉', '苏子叶', '火锅丸子', '紫贝菜', '速冻汤圆', '芋苗', '槟榔芋', '粉块', '花胶', '苕粉', '罗汉果', '辣皮子', '杂果', '原汤', '陈村粉', '川见丸子', '纯豆浆粉', '车螺', '莧菜', '原味卷饼', '法国粉', '烤角豆粉', '汤圆汤料', '红菜苔', '七味粉', '白百叶', '台湾话梅', '意式混合香料', '竹荪粉', '凉粉籽', '白凉粉', '意大利酱', '糕片', '豆浆', '姑娘果', '榆钱', '豆酱', '蔬果泥', '七叶瓜', '血皮菜', '鲜辣味粉', '白涼粉', '优质番红花', '骨汤', '荷叶', '烂腌菜', '豆泡', '现采蒿叶', '甜不辣', '流沙', '冬豆', '西梅', '果汁', '卡仕達醬', '金银花', '酸豆', '秘制酸甜酱汁', '芋子', '清汤', '海产品', '黄花', '石槲', '日本青芥辣', '川帮掌门', '田螺', '茶粉', '潮汕冬菜', '酱包瓜', '梅粉', '清补凉煲汤料', '黄芥酱', '儿童优酪乳', '枸己', '大麦若叶青汁', '里叶白莲', '洋车前子粉', '野蕨菜', '果泥', '芋丝', '艾草嫩叶', '竹碳粉', '玉竹', '燕饺', '紫色', '豆苗', '莓果', '洋酒', '柱侯酱', '寒天粉', '草蔻', '云南酱', '贝母粉', '蜜饯', '三角', '贝素', '西式混合干香料', '双汇王中王', '云南昭通酱', '水饺', '海凉粉', '西梅干', '沙律酱', '新疆烤馕', '蕨根粉', '卤料', '月子酒', '锅巴', '蝶豆花', '植皮', '竹炭', '速冻饺', '汤头', '甜豆', '布丁粉', '鲜鱿', '秘制怪味酱', '南乳', '惠州甜梅菜', '料理话梅', '西贡酱汁', '烧烤料', '折耳根叶', '乌梅', '黑凉粉粉', '饼', '竹轮', '包心麻辣丸', '蓬蒿菜', '粽子', '月饼粉', '酸菜', '蛇豆', '玛丽饼', '白玉皮', '猫耳朵', '鲜艾叶', '藿香', '全麦卷饼', '烧仙草粉', '厚百叶', '龙骨', '树皮', '威化饼', '冷冻披萨饼', '凉粉草', '沙虫干', '寿喜锅酱汁', '蓝色汁液', '何首乌', '槟榔', '菜脯', '南非冰草', '粉葛', '咸味话梅', '小元宵', '冰皮', '黄原胶', '流沙馅', '河粉', '粗粮粉', '混合杂粮', '鲜辣粉', '乌榄', '广式九制话梅', '贡丸', '酸腌菜', '黄辣丁', '艾草粉', '混合果干', '英式麦芬', '奇亚籽', '石螺', '饼丝', '发菜', '手粉', '黄芽白', '皮冻', '混合豉汁料', '水草', '冰草', '芝果', '谢记烧仙草粉', '枳壳', '塔菜', '家庭比萨酱', '鲜花', '浏阳豆鼓', '炸菜丝', '石斛', '地榆', '咸菜', '多香果粉', '凉拌菜', '凉皮', '披萨饼寸', '腔骨', '香味料', '红烧汁', '原味薄饼', '烧烤蘸料', '新奥尔良', '鲜汤', '松饼', '手粉适', '川芎', '雪燕', '凉粉粉', '火锅粉', '兰度豆', '麻辣块', '豆饼', '榨菜末', '豆鼓酱', '鲜芦苇叶', '腌渍料', '烧烤酱', '大麦若叶粉', '鲜黄花', '四川老坛泡酸罗卜', '混合小丸子', '红龙果', '辛夷', '酸梅酱', '麻糬', '豆皮丝', '蜜蜂', '香苜蓿', '飞饼皮', '甜辣味', '秘制酱料', '布丁', '榄菜', '藍莓', '青岛凉粉', '大麦叶青汁粉', '无铝膨松剂', '果脯', '丸子', '脊骨', '金钱腱', '涪陵榨菜', '佐料', '浓豆浆', '黑裸麦粉', '冷冻飞饼', '山黄皮', '竹蔗', '烧汁料', '杂菜', '秘制酱汁', '小红莓浓缩汁', '麻辣烫底料', '红烧汤头', '冬阴功酱料', '地胶', '宽粉', '百叶', '汤汁', '菜根', '炸粉', '海鲜', '泡芙体', '珍珠', '圆子', '竹荪', '马卡龙壳', '酱料', '辣子粉', '梅干菜', '混合香料', '大饼', '甜甜圈', '月饼皮', '辣青', '标准粉', '香料', '舞茸', '骨头汤', '雨露', '喼汁', '紫苣杂菜', '香料包', '竹炭粉', '芡汁', '水疙瘩头', '红莲', '花豆', '糕粉', '果丹皮', '低卡酱汁', '万能炸粉', '粥底', '节瓜', '冰粉籽', '高粱粉', '萄葡干', '千里香', '白汁', '黑布林', '香兰叶', '腌咸菜', '龟苓膏粉', '穿心莲', '速冻丸子', '洪山菜薹', '沙朗', '芦蒿', '汤圆皮', '披萨底', '古越龙山', '耗豉', '布朗尼', '威士忌', '京式甜酱', '日式照烧酱', '蒲瓜', '柱候醬', '东北大拉皮', '黄皮酱', '法棍', '草粿草', '芫茜', '沙茶酱', '缸豆', '披萨皮', '灭活罂粟籽', '青红丝', '葛粉', '黄鳝', '无铝泡打', '北京干黄酱', '松柳苗', '原味优酪乳', '嫩马齿苋', '披萨', '拉汁', '鲜茅根', '烧烤干料', '虎皮', '小仁鲜', '树叶', '骨头', '蒿子', '墨西哥卷饼皮', '千层', '百页', '野生天麻干', '松饼粉', '粽子叶', '蝶豆花茶', '金钱草', '发粉', '照烧汁', '馄饨', '烧烤汁', '甜味剂', '针菜', '角瓜', '速冻包子', '柿饼', '叻沙汤底', '果子', '扁尖', '柱候酱', '白酱粉', '料汁', '光明冰砖', '筒子骨', '熟地', '家庭酱', '鲜芦根', '海鲜粉', '酸荞头', '菜苔', '月饼', '仙草粉', '大麦青汁粉', '泥鳅', '酸梅汁', '红果', '灵芝', '冬菜', '夏巴塔', '刀豆', '越南春卷皮', '白莲', '印度飞饼皮', '苏式话梅', '红色果酱', '粟粉', '果干', '辣根', '槐花', '黑百叶', '野山莓果酱', '酱制乌梅', '熟毛肚', '麦冬', '什锦杂菜', '火锅汤', '原味微甜飞饼皮', '莲蓬', '艾草', '臭粉', '霉干菜', '花螺', '安琪烧烤粉', '思念飞饼', '锅酱', '照烧酱', '红糟', '毛肚片', '洋蓟心', '极美滋', '芋泥', '发菜丸子', '龙蒿', '四川泡酸菜', '豆卜', '螺旋藻粉', '酸甜酱', '红丝绒溶液', '薄脆', '蝦皮', '大车螺', '墨西哥薄饼', '吉香居', '百叶结', '叽汁', '批萨酱', '筒骨', '眉豆', '南乳汁', '凤眼果', '蘸料', '果料包', '红色水果粉', '高湯', '老虎酱', '麻汁酱', '马来西亚三角盏', '槲叶', '榨菜', '粉皮', '舒可曼', '汤圆', '鲜竹荪', '芦苇叶', '酪乳', '辣柳', '豆皮结', '黄酱', '润唐内脂', '豆鼓', '煎饼', '麦青汁', '熟糕粉', '能多益', '捞汁', '黄金鲳', '可尔必思', '宇峰白凉粉', '簿百叶', '苇叶', '飞饼', '云南酸菜', '涪陵榨菜丝', '蒿子秆嫩尖', '燕窝盏', '蘸酱', '凉拌汁', '莲白', '客家娘酒', '东非头花胶筒', '调', '墨西哥卷饼', '银丝粉', '普宁豆酱', '意式香料', '蔬之鲜', '汤', '元宵', '鼠尾草', '草裹', '迷你干鲍', '正山小种', '辣松', '非洲冰草', '霸王花', '莲角', '云南酸腌菜', '兰香子', '鲜榨汁', '卡真粉', '甜酱', '黄芥辣', '花胶只', '花掓', '水麦芽', '果蔬汁', '红苕尖', '日式麻糬', '七谷物粉', '千岛酱', '爱他美', '茅根', '马苏', '熟元麦粉', '苤菜根', '茶干', '夜香花', '黄节瓜', '老汤', '小菜秧', '香松', '四川酸菜', '酸梅粉', '香果', '毛肚丝', '连度豆', '意式混合干香料', '罂粟籽', '酸苷', '脱水烤麸', '芝焙原味流心酱', '春卷皮', '金针菜', '五谷杂粮', '泡打', '青酱', '黒加仑', '香料粉', '麻辣鲜', '水', '素丸子', '粉浆', '东北酸菜', '迭迭香', '罂粟仔', '卡士达酱', '白巧', '钵仔糕粉', '毛肚', '昭通酱', '醇味鲜', '酒类', '李派林喼汁', '刺山柑', '太妃酱', '凯里红酸汤', '马头兰', '蒿子杆', '谷物粉', '馕', '茨菰', '母乳', '白玉', '头菜', '乳清', '果蔬泥', '莲花白', '甜豆荚', '马琳混合物', '苕尖', '味料', '青汁粉', '辣鲜露', '粉', '棕叶']\n"
     ]
    }
   ],
   "source": [
    "# change all Chinese ingredients to unkown\n",
    "ch_str=[]\n",
    "for index,row in data.iterrows():\n",
    "    if re.search('[\\u4e00-\\u9fa5]+',row.ingredients)!=None:\n",
    "         ch_str.append(data.loc[index,'ingredients']) \n",
    "print(list(set(ch_str)))"
   ]
  },
  {
   "cell_type": "code",
   "execution_count": 19,
   "metadata": {},
   "outputs": [
    {
     "name": "stdout",
     "output_type": "stream",
     "text": [
      "769\n"
     ]
    }
   ],
   "source": [
    "print(len(set(ch_str)))"
   ]
  },
  {
   "cell_type": "code",
   "execution_count": 20,
   "metadata": {},
   "outputs": [],
   "source": [
    "for index,row in data.iterrows():\n",
    "    if re.search('[\\u4e00-\\u9fa5]+',row.ingredients)!=None:\n",
    "        data.loc[index,'ingredients']='unkonwn'"
   ]
  },
  {
   "cell_type": "code",
   "execution_count": 34,
   "metadata": {},
   "outputs": [],
   "source": [
    "# cake --> chiffon\n",
    "for index, row in data.iterrows():\n",
    "    if row.ingredients=='cake':\n",
    "        data.loc[index,'ingredients']='chiffon'"
   ]
  },
  {
   "cell_type": "code",
   "execution_count": 35,
   "metadata": {},
   "outputs": [],
   "source": [
    "data=data.append({'recipe_id':'100000003','ingredients':'cream'},ignore_index=True)"
   ]
  },
  {
   "cell_type": "code",
   "execution_count": 36,
   "metadata": {},
   "outputs": [],
   "source": [
    "data.sort_values('recipe_id',inplace=True)\n",
    "data.reset_index(inplace=True,drop=True)"
   ]
  },
  {
   "cell_type": "code",
   "execution_count": 37,
   "metadata": {},
   "outputs": [],
   "source": [
    "data.to_csv('/home/IW_student/work/food_flavor/xiachufang_ingredient_preprocessing/datasets/x_ingr_6.csv')"
   ]
  },
  {
   "cell_type": "code",
   "execution_count": 14,
   "metadata": {},
   "outputs": [
    {
     "data": {
      "text/plain": [
       "(181200, 2)"
      ]
     },
     "execution_count": 14,
     "metadata": {},
     "output_type": "execute_result"
    }
   ],
   "source": [
    "add_data=pd.read_csv('/home/IW_student/work/food_flavor/xiachufang_ingredient_preprocessing/datasets/x_ingr_4(ss).csv',index_col=0,dtype=str)\n",
    "add_data=explode(add_data,'ingredients')\n",
    "add_data.dropna(inplace=True)\n",
    "add_data.shape"
   ]
  },
  {
   "cell_type": "code",
   "execution_count": 15,
   "metadata": {},
   "outputs": [
    {
     "data": {
      "text/html": [
       "<div>\n",
       "<style scoped>\n",
       "    .dataframe tbody tr th:only-of-type {\n",
       "        vertical-align: middle;\n",
       "    }\n",
       "\n",
       "    .dataframe tbody tr th {\n",
       "        vertical-align: top;\n",
       "    }\n",
       "\n",
       "    .dataframe thead th {\n",
       "        text-align: right;\n",
       "    }\n",
       "</style>\n",
       "<table border=\"1\" class=\"dataframe\">\n",
       "  <thead>\n",
       "    <tr style=\"text-align: right;\">\n",
       "      <th></th>\n",
       "      <th>recipe_id</th>\n",
       "      <th>ingredients</th>\n",
       "    </tr>\n",
       "  </thead>\n",
       "  <tbody>\n",
       "    <tr>\n",
       "      <th>0</th>\n",
       "      <td>100000002</td>\n",
       "      <td>asparagus</td>\n",
       "    </tr>\n",
       "    <tr>\n",
       "      <th>1</th>\n",
       "      <td>100000002</td>\n",
       "      <td>garlic</td>\n",
       "    </tr>\n",
       "    <tr>\n",
       "      <th>2</th>\n",
       "      <td>100000002</td>\n",
       "      <td>红椒</td>\n",
       "    </tr>\n",
       "    <tr>\n",
       "      <th>3</th>\n",
       "      <td>100000003</td>\n",
       "      <td>yogurt</td>\n",
       "    </tr>\n",
       "    <tr>\n",
       "      <th>4</th>\n",
       "      <td>100000003</td>\n",
       "      <td>gelatin</td>\n",
       "    </tr>\n",
       "  </tbody>\n",
       "</table>\n",
       "</div>"
      ],
      "text/plain": [
       "   recipe_id ingredients\n",
       "0  100000002   asparagus\n",
       "1  100000002      garlic\n",
       "2  100000002          红椒\n",
       "3  100000003      yogurt\n",
       "4  100000003     gelatin"
      ]
     },
     "execution_count": 15,
     "metadata": {},
     "output_type": "execute_result"
    }
   ],
   "source": [
    "add_data.head()"
   ]
  },
  {
   "cell_type": "code",
   "execution_count": 23,
   "metadata": {
    "scrolled": true
   },
   "outputs": [
    {
     "name": "stdout",
     "output_type": "stream",
     "text": [
      "['水油酥', '全家盒装水饺', '枧水', '豆瓣水', '镜面水', '糖水蜂蜜', '老卤水', '水发肉皮', '醪糟水', '柠檬水', '水发黑木耳', '净水', '淡盐水', '水腊肠', '浸泡用水', '水果等', '桢水', '水果罐头', '蝶豆花茶冻成水', '山椒水', '水果泥', '面粉吸水率不一样', '碟豆花泡水', '无水面皮', '水妈妈河粉', '卤水', '水发木耳', '云南单山蘸水', '碱水', '表面糖水', '泡椒水', '水淮山', '贵州蘸水椒', '熟水饺', '栗子水', '水面筋', '红糖水', '碳酸水', '淘米水', '扫面糖水', '红色水果粉', '混合水果干', '卤水包', '汽水', '水豆豉', '水发海参', '酸浆水', '水饴', '白水', '水要要预留点', '水混合物', '装饰水果若干', '醋水', '普通水', '花椒水', '二味水', '水麦芽糖', '水果切', '水鸭', '盐水', '派皮水', '碳水化', '塔皮冷藏水', '水疙瘩头', '脱水优格', '野山椒泡椒水', '石灰水', '糖水果混合物', '水饺', '蒸馏水', '老坛泡菜水', '液种水', '糖水水', '盐水梅', '水浸', '水面', '红枣放水泡一小时', '无水酥油', '水麦芽', '西梅水果馅', '单山蘸水', '蜂蜜加水', '浓度为%糖水', '面水浆', '常水', '水贻', '红枣提前用水泡洗一下；小米淘洗一遍', '水果味糖浆', '水可以不用', '建水米线', '蒸锅水', '水芹', '各式水果干', '茯苓茅根水', '水东芥菜', '蜂蜜水', '水仙芒', '脱水烤麸', '加水调匀', '太白粉水', '水饺皮', '日本盐渍樱花泡水一夜', '糖水', '水', '度碱水', '水果干', '糖水栗子', '碱水面', '水皮', '水怡', '游水桂花', '水草', '水果双拼类', '无糖水', '水果类', '巴黎水', '玫瑰水', '水即可', '面粉水', '卤水汁', '砚水']\n"
     ]
    }
   ],
   "source": [
    "## water\n",
    "water_str=[]\n",
    "for index,row in add_data.iterrows():\n",
    "    if re.search('水',row.ingredients)!=None:\n",
    "        #x_ingr.loc[index,'ingredients']='banana'\n",
    "        water_str.append(add_data.loc[index,'ingredients'])\n",
    "print(list(set(water_str)))"
   ]
  },
  {
   "cell_type": "code",
   "execution_count": 24,
   "metadata": {},
   "outputs": [],
   "source": [
    "for index,row in add_data.iterrows():\n",
    "    if re.search('^水$',row.ingredients)!=None:\n",
    "        add_data.loc[index,'ingredients']='water'"
   ]
  },
  {
   "cell_type": "code",
   "execution_count": 25,
   "metadata": {},
   "outputs": [
    {
     "data": {
      "text/plain": [
       "(5340, 2)"
      ]
     },
     "execution_count": 25,
     "metadata": {},
     "output_type": "execute_result"
    }
   ],
   "source": [
    "water_data=add_data[add_data['ingredients']=='water']\n",
    "water_data.shape"
   ]
  },
  {
   "cell_type": "code",
   "execution_count": 26,
   "metadata": {},
   "outputs": [],
   "source": [
    "w_data=water_data.drop_duplicates(['recipe_id','ingredients'],keep='first')"
   ]
  },
  {
   "cell_type": "code",
   "execution_count": 53,
   "metadata": {},
   "outputs": [
    {
     "data": {
      "text/plain": [
       "(4918, 2)"
      ]
     },
     "execution_count": 53,
     "metadata": {},
     "output_type": "execute_result"
    }
   ],
   "source": [
    "w_data.shape"
   ]
  },
  {
   "cell_type": "code",
   "execution_count": null,
   "metadata": {},
   "outputs": [],
   "source": [
    "# chicken_powder"
   ]
  },
  {
   "cell_type": "code",
   "execution_count": 28,
   "metadata": {},
   "outputs": [
    {
     "data": {
      "text/plain": [
       "(181256, 2)"
      ]
     },
     "execution_count": 28,
     "metadata": {},
     "output_type": "execute_result"
    }
   ],
   "source": [
    "add_data=pd.read_csv('/home/IW_student/work/food_flavor/xiachufang_ingredient_preprocessing/datasets/x_info_3.csv',index_col=0,dtype=str)\n",
    "add_data=explode(add_data,'ingredients')\n",
    "add_data.dropna(inplace=True)\n",
    "add_data.shape"
   ]
  },
  {
   "cell_type": "code",
   "execution_count": 43,
   "metadata": {},
   "outputs": [
    {
     "data": {
      "text/html": [
       "<div>\n",
       "<style scoped>\n",
       "    .dataframe tbody tr th:only-of-type {\n",
       "        vertical-align: middle;\n",
       "    }\n",
       "\n",
       "    .dataframe tbody tr th {\n",
       "        vertical-align: top;\n",
       "    }\n",
       "\n",
       "    .dataframe thead th {\n",
       "        text-align: right;\n",
       "    }\n",
       "</style>\n",
       "<table border=\"1\" class=\"dataframe\">\n",
       "  <thead>\n",
       "    <tr style=\"text-align: right;\">\n",
       "      <th></th>\n",
       "      <th>recipe_id</th>\n",
       "      <th>ingredients</th>\n",
       "    </tr>\n",
       "  </thead>\n",
       "  <tbody>\n",
       "    <tr>\n",
       "      <th>0</th>\n",
       "      <td>100000002</td>\n",
       "      <td>窝笋</td>\n",
       "    </tr>\n",
       "    <tr>\n",
       "      <th>1</th>\n",
       "      <td>100000002</td>\n",
       "      <td>蒜</td>\n",
       "    </tr>\n",
       "    <tr>\n",
       "      <th>2</th>\n",
       "      <td>100000002</td>\n",
       "      <td>红椒</td>\n",
       "    </tr>\n",
       "    <tr>\n",
       "      <th>3</th>\n",
       "      <td>100000003</td>\n",
       "      <td>酸奶</td>\n",
       "    </tr>\n",
       "    <tr>\n",
       "      <th>4</th>\n",
       "      <td>100000003</td>\n",
       "      <td>泡好的鱼胶片</td>\n",
       "    </tr>\n",
       "  </tbody>\n",
       "</table>\n",
       "</div>"
      ],
      "text/plain": [
       "   recipe_id ingredients\n",
       "0  100000002          窝笋\n",
       "1  100000002           蒜\n",
       "2  100000002          红椒\n",
       "3  100000003          酸奶\n",
       "4  100000003      泡好的鱼胶片"
      ]
     },
     "execution_count": 43,
     "metadata": {},
     "output_type": "execute_result"
    }
   ],
   "source": [
    "add_data.head()"
   ]
  },
  {
   "cell_type": "code",
   "execution_count": 30,
   "metadata": {},
   "outputs": [
    {
     "data": {
      "text/plain": [
       "(1498, 2)"
      ]
     },
     "execution_count": 30,
     "metadata": {},
     "output_type": "execute_result"
    }
   ],
   "source": [
    "cp_data=add_data[add_data['ingredients']=='鸡精']\n",
    "cp_data.shape"
   ]
  },
  {
   "cell_type": "code",
   "execution_count": 31,
   "metadata": {},
   "outputs": [
    {
     "data": {
      "text/plain": [
       "(174, 2)"
      ]
     },
     "execution_count": 31,
     "metadata": {},
     "output_type": "execute_result"
    }
   ],
   "source": [
    "cp_data1=add_data[add_data['ingredients']=='鸡粉']\n",
    "cp_data1.shape"
   ]
  },
  {
   "cell_type": "code",
   "execution_count": 32,
   "metadata": {},
   "outputs": [
    {
     "data": {
      "text/plain": [
       "(1672, 2)"
      ]
     },
     "execution_count": 32,
     "metadata": {},
     "output_type": "execute_result"
    }
   ],
   "source": [
    "cp_data=pd.concat([cp_data,cp_data1],axis=0)\n",
    "cp_data.shape"
   ]
  },
  {
   "cell_type": "code",
   "execution_count": 33,
   "metadata": {},
   "outputs": [
    {
     "data": {
      "text/html": [
       "<div>\n",
       "<style scoped>\n",
       "    .dataframe tbody tr th:only-of-type {\n",
       "        vertical-align: middle;\n",
       "    }\n",
       "\n",
       "    .dataframe tbody tr th {\n",
       "        vertical-align: top;\n",
       "    }\n",
       "\n",
       "    .dataframe thead th {\n",
       "        text-align: right;\n",
       "    }\n",
       "</style>\n",
       "<table border=\"1\" class=\"dataframe\">\n",
       "  <thead>\n",
       "    <tr style=\"text-align: right;\">\n",
       "      <th></th>\n",
       "      <th>recipe_id</th>\n",
       "      <th>ingredients</th>\n",
       "    </tr>\n",
       "  </thead>\n",
       "  <tbody>\n",
       "    <tr>\n",
       "      <th>0</th>\n",
       "      <td>100000201</td>\n",
       "      <td>chicken_powder</td>\n",
       "    </tr>\n",
       "    <tr>\n",
       "      <th>1</th>\n",
       "      <td>100000758</td>\n",
       "      <td>chicken_powder</td>\n",
       "    </tr>\n",
       "    <tr>\n",
       "      <th>2</th>\n",
       "      <td>100000853</td>\n",
       "      <td>chicken_powder</td>\n",
       "    </tr>\n",
       "    <tr>\n",
       "      <th>3</th>\n",
       "      <td>100001152</td>\n",
       "      <td>chicken_powder</td>\n",
       "    </tr>\n",
       "    <tr>\n",
       "      <th>4</th>\n",
       "      <td>100001179</td>\n",
       "      <td>chicken_powder</td>\n",
       "    </tr>\n",
       "  </tbody>\n",
       "</table>\n",
       "</div>"
      ],
      "text/plain": [
       "   recipe_id     ingredients\n",
       "0  100000201  chicken_powder\n",
       "1  100000758  chicken_powder\n",
       "2  100000853  chicken_powder\n",
       "3  100001152  chicken_powder\n",
       "4  100001179  chicken_powder"
      ]
     },
     "execution_count": 33,
     "metadata": {},
     "output_type": "execute_result"
    }
   ],
   "source": [
    "cp_data['ingredients']='chicken_powder'\n",
    "cp_data.reset_index(inplace=True,drop=True)\n",
    "cp_data.head()"
   ]
  },
  {
   "cell_type": "code",
   "execution_count": 44,
   "metadata": {},
   "outputs": [
    {
     "name": "stdout",
     "output_type": "stream",
     "text": [
      "['熏干鸭腿', '鸭脯肉', '鸭脖', '老鸭', '腊鸭腿', '鸭', '烤鸭架', '鸭肫', '鸭翅膀', '鸭腿', '鸭子', '鸭胸', '南京桂花鸭', '半片鸭', '净老鸭', '番鸭', '白玉鸭血豆腐', '鸭梨', '鸭珍', '嫩鸭', '鸭心', '鸭脚+鸭翅', '鸭舌', '老鸭子', '鸭腿肉', '李锦记烤鸭酱', '清美鸭血', '鸭肉', '鸭边腿', '鸭二节翅', '鲜鸭舌', '草鸭', '草鸭腿', '鸭肝', '老鸭汤', '麻鸭', '鸭架', '水鸭', '鸭胗', '鸭子肉', '低温慢煮鸭胸', '鸭舌头', '鸭血', '鸭锁骨', '鸭掌', '冻鸭掌', '鸭爪', '土鸭', '鸭翅', '鸭汤', '油封鸭腿', '处理好的鸭子', '鸭肠', '鸭头', '鸭后腿', '仔鸭']\n"
     ]
    }
   ],
   "source": [
    "## duck\n",
    "duck_str=[]\n",
    "for index,row in add_data.iterrows():\n",
    "    if re.search('鸭',row.ingredients)!=None:\n",
    "        #x_ingr.loc[index,'ingredients']='banana'\n",
    "        duck_str.append(add_data.loc[index,'ingredients'])\n",
    "print(list(set(duck_str)))"
   ]
  },
  {
   "cell_type": "code",
   "execution_count": 41,
   "metadata": {},
   "outputs": [],
   "source": [
    "for index,row in add_data.iterrows():\n",
    "    if re.search('鸭蛋',row.ingredients)!=None:\n",
    "        add_data.loc[index,'ingredients']='duck_egg'"
   ]
  },
  {
   "cell_type": "code",
   "execution_count": 45,
   "metadata": {},
   "outputs": [],
   "source": [
    "for index,row in add_data.iterrows():\n",
    "    if re.search('鸭',row.ingredients)!=None:\n",
    "        add_data.loc[index,'ingredients']='duck'"
   ]
  },
  {
   "cell_type": "code",
   "execution_count": 47,
   "metadata": {},
   "outputs": [
    {
     "data": {
      "text/plain": [
       "(270, 2)"
      ]
     },
     "execution_count": 47,
     "metadata": {},
     "output_type": "execute_result"
    }
   ],
   "source": [
    "duck_data=add_data[add_data['ingredients']=='duck']\n",
    "duck_data.shape"
   ]
  },
  {
   "cell_type": "code",
   "execution_count": 48,
   "metadata": {},
   "outputs": [
    {
     "data": {
      "text/plain": [
       "(103, 2)"
      ]
     },
     "execution_count": 48,
     "metadata": {},
     "output_type": "execute_result"
    }
   ],
   "source": [
    "duck_data1=add_data[add_data['ingredients']=='duck_egg']\n",
    "duck_data1.shape"
   ]
  },
  {
   "cell_type": "code",
   "execution_count": 50,
   "metadata": {},
   "outputs": [
    {
     "data": {
      "text/plain": [
       "(373, 2)"
      ]
     },
     "execution_count": 50,
     "metadata": {},
     "output_type": "execute_result"
    }
   ],
   "source": [
    "duck_data=pd.concat([duck_data,duck_data1],axis=0,ignore_index=True)\n",
    "duck_data.shape"
   ]
  },
  {
   "cell_type": "code",
   "execution_count": null,
   "metadata": {},
   "outputs": [],
   "source": [
    "# concat all datasets"
   ]
  },
  {
   "cell_type": "code",
   "execution_count": 54,
   "metadata": {},
   "outputs": [],
   "source": [
    "whole_data=pd.concat([data,cp_data,w_data,duck_data],axis=0,ignore_index=True)\n",
    "whole_data.dropna(inplace=True)\n",
    "whole_data.sort_values('recipe_id',inplace=True)\n",
    "whole_data.reset_index(inplace=True,drop=True)"
   ]
  },
  {
   "cell_type": "code",
   "execution_count": 55,
   "metadata": {},
   "outputs": [
    {
     "data": {
      "text/plain": [
       "(179669, 2)"
      ]
     },
     "execution_count": 55,
     "metadata": {},
     "output_type": "execute_result"
    }
   ],
   "source": [
    "whole_data.shape"
   ]
  },
  {
   "cell_type": "code",
   "execution_count": 59,
   "metadata": {},
   "outputs": [],
   "source": [
    "whole_data.to_csv('/home/IW_student/work/food_flavor/xiachufang_ingredient_preprocessing/datasets/xiachufang_ing.csv')"
   ]
  },
  {
   "cell_type": "code",
   "execution_count": null,
   "metadata": {},
   "outputs": [],
   "source": []
  }
 ],
 "metadata": {
  "kernelspec": {
   "display_name": "Python 3",
   "language": "python",
   "name": "python3"
  },
  "language_info": {
   "codemirror_mode": {
    "name": "ipython",
    "version": 3
   },
   "file_extension": ".py",
   "mimetype": "text/x-python",
   "name": "python",
   "nbconvert_exporter": "python",
   "pygments_lexer": "ipython3",
   "version": "3.6.3"
  }
 },
 "nbformat": 4,
 "nbformat_minor": 2
}
