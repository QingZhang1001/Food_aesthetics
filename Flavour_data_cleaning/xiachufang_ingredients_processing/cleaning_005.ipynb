{
 "cells": [
  {
   "cell_type": "code",
   "execution_count": 1,
   "metadata": {},
   "outputs": [],
   "source": [
    "import pandas as pd\n",
    "import numpy as np\n",
    "import matplotlib.pyplot as plt\n",
    "import seaborn as sns\n",
    "import os\n",
    "import re"
   ]
  },
  {
   "cell_type": "code",
   "execution_count": 2,
   "metadata": {},
   "outputs": [],
   "source": [
    "def explode(df,column):\n",
    "    df1=df[column].str.split('、',expand=True).stack().str.strip().reset_index(level=1,drop=True)\n",
    "    df1=pd.DataFrame(df1)\n",
    "    df=df.drop(column,axis=1).join(df1).reset_index(drop=True)\n",
    "    df.rename(columns={0:'ingredients'},inplace=True)\n",
    "    return df"
   ]
  },
  {
   "cell_type": "code",
   "execution_count": 3,
   "metadata": {},
   "outputs": [
    {
     "data": {
      "text/plain": [
       "(173822, 2)"
      ]
     },
     "execution_count": 3,
     "metadata": {},
     "output_type": "execute_result"
    }
   ],
   "source": [
    "x_ingr=pd.read_csv('/home/IW_student/work/food_flavor/ingredient_preprocessing/datasets/x_ingr_5.csv',index_col=0)\n",
    "x_ingr=explode(x_ingr,'ingredients')\n",
    "x_ingr.dropna(inplace=True)\n",
    "x_ingr.shape"
   ]
  },
  {
   "cell_type": "code",
   "execution_count": 117,
   "metadata": {},
   "outputs": [],
   "source": [
    "x_ingr.to_csv('/home/IW_student/work/food_flavor/ingredient_preprocessing/datasets/x_ingr_5.csv')"
   ]
  },
  {
   "cell_type": "code",
   "execution_count": 119,
   "metadata": {},
   "outputs": [
    {
     "data": {
      "text/plain": [
       "2327"
      ]
     },
     "execution_count": 119,
     "metadata": {},
     "output_type": "execute_result"
    }
   ],
   "source": [
    "x_ingredients=x_ingr['ingredients'].values.tolist()\n",
    "x_ingredients_set=list(set(x_ingredients))\n",
    "len(x_ingredients_set)"
   ]
  },
  {
   "cell_type": "code",
   "execution_count": 120,
   "metadata": {},
   "outputs": [
    {
     "data": {
      "text/plain": [
       "1987"
      ]
     },
     "execution_count": 120,
     "metadata": {},
     "output_type": "execute_result"
    }
   ],
   "source": [
    "x_ingredients=','.join(x_ingredients_set)\n",
    "pattern =re.compile(u'[\\u4e00-\\u9fa5]+')\n",
    "result=re.findall(pattern,x_ingredients)\n",
    "len(result)"
   ]
  },
  {
   "cell_type": "code",
   "execution_count": 121,
   "metadata": {},
   "outputs": [],
   "source": [
    "result.sort()"
   ]
  },
  {
   "cell_type": "code",
   "execution_count": 122,
   "metadata": {
    "scrolled": true
   },
   "outputs": [
    {
     "name": "stdout",
     "output_type": "stream",
     "text": [
      "['一', '一品鲜', '一小段', '一次性手套', '一次添加', '丁片', '七叶瓜', '七味粉', '七喜', '七谷物粉', '万用凉拌汁', '万能炸粉', '三', '三人份', '三明治制作器', '三明治片', '三根', '三棵', '三次添加', '三色藜麦', '三角', '三道鳞', '上新粉', '上汤', '不够再加', '不带壳海鲜', '不沾神器', '不粘布', '不粘金盘', '不锈钢', '丑耳', '东北大拉皮', '东北大酱', '东北豆角', '东北酸菜', '东阿阿胶', '东非头花胶筒', '丝', '丝带', '丝带彩带', '中', '中层', '中间层液体', '中间破洞', '丸子', '丸子类', '么么哒', '乌梅', '乌梅干', '乌榄', '乌江榨菜', '九制乌梅', '九制话梅', '也可以自由搭配', '乳清', '乳胶小圆气球', '二', '二条青', '二次添加', '二者混合', '二荆条', '云上', '云南昭通酱', '云南酱', '云南酸腌菜', '云南酸菜', '云耳', '云苓', '五仁', '五仁馅', '五谷杂粮', '京式甜酱', '亮晶晶', '人份用量', '人参', '什锦杂菜', '仁汉菜', '仙草粉', '任意口味果酱', '任意果干粉', '份', '份量', '伊利白油', '伍斯特沙司', '伍斯特郡醬汁', '优益', '优质番红花', '优质脂肪油', '低卡酱汁', '低脂沙拉酱', '佐料', '何首乌', '佩斯', '保鲜膜', '做法', '儿童优酪乳', '儿菜', '元宵', '先锋强力粉', '光明冰砖', '党参', '全单', '全部切瓣备用', '全部汤种', '全麦卷饼', '全麦方包', '全麦波兰种', '兩條', '八寸心形慕斯圈', '八寸慕斯圈', '八寸翻倍', '八果', '八瓣', '六必居干酱', '六月黄', '六级', '兰度豆', '兰香子', '关于渐变色', '关于甜度', '关于馅儿料', '其', '其它', '其它佐料', '其它原料', '其它粉', '内酯', '内馅', '内馅儿', '内馅制作', '冬菜', '冬虫夏草', '冬虫草', '冬豆', '冬阴功汤料', '冬阴功酱', '冬阴功酱料', '冰', '冰塊', '冰淇淋', '冰淇淋球', '冰淇淋粉', '冰激凌', '冰皮', '冰皮月饼粉', '冰皮粉', '冰皮配方', '冰粉', '冰粉籽', '冰粉粉', '冰花梅酱', '冰草', '冰镇雪碧', '决明子', '冷冻披萨饼', '冷冻杂蔬丁', '冷冻派皮', '冷冻速食飞饼', '冷冻飞饼', '净石头', '凉拌', '凉拌汁', '凉拌菜', '凉水即可', '凉皮', '凉粉', '凉粉籽', '凉粉粉', '凉粉草', '凉糕粉', '减脂便当', '凤爪', '凤眼果', '凯撒沙拉汁', '凯撒沙拉酱', '凯里红酸汤', '出汁', '刀', '刀子', '刀豆', '分割线', '切丁', '切丝', '切成小块后冷冻', '切片', '刨子', '制作', '刷子', '刷底', '刺山柑', '加加味极鲜', '加水调匀', '动物性', '动物性奶', '包', '包心麻辣丸', '北京干黄酱', '北芪', '千层', '千层派皮', '千层皮', '千岛酱', '千张', '千张丝', '千张皮', '千张豆皮', '千里香', '半', '半只', '半只', '半听', '半根', '单位是', '南乳', '南乳汁', '南德', '南非冰草', '南食召', '卡仕达奶油酱', '卡仕达酱', '卡仕达馅布丁', '卡仕達醬', '卡士达酱', '卡夫奇妙酱', '卡真粉', '印度飞饼', '印度飞饼皮', '即可', '即食海参', '卵磷脂', '卷入', '厚百叶', '原', '原味优酪乳', '原味卷饼', '原味微甜飞饼皮', '原味沙拉酱', '原味炼乳', '原味甜炼乳', '原味薄饼', '原味豆奶', '原味飞饼皮', '原料', '原料选择可能随供应略微调整', '原汤', '原种', '去壳', '去核切片', '去皮', '去皮蚕豆', '去皮鲜蚕豆', '叉烧', '叉烧酱', '双手', '双汇王中王', '发现汤更白', '发粉', '发菜', '发菜丸子', '古越龙山', '句子', '另外', '只', '只要一小块', '可乐', '可乐毫升', '可以按比例', '可以自由搭配', '可口可乐', '可可', '可可液块', '可可白脱', '可可脂', '可尔必思', '可选', '可颂', '可食用三色堇', '可食用绿色植物叶子', '台湾话梅', '号意粉', '叻沙汤底', '叽汁', '各', '各式', '各式果酱', '各式水果干', '各式海鲜', '各式火锅涮菜', '各式蔬果', '各色丸子', '各色果干', '合计', '吉士粉', '吉香居', '同尺寸', '呗', '味事达味极鲜', '味会更鲜', '味全', '味增', '味料', '味极鲜', '味达美', '味达美味极鲜', '咖哩', '咖哩块', '咸味话梅', '咸菜', '品种', '哈哈', '响螺', '响螺片', '哥顿金酒', '啦啦', '喷壶', '喼汁', '四川泡酸菜', '四川老坛泡酸罗卜', '四川酸菜', '圆子', '圆盘', '圆粉条', '圆豆', '圆豆角', '土', '圣子', '地榆', '地胶', '地菜花', '块', '坨坨馍', '型号', '塑料围边', '塑料手套', '塑料泡沫', '塔塔粉', '塔塔粉代替', '塔皮', '塔菜', '塘', '墨西哥卷饼', '墨西哥卷饼皮', '墨西哥薄饼', '士力架', '备汤', '复配油条膨松剂', '夏巴塔', '夏枯草', '外径凉皮锣锣', '外皮', '多味冰激凌粉', '多香果粉', '夜开花', '夜香花', '大', '大乌梅', '大匙', '大回香', '大块腐乳', '大扁豆', '大根', '大根条', '大油', '大肘子', '大车螺', '大连鲍', '大酱', '大阪烧', '大饼', '大骨', '大骨头', '大麦叶青汁粉', '大麦若叶粉', '大麦若叶青汁', '大麦青汁粉', '天妇罗粉', '天然果蔬粉', '天然气灶', '天然色粉', '天猫进口金车厘子', '天麻', '太太乐', '太太乐原味鲜', '太妃酱', '太白粉', '太阳公公', '太阳谷', '头尾', '头抽', '头月饼桶', '头月饼花片', '头菜', '夹心', '夹馅', '夹馅儿', '奇亚籽', '奇异籽', '奥勒冈', '奶', '奶冻', '奶冻层', '奶冻布丁', '奶油夹馅', '奶油奶', '奶油奶酷', '奶油忌廉', '奶油抹酱', '奶油林姆', '奶油汤料', '奶油酥', '奶油香缇', '奶茶', '奶酥', '奶酥', '奶酥馅', '奶黄', '奶黄馅', '奶黄馅儿', '奶黄馅儿', '好吃点消化饼', '好奇心', '好梦多咖哩', '如上', '如图', '如图所见', '妙脆角', '姑娘果', '姜', '威化饼', '威士忌', '娃娃', '婆参', '婴儿奶粉段', '嫩芽菜', '嫩香椿', '嫩香椿芽', '嫩马齿苋', '子', '孑然粉', '孝母', '宇峰白凉粉', '安泰桥百花蜜', '安琪复配油条蓬松剂', '安琪烧烤粉', '宗家府泡菜', '宜宾芽菜', '客家娘酒', '室温', '家乐浓汤宝', '家乐点蘸鲜露', '家乐热炒鲜露', '家常饼', '家庭比萨酱', '家庭酱', '宽扁豆', '宽粉', '宽粉条', '密封壶', '寒天粉', '寸圆形派盘', '寸披萨盘', '寸披萨饼底', '寸披萨饼皮', '寸方盘', '寸活底派盘', '寸派皮', '寸派盘', '寸饼底', '寸饼皮', '寿司帘', '寿司竹帘', '寿喜锅酱汁', '封口夹', '小', '小仁仙', '小仁鲜', '小元宵', '小刷子', '小号慕斯圈', '小咸菜', '小圆子', '小屿', '小干调味料', '小气球', '小汤圆', '小油条', '小王子玩偶', '小白龙', '小粉', '小红莓浓缩汁', '小苏达', '小茴', '小菜', '小菜秧', '小蒸笼', '小西黄柿', '小贴士', '小酒', '小酥打', '小里脊', '小镊子', '小闪闪', '小青柠', '小青龙', '小香干', '尤加利', '展艺冰皮月饼粉', '山黄皮', '川帮掌门', '川砂仁', '川芎', '川见丸子', '川贝', '川贝母', '川贝母粉', '川贝粉', '巴瑞脆片', '布', '布丁', '布丁模子', '布丁粉', '布朗尼', '带壳海鲜', '带骨肋条', '常规佐料', '广式九制话梅', '底盘', '廣東', '开洋', '引子', '张', '张亮微博官方酱汁', '当年', '当归', '当归片', '当然要有豆角', '微波炉', '心', '必选', '必须放', '思念飞饼', '总统', '恙', '惠州甜梅菜', '想吃多少做多少', '意大利披萨酱', '意大利混合香料', '意大利酱', '意大利香料', '意式披萨酱', '意式沙拉酱', '意式混合干香料', '意式混合香料', '意式香料', '意粉', '慈溪本地杨梅', '慕斯', '慕斯层', '慕斯底', '慕斯糊', '慕斯酱', '慕斯馅', '懒得写', '成品酸奶毫升', '所有标量都是', '所有谷物总量', '扁尖', '扁豆', '扁豆角', '手', '手套', '手工切饼', '手抓饼', '手指头', '手擀粉', '手粉', '手粉适', '执着', '批杷约', '批萨草', '批萨酱', '折耳根', '折耳根叶', '披萨', '披萨底', '披萨料', '披萨皮', '披萨盘', '披萨酱', '披萨酱配方', '披萨饼', '披萨饼寸', '披萨饼底', '披萨饼皮', '披萨馅', '拉条', '拉汁', '拉瓜', '拌曲用', '拌浆用', '挖球器', '挞皮', '捞汁', '掌中宝', '提前准备', '提子', '提子干', '插牌', '插电小炖锅一口', '搅匀备用', '搜罗网上视频', '撒尿丸', '撻皮', '支竹', '改良剂', '放心油条', '散式菜花', '数', '整形需要', '斑兰叶', '斑斓叶', '斑斓汁', '料', '料', '料', '料汁', '料油', '料洒', '料理话梅', '新', '新奥尔良腌料', '新疆烤馕', '方包', '无味明胶粉', '无水酥油', '无籽黑提', '无铝油条膨松剂', '无铝油条蓬松剂', '无铝泡打', '无铝膨松剂', '无麸质版干料', '日式烧烤汁', '日式照烧酱', '日式麻糬', '日本青芥辣', '早范', '时令鲜蔬', '时蔬', '时间', '昆布', '昆布粉', '明胶片', '明胶粉', '易小焙家用月饼馅', '易果', '春卷皮', '春卷饼皮', '春菊', '昭', '昭通酱', '晨师傅广式挞皮', '普宁豆酱', '普罗旺斯香料', '普通', '普通版干料', '普通粉', '智利', '暖灯', '曲奇', '曼越莓', '月子酒', '月日见', '月饼', '月饼模子', '月饼皮', '月饼粉', '月饼馅', '有机菜花', '有问题请仔细看贴士', '朝一', '木', '朵', '机器均可', '机器猫表情用油', '杂果', '杂粮粉', '杂菜', '杂蔬', '杂蔬丁', '李派林喼汁', '李派林酸甜汁', '杨梅', '杨梅层', '杨梅干', '杭白菊', '松仁', '松子', '松子仁', '松子油', '松柳苗', '松饼', '松饼粉', '极美滋', '果', '果丹皮', '果子', '果干', '果料包', '果料威士忌', '果汁', '果泥', '果脯', '果蔬', '果蔬汁', '果蔬泥', '果蔬粉', '果酱', '枳壳', '枸己', '柱侯酱', '柱候酱', '柱候醬', '柿子', '柿饼', '栀子', '标准粉', '树叶', '树皮', '根', '根去皮', '根据人数自己斟酌', '桂冠小元宵', '桂冠沙拉酱', '桂冠香糯小圆子', '桂园', '桂圓', '桂林腐乳', '桂枝', '桂片', '桂花', '桂花层', '桂花干', '桂花蜜', '桂花酱', '桑椹', '桑葚', '桑葚果酱', '桑葚果酱制作用量', '梅子', '梅子酱', '梅干', '梅干菜', '梅汁', '梅粉', '梅菜', '棉线', '棉线绳', '棉织花边绑带', '棉绳', '棍', '棕叶', '植物', '植物白油', '植皮', '楂干', '榄菜', '榆钱', '榛仁', '榨汁器', '榨菜', '榨菜丝', '榨菜末', '槐花', '槟榔', '槟榔芋', '槲叶', '欢乐指数', '欣', '欧包', '欧包切片', '正山小种', '此方不太甜', '此配方皮薄不适合新手操作', '段', '母', '母乳', '比例', '比例为', '比例兑成照烧汁', '比例是', '比萨草', '比萨酱', '比较有劲道就是比较弹牙哦', '毛刷', '毛竹篾', '毛肚', '毛肚丝', '毛肚片', '毫升', '水', '水东芥菜', '水儿', '水冰', '水发海参', '水可以不用', '水妈妈河粉', '水度', '水怡', '水果切', '水果双拼类', '水果干', '水果泥', '水果等', '水果类', '水比例', '水毫升', '水油酥', '水浸', '水混合物', '水疙瘩头', '水皮', '水约', '水约度', '水草', '水豆豉', '水贻', '水量', '水饴', '水饺', '水麦芽', '永川豆豉', '汁', '汁', '汤', '汤圆', '汤圆汤料', '汤圆皮', '汤头', '汤汁', '汤种', '汤种配方', '沙参', '沙律酱', '沙拉', '沙拉汁', '沙拉菜', '沙拉酱', '沙拉酱汁', '沙朗', '沙滩', '沙茶', '沙茶酱', '沙虫干', '没有也可以', '河粉', '油', '油条', '油条膨松剂', '油汁油', '油泼辣子', '油溶色粉', '油皮', '油皮制作', '油豆皮', '油豆角', '油辣子', '油酥', '油酥制作', '法国白色色粉', '法国粉', '法国色粉天蓝色', '法国色粉粉红色', '法国金蜜色粉', '法棍', '法棍儿', '法香', '泡发粉丝', '泡打', '泡芙', '泡芙体', '泡菜', '泡菜汤', '泡菜酱', '泡豇豆', '泡软粉丝', '波兰种', '波本', '波萝', '泥鳅', '泰式甜辣醬', '泰式酸甜酱', '泰式青柠', '泰式青柠汁', '泸州老窖', '洋参', '洋菜粉', '洋蓟心', '洋车前子壳粉', '洋车前子粉', '洋酒', '洗净', '洛神', '洛神花', '洪山菜薹', '派皮', '派盘', '派馅', '流心馅', '流沙', '流沙馅', '浆果', '浏阳豆鼓', '浓汤宝', '浓缩', '浓豆浆', '浓醇奶味类', '浪花', '海产品', '海凉粉', '海参', '海天味极鲜', '海天海鲜酱', '海天牌海鲜酱', '海天鲜抽', '海石花草', '海蓝', '海虹', '海蜇', '海蜇皮', '海鲜', '海鲜粉', '海鲜酱', '浸泡液', '涂抹', '消化饼', '润唐内脂', '涪陵榨菜', '涪陵榨菜丝', '液体', '液态酥油', '液种', '淘宝有卖', '淡干海参', '深蓝', '混合小丸子', '混合杂粮', '混合果干', '混合水果干', '混合沙拉叶', '混合豉汁料', '混合香料', '清', '清汤', '清补凉煲汤料', '温度', '温度计', '游水桂花', '湿料', '滇红', '满天星', '滤网', '潮汕', '潮汕冬菜', '澄', '濑粉', '火晶柿子', '火煺片', '火锅丸子', '火锅汤', '火锅粉', '灭活罂粟籽', '灵芝', '炙制乌梅', '炸', '炸丸子', '炸制', '炸粉', '炸腐竹', '炸菜丝', '炸酱', '点缀', '炼', '炼乳', '炼乳一', '炼乳酱', '烂腌菜', '烘烤', '烘焙石', '烘焙酒', '烤具', '烤制用', '烤后涂抹', '烤松子仁', '烤架', '烤角豆粉', '烤麸', '烧仙草粉', '烧汁', '烧汁料', '烧烤干料', '烧烤料', '烧烤汁', '烧烤用竹签', '烧烤粉', '烧烤蘸料', '烧烤蜜汁', '烧烤酱', '烧酒', '烧骨', '烫手', '烫水', '烫种', '热情', '热油', '热油条', '热爱早餐', '热爱生活', '热狗', '热量约大卡', '烹调油', '煉奶', '煎饼', '照烧汁', '照烧酱', '煮熟', '熟元麦粉', '熟化魔芋粉', '熟地', '熟松仁', '熟松子', '熟松子仁', '熟毛肚', '熟水饺', '熟油', '熟粉', '熟糕粉', '熟藜麦', '燕条', '燕窝', '燕窝一至盏', '燕窝盏', '燕饺', '爪子仁', '爱他美', '爱心', '爱心夹层', '片', '片状酥油', '片粟粉', '牙齿', '牧场色拉酱', '特百惠不锈钢锅具', '狗牙菜', '猫耳朵', '玉竹', '王后', '王后', '王后中式糕点粉', '王后粉', '玛丽饼', '玩偶', '现成寸披萨皮', '现采蒿叶', '珍珠', '班戟皮', '班戟粉', '琼脂', '琼脂粉', '瑤柱', '瓠子', '瓠瓜', '瓣', '甘油', '甘粟仁', '甘纳豆', '甘草', '甘草各', '甘蔗', '甜不辣', '甜味剂', '甜味沙拉酱', '甜柿', '甜桂花', '甜沙拉酱', '甜炼乳', '甜甜圈', '甜豆', '甜豆荚', '甜豆角', '甜辣味', '甜酱', '生', '生松仁', '生瓜', '生石灰', '生薑', '生鴨舌', '用油', '用量', '用量根据自己调整', '田螺', '电磁炉', '疆烤馕', '瘦叉烧', '白', '白凉粉', '白参', '白吉馍', '白味增', '白寇', '白寇各', '白巧', '白干', '白扁豆', '白扣', '白汁', '白油', '白泡沫板', '白涼粉', '白玉', '白玉皮', '白百叶', '白粉', '白粉丝', '白粥', '白线', '白膘', '白色', '白色植物起酥油', '白芍', '白芷', '白芷片', '白芷等中药', '白莲', '白莲蓉', '白莲蓉馅', '白蔻', '白藜麦', '白蘿卜', '白酒', '白酱粉', '白鲢', '百事可乐', '百力滋', '百叶', '百叶结', '百合', '百合干', '百里香', '百里香叶', '百页', '皮', '皮冻', '皮屑', '皮料', '皮萨草', '益母草', '盎司', '盖菜', '盘子', '眉豆', '看做法', '看步鄹', '真露', '石斛', '石槲', '石灰', '石螺', '砂仁', '砂锅煲', '砧板', '硅胶', '硅胶垫', '硅胶垫子', '硬柿子', '碳水化', '祖名香干', '种混合香料', '秘制怪味酱', '秘制红烧汁', '秘制酱料', '秘制酱汁', '秘制酸甜酱汁', '稍微切小点', '稻花香', '空心菜', '空心菜梗', '空心菜秆', '空心菜茎', '穿心莲', '竹帘', '竹漏', '竹炭', '竹炭份', '竹炭粉', '竹甘蔗', '竹碳粉', '竹筒', '竹签', '竹签子', '竹荪', '竹荪粉', '竹蔗', '竹蔗节', '竹轮', '第一种', '第点', '等', '等量就行', '筒子骨', '筒骨', '筚拨', '筛子', '筛网', '筷子', '简单', '箬叶', '篮子', '簿百叶', '籽', '粉', '粉', '粉丝', '粉丝圆饼', '粉块', '粉条', '粉浆', '粉皮', '粉皮一张', '粉色', '粉葛', '粗棉线', '粗棉绳', '粗粮粉', '粗线', '粗质粉类', '粟粉', '粥底', '粽叶', '粽子', '粽子叶', '粽箬', '粽绳', '粽针', '糕片', '糕粉', '紅棗', '素丸子', '紫色', '紫苏', '紫苏一小把', '紫苏叶', '紫苏梅', '紫苣等杂菜', '紫贝菜', '红', '红丝绒', '红丝绒溶液', '红丝绒精华', '红加仑', '红参', '红提', '红曲', '红曲粉', '红曲素', '红果', '红栆', '红烧汁', '红烧汤头', '红糟', '红绳', '红腐乳', '红腐乳汁', '红色', '红色果酱', '红色水果粉', '红色色粉', '红苋菜', '红苕尖', '红莲', '红莲蓉', '红莲蓉馅', '红菜苔', '红辣子', '红鲟', '红龙果', '约', '约度', '纯可可脂', '纯脂白巧力', '纯豆浆粉', '纯黑巧', '纱绳', '纳豆', '线', '线绳', '练乳', '练奶', '细心', '细棉线', '细竹签', '细粉丝', '细粉条', '细辣子粉', '细麦芽粉', '绢丝豆花预拌粉', '绳子', '绵线', '绿叶', '绿色', '绿色植物叶子', '缎带', '缸豆', '罂粟', '罂粟仔', '罂粟籽', '罗定豆豉', '罗汉果', '美乃滋', '美乃滋抹酱', '美味', '美味鲜', '美味鲜精油', '美奶兹', '美奶滋', '美极', '美极鲜', '美极鲜味汁', '老', '老坛酸菜', '老恒', '老汤', '老油条', '老虎酱', '老豆角', '耐心', '耗豉', '肝', '胎菊', '胡蘿蔔', '胡麻酱', '胶带', '胶皮手套', '能多益', '脆皮底', '脊骨', '脱水烤麸', '脱脂奶', '腊味', '腌制', '腌咸菜', '腌料', '腌渍料', '腌粉', '腌酱', '腌雪菜', '腌香椿', '腌香椿末', '腐', '腐乳', '腐乳块', '腐乳汁', '腐乳汤', '腐泡', '腐皮', '腐竹', '腔骨', '腰花', '臊子', '自己可以改良', '自腌雪菜', '臭粉', '舒可曼', '舞茸', '色拉汁', '色拉菜', '色拉酱', '色粉', '色膏', '艾草', '艾草嫩叶', '艾草汁', '艾草粉', '节瓜', '芋丝', '芋圆', '芋子', '芋泥', '芋泥层', '芋苗', '芝味油', '芝果', '芝焙原味流心酱', '芡实', '芡实粉', '芡汁', '芥兰', '芥菜', '芥菜丛', '芥菜头', '芥菜疙瘩', '芥蓝', '芦苇叶', '芦蒿', '芫茜', '花奶', '花掓', '花旗参', '花朵模型', '花纹', '花胶', '花胶只', '花螺', '花豆', '花辣', '花雕', '芽白', '芽菜', '芽菜末', '苇叶', '苋菜', '苏子叶', '苏式话梅', '苏打粉', '苕尖', '苕粉', '苤菜根', '苦苣', '苦苣等', '苦菊', '英式奶油酱', '英式麦芬', '茅根', '茅根一小把', '茨实', '茨菰', '茭白', '茯苓', '茯苓块', '茶匙', '茶巾', '茶干', '茶粉', '茼蒿', '茼蒿菜', '草', '草头', '草寇', '草粿草', '草绳', '草苺', '草苺粉', '草蔻', '草裹', '荜拨', '荠荠菜', '荠菜', '荠菜花', '荷兰豆', '荷叶', '荸荠', '荸荠白', '莓', '莓果', '莜麦粉', '莧菜', '莲白', '莲花白', '莲菜', '莲蓉', '莲蓉馅', '莲蓬', '莲角', '莳萝', '莴苣', '莴苣叶', '菊花', '菜', '菜干', '菜板', '菜根', '菜脯', '菜苔', '菠蘿蔔', '菱角', '菱角仁', '菱角菜', '萄葡干', '营养', '葁末', '葁蓉', '葛粉', '葫芦', '蒂', '蒟蒻丝', '蒲瓜', '蒸', '蒸盘', '蒸饺', '蒸魚醬油', '蒿子', '蒿子杆', '蒿子秆', '蒿子秆嫩尖', '蒿菜', '蓝色汁液', '蓝色海洋', '蓬蒿菜', '蔓越苺干', '蔬之鲜', '蔬果', '蔬果泥', '蕨根粉', '蕨根粉丝', '蕨菜', '薄口醤油', '薄脆', '薄脆片', '薑', '藍莓', '藏红花', '藜麦', '藿香', '蘸料', '蘸粉', '蘸酱', '虎皮', '虫草', '虫草花', '蚕豆', '蚕豆仁', '蚕豆瓣', '蛇豆', '蜜', '蜜栆', '蜜桂花', '蜜汁叉烧酱', '蜜渍桂花', '蜜蜂', '蜜饯', '蝦皮', '蝶豆花', '蝶豆花汁液', '蝶豆花茶', '融化', '螺丝', '螺丝粉', '螺旋藻粉', '蠔油', '血皮菜', '袖子', '裱花', '裹表皮用', '西式混合干香料', '西梅', '西梅干', '西梅水果馅', '西洋参', '西洋参片', '西洋参粉', '西紅柿', '西胡', '西蓝花', '西贡酱汁', '覆馅', '见上', '见简介', '角瓜', '調味料', '话梅', '详见简介中', '调', '调味料', '调色用', '调酱料韩国大酱', '谢记烧仙草粉', '谷优消化饼', '谷元粉', '谷朊粉', '谷物粉', '谷物脆片', '谷类', '豆制品', '豆卜', '豆奶', '豆泡', '豆浆', '豆渣', '豆瓣', '豆瓣油', '豆瓣醬', '豆皮', '豆皮丝', '豆皮结', '豆粉', '豆芽', '豆芽菜', '豆苗', '豆角', '豆角干', '豆豉', '豆豉酱', '豆酱', '豆饼', '豆鼓', '豆鼓酱', '豇豆', '豇豆角', '豉汁', '豬肝', '貝', '贝母粉', '贝素', '贡丸', '越南春卷皮', '车前子', '车厘子', '车螺', '辅助', '辛夷', '辣', '辣子', '辣子角', '辣松', '辣柳', '辣根', '辣皮', '辣皮子', '辣粉', '辣豆瓣', '辣豆瓣醬', '辣豆豉', '辣青', '辣鲜露', '辽参', '过筛后备用', '连度豆', '迭迭香', '迷你干鲍', '透明慕斯围边', '透明胶带', '透明部份', '通脊', '速冻丸子', '速冻包子', '速冻小圆子', '速冻汤圆', '速冻饺', '速冻饺一份', '邑', '郫县辣豆瓣', '都行', '配方', '配方奶', '配菜', '配送作料酱包', '酒曲', '酒类', '酒精提神类', '酒酿', '酢', '酥', '酥油', '酥油团', '酪', '酪乳', '酪奶', '酱', '酱制乌梅', '酱包瓜', '酱料', '酱料部份', '酱汁', '酸', '酸奶', '酸奶慕斯', '酸奶慕斯层', '酸奶慕斯层', '酸奶油配方', '酸奶浓稠', '酸奶等', '酸奶馅', '酸梅', '酸梅汁', '酸梅粉', '酸梅酱', '酸甜榨菜', '酸甜酱', '酸腌菜', '酸苷', '酸荞头', '酸菜', '酸豆', '酸豆角', '酸豇豆', '酸辣鲜露', '醇味鲜', '醇母', '醪糟', '醪糟曲', '醬油', '里叶白莲', '里海', '里脊', '野山莓果酱', '野生天麻干', '野生川贝母', '野生蕨菜', '野荠菜', '野蕨菜', '量', '量大概可以做', '金', '金像', '金宝酥', '金沙奶黄馅', '金盘', '金箔', '金粉', '金虫草', '金虫草花', '金象', '金针茹', '金针菜', '金钩', '金钱腱', '金钱草', '金银花', '针菜', '钉螺', '钵仔糕粉', '铜钱草', '银丝粉', '锁骨', '锅巴', '锅酱', '镊子', '长扁豆', '长柄刷子', '长筷子', '长豆角', '长豆角丁', '长豇豆', '防粘喷油', '阳江豆豉', '阿胶', '陈村粉', '陈肾', '陴县豆瓣', '陶瓷', '随', '雀', '雀巢可可味滋滋', '雀巢炼乳', '雀巢脆谷乐', '雀巢鹰唛炼乳', '雀巢鹰唻炼乳', '雨露', '雪燕', '雪碧', '雪耳', '雪耳半', '雪花粉', '雪菜', '雪豆', '雪里红', '雪里荭', '雪里蕻', '雪顶', '霉干菜', '霸王花', '青', '青岛凉粉', '青提', '青柠', '青柠汁', '青梅', '青汁', '青汁粉', '青江菜', '青皮甘蔗', '青红丝', '青芥辣', '青苋菜', '青蛙', '青蛾', '青酱', '非洲冰草', '韩国大酱', '韩国泡菜', '韩式大酱', '韩式泡菜', '韩式烧烤酱', '韭苔', '韭黃', '韭黄', '韭黄段', '风味豆豉', '风味豆豉酱', '飞饼', '飞饼皮', '食油', '食物油', '食用苏打粉', '食用调', '食用闪烁色粉', '食用香精', '饵块', '饼丝', '饼坯', '饼底', '饼底料', '饼条', '饼皮', '饼皮制作', '饼皮部份', '饼皮配方', '饼馅', '馄饨', '馅', '馅儿', '馅儿料', '馅心', '馅皮', '馕', '香', '香兰叶', '香兰草汁', '香味料', '香干', '香料', '香料一包', '香料包', '香料粉', '香松', '香果', '香椿', '香椿头', '香椿芽', '香椿苗', '香榧', '香甜味沙拉酱', '香甜沙拉酱', '香磨豆豉酱', '香精', '香苜蓿', '香茹', '香葉', '香辣甜咸混合酱', '香辣豆豉', '香辣豆豉酱', '香酥', '马兰', '马兰头', '马卡龙壳', '马头兰', '马斯卡彭', '马来西亚三角盏', '马桥香干', '马琳混合物', '马苏', '马莲草', '马连', '骨头', '骨头汤', '骨汤', '高', '高丽参', '高丽参人参', '高丽菜', '高湯', '高粱', '高粱粉', '魔芋', '魔芋丝', '魔芋丝结', '魔芋块', '魔芋结', '魚露', '鮮忌廉', '鮮貝', '鲍汁', '鲜人参', '鲜味汁', '鲜土茯苓', '鲜抽', '鲜斑斓叶', '鲜杨梅', '鲜果', '鲜柿子', '鲜榨汁', '鲜汤', '鲜海参', '鲜百合', '鲜百里香', '鲜竹荪', '鲜粽叶', '鲜艾叶', '鲜芦根', '鲜芦苇叶', '鲜花', '鲜茅根', '鲜虫草花', '鲜豇豆', '鲜辣味粉', '鲜辣粉', '鲜香椿', '鲜鱿', '鲜黄花', '鳀调味料', '鳝丝', '鳝断', '鳝片', '鹧鸪', '鹰牌粟粉', '鹰粟粉', '鹵料', '鹽', '麝香', '麦丽素', '麦仁', '麦冬', '麦卡伦年', '麦维他消化饼', '麦豆', '麦青汁', '麦青汁粉', '麻汁', '麻汁酱', '麻糬', '麻线', '麻辣块', '麻辣底料', '麻辣料油', '麻辣烫底料', '麻辣粉', '麻辣鲜', '麻酱', '黃油', '黄', '黄原胶', '黄喉', '黄心菜', '黄氏', '黄皮', '黄皮酱', '黄色', '黄节瓜', '黄芥辣', '黄芥酱', '黄芪', '黄花', '黄花胶筒', '黄芽白', '黄芽菜', '黄辣丁', '黄酱', '黄金鲳', '黄鳝', '黎麦', '黑', '黑', '黑凉粉', '黑凉粉粉', '黑加仑', '黑加仑干', '黑加仑提子干', '黑啤', '黑巧', '黑巧', '黑巧克力', '黑布林', '黑毛肚', '黑百叶', '黑胡婌', '黑色', '黑色桑葚', '黑莓', '黑裸麦粉', '黑魔芋粉', '黒加仑', '黒豆豉', '鼠尾草', '龙口粉丝', '龙蒿', '龙骨', '龟苓膏粉']\n"
     ]
    }
   ],
   "source": [
    "print(result)"
   ]
  },
  {
   "cell_type": "code",
   "execution_count": 28,
   "metadata": {},
   "outputs": [],
   "source": [
    "x_ingr.to_csv('/home/IW_student/work/food_flavor/ingredient_preprocessing/datasets/x_ingr_5.csv')"
   ]
  },
  {
   "cell_type": "code",
   "execution_count": 92,
   "metadata": {},
   "outputs": [],
   "source": [
    "for index,row in x_ingr.iterrows():\n",
    "    if re.search('兔',row.ingredients)!=None:\n",
    "        x_ingr.loc[index,'ingredients']='rabbit'"
   ]
  },
  {
   "cell_type": "code",
   "execution_count": 93,
   "metadata": {},
   "outputs": [],
   "source": [
    "for index,row in x_ingr.iterrows():\n",
    "    if re.search('鹅',row.ingredients)!=None:\n",
    "        x_ingr.loc[index,'ingredients']='gose'"
   ]
  },
  {
   "cell_type": "code",
   "execution_count": 94,
   "metadata": {},
   "outputs": [],
   "source": [
    "for index,row in x_ingr.iterrows():\n",
    "    if re.search('鸽',row.ingredients)!=None:\n",
    "        x_ingr.loc[index,'ingredients']='pigeon'"
   ]
  },
  {
   "cell_type": "code",
   "execution_count": 8,
   "metadata": {},
   "outputs": [],
   "source": [
    "## flower\n",
    "for index,row in x_ingr.iterrows():\n",
    "    if re.search('玫瑰',row.ingredients)!=None:\n",
    "        x_ingr.loc[index,'ingredients']='rose'"
   ]
  },
  {
   "cell_type": "code",
   "execution_count": 100,
   "metadata": {},
   "outputs": [
    {
     "name": "stdout",
     "output_type": "stream",
     "text": [
      "['葵花籽混合物', '葵花籽', '葵花籽仁', '葵花子', '生葵花籽']\n"
     ]
    }
   ],
   "source": [
    "## fruit\n",
    "fruit_str=[]\n",
    "for index,row in x_ingr.iterrows():\n",
    "    if re.search('葵',row.ingredients)!=None:\n",
    "        #x_ingr.loc[index,'ingredients']='banana'\n",
    "        fruit_str.append(x_ingr.loc[index,'ingredients'])\n",
    "print(list(set(fruit_str)))"
   ]
  },
  {
   "cell_type": "code",
   "execution_count": 98,
   "metadata": {},
   "outputs": [],
   "source": [
    "for index,row in x_ingr.iterrows():\n",
    "    if re.search('亚麻',row.ingredients)!=None:\n",
    "        x_ingr.loc[index,'ingredients']='flax_seed'"
   ]
  },
  {
   "cell_type": "code",
   "execution_count": 101,
   "metadata": {},
   "outputs": [],
   "source": [
    "for index,row in x_ingr.iterrows():\n",
    "    if re.search('葵花',row.ingredients)!=None:\n",
    "        x_ingr.loc[index,'ingredients']='sunflower_seed'"
   ]
  },
  {
   "cell_type": "code",
   "execution_count": 96,
   "metadata": {},
   "outputs": [],
   "source": [
    "for index,row in x_ingr.iterrows():\n",
    "    if re.search('腰果',row.ingredients)!=None:\n",
    "        x_ingr.loc[index,'ingredients']='cashew'"
   ]
  },
  {
   "cell_type": "code",
   "execution_count": 9,
   "metadata": {},
   "outputs": [],
   "source": [
    "for index,row in x_ingr.iterrows():\n",
    "    if re.search('橄榄菜',row.ingredients)!=None:\n",
    "        x_ingr.drop(index,inplace=True)"
   ]
  },
  {
   "cell_type": "code",
   "execution_count": 11,
   "metadata": {},
   "outputs": [],
   "source": [
    "for index,row in x_ingr.iterrows():\n",
    "    if re.search('葡萄',row.ingredients)!=None:\n",
    "        x_ingr.loc[index,'ingredients']='grape'"
   ]
  },
  {
   "cell_type": "code",
   "execution_count": 12,
   "metadata": {},
   "outputs": [],
   "source": [
    "# olive\n",
    "for index,row in x_ingr.iterrows():\n",
    "    if re.search('橄榄',row.ingredients)!=None:\n",
    "        x_ingr.loc[index,'ingredients']='olive'"
   ]
  },
  {
   "cell_type": "code",
   "execution_count": 98,
   "metadata": {},
   "outputs": [
    {
     "name": "stdout",
     "output_type": "stream",
     "text": [
      "['早餐肠', '水腊肠', '肠衣', '肠粉粉', '广式腊肠', '小肠', '腊肠', '广东腊肠', '海肠', '腊肠根', '净肥肠', '红肠', '开花肠', '卤肥肠', '哈尔滨红肠', '烤肠', '脆皮肠', '迷你肠', '港式腊肠', '热狗肠', '川味臘腸', '腊肠丁', '广式风味腊肠', '披萨肠', '卤大肠', '广肠', '辣肠', '台湾热狗肠', '香腸', '粉肠', '大肠', '台湾烤肠', '肥肠', '肠', '滇味香腸', '熟肥肠', '桂花肠', '润肠', '润肠根', '广式腊肠根']\n"
     ]
    }
   ],
   "source": [
    "## meat\n",
    "meat_str=[]\n",
    "for index,row in x_ingr.iterrows():\n",
    "    if (re.search('肠',row.ingredients)!=None) or (re.search('腸',row.ingredients)!=None):\n",
    "        #x_ingr.loc[index,'ingredients']='banana'\n",
    "        meat_str.append(x_ingr.loc[index,'ingredients'])\n",
    "print(list(set(meat_str)))"
   ]
  },
  {
   "cell_type": "code",
   "execution_count": 13,
   "metadata": {},
   "outputs": [],
   "source": [
    "for index,row in x_ingr.iterrows():\n",
    "    if (re.search('肥肠',row.ingredients)!=None) or (re.search('大肠',row.ingredients)!=None):\n",
    "        x_ingr.loc[index,'ingredients']='pork'"
   ]
  },
  {
   "cell_type": "code",
   "execution_count": 14,
   "metadata": {},
   "outputs": [],
   "source": [
    "for index,row in x_ingr.iterrows():\n",
    "    if re.search('馬蹄',row.ingredients)!=None:\n",
    "        x_ingr.drop(index,inplace=True)"
   ]
  },
  {
   "cell_type": "code",
   "execution_count": 15,
   "metadata": {},
   "outputs": [],
   "source": [
    "for index,row in x_ingr.iterrows():\n",
    "    if re.search('蹄',row.ingredients)!=None:\n",
    "        x_ingr.loc[index,'ingredients']='pork'"
   ]
  },
  {
   "cell_type": "code",
   "execution_count": 16,
   "metadata": {},
   "outputs": [],
   "source": [
    "for index,row in x_ingr.iterrows():\n",
    "    if (re.search('肠',row.ingredients)!=None) or (re.search('腸',row.ingredients)!=None):\n",
    "        x_ingr.loc[index,'ingredients']='sausage'"
   ]
  },
  {
   "cell_type": "code",
   "execution_count": 17,
   "metadata": {},
   "outputs": [],
   "source": [
    "for index,row in x_ingr.iterrows():\n",
    "    if re.search('肠粉',row.ingredients)!=None:\n",
    "        x_ingr.drop(index,inplace=True)"
   ]
  },
  {
   "cell_type": "code",
   "execution_count": 18,
   "metadata": {},
   "outputs": [],
   "source": [
    "for index,row in x_ingr.iterrows():\n",
    "    if (re.search('翅',row.ingredients)!=None) or (re.search('腿',row.ingredients)!=None):\n",
    "        x_ingr.loc[index,'ingredients']='chicken'"
   ]
  },
  {
   "cell_type": "code",
   "execution_count": 19,
   "metadata": {},
   "outputs": [],
   "source": [
    "for index,row in x_ingr.iterrows():\n",
    "    if re.search('卤',row.ingredients)!=None:\n",
    "        x_ingr.drop(index,inplace=True)"
   ]
  },
  {
   "cell_type": "code",
   "execution_count": 138,
   "metadata": {},
   "outputs": [
    {
     "name": "stdout",
     "output_type": "stream",
     "text": [
      "['生面', '棍子面条', '面粉吸水率不一样', '低筋', '鲜切面', '白面', '细面', '面粉糊', '细面条', '死面', '粗面', '低筋面', '烫面', '揣面用粉', '手工面', '通心面', '湿圆面条', '水面', '手擀面', '高筋whole_grain_wheat_flour', '菠菜面', '低筋whole_grain_wheat_flour', '高筋面', '粗圆面', '蝴蝶面', '种面', '硬面烧饼', '火锅面', '中筋面粉中', '面粉数量', '宽面', '面粉白', '生面条', '手工细面条', '鲜面', '普通细面条', '面条', '面', '湿面条', '辣面', '面条菜', '蒸面', '切面', '发面', '手打面', '面粉中筋', '高筯面', '直面', '湿面', '中筋', '家常面条', '鲜手工面', '低面', '鲜面条', '糕面', '面粉糠', '面种', '手工面条', '面糊', '手工细面']\n"
     ]
    }
   ],
   "source": [
    "## wheat\n",
    "wheat_str=[]\n",
    "for index,row in x_ingr.iterrows():\n",
    "    if (re.search('面',row.ingredients)!=None) or (re.search('筋',row.ingredients)!=None):\n",
    "        #x_ingr.loc[index,'ingredients']='banana'\n",
    "        wheat_str.append(x_ingr.loc[index,'ingredients'])\n",
    "print(list(set(wheat_str)))"
   ]
  },
  {
   "cell_type": "code",
   "execution_count": 20,
   "metadata": {},
   "outputs": [],
   "source": [
    "for index,row in x_ingr.iterrows():\n",
    "    if re.search('面筋',row.ingredients)!=None:\n",
    "        x_ingr.loc[index,'ingredients']='wheat_gluten'"
   ]
  },
  {
   "cell_type": "code",
   "execution_count": 21,
   "metadata": {},
   "outputs": [],
   "source": [
    "for index,row in x_ingr.iterrows():\n",
    "    if (re.search('面皮',row.ingredients)!=None) or (re.search('荞面',row.ingredients)!=None) or (re.search('澄面',row.ingredients)!=None) or (re.search('泡面',row.ingredients)!=None) or (re.search('五香面',row.ingredients)!=None):\n",
    "        x_ingr.drop(index,inplace=True)"
   ]
  },
  {
   "cell_type": "code",
   "execution_count": 22,
   "metadata": {},
   "outputs": [],
   "source": [
    "for index,row in x_ingr.iterrows():\n",
    "    if (re.search('莜面',row.ingredients)!=None) or (re.search('老面',row.ingredients)!=None) or (re.search('面.*浆',row.ingredients)!=None) or (re.search('泡面',row.ingredients)!=None) or (re.search('五香面',row.ingredients)!=None):\n",
    "        x_ingr.drop(index,inplace=True)"
   ]
  },
  {
   "cell_type": "code",
   "execution_count": 23,
   "metadata": {},
   "outputs": [],
   "source": [
    "for index,row in x_ingr.iterrows():\n",
    "    if (re.search('冷面',row.ingredients)!=None) or (re.search('炒面',row.ingredients)!=None) or (re.search('皮筋',row.ingredients)!=None) or (re.search('炒面',row.ingredients)!=None) or (re.search('淋面',row.ingredients)!=None):\n",
    "        x_ingr.drop(index,inplace=True)"
   ]
  },
  {
   "cell_type": "code",
   "execution_count": 24,
   "metadata": {},
   "outputs": [],
   "source": [
    "for index,row in x_ingr.iterrows():\n",
    "    if (re.search('凉面',row.ingredients)!=None) or (re.search('剩面',row.ingredients)!=None) or (re.search('豆筋',row.ingredients)!=None) or (re.search('镜面',row.ingredients)!=None) or (re.search('杂粮面',row.ingredients)!=None):\n",
    "        x_ingr.drop(index,inplace=True)"
   ]
  },
  {
   "cell_type": "code",
   "execution_count": 25,
   "metadata": {},
   "outputs": [],
   "source": [
    "for index,row in x_ingr.iterrows():\n",
    "    if (re.search('方便面',row.ingredients)!=None) or (re.search('乌冬面',row.ingredients)!=None) or (re.search('拉面',row.ingredients)!=None) or (re.search('伊面',row.ingredients)!=None) or (re.search('龙须面',row.ingredients)!=None):\n",
    "        x_ingr.drop(index,inplace=True)"
   ]
  },
  {
   "cell_type": "code",
   "execution_count": 26,
   "metadata": {},
   "outputs": [],
   "source": [
    "for index,row in x_ingr.iterrows():\n",
    "    if (re.search('烩面',row.ingredients)!=None) or (re.search('挂面',row.ingredients)!=None) or (re.search('面饼',row.ingredients)!=None) or (re.search('热干面',row.ingredients)!=None) or (re.search('豆面',row.ingredients)!=None):\n",
    "        x_ingr.drop(index,inplace=True)"
   ]
  },
  {
   "cell_type": "code",
   "execution_count": 29,
   "metadata": {},
   "outputs": [],
   "source": [
    "for index,row in x_ingr.iterrows():\n",
    "    if re.search('意.*面',row.ingredients)!=None:\n",
    "        x_ingr.loc[index,'ingredients']='spaghetti'"
   ]
  },
  {
   "cell_type": "code",
   "execution_count": 30,
   "metadata": {},
   "outputs": [],
   "source": [
    "for index,row in x_ingr.iterrows():\n",
    "    if (re.search('面',row.ingredients)!=None) or (re.search('筋',row.ingredients)!=None):\n",
    "        x_ingr.loc[index,'ingredients']='wheat'"
   ]
  },
  {
   "cell_type": "code",
   "execution_count": 27,
   "metadata": {},
   "outputs": [
    {
     "name": "stdout",
     "output_type": "stream",
     "text": [
      "['小云吞', '饺子馅', '速冻饺子', '生饺子', '冷馒头', '馒头渣', '云吞', '云吞皮', '大白馒头', '饺子粉', '馒头', '冷冻饺子', '白馒头皮', '馒头屑', '饺子', '剩饺子']\n"
     ]
    }
   ],
   "source": [
    "## wheat\n",
    "wheat_str=[]\n",
    "for index,row in x_ingr.iterrows():\n",
    "    if (re.search('馒头',row.ingredients)!=None) or (re.search('饺子',row.ingredients)!=None) or (re.search('云吞',row.ingredients)!=None):\n",
    "        #x_ingr.loc[index,'ingredients']='banana'\n",
    "        wheat_str.append(x_ingr.loc[index,'ingredients'])\n",
    "print(list(set(wheat_str)))"
   ]
  },
  {
   "cell_type": "code",
   "execution_count": 28,
   "metadata": {},
   "outputs": [],
   "source": [
    "for index,row in x_ingr.iterrows():\n",
    "    if (re.search('饺子馅',row.ingredients)!=None) or (re.search('速冻饺子',row.ingredients)!=None) or (re.search('剩饺子',row.ingredients)!=None):\n",
    "        x_ingr.drop(index,inplace=True)"
   ]
  },
  {
   "cell_type": "code",
   "execution_count": 29,
   "metadata": {},
   "outputs": [],
   "source": [
    "for index,row in x_ingr.iterrows():\n",
    "    if (re.search('馒头',row.ingredients)!=None) or (re.search('饺子',row.ingredients)!=None) or (re.search('云吞',row.ingredients)!=None):\n",
    "        x_ingr.loc[index,'ingredients']='wheat'"
   ]
  },
  {
   "cell_type": "code",
   "execution_count": 9,
   "metadata": {},
   "outputs": [
    {
     "name": "stdout",
     "output_type": "stream",
     "text": [
      "['起司', '起司片']\n"
     ]
    }
   ],
   "source": [
    "## dairy\n",
    "dairy_str=[]\n",
    "for index,row in x_ingr.iterrows():\n",
    "    if re.search('起司',row.ingredients)!=None:\n",
    "        #x_ingr.loc[index,'ingredients']='banana'\n",
    "        dairy_str.append(x_ingr.loc[index,'ingredients'])\n",
    "print(list(set(dairy_str)))"
   ]
  },
  {
   "cell_type": "code",
   "execution_count": 31,
   "metadata": {},
   "outputs": [],
   "source": [
    "for index,row in x_ingr.iterrows():\n",
    "    if re.search('起司',row.ingredients)!=None:\n",
    "        x_ingr.loc[index,'ingredients']='cheese'"
   ]
  },
  {
   "cell_type": "code",
   "execution_count": 33,
   "metadata": {},
   "outputs": [],
   "source": [
    "for index,row in x_ingr.iterrows():\n",
    "    if (re.search('优格',row.ingredients)!=None) or (re.search('益力多',row.ingredients)!=None) or (re.search('养乐多',row.ingredients)!=None):\n",
    "        x_ingr.loc[index,'ingredients']='yogurt'"
   ]
  },
  {
   "cell_type": "code",
   "execution_count": 102,
   "metadata": {},
   "outputs": [
    {
     "name": "stdout",
     "output_type": "stream",
     "text": [
      "['苦瓜根', '苦瓜', '绿苦瓜', '白苦瓜']\n"
     ]
    }
   ],
   "source": [
    "## vegetable  \n",
    "veg_str=[]\n",
    "for index,row in x_ingr.iterrows():\n",
    "    if re.search('苦瓜',row.ingredients)!=None:\n",
    "        #x_ingr.loc[index,'ingredients']='banana'\n",
    "        veg_str.append(x_ingr.loc[index,'ingredients'])\n",
    "print(list(set(veg_str)))"
   ]
  },
  {
   "cell_type": "code",
   "execution_count": 103,
   "metadata": {},
   "outputs": [],
   "source": [
    "for index,row in x_ingr.iterrows():\n",
    "    if re.search('苦瓜',row.ingredients)!=None:\n",
    "        x_ingr.loc[index,'ingredients']='bitter_gourd'"
   ]
  },
  {
   "cell_type": "code",
   "execution_count": 88,
   "metadata": {},
   "outputs": [],
   "source": [
    "for index,row in x_ingr.iterrows():\n",
    "    if re.search('菌',row.ingredients)!=None:\n",
    "        x_ingr.loc[index,'ingredients']='LAB'"
   ]
  },
  {
   "cell_type": "code",
   "execution_count": 87,
   "metadata": {},
   "outputs": [],
   "source": [
    "for index,row in x_ingr.iterrows():\n",
    "    if (re.search('天贝',row.ingredients)!=None) or (re.search('丹贝',row.ingredients)!=None):\n",
    "        x_ingr.loc[index,'ingredients']='tempeh'"
   ]
  },
  {
   "cell_type": "code",
   "execution_count": 84,
   "metadata": {},
   "outputs": [],
   "source": [
    "for index,row in x_ingr.iterrows():\n",
    "    if re.search('酵',row.ingredients)!=None:\n",
    "        x_ingr.loc[index,'ingredients']='yeast'"
   ]
  },
  {
   "cell_type": "code",
   "execution_count": 108,
   "metadata": {},
   "outputs": [],
   "source": [
    "# 山柰', '山萘\n",
    "for index,row in x_ingr.iterrows():\n",
    "    if (re.search('味噌',row.ingredients)!=None) or (re.search('三萘',row.ingredients)!=None) or (re.search('山奈',row.ingredients)!=None) or (re.search('山乃',row.ingredients)!=None) or (re.search('山柰',row.ingredients)!=None) or (re.search('山萘',row.ingredients)!=None):\n",
    "        x_ingr.loc[index,'ingredients']='kaempferia_galanga'"
   ]
  },
  {
   "cell_type": "code",
   "execution_count": 77,
   "metadata": {},
   "outputs": [],
   "source": [
    "for index,row in x_ingr.iterrows():\n",
    "    if re.search('山楂',row.ingredients)!=None:\n",
    "        x_ingr.loc[index,'ingredients']='hawthorn'"
   ]
  },
  {
   "cell_type": "code",
   "execution_count": 64,
   "metadata": {},
   "outputs": [],
   "source": [
    "for index,row in x_ingr.iterrows():\n",
    "    if re.search('香茅',row.ingredients)!=None:\n",
    "        x_ingr.loc[index,'ingredients']='citronella'"
   ]
  },
  {
   "cell_type": "code",
   "execution_count": 58,
   "metadata": {},
   "outputs": [],
   "source": [
    "for index,row in x_ingr.iterrows():\n",
    "    if re.search('藕',row.ingredients)!=None:\n",
    "        x_ingr.loc[index,'ingredients']='lotus_root'"
   ]
  },
  {
   "cell_type": "code",
   "execution_count": 35,
   "metadata": {},
   "outputs": [],
   "source": [
    "for index,row in x_ingr.iterrows():\n",
    "    if re.search('薯片',row.ingredients)!=None:\n",
    "        x_ingr.loc[index,'ingredients']='potato_chip'"
   ]
  },
  {
   "cell_type": "code",
   "execution_count": 39,
   "metadata": {},
   "outputs": [],
   "source": [
    "for index,row in x_ingr.iterrows():\n",
    "    if (re.search('番薯',row.ingredients)!=None) or (re.search('紅薯',row.ingredients)!=None) or (re.search('蕃薯',row.ingredients)!=None):\n",
    "        x_ingr.loc[index,'ingredients']='sweet_potato'"
   ]
  },
  {
   "cell_type": "code",
   "execution_count": 40,
   "metadata": {},
   "outputs": [],
   "source": [
    "for index,row in x_ingr.iterrows():\n",
    "    if re.search('薯',row.ingredients)!=None:\n",
    "        x_ingr.drop(index,inplace=True)"
   ]
  },
  {
   "cell_type": "code",
   "execution_count": 37,
   "metadata": {},
   "outputs": [],
   "source": [
    "for index,row in x_ingr.iterrows():\n",
    "    if re.search('马铃薯',row.ingredients)!=None:\n",
    "        x_ingr.loc[index,'ingredients']='potato'"
   ]
  },
  {
   "cell_type": "code",
   "execution_count": 36,
   "metadata": {},
   "outputs": [],
   "source": [
    "for index,row in x_ingr.iterrows():\n",
    "    if re.search('紫薯',row.ingredients)!=None:\n",
    "        x_ingr.loc[index,'ingredients']='sweet_potato'"
   ]
  },
  {
   "cell_type": "code",
   "execution_count": 70,
   "metadata": {},
   "outputs": [],
   "source": [
    "for index,row in x_ingr.iterrows():\n",
    "    if (re.search('菠菜',row.ingredients)!=None) or (re.search('波菜',row.ingredients)!=None):\n",
    "        x_ingr.loc[index,'ingredients']='spinach'"
   ]
  },
  {
   "cell_type": "code",
   "execution_count": 72,
   "metadata": {},
   "outputs": [],
   "source": [
    "for index,row in x_ingr.iterrows():\n",
    "    if re.search('茄',row.ingredients)!=None:\n",
    "        x_ingr.loc[index,'ingredients']='eggplant'"
   ]
  },
  {
   "cell_type": "code",
   "execution_count": 34,
   "metadata": {},
   "outputs": [],
   "source": [
    "for index,row in x_ingr.iterrows():\n",
    "    if re.search('刺芹',row.ingredients)!=None:\n",
    "        x_ingr.drop(index,inplace=True)"
   ]
  },
  {
   "cell_type": "code",
   "execution_count": 35,
   "metadata": {},
   "outputs": [],
   "source": [
    "for index,row in x_ingr.iterrows():\n",
    "    if re.search('芹',row.ingredients)!=None:\n",
    "        x_ingr.loc[index,'ingredients']='celery'"
   ]
  },
  {
   "cell_type": "code",
   "execution_count": 36,
   "metadata": {},
   "outputs": [],
   "source": [
    "for index,row in x_ingr.iterrows():\n",
    "    if re.search('蔥',row.ingredients)!=None:\n",
    "        x_ingr.loc[index,'ingredients']='shallot'"
   ]
  },
  {
   "cell_type": "code",
   "execution_count": 37,
   "metadata": {},
   "outputs": [],
   "source": [
    "for index,row in x_ingr.iterrows():\n",
    "    if (re.search('胡罗卜',row.ingredients)!=None) or (re.search('胡萝',row.ingredients)!=None):\n",
    "        x_ingr.loc[index,'ingredients']='carrot'"
   ]
  },
  {
   "cell_type": "code",
   "execution_count": 38,
   "metadata": {},
   "outputs": [],
   "source": [
    "for index,row in x_ingr.iterrows():\n",
    "    if re.search('甘兰',row.ingredients)!=None:\n",
    "        x_ingr.loc[index,'ingredients']='cabbage'"
   ]
  },
  {
   "cell_type": "code",
   "execution_count": 39,
   "metadata": {},
   "outputs": [],
   "source": [
    "for index,row in x_ingr.iterrows():\n",
    "    if re.search('香芋',row.ingredients)!=None:\n",
    "        x_ingr.loc[index,'ingredients']='yam'"
   ]
  },
  {
   "cell_type": "code",
   "execution_count": 40,
   "metadata": {},
   "outputs": [],
   "source": [
    "for index,row in x_ingr.iterrows():\n",
    "    if (re.search('芋头',row.ingredients)!=None) or (re.search('芋艿',row.ingredients)!=None) or (re.search('荔浦芋',row.ingredients)!=None) or (re.search('毛芋',row.ingredients)!=None):\n",
    "        x_ingr.loc[index,'ingredients']='tuber'"
   ]
  },
  {
   "cell_type": "code",
   "execution_count": 41,
   "metadata": {},
   "outputs": [],
   "source": [
    "for index,row in x_ingr.iterrows():\n",
    "    if re.search('山芋',row.ingredients)!=None:\n",
    "        x_ingr.loc[index,'ingredients']='sweet_potato'"
   ]
  },
  {
   "cell_type": "code",
   "execution_count": 42,
   "metadata": {},
   "outputs": [],
   "source": [
    "for index,row in x_ingr.iterrows():\n",
    "    if re.search('洋芋',row.ingredients)!=None:\n",
    "        x_ingr.loc[index,'ingredients']='potato'"
   ]
  },
  {
   "cell_type": "code",
   "execution_count": 43,
   "metadata": {},
   "outputs": [],
   "source": [
    "for index,row in x_ingr.iterrows():\n",
    "    if (re.search('紫菜',row.ingredients)!=None) or (re.search('海苔',row.ingredients)!=None):\n",
    "        x_ingr.loc[index,'ingredients']='algae'"
   ]
  },
  {
   "cell_type": "code",
   "execution_count": 44,
   "metadata": {},
   "outputs": [],
   "source": [
    "for index,row in x_ingr.iterrows():\n",
    "    if (re.search('海带',row.ingredients)!=None) or (re.search('带子',row.ingredients)!=None):\n",
    "        x_ingr.loc[index,'ingredients']='aminaria_japonica'"
   ]
  },
  {
   "cell_type": "code",
   "execution_count": 45,
   "metadata": {},
   "outputs": [],
   "source": [
    "for index,row in x_ingr.iterrows():\n",
    "    if re.search('木薯',row.ingredients)!=None:\n",
    "        x_ingr.loc[index,'ingredients']='cassava'"
   ]
  },
  {
   "cell_type": "code",
   "execution_count": 46,
   "metadata": {},
   "outputs": [],
   "source": [
    "for index,row in x_ingr.iterrows():\n",
    "    if re.search('芥末',row.ingredients)!=None:\n",
    "        x_ingr.loc[index,'ingredients']='mustard'"
   ]
  },
  {
   "cell_type": "code",
   "execution_count": 47,
   "metadata": {},
   "outputs": [],
   "source": [
    "for index,row in x_ingr.iterrows():\n",
    "    if (re.search('番茄沙司',row.ingredients)!=None) or (re.search('番茄酱',row.ingredients)!=None):\n",
    "        x_ingr.loc[index,'ingredients']='tomato_sauce'"
   ]
  },
  {
   "cell_type": "code",
   "execution_count": 48,
   "metadata": {},
   "outputs": [],
   "source": [
    "for index,row in x_ingr.iterrows():\n",
    "    if re.search('番茄醬',row.ingredients)!=None:\n",
    "        x_ingr.drop(index,inplace=True)"
   ]
  },
  {
   "cell_type": "code",
   "execution_count": 49,
   "metadata": {},
   "outputs": [],
   "source": [
    "for index,row in x_ingr.iterrows(): #蕃茄\n",
    "    if (re.search('番茄',row.ingredients)!=None) or (re.search('蕃茄',row.ingredients)!=None):\n",
    "        x_ingr.loc[index,'ingredients']='tomato'"
   ]
  },
  {
   "cell_type": "code",
   "execution_count": 44,
   "metadata": {
    "collapsed": true
   },
   "outputs": [
    {
     "name": "stdout",
     "output_type": "stream",
     "text": [
      "recipe_id      100519532\n",
      "ingredients        二荆条辣椒\n",
      "Name: 45883, dtype: object\n",
      "recipe_id      100603456\n",
      "ingredients          二青条\n",
      "Name: 56134, dtype: object\n",
      "recipe_id      101833348\n",
      "ingredients          二荆条\n",
      "Name: 73924, dtype: object\n",
      "recipe_id      101834397\n",
      "ingredients        二荆条辣椒\n",
      "Name: 74063, dtype: object\n",
      "recipe_id      101854531\n",
      "ingredients        二荆条青椒\n",
      "Name: 76271, dtype: object\n",
      "recipe_id      102004376\n",
      "ingredients        二荆条青椒\n",
      "Name: 80778, dtype: object\n",
      "recipe_id      102165204\n",
      "ingredients          二荆条\n",
      "Name: 86029, dtype: object\n",
      "recipe_id      1043157\n",
      "ingredients      二荆条辣椒\n",
      "Name: 118645, dtype: object\n",
      "recipe_id      1045636\n",
      "ingredients      二荆条辣椒\n",
      "Name: 119535, dtype: object\n",
      "recipe_id      1045642\n",
      "ingredients        二荆条\n",
      "Name: 119546, dtype: object\n",
      "recipe_id      1047938\n",
      "ingredients        二荆条\n",
      "Name: 120475, dtype: object\n",
      "recipe_id      1100245\n",
      "ingredients      二荆条辣椒\n",
      "Name: 131712, dtype: object\n",
      "recipe_id      19970\n",
      "ingredients      二荆条\n",
      "Name: 142323, dtype: object\n",
      "recipe_id      238107\n",
      "ingredients     二荆条辣椒\n",
      "Name: 146734, dtype: object\n",
      "recipe_id      245860\n",
      "ingredients       二荆条\n",
      "Name: 147650, dtype: object\n"
     ]
    }
   ],
   "source": [
    "for index,row in x_ingr.iterrows():\n",
    "    if (re.search('二荆条',row.ingredients)!=None) or (re.search('二青条',row.ingredients)!=None):\n",
    "        #x_ingr.loc[index,'ingredients']='capsicum_annuum'\n",
    "        print(row)"
   ]
  },
  {
   "cell_type": "code",
   "execution_count": 50,
   "metadata": {},
   "outputs": [],
   "source": [
    "for index,row in x_ingr.iterrows():\n",
    "    if (re.search('二荊条',row.ingredients)!=None) or (re.search('二青条',row.ingredients)!=None):\n",
    "        x_ingr.loc[index,'ingredients']='capsicum_annuum'"
   ]
  },
  {
   "cell_type": "code",
   "execution_count": null,
   "metadata": {},
   "outputs": [],
   "source": []
  },
  {
   "cell_type": "code",
   "execution_count": 8,
   "metadata": {
    "scrolled": true
   },
   "outputs": [
    {
     "name": "stdout",
     "output_type": "stream",
     "text": [
      "['黄秋葵', '嫩秋葵', '秋葵']\n"
     ]
    }
   ],
   "source": [
    "## fruit\n",
    "fruit_str=[]\n",
    "for index,row in x_ingr.iterrows():\n",
    "    if re.search('秋葵',row.ingredients)!=None:\n",
    "        #x_ingr.loc[index,'ingredients']='banana'\n",
    "        fruit_str.append(x_ingr.loc[index,'ingredients'])\n",
    "print(list(set(fruit_str)))"
   ]
  },
  {
   "cell_type": "code",
   "execution_count": 51,
   "metadata": {},
   "outputs": [],
   "source": [
    "for index,row in x_ingr.iterrows():\n",
    "    if re.search('果仁',row.ingredients)!=None:\n",
    "        x_ingr.loc[index,'ingredients']='nut'"
   ]
  },
  {
   "cell_type": "code",
   "execution_count": 52,
   "metadata": {},
   "outputs": [],
   "source": [
    "for index,row in x_ingr.iterrows():\n",
    "    if (re.search('果膏',row.ingredients)!=None) or (re.search('果占',row.ingredients)!=None):\n",
    "        x_ingr.drop(index,inplace=True)"
   ]
  },
  {
   "cell_type": "code",
   "execution_count": 53,
   "metadata": {},
   "outputs": [],
   "source": [
    "for index,row in x_ingr.iterrows():\n",
    "    if re.search('椒',row.ingredients)!=None:\n",
    "        x_ingr.loc[index,'ingredients']='capsicum_annuum'"
   ]
  },
  {
   "cell_type": "code",
   "execution_count": 54,
   "metadata": {},
   "outputs": [],
   "source": [
    "for index,row in x_ingr.iterrows():\n",
    "    if (re.search('糊椒',row.ingredients)!=None) or (re.search('黑椒',row.ingredients)!=None):\n",
    "        x_ingr.loc[index,'ingredients']='black_pepper'"
   ]
  },
  {
   "cell_type": "code",
   "execution_count": 55,
   "metadata": {},
   "outputs": [],
   "source": [
    "for index,row in x_ingr.iterrows():\n",
    "    if re.search('椒$',row.ingredients)!=None:\n",
    "        x_ingr.loc[index,'ingredients']='capsicum_annuum'"
   ]
  },
  {
   "cell_type": "code",
   "execution_count": 56,
   "metadata": {},
   "outputs": [],
   "source": [
    "# zanthoxylum_piperitum\n",
    "for index,row in x_ingr.iterrows():\n",
    "    if re.search('麻椒油',row.ingredients)!=None:\n",
    "        x_ingr.loc[index,'ingredients']='zanthoxylum_piperitum_fruit_oil'"
   ]
  },
  {
   "cell_type": "code",
   "execution_count": 57,
   "metadata": {},
   "outputs": [],
   "source": [
    "for index,row in x_ingr.iterrows():\n",
    "    if (re.search('麻椒',row.ingredients)!=None) or (re.search('藤椒',row.ingredients)!=None) or (re.search('花椒',row.ingredients)!=None):\n",
    "        x_ingr.loc[index,'ingredients']='zanthoxylum_piperitum'"
   ]
  },
  {
   "cell_type": "code",
   "execution_count": 58,
   "metadata": {},
   "outputs": [],
   "source": [
    "for index,row in x_ingr.iterrows():\n",
    "    if re.search('卡宴辣椒',row.ingredients)!=None:\n",
    "        x_ingr.loc[index,'ingredients']='cayenne'"
   ]
  },
  {
   "cell_type": "code",
   "execution_count": 59,
   "metadata": {},
   "outputs": [],
   "source": [
    "for index,row in x_ingr.iterrows():\n",
    "    if re.search('泰.*椒',row.ingredients)!=None:\n",
    "        x_ingr.loc[index,'ingredients']='thai_pepper'"
   ]
  },
  {
   "cell_type": "code",
   "execution_count": 60,
   "metadata": {},
   "outputs": [],
   "source": [
    "for index,row in x_ingr.iterrows():\n",
    "    if (re.search('菜椒',row.ingredients)!=None) or (re.search('彩椒',row.ingredients)!=None) or (re.search('柿椒',row.ingredients)!=None) or (re.search('圆椒',row.ingredients)!=None) or (re.search('黄椒',row.ingredients)!=None) :\n",
    "        x_ingr.loc[index,'ingredients']='bell_pepper'"
   ]
  },
  {
   "cell_type": "code",
   "execution_count": 9,
   "metadata": {},
   "outputs": [],
   "source": [
    "for index,row in x_ingr.iterrows():\n",
    "    if re.search('秋葵',row.ingredients)!=None:\n",
    "        x_ingr.loc[index,'ingredients']='okra'"
   ]
  },
  {
   "cell_type": "code",
   "execution_count": 15,
   "metadata": {
    "collapsed": true
   },
   "outputs": [
    {
     "name": "stdout",
     "output_type": "stream",
     "text": [
      "['蜂蜜芥末酱', '普通蜂蜜', '蜂蜜', '裸麦蜂蜜欧包', '土蜂蜜', '桂花蜂蜜', '蜂蜜桂花', '生蜂蜜', '水蜂蜜', '纯蜂蜜']\n"
     ]
    }
   ],
   "source": [
    "# ap\n",
    "ap_str=[]\n",
    "for index,row in x_ingr.iterrows():\n",
    "    if re.search('蜂蜜',row.ingredients)!=None:\n",
    "        #x_ingr.loc[index,'ingredients']='banana'\n",
    "        ap_str.append(x_ingr.loc[index,'ingredients'])\n",
    "print(list(set(ap_str)))"
   ]
  },
  {
   "cell_type": "code",
   "execution_count": 61,
   "metadata": {},
   "outputs": [],
   "source": [
    "for index,row in x_ingr.iterrows():\n",
    "    if re.search('蜂蜜',row.ingredients)!=None:\n",
    "        x_ingr.loc[index,'ingredients']='honey'"
   ]
  },
  {
   "cell_type": "code",
   "execution_count": 62,
   "metadata": {},
   "outputs": [],
   "source": [
    "for index,row in x_ingr.iterrows():\n",
    "    if (re.search('吉丁利片',row.ingredients)!=None) or (re.search('吉.*丁',row.ingredients)!=None) or (re.search('吉利',row.ingredients)!=None):\n",
    "        x_ingr.loc[index,'ingredients']='gelatin'"
   ]
  },
  {
   "cell_type": "code",
   "execution_count": 118,
   "metadata": {},
   "outputs": [
    {
     "name": "stdout",
     "output_type": "stream",
     "text": [
      "['其它原料', '意大利混合香料', '小干调味料', '料油', '关于馅儿料⚠️', '配送作料酱包', '香料粉', '普通版干料', '麻辣料油', '意式香料', '意式混合干香料', '原料选择可能随供应略微调整', '意大利香料', '香味料', '腌料', 'roasted_chicken料', '味料', '酱料部份', '冬阴功汤料', '饼底料', '果料威士忌', '腌渍料', '塑料围边', '其它佐料', '料理话梅', '清补凉煲汤料', '佐料', '調味料', '新奥尔良腌料', '混合香料', '鳀调味料', '麻辣烫底料', '鹵料', '冬阴功酱料', '塑料泡沫', '烧汁料', '皮料', '香料包', '常规佐料', '无麸质版干料', '果料包', '塑料手套', '混合豉汁料', '调味料', '香料', '奶油汤料', '意式混合香料', '调酱料韩国大酱', '料汁', '香料一包', '料洒', '披萨料', '馅儿料', '酱料', '秘制酱料', '湿料', '麻辣底料', '种混合香料', '烧烤蘸料', '普罗旺斯香料', '烧烤干料', '汤圆汤料', '\\u200d大\\u200d料', '西式混合干香料', '蘸料', '原料', '料', '烧烤料']\n"
     ]
    }
   ],
   "source": [
    "## others 亨氏 丘比\n",
    "others_str=[]\n",
    "for index,row in x_ingr.iterrows():\n",
    "    if re.search('料',row.ingredients)!=None:\n",
    "        #x_ingr.loc[index,'ingredients']='banana'\n",
    "        others_str.append(x_ingr.loc[index,'ingredients'])\n",
    "print(list(set(others_str)))"
   ]
  },
  {
   "cell_type": "code",
   "execution_count": 111,
   "metadata": {},
   "outputs": [],
   "source": [
    "for index,row in x_ingr.iterrows():\n",
    "    if re.search('料酒',row.ingredients)!=None:\n",
    "        x_ingr.loc[index,'ingredients']='cooking_wine'"
   ]
  },
  {
   "cell_type": "code",
   "execution_count": null,
   "metadata": {},
   "outputs": [],
   "source": []
  },
  {
   "cell_type": "code",
   "execution_count": 80,
   "metadata": {},
   "outputs": [],
   "source": [
    "for index,row in x_ingr.iterrows():\n",
    "    if re.search('豆干',row.ingredients)!=None:\n",
    "        x_ingr.loc[index,'ingredients']='tofu'"
   ]
  },
  {
   "cell_type": "code",
   "execution_count": 81,
   "metadata": {},
   "outputs": [],
   "source": [
    "for index,row in x_ingr.iterrows():\n",
    "    if re.search('五香',row.ingredients)!=None:\n",
    "        x_ingr.loc[index,'ingredients']='five_spice_powder'"
   ]
  },
  {
   "cell_type": "code",
   "execution_count": 114,
   "metadata": {},
   "outputs": [],
   "source": [
    "for index,row in x_ingr.iterrows():\n",
    "    if re.search('锅.*料',row.ingredients)!=None:\n",
    "        x_ingr.loc[index,'ingredients']='bhotpot_seasoning'"
   ]
  },
  {
   "cell_type": "code",
   "execution_count": 54,
   "metadata": {},
   "outputs": [],
   "source": [
    "for index,row in x_ingr.iterrows():\n",
    "    if (re.search('红油',row.ingredients)!=None) or (re.search('辣油',row.ingredients)!=None):\n",
    "        x_ingr.loc[index,'ingredients']='chilli_oil'"
   ]
  },
  {
   "cell_type": "code",
   "execution_count": 50,
   "metadata": {},
   "outputs": [],
   "source": [
    "for index,row in x_ingr.iterrows():\n",
    "    if (re.search('县.*酱',row.ingredients)!=None) or (re.search('豆瓣.*酱',row.ingredients)!=None):\n",
    "        x_ingr.loc[index,'ingredients']='chilli_bean_paste'"
   ]
  },
  {
   "cell_type": "code",
   "execution_count": 52,
   "metadata": {},
   "outputs": [],
   "source": [
    "for index,row in x_ingr.iterrows():\n",
    "    if re.search('辣酱',row.ingredients)!=None:\n",
    "        x_ingr.loc[index,'ingredients']='chilli_paste'"
   ]
  },
  {
   "cell_type": "code",
   "execution_count": 45,
   "metadata": {},
   "outputs": [],
   "source": [
    "for index,row in x_ingr.iterrows():\n",
    "    if re.search('韩.*辣酱',row.ingredients)!=None:\n",
    "        x_ingr.loc[index,'ingredients']='Gochujang'"
   ]
  },
  {
   "cell_type": "code",
   "execution_count": 46,
   "metadata": {},
   "outputs": [],
   "source": [
    "for index,row in x_ingr.iterrows():\n",
    "    if re.search('泰.*辣酱',row.ingredients)!=None:\n",
    "        x_ingr.loc[index,'ingredients']='see_ieu'"
   ]
  },
  {
   "cell_type": "code",
   "execution_count": 47,
   "metadata": {},
   "outputs": [],
   "source": [
    "for index,row in x_ingr.iterrows():\n",
    "    if re.search('甜辣酱',row.ingredients)!=None:\n",
    "        x_ingr.loc[index,'ingredients']='sweet_chilli_sauce'"
   ]
  },
  {
   "cell_type": "code",
   "execution_count": 104,
   "metadata": {},
   "outputs": [],
   "source": [
    "for index,row in x_ingr.iterrows():\n",
    "    if re.search('木耳',row.ingredients)!=None:\n",
    "        x_ingr.loc[index,'ingredients']='agaricus'"
   ]
  },
  {
   "cell_type": "code",
   "execution_count": 106,
   "metadata": {},
   "outputs": [],
   "source": [
    "for index,row in x_ingr.iterrows():\n",
    "    if re.search('银耳',row.ingredients)!=None:\n",
    "        x_ingr.loc[index,'ingredients']='tremella_fuciformis'"
   ]
  },
  {
   "cell_type": "code",
   "execution_count": 98,
   "metadata": {},
   "outputs": [],
   "source": [
    "for index,row in x_ingr.iterrows():\n",
    "    if re.search('咖喱',row.ingredients)!=None:\n",
    "        x_ingr.loc[index,'ingredients']='curry'"
   ]
  },
  {
   "cell_type": "code",
   "execution_count": 91,
   "metadata": {},
   "outputs": [],
   "source": [
    "for index,row in x_ingr.iterrows():\n",
    "    if (re.search('味淋',row.ingredients)!=None) or (re.search('味霖',row.ingredients)!=None) or (re.search('味醂',row.ingredients)!=None) or (re.search('味林',row.ingredients)!=None) or (re.search('味琳',row.ingredients)!=None) or (re.search('味啉',row.ingredients)!=None) or (re.search('味素',row.ingredients)!=None):\n",
    "        x_ingr.loc[index,'ingredients']='mirin'"
   ]
  },
  {
   "cell_type": "code",
   "execution_count": 90,
   "metadata": {},
   "outputs": [],
   "source": [
    "for index,row in x_ingr.iterrows():\n",
    "    if re.search('味噌',row.ingredients)!=None:\n",
    "        x_ingr.loc[index,'ingredients']='miso'"
   ]
  },
  {
   "cell_type": "code",
   "execution_count": 93,
   "metadata": {},
   "outputs": [],
   "source": [
    "for index,row in x_ingr.iterrows():\n",
    "    if re.search('糖',row.ingredients)!=None:\n",
    "        x_ingr.loc[index,'ingredients']='sugar'"
   ]
  },
  {
   "cell_type": "code",
   "execution_count": 92,
   "metadata": {},
   "outputs": [],
   "source": [
    "for index,row in x_ingr.iterrows():\n",
    "    if re.search('盐',row.ingredients)!=None:\n",
    "        x_ingr.loc[index,'ingredients']='salt'"
   ]
  },
  {
   "cell_type": "code",
   "execution_count": 81,
   "metadata": {},
   "outputs": [],
   "source": [
    "for index,row in x_ingr.iterrows():\n",
    "    if re.search('樱花',row.ingredients)!=None:\n",
    "        x_ingr.loc[index,'ingredients']='saruka'"
   ]
  },
  {
   "cell_type": "code",
   "execution_count": 74,
   "metadata": {},
   "outputs": [],
   "source": [
    "for index,row in x_ingr.iterrows():\n",
    "    if re.search('碱',row.ingredients)!=None:\n",
    "        x_ingr.loc[index,'ingredients']='soda_ash'"
   ]
  },
  {
   "cell_type": "code",
   "execution_count": 60,
   "metadata": {},
   "outputs": [],
   "source": [
    "for index,row in x_ingr.iterrows():\n",
    "    if re.search('冰',row.ingredients)!=None:\n",
    "        x_ingr.drop(index,inplace=True)"
   ]
  },
  {
   "cell_type": "code",
   "execution_count": 63,
   "metadata": {},
   "outputs": [],
   "source": [
    "for index,row in x_ingr.iterrows():\n",
    "    if re.search('戚风',row.ingredients)!=None:\n",
    "        x_ingr.loc[index,'ingredients']='chiffon'"
   ]
  },
  {
   "cell_type": "code",
   "execution_count": 64,
   "metadata": {},
   "outputs": [],
   "source": [
    "for index,row in x_ingr.iterrows():\n",
    "    if (re.search('饼干',row.ingredients)!=None) or (re.search('奥利奥',row.ingredients)!=None):\n",
    "        x_ingr.loc[index,'ingredients']='biscuit'"
   ]
  },
  {
   "cell_type": "code",
   "execution_count": 65,
   "metadata": {},
   "outputs": [],
   "source": [
    "for index,row in x_ingr.iterrows():\n",
    "    if (re.search('亨氏',row.ingredients)!=None) or (re.search('丘比',row.ingredients)!=None):\n",
    "        x_ingr.drop(index,inplace=True)"
   ]
  },
  {
   "cell_type": "code",
   "execution_count": 66,
   "metadata": {},
   "outputs": [],
   "source": [
    "for index,row in x_ingr.iterrows():\n",
    "    if (re.search('泡打粉',row.ingredients)!=None) or (re.search('小苏打',row.ingredients)!=None):\n",
    "        x_ingr.loc[index,'ingredients']='baking_soda'"
   ]
  },
  {
   "cell_type": "code",
   "execution_count": null,
   "metadata": {},
   "outputs": [],
   "source": [
    "for index,row in x_ingr.iterrows():\n",
    "    if (re.search('泡打粉',row.ingredients)!=None) or (re.search('小苏打',row.ingredients)!=None):\n",
    "        x_ingr.loc[index,'ingredients']='baking_soda'"
   ]
  },
  {
   "cell_type": "code",
   "execution_count": 25,
   "metadata": {},
   "outputs": [
    {
     "name": "stdout",
     "output_type": "stream",
     "text": [
      "['坚果等随你喜欢', '每日坚果', '即食坚果', '坚果', '各类坚果', '葵花籽亚麻籽等混合杂籽杂坚果', '每日坚果包', '生混合坚果', '生坚果', '坚果酱', '坚果果干', '混合坚果']\n"
     ]
    }
   ],
   "source": [
    "# nut/seed/pulse\n",
    "nut_str=[]\n",
    "for index,row in x_ingr.iterrows():\n",
    "    if (re.search('坚果',row.ingredients)!=None) or (re.search('干果',row.ingredients)!=None):\n",
    "        #x_ingr.loc[index,'ingredients']='banana'\n",
    "        nut_str.append(x_ingr.loc[index,'ingredients'])\n",
    "print(list(set(nut_str)))"
   ]
  },
  {
   "cell_type": "code",
   "execution_count": 26,
   "metadata": {},
   "outputs": [],
   "source": [
    "for index,row in x_ingr.iterrows():\n",
    "    if (re.search('坚果',row.ingredients)!=None) or (re.search('干果',row.ingredients)!=None):\n",
    "        x_ingr.loc[index,'ingredients']='nut'"
   ]
  },
  {
   "cell_type": "code",
   "execution_count": 12,
   "metadata": {},
   "outputs": [],
   "source": [
    "for index,row in x_ingr.iterrows():\n",
    "    if re.search('莲子',row.ingredients)!=None:\n",
    "        x_ingr.loc[index,'ingredients']='lotus_seed'"
   ]
  },
  {
   "cell_type": "code",
   "execution_count": 13,
   "metadata": {},
   "outputs": [],
   "source": [
    "# spice\n",
    "for index,row in x_ingr.iterrows():\n",
    "    if (re.search('金不换',row.ingredients)!=None) or (re.search('九层塔',row.ingredients)!=None):\n",
    "        x_ingr.loc[index,'ingredients']='basil'"
   ]
  },
  {
   "cell_type": "code",
   "execution_count": 14,
   "metadata": {},
   "outputs": [],
   "source": [
    "for index,row in x_ingr.iterrows():\n",
    "    if re.search('披萨草',row.ingredients)!=None:\n",
    "        x_ingr.loc[index,'ingredients']='oregano'"
   ]
  },
  {
   "cell_type": "code",
   "execution_count": 15,
   "metadata": {},
   "outputs": [],
   "source": [
    "for index,row in x_ingr.iterrows():\n",
    "    if re.search('味精',row.ingredients)!=None:\n",
    "        x_ingr.loc[index,'ingredients']='MSG'"
   ]
  },
  {
   "cell_type": "code",
   "execution_count": 41,
   "metadata": {},
   "outputs": [],
   "source": [
    "for index,row in x_ingr.iterrows():\n",
    "    if re.search('老干妈',row.ingredients)!=None:\n",
    "        x_ingr.loc[index,'ingredients']='laoganma'"
   ]
  },
  {
   "cell_type": "code",
   "execution_count": 42,
   "metadata": {},
   "outputs": [],
   "source": [
    "for index,row in x_ingr.iterrows():\n",
    "    if re.search('年糕',row.ingredients)!=None:\n",
    "        x_ingr.loc[index,'ingredients']='rice_cake'"
   ]
  },
  {
   "cell_type": "code",
   "execution_count": 43,
   "metadata": {
    "collapsed": true
   },
   "outputs": [
    {
     "name": "stdout",
     "output_type": "stream",
     "text": [
      "recipe_id      1000119\n",
      "ingredients       韩国辣酱\n",
      "Name: 1210, dtype: object\n",
      "recipe_id      100017919\n",
      "ingredients           辣酱\n",
      "Name: 1699, dtype: object\n",
      "recipe_id      100019425\n",
      "ingredients          香辣酱\n",
      "Name: 2015, dtype: object\n",
      "recipe_id      100022133\n",
      "ingredients       泰国甜辣酱各\n",
      "Name: 2486, dtype: object\n",
      "recipe_id      100023173\n",
      "ingredients         豆瓣辣酱\n",
      "Name: 2712, dtype: object\n",
      "recipe_id      100024918\n",
      "ingredients         韩式辣酱\n",
      "Name: 3168, dtype: object\n",
      "recipe_id      100039962\n",
      "ingredients         郫县辣酱\n",
      "Name: 6502, dtype: object\n",
      "recipe_id      100097599\n",
      "ingredients         韩国辣酱\n",
      "Name: 9796, dtype: object\n",
      "recipe_id      100098968\n",
      "ingredients         豆豉辣酱\n",
      "Name: 10007, dtype: object\n",
      "recipe_id      100099296\n",
      "ingredients         韩国辣酱\n",
      "Name: 10084, dtype: object\n",
      "recipe_id      1001079\n",
      "ingredients        甜辣酱\n",
      "Name: 11146, dtype: object\n",
      "recipe_id      100108250\n",
      "ingredients        泰式甜辣酱\n",
      "Name: 11162, dtype: object\n",
      "recipe_id      100118122\n",
      "ingredients         青介辣酱\n",
      "Name: 11885, dtype: object\n",
      "recipe_id      100124974\n",
      "ingredients         韩国辣酱\n",
      "Name: 12716, dtype: object\n",
      "recipe_id      100134574\n",
      "ingredients        泰式甜辣酱\n",
      "Name: 13824, dtype: object\n",
      "recipe_id      100171697\n",
      "ingredients           辣酱\n",
      "Name: 15425, dtype: object\n",
      "recipe_id      1001731\n",
      "ingredients         辣酱\n",
      "Name: 15443, dtype: object\n",
      "recipe_id      1002483\n",
      "ingredients       郫县辣酱\n",
      "Name: 17138, dtype: object\n",
      "recipe_id      1002652\n",
      "ingredients         辣酱\n",
      "Name: 17902, dtype: object\n",
      "recipe_id      100269831\n",
      "ingredients        泰式甜辣酱\n",
      "Name: 18354, dtype: object\n",
      "recipe_id      1003005\n",
      "ingredients        甜辣酱\n",
      "Name: 19967, dtype: object\n",
      "recipe_id      100363267\n",
      "ingredients           辣酱\n",
      "Name: 23089, dtype: object\n",
      "recipe_id      100366600\n",
      "ingredients         韩国辣酱\n",
      "Name: 23673, dtype: object\n",
      "recipe_id      100377075\n",
      "ingredients          甜辣酱\n",
      "Name: 25534, dtype: object\n",
      "recipe_id      100379739\n",
      "ingredients         韩式辣酱\n",
      "Name: 26017, dtype: object\n",
      "recipe_id      100395444\n",
      "ingredients          麻辣酱\n",
      "Name: 28619, dtype: object\n",
      "recipe_id      100397868\n",
      "ingredients        韩国甜辣酱\n",
      "Name: 28966, dtype: object\n",
      "recipe_id      100404325\n",
      "ingredients         韩式辣酱\n",
      "Name: 30115, dtype: object\n",
      "recipe_id      100404353\n",
      "ingredients        韩式甜辣酱\n",
      "Name: 30116, dtype: object\n",
      "recipe_id      100419705\n",
      "ingredients          香辣酱\n",
      "Name: 32784, dtype: object\n",
      "recipe_id      100419747\n",
      "ingredients         韩国辣酱\n",
      "Name: 32788, dtype: object\n",
      "recipe_id      100425390\n",
      "ingredients         韩国辣酱\n",
      "Name: 33689, dtype: object\n",
      "recipe_id      100428219\n",
      "ingredients        泰式甜辣酱\n",
      "Name: 34198, dtype: object\n",
      "recipe_id      100438510\n",
      "ingredients         韩国辣酱\n",
      "Name: 35731, dtype: object\n",
      "recipe_id      100441708\n",
      "ingredients         韩式辣酱\n",
      "Name: 36145, dtype: object\n",
      "recipe_id      1004555\n",
      "ingredients         辣酱\n",
      "Name: 38149, dtype: object\n",
      "recipe_id      1004653\n",
      "ingredients       韩式辣酱\n",
      "Name: 39733, dtype: object\n",
      "recipe_id      100470197\n",
      "ingredients         韩式辣酱\n",
      "Name: 40485, dtype: object\n",
      "recipe_id      100472230\n",
      "ingredients         韩国辣酱\n",
      "Name: 40841, dtype: object\n",
      "recipe_id      100477807\n",
      "ingredients         韩式辣酱\n",
      "Name: 41519, dtype: object\n",
      "recipe_id      100515061\n",
      "ingredients           辣酱\n",
      "Name: 46182, dtype: object\n",
      "recipe_id      1005151\n",
      "ingredients       豆瓣辣酱\n",
      "Name: 46191, dtype: object\n",
      "recipe_id      100527388\n",
      "ingredients           辣酱\n",
      "Name: 47851, dtype: object\n",
      "recipe_id      100530158\n",
      "ingredients         韩式辣酱\n",
      "Name: 48117, dtype: object\n",
      "recipe_id      100542924\n",
      "ingredients         郫县辣酱\n",
      "Name: 49668, dtype: object\n",
      "recipe_id      100553539\n",
      "ingredients         辣酱都行\n",
      "Name: 50855, dtype: object\n",
      "recipe_id      100560555\n",
      "ingredients           辣酱\n",
      "Name: 51743, dtype: object\n",
      "recipe_id      100561103\n",
      "ingredients         韩式辣酱\n",
      "Name: 51843, dtype: object\n",
      "recipe_id      100561103\n",
      "ingredients        泰式甜辣酱\n",
      "Name: 51845, dtype: object\n",
      "recipe_id      100576975\n",
      "ingredients        泰式甜辣酱\n",
      "Name: 53796, dtype: object\n",
      "recipe_id      100593180\n",
      "ingredients         韩国辣酱\n",
      "Name: 56138, dtype: object\n",
      "recipe_id      100624698\n",
      "ingredients         韩式辣酱\n",
      "Name: 59092, dtype: object\n",
      "recipe_id      1008038\n",
      "ingredients       韩国辣酱\n",
      "Name: 62376, dtype: object\n",
      "recipe_id      1009542\n",
      "ingredients         辣酱\n",
      "Name: 63156, dtype: object\n",
      "recipe_id      1015941\n",
      "ingredients       韩式辣酱\n",
      "Name: 65652, dtype: object\n",
      "recipe_id      1016660\n",
      "ingredients     阿香婆香辣酱\n",
      "Name: 65984, dtype: object\n",
      "recipe_id      101680177\n",
      "ingredients         韩式辣酱\n",
      "Name: 66256, dtype: object\n",
      "recipe_id      101719989\n",
      "ingredients        泰式甜辣酱\n",
      "Name: 67943, dtype: object\n",
      "recipe_id      101743070\n",
      "ingredients      海南黄灯笼辣酱\n",
      "Name: 68390, dtype: object\n",
      "recipe_id      101755312\n",
      "ingredients         豆瓣辣酱\n",
      "Name: 68713, dtype: object\n",
      "recipe_id      101756602\n",
      "ingredients           辣酱\n",
      "Name: 68825, dtype: object\n",
      "recipe_id      101759841\n",
      "ingredients         款式辣酱\n",
      "Name: 69182, dtype: object\n",
      "recipe_id      101767982\n",
      "ingredients        泰式甜辣酱\n",
      "Name: 69962, dtype: object\n",
      "recipe_id      101771689\n",
      "ingredients         韩式辣酱\n",
      "Name: 70327, dtype: object\n",
      "recipe_id      101774883\n",
      "ingredients           辣酱\n",
      "Name: 70669, dtype: object\n",
      "recipe_id      101781007\n",
      "ingredients           辣酱\n",
      "Name: 71246, dtype: object\n",
      "recipe_id      101795160\n",
      "ingredients         韩国辣酱\n",
      "Name: 72079, dtype: object\n",
      "recipe_id      101817911\n",
      "ingredients       塔巴斯科辣酱\n",
      "Name: 74235, dtype: object\n",
      "recipe_id      101826843\n",
      "ingredients           辣酱\n",
      "Name: 75008, dtype: object\n",
      "recipe_id      101828363\n",
      "ingredients           辣酱\n",
      "Name: 75156, dtype: object\n",
      "recipe_id      101856012\n",
      "ingredients         韩式辣酱\n",
      "Name: 78149, dtype: object\n",
      "recipe_id      101862481\n",
      "ingredients         韩式辣酱\n",
      "Name: 78716, dtype: object\n",
      "recipe_id      101870661\n",
      "ingredients           辣酱\n",
      "Name: 79476, dtype: object\n",
      "recipe_id      101878664\n",
      "ingredients         韩式辣酱\n",
      "Name: 80286, dtype: object\n",
      "recipe_id      101882845\n",
      "ingredients         韩式辣酱\n",
      "Name: 80673, dtype: object\n",
      "recipe_id      101892332\n",
      "ingredients         韩式辣酱\n",
      "Name: 81674, dtype: object\n",
      "recipe_id      102126130\n",
      "ingredients        泰式甜辣酱\n",
      "Name: 84076, dtype: object\n",
      "recipe_id      102128213\n",
      "ingredients        哈里萨辣酱\n",
      "Name: 84270, dtype: object\n",
      "recipe_id      102144277\n",
      "ingredients        泰式甜辣酱\n",
      "Name: 85894, dtype: object\n",
      "recipe_id      102144541\n",
      "ingredients          香辣酱\n",
      "Name: 85927, dtype: object\n",
      "recipe_id      102151898\n",
      "ingredients         韩式辣酱\n",
      "Name: 86709, dtype: object\n",
      "recipe_id      102156729\n",
      "ingredients         韩式辣酱\n",
      "Name: 87199, dtype: object\n",
      "recipe_id      102158325\n",
      "ingredients         泰式辣酱\n",
      "Name: 87383, dtype: object\n",
      "recipe_id      102163253\n",
      "ingredients         韩式辣酱\n",
      "Name: 87936, dtype: object\n",
      "recipe_id      102169369\n",
      "ingredients        泰式甜辣酱\n",
      "Name: 88482, dtype: object\n",
      "recipe_id      102175036\n",
      "ingredients        泰式酸辣酱\n",
      "Name: 88995, dtype: object\n",
      "recipe_id      102192160\n",
      "ingredients         韩式辣酱\n",
      "Name: 90686, dtype: object\n",
      "recipe_id      102193153\n",
      "ingredients         韩式辣酱\n",
      "Name: 90809, dtype: object\n",
      "recipe_id      102262968\n",
      "ingredients        泰式甜辣酱\n",
      "Name: 96376, dtype: object\n",
      "recipe_id      102278813\n",
      "ingredients         韩式辣酱\n",
      "Name: 97548, dtype: object\n",
      "recipe_id      102307920\n",
      "ingredients           辣酱\n",
      "Name: 100040, dtype: object\n",
      "recipe_id      102311968\n",
      "ingredients        韩式甜辣酱\n",
      "Name: 100395, dtype: object\n",
      "recipe_id      102328404\n",
      "ingredients         韩式辣酱\n",
      "Name: 101566, dtype: object\n",
      "recipe_id      102752872\n",
      "ingredients        泰式甜辣酱\n",
      "Name: 105467, dtype: object\n",
      "recipe_id      102767937\n",
      "ingredients        月香甜辣酱\n",
      "Name: 106334, dtype: object\n",
      "recipe_id      102772608\n",
      "ingredients         韩国辣酱\n",
      "Name: 106664, dtype: object\n",
      "recipe_id      102776648\n",
      "ingredients        泰式甜辣酱\n",
      "Name: 106903, dtype: object\n",
      "recipe_id      102788804\n",
      "ingredients         韩国辣酱\n",
      "Name: 107544, dtype: object\n",
      "recipe_id      102797462\n",
      "ingredients         韩国辣酱\n",
      "Name: 107898, dtype: object\n",
      "recipe_id      102812305\n",
      "ingredients        泰式甜辣酱\n",
      "Name: 108700, dtype: object\n",
      "recipe_id      102821089\n",
      "ingredients         韩式辣酱\n",
      "Name: 109140, dtype: object\n",
      "recipe_id      102836655\n",
      "ingredients         韩式辣酱\n",
      "Name: 110067, dtype: object\n",
      "recipe_id      102837678\n",
      "ingredients         韩国辣酱\n",
      "Name: 110112, dtype: object\n",
      "recipe_id      102881629\n",
      "ingredients         韩式辣酱\n",
      "Name: 112237, dtype: object\n",
      "recipe_id      102882858\n",
      "ingredients          甜辣酱\n",
      "Name: 112327, dtype: object\n",
      "recipe_id      102900785\n",
      "ingredients         韩式辣酱\n",
      "Name: 113292, dtype: object\n",
      "recipe_id      102947427\n",
      "ingredients        泰式甜辣酱\n",
      "Name: 115379, dtype: object\n",
      "recipe_id      103035993\n",
      "ingredients        黄灯笼辣酱\n",
      "Name: 117026, dtype: object\n",
      "recipe_id      103238394\n",
      "ingredients           辣酱\n",
      "Name: 117855, dtype: object\n",
      "recipe_id      103288390\n",
      "ingredients         韩国辣酱\n",
      "Name: 118038, dtype: object\n"
     ]
    },
    {
     "name": "stdout",
     "output_type": "stream",
     "text": [
      "recipe_id      103358658\n",
      "ingredients         韩国辣酱\n",
      "Name: 118955, dtype: object\n",
      "recipe_id      103397714\n",
      "ingredients         韩式辣酱\n",
      "Name: 119337, dtype: object\n",
      "recipe_id      1046538\n",
      "ingredients       四川辣酱\n",
      "Name: 122958, dtype: object\n",
      "recipe_id      1051924\n",
      "ingredients       韩式辣酱\n",
      "Name: 124826, dtype: object\n",
      "recipe_id      1052085\n",
      "ingredients       韩国辣酱\n",
      "Name: 124863, dtype: object\n",
      "recipe_id      1053497\n",
      "ingredients        香辣酱\n",
      "Name: 125156, dtype: object\n",
      "recipe_id      1071065\n",
      "ingredients       韩国辣酱\n",
      "Name: 128450, dtype: object\n",
      "recipe_id      1071329\n",
      "ingredients       韩式辣酱\n",
      "Name: 128574, dtype: object\n",
      "recipe_id      1071909\n",
      "ingredients       韩国辣酱\n",
      "Name: 128755, dtype: object\n",
      "recipe_id      1072051\n",
      "ingredients      韩式甜辣酱\n",
      "Name: 128793, dtype: object\n",
      "recipe_id      1074375\n",
      "ingredients         辣酱\n",
      "Name: 129466, dtype: object\n",
      "recipe_id      1082677\n",
      "ingredients        香辣酱\n",
      "Name: 131522, dtype: object\n",
      "recipe_id      1087116\n",
      "ingredients         辣酱\n",
      "Name: 132286, dtype: object\n",
      "recipe_id      1088527\n",
      "ingredients       韩式辣酱\n",
      "Name: 132688, dtype: object\n",
      "recipe_id      1089914\n",
      "ingredients      豆豉香辣酱\n",
      "Name: 133114, dtype: object\n",
      "recipe_id      1095540\n",
      "ingredients    可以多加些辣酱\n",
      "Name: 134426, dtype: object\n",
      "recipe_id      113437\n",
      "ingredients       香辣酱\n",
      "Name: 136909, dtype: object\n",
      "recipe_id      116867\n",
      "ingredients      韩国辣酱\n",
      "Name: 137376, dtype: object\n",
      "recipe_id      127255\n",
      "ingredients     韩国甜辣酱\n",
      "Name: 138806, dtype: object\n",
      "recipe_id      12827\n",
      "ingredients       辣酱\n",
      "Name: 139161, dtype: object\n",
      "recipe_id      14771\n",
      "ingredients     韩式辣酱\n",
      "Name: 140473, dtype: object\n",
      "recipe_id      170316\n",
      "ingredients      韩国辣酱\n",
      "Name: 142013, dtype: object\n",
      "recipe_id      174143\n",
      "ingredients       甜辣酱\n",
      "Name: 142391, dtype: object\n",
      "recipe_id      17794\n",
      "ingredients     韩式辣酱\n",
      "Name: 143022, dtype: object\n",
      "recipe_id      17849\n",
      "ingredients     韩式辣酱\n",
      "Name: 143219, dtype: object\n",
      "recipe_id      186693\n",
      "ingredients       甜辣酱\n",
      "Name: 144778, dtype: object\n",
      "recipe_id      186853\n",
      "ingredients      豆豉辣酱\n",
      "Name: 144804, dtype: object\n",
      "recipe_id      187271\n",
      "ingredients      韩国辣酱\n",
      "Name: 144909, dtype: object\n",
      "recipe_id      199519\n",
      "ingredients        辣酱\n",
      "Name: 145841, dtype: object\n",
      "recipe_id      215360\n",
      "ingredients     泰式甜辣酱\n",
      "Name: 147929, dtype: object\n",
      "recipe_id      221111\n",
      "ingredients      豆豉辣酱\n",
      "Name: 148715, dtype: object\n",
      "recipe_id      226513\n",
      "ingredients        辣酱\n",
      "Name: 149253, dtype: object\n",
      "recipe_id      236365\n",
      "ingredients      韩式辣酱\n",
      "Name: 150278, dtype: object\n",
      "recipe_id      245843\n",
      "ingredients      韩式辣酱\n",
      "Name: 151292, dtype: object\n",
      "recipe_id      246044\n",
      "ingredients        辣酱\n",
      "Name: 151504, dtype: object\n",
      "recipe_id      249963\n",
      "ingredients      韩式辣酱\n",
      "Name: 152966, dtype: object\n",
      "recipe_id      25507\n",
      "ingredients      香辣酱\n",
      "Name: 154484, dtype: object\n",
      "recipe_id      25736\n",
      "ingredients      香辣酱\n",
      "Name: 155841, dtype: object\n",
      "recipe_id      258715\n",
      "ingredients      韩式辣酱\n",
      "Name: 156522, dtype: object\n",
      "recipe_id      259357\n",
      "ingredients       麻辣酱\n",
      "Name: 156932, dtype: object\n",
      "recipe_id      259539\n",
      "ingredients       香辣酱\n",
      "Name: 157002, dtype: object\n",
      "recipe_id      260282\n",
      "ingredients     泰式甜辣酱\n",
      "Name: 157626, dtype: object\n",
      "recipe_id      260457\n",
      "ingredients       甜辣酱\n",
      "Name: 157760, dtype: object\n",
      "recipe_id      262574\n",
      "ingredients       香辣酱\n",
      "Name: 159255, dtype: object\n",
      "recipe_id      263474\n",
      "ingredients       麻辣酱\n",
      "Name: 160103, dtype: object\n",
      "recipe_id      263724\n",
      "ingredients       甜辣酱\n",
      "Name: 160371, dtype: object\n",
      "recipe_id      265730\n",
      "ingredients      韩式辣酱\n",
      "Name: 161930, dtype: object\n",
      "recipe_id      266036\n",
      "ingredients     泰式甜辣酱\n",
      "Name: 162145, dtype: object\n",
      "recipe_id      267296\n",
      "ingredients     泰式甜辣酱\n",
      "Name: 163250, dtype: object\n",
      "recipe_id      269014\n",
      "ingredients       香辣酱\n",
      "Name: 164421, dtype: object\n",
      "recipe_id      31878\n",
      "ingredients     川湘辣酱\n",
      "Name: 165073, dtype: object\n",
      "recipe_id      34243\n",
      "ingredients      香辣酱\n",
      "Name: 165457, dtype: object\n",
      "recipe_id      35596\n",
      "ingredients      香辣酱\n",
      "Name: 165776, dtype: object\n",
      "recipe_id      38858\n",
      "ingredients    豆豉香辣酱\n",
      "Name: 166880, dtype: object\n",
      "recipe_id      40770\n",
      "ingredients    泰式甜辣酱\n",
      "Name: 167246, dtype: object\n",
      "recipe_id      47875\n",
      "ingredients     郫县辣酱\n",
      "Name: 168118, dtype: object\n",
      "recipe_id      76959\n",
      "ingredients     韩国辣酱\n",
      "Name: 168915, dtype: object\n",
      "recipe_id      79878\n",
      "ingredients     韩国辣酱\n",
      "Name: 169428, dtype: object\n",
      "recipe_id      86882\n",
      "ingredients       辣酱\n",
      "Name: 170495, dtype: object\n",
      "recipe_id      91125\n",
      "ingredients       辣酱\n",
      "Name: 171260, dtype: object\n",
      "recipe_id      93485\n",
      "ingredients    韩式甜辣酱\n",
      "Name: 172080, dtype: object\n",
      "recipe_id       93532\n",
      "ingredients    鹃城牌香辣酱\n",
      "Name: 172119, dtype: object\n"
     ]
    }
   ],
   "source": []
  },
  {
   "cell_type": "code",
   "execution_count": 23,
   "metadata": {},
   "outputs": [
    {
     "name": "stdout",
     "output_type": "stream",
     "text": [
      "['水仙芒', '小台芒', '大台芒']\n"
     ]
    }
   ],
   "source": [
    "# fruit\n",
    "fruit_str=[]\n",
    "for index,row in x_ingr.iterrows():\n",
    "    if re.search('芒',row.ingredients)!=None:\n",
    "        #x_ingr.loc[index,'ingredients']='banana'\n",
    "        fruit_str.append(x_ingr.loc[index,'ingredients'])\n",
    "print(list(set(fruit_str)))"
   ]
  },
  {
   "cell_type": "code",
   "execution_count": 24,
   "metadata": {},
   "outputs": [],
   "source": [
    "for index,row in x_ingr.iterrows():\n",
    "    if re.search('芒',row.ingredients)!=None:\n",
    "        x_ingr.loc[index,'ingredients']='mango'"
   ]
  },
  {
   "cell_type": "code",
   "execution_count": null,
   "metadata": {},
   "outputs": [],
   "source": []
  }
 ],
 "metadata": {
  "kernelspec": {
   "display_name": "Python 3",
   "language": "python",
   "name": "python3"
  },
  "language_info": {
   "codemirror_mode": {
    "name": "ipython",
    "version": 3
   },
   "file_extension": ".py",
   "mimetype": "text/x-python",
   "name": "python",
   "nbconvert_exporter": "python",
   "pygments_lexer": "ipython3",
   "version": "3.6.3"
  }
 },
 "nbformat": 4,
 "nbformat_minor": 2
}
