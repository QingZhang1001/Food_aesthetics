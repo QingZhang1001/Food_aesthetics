{
 "cells": [
  {
   "cell_type": "code",
   "execution_count": 1,
   "metadata": {},
   "outputs": [],
   "source": [
    "import pandas as pd\n",
    "import numpy as np\n",
    "import matplotlib.pyplot as plt\n",
    "import seaborn as sns\n",
    "import os\n",
    "import re"
   ]
  },
  {
   "cell_type": "code",
   "execution_count": 39,
   "metadata": {},
   "outputs": [],
   "source": [
    "def explode(df,column):\n",
    "    df1=df[column].str.split('、',expand=True).stack().str.strip().reset_index(level=1,drop=True)\n",
    "    df1=pd.DataFrame(df1)\n",
    "    df=df.drop(column,axis=1).join(df1).reset_index(drop=True)\n",
    "    df.rename(columns={0:'ingredients'},inplace=True)\n",
    "    return df"
   ]
  },
  {
   "cell_type": "code",
   "execution_count": 40,
   "metadata": {},
   "outputs": [
    {
     "data": {
      "text/plain": [
       "(181375, 2)"
      ]
     },
     "execution_count": 40,
     "metadata": {},
     "output_type": "execute_result"
    }
   ],
   "source": [
    "x_ingr=pd.read_csv('/home/IW_student/work/food_flavor/ingredient_preprocessing/datasets/x_ingr_3.csv',index_col=0)\n",
    "x_ingr=explode(x_ingr,'ingredients')\n",
    "x_ingr.dropna(inplace=True)\n",
    "x_ingr.shape"
   ]
  },
  {
   "cell_type": "code",
   "execution_count": 4,
   "metadata": {},
   "outputs": [
    {
     "data": {
      "text/html": [
       "<div>\n",
       "<style scoped>\n",
       "    .dataframe tbody tr th:only-of-type {\n",
       "        vertical-align: middle;\n",
       "    }\n",
       "\n",
       "    .dataframe tbody tr th {\n",
       "        vertical-align: top;\n",
       "    }\n",
       "\n",
       "    .dataframe thead th {\n",
       "        text-align: right;\n",
       "    }\n",
       "</style>\n",
       "<table border=\"1\" class=\"dataframe\">\n",
       "  <thead>\n",
       "    <tr style=\"text-align: right;\">\n",
       "      <th></th>\n",
       "      <th>recipe_id</th>\n",
       "      <th>ingredients</th>\n",
       "    </tr>\n",
       "  </thead>\n",
       "  <tbody>\n",
       "    <tr>\n",
       "      <th>0</th>\n",
       "      <td>100000002</td>\n",
       "      <td>asparagus</td>\n",
       "    </tr>\n",
       "    <tr>\n",
       "      <th>1</th>\n",
       "      <td>100000002</td>\n",
       "      <td>garlic</td>\n",
       "    </tr>\n",
       "    <tr>\n",
       "      <th>2</th>\n",
       "      <td>100000002</td>\n",
       "      <td>红椒</td>\n",
       "    </tr>\n",
       "    <tr>\n",
       "      <th>3</th>\n",
       "      <td>100000003</td>\n",
       "      <td>yogurt</td>\n",
       "    </tr>\n",
       "    <tr>\n",
       "      <th>4</th>\n",
       "      <td>100000003</td>\n",
       "      <td>gelatin</td>\n",
       "    </tr>\n",
       "  </tbody>\n",
       "</table>\n",
       "</div>"
      ],
      "text/plain": [
       "   recipe_id ingredients\n",
       "0  100000002   asparagus\n",
       "1  100000002      garlic\n",
       "2  100000002          红椒\n",
       "3  100000003      yogurt\n",
       "4  100000003     gelatin"
      ]
     },
     "execution_count": 4,
     "metadata": {},
     "output_type": "execute_result"
    }
   ],
   "source": [
    "x_ingr.head()"
   ]
  },
  {
   "cell_type": "code",
   "execution_count": 5,
   "metadata": {},
   "outputs": [],
   "source": [
    "## 去除色素\n",
    "for index,row in x_ingr.iterrows():\n",
    "    if re.search('色素',row.ingredients)!=None:\n",
    "        x_ingr.drop(index,inplace=True) "
   ]
  },
  {
   "cell_type": "code",
   "execution_count": 6,
   "metadata": {},
   "outputs": [],
   "source": [
    "## 去除锅\n",
    "for index,row in x_ingr.iterrows():\n",
    "    if re.search('锅$',row.ingredients)!=None:\n",
    "        x_ingr.drop(index,inplace=True)"
   ]
  },
  {
   "cell_type": "code",
   "execution_count": 7,
   "metadata": {},
   "outputs": [
    {
     "data": {
      "text/plain": [
       "(181375, 2)"
      ]
     },
     "execution_count": 7,
     "metadata": {},
     "output_type": "execute_result"
    }
   ],
   "source": [
    "x_ingr.shape"
   ]
  },
  {
   "cell_type": "code",
   "execution_count": null,
   "metadata": {},
   "outputs": [],
   "source": [
    "## alcoholic beverage"
   ]
  },
  {
   "cell_type": "code",
   "execution_count": 41,
   "metadata": {},
   "outputs": [
    {
     "name": "stdout",
     "output_type": "stream",
     "text": [
      "['糖酒液', '酒曲', '酒米', '酒糖液', '小酒', '酒酿', '哥顿金酒', '酒杯', '洋酒', '烧酒', '月子酒', '烘焙酒', '米酒', '酒类', '酒精提神类', '客家娘酒', '酒鬼花生']\n"
     ]
    }
   ],
   "source": [
    "# jiu\n",
    "jiu_str=[]\n",
    "for index,row in x_ingr.iterrows():\n",
    "    if re.search('酒',row.ingredients)!=None:\n",
    "        jiu_str.append(x_ingr.loc[index,'ingredients'])\n",
    "        #x_ingr.loc[index,'ingredients']='mashed_potato'\n",
    "print(list(set(jiu_str)))"
   ]
  },
  {
   "cell_type": "code",
   "execution_count": 42,
   "metadata": {},
   "outputs": [],
   "source": [
    "for index,row in x_ingr.iterrows():\n",
    "    if (re.search('料酒',row.ingredients)!=None) or (re.search('黄酒',row.ingredients)!=None) or (re.search('花雕',row.ingredients)!=None):\n",
    "        x_ingr.loc[index,'ingredients']='cooking_wine'"
   ]
  },
  {
   "cell_type": "code",
   "execution_count": 43,
   "metadata": {},
   "outputs": [],
   "source": [
    "for index,row in x_ingr.iterrows():\n",
    "    if (re.search('白酒',row.ingredients)!=None) or (re.search('二锅头',row.ingredients)!=None):\n",
    "        x_ingr.loc[index,'ingredients']='Chinese_spirits'"
   ]
  },
  {
   "cell_type": "code",
   "execution_count": 9,
   "metadata": {},
   "outputs": [],
   "source": [
    "for index,row in x_ingr.iterrows():\n",
    "    if re.search('伏特加',row.ingredients)!=None:      \n",
    "        x_ingr.loc[index,'ingredients']='vodka'"
   ]
  },
  {
   "cell_type": "code",
   "execution_count": 10,
   "metadata": {},
   "outputs": [],
   "source": [
    "for index,row in x_ingr.iterrows():\n",
    "    if (re.search('酒曲',row.ingredients)!=None) or (re.search('酒麴',row.ingredients)!=None) or (re.search('酒粬',row.ingredients)!=None):\n",
    "        #jiu_str.append(x_ingr.loc[index,'ingredients'])\n",
    "        x_ingr.loc[index,'ingredients']='酒曲'"
   ]
  },
  {
   "cell_type": "code",
   "execution_count": 11,
   "metadata": {},
   "outputs": [],
   "source": [
    "for index,row in x_ingr.iterrows():\n",
    "    if (re.search('果酒',row.ingredients)!=None) or (re.search('果味酒',row.ingredients)!=None) or (re.search('波士蓝橙酒',row.ingredients)!=None) or (re.search('覆盆子酒',row.ingredients)!=None) or (re.search('蓝色预调酒',row.ingredients)!=None) or (re.search('樱桃酒',row.ingredients)!=None) or (re.search('苦杏酒',row.ingredients)!=None) or (re.search('杨梅酒',row.ingredients)!=None):\n",
    "        #jiu_str.append(x_ingr.loc[index,'ingredients'])\n",
    "        x_ingr.loc[index,'ingredients']='alcoholic_beverage'"
   ]
  },
  {
   "cell_type": "code",
   "execution_count": 12,
   "metadata": {},
   "outputs": [],
   "source": [
    "for index,row in x_ingr.iterrows():\n",
    "    if re.search('玫瑰.*酒',row.ingredients)!=None:\n",
    "        #jiu_str.append(x_ingr.loc[index,'ingredients'])\n",
    "        x_ingr.loc[index,'ingredients']='rose_wine'"
   ]
  },
  {
   "cell_type": "code",
   "execution_count": 13,
   "metadata": {},
   "outputs": [],
   "source": [
    "for index,row in x_ingr.iterrows():\n",
    "    if re.search('龙舌兰',row.ingredients)!=None:\n",
    "        #jiu_str.append(x_ingr.loc[index,'ingredients'])\n",
    "        x_ingr.loc[index,'ingredients']='tequila'"
   ]
  },
  {
   "cell_type": "code",
   "execution_count": 14,
   "metadata": {},
   "outputs": [],
   "source": [
    "for index,row in x_ingr.iterrows():\n",
    "    if re.search('米酒',row.ingredients)!=None:\n",
    "        #jiu_str.append(x_ingr.loc[index,'ingredients'])\n",
    "        x_ingr.loc[index,'ingredients']='米酒'"
   ]
  },
  {
   "cell_type": "code",
   "execution_count": 15,
   "metadata": {},
   "outputs": [],
   "source": [
    "for index,row in x_ingr.iterrows():\n",
    "    if (re.search('酒酿',row.ingredients)!=None) or (re.search('酒糟',row.ingredients)!=None):\n",
    "        #jiu_str.append(x_ingr.loc[index,'ingredients'])\n",
    "        x_ingr.loc[index,'ingredients']='酒酿'"
   ]
  },
  {
   "cell_type": "code",
   "execution_count": 16,
   "metadata": {},
   "outputs": [],
   "source": [
    "for index,row in x_ingr.iterrows():\n",
    "    if (re.search('料酒',row.ingredients)!=None) or (re.search('花雕酒',row.ingredients)!=None) or (re.search('黄酒',row.ingredients)!=None) or (re.search('绍兴',row.ingredients)!=None) or (re.search('老酒',row.ingredients)!=None) or (re.search('绍酒',row.ingredients)!=None) or (re.search('料理酒',row.ingredients)!=None):\n",
    "        #jiu_str.append(x_ingr.loc[index,'ingredients'])\n",
    "        x_ingr.loc[index,'ingredients']='料酒'"
   ]
  },
  {
   "cell_type": "code",
   "execution_count": 17,
   "metadata": {},
   "outputs": [],
   "source": [
    "for index,row in x_ingr.iterrows():\n",
    "    if re.search('酒渍',row.ingredients)!=None:\n",
    "        #jiu_str.append(x_ingr.loc[index,'ingredients'])\n",
    "        x_ingr.loc[index,'ingredients']=re.sub('酒渍','',row.ingredients)"
   ]
  },
  {
   "cell_type": "code",
   "execution_count": 19,
   "metadata": {},
   "outputs": [],
   "source": [
    "for index,row in x_ingr.iterrows():\n",
    "    if re.search('料酒',row.ingredients)!=None:\n",
    "        #jiu_str.append(x_ingr.loc[index,'ingredients'])\n",
    "        x_ingr.loc[index,'ingredients']='料酒'"
   ]
  },
  {
   "cell_type": "code",
   "execution_count": 20,
   "metadata": {},
   "outputs": [],
   "source": [
    "for index,row in x_ingr.iterrows():\n",
    "    if (re.search('白酒',row.ingredients)!=None) or (re.search('^酒$',row.ingredients)!=None) or (re.search('高粱酒',row.ingredients)!=None) or (re.search('二锅头',row.ingredients)!=None) or (re.search('九江双蒸酒',row.ingredients)!=None) or (re.search('烈酒',row.ingredients)!=None) or (re.search('高度粮食酒',row.ingredients)!=None):\n",
    "        #jiu_str.append(x_ingr.loc[index,'ingredients'])\n",
    "        x_ingr.loc[index,'ingredients']='白酒'"
   ]
  },
  {
   "cell_type": "code",
   "execution_count": 21,
   "metadata": {},
   "outputs": [],
   "source": [
    "for index,row in x_ingr.iterrows():\n",
    "    if re.search('白葡萄酒',row.ingredients)!=None:\n",
    "        #jiu_str.append(x_ingr.loc[index,'ingredients'])\n",
    "        x_ingr.loc[index,'ingredients']='white_wine'"
   ]
  },
  {
   "cell_type": "code",
   "execution_count": 22,
   "metadata": {},
   "outputs": [],
   "source": [
    "for index,row in x_ingr.iterrows():\n",
    "    if (re.search('红葡萄酒',row.ingredients)!=None) or (re.search('红酒',row.ingredients)!=None):\n",
    "        #jiu_str.append(x_ingr.loc[index,'ingredients'])\n",
    "        x_ingr.loc[index,'ingredients']='red_wine'"
   ]
  },
  {
   "cell_type": "code",
   "execution_count": 23,
   "metadata": {},
   "outputs": [],
   "source": [
    "for index,row in x_ingr.iterrows():\n",
    "    if re.search('葡萄酒',row.ingredients)!=None:\n",
    "        #jiu_str.append(x_ingr.loc[index,'ingredients'])\n",
    "        x_ingr.loc[index,'ingredients']='wine'"
   ]
  },
  {
   "cell_type": "code",
   "execution_count": 24,
   "metadata": {},
   "outputs": [],
   "source": [
    "# rum -> 朗姆酒 朗姆\n",
    "for index,row in x_ingr.iterrows():\n",
    "    if (re.search('朗姆酒',row.ingredients)!=None) or (re.search('郎姆酒',row.ingredients)!=None) or (re.search('兰姆酒',row.ingredients)!=None) or (re.search('朗母酒',row.ingredients)!=None) or (re.search('朗姆',row.ingredients)!=None):\n",
    "        #jiu_str.append(x_ingr.loc[index,'ingredients'])\n",
    "        x_ingr.loc[index,'ingredients']='rum'"
   ]
  },
  {
   "cell_type": "code",
   "execution_count": 25,
   "metadata": {},
   "outputs": [],
   "source": [
    "# beer -> 啤酒\n",
    "for index,row in x_ingr.iterrows():\n",
    "    if re.search('啤酒',row.ingredients)!=None:\n",
    "        #jiu_str.append(x_ingr.loc[index,'ingredients'])\n",
    "        x_ingr.loc[index,'ingredients']='beer'"
   ]
  },
  {
   "cell_type": "code",
   "execution_count": 26,
   "metadata": {},
   "outputs": [],
   "source": [
    "## brandy -> 白兰地\n",
    "for index,row in x_ingr.iterrows():\n",
    "    if re.search('白兰地',row.ingredients)!=None:\n",
    "        #jiu_str.append(x_ingr.loc[index,'ingredients'])\n",
    "        x_ingr.loc[index,'ingredients']='brandy'"
   ]
  },
  {
   "cell_type": "code",
   "execution_count": 27,
   "metadata": {},
   "outputs": [],
   "source": [
    "## sake -> 清酒\n",
    "for index,row in x_ingr.iterrows():\n",
    "    if (re.search('清酒',row.ingredients)!=None) or (re.search('日.*酒',row.ingredients)!=None) or (re.search('青酒',row.ingredients)!=None):\n",
    "        #jiu_str.append(x_ingr.loc[index,'ingredients'])\n",
    "        x_ingr.loc[index,'ingredients']='sake'"
   ]
  },
  {
   "cell_type": "code",
   "execution_count": 27,
   "metadata": {},
   "outputs": [],
   "source": [
    "# 利口酒， 力娇酒 ，鸡尾酒 alcoholic_beverage"
   ]
  },
  {
   "cell_type": "code",
   "execution_count": 28,
   "metadata": {
    "collapsed": true
   },
   "outputs": [
    {
     "ename": "KeyboardInterrupt",
     "evalue": "",
     "output_type": "error",
     "traceback": [
      "\u001b[0;31m---------------------------------------------------------------------------\u001b[0m",
      "\u001b[0;31mKeyboardInterrupt\u001b[0m                         Traceback (most recent call last)",
      "\u001b[0;32m<ipython-input-28-e78edd6f1e64>\u001b[0m in \u001b[0;36m<module>\u001b[0;34m()\u001b[0m\n\u001b[1;32m      1\u001b[0m \u001b[0;32mfor\u001b[0m \u001b[0mindex\u001b[0m\u001b[0;34m,\u001b[0m\u001b[0mrow\u001b[0m \u001b[0;32min\u001b[0m \u001b[0mx_ingr\u001b[0m\u001b[0;34m.\u001b[0m\u001b[0miterrows\u001b[0m\u001b[0;34m(\u001b[0m\u001b[0;34m)\u001b[0m\u001b[0;34m:\u001b[0m\u001b[0;34m\u001b[0m\u001b[0m\n\u001b[0;32m----> 2\u001b[0;31m     \u001b[0;32mif\u001b[0m \u001b[0;34m(\u001b[0m\u001b[0mre\u001b[0m\u001b[0;34m.\u001b[0m\u001b[0msearch\u001b[0m\u001b[0;34m(\u001b[0m\u001b[0;34m'利口酒'\u001b[0m\u001b[0;34m,\u001b[0m\u001b[0mrow\u001b[0m\u001b[0;34m.\u001b[0m\u001b[0mingredients\u001b[0m\u001b[0;34m)\u001b[0m\u001b[0;34m!=\u001b[0m\u001b[0;32mNone\u001b[0m\u001b[0;34m)\u001b[0m \u001b[0;32mor\u001b[0m \u001b[0;34m(\u001b[0m\u001b[0mre\u001b[0m\u001b[0;34m.\u001b[0m\u001b[0msearch\u001b[0m\u001b[0;34m(\u001b[0m\u001b[0;34m'力娇酒'\u001b[0m\u001b[0;34m,\u001b[0m\u001b[0mrow\u001b[0m\u001b[0;34m.\u001b[0m\u001b[0mingredients\u001b[0m\u001b[0;34m)\u001b[0m\u001b[0;34m!=\u001b[0m\u001b[0;32mNone\u001b[0m\u001b[0;34m)\u001b[0m \u001b[0;32mor\u001b[0m \u001b[0;34m(\u001b[0m\u001b[0mre\u001b[0m\u001b[0;34m.\u001b[0m\u001b[0msearch\u001b[0m\u001b[0;34m(\u001b[0m\u001b[0;34m'鸡尾酒'\u001b[0m\u001b[0;34m,\u001b[0m\u001b[0mrow\u001b[0m\u001b[0;34m.\u001b[0m\u001b[0mingredients\u001b[0m\u001b[0;34m)\u001b[0m\u001b[0;34m!=\u001b[0m\u001b[0;32mNone\u001b[0m\u001b[0;34m)\u001b[0m \u001b[0;32mor\u001b[0m \u001b[0;34m(\u001b[0m\u001b[0mre\u001b[0m\u001b[0;34m.\u001b[0m\u001b[0msearch\u001b[0m\u001b[0;34m(\u001b[0m\u001b[0;34m'君度'\u001b[0m\u001b[0;34m,\u001b[0m\u001b[0mrow\u001b[0m\u001b[0;34m.\u001b[0m\u001b[0mingredients\u001b[0m\u001b[0;34m)\u001b[0m\u001b[0;34m!=\u001b[0m\u001b[0;32mNone\u001b[0m\u001b[0;34m)\u001b[0m \u001b[0;32mor\u001b[0m \u001b[0;34m(\u001b[0m\u001b[0mre\u001b[0m\u001b[0;34m.\u001b[0m\u001b[0msearch\u001b[0m\u001b[0;34m(\u001b[0m\u001b[0;34m'潘趣'\u001b[0m\u001b[0;34m,\u001b[0m\u001b[0mrow\u001b[0m\u001b[0;34m.\u001b[0m\u001b[0mingredients\u001b[0m\u001b[0;34m)\u001b[0m\u001b[0;34m!=\u001b[0m\u001b[0;32mNone\u001b[0m\u001b[0;34m)\u001b[0m\u001b[0;34m:\u001b[0m\u001b[0;34m\u001b[0m\u001b[0m\n\u001b[0m\u001b[1;32m      3\u001b[0m         \u001b[0;31m#jiu_str.append(x_ingr.loc[index,'ingredients'])\u001b[0m\u001b[0;34m\u001b[0m\u001b[0;34m\u001b[0m\u001b[0m\n\u001b[1;32m      4\u001b[0m         \u001b[0mx_ingr\u001b[0m\u001b[0;34m.\u001b[0m\u001b[0mloc\u001b[0m\u001b[0;34m[\u001b[0m\u001b[0mindex\u001b[0m\u001b[0;34m,\u001b[0m\u001b[0;34m'ingredients'\u001b[0m\u001b[0;34m]\u001b[0m\u001b[0;34m=\u001b[0m\u001b[0;34m'alcoholic_beverage'\u001b[0m\u001b[0;34m\u001b[0m\u001b[0m\n",
      "\u001b[0;32m/opt/conda/lib/python3.6/site-packages/pandas/core/generic.py\u001b[0m in \u001b[0;36m__getattr__\u001b[0;34m(self, name)\u001b[0m\n\u001b[1;32m   4372\u001b[0m             \u001b[0;32mreturn\u001b[0m \u001b[0mobject\u001b[0m\u001b[0;34m.\u001b[0m\u001b[0m__getattribute__\u001b[0m\u001b[0;34m(\u001b[0m\u001b[0mself\u001b[0m\u001b[0;34m,\u001b[0m \u001b[0mname\u001b[0m\u001b[0;34m)\u001b[0m\u001b[0;34m\u001b[0m\u001b[0m\n\u001b[1;32m   4373\u001b[0m         \u001b[0;32melse\u001b[0m\u001b[0;34m:\u001b[0m\u001b[0;34m\u001b[0m\u001b[0m\n\u001b[0;32m-> 4374\u001b[0;31m             \u001b[0;32mif\u001b[0m \u001b[0mself\u001b[0m\u001b[0;34m.\u001b[0m\u001b[0m_info_axis\u001b[0m\u001b[0;34m.\u001b[0m\u001b[0m_can_hold_identifiers_and_holds_name\u001b[0m\u001b[0;34m(\u001b[0m\u001b[0mname\u001b[0m\u001b[0;34m)\u001b[0m\u001b[0;34m:\u001b[0m\u001b[0;34m\u001b[0m\u001b[0m\n\u001b[0m\u001b[1;32m   4375\u001b[0m                 \u001b[0;32mreturn\u001b[0m \u001b[0mself\u001b[0m\u001b[0;34m[\u001b[0m\u001b[0mname\u001b[0m\u001b[0;34m]\u001b[0m\u001b[0;34m\u001b[0m\u001b[0m\n\u001b[1;32m   4376\u001b[0m             \u001b[0;32mreturn\u001b[0m \u001b[0mobject\u001b[0m\u001b[0;34m.\u001b[0m\u001b[0m__getattribute__\u001b[0m\u001b[0;34m(\u001b[0m\u001b[0mself\u001b[0m\u001b[0;34m,\u001b[0m \u001b[0mname\u001b[0m\u001b[0;34m)\u001b[0m\u001b[0;34m\u001b[0m\u001b[0m\n",
      "\u001b[0;32m/opt/conda/lib/python3.6/site-packages/pandas/core/generic.py\u001b[0m in \u001b[0;36m_info_axis\u001b[0;34m(self)\u001b[0m\n\u001b[1;32m    438\u001b[0m     \u001b[0;34m@\u001b[0m\u001b[0mproperty\u001b[0m\u001b[0;34m\u001b[0m\u001b[0m\n\u001b[1;32m    439\u001b[0m     \u001b[0;32mdef\u001b[0m \u001b[0m_info_axis\u001b[0m\u001b[0;34m(\u001b[0m\u001b[0mself\u001b[0m\u001b[0;34m)\u001b[0m\u001b[0;34m:\u001b[0m\u001b[0;34m\u001b[0m\u001b[0m\n\u001b[0;32m--> 440\u001b[0;31m         \u001b[0;32mreturn\u001b[0m \u001b[0mgetattr\u001b[0m\u001b[0;34m(\u001b[0m\u001b[0mself\u001b[0m\u001b[0;34m,\u001b[0m \u001b[0mself\u001b[0m\u001b[0;34m.\u001b[0m\u001b[0m_info_axis_name\u001b[0m\u001b[0;34m)\u001b[0m\u001b[0;34m\u001b[0m\u001b[0m\n\u001b[0m\u001b[1;32m    441\u001b[0m \u001b[0;34m\u001b[0m\u001b[0m\n\u001b[1;32m    442\u001b[0m     \u001b[0;34m@\u001b[0m\u001b[0mproperty\u001b[0m\u001b[0;34m\u001b[0m\u001b[0m\n",
      "\u001b[0;31mKeyboardInterrupt\u001b[0m: "
     ]
    }
   ],
   "source": [
    "for index,row in x_ingr.iterrows():\n",
    "    if (re.search('利口酒',row.ingredients)!=None) or (re.search('力娇酒',row.ingredients)!=None) or (re.search('鸡尾酒',row.ingredients)!=None) or (re.search('君度',row.ingredients)!=None) or (re.search('潘趣',row.ingredients)!=None):\n",
    "        #jiu_str.append(x_ingr.loc[index,'ingredients'])\n",
    "        x_ingr.loc[index,'ingredients']='alcoholic_beverage'"
   ]
  },
  {
   "cell_type": "code",
   "execution_count": 28,
   "metadata": {},
   "outputs": [],
   "source": [
    "for index,row in x_ingr.iterrows():\n",
    "    if re.search('甜酒$',row.ingredients)!=None:\n",
    "        #jiu_str.append(x_ingr.loc[index,'ingredients'])\n",
    "        x_ingr.loc[index,'ingredients']='alcoholic_beverage'"
   ]
  },
  {
   "cell_type": "code",
   "execution_count": 44,
   "metadata": {},
   "outputs": [],
   "source": [
    "x_ingr.to_csv('/home/IW_student/work/food_flavor/ingredient_preprocessing/datasets/x_ingr_3.csv')"
   ]
  },
  {
   "cell_type": "code",
   "execution_count": null,
   "metadata": {},
   "outputs": [],
   "source": [
    "# fish/seafood （鱼、虾、蟹）"
   ]
  },
  {
   "cell_type": "code",
   "execution_count": 36,
   "metadata": {},
   "outputs": [
    {
     "name": "stdout",
     "output_type": "stream",
     "text": [
      "[]\n"
     ]
    }
   ],
   "source": [
    "## yu\n",
    "yu_str=[]\n",
    "for index,row in x_ingr.iterrows():\n",
    "    if re.search('鱼',row.ingredients)!=None:\n",
    "        yu_str.append(x_ingr.loc[index,'ingredients'])\n",
    "print(list(set(yu_str)))"
   ]
  },
  {
   "cell_type": "code",
   "execution_count": 37,
   "metadata": {},
   "outputs": [],
   "source": [
    "for index,row in x_ingr.iterrows():\n",
    "    if re.search('鱼腥草',row.ingredients)!=None:\n",
    "        x_ingr.loc[index,'ingredients']='vegetable' "
   ]
  },
  {
   "cell_type": "code",
   "execution_count": 38,
   "metadata": {
    "collapsed": true
   },
   "outputs": [
    {
     "ename": "KeyboardInterrupt",
     "evalue": "",
     "output_type": "error",
     "traceback": [
      "\u001b[0;31m---------------------------------------------------------------------------\u001b[0m",
      "\u001b[0;31mKeyboardInterrupt\u001b[0m                         Traceback (most recent call last)",
      "\u001b[0;32m<ipython-input-38-c51cb5c54d19>\u001b[0m in \u001b[0;36m<module>\u001b[0;34m()\u001b[0m\n\u001b[0;32m----> 1\u001b[0;31m \u001b[0;32mfor\u001b[0m \u001b[0mindex\u001b[0m\u001b[0;34m,\u001b[0m\u001b[0mrow\u001b[0m \u001b[0;32min\u001b[0m \u001b[0mx_ingr\u001b[0m\u001b[0;34m.\u001b[0m\u001b[0miterrows\u001b[0m\u001b[0;34m(\u001b[0m\u001b[0;34m)\u001b[0m\u001b[0;34m:\u001b[0m\u001b[0;34m\u001b[0m\u001b[0m\n\u001b[0m\u001b[1;32m      2\u001b[0m     \u001b[0;32mif\u001b[0m \u001b[0mre\u001b[0m\u001b[0;34m.\u001b[0m\u001b[0msearch\u001b[0m\u001b[0;34m(\u001b[0m\u001b[0;34m'鱼子酱'\u001b[0m\u001b[0;34m,\u001b[0m\u001b[0mrow\u001b[0m\u001b[0;34m.\u001b[0m\u001b[0mingredients\u001b[0m\u001b[0;34m)\u001b[0m\u001b[0;34m!=\u001b[0m\u001b[0;32mNone\u001b[0m\u001b[0;34m:\u001b[0m\u001b[0;34m\u001b[0m\u001b[0m\n\u001b[1;32m      3\u001b[0m         \u001b[0mx_ingr\u001b[0m\u001b[0;34m.\u001b[0m\u001b[0mloc\u001b[0m\u001b[0;34m[\u001b[0m\u001b[0mindex\u001b[0m\u001b[0;34m,\u001b[0m\u001b[0;34m'ingredients'\u001b[0m\u001b[0;34m]\u001b[0m\u001b[0;34m=\u001b[0m\u001b[0;34m'caviar'\u001b[0m\u001b[0;34m\u001b[0m\u001b[0m\n",
      "\u001b[0;32m/opt/conda/lib/python3.6/site-packages/pandas/core/frame.py\u001b[0m in \u001b[0;36miterrows\u001b[0;34m(self)\u001b[0m\n\u001b[1;32m    773\u001b[0m         \u001b[0mklass\u001b[0m \u001b[0;34m=\u001b[0m \u001b[0mself\u001b[0m\u001b[0;34m.\u001b[0m\u001b[0m_constructor_sliced\u001b[0m\u001b[0;34m\u001b[0m\u001b[0m\n\u001b[1;32m    774\u001b[0m         \u001b[0;32mfor\u001b[0m \u001b[0mk\u001b[0m\u001b[0;34m,\u001b[0m \u001b[0mv\u001b[0m \u001b[0;32min\u001b[0m \u001b[0mzip\u001b[0m\u001b[0;34m(\u001b[0m\u001b[0mself\u001b[0m\u001b[0;34m.\u001b[0m\u001b[0mindex\u001b[0m\u001b[0;34m,\u001b[0m \u001b[0mself\u001b[0m\u001b[0;34m.\u001b[0m\u001b[0mvalues\u001b[0m\u001b[0;34m)\u001b[0m\u001b[0;34m:\u001b[0m\u001b[0;34m\u001b[0m\u001b[0m\n\u001b[0;32m--> 775\u001b[0;31m             \u001b[0ms\u001b[0m \u001b[0;34m=\u001b[0m \u001b[0mklass\u001b[0m\u001b[0;34m(\u001b[0m\u001b[0mv\u001b[0m\u001b[0;34m,\u001b[0m \u001b[0mindex\u001b[0m\u001b[0;34m=\u001b[0m\u001b[0mcolumns\u001b[0m\u001b[0;34m,\u001b[0m \u001b[0mname\u001b[0m\u001b[0;34m=\u001b[0m\u001b[0mk\u001b[0m\u001b[0;34m)\u001b[0m\u001b[0;34m\u001b[0m\u001b[0m\n\u001b[0m\u001b[1;32m    776\u001b[0m             \u001b[0;32myield\u001b[0m \u001b[0mk\u001b[0m\u001b[0;34m,\u001b[0m \u001b[0ms\u001b[0m\u001b[0;34m\u001b[0m\u001b[0m\n\u001b[1;32m    777\u001b[0m \u001b[0;34m\u001b[0m\u001b[0m\n",
      "\u001b[0;32m/opt/conda/lib/python3.6/site-packages/pandas/core/series.py\u001b[0m in \u001b[0;36m__init__\u001b[0;34m(self, data, index, dtype, name, copy, fastpath)\u001b[0m\n\u001b[1;32m    273\u001b[0m             \u001b[0;32melse\u001b[0m\u001b[0;34m:\u001b[0m\u001b[0;34m\u001b[0m\u001b[0m\n\u001b[1;32m    274\u001b[0m                 data = _sanitize_array(data, index, dtype, copy,\n\u001b[0;32m--> 275\u001b[0;31m                                        raise_cast_failure=True)\n\u001b[0m\u001b[1;32m    276\u001b[0m \u001b[0;34m\u001b[0m\u001b[0m\n\u001b[1;32m    277\u001b[0m                 \u001b[0mdata\u001b[0m \u001b[0;34m=\u001b[0m \u001b[0mSingleBlockManager\u001b[0m\u001b[0;34m(\u001b[0m\u001b[0mdata\u001b[0m\u001b[0;34m,\u001b[0m \u001b[0mindex\u001b[0m\u001b[0;34m,\u001b[0m \u001b[0mfastpath\u001b[0m\u001b[0;34m=\u001b[0m\u001b[0;32mTrue\u001b[0m\u001b[0;34m)\u001b[0m\u001b[0;34m\u001b[0m\u001b[0m\n",
      "\u001b[0;32m/opt/conda/lib/python3.6/site-packages/pandas/core/series.py\u001b[0m in \u001b[0;36m_sanitize_array\u001b[0;34m(data, index, dtype, copy, raise_cast_failure)\u001b[0m\n\u001b[1;32m   4094\u001b[0m \u001b[0;34m\u001b[0m\u001b[0m\n\u001b[1;32m   4095\u001b[0m             \u001b[0;31m# we will try to copy be-definition here\u001b[0m\u001b[0;34m\u001b[0m\u001b[0;34m\u001b[0m\u001b[0m\n\u001b[0;32m-> 4096\u001b[0;31m             \u001b[0msubarr\u001b[0m \u001b[0;34m=\u001b[0m \u001b[0m_try_cast\u001b[0m\u001b[0;34m(\u001b[0m\u001b[0mdata\u001b[0m\u001b[0;34m,\u001b[0m \u001b[0;32mTrue\u001b[0m\u001b[0;34m)\u001b[0m\u001b[0;34m\u001b[0m\u001b[0m\n\u001b[0m\u001b[1;32m   4097\u001b[0m \u001b[0;34m\u001b[0m\u001b[0m\n\u001b[1;32m   4098\u001b[0m     \u001b[0;32melif\u001b[0m \u001b[0misinstance\u001b[0m\u001b[0;34m(\u001b[0m\u001b[0mdata\u001b[0m\u001b[0;34m,\u001b[0m \u001b[0mExtensionArray\u001b[0m\u001b[0;34m)\u001b[0m\u001b[0;34m:\u001b[0m\u001b[0;34m\u001b[0m\u001b[0m\n",
      "\u001b[0;32m/opt/conda/lib/python3.6/site-packages/pandas/core/series.py\u001b[0m in \u001b[0;36m_try_cast\u001b[0;34m(arr, take_fast_path)\u001b[0m\n\u001b[1;32m   4042\u001b[0m \u001b[0;34m\u001b[0m\u001b[0m\n\u001b[1;32m   4043\u001b[0m         \u001b[0;32mtry\u001b[0m\u001b[0;34m:\u001b[0m\u001b[0;34m\u001b[0m\u001b[0m\n\u001b[0;32m-> 4044\u001b[0;31m             \u001b[0msubarr\u001b[0m \u001b[0;34m=\u001b[0m \u001b[0mmaybe_cast_to_datetime\u001b[0m\u001b[0;34m(\u001b[0m\u001b[0marr\u001b[0m\u001b[0;34m,\u001b[0m \u001b[0mdtype\u001b[0m\u001b[0;34m)\u001b[0m\u001b[0;34m\u001b[0m\u001b[0m\n\u001b[0m\u001b[1;32m   4045\u001b[0m             \u001b[0;31m# Take care in creating object arrays (but iterators are not\u001b[0m\u001b[0;34m\u001b[0m\u001b[0;34m\u001b[0m\u001b[0m\n\u001b[1;32m   4046\u001b[0m             \u001b[0;31m# supported):\u001b[0m\u001b[0;34m\u001b[0m\u001b[0;34m\u001b[0m\u001b[0m\n",
      "\u001b[0;32m/opt/conda/lib/python3.6/site-packages/pandas/core/dtypes/cast.py\u001b[0m in \u001b[0;36mmaybe_cast_to_datetime\u001b[0;34m(value, dtype, errors)\u001b[0m\n\u001b[1;32m   1086\u001b[0m         elif not (is_array and not (issubclass(value.dtype.type, np.integer) or\n\u001b[1;32m   1087\u001b[0m                                     value.dtype == np.object_)):\n\u001b[0;32m-> 1088\u001b[0;31m             \u001b[0mvalue\u001b[0m \u001b[0;34m=\u001b[0m \u001b[0mmaybe_infer_to_datetimelike\u001b[0m\u001b[0;34m(\u001b[0m\u001b[0mvalue\u001b[0m\u001b[0;34m)\u001b[0m\u001b[0;34m\u001b[0m\u001b[0m\n\u001b[0m\u001b[1;32m   1089\u001b[0m \u001b[0;34m\u001b[0m\u001b[0m\n\u001b[1;32m   1090\u001b[0m     \u001b[0;32mreturn\u001b[0m \u001b[0mvalue\u001b[0m\u001b[0;34m\u001b[0m\u001b[0m\n",
      "\u001b[0;32m/opt/conda/lib/python3.6/site-packages/pandas/core/dtypes/cast.py\u001b[0m in \u001b[0;36mmaybe_infer_to_datetimelike\u001b[0;34m(value, convert_dates)\u001b[0m\n\u001b[1;32m    891\u001b[0m     \u001b[0mv\u001b[0m \u001b[0;34m=\u001b[0m \u001b[0mvalue\u001b[0m\u001b[0;34m\u001b[0m\u001b[0m\n\u001b[1;32m    892\u001b[0m \u001b[0;34m\u001b[0m\u001b[0m\n\u001b[0;32m--> 893\u001b[0;31m     \u001b[0;32mif\u001b[0m \u001b[0;32mnot\u001b[0m \u001b[0mis_list_like\u001b[0m\u001b[0;34m(\u001b[0m\u001b[0mv\u001b[0m\u001b[0;34m)\u001b[0m\u001b[0;34m:\u001b[0m\u001b[0;34m\u001b[0m\u001b[0m\n\u001b[0m\u001b[1;32m    894\u001b[0m         \u001b[0mv\u001b[0m \u001b[0;34m=\u001b[0m \u001b[0;34m[\u001b[0m\u001b[0mv\u001b[0m\u001b[0;34m]\u001b[0m\u001b[0;34m\u001b[0m\u001b[0m\n\u001b[1;32m    895\u001b[0m     \u001b[0mv\u001b[0m \u001b[0;34m=\u001b[0m \u001b[0mnp\u001b[0m\u001b[0;34m.\u001b[0m\u001b[0marray\u001b[0m\u001b[0;34m(\u001b[0m\u001b[0mv\u001b[0m\u001b[0;34m,\u001b[0m \u001b[0mcopy\u001b[0m\u001b[0;34m=\u001b[0m\u001b[0;32mFalse\u001b[0m\u001b[0;34m)\u001b[0m\u001b[0;34m\u001b[0m\u001b[0m\n",
      "\u001b[0;32m/opt/conda/lib/python3.6/site-packages/pandas/core/dtypes/inference.py\u001b[0m in \u001b[0;36mis_list_like\u001b[0;34m(obj)\u001b[0m\n\u001b[1;32m    281\u001b[0m     \"\"\"\n\u001b[1;32m    282\u001b[0m \u001b[0;34m\u001b[0m\u001b[0m\n\u001b[0;32m--> 283\u001b[0;31m     return (isinstance(obj, Iterable) and\n\u001b[0m\u001b[1;32m    284\u001b[0m             not isinstance(obj, string_and_binary_types))\n\u001b[1;32m    285\u001b[0m \u001b[0;34m\u001b[0m\u001b[0m\n",
      "\u001b[0;31mKeyboardInterrupt\u001b[0m: "
     ]
    }
   ],
   "source": [
    "for index,row in x_ingr.iterrows():\n",
    "    if re.search('鱼子酱',row.ingredients)!=None:\n",
    "        x_ingr.loc[index,'ingredients']='caviar' "
   ]
  },
  {
   "cell_type": "code",
   "execution_count": null,
   "metadata": {},
   "outputs": [],
   "source": [
    "for index,row in x_ingr.iterrows():\n",
    "    if re.search('鱼籽',row.ingredients)!=None:\n",
    "        x_ingr.loc[index,'ingredients']='salmon_roe' "
   ]
  },
  {
   "cell_type": "code",
   "execution_count": null,
   "metadata": {},
   "outputs": [],
   "source": [
    "for index,row in x_ingr.iterrows():\n",
    "    if (re.search('巴沙鱼',row.ingredients)!=None) or (re.search('芒鱼',row.ingredients)!=None):\n",
    "        x_ingr.loc[index,'ingredients']='巴沙鱼' "
   ]
  },
  {
   "cell_type": "code",
   "execution_count": null,
   "metadata": {},
   "outputs": [],
   "source": [
    "for index,row in x_ingr.iterrows():\n",
    "    if (re.search('鳊鱼',row.ingredients)!=None) or (re.search('芒鱼',row.ingredients)!=None) or (re.search('扁鱼',row.ingredients)!=None):\n",
    "        x_ingr.loc[index,'ingredients']='鳊鱼' "
   ]
  },
  {
   "cell_type": "code",
   "execution_count": 10,
   "metadata": {},
   "outputs": [],
   "source": [
    "for index,row in x_ingr.iterrows():\n",
    "    if (re.search('鱼头',row.ingredients)!=None) or (re.search('鱼肉',row.ingredients)!=None) or (re.search('鱼干',row.ingredients)!=None) or (re.search('鱼肚',row.ingredients)!=None) or (re.search('鱼汤',row.ingredients)!=None):\n",
    "        x_ingr.loc[index,'ingredients']='fish' "
   ]
  },
  {
   "cell_type": "code",
   "execution_count": 7,
   "metadata": {},
   "outputs": [],
   "source": [
    "for index,row in x_ingr.iterrows():\n",
    "    if (re.search('黄鱼',row.ingredients)!=None) or (re.search('黄花鱼',row.ingredients)!=None):\n",
    "        x_ingr.loc[index,'ingredients']='黄花鱼' "
   ]
  },
  {
   "cell_type": "code",
   "execution_count": 21,
   "metadata": {},
   "outputs": [],
   "source": [
    "for index,row in x_ingr.iterrows():\n",
    "    if (re.search('调味',row.ingredients)!=None) or (re.search('调料',row.ingredients)!=None) or (re.search('腌鱼料',row.ingredients)!=None):\n",
    "        x_ingr.loc[index,'ingredients']='调味料' "
   ]
  },
  {
   "cell_type": "code",
   "execution_count": 48,
   "metadata": {},
   "outputs": [],
   "source": [
    "for index,row in x_ingr.iterrows():\n",
    "    if (re.search('鲍鱼',row.ingredients)!=None) or (re.search('龙利鱼',row.ingredients)!=None):\n",
    "        x_ingr.loc[index,'ingredients']='鲍鱼'"
   ]
  },
  {
   "cell_type": "code",
   "execution_count": 45,
   "metadata": {},
   "outputs": [],
   "source": [
    "for index,row in x_ingr.iterrows():\n",
    "    if (re.search('塔嘛鱼',row.ingredients)!=None) or (re.search('龙利鱼',row.ingredients)!=None):\n",
    "        x_ingr.loc[index,'ingredients']='龙利鱼' "
   ]
  },
  {
   "cell_type": "code",
   "execution_count": 13,
   "metadata": {},
   "outputs": [],
   "source": [
    "for index,row in x_ingr.iterrows():\n",
    "    if (re.search('草鱼',row.ingredients)!=None) or (re.search('鲢鱼',row.ingredients)!=None) or (re.search('鳙鱼',row.ingredients)!=None) or (re.search('皖鱼',row.ingredients)!=None):\n",
    "        x_ingr.loc[index,'ingredients']='草鱼' "
   ]
  },
  {
   "cell_type": "code",
   "execution_count": 52,
   "metadata": {},
   "outputs": [],
   "source": [
    "for index,row in x_ingr.iterrows():\n",
    "    if re.search('鲫鱼',row.ingredients)!=None:\n",
    "        x_ingr.loc[index,'ingredients']='鲫鱼'"
   ]
  },
  {
   "cell_type": "code",
   "execution_count": 60,
   "metadata": {},
   "outputs": [
    {
     "name": "stdout",
     "output_type": "stream",
     "text": [
      "['蒸鱼豉汁']\n"
     ]
    }
   ],
   "source": [
    "yulu_str=[]\n",
    "for index,row in x_ingr.iterrows():\n",
    "    if (re.search('鱼露',row.ingredients)!=None) or (re.search('蒸鱼豆豉',row.ingredients)!=None) or (re.search('蒸鱼豉汁',row.ingredients)!=None):\n",
    "        yulu_str.append(x_ingr.loc[index,'ingredients'])\n",
    "print(list(set(yulu_str)))"
   ]
  },
  {
   "cell_type": "code",
   "execution_count": 64,
   "metadata": {},
   "outputs": [],
   "source": [
    "for index,row in x_ingr.iterrows():\n",
    "    if re.search('鱼露',row.ingredients)!=None or (re.search('蒸鱼豆豉',row.ingredients)!=None) or (re.search('蒸鱼豉汁',row.ingredients)!=None) or (re.search('蒸鱼豉油',row.ingredients)!=None):\n",
    "        x_ingr.loc[index,'ingredients']='soysauce' "
   ]
  },
  {
   "cell_type": "code",
   "execution_count": 5,
   "metadata": {},
   "outputs": [
    {
     "name": "stdout",
     "output_type": "stream",
     "text": [
      "['金枪鱼罐头', '金枪鱼沙拉', '油浸金枪鱼罐头', '金枪鱼', '水浸金枪鱼', '水金枪鱼罐头', '罐装金枪鱼', '罐装金枪鱼肉', '罐头金枪鱼', '金枪鱼沙拉酱', '水浸金枪鱼罐头']\n"
     ]
    }
   ],
   "source": [
    "yu_str=[]\n",
    "for index,row in x_ingr.iterrows():\n",
    "    if re.search('金枪鱼',row.ingredients)!=None:\n",
    "        yu_str.append(x_ingr.loc[index,'ingredients'])\n",
    "print(list(set(yu_str)))"
   ]
  },
  {
   "cell_type": "code",
   "execution_count": 37,
   "metadata": {},
   "outputs": [],
   "source": [
    "for index,row in x_ingr.iterrows():\n",
    "    if (re.search('金枪鱼',row.ingredients)!=None) or (re.search('吞拿鱼',row.ingredients)!=None):\n",
    "        x_ingr.loc[index,'ingredients']='tuna'"
   ]
  },
  {
   "cell_type": "code",
   "execution_count": 7,
   "metadata": {},
   "outputs": [
    {
     "name": "stdout",
     "output_type": "stream",
     "text": [
      "['鳗鱼干', '照烧鳗鱼', '鳗鱼', '即食烤鳗鱼', '蒲烧鳗鱼']\n"
     ]
    }
   ],
   "source": [
    "yu_str=[]\n",
    "for index,row in x_ingr.iterrows():\n",
    "    if re.search('鳗',row.ingredients)!=None:\n",
    "        yu_str.append(x_ingr.loc[index,'ingredients'])\n",
    "print(list(set(yu_str)))"
   ]
  },
  {
   "cell_type": "code",
   "execution_count": 8,
   "metadata": {},
   "outputs": [],
   "source": [
    "for index,row in x_ingr.iterrows():\n",
    "    if re.search('鳗',row.ingredients)!=None:\n",
    "        x_ingr.loc[index,'ingredients']='eel'"
   ]
  },
  {
   "cell_type": "code",
   "execution_count": 13,
   "metadata": {},
   "outputs": [
    {
     "name": "stdout",
     "output_type": "stream",
     "text": [
      "['大章鱼', '章鱼', '小章鱼', '章鱼烧粉']\n"
     ]
    }
   ],
   "source": [
    "## octopus -> 章鱼\n",
    "yu_str=[]\n",
    "for index,row in x_ingr.iterrows():\n",
    "    if re.search('章鱼',row.ingredients)!=None:\n",
    "        yu_str.append(x_ingr.loc[index,'ingredients'])\n",
    "print(list(set(yu_str)))"
   ]
  },
  {
   "cell_type": "code",
   "execution_count": 14,
   "metadata": {},
   "outputs": [],
   "source": [
    "for index,row in x_ingr.iterrows():\n",
    "    if re.search('章鱼',row.ingredients)!=None:\n",
    "        x_ingr.loc[index,'ingredients']='octopus'"
   ]
  },
  {
   "cell_type": "code",
   "execution_count": 27,
   "metadata": {},
   "outputs": [
    {
     "name": "stdout",
     "output_type": "stream",
     "text": [
      "['小墨鱼', '墨鱼汁', '墨鱼', '墨鱼干', '墨鱼嘴', '中墨鱼', '小墨鱼干', '墨鱼仔', '洗净墨鱼干', '墨鱼丸']\n"
     ]
    }
   ],
   "source": [
    "## cuttlefish -> 墨鱼\n",
    "yu_str=[]\n",
    "for index,row in x_ingr.iterrows():\n",
    "    if re.search('墨鱼',row.ingredients)!=None:\n",
    "        yu_str.append(x_ingr.loc[index,'ingredients'])\n",
    "print(list(set(yu_str)))"
   ]
  },
  {
   "cell_type": "code",
   "execution_count": 28,
   "metadata": {},
   "outputs": [],
   "source": [
    "for index,row in x_ingr.iterrows():\n",
    "    if re.search('墨鱼',row.ingredients)!=None:\n",
    "        x_ingr.loc[index,'ingredients']='cuttlefish'"
   ]
  },
  {
   "cell_type": "code",
   "execution_count": 29,
   "metadata": {},
   "outputs": [
    {
     "name": "stdout",
     "output_type": "stream",
     "text": [
      "['鱿鱼丝', '鱿鱼须', '鱿鱼圈', '冰冻鱿鱼圈', '鱿鱼脚', '鱿鱼', '鲜鱿鱼', '鱿鱼头又名鱿鱼须', '鱿鱼卷', '鱿鱼干', '中鱿鱼']\n"
     ]
    }
   ],
   "source": [
    "## squid -> 鱿鱼 鲜尤鱼\n",
    "yu_str=[]\n",
    "for index,row in x_ingr.iterrows():\n",
    "    if re.search('鱿鱼',row.ingredients)!=None:\n",
    "        yu_str.append(x_ingr.loc[index,'ingredients'])\n",
    "print(list(set(yu_str)))"
   ]
  },
  {
   "cell_type": "code",
   "execution_count": 38,
   "metadata": {},
   "outputs": [],
   "source": [
    "for index,row in x_ingr.iterrows():\n",
    "    if (re.search('鱿鱼',row.ingredients)!=None) or (re.search('八爪鱼',row.ingredients)!=None) or (re.search('尤鱼',row.ingredients)!=None):\n",
    "        x_ingr.loc[index,'ingredients']='squid'"
   ]
  },
  {
   "cell_type": "code",
   "execution_count": null,
   "metadata": {},
   "outputs": [],
   "source": [
    "## cod -> 鳕鱼"
   ]
  },
  {
   "cell_type": "code",
   "execution_count": 32,
   "metadata": {},
   "outputs": [
    {
     "name": "stdout",
     "output_type": "stream",
     "text": [
      "['鳕鱼排', '法国银鳕鱼', '银鳕鱼', '鳕鱼', '鳕鱼条', '鳕鱼肉']\n"
     ]
    }
   ],
   "source": [
    "yu_str=[]\n",
    "for index,row in x_ingr.iterrows():\n",
    "    if re.search('鳕',row.ingredients)!=None:\n",
    "        yu_str.append(x_ingr.loc[index,'ingredients'])\n",
    "print(list(set(yu_str)))"
   ]
  },
  {
   "cell_type": "code",
   "execution_count": 33,
   "metadata": {},
   "outputs": [],
   "source": [
    "for index,row in x_ingr.iterrows():\n",
    "    if re.search('鳕鱼',row.ingredients)!=None:\n",
    "        x_ingr.loc[index,'ingredients']='cod'"
   ]
  },
  {
   "cell_type": "code",
   "execution_count": 34,
   "metadata": {},
   "outputs": [
    {
     "name": "stdout",
     "output_type": "stream",
     "text": [
      "['鲣鱼昆布汁', '鲣鱼粉', '鲣鱼花']\n"
     ]
    }
   ],
   "source": [
    "# katsuobushi -> 鲣\n",
    "yu_str=[]\n",
    "for index,row in x_ingr.iterrows():\n",
    "    if re.search('鲣',row.ingredients)!=None:\n",
    "        yu_str.append(x_ingr.loc[index,'ingredients'])\n",
    "print(list(set(yu_str)))"
   ]
  },
  {
   "cell_type": "code",
   "execution_count": 11,
   "metadata": {},
   "outputs": [],
   "source": [
    "for index,row in x_ingr.iterrows():\n",
    "    if (re.search('鲣',row.ingredients)!=None) or (re.search('柴鱼',row.ingredients)!=None):\n",
    "        x_ingr.loc[index,'ingredients']='katsuobushi'"
   ]
  },
  {
   "cell_type": "code",
   "execution_count": 12,
   "metadata": {},
   "outputs": [],
   "source": [
    "# catfish -> 鲶鱼"
   ]
  },
  {
   "cell_type": "code",
   "execution_count": 15,
   "metadata": {},
   "outputs": [
    {
     "name": "stdout",
     "output_type": "stream",
     "text": [
      "['鲶鱼', '鲶鱼头']\n"
     ]
    }
   ],
   "source": [
    "yu_str=[]\n",
    "for index,row in x_ingr.iterrows():\n",
    "    if re.search('鲶鱼',row.ingredients)!=None:\n",
    "        yu_str.append(x_ingr.loc[index,'ingredients'])\n",
    "print(list(set(yu_str)))"
   ]
  },
  {
   "cell_type": "code",
   "execution_count": 16,
   "metadata": {},
   "outputs": [],
   "source": [
    "for index,row in x_ingr.iterrows():\n",
    "    if re.search('鲶鱼',row.ingredients)!=None:\n",
    "        x_ingr.loc[index,'ingredients']='catfish'"
   ]
  },
  {
   "cell_type": "code",
   "execution_count": 17,
   "metadata": {},
   "outputs": [
    {
     "name": "stdout",
     "output_type": "stream",
     "text": [
      "['刺身三文鱼', '三文鱼酱', '三文鱼鱼头', '烟熏三文鱼', '三文鱼片', '三文鱼中段', '鲜三文鱼', '三文鱼头', '三文鱼肠', '烟熏三文鱼切片', '三文鱼肉', '三文鱼', '三文鱼菲力', '熟三文鱼']\n"
     ]
    }
   ],
   "source": [
    "## salmon -> 三文鱼\n",
    "yu_str=[]\n",
    "for index,row in x_ingr.iterrows():\n",
    "    if re.search('三文鱼',row.ingredients)!=None:\n",
    "        yu_str.append(x_ingr.loc[index,'ingredients'])\n",
    "print(list(set(yu_str)))"
   ]
  },
  {
   "cell_type": "code",
   "execution_count": 18,
   "metadata": {},
   "outputs": [],
   "source": [
    "for index,row in x_ingr.iterrows():\n",
    "    if re.search('三文鱼',row.ingredients)!=None:\n",
    "        x_ingr.loc[index,'ingredients']='salmon'"
   ]
  },
  {
   "cell_type": "code",
   "execution_count": 19,
   "metadata": {},
   "outputs": [
    {
     "name": "stdout",
     "output_type": "stream",
     "text": [
      "['去头去尾小龙虾', '小龙虾尾', '小龙虾', '海底捞麻辣小龙虾调味料', '鲜活小龙虾']\n"
     ]
    }
   ],
   "source": [
    "## crayfish -> 小龙虾\n",
    "yu_str=[]\n",
    "for index,row in x_ingr.iterrows():\n",
    "    if re.search('小龙虾',row.ingredients)!=None:\n",
    "        yu_str.append(x_ingr.loc[index,'ingredients'])\n",
    "print(list(set(yu_str)))"
   ]
  },
  {
   "cell_type": "code",
   "execution_count": 21,
   "metadata": {},
   "outputs": [],
   "source": [
    "for index,row in x_ingr.iterrows():\n",
    "    if re.search('海底捞麻辣小龙虾调味料',row.ingredients)!=None:\n",
    "        x_ingr.loc[index,'ingredients']='调味料'"
   ]
  },
  {
   "cell_type": "code",
   "execution_count": 22,
   "metadata": {},
   "outputs": [],
   "source": [
    "for index,row in x_ingr.iterrows():\n",
    "    if re.search('小龙虾',row.ingredients)!=None:\n",
    "        x_ingr.loc[index,'ingredients']='crayfish'"
   ]
  },
  {
   "cell_type": "code",
   "execution_count": 24,
   "metadata": {},
   "outputs": [
    {
     "name": "stdout",
     "output_type": "stream",
     "text": [
      "['鲈鱼']\n"
     ]
    }
   ],
   "source": [
    "## sea_bass -> 鲈鱼\n",
    "yu_str=[]\n",
    "for index,row in x_ingr.iterrows():\n",
    "    if re.search('鲈鱼',row.ingredients)!=None:\n",
    "        yu_str.append(x_ingr.loc[index,'ingredients'])\n",
    "print(list(set(yu_str)))"
   ]
  },
  {
   "cell_type": "code",
   "execution_count": 25,
   "metadata": {},
   "outputs": [],
   "source": [
    "for index,row in x_ingr.iterrows():\n",
    "    if re.search('鲈鱼',row.ingredients)!=None:\n",
    "        x_ingr.loc[index,'ingredients']='sea_bass'"
   ]
  },
  {
   "cell_type": "code",
   "execution_count": 31,
   "metadata": {},
   "outputs": [],
   "source": [
    "## 去除馅料\n",
    "for index,row in x_ingr.iterrows():\n",
    "    if re.search('馅料',row.ingredients)!=None:\n",
    "        x_ingr.loc[index,'ingredients']=re.sub('馅料','',row.ingredients) "
   ]
  },
  {
   "cell_type": "code",
   "execution_count": 27,
   "metadata": {},
   "outputs": [],
   "source": [
    "x_ingr.to_csv('/home/IW_student/work/food_flavor/ingredient_preprocessing/datasets/x_ingr_3.csv')"
   ]
  },
  {
   "cell_type": "code",
   "execution_count": 15,
   "metadata": {},
   "outputs": [
    {
     "name": "stdout",
     "output_type": "stream",
     "text": [
      "[]\n"
     ]
    }
   ],
   "source": [
    "# xia\n",
    "xia_str=[]\n",
    "for index,row in x_ingr.iterrows():\n",
    "    if re.search('虾',row.ingredients)!=None:\n",
    "        xia_str.append(x_ingr.loc[index,'ingredients'])\n",
    "print(list(set(xia_str)))"
   ]
  },
  {
   "cell_type": "code",
   "execution_count": 7,
   "metadata": {},
   "outputs": [],
   "source": [
    "## shrimp -> 虾\n",
    "for index,row in x_ingr.iterrows():\n",
    "    if (re.search('虾子',row.ingredients)!=None) or (re.search('小干虾',row.ingredients)!=None) or (re.search('白米虾',row.ingredients)!=None):\n",
    "        x_ingr.loc[index,'ingredients']='shrimp' "
   ]
  },
  {
   "cell_type": "code",
   "execution_count": 8,
   "metadata": {},
   "outputs": [],
   "source": [
    "for index,row in x_ingr.iterrows():\n",
    "    if re.search('虾',row.ingredients)!=None:\n",
    "        x_ingr.loc[index,'ingredients']='prawn' "
   ]
  },
  {
   "cell_type": "code",
   "execution_count": 10,
   "metadata": {},
   "outputs": [],
   "source": [
    "## 虾丸 \n",
    "for index,row in x_ingr.iterrows():\n",
    "    if (re.search('虾丸',row.ingredients)!=None) or (re.search('虾球',row.ingredients)!=None):\n",
    "        x_ingr.loc[index,'ingredients']='shrimp_balls' "
   ]
  },
  {
   "cell_type": "code",
   "execution_count": 6,
   "metadata": {},
   "outputs": [],
   "source": [
    "## trassi -> 虾酱\n",
    "for index,row in x_ingr.iterrows():\n",
    "    if re.search('虾酱',row.ingredients)!=None:\n",
    "        x_ingr.loc[index,'ingredients']='trassi' "
   ]
  },
  {
   "cell_type": "code",
   "execution_count": 30,
   "metadata": {},
   "outputs": [],
   "source": [
    "## mantis_shrimp -> 虾蛄\n",
    "for index,row in x_ingr.iterrows():\n",
    "    if (re.search('虾蛄',row.ingredients)!=None) or (re.search('赖尿虾',row.ingredients)!=None) or (re.search('濑尿虾',row.ingredients)!=None):\n",
    "        x_ingr.loc[index,'ingredients']='mantis_shrimp' "
   ]
  },
  {
   "cell_type": "code",
   "execution_count": 11,
   "metadata": {},
   "outputs": [],
   "source": [
    "## lobster -> 龙虾\n",
    "for index,row in x_ingr.iterrows():\n",
    "    if (re.search('大龙虾',row.ingredients)!=None) or (re.search('波士顿大虾',row.ingredients)!=None):\n",
    "        x_ingr.loc[index,'ingredients']='lobster' "
   ]
  },
  {
   "cell_type": "code",
   "execution_count": 22,
   "metadata": {},
   "outputs": [],
   "source": [
    "## crayfish -> 小龙虾\n",
    "for index,row in x_ingr.iterrows():\n",
    "    if (re.search('龙虾',row.ingredients)!=None) or (re.search('波士顿大虾',row.ingredients)!=None):\n",
    "        x_ingr.loc[index,'ingredients']='crayfish'"
   ]
  },
  {
   "cell_type": "code",
   "execution_count": 9,
   "metadata": {},
   "outputs": [],
   "source": [
    "## shrimp -> 虾\n",
    "for index,row in x_ingr.iterrows():\n",
    "    if (re.search('对虾',row.ingredients)!=None) or (re.search('海虾',row.ingredients)!=None) or (re.search('青虾',row.ingredients)!=None):\n",
    "        x_ingr.loc[index,'ingredients']='shrimp' "
   ]
  },
  {
   "cell_type": "code",
   "execution_count": 10,
   "metadata": {},
   "outputs": [],
   "source": [
    "for index,row in x_ingr.iterrows():\n",
    "    if (re.search('皮皮虾',row.ingredients)!=None) or (re.search('爬爬虾',row.ingredients)!=None) or (re.search('明虾',row.ingredients)!=None) or (re.search('阿根廷红虾',row.ingredients)!=None) or (re.search('虾米',row.ingredients)!=None) or (re.search('海米',row.ingredients)!=None) or (re.search('虾皮',row.ingredients)!=None) or (re.search('虾干',row.ingredients)!=None):\n",
    "        x_ingr.loc[index,'ingredients']='shrimp' "
   ]
  },
  {
   "cell_type": "code",
   "execution_count": 11,
   "metadata": {},
   "outputs": [],
   "source": [
    "for index,row in x_ingr.iterrows():\n",
    "    if (re.search('南美.*虾仁',row.ingredients)!=None) or (re.search('北极.*虾',row.ingredients)!=None) or (re.search('美极虾',row.ingredients)!=None) or (re.search('红虾',row.ingredients)!=None) or (re.search('虎虾',row.ingredients)!=None):\n",
    "        x_ingr.loc[index,'ingredients']='shrimp' "
   ]
  },
  {
   "cell_type": "code",
   "execution_count": 12,
   "metadata": {},
   "outputs": [],
   "source": [
    "## prawn -> 虾\n",
    "for index,row in x_ingr.iterrows():\n",
    "    if (re.search('基围虾',row.ingredients)!=None) or (re.search('河虾',row.ingredients)!=None) or (re.search('罗氏虾',row.ingredients)!=None):\n",
    "        x_ingr.loc[index,'ingredients']='prawn' "
   ]
  },
  {
   "cell_type": "code",
   "execution_count": 13,
   "metadata": {},
   "outputs": [],
   "source": [
    "for index,row in x_ingr.iterrows():\n",
    "    if (re.search('大.*虾',row.ingredients)!=None) or (re.search('中等虾',row.ingredients)!=None) or (re.search('虾肉',row.ingredients)!=None):\n",
    "        x_ingr.loc[index,'ingredients']='prawn' "
   ]
  },
  {
   "cell_type": "code",
   "execution_count": 14,
   "metadata": {},
   "outputs": [],
   "source": [
    "for index,row in x_ingr.iterrows():\n",
    "    if re.search('虾仁',row.ingredients)!=None:\n",
    "        x_ingr.loc[index,'ingredients']='prawn' "
   ]
  },
  {
   "cell_type": "code",
   "execution_count": 24,
   "metadata": {},
   "outputs": [
    {
     "name": "stdout",
     "output_type": "stream",
     "text": [
      "['贝母粉', '天贝', '贝', '川贝母粉', '紫贝菜', '思贝格无花果干', '天贝菌粉', '川贝', '川贝粉', '天贝菌', '思贝格黑葡萄干', '川贝母', '思贝格花色果仁', '贝素', '野生川贝母']\n"
     ]
    }
   ],
   "source": [
    "# bei 蚌 蛤\n",
    "bei_str=[]\n",
    "for index,row in x_ingr.iterrows():\n",
    "    if re.search('贝',row.ingredients)!=None:\n",
    "        bei_str.append(x_ingr.loc[index,'ingredients'])\n",
    "print(list(set(bei_str)))"
   ]
  },
  {
   "cell_type": "code",
   "execution_count": 31,
   "metadata": {},
   "outputs": [],
   "source": [
    "for index,row in x_ingr.iterrows():\n",
    "    if re.search('蛏',row.ingredients)!=None:\n",
    "        x_ingr.loc[index,'ingredients']='shellfish'"
   ]
  },
  {
   "cell_type": "code",
   "execution_count": 17,
   "metadata": {},
   "outputs": [],
   "source": [
    "## scallop -> 扇贝\n",
    "for index,row in x_ingr.iterrows():\n",
    "    if (re.search('扇贝',row.ingredients)!=None) or (re.search('贝壳',row.ingredients)!=None) or (re.search('鲜贝',row.ingredients)!=None) or (re.search('深海贝',row.ingredients)!=None) or (re.search('瑶柱',row.ingredients)!=None) or (re.search('元贝',row.ingredients)!=None) or (re.search('仙贝肉',row.ingredients)!=None) or (re.search('全贝',row.ingredients)!=None):\n",
    "        x_ingr.loc[index,'ingredients']='scallop' "
   ]
  },
  {
   "cell_type": "code",
   "execution_count": 25,
   "metadata": {},
   "outputs": [],
   "source": [
    "for index,row in x_ingr.iterrows():\n",
    "    if re.search('^贝$',row.ingredients)!=None:\n",
    "        x_ingr.loc[index,'ingredients']='scallop'"
   ]
  },
  {
   "cell_type": "code",
   "execution_count": 18,
   "metadata": {},
   "outputs": [],
   "source": [
    "for index,row in x_ingr.iterrows():\n",
    "    if (re.search('贝肉',row.ingredients)!=None) or (re.search('速冻海贝',row.ingredients)!=None) or (re.search('指甲贝',row.ingredients)!=None) or (re.search('白贝',row.ingredients)!=None) or (re.search('仙贝肉',row.ingredients)!=None) or (re.search('贝柱',row.ingredients)!=None) or (re.search('干贝',row.ingredients)!=None) or (re.search('元贝',row.ingredients)!=None) or (re.search('全贝',row.ingredients)!=None):\n",
    "        x_ingr.loc[index,'ingredients']='scallop'"
   ]
  },
  {
   "cell_type": "code",
   "execution_count": 19,
   "metadata": {},
   "outputs": [],
   "source": [
    "for index,row in x_ingr.iterrows():\n",
    "    if re.search('贝果',row.ingredients)!=None:\n",
    "        x_ingr.loc[index,'ingredients']='bread'"
   ]
  },
  {
   "cell_type": "code",
   "execution_count": 12,
   "metadata": {},
   "outputs": [
    {
     "name": "stdout",
     "output_type": "stream",
     "text": [
      "['花蛤干', '熟白蛤', '雪蛤膏', '蛤蜊干', '白蛤', '蛤蛎', '花蛤蜊', '文蛤', '花蛤', '鲜蛤蜊', '熟花蛤肉', '雪蛤', '蛤蜊原汁', '带壳花蛤', '蛤蜊肉', '蛤蜊', '生蛤蜊']\n"
     ]
    }
   ],
   "source": [
    "ge_str=[]\n",
    "for index,row in x_ingr.iterrows():\n",
    "    if re.search('蛤',row.ingredients)!=None:\n",
    "        ge_str.append(x_ingr.loc[index,'ingredients'])\n",
    "print(list(set(ge_str)))"
   ]
  },
  {
   "cell_type": "code",
   "execution_count": 21,
   "metadata": {},
   "outputs": [],
   "source": [
    "## clam -> 蛤\n",
    "for index,row in x_ingr.iterrows():\n",
    "    if (re.search('青口',row.ingredients)!=None) or (re.search('淡菜',row.ingredients)!=None) or (re.search('贻贝',row.ingredients)!=None):\n",
    "        x_ingr.loc[index,'ingredients']='clam' "
   ]
  },
  {
   "cell_type": "code",
   "execution_count": 25,
   "metadata": {},
   "outputs": [],
   "source": [
    "for index,row in x_ingr.iterrows():\n",
    "    if (re.search('花甲',row.ingredients)!=None) or (re.search('海瓜子',row.ingredients)!=None):\n",
    "        x_ingr.loc[index,'ingredients']='clam'"
   ]
  },
  {
   "cell_type": "code",
   "execution_count": 22,
   "metadata": {},
   "outputs": [],
   "source": [
    "for index,row in x_ingr.iterrows():\n",
    "    if (re.search('蛤',row.ingredients)!=None) or (re.search('北极贝',row.ingredients)!=None) or (re.search('贝裙边',row.ingredients)!=None) or (re.search('鸳鸯贝',row.ingredients)!=None):\n",
    "        x_ingr.loc[index,'ingredients']='clam'"
   ]
  },
  {
   "cell_type": "code",
   "execution_count": 23,
   "metadata": {},
   "outputs": [],
   "source": [
    "## mussel -> 蚌\n",
    "for index,row in x_ingr.iterrows():\n",
    "    if re.search('蚌',row.ingredients)!=None:\n",
    "        x_ingr.loc[index,'ingredients']='mussel'"
   ]
  },
  {
   "cell_type": "code",
   "execution_count": null,
   "metadata": {},
   "outputs": [],
   "source": [
    "## crab -> 螃蟹"
   ]
  },
  {
   "cell_type": "code",
   "execution_count": 26,
   "metadata": {},
   "outputs": [
    {
     "name": "stdout",
     "output_type": "stream",
     "text": [
      "['螃蟹', '蟹柳', '毛蟹', '飞蟹籽', '蟹', '蟹肉块', '纯大闸蟹黄', '蟹味棒', '小毛蟹', '蟹膏', '生食用蟹肉棒', '鲜活大闸蟹', '青蟹', '蟹腿肉', '大肉蟹', '梭子蟹', '大螃蟹', '海蟹', '小梭子蟹', '蟹棒', '蟹黄', '熟蟹肉', '天猫超市大闸蟹母蟹', '蟹肉', '蟹足棒', '蟹籽', '桂冠蟹棒', '大闸蟹', '花蟹', '蟹肉棒']\n"
     ]
    }
   ],
   "source": [
    "xie_str=[]\n",
    "for index,row in x_ingr.iterrows():\n",
    "    if re.search('蟹',row.ingredients)!=None:\n",
    "        xie_str.append(x_ingr.loc[index,'ingredients'])\n",
    "print(list(set(xie_str)))"
   ]
  },
  {
   "cell_type": "code",
   "execution_count": 28,
   "metadata": {},
   "outputs": [],
   "source": [
    "for index,row in x_ingr.iterrows():\n",
    "    if (re.search('蟹.*棒',row.ingredients)!=None) or (re.search('蟹柳',row.ingredients)!=None):\n",
    "        x_ingr.loc[index,'ingredients']='unkonwn'"
   ]
  },
  {
   "cell_type": "code",
   "execution_count": 29,
   "metadata": {},
   "outputs": [],
   "source": [
    "for index,row in x_ingr.iterrows():\n",
    "    if re.search('蟹',row.ingredients)!=None:\n",
    "        x_ingr.loc[index,'ingredients']='crab'"
   ]
  },
  {
   "cell_type": "code",
   "execution_count": null,
   "metadata": {},
   "outputs": [],
   "source": [
    "## oyster -> 牡蛎"
   ]
  },
  {
   "cell_type": "code",
   "execution_count": 33,
   "metadata": {},
   "outputs": [],
   "source": [
    "for index,row in x_ingr.iterrows():\n",
    "    if re.search('牡蛎',row.ingredients)!=None:\n",
    "        x_ingr.loc[index,'ingredients']='oyster'"
   ]
  },
  {
   "cell_type": "code",
   "execution_count": 38,
   "metadata": {},
   "outputs": [],
   "source": [
    "for index,row in x_ingr.iterrows():\n",
    "    if re.search('生蚝',row.ingredients)!=None:\n",
    "        x_ingr.loc[index,'ingredients']='oyster'"
   ]
  },
  {
   "cell_type": "code",
   "execution_count": null,
   "metadata": {},
   "outputs": [],
   "source": [
    "for index,row in x_ingr.iterrows():\n",
    "    if re.search('鱼',row.ingredients)!=None:\n",
    "        x_ingr.loc[index,'ingredients']='fish' "
   ]
  },
  {
   "cell_type": "code",
   "execution_count": 50,
   "metadata": {},
   "outputs": [],
   "source": [
    "x_ingr.to_csv('/home/IW_student/work/food_flavor/ingredient_preprocessing/datasets/x_ingr_4.csv')"
   ]
  },
  {
   "cell_type": "markdown",
   "metadata": {},
   "source": [
    "## start from here"
   ]
  },
  {
   "cell_type": "code",
   "execution_count": 33,
   "metadata": {},
   "outputs": [
    {
     "data": {
      "text/plain": [
       "(181377, 2)"
      ]
     },
     "execution_count": 33,
     "metadata": {},
     "output_type": "execute_result"
    }
   ],
   "source": [
    "x_ingr=pd.read_csv('/home/IW_student/work/food_flavor/ingredient_preprocessing/datasets/x_ingr_3.csv',index_col=0)\n",
    "x_ingr=explode(x_ingr,'ingredients')\n",
    "x_ingr.dropna(inplace=True)\n",
    "x_ingr.shape"
   ]
  },
  {
   "cell_type": "code",
   "execution_count": null,
   "metadata": {},
   "outputs": [],
   "source": [
    "# meat "
   ]
  },
  {
   "cell_type": "code",
   "execution_count": 4,
   "metadata": {},
   "outputs": [
    {
     "name": "stdout",
     "output_type": "stream",
     "text": [
      "['带皮猪五花肉', '猪肉一小块', '猪前夹肉', '带油猪肉', '去皮猪腿肉', '猪绞肉', '配料猪肉', '猪肉末', '猪肉里脊', '猪里脊肉', '猪梅花肉', '猪肉排', '猪肉肥瘦均可', '半肥猪肉', '土猪肉', '猪五花肉', '白肥猪肉', '猪后臀尖肉', '肥猪肉一小块', '梅猪肉', '猪肉儿', '猪踭肉', '精选猪肉', '鲜猪肉末', '荠菜木耳猪肉', '猪后腿肉', '猪五花肉片', '猪前腿肉末', '带皮五花猪肉', '前腿猪肉', '猪肥猪肉', '猪肉丝', '猪精肉', '猪精猪肉', '炸猪肉丸子', '猪肥肉', '猪廋肉', '猪肉皮', '去皮猪后腿肉', '肥猪肉馅', '猪绞肉馅', '猪后腿精肉', '猪肉馅', '猪展肉', '精猪肉', '肥猪肉', '猪肥肉丁', '猪里肌肉', '猪肉陷', '猪后腿猪肉', '五花猪肉', '猪五花肉馅', '夹心猪肉', '猪后肘肉', '猪颈肉', '猪肉丁', '猪肉╋猪骨', '猪肉沫', '白猪肉', '猪头肉', '猪肉片', '猪肉', '牛猪肉', '切片猪肉', '黑猪五花肉', '瘦猪腿肉', '猪颈背肉', '无公害猪精猪肉', '猪前腿肉', '猪肉铰馅', '馅猪肉末', '猪肉五花肉', '生猪肉皮', '猪腿肉', '猪肉未', '鲜猪肉', '带皮猪肉', '猪肉松', '猪排肉', '猪肉切片', '猪外里脊肉']\n"
     ]
    }
   ],
   "source": [
    "# zhu(火腿，培根，排骨)\n",
    "zhu_str=[]\n",
    "for index,row in x_ingr.iterrows():\n",
    "    if (re.search('猪.*肉',row.ingredients)!=None) or (re.search('猪肉$',row.ingredients)!=None):\n",
    "        zhu_str.append(x_ingr.loc[index,'ingredients'])\n",
    "print(list(set(zhu_str)))"
   ]
  },
  {
   "cell_type": "code",
   "execution_count": 6,
   "metadata": {},
   "outputs": [],
   "source": [
    "for index,row in x_ingr.iterrows():\n",
    "    if (re.search('猪.*肉',row.ingredients)!=None) or (re.search('猪肉$',row.ingredients)!=None):\n",
    "        x_ingr.loc[index,'ingredients']='pork'"
   ]
  },
  {
   "cell_type": "code",
   "execution_count": 9,
   "metadata": {},
   "outputs": [
    {
     "name": "stdout",
     "output_type": "stream",
     "text": [
      "['猪头', '猪手', '猪小排骨', '猪', '猪尾', '猪肠衣', '猪尾巴', '猪脊骨', '猪大排', '猪里肌', '猪脚圈', '猪尾骨', '猪肺', '小猪耳朵', '猪外脊', '猪前脚', '猪小排佐', '咸猪骨', '猪肚子', '猪五花', '猪骨头', '猪蹄汤冻', '猪仔排骨', '有机黑毛猪小排', '猪大肠', '猪血', '土猪猪蹄', '猪前排', '猪扒', '猪肘子', '猪骨汤', '生猪排', '猪腿骨', '猪血丸子', '猪大骨棒', '猪肋排骨', '带骨猪排', '猪排骨', '猪蹄汤', '猪皮冻', '猪脑', '猪腰', '猪棒骨', '猪肘', '猪蹄', '猪脚', '猪骨', '猪耳朵', '猪肚菌', '前猪手', '猪小排', '猪肋排', '猪后臀尖', '猪前蹄子', '猪无骨肋排', '腊猪蹄', '猪大骨', '猪血块', '猪小肋条', '猪颈背', '猪心', '猪筒骨', '炖猪肚', '猪肚汤', '猪血旺', '猪龙骨', '猪排', '水煮猪肚', '猪皮', '生猪皮', '猪肥膘', '猪腰子', '猪排酱', '猪红', '猪梅头', '猪爪子', '猪肋骨', '猪里脊', '猪软骨', '猪肚', '猪腰花', '猪肠', '猪前蹄', '猪大棒骨']\n"
     ]
    }
   ],
   "source": [
    "zhu_str=[]\n",
    "for index,row in x_ingr.iterrows():\n",
    "    if re.search('猪',row.ingredients)!=None:\n",
    "        zhu_str.append(x_ingr.loc[index,'ingredients'])\n",
    "print(list(set(zhu_str)))"
   ]
  },
  {
   "cell_type": "code",
   "execution_count": 7,
   "metadata": {},
   "outputs": [],
   "source": [
    "for index,row in x_ingr.iterrows():\n",
    "    if re.search('猪肝',row.ingredients)!=None:\n",
    "        x_ingr.loc[index,'ingredients']='pork_liver'"
   ]
  },
  {
   "cell_type": "code",
   "execution_count": 8,
   "metadata": {},
   "outputs": [],
   "source": [
    "for index,row in x_ingr.iterrows():\n",
    "    if (re.search('熟.*猪',row.ingredients)!=None) or (re.search('卤.*猪',row.ingredients)!=None) or (re.search('猪大肠半成品',row.ingredients)!=None):\n",
    "        x_ingr.loc[index,'ingredients']='cured_pork'"
   ]
  },
  {
   "cell_type": "code",
   "execution_count": 9,
   "metadata": {},
   "outputs": [],
   "source": [
    "# fried_pork -> 炸猪肉\n",
    "for index,row in x_ingr.iterrows():\n",
    "    if re.search('炸.*猪',row.ingredients)!=None:\n",
    "        #print(row)\n",
    "        x_ingr.loc[index,'ingredients']='fried_pork'"
   ]
  },
  {
   "cell_type": "code",
   "execution_count": 10,
   "metadata": {},
   "outputs": [],
   "source": [
    "for index,row in x_ingr.iterrows():\n",
    "    if re.search('猪',row.ingredients)!=None:\n",
    "        x_ingr.loc[index,'ingredients']='pork'"
   ]
  },
  {
   "cell_type": "code",
   "execution_count": 64,
   "metadata": {},
   "outputs": [
    {
     "name": "stdout",
     "output_type": "stream",
     "text": [
      "['排骨', '排骨料汁碗', '排骨酱', '排骨肉', '排骨汤', '排骨粉', '排骨炖料']\n"
     ]
    }
   ],
   "source": [
    "zhu_str=[]\n",
    "for index,row in x_ingr.iterrows():\n",
    "    if re.search('^排骨.*',row.ingredients)!=None:\n",
    "        zhu_str.append(x_ingr.loc[index,'ingredients'])\n",
    "print(list(set(zhu_str)))"
   ]
  },
  {
   "cell_type": "code",
   "execution_count": 11,
   "metadata": {},
   "outputs": [],
   "source": [
    "for index,row in x_ingr.iterrows():\n",
    "    if (re.search('排骨料汁碗',row.ingredients)!=None) or (re.search('排骨酱',row.ingredients)!=None) or (re.search('蜜汁排骨腌料',row.ingredients)!=None) or (re.search('排骨炖料',row.ingredients)!=None):\n",
    "        x_ingr.loc[index,'ingredients']='调味料'"
   ]
  },
  {
   "cell_type": "code",
   "execution_count": 12,
   "metadata": {},
   "outputs": [],
   "source": [
    "for index,row in x_ingr.iterrows():\n",
    "    if re.search('牛排骨',row.ingredients)!=None:\n",
    "        x_ingr.loc[index,'ingredients']='beef'"
   ]
  },
  {
   "cell_type": "code",
   "execution_count": 13,
   "metadata": {},
   "outputs": [],
   "source": [
    "for index,row in x_ingr.iterrows():\n",
    "    if re.search('腊排骨',row.ingredients)!=None:\n",
    "        x_ingr.loc[index,'ingredients']='cured_pork'"
   ]
  },
  {
   "cell_type": "code",
   "execution_count": 14,
   "metadata": {},
   "outputs": [],
   "source": [
    "for index,row in x_ingr.iterrows():\n",
    "    if re.search('熟五花肉片',row.ingredients)!=None:\n",
    "        x_ingr.loc[index,'ingredients']='cured_pork'"
   ]
  },
  {
   "cell_type": "code",
   "execution_count": 15,
   "metadata": {},
   "outputs": [],
   "source": [
    "for index,row in x_ingr.iterrows():\n",
    "    if re.search('五花',row.ingredients)!=None:\n",
    "        x_ingr.loc[index,'ingredients']='pork'"
   ]
  },
  {
   "cell_type": "code",
   "execution_count": 16,
   "metadata": {},
   "outputs": [],
   "source": [
    "for index,row in x_ingr.iterrows():\n",
    "    if re.search('梅花',row.ingredients)!=None:\n",
    "        x_ingr.loc[index,'ingredients']='pork'"
   ]
  },
  {
   "cell_type": "code",
   "execution_count": 17,
   "metadata": {},
   "outputs": [],
   "source": [
    "for index,row in x_ingr.iterrows():\n",
    "    if re.search('排骨',row.ingredients)!=None:\n",
    "        x_ingr.loc[index,'ingredients']='pork'"
   ]
  },
  {
   "cell_type": "code",
   "execution_count": 18,
   "metadata": {},
   "outputs": [],
   "source": [
    "## bacon -> 培根\n",
    "#zhu_str=[]\n",
    "for index,row in x_ingr.iterrows():\n",
    "    if re.search('培根',row.ingredients)!=None:\n",
    "        x_ingr.loc[index,'ingredients']='bacon'\n",
    "        #zhu_str.append(x_ingr.loc[index,'ingredients'])\n",
    "#print(list(set(zhu_str)))"
   ]
  },
  {
   "cell_type": "code",
   "execution_count": 19,
   "metadata": {},
   "outputs": [],
   "source": [
    "for index,row in x_ingr.iterrows():\n",
    "    if re.search('火腿',row.ingredients)!=None:\n",
    "        x_ingr.loc[index,'ingredients']='ham'       "
   ]
  },
  {
   "cell_type": "code",
   "execution_count": 20,
   "metadata": {},
   "outputs": [
    {
     "name": "stdout",
     "output_type": "stream",
     "text": [
      "['鲜牛里脊', '卤牛肉等', '撒尿牛丸', '牛筋面', '九分痩牛肉', '牛肉酱', '牛腩块', '牛油', '山姆澳洲牛尾', '熟牛油果', '牛肉汤', '牛百叶', '战斧牛排', '牛大骨', '熟牛筋', '牛蒡', '牛霖肉', '速冻牛肉', '澳洲牛尾', '瘦牛肉末', '澳洲牛腩', '牛棒骨', '熟牛肉', '牛健子肉', '牛霖', '牛心菜', '眼肉牛排', '牛肉卷', '牛油果切小丁', '牛桶骨', '牛油火锅底料', '牛肉丸', '牛里脊肉肉', '牛骨头汤', '大号牛油果', '熟西冷牛肉片', '牛肉丝', '牛肉片', '牛腱', '太阳谷谷饲板腱牛排', '牛蛙三只', '澳洲高级牛排', '鲜牛肉', '黑椒牛柳意面', '牛尾', '熟牛肉切', '嫩牛肉', '澳洲草饲眼肉牛排', '咖喱牛肉', '牛腱肉', '牛里脊肉', '肥牛肉片', '牛腱芯', '牛油果', '腌渍牛肉片', '市售火锅肥牛', '大喜大牛肉粉', '牛筋丸', '%可可焦糖牛巧珍珠', '原汤牛腩', '黑椒牛排', '太阳谷板腱牛排', '牛肉腌料', '牛菲力', '牛肉干', '夹心牛油', '去骨牛小排', '牛蛙', '肥牛片', '牛肉浓汤宝', '牛肋条', '牛肉也可以添加', '牛西冷', '牛肉原汤', '牛脚筋', '瘦牛肉', '牛蹄筋', '牛骨', '冷冻牛仔骨', '牛肉末', '澳洲菲力牛排', '牛绞肉', '老干妈牛肉豆豉酱', '牛仔骨', '牛肉块', '牛排肉', '牛筋', '牛油果肉', '加拿大级谷饲板腱牛排', '牛肉辣酱没有可以不放', '牛至', '牛后腿肉', '菲力牛排', '牛', '西冷牛排', '已熟牛油果', '牛骨髓', '牛骨棒', '牛胸肉', '牛骨汤', '带骨牛腩', '熟牛肚', '牛汤骨', '牛排', '浓汤宝牛肉浓汤', '熟牛肉片', '易果澳洲牛腱心', '牛颈背肉', '牛皮纸信封', '肥牛', '黄牛肉', '牛肋排', '番茄牛肉', '牛骨头', '牛小腱带筋', '卤牛肉', '牛百页', '牛腿肉', '牛肉自己', '肉眼牛排', '老干妈牛肉酱', '上等牛腱芯', '熟牛板筋', '火锅牛肉卷', '牛肋肉', '熟筋牛筋', '牛肉汤块', '牛尾骨', '牛油果果肉', '火锅肥牛片', '牛柳', '沙朗牛排', '小牛肉', '牛油果奶昔', '火锅牛肉片', '牛丸', '切牛肉', '牛肉糜', '牛肉里脊', '牛键子肉', '熟牛百叶', '牛油果泥', '肥牛肉', '红烧牛肉', '牛尾巴', '剔骨牛小排', '牛肉', '牛肉粉', '牛眼肉', '牛至草', '雪花肥牛', '牛肚', '牛小腱', '牛里脊', '牛里霖肉', '牛角青', '牛腩肉', '美式牛肉棒', '牛至叶', '牛肋条肉', '牛腩', '牛扒', '带盐牛油', '成熟牛油果', '牛肉肥瘦比例', '牛肉丸子', '牛油块', '精瘦牛肉末', '太阳谷牛排肉', '中粮乌拉圭牛腱', '火锅肥牛', '免治牛肉']\n"
     ]
    }
   ],
   "source": [
    "## beef -> 牛肉\n",
    "niu_str=[]\n",
    "for index,row in x_ingr.iterrows():\n",
    "    if re.search('牛',row.ingredients)!=None:\n",
    "        niu_str.append(x_ingr.loc[index,'ingredients'])\n",
    "print(list(set(niu_str)))"
   ]
  },
  {
   "cell_type": "code",
   "execution_count": 21,
   "metadata": {},
   "outputs": [],
   "source": [
    "for index,row in x_ingr.iterrows():\n",
    "    if re.search('牛.*汤',row.ingredients)!=None:\n",
    "        x_ingr.loc[index,'ingredients']='beef_broth' "
   ]
  },
  {
   "cell_type": "code",
   "execution_count": 22,
   "metadata": {},
   "outputs": [],
   "source": [
    "# avocado -> 鳄梨\n",
    "for index,row in x_ingr.iterrows():\n",
    "    if re.search('牛油果',row.ingredients)!=None:\n",
    "        x_ingr.loc[index,'ingredients']='avocado' "
   ]
  },
  {
   "cell_type": "code",
   "execution_count": 23,
   "metadata": {},
   "outputs": [],
   "source": [
    "for index,row in x_ingr.iterrows():\n",
    "    if re.search('牛.*料',row.ingredients)!=None:\n",
    "        x_ingr.loc[index,'ingredients']='调味料'"
   ]
  },
  {
   "cell_type": "code",
   "execution_count": 24,
   "metadata": {},
   "outputs": [],
   "source": [
    "# oregano -> 牛至\n",
    "for index,row in x_ingr.iterrows():\n",
    "    if re.search('牛至',row.ingredients)!=None:\n",
    "        x_ingr.loc[index,'ingredients']='oregano'"
   ]
  },
  {
   "cell_type": "code",
   "execution_count": 25,
   "metadata": {},
   "outputs": [],
   "source": [
    "## cabbage -> 卷心菜\n",
    "for index,row in x_ingr.iterrows():\n",
    "    if (re.search('牛心菜',row.ingredients)!=None) or (re.search('甘蓝',row.ingredients)!=None):\n",
    "        x_ingr.loc[index,'ingredients']='cabbage'"
   ]
  },
  {
   "cell_type": "code",
   "execution_count": null,
   "metadata": {},
   "outputs": [],
   "source": [
    "## 牛角青，牛蛙，%可可焦糖牛巧珍珠，老干妈牛肉酱，番茄牛肉，'牛皮纸信封'"
   ]
  },
  {
   "cell_type": "code",
   "execution_count": 27,
   "metadata": {},
   "outputs": [],
   "source": [
    "for index,row in x_ingr.iterrows():\n",
    "    if re.search('老干妈.*牛',row.ingredients)!=None:\n",
    "        x_ingr.loc[index,'ingredients']='调味料'"
   ]
  },
  {
   "cell_type": "code",
   "execution_count": 28,
   "metadata": {},
   "outputs": [],
   "source": [
    "for index,row in x_ingr.iterrows():\n",
    "    if re.search('牛蛙',row.ingredients)!=None:\n",
    "        x_ingr.loc[index,'ingredients']='bullfrog'"
   ]
  },
  {
   "cell_type": "code",
   "execution_count": 29,
   "metadata": {},
   "outputs": [],
   "source": [
    "for index,row in x_ingr.iterrows():\n",
    "    if re.search('牛蒡',row.ingredients)!=None:\n",
    "        x_ingr.loc[index,'ingredients']='vegetable'"
   ]
  },
  {
   "cell_type": "code",
   "execution_count": 30,
   "metadata": {
    "scrolled": false
   },
   "outputs": [],
   "source": [
    "for index,row in x_ingr.iterrows():\n",
    "    if re.search('黄油',row.ingredients)!=None:\n",
    "        x_ingr.loc[index,'ingredients']='butter'"
   ]
  },
  {
   "cell_type": "code",
   "execution_count": 31,
   "metadata": {},
   "outputs": [],
   "source": [
    "# beef_tallow -> 牛油\n",
    "for index,row in x_ingr.iterrows():\n",
    "    if re.search('牛油',row.ingredients)!=None:\n",
    "        x_ingr.loc[index,'ingredients']='beef_tallow'"
   ]
  },
  {
   "cell_type": "code",
   "execution_count": 32,
   "metadata": {},
   "outputs": [],
   "source": [
    "x_ingr.to_csv('/home/IW_student/work/food_flavor/ingredient_preprocessing/datasets/x_ingr_3.csv')"
   ]
  },
  {
   "cell_type": "code",
   "execution_count": 34,
   "metadata": {},
   "outputs": [],
   "source": [
    "for index,row in x_ingr.iterrows():\n",
    "    if re.search('牛',row.ingredients)!=None:\n",
    "        x_ingr.loc[index,'ingredients']='beef'"
   ]
  },
  {
   "cell_type": "code",
   "execution_count": 35,
   "metadata": {},
   "outputs": [
    {
     "name": "stdout",
     "output_type": "stream",
     "text": [
      "['羊排肉', '带骨羊肉', '羊后腿肉', '羊腿肉', '法式羊排', '西餐羊排', '羊小排', '澳洲羊颈肉', '带骨羊腿', '羊腿来', '带皮羊排', '羊骨头', '羊肉汤底', '肥羊', '小羊排', '野生羊肚菌', '羊腿肉切块', '羊蝎子！', '羊肋条肉', '山姆会员商店新西兰法式羊排', '羊肚菌', '羊肉去膻草', '肥羊粉', '羊里脊', '羊', '羊肉', '羊排', '羊杂', '羊肉片', '羔羊肉卷', '羊腿', '羊腩', '山姆会员店宁夏盐池滩羊排', '带皮羊腿肉', '羊肋排', '羊肉卷', '鲜羊腿肉', '羊脊骨', '煮好羊肉汤', '羊肉臊子', '羊腿骨', '火锅肥羊卷', '生羊肝', '羊毛刷', '羊肉汤', '三能羊毛刷', '羊大骨', '涮羊肉片', '羊蝎子', '盐池滩羊排', '山羊肉', '鲜嫩羊腿肉', '羊前腿', '羊胁排', '小肥羊火锅底料', '羊肠衣']\n"
     ]
    }
   ],
   "source": [
    "# 羊\n",
    "yang_str=[]\n",
    "for index,row in x_ingr.iterrows():\n",
    "    if re.search('羊',row.ingredients)!=None:\n",
    "        yang_str.append(x_ingr.loc[index,'ingredients'])\n",
    "print(list(set(yang_str)))"
   ]
  },
  {
   "cell_type": "code",
   "execution_count": 36,
   "metadata": {},
   "outputs": [],
   "source": [
    "for index,row in x_ingr.iterrows():\n",
    "    if re.search('羊肚菌',row.ingredients)!=None:\n",
    "        x_ingr.loc[index,'ingredients']='mushroom'"
   ]
  },
  {
   "cell_type": "code",
   "execution_count": 37,
   "metadata": {},
   "outputs": [],
   "source": [
    "for index,row in x_ingr.iterrows():\n",
    "    if re.search('羊毛刷',row.ingredients)!=None:\n",
    "        x_ingr.drop(index,inplace=True)"
   ]
  },
  {
   "cell_type": "code",
   "execution_count": 38,
   "metadata": {},
   "outputs": [],
   "source": [
    "for index,row in x_ingr.iterrows():\n",
    "    if (re.search('小肥羊火锅底料',row.ingredients)!=None) or (re.search('肥羊粉',row.ingredients)!=None):\n",
    "        x_ingr.loc[index,'ingredients']='调味料'"
   ]
  },
  {
   "cell_type": "code",
   "execution_count": 39,
   "metadata": {},
   "outputs": [],
   "source": [
    "for index,row in x_ingr.iterrows():\n",
    "    if re.search('羔羊',row.ingredients)!=None:\n",
    "        x_ingr.loc[index,'ingredients']='lamb'"
   ]
  },
  {
   "cell_type": "code",
   "execution_count": 40,
   "metadata": {},
   "outputs": [],
   "source": [
    "for index,row in x_ingr.iterrows():\n",
    "    if re.search('羊',row.ingredients)!=None:\n",
    "        x_ingr.loc[index,'ingredients']='mutton'"
   ]
  },
  {
   "cell_type": "code",
   "execution_count": 41,
   "metadata": {},
   "outputs": [
    {
     "name": "stdout",
     "output_type": "stream",
     "text": [
      "['鸡去骨', '长鸡', '家乐鸡粉', '小黄鸡', '扇形鸡', '鸡骨草', '本鸡', '炸鸡裹粉', '蒸鸡', '鸡腌料', '盐焗鸡粉', '扇鸡', '无皮鸡', '老鸡', '去骨鸡', '带皮鸡', '乌骨鸡', '全鸡', '鸡架', '嫩鸡', '鸡块', '鸡杂', '鸡头米', '鸡尖', '鸡架子', '鸡粉', '若有鸡粉加一点', '鸡精味精', '鸡肫', '鸡掌', '鸡', '鸡大约', '鸡珍', '冻全鸡', '鸡肝', '去皮鸡', '素鸡', '鸡胗', '鸡丁', '盐鸡精', '鸡全腿', '鸡心', '鸡肠', '鸡泥', '鸡末', '浓缩鸡精', '鸡子', '鸡牛肉火腿肠', '味好美香酥炸鸡配料', '鸡排', '鸡小腿', '鸡手', '咖喱鸡', '带皮去骨鸡', '鸡精', '肉鸡半只']\n"
     ]
    }
   ],
   "source": [
    "# 鸡\n",
    "ji_str=[]\n",
    "for index,row in x_ingr.iterrows():\n",
    "    if re.search('鸡',row.ingredients)!=None:\n",
    "        ji_str.append(x_ingr.loc[index,'ingredients'])\n",
    "print(list(set(ji_str)))"
   ]
  },
  {
   "cell_type": "code",
   "execution_count": 41,
   "metadata": {},
   "outputs": [],
   "source": [
    "for index,row in x_ingr.iterrows():\n",
    "    if (re.search('鸡粉',row.ingredients)!=None) or (re.search('鸡精',row.ingredients)!=None) or (re.search('鸡腌料',row.ingredients)!=None) or (re.search('味好美香酥炸鸡配料',row.ingredients)!=None) or (re.search('炸鸡裹粉',row.ingredients)!=None):\n",
    "        x_ingr.loc[index,'ingredients']='调味料'"
   ]
  },
  {
   "cell_type": "code",
   "execution_count": 42,
   "metadata": {},
   "outputs": [],
   "source": [
    "# chicken_liver -> 鸡肝\n",
    "for index,row in x_ingr.iterrows():\n",
    "    if re.search('鸡肝',row.ingredients)!=None:\n",
    "        x_ingr.loc[index,'ingredients']='chicken_liver'"
   ]
  },
  {
   "cell_type": "code",
   "execution_count": 43,
   "metadata": {},
   "outputs": [],
   "source": [
    "for index,row in x_ingr.iterrows():\n",
    "    if re.search('鸡骨草',row.ingredients)!=None:\n",
    "        x_ingr.loc[index,'ingredients']='vegetable'"
   ]
  },
  {
   "cell_type": "code",
   "execution_count": 44,
   "metadata": {},
   "outputs": [],
   "source": [
    "for index,row in x_ingr.iterrows():\n",
    "    if re.search('素鸡',row.ingredients)!=None:\n",
    "        x_ingr.loc[index,'ingredients']='tofu'"
   ]
  },
  {
   "cell_type": "code",
   "execution_count": 45,
   "metadata": {},
   "outputs": [],
   "source": [
    "for index,row in x_ingr.iterrows():\n",
    "    if re.search('鸡',row.ingredients)!=None:\n",
    "        x_ingr.loc[index,'ingredients']='chicken'"
   ]
  },
  {
   "cell_type": "code",
   "execution_count": 46,
   "metadata": {},
   "outputs": [],
   "source": [
    "x_ingr.to_csv('/home/IW_student/work/food_flavor/ingredient_preprocessing/datasets/x_ingr_3.csv')"
   ]
  },
  {
   "cell_type": "code",
   "execution_count": 40,
   "metadata": {},
   "outputs": [],
   "source": [
    "## Fruit"
   ]
  },
  {
   "cell_type": "code",
   "execution_count": 47,
   "metadata": {},
   "outputs": [
    {
     "data": {
      "text/plain": [
       "(181375, 2)"
      ]
     },
     "execution_count": 47,
     "metadata": {},
     "output_type": "execute_result"
    }
   ],
   "source": [
    "x_ingr=pd.read_csv('/home/IW_student/work/food_flavor/ingredient_preprocessing/datasets/x_ingr_3.csv',index_col=0)\n",
    "x_ingr=explode(x_ingr,'ingredients')\n",
    "x_ingr.dropna(inplace=True)\n",
    "x_ingr.shape"
   ]
  },
  {
   "cell_type": "code",
   "execution_count": 48,
   "metadata": {},
   "outputs": [
    {
     "name": "stdout",
     "output_type": "stream",
     "text": [
      "['百果', '任意口味果酱', '其它类似形状水果', '鲜百香果', '红色果膏', '榴莲果肉', '白心火龙果', '混合水果干', '火龙果', '红心火龙果', '中等苹果', '百香果', '红色火龙果汁', '水果酸奶类', '每日坚果包', '芒果粉', '青皮无花果', '桑葚果酱制作用量', '桑葚果酱', '馅儿菠萝果酱', '坚果果仁', '苹果皮', '苹果大小适中', '果料无花果干', '果干', '百香果卡仕达馅', '芒果果肉', '熟腰果', '百香果镜面', '草莓果泥', '枸杞等混合果干', '花生等坚果', '果料金色葡萄干', '红色果占', '火龙果盐', '李子果肉', '镜面果胶', '时令水果', '果仁', '果料蔓越莓', '各类坚果', '美国蔓越莓果汁', '百香果慕斯', '香橙果冻', '海天苹果醋', '红心火龙果皮', '水果盘', '果脯', '红色果酱', '蔬果', '华圣苹果', '火龙果液', '芒果蓉', '腰果仁', '芒果汁', '糖浆果干', '水果双拼类', '果汁', '杏果脯', '维他芒果汁', '生坚果', '蔬果泥', '水果叉', '无花果干', '鲜果', '果肉泥', '蓝莓果酱', '水果签', '覆盆子果茸', '果醋', '玫瑰花果酱', '含果肉橙汁', '浆果', '火龙果汁', '荔枝果冻', '熟鲜白果', '芒果丁', '红色水果粉', '每日坚果', '夏威夷果仁', '水果等', '果仁之类', '芝果', '坚果仁', '葡萄柚果汁', '无花果酱', '水果', '水果泥', '多香果粉', '进口蓝莓果酱', '荔枝果泥', '果泥', '水果硬糖', '苹果切片', '补充如果是', '各式水果干', '芒果冰激凌', '红色火龙果', '以上干果为', '苹果', '猕猴桃等水果', '葡萄柚果肉', '果冻粉', '榛果粉', '树莓果茸', '莓果', '任何水果', '装饰百香果', '装饰芒果', '小芒果', '百香果层', '樱桃果肉', '圣女果', '西瓜果肉', '蔓越莓果干', '樱花果冻', '火龙果火龙果泥', '奇异果', '各类干果', '百香果肉', '酸奶果冻', '如果喜欢喝可以翻倍做！', '百香果果汁', '树莓果溶', '无花果干大小', '装饰水果若干', '田园披萨就多加水果', '混合坚果蔓越莓干', '糖水果混合物', '%法芙娜榛果酱', '碳烧腰果', '荔枝果肉', '芒果果泥', '水果味糖浆', '鲜芒果肉', '水果玉米棒', '果酱', '蔓越梅果干', '以上果脯类为', '山姆厨房红心火龙果', '各式果酱', '生混合坚果', '应季水果', '美国蔓越莓冻果', '果蔬', '红肉火龙果', '水果罐头', '银杏果', '果糖', 'chocolate坚果', '苹果醋', '果料包', '水果干', '芒果干', '橙子果肉', '百香果泥', '红心火龙果泥', '油炸腰果', '腰果花生', '桃子果冻', '红果', '果丹皮', '芒果干等', '杏味果酱', '紫色火龙果', '各类坚果仁', '水果类', '糖水黄桃果肉', '野山莓果酱', '无糖苹果泥', '百香果酱', '果料威士忌', '草莓果酱', '时令水果苹果', '普通火龙果', '表面装饰腰果', '黄色果膏', '菠萝果肉', '切块水果', '果仁总量', '果蔬粉', '榛果', '各类水果', '富士苹果', '水蜜桃果肉', '苹果胶', '果', '马蹄果', '香果', '腰果馅', '百香果果溶', '芒果肉', '果料糖渍橙皮丁', '坚果酱', '各色果干', '大苹果', '坚果果干', '圣女果干', '百香果慕斯层', '混合果干', '当季水果', '糖蓝莓果酱', '榛果仁', '苹果丁', '果蔬汁', '熟芒果肉', '百香果皮', '火龙果皮', '大火龙果', '百香果肉汁', '火龙果果肉', '杏桃果酱', '青苹果', '水果醋', '柚子果肉', '「易果」', '奇异果等等', '芒果', '罗汉果', '火龙果酵母', '碧根果仁', '红皮苹果', '黄红圣女果', '各色水果', '火龙果泥', '姑娘果', '即食坚果', '生腰果', '蓝莓果泥汁', '果蔬泥', '红心火龙果汁', '任意果干粉', '百香果糖浆', '覆盆子果酱', '各式干果', '火龙果糖', '葡萄干等干果', '果冻模', '百香果果泥', '坚果等随你喜欢', '百香果汁', '果仁chocolate', '混合坚果', '小苹果', '果肉', '芒果果肉夹心', '杏果酱', '红龙果', '果子', '装饰糖果', '装饰水果', '苹果馅', '奇异果干', '天然果蔬粉', '覆盆子果泥', '混合干果', '芒果酱', '腰果', '红苹果', '糖果心', '以上干果', '白果', '草莓果茶', '大芒果', '椰果', '苹果去皮去核', '冻干无花果', '无花果', '草莓等水果', '橙子果酱', '百香果果肉', '白色火龙果', '杏肉果酱', '各式蔬果', '圣女果枚等', '夏威夷果', '紫薯果蔬粉', '无花果无花果干', '红火龙果汁', '装饰无花果', '水果切', '八果', '葡萄干等果干', '澳洲芒果', '坚果', '鲜无花果', '西梅水果馅', '盒装果汁', '凤眼果', '桃子果泥', '红火龙果', '口味加入水果', '葵花籽亚麻籽等混合杂籽杂坚果', '碧根果', '杂果', '葡萄果酱', '芒果泥']\n"
     ]
    }
   ],
   "source": [
    "# 果\n",
    "guo_str=[]\n",
    "for index,row in x_ingr.iterrows():\n",
    "    if re.search('果',row.ingredients)!=None:\n",
    "        guo_str.append(x_ingr.loc[index,'ingredients'])\n",
    "print(list(set(guo_str)))"
   ]
  },
  {
   "cell_type": "code",
   "execution_count": 49,
   "metadata": {},
   "outputs": [],
   "source": [
    "for index,row in x_ingr.iterrows():\n",
    "    if (re.search('银杏果',row.ingredients)!=None) or (re.search('白果',row.ingredients)!=None) or (re.search('百果',row.ingredients)!=None):\n",
    "        x_ingr.loc[index,'ingredients']='gingkgo'"
   ]
  },
  {
   "cell_type": "code",
   "execution_count": 50,
   "metadata": {},
   "outputs": [],
   "source": [
    "for index,row in x_ingr.iterrows():\n",
    "    if re.search('荔枝',row.ingredients)!=None:\n",
    "        x_ingr.loc[index,'ingredients']='litchi'"
   ]
  },
  {
   "cell_type": "code",
   "execution_count": 51,
   "metadata": {},
   "outputs": [],
   "source": [
    "# durian -> 榴莲\n",
    "for index,row in x_ingr.iterrows():\n",
    "    if re.search('榴莲',row.ingredients)!=None:\n",
    "        x_ingr.loc[index,'ingredients']='durian'"
   ]
  },
  {
   "cell_type": "code",
   "execution_count": 52,
   "metadata": {},
   "outputs": [],
   "source": [
    "for index,row in x_ingr.iterrows():\n",
    "    if re.search('如果',row.ingredients)!=None:\n",
    "        x_ingr.drop(index,inplace=True)"
   ]
  },
  {
   "cell_type": "code",
   "execution_count": 53,
   "metadata": {},
   "outputs": [],
   "source": [
    "for index,row in x_ingr.iterrows():\n",
    "    if re.search('李子',row.ingredients)!=None:\n",
    "        x_ingr.loc[index,'ingredients']='plum'"
   ]
  },
  {
   "cell_type": "code",
   "execution_count": 54,
   "metadata": {},
   "outputs": [],
   "source": [
    "for index,row in x_ingr.iterrows():\n",
    "    if (re.search('榛果',row.ingredients)!=None) or (re.search('榛子',row.ingredients)!=None):\n",
    "        x_ingr.loc[index,'ingredients']='hazelnut'"
   ]
  },
  {
   "cell_type": "code",
   "execution_count": 55,
   "metadata": {},
   "outputs": [],
   "source": [
    "for index,row in x_ingr.iterrows():\n",
    "    if (re.search('水果签',row.ingredients)!=None) or (re.search('水果盘',row.ingredients)!=None):\n",
    "        x_ingr.drop(index,inplace=True)"
   ]
  },
  {
   "cell_type": "code",
   "execution_count": 56,
   "metadata": {},
   "outputs": [],
   "source": [
    "for index,row in x_ingr.iterrows():\n",
    "    if re.search('夏威夷果',row.ingredients)!=None:\n",
    "        x_ingr.loc[index,'ingredients']='macadamia_nut'"
   ]
  },
  {
   "cell_type": "code",
   "execution_count": 57,
   "metadata": {},
   "outputs": [],
   "source": [
    "for index,row in x_ingr.iterrows():\n",
    "    if (re.search('糖果',row.ingredients)!=None) or (re.search('水果硬糖',row.ingredients)!=None):\n",
    "        x_ingr.loc[index,'ingredients']='candy'"
   ]
  },
  {
   "cell_type": "code",
   "execution_count": 58,
   "metadata": {},
   "outputs": [],
   "source": [
    "# vinegar\n",
    "for index,row in x_ingr.iterrows():\n",
    "    if re.search('果醋',row.ingredients)!=None:\n",
    "        x_ingr.loc[index,'ingredients']='vinegar'"
   ]
  },
  {
   "cell_type": "code",
   "execution_count": 59,
   "metadata": {},
   "outputs": [],
   "source": [
    "for index,row in x_ingr.iterrows():\n",
    "    if re.search('.*叉$',row.ingredients)!=None:\n",
    "        x_ingr.drop(index,inplace=True)"
   ]
  },
  {
   "cell_type": "code",
   "execution_count": 60,
   "metadata": {},
   "outputs": [],
   "source": [
    "for index,row in x_ingr.iterrows():\n",
    "    if re.search('水果酸奶',row.ingredients)!=None:\n",
    "        x_ingr.loc[index,'ingredients']='yogurt'"
   ]
  },
  {
   "cell_type": "code",
   "execution_count": 61,
   "metadata": {},
   "outputs": [],
   "source": [
    "for index,row in x_ingr.iterrows():\n",
    "    if re.search('水果$',row.ingredients)!=None:\n",
    "        x_ingr.loc[index,'ingredients']='fruit'"
   ]
  },
  {
   "cell_type": "code",
   "execution_count": 63,
   "metadata": {},
   "outputs": [
    {
     "name": "stdout",
     "output_type": "stream",
     "text": [
      "['葡萄干等干果', '紫葡萄干', '红葡萄干', '黑葡萄干', '黑加仑葡萄干', '香妃王葡萄干加绿宝石葡萄干', '绿葡萄干', '葡萄干', '加州葡萄干', '葡萄干等', '青葡萄干', '葡萄干蔓越梅干', '果料金色葡萄干', '葡萄干蔓越莓干', '葡萄干等果干', '《椰蓉葡萄干馅》']\n"
     ]
    }
   ],
   "source": [
    "# raisin -> 葡萄干\n",
    "guo_str=[]\n",
    "for index,row in x_ingr.iterrows():\n",
    "    if re.search('葡萄干',row.ingredients)!=None:\n",
    "        guo_str.append(x_ingr.loc[index,'ingredients'])\n",
    "print(list(set(guo_str)))"
   ]
  },
  {
   "cell_type": "code",
   "execution_count": 62,
   "metadata": {},
   "outputs": [],
   "source": [
    "for index,row in x_ingr.iterrows():\n",
    "    if re.search('火龙果',row.ingredients)!=None:\n",
    "        x_ingr.loc[index,'ingredients']='pitaya'"
   ]
  },
  {
   "cell_type": "code",
   "execution_count": 63,
   "metadata": {},
   "outputs": [],
   "source": [
    "for index,row in x_ingr.iterrows():\n",
    "    if re.search('菠萝',row.ingredients)!=None:\n",
    "        x_ingr.loc[index,'ingredients']='pineapple'"
   ]
  },
  {
   "cell_type": "code",
   "execution_count": 64,
   "metadata": {},
   "outputs": [],
   "source": [
    "for index,row in x_ingr.iterrows():\n",
    "    if (re.search('奇异果',row.ingredients)!=None) or (re.search('猕猴桃',row.ingredients)!=None) or (re.search('弥猴桃',row.ingredients)!=None):\n",
    "        x_ingr.loc[index,'ingredients']='kiwi'"
   ]
  },
  {
   "cell_type": "code",
   "execution_count": 65,
   "metadata": {},
   "outputs": [],
   "source": [
    "for index,row in x_ingr.iterrows():\n",
    "    if re.search('樱桃',row.ingredients)!=None:\n",
    "        x_ingr.loc[index,'ingredients']='cherry'"
   ]
  },
  {
   "cell_type": "code",
   "execution_count": 66,
   "metadata": {},
   "outputs": [],
   "source": [
    "for index,row in x_ingr.iterrows():\n",
    "    if re.search('杨桃',row.ingredients)!=None:\n",
    "        x_ingr.loc[index,'ingredients']='starfruit'"
   ]
  },
  {
   "cell_type": "code",
   "execution_count": 67,
   "metadata": {},
   "outputs": [],
   "source": [
    "for index,row in x_ingr.iterrows():\n",
    "    if (re.search('胡桃',row.ingredients)!=None) or (re.search('合桃',row.ingredients)!=None) or (re.search('碧根果',row.ingredients)!=None):\n",
    "        x_ingr.loc[index,'ingredients']='walnut'"
   ]
  },
  {
   "cell_type": "code",
   "execution_count": 68,
   "metadata": {},
   "outputs": [],
   "source": [
    "for index,row in x_ingr.iterrows():\n",
    "    if re.search('寿桃牌',row.ingredients)!=None:\n",
    "        x_ingr.loc[index,'ingredients']='乌冬面'"
   ]
  },
  {
   "cell_type": "code",
   "execution_count": 69,
   "metadata": {},
   "outputs": [],
   "source": [
    "for index,row in x_ingr.iterrows():\n",
    "    if re.search('桃山皮',row.ingredients)!=None:\n",
    "        x_ingr.drop(index,inplace=True)"
   ]
  },
  {
   "cell_type": "code",
   "execution_count": 70,
   "metadata": {},
   "outputs": [],
   "source": [
    "for index,row in x_ingr.iterrows():\n",
    "    if re.search('桃',row.ingredients)!=None:\n",
    "        x_ingr.loc[index,'ingredients']='peach'"
   ]
  },
  {
   "cell_type": "code",
   "execution_count": 71,
   "metadata": {},
   "outputs": [],
   "source": [
    "for index,row in x_ingr.iterrows():\n",
    "    if re.search('chocolate',row.ingredients)!=None:\n",
    "        x_ingr.loc[index,'ingredients']='chocolate'"
   ]
  },
  {
   "cell_type": "code",
   "execution_count": 72,
   "metadata": {},
   "outputs": [],
   "source": [
    "for index,row in x_ingr.iterrows():\n",
    "    if re.search('圣女果',row.ingredients)!=None:\n",
    "        x_ingr.loc[index,'ingredients']='tomato'"
   ]
  },
  {
   "cell_type": "code",
   "execution_count": 73,
   "metadata": {},
   "outputs": [],
   "source": [
    "for index,row in x_ingr.iterrows():\n",
    "    if re.search('干果',row.ingredients)!=None:\n",
    "        x_ingr.loc[index,'ingredients']='nut'"
   ]
  },
  {
   "cell_type": "code",
   "execution_count": 74,
   "metadata": {},
   "outputs": [],
   "source": [
    "# cranberry\n",
    "for index,row in x_ingr.iterrows():\n",
    "    if (re.search('蔓越莓',row.ingredients)!=None) or (re.search('蔓越梅',row.ingredients)!=None):\n",
    "        x_ingr.loc[index,'ingredients']='cranberry'"
   ]
  },
  {
   "cell_type": "code",
   "execution_count": 75,
   "metadata": {},
   "outputs": [],
   "source": [
    "for index,row in x_ingr.iterrows():\n",
    "    if re.search('草莓',row.ingredients)!=None:\n",
    "        x_ingr.loc[index,'ingredients']='strawberry'"
   ]
  },
  {
   "cell_type": "code",
   "execution_count": 76,
   "metadata": {},
   "outputs": [],
   "source": [
    "# grapefruit -> 葡萄柚\n",
    "for index,row in x_ingr.iterrows():\n",
    "    if re.search('柚.*汁',row.ingredients)!=None:\n",
    "        x_ingr.loc[index,'ingredients']='grapefruit_juice'"
   ]
  },
  {
   "cell_type": "code",
   "execution_count": 77,
   "metadata": {},
   "outputs": [],
   "source": [
    "for index,row in x_ingr.iterrows():\n",
    "    if re.search('柚.*酱',row.ingredients)!=None:\n",
    "        x_ingr.loc[index,'ingredients']='调味料'"
   ]
  },
  {
   "cell_type": "code",
   "execution_count": 78,
   "metadata": {},
   "outputs": [],
   "source": [
    "for index,row in x_ingr.iterrows():\n",
    "    if re.search('柚',row.ingredients)!=None:\n",
    "        x_ingr.loc[index,'ingredients']='grapefruit'"
   ]
  },
  {
   "cell_type": "code",
   "execution_count": 79,
   "metadata": {},
   "outputs": [],
   "source": [
    "# fig\n",
    "for index,row in x_ingr.iterrows():\n",
    "    if re.search('无花果',row.ingredients)!=None:\n",
    "        x_ingr.loc[index,'ingredients']='fig'"
   ]
  },
  {
   "cell_type": "code",
   "execution_count": 80,
   "metadata": {},
   "outputs": [],
   "source": [
    "# mango -> 芒果\n",
    "for index,row in x_ingr.iterrows():\n",
    "    if re.search('芒果',row.ingredients)!=None:\n",
    "        x_ingr.loc[index,'ingredients']='mango'"
   ]
  },
  {
   "cell_type": "code",
   "execution_count": 81,
   "metadata": {},
   "outputs": [],
   "source": [
    "for index,row in x_ingr.iterrows():\n",
    "    if re.search('蓝莓',row.ingredients)!=None:\n",
    "        x_ingr.loc[index,'ingredients']='blueberry'"
   ]
  },
  {
   "cell_type": "code",
   "execution_count": 82,
   "metadata": {},
   "outputs": [],
   "source": [
    "# raspberry -> 覆盆子\n",
    "for index,row in x_ingr.iterrows():\n",
    "    if (re.search('树莓',row.ingredients)!=None) or (re.search('覆盆子',row.ingredients)!=None):\n",
    "        x_ingr.loc[index,'ingredients']='raspberry'"
   ]
  },
  {
   "cell_type": "code",
   "execution_count": 46,
   "metadata": {},
   "outputs": [],
   "source": [
    "for index,row in x_ingr.iterrows():\n",
    "    if re.search('葡萄干蔓越梅干',row.ingredients)!=None:\n",
    "        x_ingr.loc[index,'ingredients']='葡萄干、蔓越梅干'"
   ]
  },
  {
   "cell_type": "code",
   "execution_count": 83,
   "metadata": {},
   "outputs": [],
   "source": [
    "for index,row in x_ingr.iterrows():\n",
    "    if re.search('葡萄干',row.ingredients)!=None:\n",
    "        x_ingr.loc[index,'ingredients']='raisin'"
   ]
  },
  {
   "cell_type": "code",
   "execution_count": 84,
   "metadata": {},
   "outputs": [
    {
     "name": "stdout",
     "output_type": "stream",
     "text": [
      "['苹果去皮去核', '富士苹果', '小苹果', '苹果皮', '苹果大小适中', '时令水果苹果', '大苹果', '青苹果', '中等苹果', '无糖苹果泥', '苹果馅', '苹果切片', '苹果丁', '华圣苹果', '红苹果', '苹果', '红皮苹果', '苹果胶']\n"
     ]
    }
   ],
   "source": [
    "# 苹果\n",
    "guo_str=[]\n",
    "for index,row in x_ingr.iterrows():\n",
    "    if re.search('苹果',row.ingredients)!=None:\n",
    "        guo_str.append(x_ingr.loc[index,'ingredients'])\n",
    "print(list(set(guo_str)))"
   ]
  },
  {
   "cell_type": "code",
   "execution_count": 85,
   "metadata": {},
   "outputs": [],
   "source": [
    "for index,row in x_ingr.iterrows():\n",
    "    if re.search('苹果醋',row.ingredients)!=None:\n",
    "        x_ingr.loc[index,'ingredients']='cider_vinegar' "
   ]
  },
  {
   "cell_type": "code",
   "execution_count": 86,
   "metadata": {},
   "outputs": [],
   "source": [
    "for index,row in x_ingr.iterrows():\n",
    "    if re.search('苹果',row.ingredients)!=None:\n",
    "        x_ingr.loc[index,'ingredients']='apple' "
   ]
  },
  {
   "cell_type": "code",
   "execution_count": 87,
   "metadata": {},
   "outputs": [
    {
     "name": "stdout",
     "output_type": "stream",
     "text": [
      "['百香果汁', '百香果泥', '百香果果溶', '装饰百香果', '百香果慕斯', '百香果果肉', '百香果肉汁', '百香果卡仕达馅', '百香果镜面', '百香果慕斯层', '百香果层', '百香果肉', '百香果糖浆', '鲜百香果', '百香果果汁', '百香果果泥', '百香果皮', '百香果', '百香果酱']\n"
     ]
    }
   ],
   "source": [
    "## 百香果\n",
    "guo_str=[]\n",
    "for index,row in x_ingr.iterrows():\n",
    "    if re.search('百香果',row.ingredients)!=None:\n",
    "        guo_str.append(x_ingr.loc[index,'ingredients'])\n",
    "print(list(set(guo_str)))"
   ]
  },
  {
   "cell_type": "code",
   "execution_count": 88,
   "metadata": {},
   "outputs": [],
   "source": [
    "#  passion_fruit_juice \n",
    "for index,row in x_ingr.iterrows():\n",
    "    if re.search('百香果.*汁',row.ingredients)!=None:\n",
    "        x_ingr.loc[index,'ingredients']='passion_fruit_juice'"
   ]
  },
  {
   "cell_type": "code",
   "execution_count": 89,
   "metadata": {},
   "outputs": [],
   "source": [
    "for index,row in x_ingr.iterrows():\n",
    "    if re.search('百香果',row.ingredients)!=None:\n",
    "        x_ingr.loc[index,'ingredients']='passion_fruit'"
   ]
  },
  {
   "cell_type": "code",
   "execution_count": 90,
   "metadata": {},
   "outputs": [
    {
     "name": "stdout",
     "output_type": "stream",
     "text": [
      "['橙皮', '浓缩橙汁', '装饰橙子片', '糖橙子味', '橙皮屑', '橙汁', '橙子', '进口鲜脐橙', '橙', '柳橙', '香橙皮屑', '香橙', '橙肉丁', '橙皮干', '橙汁冻', '橙圆椒', '橙皮丁', '新奇士鲜橙', '橙子九到十', '橙味汽水', '糖渍橙皮丁', '橙子皮', '橙子糖水', '柳橙皮屑', '橙子切片', '先榨橙汁', '橙皮吐司', '%鲜橙汁', '香橙汁', '’美国进口脐橙', '旺仔糖橙子味', '橙子皮屑', '澳大利亚脐橙', '脐橙', '橙皮丝', '糖渍橙皮', '果料糖渍橙皮丁', '香橙果冻', '香橙片若', '糖渍香橙干', '橙子果酱', '橙皮蓉', '橙片', '橙片片', '鲜榨柳橙汁', '香橙皮', '橙汁戚风', '腌制橙皮', '鲜橙子', '鲜榨橙汁', '可可橙香奶油部分', '糖渍橙皮屑', '现榨橙汁', '橙子泥', '含果肉橙汁', '鲜橙汁', '甜橙', '夏橙', '橙子片', '橙子果肉', '橙花香精', '鲜橙']\n"
     ]
    }
   ],
   "source": [
    "# 橙\n",
    "cheng_str=[]\n",
    "for index,row in x_ingr.iterrows():\n",
    "    if re.search('橙',row.ingredients)!=None:\n",
    "        cheng_str.append(x_ingr.loc[index,'ingredients'])\n",
    "print(list(set(cheng_str)))"
   ]
  },
  {
   "cell_type": "code",
   "execution_count": 91,
   "metadata": {},
   "outputs": [],
   "source": [
    "for index,row in x_ingr.iterrows():\n",
    "    if re.search('橙',row.ingredients)!=None:\n",
    "        x_ingr.loc[index,'ingredients']='orange'"
   ]
  },
  {
   "cell_type": "code",
   "execution_count": 92,
   "metadata": {},
   "outputs": [],
   "source": [
    "for index,row in x_ingr.iterrows():\n",
    "    if (re.search('橙.*汁',row.ingredients)!=None) or (re.search('橙.*水',row.ingredients)!=None):\n",
    "        x_ingr.loc[index,'ingredients']='orange_juice'"
   ]
  },
  {
   "cell_type": "code",
   "execution_count": 69,
   "metadata": {},
   "outputs": [
    {
     "name": "stdout",
     "output_type": "stream",
     "text": [
      "[]\n"
     ]
    }
   ],
   "source": [
    "cheng_str=[]\n",
    "for index,row in x_ingr.iterrows():\n",
    "    if (re.search('橙.*皮',row.ingredients)!=None) or (re.search('陈皮',row.ingredients)!=None) or (re.search('陳皮',row.ingredients)!=None):\n",
    "        cheng_str.append(x_ingr.loc[index,'ingredients'])\n",
    "print(list(set(cheng_str)))"
   ]
  },
  {
   "cell_type": "code",
   "execution_count": 93,
   "metadata": {},
   "outputs": [],
   "source": [
    "for index,row in x_ingr.iterrows():\n",
    "    if re.search('橙皮吐司',row.ingredients)!=None:\n",
    "        x_ingr.loc[index,'ingredients']='橙皮、吐司'"
   ]
  },
  {
   "cell_type": "code",
   "execution_count": 94,
   "metadata": {},
   "outputs": [],
   "source": [
    "for index,row in x_ingr.iterrows():\n",
    "    if re.search('橙汁戚风',row.ingredients)!=None:\n",
    "        x_ingr.loc[index,'ingredients']='橙汁、戚风'"
   ]
  },
  {
   "cell_type": "code",
   "execution_count": 95,
   "metadata": {},
   "outputs": [],
   "source": [
    "for index,row in x_ingr.iterrows():\n",
    "    if (re.search('橙.*皮',row.ingredients)!=None) or (re.search('陈皮',row.ingredients)!=None) or (re.search('陳皮',row.ingredients)!=None):\n",
    "        x_ingr.loc[index,'ingredients']='orange_peel'"
   ]
  },
  {
   "cell_type": "code",
   "execution_count": 96,
   "metadata": {},
   "outputs": [],
   "source": [
    "for index,row in x_ingr.iterrows():\n",
    "    if re.search('果冻',row.ingredients)!=None:\n",
    "        x_ingr.loc[index,'ingredients']='jelly'"
   ]
  },
  {
   "cell_type": "code",
   "execution_count": 97,
   "metadata": {},
   "outputs": [],
   "source": [
    "for index,row in x_ingr.iterrows():\n",
    "    if re.search('玉米.*片',row.ingredients)!=None:\n",
    "        x_ingr.loc[index,'ingredients']='corn_flake'"
   ]
  },
  {
   "cell_type": "code",
   "execution_count": 98,
   "metadata": {},
   "outputs": [],
   "source": [
    "for index,row in x_ingr.iterrows():\n",
    "    if (re.search('玉米糖浆',row.ingredients)!=None) or (re.search('玉米糖稀',row.ingredients)!=None) or (re.search('玉米浓浆',row.ingredients)!=None):\n",
    "        x_ingr.loc[index,'ingredients']='corn_syrup'"
   ]
  },
  {
   "cell_type": "code",
   "execution_count": 99,
   "metadata": {},
   "outputs": [],
   "source": [
    "for index,row in x_ingr.iterrows():\n",
    "    if re.search('玉米',row.ingredients)!=None:\n",
    "        x_ingr.loc[index,'ingredients']='maize'"
   ]
  },
  {
   "cell_type": "code",
   "execution_count": 100,
   "metadata": {},
   "outputs": [],
   "source": [
    "for index,row in x_ingr.iterrows():\n",
    "    if re.search('^水果$',row.ingredients)!=None:\n",
    "        x_ingr.loc[index,'ingredients']='fruit'"
   ]
  },
  {
   "cell_type": "code",
   "execution_count": 116,
   "metadata": {},
   "outputs": [
    {
     "name": "stdout",
     "output_type": "stream",
     "text": [
      "['苦瓜根', '拉瓜', '瓠瓜', '白苦瓜', '节瓜', '角瓜', '蒲瓜', '酱包瓜', '七叶瓜', '绿苦瓜', '苦瓜', '生瓜', '黄节瓜']\n"
     ]
    }
   ],
   "source": [
    "# 瓜\n",
    "gua_str=[]\n",
    "for index,row in x_ingr.iterrows():\n",
    "    if re.search('瓜',row.ingredients)!=None:\n",
    "        gua_str.append(x_ingr.loc[index,'ingredients'])\n",
    "print(list(set(gua_str)))"
   ]
  },
  {
   "cell_type": "code",
   "execution_count": 102,
   "metadata": {},
   "outputs": [],
   "source": [
    "# muskmelon -> 甜瓜\n",
    "for index,row in x_ingr.iterrows():\n",
    "    if re.search('香瓜',row.ingredients)!=None:\n",
    "        x_ingr.loc[index,'ingredients']='muskmelon'"
   ]
  },
  {
   "cell_type": "code",
   "execution_count": 103,
   "metadata": {},
   "outputs": [],
   "source": [
    "for index,row in x_ingr.iterrows():\n",
    "    if re.search('金瓜',row.ingredients)!=None:\n",
    "        x_ingr.loc[index,'ingredients']='pumpkin'"
   ]
  },
  {
   "cell_type": "code",
   "execution_count": 104,
   "metadata": {},
   "outputs": [],
   "source": [
    "for index,row in x_ingr.iterrows():\n",
    "    if (re.search('丝瓜',row.ingredients)!=None) or (re.search('絲瓜',row.ingredients)!=None):\n",
    "        x_ingr.loc[index,'ingredients']='luffa'"
   ]
  },
  {
   "cell_type": "code",
   "execution_count": 105,
   "metadata": {},
   "outputs": [],
   "source": [
    "for index,row in x_ingr.iterrows():\n",
    "    if (re.search('瓜子',row.ingredients)!=None) or (re.search('瓜籽',row.ingredients)!=None):\n",
    "        x_ingr.loc[index,'ingredients']='seed'"
   ]
  },
  {
   "cell_type": "code",
   "execution_count": 106,
   "metadata": {},
   "outputs": [
    {
     "name": "stdout",
     "output_type": "stream",
     "text": [
      "['西瓜', '冷冻西瓜块', '冰镇西瓜', '无籽西瓜', '大西瓜', '西瓜果肉', '西瓜皮', '西瓜汁']\n"
     ]
    }
   ],
   "source": [
    "gua_str=[]\n",
    "for index,row in x_ingr.iterrows():\n",
    "    if re.search('西瓜',row.ingredients)!=None:\n",
    "        gua_str.append(x_ingr.loc[index,'ingredients'])\n",
    "print(list(set(gua_str)))"
   ]
  },
  {
   "cell_type": "code",
   "execution_count": 107,
   "metadata": {},
   "outputs": [],
   "source": [
    "for index,row in x_ingr.iterrows():\n",
    "    if (re.search('西瓜子',row.ingredients)!=None) or (re.search('西瓜籽',row.ingredients)!=None):\n",
    "        x_ingr.loc[index,'ingredients']='watermelon_seed'"
   ]
  },
  {
   "cell_type": "code",
   "execution_count": 108,
   "metadata": {},
   "outputs": [],
   "source": [
    "for index,row in x_ingr.iterrows():\n",
    "    if re.search('西瓜',row.ingredients)!=None:\n",
    "        x_ingr.loc[index,'ingredients']='watermelon'"
   ]
  },
  {
   "cell_type": "code",
   "execution_count": 109,
   "metadata": {},
   "outputs": [],
   "source": [
    "# honeydew -> 甘露\n",
    "for index,row in x_ingr.iterrows():\n",
    "    if re.search('蜜瓜',row.ingredients)!=None:\n",
    "        x_ingr.loc[index,'ingredients']='honeydew'"
   ]
  },
  {
   "cell_type": "code",
   "execution_count": 110,
   "metadata": {},
   "outputs": [],
   "source": [
    "# cantaloupe -> 哈密瓜\n",
    "for index,row in x_ingr.iterrows():\n",
    "    if re.search('哈密瓜',row.ingredients)!=None:\n",
    "        x_ingr.loc[index,'ingredients']='cantaloupe'"
   ]
  },
  {
   "cell_type": "code",
   "execution_count": 111,
   "metadata": {},
   "outputs": [],
   "source": [
    "# winter_melon -> 冬瓜\n",
    "for index,row in x_ingr.iterrows():\n",
    "    if re.search('冬瓜',row.ingredients)!=None:\n",
    "        x_ingr.loc[index,'ingredients']='winter_melon'"
   ]
  },
  {
   "cell_type": "code",
   "execution_count": 112,
   "metadata": {},
   "outputs": [],
   "source": [
    "# pawpaw -> 木瓜\n",
    "for index,row in x_ingr.iterrows():\n",
    "    if re.search('木瓜',row.ingredients)!=None:\n",
    "        x_ingr.loc[index,'ingredients']='pawpaw'"
   ]
  },
  {
   "cell_type": "code",
   "execution_count": 113,
   "metadata": {},
   "outputs": [],
   "source": [
    "# muskmelon -> 甜瓜\n",
    "for index,row in x_ingr.iterrows():\n",
    "    if re.search('甜瓜',row.ingredients)!=None:\n",
    "        x_ingr.loc[index,'ingredients']='muskmelon'"
   ]
  },
  {
   "cell_type": "code",
   "execution_count": 114,
   "metadata": {},
   "outputs": [],
   "source": [
    "# sweet_potato ——> 地瓜\n",
    "for index,row in x_ingr.iterrows():\n",
    "    if (re.search('地瓜',row.ingredients)!=None) or (re.search('红薯',row.ingredients)!=None):\n",
    "         x_ingr.loc[index,'ingredients']='sweet_potato'"
   ]
  },
  {
   "cell_type": "code",
   "execution_count": 115,
   "metadata": {},
   "outputs": [],
   "source": [
    "# cucumber 黄瓜 黃瓜\n",
    "for index,row in x_ingr.iterrows():\n",
    "    if (re.search('黄瓜',row.ingredients)!=None) or (re.search('黃瓜',row.ingredients)!=None):\n",
    "        x_ingr.loc[index,'ingredients']='cucumber'"
   ]
  },
  {
   "cell_type": "code",
   "execution_count": null,
   "metadata": {},
   "outputs": [],
   "source": [
    "# 瓜类结束"
   ]
  },
  {
   "cell_type": "code",
   "execution_count": 117,
   "metadata": {},
   "outputs": [],
   "source": [
    "x_ingr.to_csv('/home/IW_student/work/food_flavor/ingredient_preprocessing/datasets/x_ingr_4.csv')"
   ]
  },
  {
   "cell_type": "code",
   "execution_count": 118,
   "metadata": {},
   "outputs": [
    {
     "name": "stdout",
     "output_type": "stream",
     "text": [
      "['北杏', '杏仁精', '杏仁酱', '杏味果酱', '黄杏', '杏', '南北杏', '杏果酱', '杏酱', '杏肉', '杏仁香精', '杏皮', '南杏', '杏肉果酱', '杏子', '银杏', '杏子干', '杏果脯', '杏干', '杏仁露', '杏仁奶']\n"
     ]
    }
   ],
   "source": [
    "# 杏 apricot\n",
    "gua_str=[]\n",
    "for index,row in x_ingr.iterrows():\n",
    "    if re.search('杏',row.ingredients)!=None:\n",
    "        gua_str.append(x_ingr.loc[index,'ingredients'])\n",
    "print(list(set(gua_str)))"
   ]
  },
  {
   "cell_type": "code",
   "execution_count": 119,
   "metadata": {},
   "outputs": [],
   "source": [
    "for index,row in x_ingr.iterrows():\n",
    "    if re.search('杏仁.*精',row.ingredients)!=None:\n",
    "        x_ingr.loc[index,'ingredients']='almond_oil'"
   ]
  },
  {
   "cell_type": "code",
   "execution_count": 120,
   "metadata": {},
   "outputs": [],
   "source": [
    "for index,row in x_ingr.iterrows():\n",
    "    if (re.search('杏仁露',row.ingredients)!=None) or (re.search('杏仁奶',row.ingredients)!=None):\n",
    "        x_ingr.loc[index,'ingredients']='almond_milk'"
   ]
  },
  {
   "cell_type": "code",
   "execution_count": 121,
   "metadata": {},
   "outputs": [],
   "source": [
    "for index,row in x_ingr.iterrows():\n",
    "    if re.search('杏',row.ingredients)!=None:\n",
    "        x_ingr.loc[index,'ingredients']='apricot'"
   ]
  },
  {
   "cell_type": "code",
   "execution_count": 125,
   "metadata": {
    "collapsed": true
   },
   "outputs": [
    {
     "name": "stdout",
     "output_type": "stream",
     "text": [
      "['装饰用糖粉', '表面糖浆', '防潮糖粉', '白糖粉', '银珠装饰糖', '糖霜', '糖面部分', '上白糖', '砂糖二', '盐糖少给宝宝吃', '太古黄金糖浆', '无糖椰丝', '沙糖', '甜菊糖', '赤藓糖醇', '糖可以根据自己口味适当增减', '桂花糖', '棉花糖', '彩色糖豆', '麦牙糖', '细纱糖', '白糖少量', '转化糖浆', '石冰糖', '白纱糖', '紫苏糖浆', '木糖醇细砂糖', '糖心配料', '黄金幼砂糖', '无糖栗子泥', '无糖甜味改良剂', '小眼睛装饰糖', '冰糖', '糖水栗子', '翻糖', '绵白糖', '小冰糖', '糖分', '红砂糖', '元宝红糖', '冰糖三', '白绵糖', '装饰糖粉', '白冰糖', '奶油用砂糖', '韩国砂糖', '红枣片糖', '彩糖', '细糖粉', '黃片糖', '糖浆果干', '一撮撮白糖', '无糖豆浆', '糖小贴士有注明', '舒可曼红糖', '泡泡糖浆', '老黄糖', '软糖', '泰式甜辣酱番茄酱白糖', '细砂糖', '表面装饰糖粉', '表面装饰糖霜', '糖水', '棒棒糖棍', '太古红标糖粉', '棉白糖', '砂糖一', '细白砂糖', '焦糖饰品', '红片糖', '方糖', '黄金糖浆', '椰花糖', '家用白砂糖', '草苺糖粉', '焦糖酱', '糖半匙', '白糖冰糖', '糖粉', '白砂糖勺', '装饰糖', '天然冰糖', '白糖', '红糖粉', '微细砂糖', '舒可曼纯糖粉', '糖勺', '无糖花生酱', '粗白砂糖', '黑糖转化糖浆', '花椒冰糖', '糖珠', '糖豆', '玫瑰糖', '黄砂糖', '糖油', '冰晶糖', '糖醋汁', '糖融化', '細糖分', '古方桂花黑糖', '桂花糖年糕', '糖浆蜜糖', '焦糖勺', '粉糖', '金黄片糖', '糖酒液', '糖衣', '粗白糖', '焦糖', '古方红糖', '纯糖粉', '奶油用糖', '糖针', '粗糖', '糖桂花汁', '红糖', '黑砂糖', '糖水果混合物', '金黄糖浆', '水果味糖浆', '星形糖', '波美度糖浆', '优质白砂糖', '黄冰糖', '代糖', '无糖苏打水', '土冰糖', '无糖椰蓉', '表面白砂糖', '椰糖', '细糖', '果糖', '黑糖蜜', '原味棉花糖', '一糖', '冰糖「根据人口味添加」', '无糖藕粉', '烘焙糖', '白\\u200d糖', '珍珠糖', '椰子糖', '沙糖桔', '黄片糖', '老饶家糖桂花酱', '酒糖液', '冰片糖', '低糖莲蓉', '红糖块', '扫面糖水', '红糖红枣糊', '老冰糖', '装饰彩糖', '麦芽糖', '紫薯馅用糖', '太古砂糖', '白糖三勺', '银珠糖', '糖霜部分', '玫瑰红糖汁', '油盐糖', '曼可舒红糖', '韩国幼砂糖', '不要加糖不要加糖不要加糖', '无糖椰奶', '赤藓糖醇粉', '细红糖', '糖渍桂花', '白砂糖', '液种细砂糖', '银糖珠', '糖醋汁儿', '无糖椰浆', '曼可舒黄冰糖', '有机褐糖', '无糖苏打汽水', '砂糖', '蜂蜜糖', '黑糖', '糖桂花', '细白糖', '微量白糖', '饴糖', '普通白糖', '水麦芽糖', '幼砂糖', '糖浆', '太古黄砂糖', '老红糖', '桂花糖酱', '糖盐', '蔗糖', '糖煮栗子', '塔皮糖', '糖水蜂蜜', '砂糖橘', '白葡萄糖浆', '饼皮糖', '白沙糖', '海藻糖', '煮糖用', '舒可曼细砂糖', '赤砂糖金黄幼砂糖都行', '极细砂糖', '白糖勺', '打发奶油用细砂糖', '彩色装饰糖', '炼乳糖', '装饰砂糖', '月饼糖浆', '冰糖生抽', '奶油焦糖酱', '糖水水', '红石榴糖浆', '木糖醇', '木糖醇转化糖浆', '黄糖片', '粗砂糖', '彩糖珠星星糖片', '\\u200d糖', '着绵白糖', '冰糖老抽', '紅糖', '表面糖水', '舒可曼砂糖', '古法红糖', '枫糖', '冰红糖', '黄糖', '装饰用细砂糖', '太古黄金幼砂糖', '糖渍板栗仁', '麦芽糖浆', '普通麦芽糖', '无添加红糖', '细幼砂糖', '彩色糖珠', '红糖水', '细黄糖', '白糖一', '花生糖粉', '方砖红糖', '金色珠糖', '黑片糖', '黑糖粉', '盐糖', '红色砂晶糖', '糖蜂蜜', '古法手工红糖', '落基山白色棉花糖', '黄蔗糖', '无糖消化饼', '葡萄糖浆', '食用糖珠', '石蜂糖', '市售糖桂花', '蜜糖', '盐蚝油生抽白糖', '太古糖粉', '赤砂糖', '細砂糖', '小棉花糖', '三温糖', '小黄冰糖', '冰糖四', '彩虹糖', '黄幼砂糖', '糖', '白色棉花糖', '片糖', '盐糖白醋', '古法老红糖片', '冰糖粉', '冰糖桔', '浓度为%糖水', '细沙糖', '赤藻糖醇']\n"
     ]
    }
   ],
   "source": [
    "# sugar \n",
    "sugar_str=[]\n",
    "for index,row in x_ingr.iterrows():\n",
    "    if re.search('糖',row.ingredients)!=None:\n",
    "        sugar_str.append(x_ingr.loc[index,'ingredients'])\n",
    "print(list(set(sugar_str)))"
   ]
  },
  {
   "cell_type": "code",
   "execution_count": 123,
   "metadata": {},
   "outputs": [
    {
     "name": "stdout",
     "output_type": "stream",
     "text": [
      "['耐高糖酵母', '安琪酵母粉', '营养酵母粉', '发酵母', '营养酵母', '金燕酵母', '有机维酵母纯素起司粉', '速酵酵母', '活性酵母', '高糖酵母', '金燕子酵母', '低糖酵母', '液种速溶酵母', '安琪普通酵母', '燕子酵母', '耐低糖酵母', '酵母', '白酵母', '即溶酵母', '快速酵母', '低糖酵母粉', '法国燕子酵母', '酵母水', '速溶酵母', '低糖速溶酵母', '耐高糖速溶酵母', '安琪酵母', '鲜酵母', '耐高糖活性酵母', '奶粉酵母', '耐高糖安琪酵母', '酵母粉', '酵母）', '天然酵母酵头', '即时酵母', '耐糖酵母', '酵头天然酵母', '天然酵母液', '天然酵母']\n"
     ]
    }
   ],
   "source": [
    "# yeast \n",
    "yeast_str=[]\n",
    "for index,row in x_ingr.iterrows():\n",
    "    if re.search('酵母',row.ingredients)!=None:\n",
    "        yeast_str.append(x_ingr.loc[index,'ingredients'])\n",
    "print(list(set(yeast_str)))"
   ]
  },
  {
   "cell_type": "code",
   "execution_count": 124,
   "metadata": {},
   "outputs": [],
   "source": [
    "for index,row in x_ingr.iterrows():\n",
    "    if re.search('酵母',row.ingredients)!=None:\n",
    "        x_ingr.loc[index,'ingredients']='yeast'"
   ]
  },
  {
   "cell_type": "code",
   "execution_count": 102,
   "metadata": {
    "collapsed": true
   },
   "outputs": [
    {
     "name": "stdout",
     "output_type": "stream",
     "text": [
      "[]\n"
     ]
    }
   ],
   "source": [
    "# 椰 coco\n",
    "gua_str=[]\n",
    "for index,row in x_ingr.iterrows():\n",
    "    if re.search('椰',row.ingredients)!=None:\n",
    "        gua_str.append(x_ingr.loc[index,'ingredients'])\n",
    "print(list(set(gua_str)))"
   ]
  },
  {
   "cell_type": "code",
   "execution_count": 126,
   "metadata": {},
   "outputs": [],
   "source": [
    "for index,row in x_ingr.iterrows():\n",
    "    if re.search('椰',row.ingredients)!=None:\n",
    "        x_ingr.loc[index,'ingredients']='coconut'"
   ]
  },
  {
   "cell_type": "code",
   "execution_count": 127,
   "metadata": {},
   "outputs": [],
   "source": [
    "for index,row in x_ingr.iterrows():\n",
    "    if re.search('椰.*糖',row.ingredients)!=None:\n",
    "        x_ingr.loc[index,'ingredients']='coconut_candy'"
   ]
  },
  {
   "cell_type": "code",
   "execution_count": 128,
   "metadata": {},
   "outputs": [],
   "source": [
    "for index,row in x_ingr.iterrows():\n",
    "    if (re.search('椰浆',row.ingredients)!=None) or (re.search('椰奶',row.ingredients)!=None) or (re.search('椰漿',row.ingredients)!=None):\n",
    "        x_ingr.loc[index,'ingredients']='coconut_milk'"
   ]
  },
  {
   "cell_type": "code",
   "execution_count": 48,
   "metadata": {},
   "outputs": [
    {
     "data": {
      "text/html": [
       "<div>\n",
       "<style scoped>\n",
       "    .dataframe tbody tr th:only-of-type {\n",
       "        vertical-align: middle;\n",
       "    }\n",
       "\n",
       "    .dataframe tbody tr th {\n",
       "        vertical-align: top;\n",
       "    }\n",
       "\n",
       "    .dataframe thead th {\n",
       "        text-align: right;\n",
       "    }\n",
       "</style>\n",
       "<table border=\"1\" class=\"dataframe\">\n",
       "  <thead>\n",
       "    <tr style=\"text-align: right;\">\n",
       "      <th></th>\n",
       "      <th>recipe_id</th>\n",
       "      <th>ingredients</th>\n",
       "    </tr>\n",
       "  </thead>\n",
       "  <tbody>\n",
       "    <tr>\n",
       "      <th>0</th>\n",
       "      <td>100000002</td>\n",
       "      <td>asparagus</td>\n",
       "    </tr>\n",
       "    <tr>\n",
       "      <th>1</th>\n",
       "      <td>100000002</td>\n",
       "      <td>garlic</td>\n",
       "    </tr>\n",
       "    <tr>\n",
       "      <th>2</th>\n",
       "      <td>100000002</td>\n",
       "      <td>红椒</td>\n",
       "    </tr>\n",
       "    <tr>\n",
       "      <th>3</th>\n",
       "      <td>100000003</td>\n",
       "      <td>yogurt</td>\n",
       "    </tr>\n",
       "    <tr>\n",
       "      <th>4</th>\n",
       "      <td>100000003</td>\n",
       "      <td>gelatin</td>\n",
       "    </tr>\n",
       "  </tbody>\n",
       "</table>\n",
       "</div>"
      ],
      "text/plain": [
       "   recipe_id ingredients\n",
       "0  100000002   asparagus\n",
       "1  100000002      garlic\n",
       "2  100000002          红椒\n",
       "3  100000003      yogurt\n",
       "4  100000003     gelatin"
      ]
     },
     "execution_count": 48,
     "metadata": {},
     "output_type": "execute_result"
    }
   ],
   "source": [
    "x_ingr.head()"
   ]
  },
  {
   "cell_type": "code",
   "execution_count": 106,
   "metadata": {},
   "outputs": [],
   "source": [
    "x_ingredients=x_ingr['ingredients'].values.tolist()"
   ]
  },
  {
   "cell_type": "code",
   "execution_count": 107,
   "metadata": {},
   "outputs": [
    {
     "data": {
      "text/plain": [
       "4756"
      ]
     },
     "execution_count": 107,
     "metadata": {},
     "output_type": "execute_result"
    }
   ],
   "source": [
    "x_ingredients_set=list(set(x_ingredients))\n",
    "len(x_ingredients_set)"
   ]
  },
  {
   "cell_type": "code",
   "execution_count": 75,
   "metadata": {},
   "outputs": [],
   "source": [
    "x_ingredients=','.join(x_ingredients_set)"
   ]
  },
  {
   "cell_type": "code",
   "execution_count": 76,
   "metadata": {
    "collapsed": true
   },
   "outputs": [
    {
     "data": {
      "text/plain": [
       "'粉葛,斑斓叶,海天牌海鲜酱,东莞米粉,烧烤料,maize,张,速冻汤圆,红无籽葡萄,燕窝盏,麻薯粉,山楂粉,芋头泥,豆豉辣酱,白扁豆,大米糙米,各式果酱,生紫薯,二次添加,木薯粉,裱花嘴,鲜柠檬片,黑野米,中间破洞,玻璃碗,cake,桔子叶子,gelatin,液体,密封袋,cashew,波萝,王后柔风吐司粉,四川泡红辣椒,西贡酱汁,炒面,味好美椒盐粉,偷懒,黄辣丁,可颂,小麦胚芽粉,乳酸菌,糖渍桂花,豆制品,红枣净肉,芥末酱,北芪,黑色,美奶滋,banana,朝天红椒,台式香肠,腌制青橄榄,各式火锅涮菜,低糖莲蓉,鸭胗,卡士达酱,表面刷,紫苏梅,马蹄粉半盒,紫茄子,美极鲜,甜沙拉酱,糖油,表面白砂糖,海苔香松,新,植物油,鸭翅,表面,大麦青汁粉,密封罐,速冻小圆子,莲蓉馅,萨拉米香肠,炸菜丝,红枣肉,奶酥,炙制乌梅,番茄丁,青红泡椒,琼脂,白寇各,疆烤馕,里脊,一糖,香芋泥,益母草,辣豆瓣醬,原味沙拉酱,白线,彩虹糖,市售黑椒汁,木铲,藍莓,当归片,熏肉,花香藕,冰皮月饼粉,だし汁,饼干底,水若干,龙眼干,一次添加,芽菜肉绍,锡纸,麻辣鲜,寸饼底,复配油条膨松剂,不是就是,草绳,重庆干红辣椒,无核小枣,石榴,泸州老窖,黄糯小米,小里脊,浓醇奶味类,锡箔纸,液态酥油,春卷皮,大扁豆,甜菊糖,水果类,蓝色海洋,杞子,热水,面包干,面饼用量,竹筒,松柳苗,带皮咸肉,碗,雀,圆豆角,熏干鸭腿,薯仔,肉松辣松,杯=,装饰,酵头,用量,迷你奥利奥,芽菜,镇江恒顺香醋,小馄饨皮,白糖粉,糯黄小米,麻椒油,红干尖椒,鸭后腿,柠檬汁替代,食材如下,彩椒红黄绿,东北酸菜,切丝,波本,腐竹,第二部分,鲜芦苇叶,卤肥肠,山楂糕,餐巾纸,熟板栗仁,元西米,火锅面,wheat,雪梨肉,金针茹,泡发黑木耳,一撮撮白糖,沙拉汁,外售饺子皮,绿西米,酸奶发酵粉,圆盘,里几肉,山萘,火锅粉,糖桂花汁,恒顺镇江香醋,马头兰,去皮前上肉,酒精提神类,米酸汤,红枣,冰草,mustard_greens_oil,鹰牌粟粉,婴儿七种谷物米粉,白色陶瓷碗,茭白,乌枣,江西米粉,寿司醋,小米粉,水腊肠,谷元粉,时令鲜蔬,油纸,滤网,美味！,润唐内脂,小干红椒段,鲜切面,椰树牌椰汁,烤具,食用面碱,金像,翅根,白米醋,减脂便当,番茄片,梅子,风干香肠,圆柱形年糕,冰糖粉,鲜花,甜辣酱,所有标量都是,豇豆角,直面,细砂糖,三线肉,小眼睛装饰糖,子排,川贝母粉,野木耳,烧烤用竹签,味噌酱,青麻椒,蒸熟去皮紫薯,苦菊,shellfish,盐等,桶装薯片,味会更鲜,椰桨,芋泥,彩色装饰糖,蹄花,３００ｇ,螺旋藻粉,度冷水,即发干酵毌,corn_syrup,七喜,银糖珠,可以自由搭配,配料包,新良小麦胚芽,味琳,有机黑米,曲奇,有机乌冬面,酵母水,原味炼乳,青梅,片栗粉,sake,稻花香米,手指椒,意大利免洗圆米,芥菜头,度白醋,豬肝,鲜百里香,前腿精肉,香蕉根,辣味肉松,无核蜜枣,涪陵榨菜丝,红尖椒五六,意面酱,莲白,杨梅层,青柠檬,红枣放冷水泡一小时,木耳菜,单山蘸水,老卤汁,绿青椒,红加仑,梅干,陈村粉,面酱,青柠汁,水淮山,小青辣椒,熟紫薯丁,芋泥层,褐色老椰子,山楂条,辣鲜露,油酥,潮汕冬菜,燕窝一至盏,方便面饼,小红椒,东北大酱,寸披萨饼底,豆皮丝,椒节,甜辣椒粉,豆角,青椒红椒,千层皮,派盘,蝶豆花茶冻成水,掌中宝,白干,细圆挂面,栗子水,高粱米,桢水,almond_oil,山药泥,茶匙,紫米,蘸酱,海鲜,部队拉面,黑百叶,准备天然酵种,红黄彩椒,微量白糖,红油辣椒,片,槟榔芋,上白糖,小红川椒,饼皮制作,椒盐,石槲,角瓜,菜脯,碗汁↑↑,婴儿米粉,芋头拿铁,黏高粱米,带皮腿肉,汤,砂糖一,油条膨松剂,冰淇淋球,百叶结,玫瑰酱,酵种,黒豆豉,云腿,大饼,配送作料酱包,缸豆,银耳糊,麻酱,brewed_tea,茯苓块,柠檬蜂蜜,白参,果仁总量,lettuce,苏打角饼干,蝦皮,头抽,度热水,何首乌,所以本宫没放盐,原味优酪乳,buckwheat,鲜芦根,皮料,果仁之类,香椿芽,汉斯意面酱,香茅,南食召,马苏,糖水栗子,棍子面条,腌雪菜,食品袋,薑,冷面汁,木糖醇细砂糖,洗净,陴县豆瓣,番茄干,豆瓣酱,馅儿,蛇豆,爱心饼干切模,黄节瓜,花奶,辣椒红油,蜜渍桂花,竹甘蔗,katsuobushi,红栆,石榴等,哈尔滨香肠,大米粥,空心菜秆,豉汁,响螺,太太乐chicken_broth,高筯面,大碗,汁,宽粉条,李派林喼汁,食用闪烁色粉,丘比沙拉酱,红辣椒剁椒,鳀调味料,易拉罐,热狗,酱制乌梅,红辣椒红尖椒,porcini,工具三角尺,cheese,半只–只,洋蔥,熟毛肚,夹心,柠檬挤汁,rutabaga,香料粉,韩式辣椒粉,熟肥肠,肉糜,百力滋,红枣去核,塔皮,老干妈豆豉辣椒酱,上汤,玛丽饼,鸭舌头,呗,大香蕉,奶油用糖,小银耳,胡麻酱,腐乳,鲜柿子,白扣,去籽红枣,白,百奇饼干,黄灯笼辣酱,毫升,honeydew,小香干,光鹅,蝶豆花汁液,表面装饰黑,全麦卷饼,青金桔,青橄榄,鹰粟粉,秘制怪味酱,fig,沙律酱,腩肉,泰式绿咖喱酱,越南米纸张,七味粉,一,鲜柠檬汁,老干妈豆豉,五香粉花椒粉,长青椒,三根,水约度,紫色茄子,磨糯米粉,盒,卤味包,炒肉末,葵花籽仁,粽针,装饰面,蒂,白水,华丰三鲜伊面,瑤柱,凉水即可,千里香,天贝菌,若羌特大灰枣,茼蒿,装饰糖粉,凉粉籽,麻辣酱,执着,热爱生活,山药半截,鲜人参,broccoli,鲜椒,豆芽,糖霜,方糖,寸戚风一片,姑娘果,面水浆,细面,飞饼,色粉,白味噌,绳子,甘草,荞面,日式炒面酱,长茄子,鲜肉,剁椒,西湖藕粉,青红椒块,洋芋,白吐司,披萨饼,参见下厨房食谱,青汁粉,细条紫茄子,原味甜炼乳,鲜辣椒,大鹅,真露,红椒干,咸奶油部分,红糖水,竹木耳,生拉面,糖盐,金蚝干,馒头,红彩椒,汉源花椒,表面装饰红枣,熟栗子仁,肠粉粉,苦苣等,不够再加,螺丝形意面,韩国辣椒粉,吉列丁片,印度飞饼,肥肠,金丝肉松,孝母,西米露,高筋面,普通白米,沙拉菜,混合椒盐,白莲蓉馅,玛利亚消化饼干,安琪普通酵母,椰子片,海带片,鲜辣椒根,脆骨排,食醋,乌梅干,千张豆皮,不粘布,酸,细盐,兩條,汤圆汤料,内馅柠檬凝乳,猫耳朵,鲜果,银耳,fish,谷优消化饼,白绵糖,喜马拉雅粉盐,beef_tallow,装饰水果若干,英式奶油酱,粗海盐,味醂,红枣提前用水泡洗一下；小米淘洗一遍,水麦芽糖,常规佐料,煮熟,三能金波斜纹吐司盒,chicken_brothchicken_broth,熟松仁,醋精,炸粉,长豆角丁,熟油,白梨,寸淋面,全脂椰蓉,红美人椒,粗圆面,重庆花椒,玻璃罐子,舒可曼细砂糖,高粱,泡山椒,腐泡,份,万能炸粉,粳米,细红糖,表面糖浆,开花肠,龙须挂面,烫手,话梅肉,腊肠丁,rum,饼干配料,海椒面,纯黑巧,黄色果膏,肉丸,度水,树皮,细心,馅儿配料,混合水果干,宁夏无硫枸杞皇,香醋,蠔油,黑麦饼干,川贝粉,派馅,辣子角,黄皮,饼皮部份,酸奶慕斯,radish,青椒红尖椒,无添加白醋,胶带,枸杞大约,枇杷老叶,白味增,黑胡婌,里叶白莲,纳豆,红绿彩椒,木,云南单山蘸水,去核红枣,各色果干,山楂片,甜豆角,蒟蒻丝,白油,扁豆角,辣椒若,拉瓜,榨汁器,板栗仁,厚吐司,栀子,大冢梦咖喱,红色小尖椒,客家娘酒,脆皮肠,红椒,青皮甘蔗,面包馅儿料,千张皮,白馒头皮,第戎芥末酱,小菜,花椒料包,芝果,咸盐,普宁豆酱,齿中号花嘴,全麦消化饼干,燕窝,wheat_bran,无味明胶粉,硅胶,蕨根粉丝,鲜马蹄,小尖椒,香料若干,枸杞等混合果干,面包糠,当然要有豆角,细辣子粉,洛神花,白糖,薄口醤油,青,辣椒只,watermelon,番薯,白粥,白膘,‼️裹表皮用‼️,阿胶,潮汕,番茄中等大小,午餐肉片,淋面,tequila,奶油奶,直茄子,亨氏喼汁,调色用,红辣妹子椒,冰镇雪碧,手粉,watermelon_seed,柠檬半,落基山白色棉花糖,意式黑醋,石灰水,日本盐渍樱花,好奇心,墨西哥薄饼,长线椒,通脊,蚕豆仁,白酒,黑枸杞,黑whole_grain_wheat_flour,可可脂,老鸭汤,椰漿水,普通水,线绳,优格,棉花糖,lobster,藕尖,酸梅酱,暖水,腌香椿末,mutton,rose_wine,garlic,十三香料包,安琪米发糕预拌粉,青芥辣,鲜藕,针菜,海鲜酱,气泡水,二荆条青椒,油酥制作,腌料,酱,六月黄,蚬肉,儿童优酪乳,生面,滇味香腸,玫瑰花酱,丑耳,墨西哥卷饼,耐高糖安琪酵母,红曲素,麦维他消化饼,雀巢鹰唻炼乳,蜜枣,煤气灶,圆青椒,赤藓糖醇,油皮部分,面筋包,红辣椒面,蔬果泥,椰浆,鲜百合,貝,洋梨,即食海苔脆片,石斛,韩式年糕,底盘,日式烧烤汁,泰国甜辣酱各,仔排,花椒冰糖,即食海苔片,食材,卤汁蚝油,刀,槟榔,毛竹篾,粗砂糖,百分百天然酵种,发面,家乐点蘸鲜露,披萨,麻辣火锅底料,极美滋,素蚝油,色拉油,辣面,糖水蜂蜜,蜂蜜,黑米粉,螺旋意大利面,吐司厚片,甜味沙拉酱,黄喉,大波浪薯片,小酥打,饼皮小苏打,油炸面筋,意大利香脂醋,黄糖片,美奶兹,等量就行,西洋芹,韩式辣年糕酱,装饰砂糖,方形吐司,shrimp,麝香,百里香叶,此方不太甜,原,元宵,枣泥,菱角菜,整形需要,芋圆所需食材,肉汁碗,川湘辣酱,海盐,碗料,柠檬水,大根,枇杷叶,高丽菜,橘皮,烘焙油纸,竹炭粉,炒糯米粉,焦糖饰品,泡豇豆,肉圆,鲜栗子,酸荞头,赤砂糖,法式第戎芥末酱,广式枣泥馅,荜拨,糯米馅,不要加糖不要加糖不要加糖,香辣油,澳洲带子,木耳干,云南酱,白色,肉馅,熟化魔芋粉,东北黑木耳,酸菜,藕片,饼底,班戟粉,清醋,可以多加些辣酱,八寸慕斯圈,份量,乳酸菌粉,熟透香蕉,柠檬浓缩汁,小云吞,桑葚果酱,野山莓果酱,味林,麻薯馅儿,千层派皮,意大利细面,老干妈豆豉辣酱,味蚝鲜蚝油,川味红油,圆椒,红辣椒,泡野山椒,小咸菜,淸水,无糖豆浆,南京桂花鸭,看步骤,蒿子杆,冰糖桔,toufu,花肉,意大利宽面,细尖椒,香甜味沙拉酱,天麻,另需水一盆,虎皮卷部分,鲜香椿,滚烫水,鲜青花椒,里海酸奶菌粉包,三,梅汁,红曲粉,饼干部分,松子,小青柠,油酥部分,市售糖桂花,镜面盐渍樱花,豬肉,千层,桂园,六级,黑片糖,pawpaw,柠檬屑,浸泡液,肉排骨,夏枯草,刺山柑,兔肉,肉沫,智利,生香肠,淡椰浆,烘焙石,也以不放,青线椒,椰子糖,草蔻,菱角肉,芽白,前夹肉丁,月饼面皮,厚切吐司片,鲜杨梅,游水桂花,peanut_oil,litchi,柿子,水冰,汤圆,披萨底,蒸锅水,腌制肉类,太古黄砂糖,辣椒皮,roasted_peanut,scallion,中层,年糕条,鲜榨青柠檬汁,糖水水,流心馅,糕片,优质脂肪油,小颗柠檬汁,韩国甜辣酱,辣青,蝴蝶面,六寸戚风,辣皮,鸭心,熟大香蕉,爆米花,熟糯米粉,香芋,果酱,康乐醋,若羌红枣,红枣干,提子干,意式混合干香料,灰枣,蓝色汁液,手工挂面,食用调,韭苔,蜂蜜芥末籽油醋汁,密封保鲜盒,扁意面,黑椒粉,浓椰浆,桂花,天然酵种,麦卡伦年,紫花椒,昆布粉,chicken_liver,腌渍料,豆鼓,紫苏糖浆,鲜海参,意面专用番茄酱,小橘子,泡打,云南昭通酱,卡宴辣椒,冰皮配方,魔芋,五香豆干,肉松馅,糖桂花,raw_peanut,水果泥,鲜豇豆,可选,pitaya,喜马拉雅矿物盐,石蜂糖,青苋菜,魚露,老冰糖,香蕉干,块,此面包味道微咸,普通大米,熬粥用米,润肠根,细纱糖,香米,去皮熟板栗,凉糕粉,五香粉,八寸活底圆模,午餐肉,木糖醇,绵线,乳清,汤种配方,花米,九层塔叶,椴木银耳,黑巧克力,装饰彩珠,酸豆角,田大枣,见上,墨西哥干辣椒粉,玫瑰米醋,高筋whole_grain_wheat_flour,鲜汤,吐司边,罐子,全麦意大利面,苇叶,白菊醋,tuna,好吃点消化饼,肥肉部分,丝苗米,臀尖肉,酱肉,大麦若叶粉,红火锅料,沙虫干,可食用绿色植物叶子,樱花,甘栗,杂菜,玻璃密封罐,°水,pepper,蛇椒,月香甜面酱,连模,面皮配料,brown_rice,意面,coffee,前尖肉,pineapple,寿司竹帘,fish_ball,法国盐之花,海天蚝油,柠檬奶冻,原味棉花糖,烤麸,熟地,nutmeg,金桔汁,布丁,雪燕,圆子,贝素,红色,普通蜂蜜,流沙馅,无水面皮,enokidake,plum,小棉花糖,白鲢,黄米面,带子保鲜袋,小黄米,面饼,枇杷肉,金黄片糖,鲜榨汁,意大利披萨酱,椰奶,手抓饼,温度,吐司磨具,焦糖酱,新华米醋,肉蔻粉,豆皮结,塔塔粉代替,强力粉,泰式黄咖喱酱,maple_syrup,盆子,蜜栆,益力多,紫米糯米,马蹄果,大馄炖皮,熟水饺,杞子一小把,动物性,欧包吐司汉堡胚,细面条,鲜味汁,东北豆角,五香蒸肉粉,谷优玛丽亚饼干,淘宝有卖,香,槐花,啦啦,压缩黑木耳,第一部分,蒲瓜,哈哈,米错,小青柠檬,砂锅煲,八寸心形慕斯圈,水果干,粗糖,原味薄饼,白粘米面,吐司面包片,台湾热狗肠,apricot,糖豆,榨菜鲜肉馅,海参,润肠,免洗大米,面包配方,黄咖喱浆,辣椒节,上前肉,烧烤蘸料,优质番红花,懒得写,全家盒装水饺,韩国辣椒,亮晶晶,冰花梅酱,表面泡芙面糊,肉皮,green_tea,朝一,腌肉配料,夹心肉末,扫面糖水,洋车前子壳粉,雀巢脆谷乐,鸭梨,椰子粉,奶茶,奶油汤料,川帮掌门,肥膘肉,饼干底消化饼干,浓缩chicken_broth,韩式大酱,红菜苔,布丁粉,蚝,意大利细面条,枸杞子,老虎酱,小黄冰糖,腌制配料,铁棍山药,梅粉,红指椒,牙齿,beet,盒装果汁,太阳公公,红石榴,芋头半,味椒盐,食用玫瑰花,重庆火锅料,青辣椒,菱角仁,菌类,叉烧肉,秘制熟油辣椒,米凉糕,芋头馅,刀口青花椒,青红剁椒,若干,老红糖,江米粉,辣椒条,活性酵母,优冠饼干,寿司海苔皮,番茄肉酱意面,无锡油面筋,表面蘸料,禾然有机糙米醋,挂面,冷冻飞饼,死面,黄皮酱,芋艿,有机褐糖,菠菜,泡发木耳,披萨料,莲蓬,酵头天然酵母,卤汁配料,月饼模子,grapefruit_juice,tomato,炖肉料包,cuttlefish,青海苔,红腐乳,蓬蒿菜,中号裱花嘴,折耳根叶,黑木耳干,透明部份,椰子太妃酱,头尾,avocado,红曲米,檸檬汁,任意果干粉,咸味话梅,海蜇皮,纸杯,卤汤,菜板,莲菜,雪莲子,竹炭,紫薯果蔬粉,油皮制作,chicken,线辣椒,耗豉,饼丝,豆泡,酱料,马铃薯粉,硬柿子,谷优消化饼干,beef_broth,深蓝,高纤消化饼干,泡菜盐,柠檬几滴,螺蛳肉,针海苔,刀子,黄芥末酱,澄,涂抹表面用,直饮水,汤头,烘焙糖,块状咖喱,调酱料韩国大酱,荔浦香芋,小红椒圈,食盐,速酵酵母,醇母,柠檬切片,青红椒丝,寸圆模,广式香肠,面包切片,枸杞,②肉馅,酸甜榨菜,小麦米,无核橄榄,紫薯,方包,lamb,黒加仑,coconut_oil,味达美味极鲜,兔,液种水,烫种,真空米线,头月饼桶,mushroom,草裹,有机全麦意大利面,干辣椒,肠,节瓜,樱花粉,大荔浦芋头,紫皮茄子,醋约,红杭椒,酸奶慕斯层,豆角干,香辣红油,黄幼砂糖,热情,黄芥酱,red_kidney_bean,山楂干货,香榧,三人份,鸭翅膀,nira,鸭子,意大利螺丝面,柱侯酱,奶油林姆,菠菜粉,枸己,想吃多少做多少,去皮栗子,娃娃,普通粉,番薯粉,芝焙原味流心酱,黄米馅,趣多多饼干,面粉中筋,红色果酱,若羌枣,芳香醋,蜜汁味烤肉料,翻糖,葫芦,黄氏,黑加仑提子干,beet_juice,古法红糖,吐司模,烤翅料,活跃天然酵种,韩式泡菜,原味微甜飞饼皮,自来水,almond,配料,炸丸子,三刻秘制三杯汁,曼可舒红糖,catfish,盐渍,西式混合干香料,海蜇,鸭血,凉粉草,高丽参人参,乌榄,挖球器,野生川贝母,蚝汪,肉丁,片糖,酒类,棍子饼干,配菜青红椒,精排,骨头,广星牌马蹄粉,威士忌,酥油团,川秀双歧杆菌,致美斋白米醋,罐装橄榄菜,大块腐乳,寸不粘固底模,chinese_cabbage,手指饼干,六必居甜面酱,紅洋蔥,黑椒汁,莳萝,烧骨,饼胚,原味肉松,圆茄子,空心菜茎,新疆大枣,放多少随你,泡菜用辣椒粉,西班牙红椒粉,车厘子,红莲蓉馅,粽子叶,食用碱,小紫薯,山芋粉,小柑橘,cherry,大肘子,去壳板栗,里脊肉,olive_oil,甜红椒,果汁,小油条,泡浆用椰浆,前排脊骨,橄榄,馬蹄粉,黑米粥,烫面,食用苏打粉,钵仔糕粉,番茄膏,杯量杯,白葡萄籽油,百事可乐,吐司部分,小肠,沙糖,crayfish,‼️外皮‼️,高粱粉,秘制川味红油,樱花等,红色水果粉,芡实粉,酸辣椒,防潮糖粉,肉馅儿,烧酒,寸披萨盘,披萨饼底,水果等,水果罐头,刷底,香磨豆豉酱,港式腊肠,油豆角,酸豆,白葡萄糖浆,眉豆,麻辣底料,辣豆瓣,泰式酸甜酱,冰淇淋,萨拉米香肠片,三温糖,西洋参,云耳,披萨盘,agaricus,糯米面各一,熟香蕉,波菜,云吞,辅助工具,~,fried_pork,波兰种,如图,奇亚籽,苏式话梅,用油,去夹心奥利奥饼干,秋田小町米,酥油,鸭腿,梅头肉,低脂沙拉酱,奶油奶酷,辣干红椒,室温冷水,海南黄灯笼辣酱,大骨头,王后中式糕点粉,裱花袋,做之前请先细看每步骤,沙参,车螺,虎皮青椒,黄米,古越龙山,江米,消化饼干屑,辣粉,泡面,最后表面装饰,无糖苏打汽水,竹熏腊肉,\\u200b,durian,蔬之鲜,小蕃茄,胁排,无铝油条蓬松剂,镜面用,茶巾,原只椰子,夹心部分,发菜丸子,万用凉拌汁,酸奶等,黑小米,凉面,长柄刷子,袖子,小闪闪,切片吐司,卤汁,黄芥辣,腰花,味噌,藿香,甜豆,莓果,onion,金象,苦瓜,peanut_butter,肉骨汤,原料选择可能随供应略微调整,鼠尾草,细白糖,麻辣香锅料包,白粉,椰子水,red_wine,风来酵素桶,意大利混合香料,椰子枚,生亚麻籽,熟松子仁,辣柳,海盐奶盖,sweet_potato,粗辣椒面,面胚,韩式年糕条,草头,新奥尔良腌料,内馅儿,面粉水,爱心,藕,夹馅儿部分,生饺子,一次性手套,杨梅干,全麦饼干,湿面条,妙龄乳鸽,片粟粉,磨肉,塑料手套,甘油,紫葡萄,日式味林,法国金蜜色粉,牙签根,淘米水,tea,乌梅,白纱糖,细沙糖,奥利奥饼干屑,小干辣椒,天然色粉,fruit,粗盐,咸饼干,芥菜丛,粗米粉,水面筋,紫糯米,鲜肉末,沙朗,茅根,月饼馅,生糯米,紫色长茄,甘蔗,任何食材,红米椒,速冻饺一份,料,提拉米苏慕斯粉,黑魔芋粉,花纹,白沙糖,湿面,麻辣块,意式披萨酱,四川辣酱,冬阴功汤料,黄芥末子,钞醋,西梅水果馅,纸巾,mantis_shrimp,西梅,火锅丸子,椒,草苺,包装纸,芋头沙,奥利奥饼干,关于渐变色,王家渡香锅底料,腌香椿,冷面,打发奶油用细砂糖,胡蘿蔔,黎麦,白蘿卜,王后,大白米粥,手擀面,椰蓉酥,大车螺,冻鸭掌,广式腊肠,椰子只,广西荔浦芋头,ロース肉,代糖,必须放,椰果,都行,面糊,老油条,大西米,鸭二节翅,普通白糖,西紅柿,黑色桑葚,奇异籽,陳醋,花旗参,河南铁棍淮山,剩饺子,肉酱,红曲,配料见图,bay_laurel,香腸,麦豆,云上•小白龙,椰子馅,鸭汤,煮水,花椒大约,腊味,蕃薯粉,盐焗粉,生辣椒,夹花肉,展艺冰皮月饼粉,蝶豆花茶,大中排,roasted_chicken料,浓缩番茄酱,凉拌醋,罗定豆豉,美乃滋抹酱,白芍,螺丝,雪花肉,风干腊肉,装饰用,台湾香肠,面包渣,熏红椒粉,黄酱,野荠菜,鲜面,野生天麻干,芋头香精,植皮,豆面,五香椒盐粉,鲜鱿,小尖青椒,红辣椒段,韩国大酱,保鲜袋,小米面,用量可以按照……,卡仕达酱,食用玫瑰花瓣,韩国辣酱,梅子酱,多味冰激凌粉,泡打粉各,杂粮粉,奥利奥,蒸馏水,全麦波兰种,烤鸭架,青椒条,绿叶,椰糖,烧烤干料,紫甘兰汁,这是人份,京酱肉丝,大红椒,饼底消化饼干,锅巴,鸭脖,脊骨,香辣火锅底料,馅皮,硅胶垫,鲜麻椒,eel,无铝膨松剂,algae,糖蜂蜜,糖粉,纯木薯粉,袋装乌冬面,丝带彩带,原味豆奶,鲜椒酱,sesame_seed,泰式红咖喱酱,冬虫草,荔溥芋头,湿圆面条,=,泡发粉丝,烤肉饼,安泰桥百花蜜,简单,腌制,竹荪粉,明胶粉,圆糯米,掩制茄子,草鸭,碳水化,添丁甜醋,芥末,无馅饼干,盐一撮,青红指椒,茯苓,丝,烤翅腌料,意大利面酱,生薑,花盆,bread,炼,红绿剁椒,冬阴功酱料,尖红辣椒,烘干吐司,洋参,三奈,野生蕨菜,红椒条,袋装泡藕带,黄金鹅油,老干妈油辣椒,红色果占,尖青椒,\\u200d大\\u200d料,威化饼,海天甜面酱,水度,安琪无铝泡打粉,蚝肉,彩色糖豆,胡萝,卤水,法国粉,剁椒料,草粿草,果丹皮,银耳朵,表面装饰,速冻包子,辣椒花椒,大枣枸杞酱,小西黄柿,全单,salmon,红枣数,杭白菊,看做法,肉汁,圣子,果料包,大圆茄子,杨梅,韩国小老板海苔支,肥腩肉,柱候醬,粉皮,马蹄糕粉,白酱粉,金达椰浆,糯米圆子,淡干海参,另准备水,糊椒粉,苏子叶,骨头汤,蒿菜,碗汁,青红线椒,龙眼,tahini,酸辣鲜露,云南酸腌菜,麻薯馅,松仁,迷你干鲍,玛丽亚苏性饼干,见上面简介里面里面哦,seed_oil,鲜银耳,沙滩,冰皮,桑椹,澄面,葵花子,細糖分,虫草花,料盐,锡纸一张,金丝蜜枣,回锅肉,北海道吐司,海盐花,浸辣椒,bean,香葉,木薯,田螺,果蔬泥,细糖,熟粉熟糯米粉,roasted_chicken,净老鸭,鸭子肉,芡实,柿椒,arugula,红辣椒干,寿司米,婴儿配方米粉,生葵花籽,脆皮底,排条,熟藜麦,胶皮手套,酥顶部分,手打面,饼皮,米椒,西芹,面粉吸水率不一样,食用口碱,莧菜,生松仁,西梅干,粉丝,糟辣椒,太白粉水,\\u200d\\u200d清,袋装泡椒,时间,蜂蜜水蜂蜜,亚麻籽,日本盐渍樱花泡水一夜,豆渣,八果,粗质粉类,粥底,封口夹,齿物香肠,竹帘,盐味精,桂林腐乳,椰漿,味斯美牌海苔肉松,泡打粉,可食用三色堇,泰式酸辣酱,蒸熟芋头,小排骨,去皮凤梨,印花模,咖喱快,天贝菌粉,粽子,嫩芽菜,无糖栗子泥,慕斯层,蘸料,韩式醋甜辣酱,装饰部分,番茄沙司,酸梅粉,酵母）,小撮,手工细面,纯蜂蜜,汤汁,五常大米,极细砂糖,细铁棍山药,秘制酱汁,连度豆,油溶色粉,苋菜,cream,tabasco_pepper,日式麻糬,手工拉面,柠檬三,松饼粉,turkey,辅助,糖浆蜜糖,天使意面,艾草粉,糖分,台湾脆皮小香肠,醯官米醋,roasted_sesame_seed,泡发黑木耳把,各类食材,烘焙纸,铁杆山药,洋车前子粉,金腿,黑啤,白米粥,装饰食材,美味鲜,豆豉酱,小西米,飞饼皮,咖哩块,小苏达,咖哩,塔塔粉,批杷约,小贴士,cinnamon,红线椒,切成小块后冷冻,盐糖白醋,食用碱小苏打,肥肉,蒸饺,市售黑椒酱,颈背肉,生,柱候酱,白酵母,盐水,手,北京干黄酱,烤肉料,红椒末,椰蓉部分,枣片,盒子,泰国黄咖喱,日式年糕,macaroni,宁波年糕,金燕子酵母,金黄糖浆,食用糖珠,小里肌肉,白砂糖,红龙果,郫县豆酱,肉汤,黑莓,大枣枸杞,大喜大咖喱膏,梅肉,有機糙米,欣,洋蓟心,砧板,红油辣椒油,半小碗水,马卡龙壳,小彩椒,红石榴糖浆,青提,麻辣蒸肉粉,以上为,青红椒片,低钠盐,速溶酵母,mung_bean,鲜板栗,酱汁盐,青椒三,白面,gingkgo,紫薯酥球,防粘喷油,巴萨米醋,冰粉籽,脱水烤麸,菊花,韭黃,法国燕子酵母,萄葡干,车前子,筒子骨,奶酥馅,箬叶,奶黄馅儿～～,优质糯米粉,洪山菜薹,大白馒头,元宝红糖,椰汁部分,凉粉粉,泰式青柠汁,三道鳞,芥末籽,湖盐,曼可舒黄冰糖,微细砂糖,泡椒末,小米半小碗,粉块,冰塊,荷美尔台湾香肠,紫苏一小把,腐皮,红椒丁,雪顶,即食栗子,有机葡萄,红干椒,黑椒酱,戚风体,蝶豆花,甜米,丝带,辣肉松,橘子叶,秘制酱料,意大利面肉酱,方法煮,荸荠,浓汤宝,植物,大回香,同时烧水,无铝泡打,竹签子,室温,粟米粉,crab,黄秋葵,全麦方包,发酵母,十分量,苏打水,fish_cake,鹽,长豆角,杭椒,莜面,昭通酱,装饰用细砂糖,冰皮粉,同尺寸,炼乳酱,雪花粉,榨菜,密封盒,紫苣等杂菜,寸方盘,六寸胚,山楂卷,铁皮美林午餐肉,黄色,嫩香椿芽,馅儿料,dairy,粳米粉,黑糖粉,惠尔通号圆形裱花嘴,日本咖喱,红辣椒粉,晨师傅广式挞皮,beef,芋苗,烤后涂抹,乐扣餐盒,黑凉粉,甜甜圈,包心麻辣丸,黑木耳小把,酸苷,海鲜粉,拉条,雨露,二青条,parsley,细辣椒,精肋排,晶盐,奶油酥,槟樃芋头,奶黄,家常饼,豆瓣油,whole_grain_wheat_flour,厨房纸巾,大针管,装饰用糖粉,袋装方便面,凤梨,农家藕粉,辣椒面佐料,法香,味淋,濑粉,thai_pepper,川芎,洋菜粉,湖南椒,葡萄果酱,无水酥油,细长条紫茄子条,好侍咖喱,夜开花,青柠,绿茄子,低筋whole_grain_wheat_flour,面包屑,太古红标糖粉,藏红花,食谱跟着君之学烘焙书页,milk,黄米椒,细竹签,头菜,桑葚,黄芥末籽酱,corn_oil,香椿头,多香果粉,郫县辣豆瓣,第戎芥末,鳄梨,乳胶小圆气球,酒米,半,表面糖水,红烧汤头,小菠菜,紅糖,玛利亚饼干,高,欧包,外径凉皮锣锣,芫茜,去骨琵琶腿,肉肠,春卷饼皮,糖水果混合物,红油麻辣锅底,香果,香精,饼干底消化饼,小苏打粉,排骨肉,油盐,地榆,长香米,午餐肉随便你啦,食用碱面,三明治制作器,勾芡配料,台湾烤肠,柔风吐司粉,量大概可以做,酸腌菜,草鸭腿,无糖甜味改良剂,香甜沙拉酱,芥末籽酱,去皮葡萄,鲜辣粉,柠檬青柠,亚麻籽粉,圆形裱花嘴,辣椒油,内馅制作,铁棍淮山,手工面条,玫瑰红腐乳,手工香肠,现成饺子皮,香料花椒,紫甘兰,陈肾,法國黃芥末醬,卤大肠,cumin,米汤,椰蓉馅儿,野生小木耳,蒸屉,carrot,日式照烧酱,彩色糖珠,米糊,耐心,西洋参片,尖头厨房剪,自贡七星椒干辣椒面,red_bean,葵花籽,barley,寸不粘模,小台芒,咸肉片,匈牙利红椒粉,线椒,芥兰,出前一丁方便面一包,班戟皮,尖头青椒,发酵粉,cottage_cheese,第三部分,丸子类,麻辣香锅料,starch,小枣,去皮鲜蚕豆,红莲,小米红椒,杭红椒,牌咖喱,稍微切小点,肉泥,熟栗子,母,法棍儿,薯条,巨峰葡萄,血糯米,水➡拌曲用,正山小种,蔓越苺干,嫩马齿苋,水麦芽,以上为夏季配方,油封鸭腿,消化饼干片,西米,花椒水,水饴,小圆子,脱水优格,去核大枣,混合杂粮,艾草,葡萄,菌粉,慕斯底,水发海参,冰晶糖,橄榄葵花油,王守义炖肉十三香,丘比香甜色拉酱,秘制味噌混合酱,玫瑰花苞,小米粥,果蔬粉,慕斯馅,鸭架,白醋,亨氏番茄沙司,各式水果干,照烧汁,米粉干,红糖,优质大米,饼条,糟卤,vanilla,酪奶,黄原胶,王后日式吐司粉,番茄浆,兔腰子,卷饼皮,意大利面条,花胶只,馕,菌酱,谷物粉,面筋,洋酒,原料,湿乌冬面,大喜大黄金咖喱,大黄米,有机菜花,槟榔芋头,建水米线,液种速溶酵母,小红枣,净石头,白冰糖,密封玻璃罐,大雪花梨,栗子仁,vegetable_oil,黏米粉,寿司醋等,灵芝,凤爪,低面,银珠装饰糖,大喜大烤肉酱,細砂糖,南德,紫苏叶,寸活底派盘,花椒麻椒,饼干体,黑橄榄圈,哈里萨辣酱,坨坨馍,生榨椰子汁,切椒圈,甜醋汁,前夹心肉,面种,海底椰,普通,黃片糖,ginger,杂粮米,意大利香醋,白色植物起酥油,即溶酵母,披萨皮,簿百叶,柠檬叶子,墨西哥面饼,混合豉汁料,去核切片,莲藕节,戚风,小碗,雪花梨,甜面酱,anise,饺子馅,魔芋丝,如图所见,黑糯米,财神蚝油,料汁,紫薯君,覆馅,腌粉,卵磷脂,高丽参,肋小排,蔬果,藕粉淘宝,长扁豆,儿菜,盘子,红色甜彩椒,parmesan_cheese,软糖,意面香料,水发木耳,王后粉,fermented_radish,山药根,白芷片,老鸭,泡米椒,椰奶冻,川贝母,耐低糖酵母,泰国绿皮柠檬,熟油海椒,温度计,盐,乌江榨菜,小芋头,撻皮,日式炒面,自己可以改良,米凉粉,桂花肠,鲜柠檬,水芹,油汁油,海带,生蜂蜜,红曲米粉,调味料,寸饼皮,卡仕达奶油酱,毛刷,表面装饰糖霜,辣椒糊,巴瑞脆片,槲叶,海产品,酸梅,披萨饼皮,安琪复配油条蓬松剂,天椒,盐一小撮,树叶,二味水,栗子泥,五谷杂粮,老恒,过滤水,小塑料袋,川椒段,青辣椒剁椒,寸披萨饼皮,鹅肝,米浆,红椒粉,花椒,鲜山药,冰糖四,肝,彩椒,黑椒,苏打饼干,需自备油,茄子根,手擀粉,老面酵头,其它,cantaloupe,酱料部份,麦丽素,南乳汁,pork,约,咸菜,糖融化,自腌雪菜,芡汁,面包丁,mango,水儿,小圆饼干,苕粉,竹米粉,其余配料如肉肠,料理话梅,阳江豆豉,绿椒,葡萄糖浆,消化饼干,長茄子,杯,金丝小枣,青辣椒红辣椒,泡辣椒,竹签,塔菜,烤松子仁,水鸭,卤肉料,详见简介中,舒可曼纯糖粉,沙茶,馅,家乐浓汤宝,面筋丝,肋排软骨,蕃茄沙司,生栗子,胚芽,三汁酱甜面酱,砂仁,鲜辣味粉,raisin,爱必思咖喱,川砂仁,熊猫吃翔工具,型号,桂冠香糯小圆子,伍斯特沙司,老卤水,千层面皮,太平奶盐梳打,海天海鲜酱,黄柠檬汁,柠檬,面包吐司,黄彩椒,剁椒酱汁,“装饰”,玉竹,鸭头,谷优原味饼干,腔骨,橘子酱,青杭椒,粗面,枣子,部分,藤椒粉,地胶,嫩肉粉,月香甜辣酱,太太乐原味鲜,郫县辣酱,红花椒,魔芋块,蒸魚醬油,越南米粉,去边吐司,草苺粉,花椒粉,臭粉,普通细面条,oat,椰子,酪乳,彩糖珠星星糖片,粗白砂糖,纯可可脂,花椒末,通心面,料汁碗,其它原料,甜酱,月子酒,老醋,腌肉料,室水,熟莲子,只要一小块,莲角,是拉差辣椒酱,油泼辣椒,五仁,桂花层,cucumber,梦咖喱酱,榨菜丝,泡菜,金虫草花,红枣片糖,醪糟曲,放干辣椒,油炸干红椒,寸戚风,蜜桂花,百合干,哈尔滨红肠,瓠瓜,酸柠檬,orange_juice,意式沙拉酱,黄芽菜,电磁炉,淡盐水,分量,白苦瓜,枫糖,泡椒,低糖速溶酵母,蘸粉,寸圆形戚风,好梦多咖喱,米线料包,蒿子秆嫩尖,醪糟水,表面装饰椰蓉,肉脂粉,cod,高糖酵母,配料烤肉酱,第点,这样装饰,意式香料,豆鼓酱,strawberry,凉水,艾草汁,金钱草,粘米粉,芥菜,罐头肉,不沾神器,奶黄陷配料,仔鸭,火锅肉片,用量根据自己调整,橘子皮,蚝干,比萨草,配方奶,金桔,紫薯粉,千岛酱,二条青,泰式甜辣酱番茄酱白糖,茄子条,韩国辣椒面,藤椒,舒可曼,搅匀备用,盎司,早范|海石花草,砂糖橘,纯米醋,擀面杖,…,青藤椒,盒装咖喱,香槟醋,老干妈辣三丁油辣椒,麻椒粉,芥末汁,着绵白糖,玫瑰盐,擀面棍,泡发银耳,鸭胸,手套,绢丝豆花预拌粉,当年,夹馅以及装饰,泡椒朝,老饶家糖桂花酱,奶油抹酱,幼砂糖,小红泰椒,锁骨,手工切饼,韩国砂糖,袋装栗子磨茸,士力架,大青椒,茉莉香米,腐乳汁,热干面,紫薯层夹心层,必选,爱心夹层,心,时蔬,白糖一,碱粉,量,caraway,冰片糖,镜面水,红剁椒,栗子仁儿,秘制特调咖喱酱汁,广式腊肠根,奶,芦苇叶,金宝酥,塑料泡沫,切面,鳝片,原汤,sesame_oil,工具,香兰叶,重庆火锅底料,洲星马蹄粉,蜂蜜芥末酱,高湯,恒顺香醋,马莲草,生面条,野山葡萄,辣椒段,无心莲子,yogurt,白莲子,白干辣椒,orange,食用塑料袋,青红椒圈,熟大米,梅林午餐肉,辣青椒,青红小米尖椒,hazelnut,米,风味豆豉酱,腐乳块,好梦多日式咖喱,牧场色拉酱,单位是,白莲,金箔,mint,拉面饼,彩椒末,棍,布,宝鼎牌糟卤,口碱,水可以不用,肥瘦相间肉末,吐司盒,黄浆部分,锥栗,马斯卡彭,荔浦芋头,甜醋,谷物脆片,rice,派皮,无核桔子,烹饪用番茄酱,配方,瓣,雪碧,冰冻成熟香蕉,泰式青柠,炖肉包,翅中,果肉泥,无籽黑提,麦芽糖,佐料,白汁,蚕豆米,黄椒,阴米,婴儿大米米粉,龙眼肉,恙,山楂干,半听,麻薯层,红莲蓉,黑枣,茶干,☆水,迭迭香,镊子,木耳,芦蒿,熟糕粉,兔子,红椒丝,苤菜根,玫瑰红糖汁,烤制用,子,批萨酱,peach,眼肉,泥鳅,“”,花豆,发酵,丸子,红椒切丝,白雪葡萄籽油,酸浆水,小元宵,糖小贴士有注明,铝箔纸,椒油,棉线绳,粉浆,apple,香辣豆豉,表面涂层,黑米面,土蜂蜜,日本青芥辣,kidney_bean,桂冠小元宵,塔皮冷藏水,金虫草,山药豆,养乐多,广式腊肉,沾米粉,酸奶菌粉,常水,白糯米,法国老面,桔子酱,三能油纸,五仁馅,玫瑰茄,腐乳汤,支竹,青红黄彩椒,无核橘,肉寇,烤角豆粉,水草,椰浆毫升,roasted_almond,枇杷,柠檬盐,京味香肠,雪菜,日式冷面汁,辛夷,青红尖椒各,水饺皮,鲜鸭舌,糖衣,其余食材,薏仁粉,高达牌椰浆,粉色,镜面,梗米,雪耳半,韩国面饼,玫瑰,③中空圆模,普通版干料,泰椒,南非冰草,款式辣酱,卤肉包,酥,无添加红糖,果蔬汁,张亮微博官方酱汁,开洋,配料沙拉酱,brandy,饵块,passion_fruit,安琪百钻米发糕预拌粉,四川老坛泡酸罗卜,糯米小圆子,味全,野蕨菜,小香肠,夹馅,汤种,大枣干去核,粉,火锅底料,红色果膏,桂枝,波美度糖浆,优益,椰丝,松肉锤,生切年糕,粗芥末,粉丝盐,白凉粉,豆浆,卡仕達醬,山楂干片,辣椒酱,柠檬汁几滴,walnut_milk,海带丝,能多益,桂片,茄汁面酱料,海凉粉,段,亨氏番茄酱,浆果,吐司丁,披萨肠,照烧酱,波兰酵头,火锅料,关于甜度,去皮蚕豆,安琪酵母,美人椒,金盘,生板栗,寸圆形派盘,剩面,白蔻,黄,复制红油,毛芋头,盐小撮,葡萄醋,装饰栗子肉,紫苏,年糕片,精肉,用白醋,金牌高达椰浆,辣子,盐油,米肠,水果味糖浆,凉拌菜,是午餐肉,沙糖桔,粉皮一张,挞皮,酸奶馅,番茄酱,东阿阿胶,玫瑰糖,熟莜面,番茄糊,蜂蜜桂花,清汤,洲星牌马蹄粉,蕨菜,奶粉～可加可不加,水仙芒,中筋面粉表面装饰,仙草冻所需食材,玫瑰水,蕃茄膏,桂圆干,饼干底部分,刷子,鲜酵母,六必居干酱,白涼粉,青红尖椒,净肥肠,枧水,去芯干莲子,麻辣料油,椰花糖,薏米仁,玫瑰花果酱,pumpkin,带皮排骨,鸭,粗棉绳,面皮儿,北非小米,饺子粉,腊肉,watercress,细粉丝,奶香吐司,百页,长尖椒,杂蔬丁,生米,红果,韩国年糕,鹰栗粉,西米粉,慈溪本地杨梅,关于馅儿料⚠️,甜辣味,matsutake,鲜面条,台湾凤梨,bell_pepper,柠檬角,纯水,烧汁料,胎菊,荸荠白,鸭爪,德庄干锅香料,绿圆椒,秋葵,新疆烤馕,蜂蜜糖,七谷物粉,葡萄井凉糕粉,桂花糖年糕,伍斯特郡醬汁,酸豇豆,饴糖,若干颗,红绿尖椒,桂花酱,藕粉,小木耳,四川泡酸菜,醋水,金桔蜜饯,火锅用年糕,蚕豆,兰香子,大乌梅,水碗,卤水包,毛肚,硬吸管,盐巴,红糖红枣糊,椰浆部分,灯笼泡椒,细幼砂糖,大蔥,燕子酵母,椒麻酱,鲍汁,火锅汤,泡菜酱,爪子仁,嫩香椿,辣椒末,面包原料,薄脆,红心山芋,明胶片,桂冠沙拉酱,表面装饰梨,草寇,满天星,烂腌菜,根据人数自己斟酌,蒸用水,茶粉,寿喜锅酱汁,海蛎,麻辣油,爱他美,小青橘,嫩菠菜,小番茄干,桔皮,鲜竹荪,韩国辣椒酱,西芹块,白芷,包,宜宾芽菜,海苔片,泰国双象糯米,风味豆豉,瞅上面哈,黑椒早餐肠,热油,赤藓糖醇粉,野山椒,碳酸水,红米,奶黄馅儿,油豆皮,根,蒸肉米粉,响螺片,百里香,肉末豆芽,红椒圈,ceylon_tea,钉螺,冷冻饺子,鲜榨桂林米粉,银丝粉,茨实,表面刷液,小仁仙,小气球,黄心菜,奶油香缇,淮山,white_wine,喂养酵种,薏米,大阪烧,田玉枣,黄金糖浆,烧烤汁,肉米,所有谷物总量,柠檬片片,低筋,爱意,油面筋球,巴斯米醋,手工辣香肠,法式芥末酱,龙眼蜜,细海盐,耐糖酵母,soybean,第一种,烧仙草粉,冷冻杂蔬丁,老椰子,弹表皮配料,星形糖,吐司模量,红色砂晶糖,小海蛎,色拉菜,水妈妈河粉,碱面,马铃薯,短糙米,意大利香料,标准粉,霸王花,藕带,皮屑,可乐,白\\u200d糖,绿美人椒,法式面包专用粉,液种细砂糖,食用小苏打,烤肠,叉烧,寸可可戚风,酸奶发酵剂,荔浦芋头泥,栗子酱,烘焙酒,栗米粉,醇味鲜,鸭肝,盐渍紫苏梅,太阳谷,发粉,千张丝,面粉白,法国色粉粉红色,面粉糊,芥末子,番茄泥,香辣豆豉酱,红枣等,奶粉酵母,酸奶油配方,慕斯,泡芙体,仁汉菜,高達牌椰浆,棉绳,南乳,甘粟仁,糖醋汁,香椿,二荆条,jasmine_tea,天然酵母,香茹,龙须面,装饰彩糖,意大利酱,研磨海盐,辣油,味达美,可乐毫升,数,炸制fish_ball,黑凉粉粉,吉香居,八丁味噌,alcoholic_beverage,奥利奥利奥饼干,吐司,淮山等等,黄柠檬,椰奶层,pistachio,杂果,韩式甜辣酱,香味料,豆瓣儿酱,亚麻籽油,狗牙菜,四川泡辣椒,迷你彩椒,枳壳,铜钱草,水面,basil,汤种部分,现采蒿叶,热油条,辛拉面,各式蔬果,花朵模型,凉拌汁,茄子,金针菜,绿茄子青椒,孑然粉,泰式黄咖喱,海蓝,细黄糖,石灰,奶椰浆,食物油,大枣颗,焦糖,圆白糯米,辣椒粉,水要要预留点,糖面部分,糖浆果干,粉肠,皇中皇香肠,酸梅汁,红砂糖,烩面坯,冷冻速食飞饼,中空戚风,日晒海盐,研磨盐,饼皮糖,蹄筋,五分量,mung_vermicelli,冷冻千层酥面皮,派皮水,亚麻籽等,各,扁尖,饼皮部分,鲜虫草花,吉丁利片,peanut,卤肉配料,竹蔗节,小青椒,吉利片,浓度为%糖水,手工细面条,vodka,剁椒辣椒酱,白条年糕,黑砂糖,辣酱都行,点缀,白芷等中药,肉类,棕叶,五香面,麻薯,鲜茅根,早餐肠,土,纱绳,桂林米粉,柠檬海盐,黄芥末,青蛙,蚝油,garlic_moss,速冻饺,皮,薯片,柠檬凝乳,冬虫夏草,冰红糖,蒸面,糖渍板栗仁,市售咖喱,黄蔗糖,无糖藕粉,韩国炒年糕酱,oyster,豫生园去核红枣,黑毛肚,米粉,长尖青椒,苦苣,红枣片,烤翅粉,梨子,空心菜梗,青红尖椒只,小号慕斯圈,小刷子,甘纳豆,红丝绒溶液,①,披萨馅配料,黑橄榄,椰青,白巧,浸泡用水,空心菜,鹅掌,天然果蔬粉,插电小炖锅一口,泡红辣椒,龟苓膏粉,稍肥肉糜,地菜花,\\u200d密封罐,有机大黄米,炸腐竹,提子,蒸肉粉,小茴,前腿肉,茨菰,哥顿金酒,紫薯馅用糖,表层部分,红肠,起司片,果干,seed,桂林辣椒酱,油泼辣子,荠菜花,种面,厨房用纸,\\u200d糖,馒头渣,犹太盐,全麦面包片,彩椒块,营养！,砚水,甘椒粉,巴黎水,鸭舌,内馅,红烧汁,筚拨,金沙奶黄馅,血皮菜,皂角米,酒酿,嫩鸭,盐水梅,方便面,大酱,罂粟籽,丘比焙煎沙拉汁,芋圆,黑糖转化糖浆,台州米粉,竹碳粉,当归,天然酵母液,佩斯,泡泡糖浆,七星干辣椒段,以上都是生重,以上为人份,冬豆,果蔬,永川豆豉,泰式甜辣醬,叉烧酱,手指头,奶油夹馅,广东腊肠,碟豆花泡水,酸奶浓稠,有机杂粮面,榄菜,花椒油,小王子玩偶,恒顺香醋年陈,食用水,花掓,金钱腱,镜面果胶,滚水,邑,碗汁↓↓,甜炼乳,舒可曼砂糖,霉干菜,汉堡胚,沁州黄小米,雪豆,馄饨,去壳老椰子,整张海苔,pea,红提,烧烤蜜汁,番石榴,云南酸菜,蕨根粉,板栗,螺丝粉,青红彩椒,叽汁,里海,艾草嫩叶,鳝断,青红花椒,玫瑰花,老豆角,塔巴斯科辣酱,月饼皮,红,现成寸披萨皮,原浆米醋,沙茶酱,宽粉,绞肉,细食盐,老坛泡菜水,鳝丝,水发肉皮,黑布林,盒装混合沙拉菜,其它粉,腌肉,小肋排,蜜汁叉烧酱,拉面,穿心莲,方砖红糖,杂蔬,椰蓉,〔五香滷包〕,上下管度分钟,香兰草汁,粉丝圆饼,头月饼花片,雀巢炼乳,黄小米,度碱水,面条菜,妙脆角,白椒粉,柠檬汁,香糟卤,旺旺黑米雪饼半包,老坛酸菜,凉粉,可尔必思,腌制盐,肉排,绿尖椒,山奈,细条茄子,紫色,红线椒丝,柿饼,越南春卷皮,摆盘装饰,辣椒花椒油,青红丝,家庭比萨酱,辣椒粉粉,普罗旺斯香料,黄金面包糠,菱角,日本味素,麻汁,竹荪,桂花蜜,京式甜酱,山药,酒曲,新疆若羌红枣,普通食盐,中,水油酥,无糖椰丝,青黄红椒,卡夫奇妙酱,小尖红辣椒,麻椒,海苔丝,紫米粥,腊肠,味精粉,快速酵母,菠菜色拉,么么哒,水毫升,香肠,六寸圆模,绿色,豆瓣辣酱,豆瓣醬,義大利黑醋,芋子,clam,决明子,青金橘,香锅底料,各式,生瓜,葵花籽混合物,土冰糖,保鲜膜,黄咖喱,低筋面,无糖苏打水,饺子,咖喱膏,雀巢可可味滋滋,skim_milk,去核干红枣,青丝玫瑰,普通麦芽糖,净化水,厚百叶,糍粑海椒酱,辣椒,红莲子,各式海鲜,配料部分,茄汁,练乳,passion_fruit_juice,肉末,六寸可可戚风,奶黄包配料,甜桂花,琼脂粉,辽参,棉线,火煺片,韭黄段,香辣酱,黑醋汁,排骨汤,色膏,东北江米,大红枣,板栗馅,葛粉,面条,马蹄肉,面包装饰,包子皮,粽箬,日式味淋,花椒粉）,去皮生芋头,feta_cheese,香椿苗,红鲟,红辣子,生豆面,蜂蜜水,红咖喱酱,corn_flake,soy_sauce,水皮,烹调油,莜麦粉,老干妈风味豆豉,冷冻派皮,一品鲜,大胖茄子,小汤圆,寸派盘,挞馅柠檬,とんかつソース,枸杞子泡发,肉丸子,豆皮,芋头,王守义十三香,熟板栗,鸭腿肉,东北大拉皮,午餐肉罐头,榨菜末,仙草粉,夏黑葡萄,吉士粉,orange_peel,酒杯,紫米杂粮米糊,椰蓉馅,熟肉片,九度米醋,卤料包,李派林酸甜汁,绿花椒,双色彩椒,不带壳海鲜,山乃,靑椒,直径厘米盘,老黄糖,丘比沙拉汁凯撒沙拉口味,辣椒圈,rye_bread,冰糖,麻薯预拌粉,味料,大麦叶青汁粉,贡丸,尖椒,青海椒,烧汁,铺面薄香蕉片,宽面,浏阳豆鼓,腊肠根,柠檬叶,蜂蜜加水,鲜手工面,月饼粉,七彩椒,迷你肠,凤眼果,耐高糖酵母,陈醋,白盐,公仔牌方便面,可可液块,水混合物,以上共计,贵州蘸水椒,醯官醋,分割线,肉,chickpea,chinese_star_anise,小苏打,小站稻米,油,黄金幼砂糖,食用盐,烫水,披萨馅,饺子皮,莲花白,无铝油条膨松剂,口味增加肉类,半只,青尖椒,卤料,煮糖用,肉丝,鲜味蚝油,辣,转化糖浆,三色藜麦,榛仁,流沙,番茄,粗线,凯撒沙拉汁,转印纸,泡软粉丝,去边白吐司,泰国香米,红丝绒精华,意式混合香料,大冲辣椒酱,烧烤粉,引子,刨子,熟印度香米,整颗板栗,橄榄菜,即时酵母,镜面层,clove,慕斯部分,白木耳,味精等,腌咸菜,青咖喱酱,盐匙,味精,透明胶带,宗家府泡菜,号意粉,长豇豆,肉蔻,杯子,广式风味腊肠,嫩秋葵,红泡椒,凤梨娴馅,韩国烤肉酱,馄饨皮,锅碗瓢盆,水东芥菜,熊爸森林腊肠,安琪酵母粉,食用纯碱,玫瑰醋,裸麦蜂蜜欧包,雪里蕻,butter,炼乳,海蛎子,红油,粉盐,蜜蜂,原味厚吐司,惠州甜梅菜,花椒若干,面饼配方,cured_pork,肉片,荔浦芋,马琳混合物,鲜粽叶,特细辣椒粉,粉糖,混合香料,筛子,刀豆,好梦多咖哩,玩偶,辛拉面面饼,黄糖,珍珠,熟紫薯,天贝,消化饼,茅根一小把,海兔,烤鸭酱,白百叶,春菊,糯米小元宵,醋几滴,拉汁,扁豆,韩国泡菜,raspberry,豆苗,芝味油,老干妈,表面装饰糯米粉,muskmelon,辣酱,彩椒红黄,油咖喱,花椒干红椒,紫线茄子,给宏德海盐,紅棗,山芋,番茄沙司酱,古方红糖,大麦若叶青汁,松饼,暖灯,家庭酱,梅菜,红枣泥,十三香,纯酿白醋,香辣甜咸混合酱,马蹄粉,红制辣椒,面包片,卡仕达馅布丁,水发黑木耳,黃油,纯藕粉,无糖椰奶,清美鸭血,太白粉,湖南剁椒,皇冠梨,鲜芋头,也可以用椰蓉,虎皮,泰国大米,小红杭椒,green_bell_pepper,红腐乳汁,菜根,苕尖,奶冻层,辣红油,酱汁,椒丝,透明慕斯围边,大米五,热爱早餐,见简介,葁蓉,表面装饰糖粉,罂粟仔,小排,河粉,红心番薯,winter_melon,罗汉果,apricot_kernel,豆豉豆瓣蚝油,红苕尖,山楂,东北大米,长糯米,妈妈秘制辣椒酱,红干辣椒,shiitake,豆薯,酸甜酱,冰糖「根据人口味添加」,汤圆皮,鹃城牌香辣酱,碱水面,甘草各,tea_oil,橘子汁,致美斋添丁甜醋,喷壶,小蒸笼,赤藻糖醇,鸽子,黑糖,梨,水饺,篮子,料理盆,原味飞饼皮,肉絲,mashed_potato,湖头米粉,韭黄,思念飞饼,调,白寇,米芽菜,冷冻薯条,楂干,皮冻,油面,面皮,日式拉面,即可,栗蓉馅,泰椒若干,大盐,柠檬沙拉汁,海藻糖,家用白砂糖,洛神,豆奶,比萨酱,奥利奥去掉夹心,英式麦芬,任意口味果酱,芥末粉,紫米馅,雪里荭,麦青汁粉,椰枣,淮山药,红烧肉,水疙瘩头,尖椒根,老干妈豆鼓,曼越莓,百叶,板栗肉,油条,chicken_broth,焖烧罐,布丁模子,泰式柠檬叶,剁椒条,秋梨,蕃茄,金银花,即食海参,果,鲜黄花,披萨面饼,拌浆用,面,料酒,鲜木耳,西胡,小冰糖,grain,腐,美乃滋,营养酵母粉,广东香肠,麦仁,素丸子,带壳海鲜,意式番茄酱,海椒花椒,橘皮丁,鲜山楂,盐之花,椰汁层,涂料,披萨饼配料,scallop,刺芹,祖名香干,冰淇淋粉,青红椒,米酒,莴苣,喼汁,月日见！,镇江香醋,提前准备,bitter_almond,䓤,竹漏,句子,橘子,鮮忌廉,麦青汁,缎带,鹅,花嫩藕,麻线,美国冷冻薯条,食用海盐,川椒,韩国幼砂糖,烘烤,提拉米苏,嫩茄子,上海宝鼎糟卤,浓豆浆,蹄髈,山椒水,去籽干辣椒段,麻辣烫底料,耐高糖速溶酵母,紫糯米馅,鲜尖椒,奶冻,soybean_oil,慕斯糊,低糖酵母粉,改良剂,海苔,果子,优质白砂糖,皮筋,豆筋,塔皮盐,纯豆浆粉,roasted_chicken粉,冰,salmon_roe,备用盐,鸭肠,柠檬片,桂圓,squid,寸活底模,伊利白油,雀巢鹰唛炼乳,腌青橄榄,番茄汁,烤架,大台芒,曲奇饼干,三明治片,奥勒冈,香芋馅,香松,鲜美人椒,金钩,奶香芋泥,卤肉,云苓,oatmeal,老干妈红油辣椒,细白砂糖,烤肉酱,小屿,茼蒿菜,糖,椰浆部份,姜,椰奶饮料,肉糜瘦肥,turmeric,毛肚丝,披萨草,四川酸菜,柠檬馅,caviar,机器猫表情用油,肠衣,芥蓝,东非头花胶筒,饼底料,内馅部分,烟台梨,越橘干,细糖粉,枣仁,迷你香肠,指椒,煉奶,煎饼,混合沙拉叶,小馄饨皮子,bullfrog,血糯米黑米,黑醋,鹅油,韩式炒年糕辣酱,滇红,fermented_tea,内酯,紫薯泥,辣皮子,土鸭,桂圆,豆卜,菠蘿蔔,种混合香料,冬菜,红枣枸杞,长米,筒骨,糙米,美极鲜味汁,walnut,大梨,速冻丸子,寿司海苔,酥性饼干,黑木耳,肉冻,泡芙,小红尖椒,果泥,法国白色色粉,大紫薯,咸肉,vinegar,水果双拼类,塑料围边,火晶柿子,腿肉,蜜饯,辣椒仔,人份用量,无糖消化饼,老陈醋,栗子蓉,凯撒沙拉酱,料洒,prawn,豇豆,马蹄,原味薯片,亨氏番茄酱原味,大橘子,黄花,黄片糖,活跃酵种,天然气灶,中等大小香蕉,乌冬面,红醋栗,油面筋,青椒红椒黄椒,深碗,小毛芋,冬枣,栗子茸,撒尿丸,紫米馅儿,月饼模,宇峰白凉粉,魔芋结,生石灰,外婆剁辣椒,夹馅儿,小镊子,七星椒,tofu,红糟,湘西腊肉,红色玫瑰洛神花茶,七叶瓜,绿葡萄,沙拉酱,味霖,硅胶垫子,sunflower_oil,谢记烧仙草粉,面浆,糊辣椒粉,肉酥,芽菜末,意大利面,九制乌梅,鲜艾叶,魔芋丝结,做法,豆饼,青椒丝,陕北横山香谷小米,蜜渍柠檬,菜干,薄脆片,香料包,荠菜,奶油忌廉,香蕉,红糯米,绿苦瓜,莲子,任意吐司,线,①酸奶慕斯层,“奶酥”,筷子,派皮盐,其它佐料,表面涂抹,配菜,食用米,山西老陈醋,发菜,芋头花,大连鲍,茯苓茅根水,精盐,辣肠,葡萄籽油,枸杞干,赤味噌,莓,上新粉,红米苋,蓝风车,剁椒酱,葁末,甜柿,奥利奥饼,山黄皮,水约,肋排,蒿子秆,金橘,白皮小茄子,沙蚬,切丁,双手,纯精肉,党参,調味料,浓缩柠檬汁,过熟香蕉,面包体,法棍,白吉馍,全部汤种,吉利粉,固体咖喱,粗粮粉,泰式辣酱,颈部肉,糯米皮,红天椒,乳鸽,太古黄金幼砂糖,糖浆,婆参,竹蔗,水贻,兰度豆,捞汁,丘比沙拉酱甜味,参考分量,加水调匀,starfruit,海蛎干,卤水汁,寸活底圆模,海带结,朵,黑米醋,%黑巧,金边玫瑰,红辣椒?️,rosemary,白莲蓉,ぽん酢,王后whole_grain_wheat_flour,面粉各配,混合果干,四柠檬,小米香蕉,法国色粉天蓝色,湿料,黄色剁椒酱,塘,cream_cheese,炼乳罐头,松子油,果肉,青芥末,醯官醋原浆米醋,小酒,净水,廣東,古方桂花黑糖,去核红枣颗,青椒末,老干妈辣椒酱,炖肉料,栗子肉,黄鳝,cocoa,青桔,苏打粉,白玉,鸭边腿,酵母粉,细挂面,mussel,薏仁,粽绳,红咖喱,龙蒿,香料干辣椒,cranberry,辣根,金不换,豆豉香辣酱,红辣椒末,鲜山药约,盖菜,红丝绒,炼乳糖,鮮貝,酸奶』,青介辣酱,无铅泡打粉,椰子汁,鹵料,陶瓷,百合,麦芽糖浆,花椒叶末,意式香醋,糖醋汁儿,莲藕粉,泡椒汤,去皮熟紫薯,圆肉,炒制配料,椰子肉,双效无铝泡打粉,比例兑成照烧汁,海绵宝宝意面,古法手工红糖,醋,带骨兔肉,吉丁片,四川红油,另外,乌冬面露,红色干辣椒,燕饺,小茶杯,顶部装饰,青花椒油,二荊条,青岛凉粉,刷表面用,秘制酸甜酱汁,糖水,原味吐司片,老干妈豆豉酱,花辣,galanga,方腿香肠,oregano,可口可乐,熟粉,蔥,天然酵母酵头,成品酸奶毫升,混合小丸子,蚕豆瓣,egg,梅干菜,红参,水果切,小,chicken_broth腌酱,酸枣仁,剁辣椒,椒盐粉,九阳鲜米,纯粮白醋,酪,純淨水,豆酱,瘦叉烧,米线帽子,糖煮栗子,棉织花边绑带,炸fish_cake,麦当劳番茄酱,薏仁米,意大利无铅玻璃罐,大枣,不粘金盘,chocolate,小粉,馅心,湖南米粉,原味卷饼,裱花,全麦吐司片,kiwi,方法一,大茄子,纯脂白巧力,野山椒泡椒水,琵琶腿,盐！,老面,青花椒,有机菠菜,全部切瓣备用,白面包片,涪陵榨菜,酱包瓜,椰汁,有机维酵母纯素起司粉,rye_flour,砂糖二,soysauce,母乳,豆干,black_bean,小杭椒,减脂椰浆,水豆豉,糟卤汁,泰国小红泡椒,柑橘,mozzarella_cheese,二,草,凉水碗,其它肉类,纯糖粉,舒可曼红糖,披萨酱,桔子,黑裸麦粉,白玉皮,川见丸子,市售卤料包,中筋面粉中,燕条,双效泡打粉,冷冻披萨饼,藕节,老干妈辣酱,菜,国产大枣,金燕酵母,炒熟糯米粉,冰粉粉,八瓣,辣椒面,果料威士忌,米线,饼干,新竹米粉,红椒青椒,红青椒片,泰式甜辣酱,味极鲜,garlic_sauce,食用香精,银珠糖,nut,推介配料,秋霞火锅底料,热量约大卡,粟粉,意面番茄酱,青椒片,沸水,米醋,奥利奥饼干去白色夹心,豆粉,泮塘马蹄粉,辣椒片,斑兰叶,十三香粉,水浸,柠檬液,布朗尼,毛肚片,红黄绿彩椒,cauliflower,萨拉米肠,云南墨江紫米,沙拉,凯里红酸汤,汽水,可选配料,二荆条辣椒,菠菜泥,jelly,食油,紅薯粉,小红米椒,夹心肉,木耳片,谷朊粉,酸奶吸管,栗子馅,snap_bean,月饼,凉拌,potato,太古砂糖,可可,大油,盐糖少给宝宝吃,果糖,手工面,小米大米各,等,安琪烧烤粉,宽扁豆,熟糯米粉各一半共计,内馅食材,人参,提拉米蘇手指餅,日式咖喱膏,小仁鲜,对翅,柠檬丝,珍珠糖,almond_milk,藜麦,枸杞叶,营养酵母,植物白油,紫薯冻干粉,caraway_seed,泡红椒,芋丝,薏米粉,中间层液体,白薯,油浸橄榄,青茄子,马兰头,山柰,浙醋,桂花糖酱,小红莓浓缩汁,菠菜一小把,蔗糖,黑加仑干,紫薯馅,调肉馅佐料,zucchini,清补凉煲汤料,镇江陈醋,海苔肉松,醋栗,云吞皮,鲜斑斓叶,辣松,低卡酱汁,肉饼,黄黏米粉,trassi,溫水,卷入,秘制红咖喱酱汁,美味鲜精油,桂花糖,罂粟,绿色植物叶子,大排,起司,太妃酱,谷类,热狗肠,圆粉条,尤加利,红色色粉,筛网,水量,糖半匙,桂花蜂蜜,大匙,老,糯米,排草,大芋头,昆布,①包子皮,九层塔,臊子,白米,黄色彩椒,蒸,糖针,fish_can,比例,八寸翻倍,净玫瑰花瓣,麦冬,寿司帘,鲜土茯苓,cider_vinegar,macadamia_nut,可可白脱,红辣椒油,香梨,碱,小青桔,韩式烧烤酱,方腿,粉藕,鹧鸪,海天鲜抽,甜薯泥,彩糖,特调咖喱,西洋参粉,糖可以根据自己口味适当增减,麻辣红油料,油辣椒,料油,散式菜花,奶油部分,根去皮,荷叶,sea_bass,红皮梨,长条紫茄,山泉水,千张,黑米,秘制红烧汁,奶油用砂糖,红米辣,绿咖喱,广肠,二者混合,思朗饼干,即食海苔,竹炭份,半根,三萘,味素,天猫进口金车厘子,海苔粉,果仁,手粉适,青柠檬汁,油辣子,出汁,‼️‼️,豆芽蚝油,欧包切片,长筷子,碱水,糙米面,水比例,黄砂糖,装饰层,酱肉料包,胡罗卜,雪耳,墨江紫米,泡海椒,大骨,排骨粉,原种,婴儿奶粉段,腊肉块,青皮桔子,细麦芽粉,慕斯酱,黑糖蜜,lemon_peel,色拉汁,白泡沫板,籼米粉,salad_dressing,粗白糖,阿香婆香辣酱,韩式辣酱,寿司用海苔,石榴米,如上,搜罗网上视频,黄芽白,板栗仁儿,饮用水,大长茄子,麻辣粉,去硬壳板栗,瓠子,番鸭,甘栗仁,花椒盐儿,其,浪花,砂糖,candy,青线椒切小段,涂抹用油分量外,celery,糯米年糕,鸭珍,柠檬汁滴,枣,陳皮,鸭锁骨,红绳,天然冰糖,五寸模,蜜,特百惠不锈钢锅具,菠菜面,麻辣红油,熟松子,金粉,桂圆肉,一字肋排,熟元麦粉,腊鸭腿,小西芹,麻汁酱,海虹,可以按比例,藤椒油,油醋汁,冬阴功酱,寒天粉,随,糕粉,无铝泡打粉,融化,青江菜,紫贝菜,粉莲藕,味啉,流心部分,醬油,饼馅,锅酱,梨汁,梨各半只,圆茄,榆钱,插牌,丘比色拉酱,盐一小捏,法兰福香肠,水,正方形海苔,香酥,制过辣椒酱,川贝,黑巧,带骨肋条,肉花肠,红糖块,’,沙拉酱汁,糕面,三次添加,鸭肉,时令鲜菌,红醋,鲜米线,中筋,金桔饼,黄花胶筒,其它食材,马兰,菜苔,意大利黑醋,细棉线,光明冰砖,色拉酱,冰激凌,品种,vanilla_oil,味事达味极鲜,小青龙,黄冰糖,尖嘴钳等工具,甜饼干,易小焙家用月饼馅,红片糖,西芹丁,无麸质版干料,金色珠糖,菌丝生活益生菌酸奶发酵剂,鲜抽,紫色长茄子,月饼糖浆,奶油焦糖酱,太古糖粉,全麦天然酵种,粉条,宁化糯薏米,家常面条,shrimp_balls,香料,无糖椰浆,备汤,龙骨,紫薯粉等等,黄黍米面,粽叶,大米,奶黄馅,台湾话梅,纯正马蹄粉,切片,白色棉花糖,栗子,丘比沙律酱,冷馒头,鲜红辣椒,通脊肉,看步鄹,豆瓣水,切片年糕,韩式热狗芥末酱,老鸭子,cabbage,斑斓汁,青蛾,莲蓉,香干,普通红辣椒,籽,一卤香,美极,米线汤汁,海肠,雪梨,方片吐司,芥菜疙瘩,麻鸭,骨汤,豆芽菜,金,牙签,黑,蕃茄酱,beer,醪糟,薯粉,红苋菜,古法老红糖片,黄芪,一小段,熟黑米,麦牙糖,小米泡椒,糖霜部分,青酱,青椒撕片儿,麻辣香锅底料,片状酥油,寿司用大张海苔,稻花香,西蓝花,方法蒸,馒头屑,涂抹,关于脱模,马桥香干,黄金鲳,盐糖,鸭肫,小红线椒,咖喱酱,卡真粉,元肉干,手工意大利面,甜青椒,石冰糖,中型紫薯,cardamom,unkonwn,糖心配料,海天味极鲜,枣泥馅,薄皮青椒,翅尖,冰糖三,西芹茎,龙口粉丝,带子,酱甜面酱,面粉糠,肉松等,花雕,总统,小柠檬,绵白糖,英式黄芥末,混沌皮,放心油条,酸奶菌种,天妇罗粉,火锅年糕,年糕,酒糖液,小菜秧,发现汤更白,片状年糕,微波炉,圓糯米,家常泡椒,香苜蓿,寿司用烤海苔,番茄罐头,糯米面,烧烤酱,去皮香蕉,食用醋,octopus,蚬子,苦瓜根,甜不辣,长柄盐渍樱花,脆藕,蚬子肉,泡菜汤,普通肉松,山楂酱,鲜红椒,調理たけのこ,长条茄子,机器均可,炸酱,细粉条,小米,asparagus,花椒面,灭活罂粟籽,饼干层,lard,什锦杂菜,五香料,烤海苔,老汤,cheddar_cheese,番茄醬,紫薯馅用紫薯泥,密封壶,糖酒液,小干调味料,出炉表面刷液,vegetable,塔皮糖,豆瓣,低糖酵母,black_tea,小金桔,椰浆粉,秦椒粉,荠荠菜,大米粉,炼乳一,九制话梅,grapefruit,熟肉末,自家卤,叻沙汤底,去壳,\\u200d盐,年糕辣酱,韓國海苔片,太古黄金糖浆,制作,不锈钢,酿造白醋,白藜麦,红青椒,白粉丝,味增,花螺,寸戚风模,无核红枣,山西陈醋,烫水{约度},白豆干,直条形意大利面,酸奶菌,辣尖椒,红尖椒,菌粉一包,硬面烧饼,欢乐指数,棉白糖,红辣椒丁,spearmint,草苺糖粉,白糖少量,花胶,生鴨舌,装饰糖,速冻饺子,玫瑰花干,折耳根,玫瑰花瓣,有问题请仔细看贴士,日式咖喱,black_pepper,三棵,香蕉泥,珍珠米,宁波年糕片,小天椒,双汇王中王,水怡,凉皮,盐渍樱花,比较有劲道就是比较弹牙哦！,非洲冰草,熟花椒面,冷水,重油豆瓣辣椒酱,竹轮,宜家小玻璃罐,全麦吐司,绿彩椒,动物性奶,肉松,盘锦大米,威化饼干,老干妈酱,泡椒茸,条状年糕,中翅,小麦胚芽,四寸胚子,松软芋头半,双汇香肠,广式九制话梅,酵母,批萨草,pork_liver,奉化芋头,做成酱香豆角丝炒饼增加下列食材,椰粉,面粉数量,黑加仑,乐扣美特乐方盒,披萨饼寸,山芋粉丝,方腿肉,布丁杯,川味臘腸,饼坯,罐装番茄酱,黑麦天然酵种,冰粉,泡椒水,方便面一包,红糖粉,糯米粉,；,三鲜火锅底料,辣豆豉,甜味剂,水➡蒸米用,糖珠,各色丸子,莴苣叶,shallot,寸派皮,马来西亚三角盏,吐司片,白糖冰糖,耐高糖活性酵母,熟油辣椒,大根条,麻糬,雪里红,鲜榨柠檬汁,圆豆,青红椒末,练奶,酵梅,荷兰豆,揣面用粉,脱脂奶,甜豆荚,泰国红咖喱酱,blueberry,bacon,螺旋意面,排骨,soybean_paste,去皮,面包团,披萨酱配方,蜜糖,大肠,赤砂糖金黄幼砂糖都行,丁片,莲藕,话梅,辣椒干,皮萨草,怀山药,酸石榴,树椒,油盐糖,鸭掌,红椒切块,绿芥末,海椒,桂花干,去核黑橄榄,松子仁,印度飞饼皮,寸烟囱戚风,低温慢煮鸭胸,石螺,夜香花,舞茸,盐茶匙,液种,手指年糕,黑葡萄,玛丽亚消化饼干,夏巴塔,海蛎子肉,},香料一包,鲜香茅段,柠檬汁数滴,奶冻布丁,luffa,马连,卤味香料,柠檬蜜,鸭脯肉,火锅食材,蒸盘,三角,韩式辣椒酱,无糖椰蓉,贝母粉,油皮,细长条茄子,肉胶,去心莲子,木糖醇转化糖浆,桑葚果酱制作用量,螺丝椒,加加味极鲜,咖喱,不放,wine,戚风卷部分,斑斓汁部分,↓,粗棉线,豆豉,长条青椒,伊面,檸檬皮,意粉,ham,青汁,亨氏小轻纯沙拉酱,蒿子,小年糕,虫草,饼皮配方'"
      ]
     },
     "execution_count": 76,
     "metadata": {},
     "output_type": "execute_result"
    }
   ],
   "source": [
    "x_ingredients"
   ]
  },
  {
   "cell_type": "code",
   "execution_count": 77,
   "metadata": {},
   "outputs": [],
   "source": [
    "pattern =re.compile(u'[\\u4e00-\\u9fa5]+')\n",
    "result=re.findall(pattern,x_ingredients)"
   ]
  },
  {
   "cell_type": "code",
   "execution_count": 78,
   "metadata": {
    "collapsed": true
   },
   "outputs": [
    {
     "data": {
      "text/plain": [
       "['粉葛',\n",
       " '斑斓叶',\n",
       " '海天牌海鲜酱',\n",
       " '东莞米粉',\n",
       " '烧烤料',\n",
       " '张',\n",
       " '速冻汤圆',\n",
       " '红无籽葡萄',\n",
       " '燕窝盏',\n",
       " '麻薯粉',\n",
       " '山楂粉',\n",
       " '芋头泥',\n",
       " '豆豉辣酱',\n",
       " '白扁豆',\n",
       " '大米糙米',\n",
       " '各式果酱',\n",
       " '生紫薯',\n",
       " '二次添加',\n",
       " '木薯粉',\n",
       " '裱花嘴',\n",
       " '鲜柠檬片',\n",
       " '黑野米',\n",
       " '中间破洞',\n",
       " '玻璃碗',\n",
       " '桔子叶子',\n",
       " '液体',\n",
       " '密封袋',\n",
       " '波萝',\n",
       " '王后柔风吐司粉',\n",
       " '四川泡红辣椒',\n",
       " '西贡酱汁',\n",
       " '炒面',\n",
       " '味好美椒盐粉',\n",
       " '偷懒',\n",
       " '黄辣丁',\n",
       " '可颂',\n",
       " '小麦胚芽粉',\n",
       " '乳酸菌',\n",
       " '糖渍桂花',\n",
       " '豆制品',\n",
       " '红枣净肉',\n",
       " '芥末酱',\n",
       " '北芪',\n",
       " '黑色',\n",
       " '美奶滋',\n",
       " '朝天红椒',\n",
       " '台式香肠',\n",
       " '腌制青橄榄',\n",
       " '各式火锅涮菜',\n",
       " '低糖莲蓉',\n",
       " '鸭胗',\n",
       " '卡士达酱',\n",
       " '表面刷',\n",
       " '紫苏梅',\n",
       " '马蹄粉半盒',\n",
       " '紫茄子',\n",
       " '美极鲜',\n",
       " '甜沙拉酱',\n",
       " '糖油',\n",
       " '表面白砂糖',\n",
       " '海苔香松',\n",
       " '新',\n",
       " '植物油',\n",
       " '鸭翅',\n",
       " '表面',\n",
       " '大麦青汁粉',\n",
       " '密封罐',\n",
       " '速冻小圆子',\n",
       " '莲蓉馅',\n",
       " '萨拉米香肠',\n",
       " '炸菜丝',\n",
       " '红枣肉',\n",
       " '奶酥',\n",
       " '炙制乌梅',\n",
       " '番茄丁',\n",
       " '青红泡椒',\n",
       " '琼脂',\n",
       " '白寇各',\n",
       " '疆烤馕',\n",
       " '里脊',\n",
       " '一糖',\n",
       " '香芋泥',\n",
       " '益母草',\n",
       " '辣豆瓣醬',\n",
       " '原味沙拉酱',\n",
       " '白线',\n",
       " '彩虹糖',\n",
       " '市售黑椒汁',\n",
       " '木铲',\n",
       " '藍莓',\n",
       " '当归片',\n",
       " '熏肉',\n",
       " '花香藕',\n",
       " '冰皮月饼粉',\n",
       " '汁',\n",
       " '饼干底',\n",
       " '水若干',\n",
       " '龙眼干',\n",
       " '一次添加',\n",
       " '芽菜肉绍',\n",
       " '锡纸',\n",
       " '麻辣鲜',\n",
       " '寸饼底',\n",
       " '复配油条膨松剂',\n",
       " '不是就是',\n",
       " '草绳',\n",
       " '重庆干红辣椒',\n",
       " '无核小枣',\n",
       " '石榴',\n",
       " '泸州老窖',\n",
       " '黄糯小米',\n",
       " '小里脊',\n",
       " '浓醇奶味类',\n",
       " '锡箔纸',\n",
       " '液态酥油',\n",
       " '春卷皮',\n",
       " '大扁豆',\n",
       " '甜菊糖',\n",
       " '水果类',\n",
       " '蓝色海洋',\n",
       " '杞子',\n",
       " '热水',\n",
       " '面包干',\n",
       " '面饼用量',\n",
       " '竹筒',\n",
       " '松柳苗',\n",
       " '带皮咸肉',\n",
       " '碗',\n",
       " '雀',\n",
       " '圆豆角',\n",
       " '熏干鸭腿',\n",
       " '薯仔',\n",
       " '肉松辣松',\n",
       " '杯',\n",
       " '装饰',\n",
       " '酵头',\n",
       " '用量',\n",
       " '迷你奥利奥',\n",
       " '芽菜',\n",
       " '镇江恒顺香醋',\n",
       " '小馄饨皮',\n",
       " '白糖粉',\n",
       " '糯黄小米',\n",
       " '麻椒油',\n",
       " '红干尖椒',\n",
       " '鸭后腿',\n",
       " '柠檬汁替代',\n",
       " '食材如下',\n",
       " '彩椒红黄绿',\n",
       " '东北酸菜',\n",
       " '切丝',\n",
       " '波本',\n",
       " '腐竹',\n",
       " '第二部分',\n",
       " '鲜芦苇叶',\n",
       " '卤肥肠',\n",
       " '山楂糕',\n",
       " '餐巾纸',\n",
       " '熟板栗仁',\n",
       " '元西米',\n",
       " '火锅面',\n",
       " '雪梨肉',\n",
       " '金针茹',\n",
       " '泡发黑木耳',\n",
       " '一撮撮白糖',\n",
       " '沙拉汁',\n",
       " '外售饺子皮',\n",
       " '绿西米',\n",
       " '酸奶发酵粉',\n",
       " '圆盘',\n",
       " '里几肉',\n",
       " '山萘',\n",
       " '火锅粉',\n",
       " '糖桂花汁',\n",
       " '恒顺镇江香醋',\n",
       " '马头兰',\n",
       " '去皮前上肉',\n",
       " '酒精提神类',\n",
       " '米酸汤',\n",
       " '红枣',\n",
       " '冰草',\n",
       " '鹰牌粟粉',\n",
       " '婴儿七种谷物米粉',\n",
       " '白色陶瓷碗',\n",
       " '茭白',\n",
       " '乌枣',\n",
       " '江西米粉',\n",
       " '寿司醋',\n",
       " '小米粉',\n",
       " '水腊肠',\n",
       " '谷元粉',\n",
       " '时令鲜蔬',\n",
       " '油纸',\n",
       " '滤网',\n",
       " '美味',\n",
       " '润唐内脂',\n",
       " '小干红椒段',\n",
       " '鲜切面',\n",
       " '椰树牌椰汁',\n",
       " '烤具',\n",
       " '食用面碱',\n",
       " '金像',\n",
       " '翅根',\n",
       " '白米醋',\n",
       " '减脂便当',\n",
       " '番茄片',\n",
       " '梅子',\n",
       " '风干香肠',\n",
       " '圆柱形年糕',\n",
       " '冰糖粉',\n",
       " '鲜花',\n",
       " '甜辣酱',\n",
       " '所有标量都是',\n",
       " '豇豆角',\n",
       " '直面',\n",
       " '细砂糖',\n",
       " '三线肉',\n",
       " '小眼睛装饰糖',\n",
       " '子排',\n",
       " '川贝母粉',\n",
       " '野木耳',\n",
       " '烧烤用竹签',\n",
       " '味噌酱',\n",
       " '青麻椒',\n",
       " '蒸熟去皮紫薯',\n",
       " '苦菊',\n",
       " '盐等',\n",
       " '桶装薯片',\n",
       " '味会更鲜',\n",
       " '椰桨',\n",
       " '芋泥',\n",
       " '彩色装饰糖',\n",
       " '蹄花',\n",
       " '螺旋藻粉',\n",
       " '度冷水',\n",
       " '即发干酵毌',\n",
       " '七喜',\n",
       " '银糖珠',\n",
       " '可以自由搭配',\n",
       " '配料包',\n",
       " '新良小麦胚芽',\n",
       " '味琳',\n",
       " '有机黑米',\n",
       " '曲奇',\n",
       " '有机乌冬面',\n",
       " '酵母水',\n",
       " '原味炼乳',\n",
       " '青梅',\n",
       " '片栗粉',\n",
       " '稻花香米',\n",
       " '手指椒',\n",
       " '意大利免洗圆米',\n",
       " '芥菜头',\n",
       " '度白醋',\n",
       " '豬肝',\n",
       " '鲜百里香',\n",
       " '前腿精肉',\n",
       " '香蕉根',\n",
       " '辣味肉松',\n",
       " '无核蜜枣',\n",
       " '涪陵榨菜丝',\n",
       " '红尖椒五六',\n",
       " '意面酱',\n",
       " '莲白',\n",
       " '杨梅层',\n",
       " '青柠檬',\n",
       " '红枣放冷水泡一小时',\n",
       " '木耳菜',\n",
       " '单山蘸水',\n",
       " '老卤汁',\n",
       " '绿青椒',\n",
       " '红加仑',\n",
       " '梅干',\n",
       " '陈村粉',\n",
       " '面酱',\n",
       " '青柠汁',\n",
       " '水淮山',\n",
       " '小青辣椒',\n",
       " '熟紫薯丁',\n",
       " '芋泥层',\n",
       " '褐色老椰子',\n",
       " '山楂条',\n",
       " '辣鲜露',\n",
       " '油酥',\n",
       " '潮汕冬菜',\n",
       " '燕窝一至盏',\n",
       " '方便面饼',\n",
       " '小红椒',\n",
       " '东北大酱',\n",
       " '寸披萨饼底',\n",
       " '豆皮丝',\n",
       " '椒节',\n",
       " '甜辣椒粉',\n",
       " '豆角',\n",
       " '青椒红椒',\n",
       " '千层皮',\n",
       " '派盘',\n",
       " '蝶豆花茶冻成水',\n",
       " '掌中宝',\n",
       " '白干',\n",
       " '细圆挂面',\n",
       " '栗子水',\n",
       " '高粱米',\n",
       " '桢水',\n",
       " '山药泥',\n",
       " '茶匙',\n",
       " '紫米',\n",
       " '蘸酱',\n",
       " '海鲜',\n",
       " '部队拉面',\n",
       " '黑百叶',\n",
       " '准备天然酵种',\n",
       " '红黄彩椒',\n",
       " '微量白糖',\n",
       " '红油辣椒',\n",
       " '片',\n",
       " '槟榔芋',\n",
       " '上白糖',\n",
       " '小红川椒',\n",
       " '饼皮制作',\n",
       " '椒盐',\n",
       " '石槲',\n",
       " '角瓜',\n",
       " '菜脯',\n",
       " '碗汁',\n",
       " '婴儿米粉',\n",
       " '芋头拿铁',\n",
       " '黏高粱米',\n",
       " '带皮腿肉',\n",
       " '汤',\n",
       " '砂糖一',\n",
       " '油条膨松剂',\n",
       " '冰淇淋球',\n",
       " '百叶结',\n",
       " '玫瑰酱',\n",
       " '酵种',\n",
       " '黒豆豉',\n",
       " '云腿',\n",
       " '大饼',\n",
       " '配送作料酱包',\n",
       " '缸豆',\n",
       " '银耳糊',\n",
       " '麻酱',\n",
       " '茯苓块',\n",
       " '柠檬蜂蜜',\n",
       " '白参',\n",
       " '果仁总量',\n",
       " '苏打角饼干',\n",
       " '蝦皮',\n",
       " '头抽',\n",
       " '度热水',\n",
       " '何首乌',\n",
       " '所以本宫没放盐',\n",
       " '原味优酪乳',\n",
       " '鲜芦根',\n",
       " '皮料',\n",
       " '果仁之类',\n",
       " '香椿芽',\n",
       " '汉斯意面酱',\n",
       " '香茅',\n",
       " '南食召',\n",
       " '马苏',\n",
       " '糖水栗子',\n",
       " '棍子面条',\n",
       " '腌雪菜',\n",
       " '食品袋',\n",
       " '薑',\n",
       " '冷面汁',\n",
       " '木糖醇细砂糖',\n",
       " '洗净',\n",
       " '陴县豆瓣',\n",
       " '番茄干',\n",
       " '豆瓣酱',\n",
       " '馅儿',\n",
       " '蛇豆',\n",
       " '爱心饼干切模',\n",
       " '黄节瓜',\n",
       " '花奶',\n",
       " '辣椒红油',\n",
       " '蜜渍桂花',\n",
       " '竹甘蔗',\n",
       " '红栆',\n",
       " '石榴等',\n",
       " '哈尔滨香肠',\n",
       " '大米粥',\n",
       " '空心菜秆',\n",
       " '豉汁',\n",
       " '响螺',\n",
       " '太太乐',\n",
       " '高筯面',\n",
       " '大碗',\n",
       " '汁',\n",
       " '宽粉条',\n",
       " '李派林喼汁',\n",
       " '食用闪烁色粉',\n",
       " '丘比沙拉酱',\n",
       " '红辣椒剁椒',\n",
       " '鳀调味料',\n",
       " '易拉罐',\n",
       " '热狗',\n",
       " '酱制乌梅',\n",
       " '红辣椒红尖椒',\n",
       " '工具三角尺',\n",
       " '半只',\n",
       " '只',\n",
       " '洋蔥',\n",
       " '熟毛肚',\n",
       " '夹心',\n",
       " '柠檬挤汁',\n",
       " '香料粉',\n",
       " '韩式辣椒粉',\n",
       " '熟肥肠',\n",
       " '肉糜',\n",
       " '百力滋',\n",
       " '红枣去核',\n",
       " '塔皮',\n",
       " '老干妈豆豉辣椒酱',\n",
       " '上汤',\n",
       " '玛丽饼',\n",
       " '鸭舌头',\n",
       " '呗',\n",
       " '大香蕉',\n",
       " '奶油用糖',\n",
       " '小银耳',\n",
       " '胡麻酱',\n",
       " '腐乳',\n",
       " '鲜柿子',\n",
       " '白扣',\n",
       " '去籽红枣',\n",
       " '白',\n",
       " '百奇饼干',\n",
       " '黄灯笼辣酱',\n",
       " '毫升',\n",
       " '小香干',\n",
       " '光鹅',\n",
       " '蝶豆花汁液',\n",
       " '表面装饰黑',\n",
       " '全麦卷饼',\n",
       " '青金桔',\n",
       " '青橄榄',\n",
       " '鹰粟粉',\n",
       " '秘制怪味酱',\n",
       " '沙律酱',\n",
       " '腩肉',\n",
       " '泰式绿咖喱酱',\n",
       " '越南米纸张',\n",
       " '七味粉',\n",
       " '一',\n",
       " '鲜柠檬汁',\n",
       " '老干妈豆豉',\n",
       " '五香粉花椒粉',\n",
       " '长青椒',\n",
       " '三根',\n",
       " '水约度',\n",
       " '紫色茄子',\n",
       " '磨糯米粉',\n",
       " '盒',\n",
       " '卤味包',\n",
       " '炒肉末',\n",
       " '葵花籽仁',\n",
       " '粽针',\n",
       " '装饰面',\n",
       " '蒂',\n",
       " '白水',\n",
       " '华丰三鲜伊面',\n",
       " '瑤柱',\n",
       " '凉水即可',\n",
       " '千里香',\n",
       " '天贝菌',\n",
       " '若羌特大灰枣',\n",
       " '茼蒿',\n",
       " '装饰糖粉',\n",
       " '凉粉籽',\n",
       " '麻辣酱',\n",
       " '执着',\n",
       " '热爱生活',\n",
       " '山药半截',\n",
       " '鲜人参',\n",
       " '鲜椒',\n",
       " '豆芽',\n",
       " '糖霜',\n",
       " '方糖',\n",
       " '寸戚风一片',\n",
       " '姑娘果',\n",
       " '面水浆',\n",
       " '细面',\n",
       " '飞饼',\n",
       " '色粉',\n",
       " '白味噌',\n",
       " '绳子',\n",
       " '甘草',\n",
       " '荞面',\n",
       " '日式炒面酱',\n",
       " '长茄子',\n",
       " '鲜肉',\n",
       " '剁椒',\n",
       " '西湖藕粉',\n",
       " '青红椒块',\n",
       " '洋芋',\n",
       " '白吐司',\n",
       " '披萨饼',\n",
       " '参见下厨房食谱',\n",
       " '青汁粉',\n",
       " '细条紫茄子',\n",
       " '原味甜炼乳',\n",
       " '鲜辣椒',\n",
       " '大鹅',\n",
       " '真露',\n",
       " '红椒干',\n",
       " '咸奶油部分',\n",
       " '红糖水',\n",
       " '竹木耳',\n",
       " '生拉面',\n",
       " '糖盐',\n",
       " '金蚝干',\n",
       " '馒头',\n",
       " '红彩椒',\n",
       " '汉源花椒',\n",
       " '表面装饰红枣',\n",
       " '熟栗子仁',\n",
       " '肠粉粉',\n",
       " '苦苣等',\n",
       " '不够再加',\n",
       " '螺丝形意面',\n",
       " '韩国辣椒粉',\n",
       " '吉列丁片',\n",
       " '印度飞饼',\n",
       " '肥肠',\n",
       " '金丝肉松',\n",
       " '孝母',\n",
       " '西米露',\n",
       " '高筋面',\n",
       " '普通白米',\n",
       " '沙拉菜',\n",
       " '混合椒盐',\n",
       " '白莲蓉馅',\n",
       " '玛利亚消化饼干',\n",
       " '安琪普通酵母',\n",
       " '椰子片',\n",
       " '海带片',\n",
       " '鲜辣椒根',\n",
       " '脆骨排',\n",
       " '食醋',\n",
       " '乌梅干',\n",
       " '千张豆皮',\n",
       " '不粘布',\n",
       " '酸',\n",
       " '细盐',\n",
       " '兩條',\n",
       " '汤圆汤料',\n",
       " '内馅柠檬凝乳',\n",
       " '猫耳朵',\n",
       " '鲜果',\n",
       " '银耳',\n",
       " '谷优消化饼',\n",
       " '白绵糖',\n",
       " '喜马拉雅粉盐',\n",
       " '装饰水果若干',\n",
       " '英式奶油酱',\n",
       " '粗海盐',\n",
       " '味醂',\n",
       " '红枣提前用水泡洗一下',\n",
       " '小米淘洗一遍',\n",
       " '水麦芽糖',\n",
       " '常规佐料',\n",
       " '煮熟',\n",
       " '三能金波斜纹吐司盒',\n",
       " '熟松仁',\n",
       " '醋精',\n",
       " '炸粉',\n",
       " '长豆角丁',\n",
       " '熟油',\n",
       " '白梨',\n",
       " '寸淋面',\n",
       " '全脂椰蓉',\n",
       " '红美人椒',\n",
       " '粗圆面',\n",
       " '重庆花椒',\n",
       " '玻璃罐子',\n",
       " '舒可曼细砂糖',\n",
       " '高粱',\n",
       " '泡山椒',\n",
       " '腐泡',\n",
       " '份',\n",
       " '万能炸粉',\n",
       " '粳米',\n",
       " '细红糖',\n",
       " '表面糖浆',\n",
       " '开花肠',\n",
       " '龙须挂面',\n",
       " '烫手',\n",
       " '话梅肉',\n",
       " '腊肠丁',\n",
       " '饼干配料',\n",
       " '海椒面',\n",
       " '纯黑巧',\n",
       " '黄色果膏',\n",
       " '肉丸',\n",
       " '度水',\n",
       " '树皮',\n",
       " '细心',\n",
       " '馅儿配料',\n",
       " '混合水果干',\n",
       " '宁夏无硫枸杞皇',\n",
       " '香醋',\n",
       " '蠔油',\n",
       " '黑麦饼干',\n",
       " '川贝粉',\n",
       " '派馅',\n",
       " '辣子角',\n",
       " '黄皮',\n",
       " '饼皮部份',\n",
       " '酸奶慕斯',\n",
       " '青椒红尖椒',\n",
       " '无添加白醋',\n",
       " '胶带',\n",
       " '枸杞大约',\n",
       " '枇杷老叶',\n",
       " '白味增',\n",
       " '黑胡婌',\n",
       " '里叶白莲',\n",
       " '纳豆',\n",
       " '红绿彩椒',\n",
       " '木',\n",
       " '云南单山蘸水',\n",
       " '去核红枣',\n",
       " '各色果干',\n",
       " '山楂片',\n",
       " '甜豆角',\n",
       " '蒟蒻丝',\n",
       " '白油',\n",
       " '扁豆角',\n",
       " '辣椒若',\n",
       " '拉瓜',\n",
       " '榨汁器',\n",
       " '板栗仁',\n",
       " '厚吐司',\n",
       " '栀子',\n",
       " '大冢梦咖喱',\n",
       " '红色小尖椒',\n",
       " '客家娘酒',\n",
       " '脆皮肠',\n",
       " '红椒',\n",
       " '青皮甘蔗',\n",
       " '面包馅儿料',\n",
       " '千张皮',\n",
       " '白馒头皮',\n",
       " '第戎芥末酱',\n",
       " '小菜',\n",
       " '花椒料包',\n",
       " '芝果',\n",
       " '咸盐',\n",
       " '普宁豆酱',\n",
       " '齿中号花嘴',\n",
       " '全麦消化饼干',\n",
       " '燕窝',\n",
       " '无味明胶粉',\n",
       " '硅胶',\n",
       " '蕨根粉丝',\n",
       " '鲜马蹄',\n",
       " '小尖椒',\n",
       " '香料若干',\n",
       " '枸杞等混合果干',\n",
       " '面包糠',\n",
       " '当然要有豆角',\n",
       " '细辣子粉',\n",
       " '洛神花',\n",
       " '白糖',\n",
       " '薄口醤油',\n",
       " '青',\n",
       " '辣椒只',\n",
       " '番薯',\n",
       " '白粥',\n",
       " '白膘',\n",
       " '裹表皮用',\n",
       " '阿胶',\n",
       " '潮汕',\n",
       " '番茄中等大小',\n",
       " '午餐肉片',\n",
       " '淋面',\n",
       " '奶油奶',\n",
       " '直茄子',\n",
       " '亨氏喼汁',\n",
       " '调色用',\n",
       " '红辣妹子椒',\n",
       " '冰镇雪碧',\n",
       " '手粉',\n",
       " '柠檬半',\n",
       " '落基山白色棉花糖',\n",
       " '意式黑醋',\n",
       " '石灰水',\n",
       " '日本盐渍樱花',\n",
       " '好奇心',\n",
       " '墨西哥薄饼',\n",
       " '长线椒',\n",
       " '通脊',\n",
       " '蚕豆仁',\n",
       " '白酒',\n",
       " '黑枸杞',\n",
       " '黑',\n",
       " '可可脂',\n",
       " '老鸭汤',\n",
       " '椰漿水',\n",
       " '普通水',\n",
       " '线绳',\n",
       " '优格',\n",
       " '棉花糖',\n",
       " '藕尖',\n",
       " '酸梅酱',\n",
       " '暖水',\n",
       " '腌香椿末',\n",
       " '十三香料包',\n",
       " '安琪米发糕预拌粉',\n",
       " '青芥辣',\n",
       " '鲜藕',\n",
       " '针菜',\n",
       " '海鲜酱',\n",
       " '气泡水',\n",
       " '二荆条青椒',\n",
       " '油酥制作',\n",
       " '腌料',\n",
       " '酱',\n",
       " '六月黄',\n",
       " '蚬肉',\n",
       " '儿童优酪乳',\n",
       " '生面',\n",
       " '滇味香腸',\n",
       " '玫瑰花酱',\n",
       " '丑耳',\n",
       " '墨西哥卷饼',\n",
       " '耐高糖安琪酵母',\n",
       " '红曲素',\n",
       " '麦维他消化饼',\n",
       " '雀巢鹰唻炼乳',\n",
       " '蜜枣',\n",
       " '煤气灶',\n",
       " '圆青椒',\n",
       " '赤藓糖醇',\n",
       " '油皮部分',\n",
       " '面筋包',\n",
       " '红辣椒面',\n",
       " '蔬果泥',\n",
       " '椰浆',\n",
       " '鲜百合',\n",
       " '貝',\n",
       " '洋梨',\n",
       " '即食海苔脆片',\n",
       " '石斛',\n",
       " '韩式年糕',\n",
       " '底盘',\n",
       " '日式烧烤汁',\n",
       " '泰国甜辣酱各',\n",
       " '仔排',\n",
       " '花椒冰糖',\n",
       " '即食海苔片',\n",
       " '食材',\n",
       " '卤汁蚝油',\n",
       " '刀',\n",
       " '槟榔',\n",
       " '毛竹篾',\n",
       " '粗砂糖',\n",
       " '百分百天然酵种',\n",
       " '发面',\n",
       " '家乐点蘸鲜露',\n",
       " '披萨',\n",
       " '麻辣火锅底料',\n",
       " '极美滋',\n",
       " '素蚝油',\n",
       " '色拉油',\n",
       " '辣面',\n",
       " '糖水蜂蜜',\n",
       " '蜂蜜',\n",
       " '黑米粉',\n",
       " '螺旋意大利面',\n",
       " '吐司厚片',\n",
       " '甜味沙拉酱',\n",
       " '黄喉',\n",
       " '大波浪薯片',\n",
       " '小酥打',\n",
       " '饼皮小苏打',\n",
       " '油炸面筋',\n",
       " '意大利香脂醋',\n",
       " '黄糖片',\n",
       " '美奶兹',\n",
       " '等量就行',\n",
       " '西洋芹',\n",
       " '韩式辣年糕酱',\n",
       " '装饰砂糖',\n",
       " '方形吐司',\n",
       " '麝香',\n",
       " '百里香叶',\n",
       " '此方不太甜',\n",
       " '原',\n",
       " '元宵',\n",
       " '枣泥',\n",
       " '菱角菜',\n",
       " '整形需要',\n",
       " '芋圆所需食材',\n",
       " '肉汁碗',\n",
       " '川湘辣酱',\n",
       " '海盐',\n",
       " '碗料',\n",
       " '柠檬水',\n",
       " '大根',\n",
       " '枇杷叶',\n",
       " '高丽菜',\n",
       " '橘皮',\n",
       " '烘焙油纸',\n",
       " '竹炭粉',\n",
       " '炒糯米粉',\n",
       " '焦糖饰品',\n",
       " '泡豇豆',\n",
       " '肉圆',\n",
       " '鲜栗子',\n",
       " '酸荞头',\n",
       " '赤砂糖',\n",
       " '法式第戎芥末酱',\n",
       " '广式枣泥馅',\n",
       " '荜拨',\n",
       " '糯米馅',\n",
       " '不要加糖不要加糖不要加糖',\n",
       " '香辣油',\n",
       " '澳洲带子',\n",
       " '木耳干',\n",
       " '云南酱',\n",
       " '白色',\n",
       " '肉馅',\n",
       " '熟化魔芋粉',\n",
       " '东北黑木耳',\n",
       " '酸菜',\n",
       " '藕片',\n",
       " '饼底',\n",
       " '班戟粉',\n",
       " '清醋',\n",
       " '可以多加些辣酱',\n",
       " '八寸慕斯圈',\n",
       " '份量',\n",
       " '乳酸菌粉',\n",
       " '熟透香蕉',\n",
       " '柠檬浓缩汁',\n",
       " '小云吞',\n",
       " '桑葚果酱',\n",
       " '野山莓果酱',\n",
       " '味林',\n",
       " '麻薯馅儿',\n",
       " '千层派皮',\n",
       " '意大利细面',\n",
       " '老干妈豆豉辣酱',\n",
       " '味蚝鲜蚝油',\n",
       " '川味红油',\n",
       " '圆椒',\n",
       " '红辣椒',\n",
       " '泡野山椒',\n",
       " '小咸菜',\n",
       " '淸水',\n",
       " '无糖豆浆',\n",
       " '南京桂花鸭',\n",
       " '看步骤',\n",
       " '蒿子杆',\n",
       " '冰糖桔',\n",
       " '花肉',\n",
       " '意大利宽面',\n",
       " '细尖椒',\n",
       " '香甜味沙拉酱',\n",
       " '天麻',\n",
       " '另需水一盆',\n",
       " '虎皮卷部分',\n",
       " '鲜香椿',\n",
       " '滚烫水',\n",
       " '鲜青花椒',\n",
       " '里海酸奶菌粉包',\n",
       " '三',\n",
       " '梅汁',\n",
       " '红曲粉',\n",
       " '饼干部分',\n",
       " '松子',\n",
       " '小青柠',\n",
       " '油酥部分',\n",
       " '市售糖桂花',\n",
       " '镜面盐渍樱花',\n",
       " '豬肉',\n",
       " '千层',\n",
       " '桂园',\n",
       " '六级',\n",
       " '黑片糖',\n",
       " '柠檬屑',\n",
       " '浸泡液',\n",
       " '肉排骨',\n",
       " '夏枯草',\n",
       " '刺山柑',\n",
       " '兔肉',\n",
       " '肉沫',\n",
       " '智利',\n",
       " '生香肠',\n",
       " '淡椰浆',\n",
       " '烘焙石',\n",
       " '也以不放',\n",
       " '青线椒',\n",
       " '椰子糖',\n",
       " '草蔻',\n",
       " '菱角肉',\n",
       " '芽白',\n",
       " '前夹肉丁',\n",
       " '月饼面皮',\n",
       " '厚切吐司片',\n",
       " '鲜杨梅',\n",
       " '游水桂花',\n",
       " '柿子',\n",
       " '水冰',\n",
       " '汤圆',\n",
       " '披萨底',\n",
       " '蒸锅水',\n",
       " '腌制肉类',\n",
       " '太古黄砂糖',\n",
       " '辣椒皮',\n",
       " '中层',\n",
       " '年糕条',\n",
       " '鲜榨青柠檬汁',\n",
       " '糖水水',\n",
       " '流心馅',\n",
       " '糕片',\n",
       " '优质脂肪油',\n",
       " '小颗柠檬汁',\n",
       " '韩国甜辣酱',\n",
       " '辣青',\n",
       " '蝴蝶面',\n",
       " '六寸戚风',\n",
       " '辣皮',\n",
       " '鸭心',\n",
       " '熟大香蕉',\n",
       " '爆米花',\n",
       " '熟糯米粉',\n",
       " '香芋',\n",
       " '果酱',\n",
       " '康乐醋',\n",
       " '若羌红枣',\n",
       " '红枣干',\n",
       " '提子干',\n",
       " '意式混合干香料',\n",
       " '灰枣',\n",
       " '蓝色汁液',\n",
       " '手工挂面',\n",
       " '食用调',\n",
       " '韭苔',\n",
       " '蜂蜜芥末籽油醋汁',\n",
       " '密封保鲜盒',\n",
       " '扁意面',\n",
       " '黑椒粉',\n",
       " '浓椰浆',\n",
       " '桂花',\n",
       " '天然酵种',\n",
       " '麦卡伦年',\n",
       " '紫花椒',\n",
       " '昆布粉',\n",
       " '腌渍料',\n",
       " '豆鼓',\n",
       " '紫苏糖浆',\n",
       " '鲜海参',\n",
       " '意面专用番茄酱',\n",
       " '小橘子',\n",
       " '泡打',\n",
       " '云南昭通酱',\n",
       " '卡宴辣椒',\n",
       " '冰皮配方',\n",
       " '魔芋',\n",
       " '五香豆干',\n",
       " '肉松馅',\n",
       " '糖桂花',\n",
       " '水果泥',\n",
       " '鲜豇豆',\n",
       " '可选',\n",
       " '喜马拉雅矿物盐',\n",
       " '石蜂糖',\n",
       " '青苋菜',\n",
       " '魚露',\n",
       " '老冰糖',\n",
       " '香蕉干',\n",
       " '块',\n",
       " '此面包味道微咸',\n",
       " '普通大米',\n",
       " '熬粥用米',\n",
       " '润肠根',\n",
       " '细纱糖',\n",
       " '香米',\n",
       " '去皮熟板栗',\n",
       " '凉糕粉',\n",
       " '五香粉',\n",
       " '八寸活底圆模',\n",
       " '午餐肉',\n",
       " '木糖醇',\n",
       " '绵线',\n",
       " '乳清',\n",
       " '汤种配方',\n",
       " '花米',\n",
       " '九层塔叶',\n",
       " '椴木银耳',\n",
       " '黑巧克力',\n",
       " '装饰彩珠',\n",
       " '酸豆角',\n",
       " '田大枣',\n",
       " ...]"
      ]
     },
     "execution_count": 78,
     "metadata": {},
     "output_type": "execute_result"
    }
   ],
   "source": [
    "result"
   ]
  },
  {
   "cell_type": "code",
   "execution_count": 129,
   "metadata": {},
   "outputs": [],
   "source": [
    "for index,row in x_ingr.iterrows():\n",
    "    if (re.search('裱花嘴',row.ingredients)!=None) or (re.search('密封袋',row.ingredients)!=None) or (re.search('碗',row.ingredients)!=None) or (re.search('偷懒',row.ingredients)!=None) or (re.search('铲',row.ingredients)!=None) or (re.search('不是就是',row.ingredients)!=None):\n",
    "        x_ingr.drop(index,inplace=True) "
   ]
  },
  {
   "cell_type": "code",
   "execution_count": 130,
   "metadata": {},
   "outputs": [],
   "source": [
    "for index,row in x_ingr.iterrows():\n",
    "    if (re.search('勺',row.ingredients)!=None) or (re.search('瓶',row.ingredients)!=None) or (re.search('笔',row.ingredients)!=None) or (re.search('箱',row.ingredients)!=None) or (re.search('棒',row.ingredients)!=None) or (re.search('容器',row.ingredients)!=None) or (re.search('纱布',row.ingredients)!=None):\n",
    "        x_ingr.drop(index,inplace=True) "
   ]
  },
  {
   "cell_type": "code",
   "execution_count": 131,
   "metadata": {},
   "outputs": [
    {
     "name": "stdout",
     "output_type": "stream",
     "text": [
      "['生老抽', '配料生抽', '老抽烧烤汁', '冰糖生抽', '生抽毫升', '海天金标生抽', '生抽~老抽', '生抽酱', '鲜生抽', '老抽生抽', '厨邦美味鲜生抽', '生抽柠檬', '老抽共', '冰糖老抽', '厨邦特级鲜味生抽', '炖料老抽', '生抽～老抽', '薄盐生抽', '照烧汁老抽', '厨邦生抽', '天成一味生抽', '生抽蚝油够咸了', '老抽毫升', '生抽王', '鲜味生抽', '生抽', '海天味极鲜生抽', '生抽水', '海天老抽', '老抽', '盐蚝油生抽白糖', '生抽少量', '生抽三分之', '金标生抽', '老抽老抽', '海天生抽', '海鲜生抽', '味事达特级金标生抽', '生抽老抽', '味极鲜生抽', '锦珍生抽', '生抽味美鲜', '普通生抽']\n"
     ]
    }
   ],
   "source": [
    "# 酱油 soysauce\n",
    "soysauce_str=[]\n",
    "for index,row in x_ingr.iterrows():\n",
    "    if (re.search('酱油',row.ingredients)!=None) or (re.search('生抽',row.ingredients)!=None) or (re.search('老抽',row.ingredients)!=None):\n",
    "        soysauce_str.append(x_ingr.loc[index,'ingredients'])\n",
    "print(list(set(soysauce_str)))"
   ]
  },
  {
   "cell_type": "code",
   "execution_count": 133,
   "metadata": {},
   "outputs": [],
   "source": [
    "for index,row in x_ingr.iterrows():\n",
    "    if (re.search('酱油',row.ingredients)!=None) or (re.search('生抽',row.ingredients)!=None) or (re.search('老抽',row.ingredients)!=None):\n",
    "        x_ingr.loc[index,'ingredients']='soy_sauce'"
   ]
  },
  {
   "cell_type": "code",
   "execution_count": 134,
   "metadata": {},
   "outputs": [],
   "source": [
    "x_ingr.to_csv('/home/IW_student/work/food_flavor/ingredient_preprocessing/datasets/x_ingr_4.csv')"
   ]
  },
  {
   "cell_type": "code",
   "execution_count": null,
   "metadata": {},
   "outputs": [],
   "source": []
  }
 ],
 "metadata": {
  "kernelspec": {
   "display_name": "Python 3",
   "language": "python",
   "name": "python3"
  },
  "language_info": {
   "codemirror_mode": {
    "name": "ipython",
    "version": 3
   },
   "file_extension": ".py",
   "mimetype": "text/x-python",
   "name": "python",
   "nbconvert_exporter": "python",
   "pygments_lexer": "ipython3",
   "version": "3.6.3"
  }
 },
 "nbformat": 4,
 "nbformat_minor": 2
}
