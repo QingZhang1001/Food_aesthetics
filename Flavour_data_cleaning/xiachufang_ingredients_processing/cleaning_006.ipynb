{
 "cells": [
  {
   "cell_type": "code",
   "execution_count": 19,
   "metadata": {},
   "outputs": [],
   "source": [
    "import pandas as pd\n",
    "import numpy as np\n",
    "import matplotlib.pyplot as plt\n",
    "import seaborn as sns\n",
    "import os\n",
    "import re"
   ]
  },
  {
   "cell_type": "code",
   "execution_count": 20,
   "metadata": {},
   "outputs": [],
   "source": [
    "def explode(df,column):\n",
    "    df1=df[column].str.split('、',expand=True).stack().str.strip().reset_index(level=1,drop=True)\n",
    "    df1=pd.DataFrame(df1)\n",
    "    df=df.drop(column,axis=1).join(df1).reset_index(drop=True)\n",
    "    df.rename(columns={0:'ingredients'},inplace=True)\n",
    "    return df"
   ]
  },
  {
   "cell_type": "code",
   "execution_count": 21,
   "metadata": {},
   "outputs": [
    {
     "data": {
      "text/plain": [
       "(172727, 2)"
      ]
     },
     "execution_count": 21,
     "metadata": {},
     "output_type": "execute_result"
    }
   ],
   "source": [
    "x_ingr=pd.read_csv('/home/IW_student/work/food_flavor/xiachufang_ingredient_preprocessing/datasets/x_ingr_5(01.12).csv',index_col=0)\n",
    "x_ingr=explode(x_ingr,'ingredients')\n",
    "x_ingr.dropna(inplace=True)\n",
    "x_ingr.shape"
   ]
  },
  {
   "cell_type": "code",
   "execution_count": 22,
   "metadata": {},
   "outputs": [
    {
     "data": {
      "text/plain": [
       "1265"
      ]
     },
     "execution_count": 22,
     "metadata": {},
     "output_type": "execute_result"
    }
   ],
   "source": [
    "x_ingredients=x_ingr['ingredients'].values.tolist()\n",
    "x_ingredients_set=list(set(x_ingredients))\n",
    "len(x_ingredients_set)"
   ]
  },
  {
   "cell_type": "code",
   "execution_count": 23,
   "metadata": {},
   "outputs": [
    {
     "data": {
      "text/plain": [
       "831"
      ]
     },
     "execution_count": 23,
     "metadata": {},
     "output_type": "execute_result"
    }
   ],
   "source": [
    "x_ingredients=','.join(x_ingredients_set)\n",
    "pattern =re.compile(u'[\\u4e00-\\u9fa5]+')\n",
    "result=re.findall(pattern,x_ingredients)\n",
    "len(result)"
   ]
  },
  {
   "cell_type": "code",
   "execution_count": 24,
   "metadata": {},
   "outputs": [],
   "source": [
    "result_1=[]\n",
    "for i in range(0,len(result)):\n",
    "    if len(result[i])==1:\n",
    "        result_1.append(result[i])"
   ]
  },
  {
   "cell_type": "code",
   "execution_count": 7,
   "metadata": {},
   "outputs": [
    {
     "name": "stdout",
     "output_type": "stream",
     "text": [
      "{'水', '汤', '花', '菜', '粉', '干', '酱', '冰', '卤', '辣', '调', '馕', '饼'}\n"
     ]
    }
   ],
   "source": [
    "print(set(result_1))"
   ]
  },
  {
   "cell_type": "code",
   "execution_count": 9,
   "metadata": {},
   "outputs": [],
   "source": [
    "result_2=[]\n",
    "for i in range(0,len(result)):\n",
    "    if len(result[i])==2:\n",
    "        result_2.append(result[i])"
   ]
  },
  {
   "cell_type": "code",
   "execution_count": 10,
   "metadata": {},
   "outputs": [
    {
     "data": {
      "text/plain": [
       "442"
      ]
     },
     "execution_count": 10,
     "metadata": {},
     "output_type": "execute_result"
    }
   ],
   "source": [
    "len(result_2)"
   ]
  },
  {
   "cell_type": "code",
   "execution_count": 11,
   "metadata": {
    "collapsed": true
   },
   "outputs": [
    {
     "name": "stdout",
     "output_type": "stream",
     "text": [
      "['茯苓', '蜜栆', '饼条', '味料', '发粉', '大饼', '豆皮', '泡软', '浆果', '雪燕', '糕片', '麝香', '红栆', '苕粉', '筷子', '花豆', '龙口', '马桥', '纳豆', '辣子', '香松', '蝦皮', '砂仁', '紅棗', '莲角', '芝果', '葁末', '石槲', '韩式', '腊味', '芽白', '熟地', '沙朗', '杂菜', '腰花', '针菜', '曲奇', '胶带', '蜜饯', '菊花', '花螺', '白色', '蕨根', '流沙', '香酥', '湿料', '真露', '毛肚', '树叶', '咸菜', '黑巧', '车螺', '饼丝', '盘子', '腌酱', '时蔬', '海鲜', '燕饺', '金盘', '红糟', '苦菊', '红色', '竹轮', '烫手', '白玉', '金粉', '贝素', '臊子', '波萝', '榛仁', '方包', '红曲', '泡打', '茶匙', '果泥', '槐花', '粽针', '筛子', '水儿', '芋圆', '发菜', '青汁', '梅粉', '黄鳝', '辣皮', '茨菰', '甜豆', '飞饼', '贡丸', '珍珠', '白膘', '提子', '水量', '臭粉', '金象', '冬菜', '见上', '烧酒', '粉皮', '豆渣', '小粉', '西梅', '植皮', '棉绳', '筒骨', '虎皮', '红莲', '糕粉', '凉皮', '耗豉', '花雕', '芡汁', '美极', '泥鳅', '冬豆', '茨实', '莧菜', '拉条', '果蔬', '浓缩', '藍莓', '食用', '皮屑', '梅菜', '冷冻', '刀豆', '水约', '芋苗', '葁蓉', '生瓜', '乌梅', '蘸料', '蕨菜', '川芎', '枳壳', '麦豆', '儿菜', '甜酱', '苕尖', '天麻', '榨菜', '树皮', '舞茸', '鹧鸪', '蜜蜂', '花掓', '黄色', '葛粉', '炸酱', '芋丝', '花辣', '青提', '槲叶', '苦苣', '眉豆', '百叶', '酒类', '粟粉', '菜干', '酸菜', '薄脆', '黎麦', '粥底', '豆苗', '罂粟', '白蔻', '草绳', '红果', '汤汁', '液种', '捞汁', '龙骨', '圆子', '红提', '覆馅', '白莲', '八瓣', '烧汁', '营养', '果干', '梅子', '辛夷', '绿色', '全部', '梅干', '芦蒿', '腐皮', '节瓜', '蒲瓜', '腌制', '饼底', '地胶', '腌粉', '清汤', '鲍汁', '烘烤', '地榆', '莲白', '茅根', '黄花', '简单', '榆钱', '青梅', '韭黃', '石螺', '角瓜', '篮子', '辣青', '绳子', '荷叶', '袖子', '竹蔗', '点缀', '粉葛', '筛网', '果酱', '耐心', '春菊', '竹签', '莲菜', '百页', '白粥', '水草', '脊骨', '蘸粉', '芋子', '美味', '果脯', '配菜', '法香', '芋泥', '乌榄', '塔菜', '烤具', '拉瓜', '雪豆', '石灰', '煮熟', '支竹', '法棍', '皮料', '高湯', '棕叶', '马连', '艾草', '麻汁', '烤麸', '粽子', '香果', '香茹', '豆饼', '菜苔', '白寇', '百事', '荜拨', '马苏', '炸制', '草苺', '熟粉', '月饼', '高粱', '蒿菜', '鹵料', '豆泡', '燕窝', '虫草', '锅酱', '酸梅', '筚拨', '饵块', '手粉', '黄芪', '辣柳', '草头', '汤圆', '北芪', '茶粉', '茶干', '比例', '洋酒', '可口', '腐泡', '元宵', '濑粉', '槟榔', '水饺', '叽汁', '切片', '滇红', '黄氏', '龙蒿', '腔骨', '白巧', '南乳', '阿胶', '豆鼓', '果酱', '裱花', '披萨', '竹炭', '藿香', '原汤', '黄喉', '植物', '辣根', '冰皮', '香料', '盖菜', '玉竹', '莳萝', '螺丝', '辣粉', '涂抹', '洗净', '馄饨', '粉浆', '河粉', '草寇', '乳清', '馅心', '祖名', '饼皮', '豆浆', '麻糬', '酪乳', '花胶', '楂干', '莲蓬', '骨汤', '煎饼', '锅巴', '配方', '泡发', '头菜', '可颂', '鲜鱿', '芫茜', '易果', '灵芝', '料汁', '扁尖', '内酯', '松饼', '老汤', '茶巾', '韭苔', '皮冻', '三角', '莓果', '烫种', '喼汁', '话梅', '黑巧', '酸豆', '柿饼', '香榧', '泡芙', '酱料', '鲜花', '冰粉', '细心', '豆瓣', '蛇豆', '草蔻', '蔬果', '佐料', '雨露', '海蜇', '第点', '燕条', '丸子', '果子', '冰镇', '麦冬', '胎菊', '钉螺', '石斛', '普通', '青酱', '白扣', '八果', '切片', '黄酱', '蒿子', '硅胶', '拉汁', '上汤', '凉粉', '梅汁', '果汁', '白汁', '蘸酱', '宽粉', '谷类', '紫色', '白干', '杂果', '千层', '缸豆', '豆粉', '黄皮', '竹荪', '海天', '七喜', '田螺', '无味', '汤头', '冰草', '白芍', '辣松', '冰塊', '杂蔬', '竹漏', '陈肾', '炸粉', '豆卜', '豉汁', '饼坯', '派盘', '草裹', '饼馅', '黑莓', '枸己', '榄菜', '粉块', '栀子', '黑啤', '竹帘', '布丁', '圆豆', '酸苷', '菜脯', '沙茶', '撻皮', '骨头', '苇叶', '豆酱', '母乳', '酱汁', '花纹', '鲜汤', '菜根']\n"
     ]
    }
   ],
   "source": [
    "print(result_2)"
   ]
  },
  {
   "cell_type": "code",
   "execution_count": 18,
   "metadata": {},
   "outputs": [],
   "source": [
    "result_5=[]\n",
    "for i in range(0,len(result)):\n",
    "    if len(result[i])>=5:\n",
    "        result_5.append(result[i])"
   ]
  },
  {
   "cell_type": "code",
   "execution_count": 19,
   "metadata": {},
   "outputs": [
    {
     "data": {
      "text/plain": [
       "107"
      ]
     },
     "execution_count": 19,
     "metadata": {},
     "output_type": "execute_result"
    }
   ],
   "source": [
    "len(result_5)"
   ]
  },
  {
   "cell_type": "code",
   "execution_count": 20,
   "metadata": {
    "collapsed": true
   },
   "outputs": [
    {
     "name": "stdout",
     "output_type": "stream",
     "text": [
      "['野生天麻干', '日式烧烤汁', '四川老坛泡酸罗卜', '绢丝豆花预拌粉', '北京干黄酱', '家庭比萨酱', '冬阴功酱料', '比例兑成照烧汁', '西式混合干香料', '水可以不用', '香辣甜咸混合酱', '冬阴功汤料', '优质番红花', '卡夫奇妙酱', '李派林喼汁', '意式混合干香料', '混合小丸子', '此方不太甜', '马琳混合物', '意大利香料', '洋车前子壳粉', '特百惠不锈钢锅具', '原味优酪乳', '自己可以改良', '儿童优酪乳', '普通版干料', '原味飞饼皮', '日式照烧酱', '野山莓果酱', '晨师傅广式', '普罗旺斯香料', '热量约大卡', '万用凉拌汁', '可食用绿色植物叶子', '红丝绒精华', '四川泡酸菜', '意大利混合香料', '披萨酱配方', '水妈妈河粉', '无麸质版干料', '意大利披萨酱', '蝶豆花汁液', '意式混合香料', '原味微甜飞饼皮', '美乃滋抹酱', '李派林酸甜汁', '小干调味料', '果料威士忌', '意式披萨酱', '惠州甜梅菜', '秘制酸甜酱汁', '马来西亚三角盏', '麦维他消化饼', '墨西哥卷饼', '冰皮月饼粉', '云南酸腌菜', '谢记烧仙草粉', '冷冻披萨饼', '韩式烧烤酱', '涪陵榨菜丝', '芝焙原味流心酱', '麻辣烫底料', '小红莓浓缩汁', '大麦若叶青汁', '印度飞饼皮', '秘制红烧汁', '蒿子秆嫩尖', '卡仕达馅布丁', '种混合香料', '日本青芥辣', '清补凉煲汤料', '灭活罂粟籽', '大麦若叶粉', '无铝膨松剂', '美极鲜味汁', '云南昭通酱', '洋车前子粉', '混合水果干', '大麦青汁粉', '墨西哥卷饼皮', '秘制怪味酱', '寿喜锅酱汁', '想吃多少做多少', '双汇王中王', '海天海鲜酱', '越南春卷皮', '郫县辣豆瓣', '凯里红酸汤', '墨西哥薄饼', '东北大拉皮', '安琪烧烤粉', '棉织花边绑带', '用量根据自己调整', '宇峰白凉粉', '东非头花胶筒', '展艺冰皮月饼粉', '没有也可以', '混合豉汁料', '红丝绒溶液', '包心麻辣丸', '红色水果粉', '冷冻杂蔬丁', '广式九制话梅', '冷冻速食飞饼', '谷优消化饼', '紫苣等杂菜', '大麦叶青汁粉']\n"
     ]
    }
   ],
   "source": [
    "print(result_5)"
   ]
  },
  {
   "cell_type": "code",
   "execution_count": 21,
   "metadata": {},
   "outputs": [
    {
     "name": "stdout",
     "output_type": "stream",
     "text": [
      "[]\n"
     ]
    }
   ],
   "source": [
    "## ## wheat\n",
    "wheat_str=[]\n",
    "for index,row in x_ingr.iterrows():\n",
    "    if re.search('藜',row.ingredients)!=None:\n",
    "        #x_ingr.loc[index,'ingredients']='banana'\n",
    "        wheat_str.append(x_ingr.loc[index,'ingredients'])\n",
    "print(list(set(wheat_str)))"
   ]
  },
  {
   "cell_type": "code",
   "execution_count": 22,
   "metadata": {},
   "outputs": [],
   "source": [
    "for index,row in x_ingr.iterrows():\n",
    "    if re.search('藜',row.ingredients)!=None:\n",
    "         x_ingr.loc[index,'ingredients']='chenopodium_quinoa'"
   ]
  },
  {
   "cell_type": "code",
   "execution_count": null,
   "metadata": {},
   "outputs": [],
   "source": [
    "#'练乳', '练奶 炼乳', '炼奶'"
   ]
  },
  {
   "cell_type": "code",
   "execution_count": 23,
   "metadata": {
    "collapsed": true
   },
   "outputs": [
    {
     "ename": "SyntaxError",
     "evalue": "invalid syntax (<ipython-input-23-af3dbccd471f>, line 2)",
     "output_type": "error",
     "traceback": [
      "\u001b[0;36m  File \u001b[0;32m\"<ipython-input-23-af3dbccd471f>\"\u001b[0;36m, line \u001b[0;32m2\u001b[0m\n\u001b[0;31m    dairy _str=[]\u001b[0m\n\u001b[0m             ^\u001b[0m\n\u001b[0;31mSyntaxError\u001b[0m\u001b[0;31m:\u001b[0m invalid syntax\n"
     ]
    }
   ],
   "source": [
    "## dairy \n",
    "dairy_str=[]\n",
    "for index,row in x_ingr.iterrows():\n",
    "    if (re.search('练乳',row.ingredients)!=None) or (re.search('练奶',row.ingredients)!=None) or (re.search('炼乳',row.ingredients)!=None) or (re.search('炼奶',row.ingredients)!=None) :\n",
    "        #x_ingr.loc[index,'ingredients']='banana'\n",
    "        dairy_str.append(x_ingr.loc[index,'ingredients'])\n",
    "print(list(set(dairy_str)))"
   ]
  },
  {
   "cell_type": "code",
   "execution_count": 24,
   "metadata": {},
   "outputs": [],
   "source": [
    "for index,row in x_ingr.iterrows():\n",
    "    if (re.search('练乳',row.ingredients)!=None) or (re.search('练奶',row.ingredients)!=None) or (re.search('炼乳',row.ingredients)!=None) or (re.search('炼奶',row.ingredients)!=None) :\n",
    "        x_ingr.loc[index,'ingredients']='condensed_milk'"
   ]
  },
  {
   "cell_type": "code",
   "execution_count": 15,
   "metadata": {},
   "outputs": [
    {
     "name": "stdout",
     "output_type": "stream",
     "text": [
      "['紫苏', '紫苏叶', '紫苏梅']\n"
     ]
    }
   ],
   "source": [
    "## spice \n",
    "spice_str=[]\n",
    "for index,row in x_ingr.iterrows():\n",
    "    if re.search('紫苏',row.ingredients)!=None:\n",
    "        #x_ingr.loc[index,'ingredients']='banana'\n",
    "        spice_str.append(x_ingr.loc[index,'ingredients'])\n",
    "print(list(set(spice_str)))"
   ]
  },
  {
   "cell_type": "code",
   "execution_count": 25,
   "metadata": {},
   "outputs": [],
   "source": [
    "for index,row in x_ingr.iterrows():\n",
    "    if re.search('紫苏',row.ingredients)!=None:\n",
    "        x_ingr.loc[index,'ingredients']='perilla_frutescens'"
   ]
  },
  {
   "cell_type": "code",
   "execution_count": 96,
   "metadata": {},
   "outputs": [
    {
     "name": "stdout",
     "output_type": "stream",
     "text": [
      "['莴苣', '莴苣叶']\n"
     ]
    }
   ],
   "source": [
    "# veg\n",
    "veg_str=[]\n",
    "for index,row in x_ingr.iterrows():\n",
    "    if re.search('莴苣',row.ingredients)!=None:\n",
    "        #x_ingr.loc[index,'ingredients']='banana'\n",
    "        veg_str.append(x_ingr.loc[index,'ingredients'])\n",
    "print(list(set(veg_str)))"
   ]
  },
  {
   "cell_type": "code",
   "execution_count": 26,
   "metadata": {
    "collapsed": true
   },
   "outputs": [
    {
     "ename": "KeyboardInterrupt",
     "evalue": "",
     "output_type": "error",
     "traceback": [
      "\u001b[0;31m---------------------------------------------------------------------------\u001b[0m",
      "\u001b[0;31mKeyboardInterrupt\u001b[0m                         Traceback (most recent call last)",
      "\u001b[0;32m<ipython-input-26-755b9181f2b8>\u001b[0m in \u001b[0;36m<module>\u001b[0;34m()\u001b[0m\n\u001b[0;32m----> 1\u001b[0;31m \u001b[0;32mfor\u001b[0m \u001b[0mindex\u001b[0m\u001b[0;34m,\u001b[0m\u001b[0mrow\u001b[0m \u001b[0;32min\u001b[0m \u001b[0mx_ingr\u001b[0m\u001b[0;34m.\u001b[0m\u001b[0miterrows\u001b[0m\u001b[0;34m(\u001b[0m\u001b[0;34m)\u001b[0m\u001b[0;34m:\u001b[0m\u001b[0;34m\u001b[0m\u001b[0m\n\u001b[0m\u001b[1;32m      2\u001b[0m     \u001b[0;32mif\u001b[0m \u001b[0mre\u001b[0m\u001b[0;34m.\u001b[0m\u001b[0msearch\u001b[0m\u001b[0;34m(\u001b[0m\u001b[0;34m'莴苣'\u001b[0m\u001b[0;34m,\u001b[0m\u001b[0mrow\u001b[0m\u001b[0;34m.\u001b[0m\u001b[0mingredients\u001b[0m\u001b[0;34m)\u001b[0m\u001b[0;34m!=\u001b[0m\u001b[0;32mNone\u001b[0m\u001b[0;34m:\u001b[0m\u001b[0;34m\u001b[0m\u001b[0m\n\u001b[1;32m      3\u001b[0m         \u001b[0mx_ingr\u001b[0m\u001b[0;34m.\u001b[0m\u001b[0mloc\u001b[0m\u001b[0;34m[\u001b[0m\u001b[0mindex\u001b[0m\u001b[0;34m,\u001b[0m\u001b[0;34m'ingredients'\u001b[0m\u001b[0;34m]\u001b[0m\u001b[0;34m=\u001b[0m\u001b[0;34m'lettuce'\u001b[0m\u001b[0;34m\u001b[0m\u001b[0m\n",
      "\u001b[0;32m/opt/conda/lib/python3.6/site-packages/pandas/core/frame.py\u001b[0m in \u001b[0;36miterrows\u001b[0;34m(self)\u001b[0m\n\u001b[1;32m    773\u001b[0m         \u001b[0mklass\u001b[0m \u001b[0;34m=\u001b[0m \u001b[0mself\u001b[0m\u001b[0;34m.\u001b[0m\u001b[0m_constructor_sliced\u001b[0m\u001b[0;34m\u001b[0m\u001b[0m\n\u001b[1;32m    774\u001b[0m         \u001b[0;32mfor\u001b[0m \u001b[0mk\u001b[0m\u001b[0;34m,\u001b[0m \u001b[0mv\u001b[0m \u001b[0;32min\u001b[0m \u001b[0mzip\u001b[0m\u001b[0;34m(\u001b[0m\u001b[0mself\u001b[0m\u001b[0;34m.\u001b[0m\u001b[0mindex\u001b[0m\u001b[0;34m,\u001b[0m \u001b[0mself\u001b[0m\u001b[0;34m.\u001b[0m\u001b[0mvalues\u001b[0m\u001b[0;34m)\u001b[0m\u001b[0;34m:\u001b[0m\u001b[0;34m\u001b[0m\u001b[0m\n\u001b[0;32m--> 775\u001b[0;31m             \u001b[0ms\u001b[0m \u001b[0;34m=\u001b[0m \u001b[0mklass\u001b[0m\u001b[0;34m(\u001b[0m\u001b[0mv\u001b[0m\u001b[0;34m,\u001b[0m \u001b[0mindex\u001b[0m\u001b[0;34m=\u001b[0m\u001b[0mcolumns\u001b[0m\u001b[0;34m,\u001b[0m \u001b[0mname\u001b[0m\u001b[0;34m=\u001b[0m\u001b[0mk\u001b[0m\u001b[0;34m)\u001b[0m\u001b[0;34m\u001b[0m\u001b[0m\n\u001b[0m\u001b[1;32m    776\u001b[0m             \u001b[0;32myield\u001b[0m \u001b[0mk\u001b[0m\u001b[0;34m,\u001b[0m \u001b[0ms\u001b[0m\u001b[0;34m\u001b[0m\u001b[0m\n\u001b[1;32m    777\u001b[0m \u001b[0;34m\u001b[0m\u001b[0m\n",
      "\u001b[0;32m/opt/conda/lib/python3.6/site-packages/pandas/core/series.py\u001b[0m in \u001b[0;36m__init__\u001b[0;34m(self, data, index, dtype, name, copy, fastpath)\u001b[0m\n\u001b[1;32m    273\u001b[0m             \u001b[0;32melse\u001b[0m\u001b[0;34m:\u001b[0m\u001b[0;34m\u001b[0m\u001b[0m\n\u001b[1;32m    274\u001b[0m                 data = _sanitize_array(data, index, dtype, copy,\n\u001b[0;32m--> 275\u001b[0;31m                                        raise_cast_failure=True)\n\u001b[0m\u001b[1;32m    276\u001b[0m \u001b[0;34m\u001b[0m\u001b[0m\n\u001b[1;32m    277\u001b[0m                 \u001b[0mdata\u001b[0m \u001b[0;34m=\u001b[0m \u001b[0mSingleBlockManager\u001b[0m\u001b[0;34m(\u001b[0m\u001b[0mdata\u001b[0m\u001b[0;34m,\u001b[0m \u001b[0mindex\u001b[0m\u001b[0;34m,\u001b[0m \u001b[0mfastpath\u001b[0m\u001b[0;34m=\u001b[0m\u001b[0;32mTrue\u001b[0m\u001b[0;34m)\u001b[0m\u001b[0;34m\u001b[0m\u001b[0m\n",
      "\u001b[0;32m/opt/conda/lib/python3.6/site-packages/pandas/core/series.py\u001b[0m in \u001b[0;36m_sanitize_array\u001b[0;34m(data, index, dtype, copy, raise_cast_failure)\u001b[0m\n\u001b[1;32m   4094\u001b[0m \u001b[0;34m\u001b[0m\u001b[0m\n\u001b[1;32m   4095\u001b[0m             \u001b[0;31m# we will try to copy be-definition here\u001b[0m\u001b[0;34m\u001b[0m\u001b[0;34m\u001b[0m\u001b[0m\n\u001b[0;32m-> 4096\u001b[0;31m             \u001b[0msubarr\u001b[0m \u001b[0;34m=\u001b[0m \u001b[0m_try_cast\u001b[0m\u001b[0;34m(\u001b[0m\u001b[0mdata\u001b[0m\u001b[0;34m,\u001b[0m \u001b[0;32mTrue\u001b[0m\u001b[0;34m)\u001b[0m\u001b[0;34m\u001b[0m\u001b[0m\n\u001b[0m\u001b[1;32m   4097\u001b[0m \u001b[0;34m\u001b[0m\u001b[0m\n\u001b[1;32m   4098\u001b[0m     \u001b[0;32melif\u001b[0m \u001b[0misinstance\u001b[0m\u001b[0;34m(\u001b[0m\u001b[0mdata\u001b[0m\u001b[0;34m,\u001b[0m \u001b[0mExtensionArray\u001b[0m\u001b[0;34m)\u001b[0m\u001b[0;34m:\u001b[0m\u001b[0;34m\u001b[0m\u001b[0m\n",
      "\u001b[0;32m/opt/conda/lib/python3.6/site-packages/pandas/core/series.py\u001b[0m in \u001b[0;36m_try_cast\u001b[0;34m(arr, take_fast_path)\u001b[0m\n\u001b[1;32m   4049\u001b[0m                                            isinstance(subarr, np.ndarray))):\n\u001b[1;32m   4050\u001b[0m                 \u001b[0msubarr\u001b[0m \u001b[0;34m=\u001b[0m \u001b[0mconstruct_1d_object_array_from_listlike\u001b[0m\u001b[0;34m(\u001b[0m\u001b[0msubarr\u001b[0m\u001b[0;34m)\u001b[0m\u001b[0;34m\u001b[0m\u001b[0m\n\u001b[0;32m-> 4051\u001b[0;31m             \u001b[0;32melif\u001b[0m \u001b[0;32mnot\u001b[0m \u001b[0mis_extension_type\u001b[0m\u001b[0;34m(\u001b[0m\u001b[0msubarr\u001b[0m\u001b[0;34m)\u001b[0m\u001b[0;34m:\u001b[0m\u001b[0;34m\u001b[0m\u001b[0m\n\u001b[0m\u001b[1;32m   4052\u001b[0m                 subarr = construct_1d_ndarray_preserving_na(subarr, dtype,\n\u001b[1;32m   4053\u001b[0m                                                             copy=copy)\n",
      "\u001b[0;32m/opt/conda/lib/python3.6/site-packages/pandas/core/dtypes/common.py\u001b[0m in \u001b[0;36mis_extension_type\u001b[0;34m(arr)\u001b[0m\n\u001b[1;32m   1679\u001b[0m     \u001b[0;32mif\u001b[0m \u001b[0mis_categorical\u001b[0m\u001b[0;34m(\u001b[0m\u001b[0marr\u001b[0m\u001b[0;34m)\u001b[0m\u001b[0;34m:\u001b[0m\u001b[0;34m\u001b[0m\u001b[0m\n\u001b[1;32m   1680\u001b[0m         \u001b[0;32mreturn\u001b[0m \u001b[0;32mTrue\u001b[0m\u001b[0;34m\u001b[0m\u001b[0m\n\u001b[0;32m-> 1681\u001b[0;31m     \u001b[0;32melif\u001b[0m \u001b[0mis_sparse\u001b[0m\u001b[0;34m(\u001b[0m\u001b[0marr\u001b[0m\u001b[0;34m)\u001b[0m\u001b[0;34m:\u001b[0m\u001b[0;34m\u001b[0m\u001b[0m\n\u001b[0m\u001b[1;32m   1682\u001b[0m         \u001b[0;32mreturn\u001b[0m \u001b[0;32mTrue\u001b[0m\u001b[0;34m\u001b[0m\u001b[0m\n\u001b[1;32m   1683\u001b[0m     \u001b[0;32melif\u001b[0m \u001b[0mis_datetimetz\u001b[0m\u001b[0;34m(\u001b[0m\u001b[0marr\u001b[0m\u001b[0;34m)\u001b[0m\u001b[0;34m:\u001b[0m\u001b[0;34m\u001b[0m\u001b[0m\n",
      "\u001b[0;32m/opt/conda/lib/python3.6/site-packages/pandas/core/dtypes/common.py\u001b[0m in \u001b[0;36mis_sparse\u001b[0;34m(arr)\u001b[0m\n\u001b[1;32m    150\u001b[0m     \"\"\"\n\u001b[1;32m    151\u001b[0m \u001b[0;34m\u001b[0m\u001b[0m\n\u001b[0;32m--> 152\u001b[0;31m     \u001b[0;32mreturn\u001b[0m \u001b[0misinstance\u001b[0m\u001b[0;34m(\u001b[0m\u001b[0marr\u001b[0m\u001b[0;34m,\u001b[0m \u001b[0;34m(\u001b[0m\u001b[0mABCSparseArray\u001b[0m\u001b[0;34m,\u001b[0m \u001b[0mABCSparseSeries\u001b[0m\u001b[0;34m)\u001b[0m\u001b[0;34m)\u001b[0m\u001b[0;34m\u001b[0m\u001b[0m\n\u001b[0m\u001b[1;32m    153\u001b[0m \u001b[0;34m\u001b[0m\u001b[0m\n\u001b[1;32m    154\u001b[0m \u001b[0;34m\u001b[0m\u001b[0m\n",
      "\u001b[0;32m/opt/conda/lib/python3.6/site-packages/pandas/core/dtypes/generic.py\u001b[0m in \u001b[0;36m_check\u001b[0;34m(cls, inst)\u001b[0m\n\u001b[1;32m      5\u001b[0m \u001b[0;31m# objects\u001b[0m\u001b[0;34m\u001b[0m\u001b[0;34m\u001b[0m\u001b[0m\n\u001b[1;32m      6\u001b[0m \u001b[0;32mdef\u001b[0m \u001b[0mcreate_pandas_abc_type\u001b[0m\u001b[0;34m(\u001b[0m\u001b[0mname\u001b[0m\u001b[0;34m,\u001b[0m \u001b[0mattr\u001b[0m\u001b[0;34m,\u001b[0m \u001b[0mcomp\u001b[0m\u001b[0;34m)\u001b[0m\u001b[0;34m:\u001b[0m\u001b[0;34m\u001b[0m\u001b[0m\n\u001b[0;32m----> 7\u001b[0;31m     \u001b[0;34m@\u001b[0m\u001b[0mclassmethod\u001b[0m\u001b[0;34m\u001b[0m\u001b[0m\n\u001b[0m\u001b[1;32m      8\u001b[0m     \u001b[0;32mdef\u001b[0m \u001b[0m_check\u001b[0m\u001b[0;34m(\u001b[0m\u001b[0mcls\u001b[0m\u001b[0;34m,\u001b[0m \u001b[0minst\u001b[0m\u001b[0;34m)\u001b[0m\u001b[0;34m:\u001b[0m\u001b[0;34m\u001b[0m\u001b[0m\n\u001b[1;32m      9\u001b[0m         \u001b[0;32mreturn\u001b[0m \u001b[0mgetattr\u001b[0m\u001b[0;34m(\u001b[0m\u001b[0minst\u001b[0m\u001b[0;34m,\u001b[0m \u001b[0mattr\u001b[0m\u001b[0;34m,\u001b[0m \u001b[0;34m'_typ'\u001b[0m\u001b[0;34m)\u001b[0m \u001b[0;32min\u001b[0m \u001b[0mcomp\u001b[0m\u001b[0;34m\u001b[0m\u001b[0m\n",
      "\u001b[0;31mKeyboardInterrupt\u001b[0m: "
     ]
    }
   ],
   "source": [
    "for index,row in x_ingr.iterrows():\n",
    "    if re.search('莴苣',row.ingredients)!=None:\n",
    "        x_ingr.loc[index,'ingredients']='lettuce'"
   ]
  },
  {
   "cell_type": "code",
   "execution_count": null,
   "metadata": {},
   "outputs": [],
   "source": [
    "for index,row in x_ingr.iterrows():\n",
    "    if re.search('茭白',row.ingredients)!=None:\n",
    "        x_ingr.loc[index,'ingredients']='zizania_latifolia'"
   ]
  },
  {
   "cell_type": "code",
   "execution_count": null,
   "metadata": {},
   "outputs": [],
   "source": [
    "for index,row in x_ingr.iterrows():\n",
    "    if re.search('桂',row.ingredients)!=None:\n",
    "        x_ingr.loc[index,'ingredients']='osmanthus'"
   ]
  },
  {
   "cell_type": "code",
   "execution_count": null,
   "metadata": {},
   "outputs": [],
   "source": [
    "for index,row in x_ingr.iterrows():\n",
    "    if re.search('芥菜',row.ingredients)!=None:\n",
    "        x_ingr.loc[index,'ingredients']='chinese_mustard'"
   ]
  },
  {
   "cell_type": "code",
   "execution_count": null,
   "metadata": {},
   "outputs": [],
   "source": [
    "for index,row in x_ingr.iterrows():\n",
    "    if re.search('松子',row.ingredients)!=None:\n",
    "        x_ingr.loc[index,'ingredients']='nut'"
   ]
  },
  {
   "cell_type": "code",
   "execution_count": null,
   "metadata": {},
   "outputs": [],
   "source": [
    "for index,row in x_ingr.iterrows():\n",
    "    if re.search('川穹',row.ingredients)!=None:\n",
    "        x_ingr.loc[index,'ingredients']='ligusticum_striatum'"
   ]
  },
  {
   "cell_type": "code",
   "execution_count": null,
   "metadata": {},
   "outputs": [],
   "source": [
    "for index,row in x_ingr.iterrows():\n",
    "    if re.search('西洋参',row.ingredients)!=None:\n",
    "        x_ingr.loc[index,'ingredients']='american_ginseng'"
   ]
  },
  {
   "cell_type": "code",
   "execution_count": null,
   "metadata": {},
   "outputs": [],
   "source": [
    "for index,row in x_ingr.iterrows():\n",
    "    if re.search('海参',row.ingredients)!=None:\n",
    "        x_ingr.loc[index,'ingredients']='sea_cucumber'"
   ]
  },
  {
   "cell_type": "code",
   "execution_count": null,
   "metadata": {},
   "outputs": [],
   "source": [
    "for index,row in x_ingr.iterrows():\n",
    "    if re.search('参',row.ingredients)!=None:\n",
    "        x_ingr.loc[index,'ingredients']='ginseng'"
   ]
  },
  {
   "cell_type": "code",
   "execution_count": null,
   "metadata": {},
   "outputs": [],
   "source": [
    "for index,row in x_ingr.iterrows():\n",
    "    if re.search('香椿',row.ingredients)!=None:\n",
    "        x_ingr.loc[index,'ingredients']='chinese_toon'"
   ]
  },
  {
   "cell_type": "code",
   "execution_count": null,
   "metadata": {},
   "outputs": [],
   "source": [
    "for index,row in x_ingr.iterrows():\n",
    "    if re.search('川贝',row.ingredients)!=None:\n",
    "        x_ingr.loc[index,'ingredients']='fritillaria_cirrhosa'"
   ]
  },
  {
   "cell_type": "code",
   "execution_count": null,
   "metadata": {},
   "outputs": [],
   "source": [
    "for index,row in x_ingr.iterrows():\n",
    "    if re.search('当归',row.ingredients)!=None:\n",
    "        x_ingr.loc[index,'ingredients']='angelica_sinensis'"
   ]
  },
  {
   "cell_type": "code",
   "execution_count": 86,
   "metadata": {},
   "outputs": [
    {
     "name": "stdout",
     "output_type": "stream",
     "text": [
      "['油', '食油', '热油', '豆瓣油', '熟油', '薄口醤油', '料油', '油豆皮', '油汁油', '麻辣料油', '伊利白油', '甘油', '白油', '食物油', '美味鲜精油', '用油']\n"
     ]
    }
   ],
   "source": [
    "# others\n",
    "others_str=[]\n",
    "for index,row in x_ingr.iterrows():\n",
    "    if re.search('油',row.ingredients)!=None:\n",
    "        #x_ingr.loc[index,'ingredients']='banana'\n",
    "        others_str.append(x_ingr.loc[index,'ingredients'])\n",
    "print(list(set(others_str)))"
   ]
  },
  {
   "cell_type": "code",
   "execution_count": 85,
   "metadata": {},
   "outputs": [],
   "source": [
    "for index,row in x_ingr.iterrows():\n",
    "    if re.search('油条',row.ingredients)!=None:\n",
    "        x_ingr.drop(index,inplace=True)"
   ]
  },
  {
   "cell_type": "code",
   "execution_count": 81,
   "metadata": {},
   "outputs": [],
   "source": [
    "for index,row in x_ingr.iterrows():\n",
    "    if (re.search('酥油',row.ingredients)!=None) or (re.search('黃油',row.ingredients)!=None):\n",
    "        x_ingr.loc[index,'ingredients']='butter'"
   ]
  },
  {
   "cell_type": "code",
   "execution_count": 83,
   "metadata": {},
   "outputs": [],
   "source": [
    "for index,row in x_ingr.iterrows():\n",
    "    if re.search('奶油',row.ingredients)!=None:\n",
    "        x_ingr.loc[index,'ingredients']='cream'"
   ]
  },
  {
   "cell_type": "code",
   "execution_count": 84,
   "metadata": {},
   "outputs": [],
   "source": [
    "for index,row in x_ingr.iterrows():\n",
    "    if re.search('蓬松剂',row.ingredients)!=None:\n",
    "        x_ingr.loc[index,'ingredients']='leavening_agent'"
   ]
  },
  {
   "cell_type": "code",
   "execution_count": 87,
   "metadata": {},
   "outputs": [],
   "source": [
    "for index,row in x_ingr.iterrows():\n",
    "    if (re.search('醤油',row.ingredients)!=None) or (re.search('美味鲜精油',row.ingredients)!=None):\n",
    "        x_ingr.loc[index,'ingredients']='soy_sauce'"
   ]
  },
  {
   "cell_type": "code",
   "execution_count": 88,
   "metadata": {},
   "outputs": [],
   "source": [
    "for index,row in x_ingr.iterrows():\n",
    "    if re.search('油',row.ingredients)!=None:\n",
    "        x_ingr.loc[index,'ingredients']='vegetable_oil'"
   ]
  },
  {
   "cell_type": "code",
   "execution_count": 44,
   "metadata": {},
   "outputs": [],
   "source": [
    "for index,row in x_ingr.iterrows():\n",
    "    if (re.search('沙拉',row.ingredients)!=None) or (re.search('色拉',row.ingredients)!=None) :\n",
    "        x_ingr.loc[index,'ingredients']='salad_dressing'"
   ]
  },
  {
   "cell_type": "code",
   "execution_count": 39,
   "metadata": {},
   "outputs": [],
   "source": [
    "for index,row in x_ingr.iterrows():\n",
    "    if (re.search('水怡',row.ingredients)!=None) or (re.search('水贻',row.ingredients)!=None) or (re.search('麦芽糖',row.ingredients)!=None):\n",
    "        x_ingr.loc[index,'ingredients']='maltose'"
   ]
  },
  {
   "cell_type": "code",
   "execution_count": 36,
   "metadata": {},
   "outputs": [],
   "source": [
    "for index,row in x_ingr.iterrows():\n",
    "    if re.search('豇豆',row.ingredients)!=None:\n",
    "        x_ingr.loc[index,'ingredients']='black_eyed_pea'"
   ]
  },
  {
   "cell_type": "code",
   "execution_count": 37,
   "metadata": {},
   "outputs": [],
   "source": [
    "for index,row in x_ingr.iterrows():\n",
    "    if re.search('豆角',row.ingredients)!=None:\n",
    "        x_ingr.loc[index,'ingredients']='green_bean'"
   ]
  },
  {
   "cell_type": "code",
   "execution_count": 32,
   "metadata": {},
   "outputs": [],
   "source": [
    "for index,row in x_ingr.iterrows():\n",
    "    if re.search('豆豉',row.ingredients)!=None:\n",
    "        x_ingr.loc[index,'ingredients']='fermented_soya_beans'"
   ]
  },
  {
   "cell_type": "code",
   "execution_count": 45,
   "metadata": {},
   "outputs": [],
   "source": [
    "for index,row in x_ingr.iterrows():\n",
    "    if re.search('蚕豆',row.ingredients)!=None:\n",
    "        x_ingr.loc[index,'ingredients']='broad_bean'"
   ]
  },
  {
   "cell_type": "code",
   "execution_count": 46,
   "metadata": {},
   "outputs": [],
   "source": [
    "for index,row in x_ingr.iterrows():\n",
    "    if re.search('咖哩',row.ingredients)!=None:\n",
    "        x_ingr.loc[index,'ingredients']='curry'"
   ]
  },
  {
   "cell_type": "code",
   "execution_count": 50,
   "metadata": {},
   "outputs": [],
   "source": [
    "for index,row in x_ingr.iterrows():\n",
    "    if re.search('扁豆',row.ingredients)!=None:\n",
    "        x_ingr.loc[index,'ingredients']='hyacinth_bean'"
   ]
  },
  {
   "cell_type": "code",
   "execution_count": 51,
   "metadata": {},
   "outputs": [],
   "source": [
    "for index,row in x_ingr.iterrows():\n",
    "    if (re.search('魔芋',row.ingredients)!=None) or (re.search('蒟蒻',row.ingredients)!=None):\n",
    "        x_ingr.loc[index,'ingredients']='konjac'"
   ]
  },
  {
   "cell_type": "code",
   "execution_count": 102,
   "metadata": {},
   "outputs": [],
   "source": [
    "x_ingr.to_csv('/home/IW_student/work/food_flavor/ingredient_preprocessing/datasets/x_ingr_5.csv')"
   ]
  },
  {
   "cell_type": "code",
   "execution_count": 103,
   "metadata": {},
   "outputs": [],
   "source": [
    "### delete uncleaned ingredients"
   ]
  },
  {
   "cell_type": "code",
   "execution_count": 15,
   "metadata": {
    "scrolled": true
   },
   "outputs": [],
   "source": [
    "count=0\n",
    "for index,row in x_ingr.iterrows():\n",
    "    if re.search('[\\u4e00-\\u9fa5]+[a-z]',row.ingredients)!=None:\n",
    "        count+=1\n",
    "        print(row,count)"
   ]
  },
  {
   "cell_type": "code",
   "execution_count": 11,
   "metadata": {},
   "outputs": [],
   "source": [
    "for index,row in x_ingr.iterrows():\n",
    "    if re.search('[a-z][\\u4e00-\\u9fa5]+',row.ingredients)!=None:\n",
    "        x_ingr.loc[index,'ingredients']=re.sub('[\\u4e00-\\u9fa5]+','',row.ingredients)"
   ]
  },
  {
   "cell_type": "code",
   "execution_count": 14,
   "metadata": {},
   "outputs": [],
   "source": [
    "for index,row in x_ingr.iterrows():\n",
    "    if re.search('[\\u4e00-\\u9fa5]+[a-z]',row.ingredients)!=None:\n",
    "        x_ingr.loc[index,'ingredients']=re.sub('[\\u4e00-\\u9fa5]+','',row.ingredients)"
   ]
  },
  {
   "cell_type": "code",
   "execution_count": 105,
   "metadata": {},
   "outputs": [
    {
     "data": {
      "text/plain": [
       "(166520, 2)"
      ]
     },
     "execution_count": 105,
     "metadata": {},
     "output_type": "execute_result"
    }
   ],
   "source": [
    "x_ingr.shape"
   ]
  },
  {
   "cell_type": "code",
   "execution_count": 18,
   "metadata": {},
   "outputs": [],
   "source": [
    "x_ingr.to_csv('/home/IW_student/work/food_flavor/xiachufang_ingredient_preprocessing/datasets/x_ingr_6.csv')"
   ]
  },
  {
   "cell_type": "code",
   "execution_count": 112,
   "metadata": {},
   "outputs": [],
   "source": [
    "x_ingr_list=list(x_ingr['ingredients'].values)"
   ]
  },
  {
   "cell_type": "code",
   "execution_count": 113,
   "metadata": {},
   "outputs": [
    {
     "data": {
      "text/plain": [
       "369"
      ]
     },
     "execution_count": 113,
     "metadata": {},
     "output_type": "execute_result"
    }
   ],
   "source": [
    "len(list(set(x_ingr_list)))"
   ]
  },
  {
   "cell_type": "code",
   "execution_count": null,
   "metadata": {},
   "outputs": [],
   "source": []
  }
 ],
 "metadata": {
  "kernelspec": {
   "display_name": "Python 3",
   "language": "python",
   "name": "python3"
  },
  "language_info": {
   "codemirror_mode": {
    "name": "ipython",
    "version": 3
   },
   "file_extension": ".py",
   "mimetype": "text/x-python",
   "name": "python",
   "nbconvert_exporter": "python",
   "pygments_lexer": "ipython3",
   "version": "3.6.3"
  }
 },
 "nbformat": 4,
 "nbformat_minor": 2
}
