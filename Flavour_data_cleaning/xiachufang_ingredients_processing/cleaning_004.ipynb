{
 "cells": [
  {
   "cell_type": "code",
   "execution_count": 1,
   "metadata": {},
   "outputs": [],
   "source": [
    "import pandas as pd\n",
    "import numpy as np\n",
    "import matplotlib.pyplot as plt\n",
    "import seaborn as sns\n",
    "import os\n",
    "import re"
   ]
  },
  {
   "cell_type": "code",
   "execution_count": 2,
   "metadata": {},
   "outputs": [],
   "source": [
    "def explode(df,column):\n",
    "    df1=df[column].str.split('、',expand=True).stack().str.strip().reset_index(level=1,drop=True)\n",
    "    df1=pd.DataFrame(df1)\n",
    "    df=df.drop(column,axis=1).join(df1).reset_index(drop=True)\n",
    "    df.rename(columns={0:'ingredients'},inplace=True)\n",
    "    return df"
   ]
  },
  {
   "cell_type": "code",
   "execution_count": 3,
   "metadata": {},
   "outputs": [
    {
     "data": {
      "text/plain": [
       "(181205, 2)"
      ]
     },
     "execution_count": 3,
     "metadata": {},
     "output_type": "execute_result"
    }
   ],
   "source": [
    "x_ingr=pd.read_csv('/home/IW_student/work/food_flavor/ingredient_preprocessing/datasets/x_ingr_4.csv',index_col=0)\n",
    "x_ingr=explode(x_ingr,'ingredients')\n",
    "x_ingr.dropna(inplace=True)\n",
    "x_ingr.shape"
   ]
  },
  {
   "cell_type": "code",
   "execution_count": 6,
   "metadata": {
    "collapsed": true
   },
   "outputs": [
    {
     "name": "stdout",
     "output_type": "stream",
     "text": [
      "['纯粮白醋', '醯官米醋', '醋栗', '意式黑醋', '韩式醋甜辣酱', '白米醋', '陳醋', '義大利黑醋', '盐糖白醋', '添丁甜醋', '清醋', '九度米醋', '酿造白醋', '镇江恒顺香醋', '食用醋', '食醋', '纯米醋', '禾然有机糙米醋', '葡萄醋', '甜醋汁', '钞醋', '山西陈醋', '意大利香醋', '米醋', '度白醋', '镇江陈醋', '意式香醋', '康乐醋', '浙醋', '无添加白醋', '恒顺香醋年陈', '醋约', '醋精', '恒顺香醋', '黑米醋', '寿司醋', '巴斯米醋', '陈醋', '致美斋添丁甜醋', '凉拌醋', '意大利香脂醋', '白醋', '寿司醋等', '黑醋汁', '山西老陈醋', '醋几滴', '玫瑰米醋', '镇江香醋', '芳香醋', '老醋', '醯官醋原浆米醋', '香槟醋', '醯官醋', '纯酿白醋', '黑醋', '红醋', '用白醋', '香醋', '巴萨米醋', '恒顺镇江香醋', '新华米醋', '甜醋', '原浆米醋', '醋水', '红醋栗', '蜂蜜芥末籽油醋汁', '油醋汁', '白菊醋', '致美斋白米醋', '玫瑰醋', '醋', '糖醋汁', '糖醋汁儿', '老陈醋', '意大利黑醋']\n"
     ]
    }
   ],
   "source": [
    "# 醋 vinegar\n",
    "vinegar_str=[]\n",
    "for index,row in x_ingr.iterrows():\n",
    "    if re.search('醋',row.ingredients)!=None:\n",
    "        vinegar_str.append(x_ingr.loc[index,'ingredients'])\n",
    "        #x_ingr.loc[index,'ingredients']='mashed_potato'\n",
    "print(list(set(vinegar_str)))"
   ]
  },
  {
   "cell_type": "code",
   "execution_count": 5,
   "metadata": {},
   "outputs": [],
   "source": [
    "for index,row in x_ingr.iterrows():\n",
    "    if re.search('醋',row.ingredients)!=None:\n",
    "         x_ingr.loc[index,'ingredients']='vinegar'"
   ]
  },
  {
   "cell_type": "code",
   "execution_count": 6,
   "metadata": {},
   "outputs": [],
   "source": [
    "for index,row in x_ingr.iterrows():\n",
    "    if re.search('水$',row.ingredients)!=None:   \n",
    "        x_ingr.drop(index,inplace=True)"
   ]
  },
  {
   "cell_type": "code",
   "execution_count": 92,
   "metadata": {},
   "outputs": [],
   "source": [
    "x_ingr.to_csv('/home/IW_student/work/food_flavor/ingredient_preprocessing/datasets/x_ingr_4.csv')"
   ]
  },
  {
   "cell_type": "code",
   "execution_count": 36,
   "metadata": {},
   "outputs": [
    {
     "name": "stdout",
     "output_type": "stream",
     "text": [
      "['米', '稻花香米', '九阳鲜米', '米酒', '珍珠米', '优质大米', '茉莉香米', '东北大米', '黄黍米面', '梗米', '江米', '安琪米发糕预拌粉', '秋田小町米', '熬粥用米', '大米五', '熟大米', '酒米', '甜米', '大白米粥', '水➡蒸米用', '普通大米', '安琪百钻米发糕预拌粉', '米浆', '阴米', '东北江米', '石榴米', '米凉粉', '普通白米', '小站稻米', '香米', '生米', '粳米', '意大利免洗圆米', '长米', '大米粥', '长香米', '熟印度香米', '大米', '食用米', '泰国大米', '丝苗米', '米汤', '免洗大米', '白米', '寿司米', '五常大米', '盘锦大米', '泰国香米', '白米粥']\n"
     ]
    }
   ],
   "source": [
    "# 米 饭 rice\n",
    "rice_str=[]\n",
    "for index,row in x_ingr.iterrows():\n",
    "    if re.search('米',row.ingredients)!=None:\n",
    "        rice_str.append(x_ingr.loc[index,'ingredients'])\n",
    "        #x_ingr.loc[index,'ingredients']='mashed_potato'\n",
    "print(list(set(rice_str)))"
   ]
  },
  {
   "cell_type": "code",
   "execution_count": 37,
   "metadata": {},
   "outputs": [],
   "source": [
    "for index,row in x_ingr.iterrows():\n",
    "    if re.search('米发糕',row.ingredients)!=None:\n",
    "        x_ingr.drop(index,inplace=True)"
   ]
  },
  {
   "cell_type": "code",
   "execution_count": 32,
   "metadata": {},
   "outputs": [],
   "source": [
    "for index,row in x_ingr.iterrows():\n",
    "    if re.search('西米',row.ingredients)!=None:\n",
    "        x_ingr.loc[index,'ingredients']='sago'"
   ]
  },
  {
   "cell_type": "code",
   "execution_count": 33,
   "metadata": {},
   "outputs": [],
   "source": [
    "for index,row in x_ingr.iterrows():\n",
    "    if re.search('小米',row.ingredients)!=None:\n",
    "        x_ingr.loc[index,'ingredients']='setaria_italica'"
   ]
  },
  {
   "cell_type": "code",
   "execution_count": 7,
   "metadata": {},
   "outputs": [],
   "source": [
    "for index,row in x_ingr.iterrows():\n",
    "    if (re.search('米芽菜',row.ingredients)!=None) or (re.search('黄米',row.ingredients)!=None) or (re.search('米错',row.ingredients)!=None) or (re.search('越南米纸张',row.ingredients)!=None) or (re.search('厘米',row.ingredients)!=None) or (re.search('米酸汤',row.ingredients)!=None) or (re.search('黑野米',row.ingredients)!=None) or (re.search('爆米花',row.ingredients)!=None):\n",
    "        x_ingr.drop(index,inplace=True)"
   ]
  },
  {
   "cell_type": "code",
   "execution_count": 8,
   "metadata": {},
   "outputs": [],
   "source": [
    "for index,row in x_ingr.iterrows():\n",
    "    if (re.search('红曲米',row.ingredients)!=None) or (re.search('小麦米',row.ingredients)!=None) or (re.search('小黄米',row.ingredients)!=None) or (re.search('米肠',row.ingredients)!=None) or (re.search('米糊',row.ingredients)!=None) or (re.search('米凉糕',row.ingredients)!=None) or (re.search('提拉米苏',row.ingredients)!=None):\n",
    "        x_ingr.drop(index,inplace=True)"
   ]
  },
  {
   "cell_type": "code",
   "execution_count": 9,
   "metadata": {},
   "outputs": [],
   "source": [
    "for index,row in x_ingr.iterrows():\n",
    "    if (re.search('蚕豆米',row.ingredients)!=None) or (re.search('皂角米',row.ingredients)!=None) or (re.search('红米',row.ingredients)!=None) or (re.search('花米',row.ingredients)!=None) or (re.search('肉米',row.ingredients)!=None):\n",
    "        x_ingr.drop(index,inplace=True)"
   ]
  },
  {
   "cell_type": "code",
   "execution_count": 10,
   "metadata": {},
   "outputs": [],
   "source": [
    "for index,row in x_ingr.iterrows():\n",
    "    if re.search('米线',row.ingredients)!=None:\n",
    "        x_ingr.drop(index,inplace=True)"
   ]
  },
  {
   "cell_type": "code",
   "execution_count": 11,
   "metadata": {},
   "outputs": [],
   "source": [
    "for index,row in x_ingr.iterrows():\n",
    "    if (re.search('紫米',row.ingredients)!=None) or (re.search('黑米',row.ingredients)!=None) or (re.search('杂粮米',row.ingredients)!=None) or (re.search('高粱米',row.ingredients)!=None):\n",
    "        x_ingr.drop(index,inplace=True)"
   ]
  },
  {
   "cell_type": "code",
   "execution_count": 12,
   "metadata": {},
   "outputs": [],
   "source": [
    "for index,row in x_ingr.iterrows():\n",
    "    if re.search('糙米',row.ingredients)!=None:\n",
    "        x_ingr.loc[index,'ingredients']='brown_rice'"
   ]
  },
  {
   "cell_type": "code",
   "execution_count": 13,
   "metadata": {},
   "outputs": [],
   "source": [
    "for index,row in x_ingr.iterrows():\n",
    "    if (re.search('米.*椒',row.ingredients)!=None) or (re.search('米.*辣',row.ingredients)!=None):\n",
    "         x_ingr.loc[index,'ingredients']='cayenne'"
   ]
  },
  {
   "cell_type": "code",
   "execution_count": 15,
   "metadata": {},
   "outputs": [],
   "source": [
    "for index,row in x_ingr.iterrows():\n",
    "    if re.search('糯米',row.ingredients)!=None:\n",
    "        x_ingr.loc[index,'ingredients']='sticky_rice'"
   ]
  },
  {
   "cell_type": "code",
   "execution_count": 17,
   "metadata": {},
   "outputs": [],
   "source": [
    "for index,row in x_ingr.iterrows():\n",
    "    if (re.search('粘米',row.ingredients)!=None) or (re.search('沾米',row.ingredients)!=None):\n",
    "        x_ingr.loc[index,'ingredients']='rice'"
   ]
  },
  {
   "cell_type": "code",
   "execution_count": 19,
   "metadata": {},
   "outputs": [],
   "source": [
    "for index,row in x_ingr.iterrows():\n",
    "    if re.search('薏',row.ingredients)!=None:\n",
    "        x_ingr.loc[index,'ingredients']='pearl_barley'"
   ]
  },
  {
   "cell_type": "code",
   "execution_count": 35,
   "metadata": {},
   "outputs": [],
   "source": [
    "for index,row in x_ingr.iterrows():\n",
    "    if (re.search('米粉',row.ingredients)!=None) or (re.search('提拉米蘇',row.ingredients)!=None):\n",
    "         x_ingr.drop(index,inplace=True)"
   ]
  },
  {
   "cell_type": "code",
   "execution_count": 38,
   "metadata": {},
   "outputs": [],
   "source": [
    "for index,row in x_ingr.iterrows():\n",
    "    if re.search('米',row.ingredients)!=None:\n",
    "        x_ingr.loc[index,'ingredients']='rice'"
   ]
  },
  {
   "cell_type": "code",
   "execution_count": 54,
   "metadata": {
    "collapsed": true
   },
   "outputs": [
    {
     "name": "stdout",
     "output_type": "stream",
     "text": [
      "['面包装饰', '法式面包专用粉', '吐司边', '吐司', '面包片', '全麦吐司', '全麦面包片', '原味吐司片', '王后柔风吐司粉', '全麦吐司片', '面包吐司', '方片吐司', '柔风吐司粉', '面包体', '厚切吐司片', '欧包吐司汉堡胚', '奶香吐司', '白吐司', '面包团', '面包干', '面包丁', '吐司模量', '厚吐司', '吐司片', '面包配方', '面包渣', '面包屑', '原味厚吐司', '王后日式吐司粉', '白面包片', '切片吐司', '吐司部分', '面包原料', '任意吐司', '北海道吐司', '面包切片', '烘干吐司', '吐司厚片', '吐司丁', '黄金面包糠', '方形吐司', '去边白吐司', '此面包味道微咸', '吐司面包片', '面包馅儿料', '面包糠', '去边吐司']\n"
     ]
    }
   ],
   "source": [
    "# 面包 吐司 土司\n",
    "bread_str=[]\n",
    "for index,row in x_ingr.iterrows():\n",
    "    if (re.search('面包',row.ingredients)!=None) or (re.search('吐司',row.ingredients)!=None) or (re.search('土司',row.ingredients)!=None):\n",
    "        bread_str.append(x_ingr.loc[index,'ingredients'])\n",
    "        #x_ingr.loc[index,'ingredients']='mashed_potato'\n",
    "print(list(set(bread_str)))"
   ]
  },
  {
   "cell_type": "code",
   "execution_count": 70,
   "metadata": {
    "collapsed": true
   },
   "outputs": [
    {
     "name": "stdout",
     "output_type": "stream",
     "text": [
      "['蝦皮', '寸派皮', '春卷饼皮', '海蜇皮', '去皮', '果丹皮', '陳皮', '植皮', '冷冻千层酥面皮', '月饼皮', '披萨饼皮', '印度飞饼皮', '豆皮', '原味微甜飞饼皮', '千张豆皮', '黄皮', '辣皮', '面皮', '东北大拉皮', '饼皮', '云吞皮', '辣椒皮', '白馒头皮', '晨师傅广式挞皮', '汤圆皮', '馅皮', '油豆皮', '千层面皮', '粉皮', '①包子皮', '越南春卷皮', '饺子皮', '飞饼皮', '檸檬皮', '皮', '肉皮', '凉皮', '撻皮', '塔皮', '现成饺子皮', '冰皮', '外售饺子皮', '班戟皮', '树皮', '无水面皮', '馄饨皮', '月饼面皮', '寸披萨饼皮', '小馄饨皮', '水发肉皮', '派皮', '寿司海苔皮', '水皮', '腐皮', '千层皮', '包子皮', '水饺皮', '寸饼皮', '冷冻派皮', '混沌皮', '油皮', '虎皮', '现成寸披萨皮', '千层派皮', '根去皮', '山黄皮', '白玉皮', '春卷皮', '披萨皮', '挞皮', '大馄炖皮', '原味飞饼皮', '卷饼皮', '千张皮']\n"
     ]
    }
   ],
   "source": [
    "# 皮\n",
    "wheat_str=[]\n",
    "for index,row in x_ingr.iterrows():\n",
    "    if re.search('.*皮$',row.ingredients)!=None:\n",
    "        wheat_str.append(x_ingr.loc[index,'ingredients'])\n",
    "        #x_ingr.loc[index,'ingredients']='mashed_potato'\n",
    "print(list(set(wheat_str)))"
   ]
  },
  {
   "cell_type": "code",
   "execution_count": 39,
   "metadata": {},
   "outputs": [],
   "source": [
    "for index,row in x_ingr.iterrows():\n",
    "    if (re.search('饺子皮',row.ingredients)!=None) or (re.search('包子皮',row.ingredients)!=None) or (re.search('混沌皮',row.ingredients)!=None) or (re.search('馄炖皮',row.ingredients)!=None) or (re.search('水饺皮',row.ingredients)!=None) or (re.search('馄饨皮',row.ingredients)!=None):\n",
    "        x_ingr.loc[index,'ingredients']='wheat'"
   ]
  },
  {
   "cell_type": "code",
   "execution_count": 40,
   "metadata": {},
   "outputs": [],
   "source": [
    "for index,row in x_ingr.iterrows():\n",
    "    if (re.search('面包',row.ingredients)!=None) or (re.search('吐司',row.ingredients)!=None) or (re.search('土司',row.ingredients)!=None):\n",
    "        x_ingr.loc[index,'ingredients']='bread'"
   ]
  },
  {
   "cell_type": "code",
   "execution_count": 41,
   "metadata": {},
   "outputs": [],
   "source": [
    "for index,row in x_ingr.iterrows():\n",
    "    if (re.search('磨具',row.ingredients)!=None) or (re.search('盒$',row.ingredients)!=None) or (re.search('模$',row.ingredients)!=None):\n",
    "        x_ingr.drop(index,inplace=True)"
   ]
  },
  {
   "cell_type": "code",
   "execution_count": 42,
   "metadata": {},
   "outputs": [],
   "source": [
    "for index,row in x_ingr.iterrows():\n",
    "    if re.search('装饰',row.ingredients)!=None:\n",
    "         x_ingr.drop(index,inplace=True)"
   ]
  },
  {
   "cell_type": "code",
   "execution_count": 43,
   "metadata": {},
   "outputs": [],
   "source": [
    "## fruit\n",
    "for index,row in x_ingr.iterrows():\n",
    "    if re.search('香蕉',row.ingredients)!=None:\n",
    "        x_ingr.loc[index,'ingredients']='banana'"
   ]
  },
  {
   "cell_type": "code",
   "execution_count": 44,
   "metadata": {},
   "outputs": [],
   "source": [
    "for index,row in x_ingr.iterrows():\n",
    "    if re.search('番石榴',row.ingredients)!=None:\n",
    "        x_ingr.loc[index,'ingredients']='guava'"
   ]
  },
  {
   "cell_type": "code",
   "execution_count": 45,
   "metadata": {},
   "outputs": [],
   "source": [
    "for index,row in x_ingr.iterrows():\n",
    "    if re.search('石榴',row.ingredients)!=None:\n",
    "        x_ingr.drop(index,inplace=True)"
   ]
  },
  {
   "cell_type": "code",
   "execution_count": 25,
   "metadata": {},
   "outputs": [
    {
     "name": "stdout",
     "output_type": "stream",
     "text": [
      "['柠檬汁数滴', '柠檬蜜', '柠檬丝', '四柠檬', '柠檬三', '柠檬凝乳', '泰国绿皮柠檬', '小柠檬', '柠檬片', '小颗柠檬汁', '内馅柠檬凝乳', '柠檬挤汁', '柠檬屑', '鲜柠檬片', '柠檬汁滴', '蜜渍柠檬', '浓缩柠檬汁', '黄柠檬汁', '黄柠檬', '柠檬几滴', '青柠檬', '柠檬奶冻', '柠檬叶', '柠檬汁几滴', '柠檬盐', '鲜柠檬汁', '鲜榨青柠檬汁', '柠檬片片', '挞馅柠檬', '柠檬半', '鲜柠檬', '柠檬汁', '柠檬沙拉汁', '柠檬角', '柠檬青柠', '酸柠檬', '泰式柠檬叶', '柠檬浓缩汁', '柠檬汁替代', '柠檬叶子', '青柠檬汁', '柠檬蜂蜜', '柠檬馅', '小青柠檬', '柠檬液', '柠檬', '鲜榨柠檬汁', '柠檬切片', '柠檬海盐']\n"
     ]
    }
   ],
   "source": [
    "lemon_str=[]\n",
    "for index,row in x_ingr.iterrows():\n",
    "    if re.search('柠檬',row.ingredients)!=None:\n",
    "        #x_ingr.loc[index,'ingredients']='banana'\n",
    "        lemon_str.append(x_ingr.loc[index,'ingredients'])\n",
    "print(list(set(lemon_str)))"
   ]
  },
  {
   "cell_type": "code",
   "execution_count": 46,
   "metadata": {},
   "outputs": [],
   "source": [
    "for index,row in x_ingr.iterrows():\n",
    "    if re.search('柠檬.*汁',row.ingredients)!=None:\n",
    "        x_ingr.loc[index,'ingredients']='lemon_juice'"
   ]
  },
  {
   "cell_type": "code",
   "execution_count": 47,
   "metadata": {},
   "outputs": [],
   "source": [
    "for index,row in x_ingr.iterrows():\n",
    "    if re.search('柠檬',row.ingredients)!=None:\n",
    "        x_ingr.loc[index,'ingredients']='lemon'"
   ]
  },
  {
   "cell_type": "code",
   "execution_count": 48,
   "metadata": {},
   "outputs": [],
   "source": [
    "for index,row in x_ingr.iterrows():\n",
    "    if re.search('檸檬皮',row.ingredients)!=None:\n",
    "        x_ingr.loc[index,'ingredients']='lemon_peel'"
   ]
  },
  {
   "cell_type": "code",
   "execution_count": 49,
   "metadata": {},
   "outputs": [],
   "source": [
    "for index,row in x_ingr.iterrows():\n",
    "    if re.search('檸檬汁',row.ingredients)!=None:\n",
    "        x_ingr.loc[index,'ingredients']='lemon_juice'"
   ]
  },
  {
   "cell_type": "code",
   "execution_count": 66,
   "metadata": {},
   "outputs": [
    {
     "name": "stdout",
     "output_type": "stream",
     "text": [
      "['小青桔', '小金桔', '橘子酱', '无核橘', '青桔', '青金橘', '金桔', '小橘子', '无核桔子', '桔子叶子', '青金桔', '金桔汁', '金橘', '橘子叶', '柑橘', '越橘干', '橘皮丁', '小青橘', '桔子', '橘子', '橘皮', '橘子皮', '金桔蜜饯', '大橘子', '小柑橘', '青皮桔子', '桔皮', '金桔饼', '橘子汁', '桔子酱']\n"
     ]
    }
   ],
   "source": [
    "## 橘子/桔子 mandarin\n",
    "mandarin_str=[]\n",
    "for index,row in x_ingr.iterrows():\n",
    "    if (re.search('橘',row.ingredients)!=None) or (re.search('桔',row.ingredients)!=None):\n",
    "        #x_ingr.loc[index,'ingredients']='banana'\n",
    "        mandarin_str.append(x_ingr.loc[index,'ingredients'])\n",
    "print(list(set(mandarin_str)))"
   ]
  },
  {
   "cell_type": "code",
   "execution_count": 50,
   "metadata": {},
   "outputs": [],
   "source": [
    "for index,row in x_ingr.iterrows():\n",
    "    if (re.search('橘',row.ingredients)!=None) or (re.search('桔',row.ingredients)!=None):\n",
    "        x_ingr.loc[index,'ingredients']='mandarin'"
   ]
  },
  {
   "cell_type": "code",
   "execution_count": 116,
   "metadata": {},
   "outputs": [
    {
     "name": "stdout",
     "output_type": "stream",
     "text": [
      "['香梨', '大雪花梨', '雪梨肉', '去皮凤梨', '梨汁', '洋梨', '雪梨', '凤梨娴馅', '皇冠梨', '红皮梨', '梨子', '凤梨', '鳄梨', '梨', '白梨', '烟台梨', '台湾凤梨', '大梨', '雪花梨', '秋梨', '梨各半只']\n"
     ]
    }
   ],
   "source": [
    "## 梨  -- pear\n",
    "mandarin_str=[]\n",
    "for index,row in x_ingr.iterrows():\n",
    "    if re.search('梨',row.ingredients)!=None:\n",
    "        #x_ingr.loc[index,'ingredients']='banana'\n",
    "        mandarin_str.append(x_ingr.loc[index,'ingredients'])\n",
    "print(list(set(mandarin_str)))"
   ]
  },
  {
   "cell_type": "code",
   "execution_count": 51,
   "metadata": {},
   "outputs": [],
   "source": [
    "for index,row in x_ingr.iterrows():\n",
    "    if (re.search('龙眼',row.ingredients)!=None) or (re.search('桂圆',row.ingredients)!=None):\n",
    "        x_ingr.drop(index,inplace=True)"
   ]
  },
  {
   "cell_type": "code",
   "execution_count": 52,
   "metadata": {},
   "outputs": [],
   "source": [
    "for index,row in x_ingr.iterrows():\n",
    "    if re.search('鳄梨',row.ingredients)!=None:\n",
    "        x_ingr.loc[index,'ingredients']='avocado' "
   ]
  },
  {
   "cell_type": "code",
   "execution_count": 53,
   "metadata": {},
   "outputs": [],
   "source": [
    "for index,row in x_ingr.iterrows():\n",
    "    if re.search('梨',row.ingredients)!=None:\n",
    "        x_ingr.loc[index,'ingredients']='pear' "
   ]
  },
  {
   "cell_type": "code",
   "execution_count": null,
   "metadata": {},
   "outputs": [],
   "source": [
    "## meat "
   ]
  },
  {
   "cell_type": "code",
   "execution_count": 40,
   "metadata": {},
   "outputs": [
    {
     "name": "stdout",
     "output_type": "stream",
     "text": [
      "['手工香肠', '台湾香肠', '法兰福香肠', '方腿香肠', '生香肠', '齿物香肠', '皇中皇香肠', '萨拉米香肠片', '荷美尔台湾香肠', '手工辣香肠', '双汇香肠', '台湾脆皮小香肠', '广式香肠', '哈尔滨香肠', '京味香肠', '小香肠', '香肠', '广东香肠', '萨拉米香肠', '风干香肠', '迷你香肠', '台式香肠']\n"
     ]
    }
   ],
   "source": [
    "# pork_sausage\n",
    "meat_str=[]\n",
    "for index,row in x_ingr.iterrows():\n",
    "    if re.search('香肠',row.ingredients)!=None:\n",
    "        #x_ingr.loc[index,'ingredients']='banana'\n",
    "        meat_str.append(x_ingr.loc[index,'ingredients'])\n",
    "print(list(set(meat_str)))"
   ]
  },
  {
   "cell_type": "code",
   "execution_count": 30,
   "metadata": {},
   "outputs": [],
   "source": [
    "for index,row in x_ingr.iterrows():\n",
    "    if re.search('香肠',row.ingredients)!=None:\n",
    "        x_ingr.loc[index,'ingredients']='pork_sausage'"
   ]
  },
  {
   "cell_type": "code",
   "execution_count": 31,
   "metadata": {},
   "outputs": [],
   "source": [
    "for index,row in x_ingr.iterrows():\n",
    "    if re.search('排',row.ingredients)!=None:\n",
    "        x_ingr.loc[index,'ingredients']='pork'        "
   ]
  },
  {
   "cell_type": "code",
   "execution_count": 82,
   "metadata": {},
   "outputs": [
    {
     "name": "stdout",
     "output_type": "stream",
     "text": [
      "['豆瓣酱']\n"
     ]
    }
   ],
   "source": [
    "meat_str=[]\n",
    "for index,row in x_ingr.iterrows():\n",
    "    if re.search('肉',row.ingredients)!=None:\n",
    "        #x_ingr.loc[index,'ingredients']='banana'\n",
    "        meat_str.append(x_ingr.loc[index,'ingredients'])\n",
    "print(list(set(meat_str)))"
   ]
  },
  {
   "cell_type": "code",
   "execution_count": 54,
   "metadata": {},
   "outputs": [],
   "source": [
    "for index,row in x_ingr.iterrows():\n",
    "    if (re.search('马蹄肉',row.ingredients)!=None) or (re.search('菱角肉',row.ingredients)!=None) or (re.search('兔肉',row.ingredients)!=None) or (re.search('肉饼',row.ingredients)!=None) or (re.search('螺蛳肉',row.ingredients)!=None) or (re.search('肉锤',row.ingredients)!=None):\n",
    "        x_ingr.drop(index,inplace=True)"
   ]
  },
  {
   "cell_type": "code",
   "execution_count": 55,
   "metadata": {},
   "outputs": [],
   "source": [
    "for index,row in x_ingr.iterrows():\n",
    "    if re.search('肉粉',row.ingredients)!=None:\n",
    "        x_ingr.drop(index,inplace=True)"
   ]
  },
  {
   "cell_type": "code",
   "execution_count": 56,
   "metadata": {},
   "outputs": [],
   "source": [
    "for index,row in x_ingr.iterrows():\n",
    "    if re.search('肉包',row.ingredients)!=None:\n",
    "        x_ingr.drop(index,inplace=True)"
   ]
  },
  {
   "cell_type": "code",
   "execution_count": 57,
   "metadata": {},
   "outputs": [],
   "source": [
    "for index,row in x_ingr.iterrows():\n",
    "    if re.search('果肉',row.ingredients)!=None:\n",
    "        x_ingr.loc[index,'ingredients']='fruit'"
   ]
  },
  {
   "cell_type": "code",
   "execution_count": 58,
   "metadata": {},
   "outputs": [],
   "source": [
    "for index,row in x_ingr.iterrows():\n",
    "    if re.search('肉酱',row.ingredients)!=None:\n",
    "        x_ingr.drop(index,inplace=True)"
   ]
  },
  {
   "cell_type": "code",
   "execution_count": 59,
   "metadata": {},
   "outputs": [],
   "source": [
    "for index,row in x_ingr.iterrows():\n",
    "    if (re.search('肉糜',row.ingredients)!=None) or (re.search('肉沫',row.ingredients)!=None) or (re.search('肉丁',row.ingredients)!=None) or (re.search('肉末',row.ingredients)!=None):\n",
    "        x_ingr.loc[index,'ingredients']='pork'"
   ]
  },
  {
   "cell_type": "code",
   "execution_count": 60,
   "metadata": {},
   "outputs": [],
   "source": [
    "for index,row in x_ingr.iterrows():\n",
    "    if (re.search('肥.*肉',row.ingredients)!=None) or (re.search('里.*肉',row.ingredients)!=None) or (re.search('腿肉',row.ingredients)!=None) or (re.search('精肉',row.ingredients)!=None) or (re.search('鲜肉',row.ingredients)!=None):\n",
    "        x_ingr.loc[index,'ingredients']='pork'"
   ]
  },
  {
   "cell_type": "code",
   "execution_count": 61,
   "metadata": {},
   "outputs": [],
   "source": [
    "for index,row in x_ingr.iterrows():\n",
    "    if (re.search('梅.*肉',row.ingredients)!=None) or (re.search('颈背肉',row.ingredients)!=None) or (re.search('前尖肉',row.ingredients)!=None) or (re.search('臀尖肉',row.ingredients)!=None) or (re.search('去皮前上肉',row.ingredients)!=None):\n",
    "        x_ingr.loc[index,'ingredients']='pork'"
   ]
  },
  {
   "cell_type": "code",
   "execution_count": 62,
   "metadata": {},
   "outputs": [],
   "source": [
    "for index,row in x_ingr.iterrows():\n",
    "    if re.search('鸭',row.ingredients)!=None:\n",
    "        x_ingr.drop(index,inplace=True)"
   ]
  },
  {
   "cell_type": "code",
   "execution_count": 63,
   "metadata": {},
   "outputs": [],
   "source": [
    "for index,row in x_ingr.iterrows():\n",
    "    if re.search('肉松',row.ingredients)!=None:\n",
    "        x_ingr.drop(index,inplace=True)"
   ]
  },
  {
   "cell_type": "code",
   "execution_count": 64,
   "metadata": {},
   "outputs": [],
   "source": [
    "for index,row in x_ingr.iterrows():\n",
    "    if re.search('肉馅',row.ingredients)!=None:\n",
    "        x_ingr.drop(index,inplace=True)"
   ]
  },
  {
   "cell_type": "code",
   "execution_count": 65,
   "metadata": {},
   "outputs": [],
   "source": [
    "for index,row in x_ingr.iterrows():\n",
    "    if re.search('肉料',row.ingredients)!=None:\n",
    "        x_ingr.drop(index,inplace=True)"
   ]
  },
  {
   "cell_type": "code",
   "execution_count": 66,
   "metadata": {},
   "outputs": [],
   "source": [
    "for index,row in x_ingr.iterrows():\n",
    "    if re.search('午餐肉',row.ingredients)!=None:\n",
    "        x_ingr.loc[index,'ingredients']='ham'"
   ]
  },
  {
   "cell_type": "code",
   "execution_count": 81,
   "metadata": {},
   "outputs": [],
   "source": [
    "for index,row in x_ingr.iterrows():\n",
    "    if re.search('肉',row.ingredients)!=None:\n",
    "        x_ingr.loc[index,'ingredients']='pork'"
   ]
  },
  {
   "cell_type": "code",
   "execution_count": 73,
   "metadata": {},
   "outputs": [],
   "source": [
    "for index,row in x_ingr.iterrows():\n",
    "    if re.search('蚬',row.ingredients)!=None:\n",
    "        x_ingr.loc[index,'ingredients']='clam'"
   ]
  },
  {
   "cell_type": "code",
   "execution_count": 74,
   "metadata": {},
   "outputs": [],
   "source": [
    "for index,row in x_ingr.iterrows():\n",
    "    if re.search('蛎',row.ingredients)!=None:\n",
    "        x_ingr.loc[index,'ingredients']='oyster'"
   ]
  },
  {
   "cell_type": "code",
   "execution_count": 83,
   "metadata": {},
   "outputs": [
    {
     "name": "stdout",
     "output_type": "stream",
     "text": [
      "['酥顶部分', '慕斯部分', '番茄罐头', '糖霜部分', '油酥部分', '料理盆', '糖面部分', '饼干底部分', '罐子', '咸奶油部分', '夹心部分', '黄浆部分', '奶油部分', '玻璃罐子', '部分', '罐装橄榄菜', '做之前请先细看每步骤', '第一部分', '戚风卷部分', '饼皮部分', '斑斓汁部分', '花盆', '密封罐', '另需水一盆', '意大利无铅玻璃罐', '第三部分', '水果罐头', '内馅部分', '調理たけのこ', '密封玻璃罐', '表层部分', '水要要预留点', '涂料', '流心部分', '饼干部分', '汤种部分', '盆子', '奶粉～可加可不加', '第二部分', '虎皮卷部分', '夹馅儿部分', '配料部分', '玻璃密封罐', '易拉罐', '\\u200d密封罐', '看步骤', '炼乳罐头', '宜家小玻璃罐', '用量可以按照……', '罐装番茄酱', '油皮部分', '焖烧罐']\n"
     ]
    }
   ],
   "source": [
    "# tool\n",
    "tool_str=[]\n",
    "for index,row in x_ingr.iterrows():\n",
    "    if (re.search('罐',row.ingredients)!=None) or (re.search('盆',row.ingredients)!=None) or (re.search('涂料',row.ingredients)!=None) or (re.search('調理',row.ingredients)!=None) or (re.search('用量可以按照',row.ingredients)!=None) or (re.search('可加可不加',row.ingredients)!=None) or (re.search('.*部分',row.ingredients)!=None) or (re.search('预留',row.ingredients)!=None) or (re.search('菜谱',row.ingredients)!=None) or (re.search('步骤',row.ingredients)!=None):\n",
    "        #x_ingr.loc[index,'ingredients']='banana' \n",
    "        tool_str.append(x_ingr.loc[index,'ingredients'])\n",
    "print(list(set(tool_str)))"
   ]
  },
  {
   "cell_type": "code",
   "execution_count": 84,
   "metadata": {},
   "outputs": [],
   "source": [
    "for index,row in x_ingr.iterrows():\n",
    "    if (re.search('罐',row.ingredients)!=None) or (re.search('盆',row.ingredients)!=None) or (re.search('涂料',row.ingredients)!=None) or (re.search('調理',row.ingredients)!=None) or (re.search('用量可以按照',row.ingredients)!=None) or (re.search('可加可不加',row.ingredients)!=None) or (re.search('.*部分',row.ingredients)!=None) or (re.search('预留',row.ingredients)!=None) or (re.search('菜谱',row.ingredients)!=None) or (re.search('步骤',row.ingredients)!=None):\n",
    "        x_ingr.drop(index,inplace=True)"
   ]
  },
  {
   "cell_type": "code",
   "execution_count": 85,
   "metadata": {},
   "outputs": [],
   "source": [
    "for index,row in x_ingr.iterrows():\n",
    "    if (re.search('配料',row.ingredients)!=None) or (re.search('放多少随你',row.ingredients)!=None) or (re.search('自备',row.ingredients)!=None) or (re.search('纸',row.ingredients)!=None) or (re.search('煤气灶',row.ingredients)!=None) or (re.search('牙签',row.ingredients)!=None) or (re.search('蓝风车',row.ingredients)!=None) or (re.search('这是',row.ingredients)!=None) or (re.search('食谱',row.ingredients)!=None) or (re.search('不放',row.ingredients)!=None):\n",
    "        x_ingr.drop(index,inplace=True) "
   ]
  },
  {
   "cell_type": "code",
   "execution_count": 86,
   "metadata": {},
   "outputs": [],
   "source": [
    "for index,row in x_ingr.iterrows():\n",
    "    if (re.search('袋$',row.ingredients)!=None) or (re.search('杯',row.ingredients)!=None) or (re.search('方法',row.ingredients)!=None) or (re.search('爱意',row.ingredients)!=None) or (re.search('瞅上面哈',row.ingredients)!=None) or (re.search('管',row.ingredients)!=None) or (re.search('若干',row.ingredients)!=None) or (re.search('食材',row.ingredients)!=None) or (re.search('花嘴',row.ingredients)!=None) or (re.search('屉',row.ingredients)!=None) or (re.search('分量',row.ingredients)!=None) or (re.search('工具',row.ingredients)!=None) or (re.search('以上',row.ingredients)!=None) or (re.search('胚',row.ingredients)!=None) or (re.search('纸',row.ingredients)!=None) or (re.search('剪',row.ingredients)!=None) or (re.search('撮',row.ingredients)!=None) or (re.search('盒',row.ingredients)!=None) or (re.search('分量',row.ingredients)!=None):\n",
    "        x_ingr.drop(index,inplace=True)"
   ]
  },
  {
   "cell_type": "code",
   "execution_count": null,
   "metadata": {},
   "outputs": [],
   "source": [
    "## herb\n",
    "for index,row in x_ingr.iterrows():\n",
    "    if (re.search('肉寇',row.ingredients)!=None) or (re.search('肉蔻',row.ingredients)!=None):\n",
    "        x_ingr.loc[index,'ingredients']='mace'"
   ]
  },
  {
   "cell_type": "code",
   "execution_count": 57,
   "metadata": {},
   "outputs": [
    {
     "name": "stdout",
     "output_type": "stream",
     "text": [
      "['重庆花椒', '海椒花椒', '鲜青花椒', '紫花椒', '香料花椒', '花椒粉）', '汉源花椒', '青花椒', '辣椒花椒', '刀口青花椒', '五香粉花椒粉', '花椒', '青红花椒', '红花椒', '绿花椒', '花椒粉']\n"
     ]
    }
   ],
   "source": [
    "herb_str=[]\n",
    "for index,row in x_ingr.iterrows():\n",
    "    if (re.search('花椒$',row.ingredients)!=None) or (re.search('花椒粉',row.ingredients)!=None):\n",
    "        #x_ingr.loc[index,'ingredients']='banana'\n",
    "        herb_str.append(x_ingr.loc[index,'ingredients'])\n",
    "print(list(set(herb_str)))"
   ]
  },
  {
   "cell_type": "code",
   "execution_count": 87,
   "metadata": {},
   "outputs": [],
   "source": [
    "for index,row in x_ingr.iterrows():\n",
    "    if (re.search('花椒$',row.ingredients)!=None) or (re.search('花椒粉',row.ingredients)!=None):\n",
    "        x_ingr.loc[index,'ingredients']='zanthoxylum_piperitum'"
   ]
  },
  {
   "cell_type": "code",
   "execution_count": 88,
   "metadata": {},
   "outputs": [],
   "source": [
    "for index,row in x_ingr.iterrows():\n",
    "    if re.search('花椒油',row.ingredients)!=None:\n",
    "        x_ingr.loc[index,'ingredients']='zanthoxylum_piperitum_fruit_oil'"
   ]
  },
  {
   "cell_type": "code",
   "execution_count": 70,
   "metadata": {},
   "outputs": [],
   "source": [
    "for index,row in x_ingr.iterrows():\n",
    "    if re.search('蚝油',row.ingredients)!=None:\n",
    "        x_ingr.loc[index,'ingredients']='oyster_sauce'"
   ]
  },
  {
   "cell_type": "code",
   "execution_count": 71,
   "metadata": {},
   "outputs": [],
   "source": [
    "for index,row in x_ingr.iterrows():\n",
    "    if re.search('蚝',row.ingredients)!=None:\n",
    "        x_ingr.loc[index,'ingredients']='oyster'"
   ]
  },
  {
   "cell_type": "code",
   "execution_count": 89,
   "metadata": {},
   "outputs": [],
   "source": [
    "for index,row in x_ingr.iterrows():\n",
    "    if re.search('十三香',row.ingredients)!=None:\n",
    "        x_ingr.loc[index,'ingredients']='thirteen_spices'"
   ]
  },
  {
   "cell_type": "code",
   "execution_count": 90,
   "metadata": {},
   "outputs": [],
   "source": [
    "for index,row in x_ingr.iterrows():\n",
    "    if re.search('五香粉',row.ingredients)!=None:\n",
    "        x_ingr.loc[index,'ingredients']='five_spice_powder'"
   ]
  },
  {
   "cell_type": "code",
   "execution_count": 91,
   "metadata": {},
   "outputs": [],
   "source": [
    "for index,row in x_ingr.iterrows():\n",
    "    if re.search('豆瓣酱',row.ingredients)!=None:\n",
    "        x_ingr.loc[index,'ingredients']='chilli_bean_paste'"
   ]
  },
  {
   "cell_type": "code",
   "execution_count": 122,
   "metadata": {
    "scrolled": true
   },
   "outputs": [
    {
     "name": "stdout",
     "output_type": "stream",
     "text": [
      "['枣子', '大枣枸杞', '大枣', '大枣干去核', '若羌特大灰枣', '田玉枣', '红枣肉', '无核小枣', '豫生园去核红枣', '去核大枣', '红枣', '大枣颗', '枣泥馅', '灰枣', '枣仁', '红枣泥', '冬枣', '红枣放冷水泡一小时', '酸枣仁', '红枣片', '红枣枸杞', '红枣干', '大红枣', '黑枣', '新疆大枣', '新疆若羌红枣', '国产大枣', '红枣数', '去核干红枣', '无核蜜枣', '无核红枣', '枣', '广式枣泥馅', '田大枣', '金丝蜜枣', '去核红枣', '小枣', '蜜枣', '若羌红枣', '乌枣', '金丝小枣', '红枣去核', '若羌枣', '去核红枣颗', '小红枣', '枣泥', '枣片', '红枣净肉', '去籽红枣', '大枣枸杞酱']\n"
     ]
    }
   ],
   "source": [
    "## vegetable\n",
    "veg_str=[]\n",
    "for index,row in x_ingr.iterrows():\n",
    "    if re.search('枣',row.ingredients)!=None:\n",
    "        #x_ingr.loc[index,'ingredients']='banana'\n",
    "        veg_str.append(x_ingr.loc[index,'ingredients'])\n",
    "print(list(set(veg_str)))"
   ]
  },
  {
   "cell_type": "code",
   "execution_count": 72,
   "metadata": {},
   "outputs": [],
   "source": [
    "for index,row in x_ingr.iterrows():\n",
    "    if re.search('枣',row.ingredients)!=None:\n",
    "        x_ingr.loc[index,'ingredients']='jujube'"
   ]
  },
  {
   "cell_type": "code",
   "execution_count": 77,
   "metadata": {},
   "outputs": [],
   "source": [
    "for index,row in x_ingr.iterrows():\n",
    "    if re.search('枇杷',row.ingredients)!=None:\n",
    "        x_ingr.loc[index,'ingredients']='loquat'"
   ]
  },
  {
   "cell_type": "code",
   "execution_count": 78,
   "metadata": {},
   "outputs": [],
   "source": [
    "for index,row in x_ingr.iterrows():\n",
    "    if re.search('杞',row.ingredients)!=None:\n",
    "        x_ingr.loc[index,'ingredients']='lycium_barbarum'"
   ]
  },
  {
   "cell_type": "code",
   "execution_count": 79,
   "metadata": {},
   "outputs": [],
   "source": [
    "for index,row in x_ingr.iterrows():\n",
    "    if (re.search('山药',row.ingredients)!=None) or (re.search('淮山',row.ingredients)!=None):\n",
    "        x_ingr.loc[index,'ingredients']='yam'"
   ]
  },
  {
   "cell_type": "code",
   "execution_count": 76,
   "metadata": {},
   "outputs": [],
   "source": [
    "for index,row in x_ingr.iterrows():\n",
    "    if re.search('栗',row.ingredients)!=None:\n",
    "        x_ingr.loc[index,'ingredients']='Chinese_chestnut'"
   ]
  },
  {
   "cell_type": "code",
   "execution_count": 26,
   "metadata": {},
   "outputs": [
    {
     "name": "stdout",
     "output_type": "stream",
     "text": [
      "['煮花生', '腰果花生', '红皮生花生', '新花生', '小红衣生花生', '红皮花生米', '煮花生米', '花生仁', '无壳花生', '生红皮花生', '红皮花生', '脆花生', '麻辣花生', '花生豆', '花生糖粉', '花生米', '红衣花生', '花生末', '五香花生米', '白皮花生', '花生', '花生等坚果', '烤花生', '生花生仁', '生花生', '咸味花生', '红皮花生若干', '表面装饰花生仁', '生花生米', '花生红衣', '带壳花生', '酒鬼花生', '黄飞红麻辣花生', '大花生', '小红花生', '去皮花生', '熟脱皮花生仁']\n"
     ]
    }
   ],
   "source": [
    "## nut\n",
    "nut_str=[]\n",
    "for index,row in x_ingr.iterrows():\n",
    "    if re.search('花生',row.ingredients)!=None:\n",
    "        #x_ingr.loc[index,'ingredients']='banana'\n",
    "        nut_str.append(x_ingr.loc[index,'ingredients'])\n",
    "print(list(set(nut_str)))"
   ]
  },
  {
   "cell_type": "code",
   "execution_count": 23,
   "metadata": {},
   "outputs": [],
   "source": [
    "for index,row in x_ingr.iterrows():\n",
    "    if re.search('花生酱',row.ingredients)!=None:\n",
    "        x_ingr.loc[index,'ingredients']='peanut_butter'"
   ]
  },
  {
   "cell_type": "code",
   "execution_count": 25,
   "metadata": {},
   "outputs": [],
   "source": [
    "for index,row in x_ingr.iterrows():\n",
    "    if (re.search('熟花生',row.ingredients)!=None) or (re.search('炒花生',row.ingredients)!=None) or (re.search('油.*花生',row.ingredients)!=None) or (re.search('炸花生米',row.ingredients)!=None):\n",
    "        x_ingr.loc[index,'ingredients']='roasted_peanut'"
   ]
  },
  {
   "cell_type": "code",
   "execution_count": 27,
   "metadata": {},
   "outputs": [],
   "source": [
    "for index,row in x_ingr.iterrows():\n",
    "    if re.search('烤花生',row.ingredients)!=None:\n",
    "        x_ingr.loc[index,'ingredients']='roasted_peanut'"
   ]
  },
  {
   "cell_type": "code",
   "execution_count": 28,
   "metadata": {},
   "outputs": [],
   "source": [
    "for index,row in x_ingr.iterrows():\n",
    "    if re.search('花生',row.ingredients)!=None:\n",
    "        x_ingr.loc[index,'ingredients']='peanut'"
   ]
  },
  {
   "cell_type": "code",
   "execution_count": null,
   "metadata": {},
   "outputs": [],
   "source": []
  }
 ],
 "metadata": {
  "kernelspec": {
   "display_name": "Python 3",
   "language": "python",
   "name": "python3"
  },
  "language_info": {
   "codemirror_mode": {
    "name": "ipython",
    "version": 3
   },
   "file_extension": ".py",
   "mimetype": "text/x-python",
   "name": "python",
   "nbconvert_exporter": "python",
   "pygments_lexer": "ipython3",
   "version": "3.6.3"
  }
 },
 "nbformat": 4,
 "nbformat_minor": 2
}
