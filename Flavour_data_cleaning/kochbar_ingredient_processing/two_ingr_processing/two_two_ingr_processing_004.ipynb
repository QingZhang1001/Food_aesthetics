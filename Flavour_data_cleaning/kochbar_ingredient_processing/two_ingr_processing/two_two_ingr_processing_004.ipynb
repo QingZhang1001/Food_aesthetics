{
 "cells": [
  {
   "cell_type": "code",
   "execution_count": 1,
   "metadata": {},
   "outputs": [
    {
     "name": "stderr",
     "output_type": "stream",
     "text": [
      "[nltk_data] Downloading package averaged_perceptron_tagger to\n",
      "[nltk_data]     /home/IW_student/nltk_data...\n",
      "[nltk_data]   Package averaged_perceptron_tagger is already up-to-\n",
      "[nltk_data]       date!\n"
     ]
    }
   ],
   "source": [
    "import pandas as pd\n",
    "import numpy as np\n",
    "import re\n",
    "\n",
    "import nltk\n",
    "nltk.download('averaged_perceptron_tagger')\n",
    "from nltk import word_tokenize, pos_tag\n",
    "from nltk.corpus import wordnet\n",
    "from nltk.stem import WordNetLemmatizer"
   ]
  },
  {
   "cell_type": "code",
   "execution_count": 33,
   "metadata": {},
   "outputs": [],
   "source": [
    "two_ingr_done_001=pd.read_csv('~/work/food_flavor/kochbar_ingredient_preprocessing/datasets/two_ingr_data/two_two_ingr_done_001.csv',index_col=0)\n",
    "two_ingr_done_002=pd.read_csv('~/work/food_flavor/kochbar_ingredient_preprocessing/datasets/two_ingr_data/two_two_ingr_done_002.csv',index_col=0)\n",
    "two_ingr_done_003=pd.read_csv('~/work/food_flavor/kochbar_ingredient_preprocessing/datasets/two_ingr_data/two_two_ingr_done_003.csv',index_col=0)\n",
    "two_ingr_done_004=pd.read_csv('~/work/food_flavor/kochbar_ingredient_preprocessing/datasets/two_ingr_data/two_two_ingr_done_004.csv',index_col=0)\n",
    "two_ingr_005=pd.read_csv('~/work/food_flavor/kochbar_ingredient_preprocessing/datasets/two_ingr_data/two_two_ingr_done_005.csv',index_col=0)"
   ]
  },
  {
   "cell_type": "code",
   "execution_count": 35,
   "metadata": {},
   "outputs": [
    {
     "data": {
      "text/plain": [
       "(3136, 3)"
      ]
     },
     "execution_count": 35,
     "metadata": {},
     "output_type": "execute_result"
    }
   ],
   "source": [
    "two_ingr_005.shape"
   ]
  },
  {
   "cell_type": "code",
   "execution_count": 4,
   "metadata": {},
   "outputs": [],
   "source": [
    "two_ingr_005['en_ingr'][two_ingr_005['en_ingr']=='french fries']='french_fries'"
   ]
  },
  {
   "cell_type": "code",
   "execution_count": 8,
   "metadata": {},
   "outputs": [
    {
     "data": {
      "text/plain": [
       "(2514, 3)"
      ]
     },
     "execution_count": 8,
     "metadata": {},
     "output_type": "execute_result"
    }
   ],
   "source": [
    "two_ingr_keep=two_ingr_005[two_ingr_005['en_ingr'].str.split().str.len()==1]\n",
    "two_ingr_keep.shape"
   ]
  },
  {
   "cell_type": "code",
   "execution_count": 13,
   "metadata": {
    "collapsed": true,
    "jupyter": {
     "outputs_hidden": true
    }
   },
   "outputs": [
    {
     "data": {
      "text/html": [
       "<div>\n",
       "<style scoped>\n",
       "    .dataframe tbody tr th:only-of-type {\n",
       "        vertical-align: middle;\n",
       "    }\n",
       "\n",
       "    .dataframe tbody tr th {\n",
       "        vertical-align: top;\n",
       "    }\n",
       "\n",
       "    .dataframe thead th {\n",
       "        text-align: right;\n",
       "    }\n",
       "</style>\n",
       "<table border=\"1\" class=\"dataframe\">\n",
       "  <thead>\n",
       "    <tr style=\"text-align: right;\">\n",
       "      <th></th>\n",
       "      <th>ingredient_name</th>\n",
       "      <th>parse_ingr</th>\n",
       "      <th>en_ingr</th>\n",
       "      <th>tag</th>\n",
       "    </tr>\n",
       "  </thead>\n",
       "  <tbody>\n",
       "    <tr>\n",
       "      <th>0</th>\n",
       "      <td>pommes frites</td>\n",
       "      <td>pommes frites</td>\n",
       "      <td>french_fries</td>\n",
       "      <td>n</td>\n",
       "    </tr>\n",
       "    <tr>\n",
       "      <th>3</th>\n",
       "      <td>schwlende geräuchert</td>\n",
       "      <td>schwlende geräuchert</td>\n",
       "      <td>smoked_pork</td>\n",
       "      <td>n</td>\n",
       "    </tr>\n",
       "    <tr>\n",
       "      <th>4</th>\n",
       "      <td>pökelwaren eisbein</td>\n",
       "      <td>pökelwaren eisbein</td>\n",
       "      <td>cured_pork</td>\n",
       "      <td>n</td>\n",
       "    </tr>\n",
       "    <tr>\n",
       "      <th>5</th>\n",
       "      <td>weinbeeren neuform</td>\n",
       "      <td>weinbeeren neuform</td>\n",
       "      <td>grape</td>\n",
       "      <td>n</td>\n",
       "    </tr>\n",
       "    <tr>\n",
       "      <th>7</th>\n",
       "      <td>orange fruchtsaft</td>\n",
       "      <td>orange fruchtsaft</td>\n",
       "      <td>orange_juice</td>\n",
       "      <td>n</td>\n",
       "    </tr>\n",
       "    <tr>\n",
       "      <th>...</th>\n",
       "      <td>...</td>\n",
       "      <td>...</td>\n",
       "      <td>...</td>\n",
       "      <td>...</td>\n",
       "    </tr>\n",
       "    <tr>\n",
       "      <th>3129</th>\n",
       "      <td>bratwurst geräuchert</td>\n",
       "      <td>bratwurst geräuchert</td>\n",
       "      <td>smoked_sausage</td>\n",
       "      <td>n</td>\n",
       "    </tr>\n",
       "    <tr>\n",
       "      <th>3130</th>\n",
       "      <td>aprikose konserve</td>\n",
       "      <td>aprikose konserve</td>\n",
       "      <td>apricot</td>\n",
       "      <td>n</td>\n",
       "    </tr>\n",
       "    <tr>\n",
       "      <th>3131</th>\n",
       "      <td>paprika rotgelbgrün</td>\n",
       "      <td>paprika rotgelbgrün</td>\n",
       "      <td>paprika</td>\n",
       "      <td>n</td>\n",
       "    </tr>\n",
       "    <tr>\n",
       "      <th>3134</th>\n",
       "      <td>kle vomschwein</td>\n",
       "      <td>kle vomschwein</td>\n",
       "      <td>pork</td>\n",
       "      <td>n</td>\n",
       "    </tr>\n",
       "    <tr>\n",
       "      <th>3135</th>\n",
       "      <td>kalb schnitzel</td>\n",
       "      <td>kalb schnitzel</td>\n",
       "      <td>veal</td>\n",
       "      <td>n</td>\n",
       "    </tr>\n",
       "  </tbody>\n",
       "</table>\n",
       "<p>2514 rows × 4 columns</p>\n",
       "</div>"
      ],
      "text/plain": [
       "           ingredient_name            parse_ingr         en_ingr tag\n",
       "0            pommes frites         pommes frites    french_fries   n\n",
       "3     schwlende geräuchert  schwlende geräuchert     smoked_pork   n\n",
       "4       pökelwaren eisbein    pökelwaren eisbein      cured_pork   n\n",
       "5       weinbeeren neuform    weinbeeren neuform           grape   n\n",
       "7        orange fruchtsaft     orange fruchtsaft    orange_juice   n\n",
       "...                    ...                   ...             ...  ..\n",
       "3129  bratwurst geräuchert  bratwurst geräuchert  smoked_sausage   n\n",
       "3130     aprikose konserve     aprikose konserve         apricot   n\n",
       "3131   paprika rotgelbgrün   paprika rotgelbgrün         paprika   n\n",
       "3134        kle vomschwein        kle vomschwein            pork   n\n",
       "3135        kalb schnitzel        kalb schnitzel            veal   n\n",
       "\n",
       "[2514 rows x 4 columns]"
      ]
     },
     "execution_count": 13,
     "metadata": {},
     "output_type": "execute_result"
    }
   ],
   "source": [
    "two_ingr_keep"
   ]
  },
  {
   "cell_type": "code",
   "execution_count": 10,
   "metadata": {},
   "outputs": [],
   "source": [
    "lemmatizer = WordNetLemmatizer()"
   ]
  },
  {
   "cell_type": "code",
   "execution_count": 11,
   "metadata": {
    "collapsed": true,
    "jupyter": {
     "outputs_hidden": true
    }
   },
   "outputs": [
    {
     "name": "stderr",
     "output_type": "stream",
     "text": [
      "/opt/conda/lib/python3.6/site-packages/ipykernel_launcher.py:1: SettingWithCopyWarning: \n",
      "A value is trying to be set on a copy of a slice from a DataFrame.\n",
      "Try using .loc[row_indexer,col_indexer] = value instead\n",
      "\n",
      "See the caveats in the documentation: https://pandas.pydata.org/pandas-docs/stable/user_guide/indexing.html#returning-a-view-versus-a-copy\n",
      "  \"\"\"Entry point for launching an IPython kernel.\n"
     ]
    }
   ],
   "source": [
    "two_ingr_keep['tag']='n'"
   ]
  },
  {
   "cell_type": "code",
   "execution_count": 12,
   "metadata": {},
   "outputs": [
    {
     "name": "stderr",
     "output_type": "stream",
     "text": [
      "/opt/conda/lib/python3.6/site-packages/ipykernel_launcher.py:1: SettingWithCopyWarning: \n",
      "A value is trying to be set on a copy of a slice from a DataFrame.\n",
      "Try using .loc[row_indexer,col_indexer] = value instead\n",
      "\n",
      "See the caveats in the documentation: https://pandas.pydata.org/pandas-docs/stable/user_guide/indexing.html#returning-a-view-versus-a-copy\n",
      "  \"\"\"Entry point for launching an IPython kernel.\n"
     ]
    }
   ],
   "source": [
    "two_ingr_keep['en_ingr']=two_ingr_keep.apply(lambda x:lemmatizer.lemmatize(x.en_ingr,x.tag),axis=1)"
   ]
  },
  {
   "cell_type": "code",
   "execution_count": 15,
   "metadata": {},
   "outputs": [
    {
     "data": {
      "text/plain": [
       "(622, 3)"
      ]
     },
     "execution_count": 15,
     "metadata": {},
     "output_type": "execute_result"
    }
   ],
   "source": [
    "two_ingr_pending=two_ingr_005[two_ingr_005['en_ingr'].str.split().str.len()>1]\n",
    "two_ingr_pending.shape"
   ]
  },
  {
   "cell_type": "code",
   "execution_count": 17,
   "metadata": {
    "collapsed": true,
    "jupyter": {
     "outputs_hidden": true
    }
   },
   "outputs": [
    {
     "name": "stderr",
     "output_type": "stream",
     "text": [
      "/opt/conda/lib/python3.6/site-packages/ipykernel_launcher.py:1: SettingWithCopyWarning: \n",
      "A value is trying to be set on a copy of a slice from a DataFrame.\n",
      "Try using .loc[row_indexer,col_indexer] = value instead\n",
      "\n",
      "See the caveats in the documentation: https://pandas.pydata.org/pandas-docs/stable/user_guide/indexing.html#returning-a-view-versus-a-copy\n",
      "  \"\"\"Entry point for launching an IPython kernel.\n"
     ]
    }
   ],
   "source": [
    "two_ingr_pending['last_ingr']=two_ingr_pending['en_ingr'].str.split().str[-1]"
   ]
  },
  {
   "cell_type": "code",
   "execution_count": 20,
   "metadata": {
    "collapsed": true,
    "jupyter": {
     "outputs_hidden": true
    }
   },
   "outputs": [
    {
     "name": "stderr",
     "output_type": "stream",
     "text": [
      "/opt/conda/lib/python3.6/site-packages/ipykernel_launcher.py:1: SettingWithCopyWarning: \n",
      "A value is trying to be set on a copy of a slice from a DataFrame.\n",
      "Try using .loc[row_indexer,col_indexer] = value instead\n",
      "\n",
      "See the caveats in the documentation: https://pandas.pydata.org/pandas-docs/stable/user_guide/indexing.html#returning-a-view-versus-a-copy\n",
      "  \"\"\"Entry point for launching an IPython kernel.\n"
     ]
    }
   ],
   "source": [
    "two_ingr_pending['tag']='n'"
   ]
  },
  {
   "cell_type": "code",
   "execution_count": 21,
   "metadata": {
    "collapsed": true,
    "jupyter": {
     "outputs_hidden": true
    }
   },
   "outputs": [
    {
     "name": "stderr",
     "output_type": "stream",
     "text": [
      "/opt/conda/lib/python3.6/site-packages/ipykernel_launcher.py:1: SettingWithCopyWarning: \n",
      "A value is trying to be set on a copy of a slice from a DataFrame.\n",
      "Try using .loc[row_indexer,col_indexer] = value instead\n",
      "\n",
      "See the caveats in the documentation: https://pandas.pydata.org/pandas-docs/stable/user_guide/indexing.html#returning-a-view-versus-a-copy\n",
      "  \"\"\"Entry point for launching an IPython kernel.\n"
     ]
    }
   ],
   "source": [
    "two_ingr_pending['last_ingr']=two_ingr_pending.apply(lambda x:lemmatizer.lemmatize(x.last_ingr,x.tag),axis=1)"
   ]
  },
  {
   "cell_type": "code",
   "execution_count": 23,
   "metadata": {
    "collapsed": true,
    "jupyter": {
     "outputs_hidden": true
    }
   },
   "outputs": [
    {
     "name": "stderr",
     "output_type": "stream",
     "text": [
      "/opt/conda/lib/python3.6/site-packages/ipykernel_launcher.py:1: SettingWithCopyWarning: \n",
      "A value is trying to be set on a copy of a slice from a DataFrame.\n",
      "Try using .loc[row_indexer,col_indexer] = value instead\n",
      "\n",
      "See the caveats in the documentation: https://pandas.pydata.org/pandas-docs/stable/user_guide/indexing.html#returning-a-view-versus-a-copy\n",
      "  \"\"\"Entry point for launching an IPython kernel.\n"
     ]
    }
   ],
   "source": [
    "two_ingr_pending['en_ingr']=two_ingr_pending['en_ingr'].str.split().str[0]+' '+two_ingr_pending['last_ingr']"
   ]
  },
  {
   "cell_type": "code",
   "execution_count": 25,
   "metadata": {
    "collapsed": true,
    "jupyter": {
     "outputs_hidden": true
    }
   },
   "outputs": [
    {
     "name": "stderr",
     "output_type": "stream",
     "text": [
      "/opt/conda/lib/python3.6/site-packages/pandas/core/frame.py:4169: SettingWithCopyWarning: \n",
      "A value is trying to be set on a copy of a slice from a DataFrame\n",
      "\n",
      "See the caveats in the documentation: https://pandas.pydata.org/pandas-docs/stable/user_guide/indexing.html#returning-a-view-versus-a-copy\n",
      "  errors=errors,\n"
     ]
    }
   ],
   "source": [
    "two_ingr_pending.drop(['last_ingr','tag'],axis=1,inplace=True)"
   ]
  },
  {
   "cell_type": "code",
   "execution_count": 31,
   "metadata": {
    "collapsed": true,
    "jupyter": {
     "outputs_hidden": true
    }
   },
   "outputs": [
    {
     "name": "stderr",
     "output_type": "stream",
     "text": [
      "/opt/conda/lib/python3.6/site-packages/ipykernel_launcher.py:1: SettingWithCopyWarning: \n",
      "A value is trying to be set on a copy of a slice from a DataFrame.\n",
      "Try using .loc[row_indexer,col_indexer] = value instead\n",
      "\n",
      "See the caveats in the documentation: https://pandas.pydata.org/pandas-docs/stable/user_guide/indexing.html#returning-a-view-versus-a-copy\n",
      "  \"\"\"Entry point for launching an IPython kernel.\n"
     ]
    }
   ],
   "source": [
    "two_ingr_pending['en_ingr']=two_ingr_pending['en_ingr'].apply(lambda x:x.replace(' ','_'))"
   ]
  },
  {
   "cell_type": "code",
   "execution_count": 32,
   "metadata": {
    "collapsed": true,
    "jupyter": {
     "outputs_hidden": true
    }
   },
   "outputs": [
    {
     "data": {
      "text/html": [
       "<div>\n",
       "<style scoped>\n",
       "    .dataframe tbody tr th:only-of-type {\n",
       "        vertical-align: middle;\n",
       "    }\n",
       "\n",
       "    .dataframe tbody tr th {\n",
       "        vertical-align: top;\n",
       "    }\n",
       "\n",
       "    .dataframe thead th {\n",
       "        text-align: right;\n",
       "    }\n",
       "</style>\n",
       "<table border=\"1\" class=\"dataframe\">\n",
       "  <thead>\n",
       "    <tr style=\"text-align: right;\">\n",
       "      <th></th>\n",
       "      <th>ingredient_name</th>\n",
       "      <th>parse_ingr</th>\n",
       "      <th>en_ingr</th>\n",
       "    </tr>\n",
       "  </thead>\n",
       "  <tbody>\n",
       "    <tr>\n",
       "      <th>1</th>\n",
       "      <td>walnuss panzerotti</td>\n",
       "      <td>walnuss panzerotti</td>\n",
       "      <td>walnut_panzerotti</td>\n",
       "    </tr>\n",
       "    <tr>\n",
       "      <th>2</th>\n",
       "      <td>granatapfel balsamico</td>\n",
       "      <td>granatapfel balsamico</td>\n",
       "      <td>pomegranate_balsamic</td>\n",
       "    </tr>\n",
       "    <tr>\n",
       "      <th>6</th>\n",
       "      <td>kraut sauereingelegt</td>\n",
       "      <td>kraut sauereingelegt</td>\n",
       "      <td>pickled_herb</td>\n",
       "    </tr>\n",
       "    <tr>\n",
       "      <th>11</th>\n",
       "      <td>weisser käse</td>\n",
       "      <td>weisser käse</td>\n",
       "      <td>white_cheese</td>\n",
       "    </tr>\n",
       "    <tr>\n",
       "      <th>13</th>\n",
       "      <td>maggi würstchengulasch</td>\n",
       "      <td>maggi würstchengulasch</td>\n",
       "      <td>sausage_goulash</td>\n",
       "    </tr>\n",
       "    <tr>\n",
       "      <th>...</th>\n",
       "      <td>...</td>\n",
       "      <td>...</td>\n",
       "      <td>...</td>\n",
       "    </tr>\n",
       "    <tr>\n",
       "      <th>3121</th>\n",
       "      <td>orangen saft</td>\n",
       "      <td>orangen saft</td>\n",
       "      <td>orange_juice</td>\n",
       "    </tr>\n",
       "    <tr>\n",
       "      <th>3122</th>\n",
       "      <td>pfirsichsaft derkonserve</td>\n",
       "      <td>pfirsichsaft derkonserve</td>\n",
       "      <td>peach_juice</td>\n",
       "    </tr>\n",
       "    <tr>\n",
       "      <th>3123</th>\n",
       "      <td>gyrosgeschnetzeltes gewürzt</td>\n",
       "      <td>gyrosgeschnetzeltes gewürzt</td>\n",
       "      <td>seasoned_gyro</td>\n",
       "    </tr>\n",
       "    <tr>\n",
       "      <th>3132</th>\n",
       "      <td>brunch paprikapepperoni</td>\n",
       "      <td>brunch paprikapepperoni</td>\n",
       "      <td>brunch_pepperoni</td>\n",
       "    </tr>\n",
       "    <tr>\n",
       "      <th>3133</th>\n",
       "      <td>asiatisches wokgewürz</td>\n",
       "      <td>asiatisches wokgewürz</td>\n",
       "      <td>asian_spice</td>\n",
       "    </tr>\n",
       "  </tbody>\n",
       "</table>\n",
       "<p>622 rows × 3 columns</p>\n",
       "</div>"
      ],
      "text/plain": [
       "                  ingredient_name                   parse_ingr  \\\n",
       "1              walnuss panzerotti           walnuss panzerotti   \n",
       "2           granatapfel balsamico        granatapfel balsamico   \n",
       "6            kraut sauereingelegt         kraut sauereingelegt   \n",
       "11                   weisser käse                 weisser käse   \n",
       "13         maggi würstchengulasch       maggi würstchengulasch   \n",
       "...                           ...                          ...   \n",
       "3121                 orangen saft                 orangen saft   \n",
       "3122     pfirsichsaft derkonserve     pfirsichsaft derkonserve   \n",
       "3123  gyrosgeschnetzeltes gewürzt  gyrosgeschnetzeltes gewürzt   \n",
       "3132      brunch paprikapepperoni      brunch paprikapepperoni   \n",
       "3133        asiatisches wokgewürz        asiatisches wokgewürz   \n",
       "\n",
       "                   en_ingr  \n",
       "1        walnut_panzerotti  \n",
       "2     pomegranate_balsamic  \n",
       "6             pickled_herb  \n",
       "11            white_cheese  \n",
       "13         sausage_goulash  \n",
       "...                    ...  \n",
       "3121          orange_juice  \n",
       "3122           peach_juice  \n",
       "3123         seasoned_gyro  \n",
       "3132      brunch_pepperoni  \n",
       "3133           asian_spice  \n",
       "\n",
       "[622 rows x 3 columns]"
      ]
     },
     "execution_count": 32,
     "metadata": {},
     "output_type": "execute_result"
    }
   ],
   "source": [
    "two_ingr_pending"
   ]
  },
  {
   "cell_type": "code",
   "execution_count": 34,
   "metadata": {},
   "outputs": [
    {
     "data": {
      "text/plain": [
       "(3136, 4)"
      ]
     },
     "execution_count": 34,
     "metadata": {},
     "output_type": "execute_result"
    }
   ],
   "source": [
    "two_ingr_done_005=pd.concat([two_ingr_pending,two_ingr_keep],axis=0,ignore_index=True)\n",
    "two_ingr_done_005.shape"
   ]
  },
  {
   "cell_type": "code",
   "execution_count": 37,
   "metadata": {},
   "outputs": [],
   "source": [
    "two_ingr_done_005.drop(['tag'],axis=1,inplace=True)"
   ]
  },
  {
   "cell_type": "code",
   "execution_count": 39,
   "metadata": {},
   "outputs": [
    {
     "data": {
      "text/plain": [
       "(879, 3)"
      ]
     },
     "execution_count": 39,
     "metadata": {},
     "output_type": "execute_result"
    }
   ],
   "source": [
    "two_ingr_done=pd.concat([two_ingr_done_001,two_ingr_done_002,two_ingr_done_003,two_ingr_done_004],axis=0,ignore_index=True)\n",
    "two_ingr_done.shape"
   ]
  },
  {
   "cell_type": "code",
   "execution_count": 41,
   "metadata": {},
   "outputs": [],
   "source": [
    "two_ingr_done['en_ingr']=two_ingr_done['parse_ingr']"
   ]
  },
  {
   "cell_type": "code",
   "execution_count": 42,
   "metadata": {
    "collapsed": true,
    "jupyter": {
     "outputs_hidden": true
    }
   },
   "outputs": [
    {
     "data": {
      "text/html": [
       "<div>\n",
       "<style scoped>\n",
       "    .dataframe tbody tr th:only-of-type {\n",
       "        vertical-align: middle;\n",
       "    }\n",
       "\n",
       "    .dataframe tbody tr th {\n",
       "        vertical-align: top;\n",
       "    }\n",
       "\n",
       "    .dataframe thead th {\n",
       "        text-align: right;\n",
       "    }\n",
       "</style>\n",
       "<table border=\"1\" class=\"dataframe\">\n",
       "  <thead>\n",
       "    <tr style=\"text-align: right;\">\n",
       "      <th></th>\n",
       "      <th>ingredient_name</th>\n",
       "      <th>parse_ingr</th>\n",
       "      <th>en_ingr</th>\n",
       "    </tr>\n",
       "  </thead>\n",
       "  <tbody>\n",
       "    <tr>\n",
       "      <th>0</th>\n",
       "      <td>äpfel elstar</td>\n",
       "      <td>apple</td>\n",
       "      <td>apple</td>\n",
       "    </tr>\n",
       "    <tr>\n",
       "      <th>1</th>\n",
       "      <td>cremepulver eierlikör</td>\n",
       "      <td>egg_liqueur</td>\n",
       "      <td>egg_liqueur</td>\n",
       "    </tr>\n",
       "    <tr>\n",
       "      <th>2</th>\n",
       "      <td>zucchini sauer</td>\n",
       "      <td>zucchini</td>\n",
       "      <td>zucchini</td>\n",
       "    </tr>\n",
       "    <tr>\n",
       "      <th>3</th>\n",
       "      <td>gelatine fix</td>\n",
       "      <td>gelatin</td>\n",
       "      <td>gelatin</td>\n",
       "    </tr>\n",
       "    <tr>\n",
       "      <th>4</th>\n",
       "      <td>gebrannte mandeln</td>\n",
       "      <td>almond</td>\n",
       "      <td>almond</td>\n",
       "    </tr>\n",
       "    <tr>\n",
       "      <th>...</th>\n",
       "      <td>...</td>\n",
       "      <td>...</td>\n",
       "      <td>...</td>\n",
       "    </tr>\n",
       "    <tr>\n",
       "      <th>874</th>\n",
       "      <td>gorgonzola dolce</td>\n",
       "      <td>gorgonzola_cheese</td>\n",
       "      <td>gorgonzola_cheese</td>\n",
       "    </tr>\n",
       "    <tr>\n",
       "      <th>875</th>\n",
       "      <td>mozzarella minis</td>\n",
       "      <td>mozzarella_cheese</td>\n",
       "      <td>mozzarella_cheese</td>\n",
       "    </tr>\n",
       "    <tr>\n",
       "      <th>876</th>\n",
       "      <td>mozzarella light</td>\n",
       "      <td>mozzarella_cheese</td>\n",
       "      <td>mozzarella_cheese</td>\n",
       "    </tr>\n",
       "    <tr>\n",
       "      <th>877</th>\n",
       "      <td>raclettekäse classic</td>\n",
       "      <td>raclette_cheese</td>\n",
       "      <td>raclette_cheese</td>\n",
       "    </tr>\n",
       "    <tr>\n",
       "      <th>878</th>\n",
       "      <td>gorgonzola piccante</td>\n",
       "      <td>gorgonzola_cheese</td>\n",
       "      <td>gorgonzola_cheese</td>\n",
       "    </tr>\n",
       "  </tbody>\n",
       "</table>\n",
       "<p>879 rows × 3 columns</p>\n",
       "</div>"
      ],
      "text/plain": [
       "           ingredient_name         parse_ingr            en_ingr\n",
       "0             äpfel elstar              apple              apple\n",
       "1    cremepulver eierlikör        egg_liqueur        egg_liqueur\n",
       "2           zucchini sauer           zucchini           zucchini\n",
       "3             gelatine fix            gelatin            gelatin\n",
       "4        gebrannte mandeln             almond             almond\n",
       "..                     ...                ...                ...\n",
       "874       gorgonzola dolce  gorgonzola_cheese  gorgonzola_cheese\n",
       "875       mozzarella minis  mozzarella_cheese  mozzarella_cheese\n",
       "876       mozzarella light  mozzarella_cheese  mozzarella_cheese\n",
       "877   raclettekäse classic    raclette_cheese    raclette_cheese\n",
       "878    gorgonzola piccante  gorgonzola_cheese  gorgonzola_cheese\n",
       "\n",
       "[879 rows x 3 columns]"
      ]
     },
     "execution_count": 42,
     "metadata": {},
     "output_type": "execute_result"
    }
   ],
   "source": [
    "two_ingr_done"
   ]
  },
  {
   "cell_type": "code",
   "execution_count": 43,
   "metadata": {},
   "outputs": [
    {
     "data": {
      "text/plain": [
       "(4015, 3)"
      ]
     },
     "execution_count": 43,
     "metadata": {},
     "output_type": "execute_result"
    }
   ],
   "source": [
    "two_ingr_done=pd.concat([two_ingr_done,two_ingr_done_005],axis=0,ignore_index=True)\n",
    "two_ingr_done.shape"
   ]
  },
  {
   "cell_type": "code",
   "execution_count": 44,
   "metadata": {
    "collapsed": true,
    "jupyter": {
     "outputs_hidden": true
    }
   },
   "outputs": [
    {
     "data": {
      "text/html": [
       "<div>\n",
       "<style scoped>\n",
       "    .dataframe tbody tr th:only-of-type {\n",
       "        vertical-align: middle;\n",
       "    }\n",
       "\n",
       "    .dataframe tbody tr th {\n",
       "        vertical-align: top;\n",
       "    }\n",
       "\n",
       "    .dataframe thead th {\n",
       "        text-align: right;\n",
       "    }\n",
       "</style>\n",
       "<table border=\"1\" class=\"dataframe\">\n",
       "  <thead>\n",
       "    <tr style=\"text-align: right;\">\n",
       "      <th></th>\n",
       "      <th>ingredient_name</th>\n",
       "      <th>parse_ingr</th>\n",
       "      <th>en_ingr</th>\n",
       "    </tr>\n",
       "  </thead>\n",
       "  <tbody>\n",
       "    <tr>\n",
       "      <th>0</th>\n",
       "      <td>äpfel elstar</td>\n",
       "      <td>apple</td>\n",
       "      <td>apple</td>\n",
       "    </tr>\n",
       "    <tr>\n",
       "      <th>1</th>\n",
       "      <td>cremepulver eierlikör</td>\n",
       "      <td>egg_liqueur</td>\n",
       "      <td>egg_liqueur</td>\n",
       "    </tr>\n",
       "    <tr>\n",
       "      <th>2</th>\n",
       "      <td>zucchini sauer</td>\n",
       "      <td>zucchini</td>\n",
       "      <td>zucchini</td>\n",
       "    </tr>\n",
       "    <tr>\n",
       "      <th>3</th>\n",
       "      <td>gelatine fix</td>\n",
       "      <td>gelatin</td>\n",
       "      <td>gelatin</td>\n",
       "    </tr>\n",
       "    <tr>\n",
       "      <th>4</th>\n",
       "      <td>gebrannte mandeln</td>\n",
       "      <td>almond</td>\n",
       "      <td>almond</td>\n",
       "    </tr>\n",
       "    <tr>\n",
       "      <th>...</th>\n",
       "      <td>...</td>\n",
       "      <td>...</td>\n",
       "      <td>...</td>\n",
       "    </tr>\n",
       "    <tr>\n",
       "      <th>4010</th>\n",
       "      <td>bratwurst geräuchert</td>\n",
       "      <td>bratwurst geräuchert</td>\n",
       "      <td>smoked_sausage</td>\n",
       "    </tr>\n",
       "    <tr>\n",
       "      <th>4011</th>\n",
       "      <td>aprikose konserve</td>\n",
       "      <td>aprikose konserve</td>\n",
       "      <td>apricot</td>\n",
       "    </tr>\n",
       "    <tr>\n",
       "      <th>4012</th>\n",
       "      <td>paprika rotgelbgrün</td>\n",
       "      <td>paprika rotgelbgrün</td>\n",
       "      <td>paprika</td>\n",
       "    </tr>\n",
       "    <tr>\n",
       "      <th>4013</th>\n",
       "      <td>kle vomschwein</td>\n",
       "      <td>kle vomschwein</td>\n",
       "      <td>pork</td>\n",
       "    </tr>\n",
       "    <tr>\n",
       "      <th>4014</th>\n",
       "      <td>kalb schnitzel</td>\n",
       "      <td>kalb schnitzel</td>\n",
       "      <td>veal</td>\n",
       "    </tr>\n",
       "  </tbody>\n",
       "</table>\n",
       "<p>4015 rows × 3 columns</p>\n",
       "</div>"
      ],
      "text/plain": [
       "            ingredient_name            parse_ingr         en_ingr\n",
       "0              äpfel elstar                 apple           apple\n",
       "1     cremepulver eierlikör           egg_liqueur     egg_liqueur\n",
       "2            zucchini sauer              zucchini        zucchini\n",
       "3              gelatine fix               gelatin         gelatin\n",
       "4         gebrannte mandeln                almond          almond\n",
       "...                     ...                   ...             ...\n",
       "4010   bratwurst geräuchert  bratwurst geräuchert  smoked_sausage\n",
       "4011      aprikose konserve     aprikose konserve         apricot\n",
       "4012    paprika rotgelbgrün   paprika rotgelbgrün         paprika\n",
       "4013         kle vomschwein        kle vomschwein            pork\n",
       "4014         kalb schnitzel        kalb schnitzel            veal\n",
       "\n",
       "[4015 rows x 3 columns]"
      ]
     },
     "execution_count": 44,
     "metadata": {},
     "output_type": "execute_result"
    }
   ],
   "source": [
    "two_ingr_done"
   ]
  },
  {
   "cell_type": "code",
   "execution_count": null,
   "metadata": {},
   "outputs": [],
   "source": [
    "# combine the ingr dataset with recipe id and href"
   ]
  },
  {
   "cell_type": "code",
   "execution_count": 45,
   "metadata": {},
   "outputs": [
    {
     "data": {
      "text/plain": [
       "(20667, 4)"
      ]
     },
     "execution_count": 45,
     "metadata": {},
     "output_type": "execute_result"
    }
   ],
   "source": [
    "two_ingr=pd.read_csv('~/work/food_flavor/kochbar_ingredient_preprocessing/datasets/two_ingr_data/two_two_ingr.csv',index_col=0)\n",
    "two_ingr.shape"
   ]
  },
  {
   "cell_type": "code",
   "execution_count": 46,
   "metadata": {
    "collapsed": true,
    "jupyter": {
     "outputs_hidden": true
    }
   },
   "outputs": [
    {
     "data": {
      "text/html": [
       "<div>\n",
       "<style scoped>\n",
       "    .dataframe tbody tr th:only-of-type {\n",
       "        vertical-align: middle;\n",
       "    }\n",
       "\n",
       "    .dataframe tbody tr th {\n",
       "        vertical-align: top;\n",
       "    }\n",
       "\n",
       "    .dataframe thead th {\n",
       "        text-align: right;\n",
       "    }\n",
       "</style>\n",
       "<table border=\"1\" class=\"dataframe\">\n",
       "  <thead>\n",
       "    <tr style=\"text-align: right;\">\n",
       "      <th></th>\n",
       "      <th>recipe_id</th>\n",
       "      <th>recipe_href</th>\n",
       "      <th>name</th>\n",
       "      <th>ingredient_name</th>\n",
       "    </tr>\n",
       "  </thead>\n",
       "  <tbody>\n",
       "    <tr>\n",
       "      <th>2</th>\n",
       "      <td>15155</td>\n",
       "      <td>/rezept/485268/Pretzel-Pretzel-Dogs-Laugenbret...</td>\n",
       "      <td>hefe granulat</td>\n",
       "      <td>hefe granulat</td>\n",
       "    </tr>\n",
       "    <tr>\n",
       "      <th>3</th>\n",
       "      <td>15155</td>\n",
       "      <td>/rezept/485268/Pretzel-Pretzel-Dogs-Laugenbret...</td>\n",
       "      <td>hot dogs</td>\n",
       "      <td>hot dogs</td>\n",
       "    </tr>\n",
       "    <tr>\n",
       "      <th>4</th>\n",
       "      <td>25386</td>\n",
       "      <td>/rezept/423974/I-Zwiebelsauce.html</td>\n",
       "      <td>bratensaft pulver</td>\n",
       "      <td>bratensaft pulver</td>\n",
       "    </tr>\n",
       "    <tr>\n",
       "      <th>9</th>\n",
       "      <td>100118</td>\n",
       "      <td>/rezept/275058/Tofu-Suess-sauer.html</td>\n",
       "      <td>tofu fest</td>\n",
       "      <td>tofu fest</td>\n",
       "    </tr>\n",
       "    <tr>\n",
       "      <th>15</th>\n",
       "      <td>88644</td>\n",
       "      <td>/rezept/112415/Bayerischer-Wurstsalat.html</td>\n",
       "      <td>rote zwiebeln</td>\n",
       "      <td>rote zwiebeln</td>\n",
       "    </tr>\n",
       "  </tbody>\n",
       "</table>\n",
       "</div>"
      ],
      "text/plain": [
       "    recipe_id                                        recipe_href  \\\n",
       "2       15155  /rezept/485268/Pretzel-Pretzel-Dogs-Laugenbret...   \n",
       "3       15155  /rezept/485268/Pretzel-Pretzel-Dogs-Laugenbret...   \n",
       "4       25386                 /rezept/423974/I-Zwiebelsauce.html   \n",
       "9      100118               /rezept/275058/Tofu-Suess-sauer.html   \n",
       "15      88644         /rezept/112415/Bayerischer-Wurstsalat.html   \n",
       "\n",
       "                 name    ingredient_name  \n",
       "2       hefe granulat      hefe granulat  \n",
       "3            hot dogs           hot dogs  \n",
       "4   bratensaft pulver  bratensaft pulver  \n",
       "9           tofu fest          tofu fest  \n",
       "15      rote zwiebeln      rote zwiebeln  "
      ]
     },
     "execution_count": 46,
     "metadata": {},
     "output_type": "execute_result"
    }
   ],
   "source": [
    "two_ingr.head()"
   ]
  },
  {
   "cell_type": "code",
   "execution_count": 47,
   "metadata": {},
   "outputs": [
    {
     "data": {
      "text/html": [
       "<div>\n",
       "<style scoped>\n",
       "    .dataframe tbody tr th:only-of-type {\n",
       "        vertical-align: middle;\n",
       "    }\n",
       "\n",
       "    .dataframe tbody tr th {\n",
       "        vertical-align: top;\n",
       "    }\n",
       "\n",
       "    .dataframe thead th {\n",
       "        text-align: right;\n",
       "    }\n",
       "</style>\n",
       "<table border=\"1\" class=\"dataframe\">\n",
       "  <thead>\n",
       "    <tr style=\"text-align: right;\">\n",
       "      <th></th>\n",
       "      <th>ingredient_name</th>\n",
       "      <th>parse_ingr</th>\n",
       "      <th>en_ingr</th>\n",
       "    </tr>\n",
       "  </thead>\n",
       "  <tbody>\n",
       "    <tr>\n",
       "      <th>0</th>\n",
       "      <td>äpfel elstar</td>\n",
       "      <td>apple</td>\n",
       "      <td>apple</td>\n",
       "    </tr>\n",
       "    <tr>\n",
       "      <th>1</th>\n",
       "      <td>cremepulver eierlikör</td>\n",
       "      <td>egg_liqueur</td>\n",
       "      <td>egg_liqueur</td>\n",
       "    </tr>\n",
       "    <tr>\n",
       "      <th>2</th>\n",
       "      <td>zucchini sauer</td>\n",
       "      <td>zucchini</td>\n",
       "      <td>zucchini</td>\n",
       "    </tr>\n",
       "    <tr>\n",
       "      <th>3</th>\n",
       "      <td>gelatine fix</td>\n",
       "      <td>gelatin</td>\n",
       "      <td>gelatin</td>\n",
       "    </tr>\n",
       "    <tr>\n",
       "      <th>4</th>\n",
       "      <td>gebrannte mandeln</td>\n",
       "      <td>almond</td>\n",
       "      <td>almond</td>\n",
       "    </tr>\n",
       "  </tbody>\n",
       "</table>\n",
       "</div>"
      ],
      "text/plain": [
       "         ingredient_name   parse_ingr      en_ingr\n",
       "0           äpfel elstar        apple        apple\n",
       "1  cremepulver eierlikör  egg_liqueur  egg_liqueur\n",
       "2         zucchini sauer     zucchini     zucchini\n",
       "3           gelatine fix      gelatin      gelatin\n",
       "4      gebrannte mandeln       almond       almond"
      ]
     },
     "execution_count": 47,
     "metadata": {},
     "output_type": "execute_result"
    }
   ],
   "source": [
    "two_ingr_done.head()"
   ]
  },
  {
   "cell_type": "code",
   "execution_count": 48,
   "metadata": {},
   "outputs": [
    {
     "data": {
      "text/plain": [
       "(20454, 6)"
      ]
     },
     "execution_count": 48,
     "metadata": {},
     "output_type": "execute_result"
    }
   ],
   "source": [
    "two_ingr=pd.merge(two_ingr,two_ingr_done,on='ingredient_name',how='inner')\n",
    "two_ingr.shape"
   ]
  },
  {
   "cell_type": "code",
   "execution_count": 49,
   "metadata": {
    "collapsed": true,
    "jupyter": {
     "outputs_hidden": true
    }
   },
   "outputs": [
    {
     "data": {
      "text/html": [
       "<div>\n",
       "<style scoped>\n",
       "    .dataframe tbody tr th:only-of-type {\n",
       "        vertical-align: middle;\n",
       "    }\n",
       "\n",
       "    .dataframe tbody tr th {\n",
       "        vertical-align: top;\n",
       "    }\n",
       "\n",
       "    .dataframe thead th {\n",
       "        text-align: right;\n",
       "    }\n",
       "</style>\n",
       "<table border=\"1\" class=\"dataframe\">\n",
       "  <thead>\n",
       "    <tr style=\"text-align: right;\">\n",
       "      <th></th>\n",
       "      <th>recipe_id</th>\n",
       "      <th>recipe_href</th>\n",
       "      <th>name</th>\n",
       "      <th>ingredient_name</th>\n",
       "      <th>parse_ingr</th>\n",
       "      <th>en_ingr</th>\n",
       "    </tr>\n",
       "  </thead>\n",
       "  <tbody>\n",
       "    <tr>\n",
       "      <th>0</th>\n",
       "      <td>15155</td>\n",
       "      <td>/rezept/485268/Pretzel-Pretzel-Dogs-Laugenbret...</td>\n",
       "      <td>hefe granulat</td>\n",
       "      <td>hefe granulat</td>\n",
       "      <td>hefe</td>\n",
       "      <td>yeast</td>\n",
       "    </tr>\n",
       "    <tr>\n",
       "      <th>1</th>\n",
       "      <td>97309</td>\n",
       "      <td>/rezept/383858/Brot-mit-Sesamsamen.html</td>\n",
       "      <td>hefe granulat</td>\n",
       "      <td>hefe granulat</td>\n",
       "      <td>hefe</td>\n",
       "      <td>yeast</td>\n",
       "    </tr>\n",
       "    <tr>\n",
       "      <th>2</th>\n",
       "      <td>93969</td>\n",
       "      <td>/rezept/109076/Dinkel-Broetchen.html</td>\n",
       "      <td>hefe granulat</td>\n",
       "      <td>hefe granulat</td>\n",
       "      <td>hefe</td>\n",
       "      <td>yeast</td>\n",
       "    </tr>\n",
       "    <tr>\n",
       "      <th>3</th>\n",
       "      <td>94123</td>\n",
       "      <td>/rezept/383007/Koerner-Vollkorn-Brot.html</td>\n",
       "      <td>hefe granulat</td>\n",
       "      <td>hefe granulat</td>\n",
       "      <td>hefe</td>\n",
       "      <td>yeast</td>\n",
       "    </tr>\n",
       "    <tr>\n",
       "      <th>4</th>\n",
       "      <td>63988</td>\n",
       "      <td>/rezept/372233/Dattelbroetchen.html</td>\n",
       "      <td>hefe granulat</td>\n",
       "      <td>hefe granulat</td>\n",
       "      <td>hefe</td>\n",
       "      <td>yeast</td>\n",
       "    </tr>\n",
       "    <tr>\n",
       "      <th>...</th>\n",
       "      <td>...</td>\n",
       "      <td>...</td>\n",
       "      <td>...</td>\n",
       "      <td>...</td>\n",
       "      <td>...</td>\n",
       "      <td>...</td>\n",
       "    </tr>\n",
       "    <tr>\n",
       "      <th>20449</th>\n",
       "      <td>97454</td>\n",
       "      <td>/rezept/457659/Kuchen-Pina-Colada-mit-Cashews....</td>\n",
       "      <td>pina colada</td>\n",
       "      <td>pina colada</td>\n",
       "      <td>pina colada</td>\n",
       "      <td>pina_colada</td>\n",
       "    </tr>\n",
       "    <tr>\n",
       "      <th>20450</th>\n",
       "      <td>97454</td>\n",
       "      <td>/rezept/457659/Kuchen-Pina-Colada-mit-Cashews....</td>\n",
       "      <td>erdnüsse karamelisiert</td>\n",
       "      <td>erdnüsse karamelisiert</td>\n",
       "      <td>erdnüsse karamelisiert</td>\n",
       "      <td>caramelized_peanut</td>\n",
       "    </tr>\n",
       "    <tr>\n",
       "      <th>20451</th>\n",
       "      <td>80508</td>\n",
       "      <td>/rezept/407224/Lendensteak-mit-gratinierten-Ka...</td>\n",
       "      <td>wesse zwiebel</td>\n",
       "      <td>wesse zwiebel</td>\n",
       "      <td>wesse zwiebel</td>\n",
       "      <td>onion</td>\n",
       "    </tr>\n",
       "    <tr>\n",
       "      <th>20452</th>\n",
       "      <td>87906</td>\n",
       "      <td>/rezept/418474/Backen-Nussiges-Weihnachts-Dink...</td>\n",
       "      <td>gewürz- weihnachtsmischung... aus meinem kb</td>\n",
       "      <td>gewürz weihnachtsmischung</td>\n",
       "      <td>gewürz weihnachtsmischung</td>\n",
       "      <td>spice</td>\n",
       "    </tr>\n",
       "    <tr>\n",
       "      <th>20453</th>\n",
       "      <td>40552</td>\n",
       "      <td>/rezept/281466/Bueffett-Schinkentorte.html</td>\n",
       "      <td>frischkäse mediterranekräuter</td>\n",
       "      <td>frischkäse mediterranekräuter</td>\n",
       "      <td>frischkäse mediterranekräuter</td>\n",
       "      <td>herb_cream_cheese</td>\n",
       "    </tr>\n",
       "  </tbody>\n",
       "</table>\n",
       "<p>20454 rows × 6 columns</p>\n",
       "</div>"
      ],
      "text/plain": [
       "       recipe_id                                        recipe_href  \\\n",
       "0          15155  /rezept/485268/Pretzel-Pretzel-Dogs-Laugenbret...   \n",
       "1          97309            /rezept/383858/Brot-mit-Sesamsamen.html   \n",
       "2          93969               /rezept/109076/Dinkel-Broetchen.html   \n",
       "3          94123          /rezept/383007/Koerner-Vollkorn-Brot.html   \n",
       "4          63988                /rezept/372233/Dattelbroetchen.html   \n",
       "...          ...                                                ...   \n",
       "20449      97454  /rezept/457659/Kuchen-Pina-Colada-mit-Cashews....   \n",
       "20450      97454  /rezept/457659/Kuchen-Pina-Colada-mit-Cashews....   \n",
       "20451      80508  /rezept/407224/Lendensteak-mit-gratinierten-Ka...   \n",
       "20452      87906  /rezept/418474/Backen-Nussiges-Weihnachts-Dink...   \n",
       "20453      40552         /rezept/281466/Bueffett-Schinkentorte.html   \n",
       "\n",
       "                                              name  \\\n",
       "0                                    hefe granulat   \n",
       "1                                    hefe granulat   \n",
       "2                                    hefe granulat   \n",
       "3                                    hefe granulat   \n",
       "4                                    hefe granulat   \n",
       "...                                            ...   \n",
       "20449                                  pina colada   \n",
       "20450                       erdnüsse karamelisiert   \n",
       "20451                                wesse zwiebel   \n",
       "20452  gewürz- weihnachtsmischung... aus meinem kb   \n",
       "20453                frischkäse mediterranekräuter   \n",
       "\n",
       "                     ingredient_name                     parse_ingr  \\\n",
       "0                      hefe granulat                           hefe   \n",
       "1                      hefe granulat                           hefe   \n",
       "2                      hefe granulat                           hefe   \n",
       "3                      hefe granulat                           hefe   \n",
       "4                      hefe granulat                           hefe   \n",
       "...                              ...                            ...   \n",
       "20449                    pina colada                    pina colada   \n",
       "20450         erdnüsse karamelisiert         erdnüsse karamelisiert   \n",
       "20451                  wesse zwiebel                  wesse zwiebel   \n",
       "20452      gewürz weihnachtsmischung      gewürz weihnachtsmischung   \n",
       "20453  frischkäse mediterranekräuter  frischkäse mediterranekräuter   \n",
       "\n",
       "                  en_ingr  \n",
       "0                   yeast  \n",
       "1                   yeast  \n",
       "2                   yeast  \n",
       "3                   yeast  \n",
       "4                   yeast  \n",
       "...                   ...  \n",
       "20449         pina_colada  \n",
       "20450  caramelized_peanut  \n",
       "20451               onion  \n",
       "20452               spice  \n",
       "20453   herb_cream_cheese  \n",
       "\n",
       "[20454 rows x 6 columns]"
      ]
     },
     "execution_count": 49,
     "metadata": {},
     "output_type": "execute_result"
    }
   ],
   "source": [
    "two_ingr.to_csv('')"
   ]
  },
  {
   "cell_type": "code",
   "execution_count": 1,
   "metadata": {},
   "outputs": [
    {
     "ename": "NameError",
     "evalue": "name 'two_ingr' is not defined",
     "output_type": "error",
     "traceback": [
      "\u001b[0;31m---------------------------------------------------------------------------\u001b[0m",
      "\u001b[0;31mNameError\u001b[0m                                 Traceback (most recent call last)",
      "\u001b[0;32m<ipython-input-1-b3fb70b81f6c>\u001b[0m in \u001b[0;36m<module>\u001b[0;34m()\u001b[0m\n\u001b[0;32m----> 1\u001b[0;31m \u001b[0mtwo_ingr\u001b[0m\u001b[0;34m.\u001b[0m\u001b[0mto_csv\u001b[0m\u001b[0;34m(\u001b[0m\u001b[0;34m'~/work/food_flavor/kochbar_ingredient_preprocessing/datasets/done_ingr/one_ingr_done/one_ingr_done/csv'\u001b[0m\u001b[0;34m)\u001b[0m\u001b[0;34m\u001b[0m\u001b[0m\n\u001b[0m",
      "\u001b[0;31mNameError\u001b[0m: name 'two_ingr' is not defined"
     ]
    }
   ],
   "source": [
    "two_ingr.to_csv('~/work/food_flavor/kochbar_ingredient_preprocessing/datasets/two_ingr_data/two_two_ingr_done.csv')"
   ]
  },
  {
   "cell_type": "code",
   "execution_count": null,
   "metadata": {},
   "outputs": [],
   "source": []
  }
 ],
 "metadata": {
  "kernelspec": {
   "display_name": "Python 3 (ipykernel)",
   "language": "python",
   "name": "python3"
  },
  "language_info": {
   "codemirror_mode": {
    "name": "ipython",
    "version": 3
   },
   "file_extension": ".py",
   "mimetype": "text/x-python",
   "name": "python",
   "nbconvert_exporter": "python",
   "pygments_lexer": "ipython3",
   "version": "3.9.13"
  }
 },
 "nbformat": 4,
 "nbformat_minor": 4
}
