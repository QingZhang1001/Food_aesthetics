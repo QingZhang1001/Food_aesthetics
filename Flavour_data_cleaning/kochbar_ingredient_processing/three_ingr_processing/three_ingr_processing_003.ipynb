{
 "cells": [
  {
   "cell_type": "code",
   "execution_count": 1,
   "metadata": {},
   "outputs": [],
   "source": [
    "import pandas as pd\n",
    "import numpy as np\n",
    "import re"
   ]
  },
  {
   "cell_type": "code",
   "execution_count": 2,
   "metadata": {},
   "outputs": [
    {
     "data": {
      "text/plain": [
       "(20060, 5)"
      ]
     },
     "execution_count": 2,
     "metadata": {},
     "output_type": "execute_result"
    }
   ],
   "source": [
    "three_ingr=pd.read_csv('~/work/food_flavor/kochbar_ingredient_preprocessing/datasets/three_ingr_data/three_ingr_002.csv',index_col=0)\n",
    "three_ingr.shape"
   ]
  },
  {
   "cell_type": "code",
   "execution_count": 3,
   "metadata": {},
   "outputs": [
    {
     "data": {
      "text/plain": [
       "(20060, 5)"
      ]
     },
     "execution_count": 3,
     "metadata": {},
     "output_type": "execute_result"
    }
   ],
   "source": [
    "three_ingr=three_ingr[three_ingr['parse_ingr']!='']\n",
    "three_ingr['parse_ingr']=three_ingr['parse_ingr'].str.strip()\n",
    "three_ingr.dropna(inplace=True)\n",
    "three_ingr.reset_index(drop=True,inplace=True)\n",
    "three_ingr.shape"
   ]
  },
  {
   "cell_type": "code",
   "execution_count": 4,
   "metadata": {},
   "outputs": [
    {
     "data": {
      "text/plain": [
       "4295"
      ]
     },
     "execution_count": 4,
     "metadata": {},
     "output_type": "execute_result"
    }
   ],
   "source": [
    "three_ingrs=list(set(three_ingr['parse_ingr'].values.tolist()))\n",
    "len(three_ingrs)"
   ]
  },
  {
   "cell_type": "code",
   "execution_count": null,
   "metadata": {},
   "outputs": [],
   "source": [
    "# find done ingr"
   ]
  },
  {
   "cell_type": "code",
   "execution_count": 5,
   "metadata": {},
   "outputs": [
    {
     "data": {
      "text/plain": [
       "(2679, 5)"
      ]
     },
     "execution_count": 5,
     "metadata": {},
     "output_type": "execute_result"
    }
   ],
   "source": [
    "three_ingr_done=three_ingr[three_ingr['parse_ingr'].str.contains('_')]\n",
    "three_ingr_done.shape"
   ]
  },
  {
   "cell_type": "code",
   "execution_count": 7,
   "metadata": {},
   "outputs": [],
   "source": [
    "three_ingr_done.to_csv('~/work/food_flavor/kochbar_ingredient_preprocessing/datasets/three_ingr_data/three_ingr_done_001.csv')"
   ]
  },
  {
   "cell_type": "code",
   "execution_count": 9,
   "metadata": {},
   "outputs": [
    {
     "data": {
      "text/plain": [
       "(17381, 5)"
      ]
     },
     "execution_count": 9,
     "metadata": {},
     "output_type": "execute_result"
    }
   ],
   "source": [
    "three_ingr=three_ingr[~three_ingr['parse_ingr'].str.contains('_')]\n",
    "three_ingr.shape"
   ]
  },
  {
   "cell_type": "code",
   "execution_count": 10,
   "metadata": {},
   "outputs": [],
   "source": [
    "three_ingr.reset_index(drop=True,inplace=True)"
   ]
  },
  {
   "cell_type": "code",
   "execution_count": 165,
   "metadata": {},
   "outputs": [
    {
     "data": {
      "text/plain": [
       "3538"
      ]
     },
     "execution_count": 165,
     "metadata": {},
     "output_type": "execute_result"
    }
   ],
   "source": [
    "three_ingrs=list(set(three_ingr['parse_ingr'].values.tolist()))\n",
    "len(three_ingrs)"
   ]
  },
  {
   "cell_type": "code",
   "execution_count": 45,
   "metadata": {
    "collapsed": true
   },
   "outputs": [
    {
     "data": {
      "text/plain": [
       "['fünf gewürze mischung',\n",
       " 'füllung - dekoration',\n",
       " 'füllung',\n",
       " 'fähnchen',\n",
       " 'fussili / spirelli',\n",
       " 'fusili bucati lunghi',\n",
       " 'fungus',\n",
       " 'fuet',\n",
       " 'frühlinszwiebeln inscheiben',\n",
       " 'frühlinszwiebeln / nurgrün',\n",
       " 'frühlingslauch inbutter geschwenkt',\n",
       " 'frühkartoffeln alspellkartoffeln',\n",
       " 'früh]kartoffeln mit',\n",
       " 'früchte zb. erdbeeren',\n",
       " 'früchte z.b. kirschen',\n",
       " 'früchte saison',\n",
       " 'früchte',\n",
       " 'früchtchen%x2c z.b.kirschen',\n",
       " 'frz. blauschimmelkäse%x22saint agur%x',\n",
       " 'fruko-pudding komet',\n",
       " 'fruit',\n",
       " 'fruchtsaft',\n",
       " 'fruchtpektinpulver per 1',\n",
       " 'fruchtjoghurt mit beeren',\n",
       " 'fruchtfleisch tomate',\n",
       " 'fruchtaufstrich - erdbeere',\n",
       " 'frucht buttermilch',\n",
       " 'fritierfett',\n",
       " 'frischteig',\n",
       " 'frischkäse z.b. brunch',\n",
       " 'frischkäse ohne kräuter',\n",
       " 'frischkäse o. ä',\n",
       " 'frischhefe',\n",
       " 'frischhaltefolie',\n",
       " 'frischerpfeffer',\n",
       " 'frischerestragon',\n",
       " 'frischenbiozitrone',\n",
       " 'frischemwaldmeister',\n",
       " 'frischekräuter',\n",
       " 'frischechilli hinzugefügt werden',\n",
       " 'frischaus',\n",
       " 'frisch- hier- petersilie',\n",
       " 'frikadellen',\n",
       " 'franz.kartöffelchen mitschale gekocht',\n",
       " 'frankfurter würstchen /schinkenwürste',\n",
       " 'frankfurter grüne sossekräutermischung',\n",
       " 'forstmeisters marinade s.m.kochbuch',\n",
       " 'forellenfiletsmit haut',\n",
       " 'forellenfilets geräuchert',\n",
       " 'forellenfilet mildgeräuchert demscharzwald',\n",
       " 'forellenfilet geräuchertohne gräten',\n",
       " 'forellen gross',\n",
       " 'fontina - käse',\n",
       " 'fondor',\n",
       " 'fondantfoto bearbeitet',\n",
       " 'fond rind',\n",
       " 'fond',\n",
       " 'fol epi hauchfein',\n",
       " 'foccacia warreichlich',\n",
       " 'flüssigwürze - maggi',\n",
       " 'flüssigkeit-z.b.blumenkohlwasser',\n",
       " 'flüssigensüssstoff',\n",
       " 'fläschchen rum aroma',\n",
       " 'flusskrebse vakuum verp.gegart',\n",
       " 'flusskrebse gekocht',\n",
       " 'flor de sal',\n",
       " 'flor de atlântico',\n",
       " 'flomenschmalz / eigeneherstellung',\n",
       " 'fleischtomate',\n",
       " 'fleischsuppe vonm...i',\n",
       " 'fleischsalat metzger',\n",
       " 'fleischsalat',\n",
       " 'fleischrest fondue',\n",
       " 'fleisch suppenhuhngegart',\n",
       " 'fleisch hokkaidokürbis',\n",
       " 'fleisch gegrilltenspanferkel',\n",
       " 'fleisch',\n",
       " 'fleckerl = österreichischenudelsorte',\n",
       " 'flecke bzw kutteln',\n",
       " 'flaschentomate',\n",
       " 'flaschelebensmittelfarbe rot',\n",
       " 'fladenbrot dünn',\n",
       " 'fladenbrot als beilage',\n",
       " 'flache grüne bohnen',\n",
       " 'fischzuschnitt',\n",
       " 'fischwürzer',\n",
       " 'fischsauce nouc mam',\n",
       " 'fischsauce asialaden',\n",
       " 'fischsauce - asialaden',\n",
       " 'fischköpfe wangen vorherrausnehmen',\n",
       " 'fischgewürz',\n",
       " 'fischfumet *s. punkt',\n",
       " 'fischfond gut',\n",
       " 'fischfond',\n",
       " 'fischfilet',\n",
       " 'fischer meinesvertrauenes',\n",
       " 'fisch pfeffer',\n",
       " 'finesseweihnachtsaroma',\n",
       " 'finesseamaretto-bittermandel-aromavon',\n",
       " 'finess aroma orange',\n",
       " 'filtertüte mit majoran',\n",
       " 'filoblätterv. tante fanny',\n",
       " 'filo teig',\n",
       " 'filetsteak vompferd',\n",
       " 'feuerfeste förmchen',\n",
       " 'fettucine bissfest gekocht',\n",
       " 'fettreduzierte sahne zumkochen',\n",
       " 'fettr. käse frischgeraspelt',\n",
       " 'fetten speck',\n",
       " 'fette butter öle',\n",
       " 'fett',\n",
       " 'fetakäse',\n",
       " 'feta mit kräutern',\n",
       " 'feta käse',\n",
       " 'feta / schafskäse',\n",
       " 'feta - weichkäse',\n",
       " 'feta - käse',\n",
       " 'feta',\n",
       " 'fest kochende kartoffeln',\n",
       " 'fertigteig',\n",
       " 'fenchelknollen mit grün',\n",
       " 'fenchelknolle kleingeputzt',\n",
       " 'fenchelgrün',\n",
       " 'fenchel',\n",
       " 'feldsalat eigenemgarten',\n",
       " 'feldsalat eigenemanbau',\n",
       " 'feldsalat - vogerlsalat',\n",
       " 'feldsalat',\n",
       " 'feinste mittelfilet',\n",
       " 'feinschmecker saucehollandaise %x22klassik%x22',\n",
       " 'feinmahlen [max. 10%bittermandeln',\n",
       " 'feinherbe schokolade mitchilli',\n",
       " 'feingehackter rosmarin',\n",
       " 'feingehacken hokkaidokürbis',\n",
       " 'feigenbalsamico',\n",
       " 'feigen grùne',\n",
       " 'feigen',\n",
       " 'faschiertes rind',\n",
       " 'faschiertes - hackfleisch',\n",
       " 'faschiertes - gemischt',\n",
       " 'faschierten -hackfleisch',\n",
       " 'farfalle - nudeln',\n",
       " 'farbpasten staedtler',\n",
       " 'falschesfilet / derkeule',\n",
       " 'faden',\n",
       " 'fach kräutermischung']"
      ]
     },
     "execution_count": 45,
     "metadata": {},
     "output_type": "execute_result"
    }
   ],
   "source": [
    "ingr_list=[]\n",
    "for index,row in three_ingr.iterrows():\n",
    "    if re.search(r'^f',row.parse_ingr)!=None:\n",
    "        ingr_list.append(row.parse_ingr)\n",
    "ingr_list=list(set(ingr_list))    \n",
    "ingr_list.sort(reverse=True)\n",
    "ingr_list"
   ]
  },
  {
   "cell_type": "code",
   "execution_count": 26,
   "metadata": {},
   "outputs": [],
   "source": [
    "whole_change_dict={'habaneros choco':'habanero','habanero [möglichst grosseexemplare':'habanero','habanero /':'habanero',\n",
    "'hackfleisch wild':'meat','hackfleisch rind':'beef','hackfleisch jungbullen':'beef','hackfleisch halb rind-':'beef',\n",
    "'hackfleisch halb rind':'beef','hackfleisch gewürzt':'meat','hackfleisch gemischt vomschein':'pork',\n",
    "'hackfleisch gemischt vomrind':'beef','hackfleisch gemischt schongewürzt':'meat',\n",
    "'hackfleisch gemischt -faschierte':'meat','hackfleisch gemischt':'meat','hackfleisch bestequalität':'meat',\n",
    "'hackfleisch - gemischt':'meat','hackfleisch %x2c rind':'beef','hackfleisch':'meat','hack rind':'beef',\n",
    "'durchw.speck':'bacon','durchw. speck feingewürfelt':'bacon','durchw. speck':'bacon','durchw. speck':'bacon',\n",
    "'drakula haribo':'gumi','erdbeer - puddingpulver':'strawberry_pudding','färsenfleisch rindm':'beef',\n",
    "'früchtetee pfirsich':'peach_tea','früchteder saison':'fruit','frutti di mare':'seafood',\n",
    "'frischkäse mit wildembärlauch':'wild_garlic_cream_cheese','frischkäse mit schokolade':'chocolate_cream_cheese','frischkäse mit pfeffer':'pepper_cream_cheese',\n",
    "'frischkäse mit meerrettich':'horseradish_cream_cheese','frischkäse mit kräuternviertelfettstufe':'herb_cream_cheese',\n",
    "'frischkäse mit kräuternmagerstufe':'herb_cream_cheese','frischkäse mit kräuternhalbfettstufe':'herb_cream_cheese',\n",
    "'frischkäse mit kräuternfettstufe':'herb_cream_cheese','frischkäse mit kräuterndoppelrahmstufe':'herb_cream_cheese',\n",
    "'frischkäse mit kräutern':'herb_cream_cheese','frischkäse mit joghurt':'yoghurt_cream_cheese',\n",
    "'frischkäse mit buntempfeffer':'pepper_cream_cheese','frischkäse joghurt vonchrissi720':'yoghurt_cream_cheese',\n",
    "'frischkäse buco india':'cream_cheese','frischkäse 70% f.':'cream_cheese','frischkäse / philadelphia':'cream_cheese',\n",
    "'frischkäse / magerquark':'cream_cheese','frischkäse':'cream_cheese',\n",
    "'fluer del sal':'salt','flour de sal':'salt','flor del sal':'salt','flor de sa':'salt','flor de mar':'salt',\n",
    "'fleur de selmeersalz':'salt','fleur de sel':'salt',\n",
    "'fischfleisch zb. rotbarsch':'rose_fish','fischfilets z.b.scholle':'plaice',\n",
    "'fischfilets schwarzenheilbutt':'halibut',\n",
    "'fischfilets - rotbarsch':'rose_fish','fischfilet kabeljau':'cod','fischfilet - heilbutt':'halibut',\n",
    "'fisch zb. dorsch':'gadidae','fisch z.b.seelachs':'salmon','fisch z.b. kabeljau':'cod',\n",
    "'herbes de provence':'herbes_de_provence'}"
   ]
  },
  {
   "cell_type": "code",
   "execution_count": 27,
   "metadata": {},
   "outputs": [],
   "source": [
    "def replace_whole_ingr(k,v,ingredient):\n",
    "    if ingredient==k:\n",
    "        return v\n",
    "    else:\n",
    "        return ingredient"
   ]
  },
  {
   "cell_type": "code",
   "execution_count": 28,
   "metadata": {},
   "outputs": [],
   "source": [
    "for k,v in whole_change_dict.items():\n",
    "    three_ingr['parse_ingr']=three_ingr['parse_ingr'].apply(lambda x:replace_whole_ingr(k,v,x))"
   ]
  },
  {
   "cell_type": "code",
   "execution_count": 29,
   "metadata": {},
   "outputs": [],
   "source": [
    "delete_parts=['alternativ 1päckchentrockenhefe',\n",
    "'ohne stein','ohne kern','dunkeles','zur deko','deiner wahl','sollte zimmertemperaturhaben',\n",
    "'zur deko','ohne zucker','am liebstendie','bei natudrink','fürs''formeinfetten','fürs einfetten','fürs blech',\n",
    "'fürdie form','fürden kartoffelbrei','z.. b.','pro person','dr.oetker','dr. oetker']"
   ]
  },
  {
   "cell_type": "code",
   "execution_count": 31,
   "metadata": {},
   "outputs": [],
   "source": [
    "def del_part(part,ingredient):\n",
    "    no_part=ingredient.replace(part,'')\n",
    "    return no_part"
   ]
  },
  {
   "cell_type": "code",
   "execution_count": 32,
   "metadata": {},
   "outputs": [],
   "source": [
    "for part in delete_parts:\n",
    "    three_ingr['parse_ingr']=three_ingr['parse_ingr'].apply(lambda x:del_part(part,x))"
   ]
  },
  {
   "cell_type": "code",
   "execution_count": 34,
   "metadata": {},
   "outputs": [],
   "source": [
    "delete_words=['abgetropft','heisser','heisse','haupgericht',\n",
    "'geräucherte','gerne','gehäufte','gefüllte','gedörrte','ebrühten','gebrühter','gebratene','garten',\n",
    "'blanchiert','grosses','grossen','grobes','grober','geteilt','geschältes','geräuchertes','geräucherten',\n",
    "'sauereingelegt','gemörsert','eingelegt','aufgetaut','gefüllt','tk-ware','tiefgekühlt','gedünstet',\n",
    "'abgeschmeckt','gewürfeltes','gehacker','eingelegt','gutgekühlen','gekühlter','gehäuften','erkalten',\n",
    "'zumausgarnieren','flüssiger','vomvortag','flaschen','feiner','feine','fein','frischgemahlener',\n",
    "'einmal','einer','einenviertel','einenel','einefein','einenanderen','eineandere',\n",
    "'nachgusto-etwa','kleingeschnitten','garten','beiseitelegen','reif','erblüten','er','aufgetaut',\n",
    "'demiglace','decor','ohnestein','dunkle','daumenbreites','stück','sückchen','stücken','zurgarnitur',\n",
    "'geröstet','dosen','diverse','dekorationen','optional','dieschale','dicker','dicke','deutsche',\n",
    "'feingeschnitten','mittlescharf','bautzener','bautzner','nicht','diastisches','je','crushed',\n",
    "'auch','weich','selbst','imreformhaus','angewärmte','feingewürfelt','fein','/-würfel','dose%x2c',\n",
    "'wenn','gewünscht','golden','abgekühlte','vombäcker','feingeschnitten','à','zumbestreichen','zumanbraten',\n",
    "'ausfetten','zerlassen','kalt','mein','gesäuert','flüssig','warm','leichtausgekühlt','telöffel',\n",
    "'nussgross','tiefküh','zuckerwerk','gemüseallerlei','grobes','blätter','blech','becher','becel']"
   ]
  },
  {
   "cell_type": "code",
   "execution_count": 35,
   "metadata": {},
   "outputs": [],
   "source": [
    "def del_words(ingredient):\n",
    "    no_words=' '.join([c for c in ingredient.split() if c not in delete_words])\n",
    "    return no_words"
   ]
  },
  {
   "cell_type": "code",
   "execution_count": 36,
   "metadata": {},
   "outputs": [],
   "source": [
    "three_ingr['parse_ingr']=three_ingr['parse_ingr'].apply(lambda x:del_words(x))"
   ]
  },
  {
   "cell_type": "code",
   "execution_count": null,
   "metadata": {},
   "outputs": [],
   "source": [
    "# change\n",
    "# bratensosse,bratensaft,frühlinszwiebeln,gouda,gorgonzola,hähnchen,haselnüsse,haselnuss"
   ]
  },
  {
   "cell_type": "code",
   "execution_count": 52,
   "metadata": {
    "collapsed": true
   },
   "outputs": [
    {
     "data": {
      "text/plain": [
       "['haselnuss - nougatschnittfest',\n",
       " 'haselnuss - nougat',\n",
       " 'haselnuss - krokant',\n",
       " 'giottokugeln mit haselnuss']"
      ]
     },
     "execution_count": 52,
     "metadata": {},
     "output_type": "execute_result"
    }
   ],
   "source": [
    "ingr_list=[]\n",
    "for index,row in three_ingr.iterrows():\n",
    "    if re.search(r'\\bhaselnuss\\b',row.parse_ingr)!=None:\n",
    "        ingr_list.append(row.parse_ingr)\n",
    "ingr_list=list(set(ingr_list))    \n",
    "ingr_list.sort(reverse=True)\n",
    "ingr_list"
   ]
  },
  {
   "cell_type": "code",
   "execution_count": 53,
   "metadata": {},
   "outputs": [],
   "source": [
    "for index,row in three_ingr.iterrows():\n",
    "    if (re.search(r'\\bhaselnüsse\\b',row.parse_ingr)!=None) or (re.search(r'\\bhaselnuss\\b',row.parse_ingr)!=None):\n",
    "        three_ingr.loc[index,'parse_ingr']='hazelnut'"
   ]
  },
  {
   "cell_type": "code",
   "execution_count": 49,
   "metadata": {},
   "outputs": [],
   "source": [
    "for index,row in three_ingr.iterrows():\n",
    "    if re.search(r'\\bgorgonzola\\b',row.parse_ingr)!=None:\n",
    "        three_ingr.loc[index,'parse_ingr']='gorgonzola_cheese'"
   ]
  },
  {
   "cell_type": "code",
   "execution_count": 47,
   "metadata": {},
   "outputs": [],
   "source": [
    "for index,row in three_ingr.iterrows():\n",
    "    if re.search(r'\\bgouda\\b',row.parse_ingr)!=None:\n",
    "        three_ingr.loc[index,'parse_ingr']='gouda_cheese'"
   ]
  },
  {
   "cell_type": "code",
   "execution_count": 40,
   "metadata": {},
   "outputs": [],
   "source": [
    "for index,row in three_ingr.iterrows():\n",
    "    if (re.search(r'\\bfleischbrühe\\b',row.parse_ingr)!=None) or (re.search(r'\\bbratensaft\\b',row.parse_ingr)!=None):\n",
    "        three_ingr.loc[index,'parse_ingr']='gravy'"
   ]
  },
  {
   "cell_type": "code",
   "execution_count": 55,
   "metadata": {},
   "outputs": [],
   "source": [
    "whole_delete=['beides aus','beibedarf auch', 'beerenzucker - rezept','dieletzte garten','diemindestens 1 tag','diegeriebene',\n",
    "'dersaft wird benötigt','davondie','duenne schneiden','dragierte ostereier', 'er muffinform','entölt - keininstant',\n",
    "'einmachgläser','einmach - hilfe', 'füllung - dekoration','füllung','fuet','fritierfett','faden',\n",
    "'filo teig blätter','ganzkleiner %x2c','gans tiefgeforen 4.','grün u. gelb','gläser z.b.von weck',\n",
    "'gläser a. 125gabtropfgewicht','gibt es imasiengeschäft','gibt es auchalkoholfrei',\n",
    "'gerinnen masse','gehen aberauch','gehäutet inwürfel','heissluft- 160°c',\n",
    "'hatte leider nurtk-ware', 'hack nehmen','hackbällchen k. t','ig [1', 'innenleben eines altenadventkalenders',\n",
    "'italienische tiefkühlware']"
   ]
  },
  {
   "cell_type": "code",
   "execution_count": 56,
   "metadata": {},
   "outputs": [
    {
     "data": {
      "text/plain": [
       "(17344, 5)"
      ]
     },
     "execution_count": 56,
     "metadata": {},
     "output_type": "execute_result"
    }
   ],
   "source": [
    "three_ingr=three_ingr[~three_ingr['parse_ingr'].isin(whole_delete)]\n",
    "three_ingr.reset_index(drop=True,inplace=True)\n",
    "three_ingr.shape"
   ]
  },
  {
   "cell_type": "code",
   "execution_count": 57,
   "metadata": {
    "collapsed": true
   },
   "outputs": [
    {
     "data": {
      "text/html": [
       "<div>\n",
       "<style scoped>\n",
       "    .dataframe tbody tr th:only-of-type {\n",
       "        vertical-align: middle;\n",
       "    }\n",
       "\n",
       "    .dataframe tbody tr th {\n",
       "        vertical-align: top;\n",
       "    }\n",
       "\n",
       "    .dataframe thead th {\n",
       "        text-align: right;\n",
       "    }\n",
       "</style>\n",
       "<table border=\"1\" class=\"dataframe\">\n",
       "  <thead>\n",
       "    <tr style=\"text-align: right;\">\n",
       "      <th></th>\n",
       "      <th>recipe_id</th>\n",
       "      <th>recipe_href</th>\n",
       "      <th>name</th>\n",
       "      <th>ingredient_name</th>\n",
       "      <th>parse_ingr</th>\n",
       "    </tr>\n",
       "  </thead>\n",
       "  <tbody>\n",
       "    <tr>\n",
       "      <th>0</th>\n",
       "      <td>25386</td>\n",
       "      <td>/rezept/423974/I-Zwiebelsauce.html</td>\n",
       "      <td>pfeffer aus der mühle</td>\n",
       "      <td>pfeffer der mühle</td>\n",
       "      <td>pfeffer</td>\n",
       "    </tr>\n",
       "    <tr>\n",
       "      <th>1</th>\n",
       "      <td>2761</td>\n",
       "      <td>/rezept/478153/Auberginenroellchen-mit-Kaese.html</td>\n",
       "      <td>frische petersilie gehackt</td>\n",
       "      <td>frische petersilie gehackt</td>\n",
       "      <td>parsley</td>\n",
       "    </tr>\n",
       "    <tr>\n",
       "      <th>2</th>\n",
       "      <td>88913</td>\n",
       "      <td>/rezept/374410/Vorspeise-gemischtes-marinierte...</td>\n",
       "      <td>thymian frisch gehackt</td>\n",
       "      <td>thymian frisch gehackt</td>\n",
       "      <td>thyme</td>\n",
       "    </tr>\n",
       "    <tr>\n",
       "      <th>3</th>\n",
       "      <td>88913</td>\n",
       "      <td>/rezept/374410/Vorspeise-gemischtes-marinierte...</td>\n",
       "      <td>rosmarin frisch gehackt</td>\n",
       "      <td>rosmarin frisch gehackt</td>\n",
       "      <td>rosemary</td>\n",
       "    </tr>\n",
       "    <tr>\n",
       "      <th>4</th>\n",
       "      <td>88913</td>\n",
       "      <td>/rezept/374410/Vorspeise-gemischtes-marinierte...</td>\n",
       "      <td>öl pro blech</td>\n",
       "      <td>öl pro blech</td>\n",
       "      <td>öl pro</td>\n",
       "    </tr>\n",
       "    <tr>\n",
       "      <th>...</th>\n",
       "      <td>...</td>\n",
       "      <td>...</td>\n",
       "      <td>...</td>\n",
       "      <td>...</td>\n",
       "      <td>...</td>\n",
       "    </tr>\n",
       "    <tr>\n",
       "      <th>17339</th>\n",
       "      <td>52554</td>\n",
       "      <td>/rezept/357278/Kaese-Lauch-Hackfleisch-Suppe.html</td>\n",
       "      <td>schmelzkäse mit kräuter</td>\n",
       "      <td>schmelzkäse mit kräuter</td>\n",
       "      <td>schmelzkäse mit kräuter</td>\n",
       "    </tr>\n",
       "    <tr>\n",
       "      <th>17340</th>\n",
       "      <td>70511</td>\n",
       "      <td>/rezept/401481/Kartoffelsuppe-mit-Waldpilzen.html</td>\n",
       "      <td>pfeffer aus der mühleschwarz</td>\n",
       "      <td>pfeffer der mühleschwarz</td>\n",
       "      <td>pfeffer schwarz</td>\n",
       "    </tr>\n",
       "    <tr>\n",
       "      <th>17341</th>\n",
       "      <td>70511</td>\n",
       "      <td>/rezept/401481/Kartoffelsuppe-mit-Waldpilzen.html</td>\n",
       "      <td>petersilie glatt frisch</td>\n",
       "      <td>petersilie glatt frisch</td>\n",
       "      <td>parsley</td>\n",
       "    </tr>\n",
       "    <tr>\n",
       "      <th>17342</th>\n",
       "      <td>70511</td>\n",
       "      <td>/rezept/401481/Kartoffelsuppe-mit-Waldpilzen.html</td>\n",
       "      <td>kartoffeln geschält frisch</td>\n",
       "      <td>kartoffeln geschält frisch</td>\n",
       "      <td>potato</td>\n",
       "    </tr>\n",
       "    <tr>\n",
       "      <th>17343</th>\n",
       "      <td>40552</td>\n",
       "      <td>/rezept/281466/Bueffett-Schinkentorte.html</td>\n",
       "      <td>ei hart gekocht</td>\n",
       "      <td>ei hart gekocht</td>\n",
       "      <td>egg</td>\n",
       "    </tr>\n",
       "  </tbody>\n",
       "</table>\n",
       "<p>17344 rows × 5 columns</p>\n",
       "</div>"
      ],
      "text/plain": [
       "       recipe_id                                        recipe_href  \\\n",
       "0          25386                 /rezept/423974/I-Zwiebelsauce.html   \n",
       "1           2761  /rezept/478153/Auberginenroellchen-mit-Kaese.html   \n",
       "2          88913  /rezept/374410/Vorspeise-gemischtes-marinierte...   \n",
       "3          88913  /rezept/374410/Vorspeise-gemischtes-marinierte...   \n",
       "4          88913  /rezept/374410/Vorspeise-gemischtes-marinierte...   \n",
       "...          ...                                                ...   \n",
       "17339      52554  /rezept/357278/Kaese-Lauch-Hackfleisch-Suppe.html   \n",
       "17340      70511  /rezept/401481/Kartoffelsuppe-mit-Waldpilzen.html   \n",
       "17341      70511  /rezept/401481/Kartoffelsuppe-mit-Waldpilzen.html   \n",
       "17342      70511  /rezept/401481/Kartoffelsuppe-mit-Waldpilzen.html   \n",
       "17343      40552         /rezept/281466/Bueffett-Schinkentorte.html   \n",
       "\n",
       "                               name             ingredient_name  \\\n",
       "0             pfeffer aus der mühle           pfeffer der mühle   \n",
       "1        frische petersilie gehackt  frische petersilie gehackt   \n",
       "2            thymian frisch gehackt      thymian frisch gehackt   \n",
       "3           rosmarin frisch gehackt     rosmarin frisch gehackt   \n",
       "4                      öl pro blech                öl pro blech   \n",
       "...                             ...                         ...   \n",
       "17339       schmelzkäse mit kräuter     schmelzkäse mit kräuter   \n",
       "17340  pfeffer aus der mühleschwarz    pfeffer der mühleschwarz   \n",
       "17341       petersilie glatt frisch     petersilie glatt frisch   \n",
       "17342    kartoffeln geschält frisch  kartoffeln geschält frisch   \n",
       "17343               ei hart gekocht             ei hart gekocht   \n",
       "\n",
       "                    parse_ingr  \n",
       "0                      pfeffer  \n",
       "1                      parsley  \n",
       "2                        thyme  \n",
       "3                     rosemary  \n",
       "4                       öl pro  \n",
       "...                        ...  \n",
       "17339  schmelzkäse mit kräuter  \n",
       "17340          pfeffer schwarz  \n",
       "17341                  parsley  \n",
       "17342                   potato  \n",
       "17343                      egg  \n",
       "\n",
       "[17344 rows x 5 columns]"
      ]
     },
     "execution_count": 57,
     "metadata": {},
     "output_type": "execute_result"
    }
   ],
   "source": [
    "three_ingr"
   ]
  },
  {
   "cell_type": "code",
   "execution_count": 66,
   "metadata": {
    "collapsed": true
   },
   "outputs": [
    {
     "data": {
      "text/plain": [
       "['rührschüssel mit deckel',\n",
       " \"röstzwiebeln a'la manfred\",\n",
       " 'römertopf gut gewässert',\n",
       " 'räucher schinken zumbelegen',\n",
       " 'russian wild berry',\n",
       " 'rumpsteaks - á',\n",
       " 'rumaroma',\n",
       " 'rum-rosinen',\n",
       " 'rum wen duwilsst',\n",
       " 'rum od. schnaps',\n",
       " 'rum o. rumaroma',\n",
       " 'rum hochprozentig mind',\n",
       " 'rum 54 %ig',\n",
       " 'rum - kann',\n",
       " 'rum %x22spiced gold%x',\n",
       " 'rum',\n",
       " 'rukkola',\n",
       " 'ruhig grösser',\n",
       " 'rucolasalat a’lamanfred',\n",
       " 'rucola-blätter',\n",
       " 'rucola ne',\n",
       " 'rucola küchenfertig',\n",
       " 'rucola - rauke',\n",
       " 'rucola',\n",
       " 'royal pearl black',\n",
       " 'rouladenfleisch rind',\n",
       " 'rouladen oberschalegeschnitten',\n",
       " 'rotkohl - tafelfertig',\n",
       " 'rotkohl',\n",
       " 'rotezwiebeln',\n",
       " 'rotezwiebel',\n",
       " 'rotes traubengelee -',\n",
       " 'roter traubensaft',\n",
       " 'roter chilli',\n",
       " 'roter apfel breaburn',\n",
       " 'roter apfel',\n",
       " 'rotepaprika',\n",
       " 'roten tortenguss erdbeergeschmack',\n",
       " 'rote äpfel',\n",
       " 'rote zwiebelwürfel',\n",
       " 'rote zwiebeln',\n",
       " 'rote zwiebel roh',\n",
       " 'rote zwiebel',\n",
       " 'rote trauben unseremgarten',\n",
       " 'rote tortellloni mitradicchio',\n",
       " 'rote tomaten',\n",
       " 'rote thai curry-paste',\n",
       " 'rote rübe',\n",
       " 'rote pfefferkörner',\n",
       " 'rote pfefferbeeren',\n",
       " 'rote peperoni scharfe',\n",
       " 'rote peperoni',\n",
       " 'rote paprikas',\n",
       " 'rote paprika süss',\n",
       " 'rote paprika',\n",
       " 'rote marmelade zumzusammensetzen',\n",
       " 'rote kidney-bohnen -vorgegart',\n",
       " 'rote kidney-bohnen',\n",
       " 'rote kernlose traubenhalbiert',\n",
       " 'rote johannisbeeren gelee',\n",
       " 'rote johannisbeeren',\n",
       " 'rote grütze%x22himbeergeschmack%x22 zumkochen',\n",
       " 'rote grütze pulver',\n",
       " 'rote grütze demkühlregal',\n",
       " 'rote grütze aussauerkirschen',\n",
       " 'rote grütze -',\n",
       " 'rote grütze',\n",
       " 'rote früchtemix',\n",
       " 'rote currypaste',\n",
       " 'rote curry paste',\n",
       " 'rote chili',\n",
       " 'rote bohnen -',\n",
       " 'rote bohnen',\n",
       " 'rote bete-kugeln demglas',\n",
       " 'rote bete saft',\n",
       " 'rote bete knollen',\n",
       " 'rote bete gekocht',\n",
       " 'rote bete',\n",
       " 'rote belegkirschen',\n",
       " 'rote beete saft',\n",
       " 'rote beete kugeln',\n",
       " 'rote beete gekocht',\n",
       " 'rote beete',\n",
       " 'rote beerenmischung',\n",
       " 'rote beeren',\n",
       " 'rotbarschfilet [',\n",
       " 'rotbarsch o. ähnl',\n",
       " 'rotbarsch frischfischzuschnitt -sebastesmarinus',\n",
       " 'rot12 std. einweichen',\n",
       " 'rot o. gelb',\n",
       " 'rot halbtrocken',\n",
       " 'rosé',\n",
       " 'rostbratenried od.rindsschnitzel -hüferlscherzel',\n",
       " 'rostbraten mit fettrand',\n",
       " 'rosmarin',\n",
       " 'rosmarien',\n",
       " 'rosinen/ sultanas',\n",
       " 'rosinen',\n",
       " 'rosi hat pflaumenschnapsgenommen',\n",
       " 'rosenwasser',\n",
       " 'rosenpaprika',\n",
       " 'rosenkohl nurblätter',\n",
       " 'rosenkohl',\n",
       " 'rosemary',\n",
       " 'rose_fish',\n",
       " 'rosa pfefferbeeren',\n",
       " 'rosa beeren',\n",
       " 'rooibos',\n",
       " 'rondini - zuchini....',\n",
       " 'rondini - r',\n",
       " 'rohschinken mager',\n",
       " 'rohrzucker -brauner zucker',\n",
       " 'rohrzucker',\n",
       " 'rohesser -',\n",
       " 'roher schinken',\n",
       " 'rohen schinken',\n",
       " 'rohe kartoffeln',\n",
       " 'rohe bratwürstchen gebrüht',\n",
       " 'rohe bratwurst',\n",
       " 'roggenschrot -',\n",
       " 'roggenmischbrot',\n",
       " 'roggenmehl type r',\n",
       " 'roggenbrötchenscheiben',\n",
       " 'roggen schrot type',\n",
       " 'roggen mehl type',\n",
       " 'rocher - kugeln',\n",
       " 'ritter sport schokoladehalbbitter',\n",
       " 'ritter sport nougat',\n",
       " 'ritter sport joghurt',\n",
       " 'ritter sport espresso',\n",
       " 'risoni barilla',\n",
       " 'rippe',\n",
       " 'rippchen',\n",
       " 'ringelblume ration',\n",
       " 'ringe',\n",
       " 'ring grossengemüsezwiebel',\n",
       " 'rindsuppe od. kochsud',\n",
       " 'rindssuppe',\n",
       " 'rindsschnitzelod. dünngeschnittenerrostbraten',\n",
       " 'rindsschnitzel - gross',\n",
       " 'rindshuft gut abgehangen',\n",
       " 'rindschnitzel keule',\n",
       " 'rindflesich z.b. einebeinscheibe',\n",
       " 'rinderrouladen sodünn',\n",
       " 'rinderleber vomfleischer',\n",
       " 'rinderhackfleischvom metzger',\n",
       " 'rindergulasch keule',\n",
       " 'rindergulasch demdiscounter/fleischer deinesvertrauens',\n",
       " 'rinderfond /ausrinderknochen gekocht',\n",
       " 'rinderbrühe mit fleisch',\n",
       " 'rinderbrühe gekocht',\n",
       " 'rinderbrühe bzw. kräftigefleischbrühe',\n",
       " 'rinderbrühe [mein',\n",
       " 'rinderbrühe 1würfel =',\n",
       " 'rinderbrühe -',\n",
       " 'rinderbrühe',\n",
       " 'rinderbrust ohne knochen',\n",
       " 'rinder suppen paste',\n",
       " 'rinder filet steak',\n",
       " 'rinder - rouladen',\n",
       " 'rind steaks',\n",
       " 'rind steak mager',\n",
       " 'rind steak',\n",
       " 'rind schnitzel mager',\n",
       " 'rind schnitzel',\n",
       " 'rind rücken',\n",
       " 'rind rouladen',\n",
       " 'rind roulade',\n",
       " 'rind leber',\n",
       " 'rind kotelett',\n",
       " 'rind kochfleisch mager',\n",
       " 'rind keule',\n",
       " 'rind hüfte',\n",
       " 'rind hochrippe',\n",
       " 'rind hackfleisch',\n",
       " 'rind gulasch mager',\n",
       " 'rind gulasch',\n",
       " 'rind fleisch mager',\n",
       " 'rind fleisch frischbeinscheibe',\n",
       " 'rind filetsteak',\n",
       " 'rind filet',\n",
       " 'rind falsches filet',\n",
       " 'rind brustkern',\n",
       " 'rind brust',\n",
       " 'rind blume',\n",
       " 'rind',\n",
       " 'riesling rhein',\n",
       " 'riesling',\n",
       " 'riesen - rigatoni',\n",
       " 'rice',\n",
       " 'ribiseln = johannisbeerenrot',\n",
       " 'ribisel-marmelade =rotejohannisbeere konfitürepassiert',\n",
       " 'ribisel = johannisbeeren',\n",
       " 'rhabarber einkauf',\n",
       " 'rhabarber - gewichtgeschält',\n",
       " 'rhabarber',\n",
       " 'rezeptin',\n",
       " 'rettichrose',\n",
       " 'rettich schwarz',\n",
       " 'retersilie -',\n",
       " 'restmarinade bier etc',\n",
       " 'restliches bratfett vomfleisch',\n",
       " 'restliche biskuitstückchenvom orangenbiskuit',\n",
       " 'rester cips',\n",
       " 'remoulade od majonaisse',\n",
       " 'reiswaffeln 6-8 st',\n",
       " 'reisnudeln demasia-regal',\n",
       " 'reisbrei mit zucker',\n",
       " 'reis grün thailand',\n",
       " 'reis / kaffeebecher',\n",
       " 'reis - basmati',\n",
       " 'reis',\n",
       " 'reicht etwasweniger',\n",
       " 'reichlichpfeffer',\n",
       " 'reibekäse zumbestreuen',\n",
       " 'reibekäse ca.200 -',\n",
       " 'reibekäse',\n",
       " 'rehrücken mit knochen',\n",
       " 'rehgulasch keule',\n",
       " 'reh fleisch',\n",
       " 'regenbogen forellen',\n",
       " 'redpepper',\n",
       " 'red thai curry',\n",
       " 'red savina habanero',\n",
       " 'recht kartoffeln',\n",
       " 'reblochon de savoie',\n",
       " 'raz hanout',\n",
       " 'raviolii',\n",
       " 'ravioli mit spinat-ricottafüllung',\n",
       " 'ravioli mit spinat',\n",
       " 'ravioli mit gorgonzolagefüllt',\n",
       " 'ravioli kühltheke',\n",
       " 'ravioli kühlregalricotta/spinat',\n",
       " 'ravioli',\n",
       " 'rauke bzw ruccola',\n",
       " 'rauke / rucola',\n",
       " 'rauchspeck',\n",
       " 'rauchfleisch durchw. speck',\n",
       " 'rauchfleisch - gekocht',\n",
       " 'ratatouille-pulver - bild',\n",
       " 'raspelkäse / gratinkäse',\n",
       " 'raspel - schokolade',\n",
       " 'rasel hanout',\n",
       " 'ras hanout',\n",
       " 'rapunzeln = feldsalat',\n",
       " 'rapsöl mit chili',\n",
       " 'rapsöl mit buttergeschmack',\n",
       " 'rapsöl',\n",
       " 'rapsoel',\n",
       " 'rame creme fine',\n",
       " 'ramaculinesse] zu anbraten',\n",
       " 'rama crème fine',\n",
       " 'rama creme fine....curryananas',\n",
       " 'rama creme fine',\n",
       " 'rama',\n",
       " 'rahmspinat iglo',\n",
       " 'rahmsosse knorr',\n",
       " 'rahm/ sahne',\n",
       " 'rahm = schmand',\n",
       " 'rahm / sahne',\n",
       " 'raffaellos',\n",
       " 'radisschen',\n",
       " 'radieschen weisse eiszapfenfrisch',\n",
       " 'radieschen inscheiben',\n",
       " 'radieschen frisch- reste',\n",
       " 'radieschen dünnescheibchen',\n",
       " 'radieschen',\n",
       " 'radicchio pro teller',\n",
       " 'radicchio']"
      ]
     },
     "execution_count": 66,
     "metadata": {},
     "output_type": "execute_result"
    }
   ],
   "source": [
    "ingr_list=[]\n",
    "for index,row in three_ingr.iterrows():\n",
    "    if re.search(r'^r',row.parse_ingr)!=None:\n",
    "        ingr_list.append(row.parse_ingr)\n",
    "ingr_list=list(set(ingr_list))    \n",
    "ingr_list.sort(reverse=True)\n",
    "ingr_list"
   ]
  },
  {
   "cell_type": "code",
   "execution_count": 90,
   "metadata": {},
   "outputs": [],
   "source": [
    "whole_change_dict={'philadelphia rote chili':'chili_cream_cheese','philadelphia pesto m.tomaten':'tomato_pesto_cream_cheese',\n",
    "'philadelphia mit milkaschokolade':'chocolate_cream_cheese','philadelphia mit milka':'chocolate_cream_cheese',\n",
    "'philadelphia cream kaese':'cookie_cream_cheese','philadelphia balance mitkräuter':'herb_cream_cheese',\n",
    "'philadelphia balance mitjoghurt':'yoghurt_cream_cheese','pfälzer - karotten':'carrot',\n",
    "'paradiscremestracciatella':'stracciatella_paradies_creme','paradiescremevanille':'vanilla_paradies_creme','paradiescremekokos':'coconut_paradies_creme',\n",
    "'paradiescreme schokoladeohne kochen':'chocolate_paradies_creme','paradiescreme ohne kochen':'paradies_creme',\n",
    "'paradiescreme - schoko':'chocolate_paradies_creme','paradiescreme':'paradies_creme',\n",
    "'paradiescrem vanille ohnekochen':'vanilla_paradies_creme','paradies-crèmevanille':'vanilla_paradies_creme',\n",
    "'paradies creme vanille':'vanilla_paradies_creme','panna di cucina':'cream','panna da cucina=kochsahne':'cream',\n",
    "'panna da cucina':'cream','pankomehl':'bread_crumbs','panko = asiatischenpanierbrot':'bread_crumbs',\n",
    "'paniemehl':'bread_crumbs','parmaschinken ohne fettrand':'parmesan_cheese',\n",
    "'parmigianoreggiano':'parmesan_cheese','parmigiano reggiano feingerieben':'parmesan_cheese','parmigiano reggiano':'parmesan_cheese',\n",
    "'obstz.b. beeren':'berry','ochsenmaul metzger':'beef',\n",
    "'obst -brombeeren':'blackberry','obst - brand':'brandy','oben beschriebenergewürzmischung':'spice',\n",
    "'nam pla sosse':'nam_pla_sauce',\n",
    "'nudelnester wie linguine':'linguine_pasta','nudeln z.b. tagliatelle':'tagliatelle_pasta',\n",
    "'nudeln z.b. spiralen':'spiralen_pasta','nudeln z.b. spaghetti':'pasta','nudeln z.b. linguini':'linguine_pasta',\n",
    "'nudeln z.b. bandnudeln':'band_pasta','nudeln z.b farfalle':'farfalle_pasta',\n",
    "'nudeln tagliatelle':'tagliatelle_pasta','nudeln penne vollkorn':'penne_pasta',\n",
    "'nudeln penne gekocht':'penne_pasta','nudeln - linguinie':'linguine_pasta','nudeln - roh':'pasta',\n",
    "'nussmischung - mandeln':'almond','nuesse nehme mandeln':'almond','noilly prat':'noilly_prat',\n",
    "'nuss - krokant':'krokant','nuss - nougat':'nut_nugat','nüsse -walnüsse':'walnut',\n",
    "'nuss-nugat-creme':'nut_nugat_cream','nuss- nougat- creme':'nut_nugat_cream','nuss nougat rohmasse':'nut_nugat_cream',\n",
    "'jamie olivers %x22geräucherteskräutergewürz%x':'olive','jalapeño':'jalapeno','jalapenos':'jalapeno',\n",
    "'käse ementaler':'emmental_cheese','käse edamer':'edamer_cheese','käse -tilsiter':'tilsiter_cheese',\n",
    "'käse halbieren zb.leerdammer':'leerdammer_cheese','käse fondue':'fondue_cheese',\n",
    "'kuner-majynaise - od.':'mayonnaise','kugelmöhren - konserveabgegossen':'carrot',\n",
    "'kräuter- hierpetersilie':'parsley','kräuter –petersilie':'parsley','kräuter z.b.petersilie':'parsley',\n",
    "'kabeljau filets':'cod','kabeljau filet':'cod','kabeljau -':'cod','knobi':'garlic',\n",
    "'møhre':'carrot','möhren':'carrot','hähnchen - kassler':'chicken','erbsen u. karotten':'pea,carrot',\n",
    "'erbsen mit karotten':'pea,carrot'}"
   ]
  },
  {
   "cell_type": "code",
   "execution_count": 86,
   "metadata": {},
   "outputs": [
    {
     "name": "stderr",
     "output_type": "stream",
     "text": [
      "/opt/conda/lib/python3.6/site-packages/ipykernel_launcher.py:2: SettingWithCopyWarning: \n",
      "A value is trying to be set on a copy of a slice from a DataFrame.\n",
      "Try using .loc[row_indexer,col_indexer] = value instead\n",
      "\n",
      "See the caveats in the documentation: https://pandas.pydata.org/pandas-docs/stable/user_guide/indexing.html#returning-a-view-versus-a-copy\n",
      "  \n"
     ]
    }
   ],
   "source": [
    "for k,v in whole_change_dict.items():\n",
    "    three_ingr['parse_ingr']=three_ingr['parse_ingr'].apply(lambda x:replace_whole_ingr(k,v,x))"
   ]
  },
  {
   "cell_type": "code",
   "execution_count": 68,
   "metadata": {},
   "outputs": [],
   "source": [
    "delete_words=['gemalen','eingelgt','nacheigenem','müle','aus',\n",
    "'-nachgeschmack','habpfirsichsaft','genommen','puren','nacheigenem','müle','indiesem','rezept',\n",
    "'nehmen','ordentlich','filetiert','ungespritzt','hälftefiletieren','- eigeneherstellung',\n",
    "'milde','abtropfgewicht','etwasmehr','mageren','magerer','magere','natürliches','tiefkühl',\n",
    "'einweichen','rezept','inzubereitungsschritt','leichter-','einfachnur','le','fettarme','l',\n",
    "'nesquick','ungesüsst','glaseingelegt','garnietur','zur','portion','zweiverpackungseinheiten',\n",
    "'kochwasser','knorr','kleingehackte','kleingewürfelt','trocken','asienladen','ausdem','laktosefrei',\n",
    "'jeweils','vonweihnstephan','magerstufe','pro','landliebe','natur','fettarm','magermilchangereichert','jederandere',\n",
    "'jede',' 2x2blätter','sortebevorzugt','zumdekorieren','zumüberbacken','zumgratinieren',\n",
    "'zumbestreuen','ich','bevorzugebergkäse','kräftiger','kräftige','muffinbackform wer hat','muffin - førmchen',\n",
    "'msp.','ausstechen','mldurch','ersetzen','mixed']"
   ]
  },
  {
   "cell_type": "code",
   "execution_count": 72,
   "metadata": {
    "collapsed": true
   },
   "outputs": [
    {
     "name": "stderr",
     "output_type": "stream",
     "text": [
      "/opt/conda/lib/python3.6/site-packages/ipykernel_launcher.py:1: SettingWithCopyWarning: \n",
      "A value is trying to be set on a copy of a slice from a DataFrame.\n",
      "Try using .loc[row_indexer,col_indexer] = value instead\n",
      "\n",
      "See the caveats in the documentation: https://pandas.pydata.org/pandas-docs/stable/user_guide/indexing.html#returning-a-view-versus-a-copy\n",
      "  \"\"\"Entry point for launching an IPython kernel.\n"
     ]
    }
   ],
   "source": [
    "three_ingr['parse_ingr']=three_ingr['parse_ingr'].apply(lambda x:del_words(x))"
   ]
  },
  {
   "cell_type": "code",
   "execution_count": null,
   "metadata": {},
   "outputs": [],
   "source": [
    "# kondensmilch,kokosraspel,kokosmilch,kirschwasser,kirschen,kassler,karotten,knoblauch,meersalz,\n",
    "# pfeffer schwarz,paprika rot,paprika gelb,passierte tomaten,pecorino,paperikaschote,pfefferkörne,"
   ]
  },
  {
   "cell_type": "code",
   "execution_count": 110,
   "metadata": {
    "collapsed": true
   },
   "outputs": [
    {
     "data": {
      "text/plain": [
       "['schwarze pfefferkörner',\n",
       " 'rote pfefferkörner',\n",
       " 'pfefferkörner schwarz',\n",
       " 'pfefferkörner rot',\n",
       " 'pfefferkörner rosa',\n",
       " 'pfefferkörne',\n",
       " 'grüne pfefferkörner inlake',\n",
       " 'grüne pfefferkörner']"
      ]
     },
     "execution_count": 110,
     "metadata": {},
     "output_type": "execute_result"
    }
   ],
   "source": [
    "ingr_list=[]\n",
    "for index,row in three_ingr.iterrows():\n",
    "    if re.search(r'pfefferkörn',row.parse_ingr)!=None:\n",
    "        ingr_list.append(row.parse_ingr)\n",
    "ingr_list=list(set(ingr_list))    \n",
    "ingr_list.sort(reverse=True)\n",
    "ingr_list"
   ]
  },
  {
   "cell_type": "code",
   "execution_count": 111,
   "metadata": {},
   "outputs": [
    {
     "name": "stderr",
     "output_type": "stream",
     "text": [
      "/opt/conda/lib/python3.6/site-packages/pandas/core/indexing.py:1765: SettingWithCopyWarning: \n",
      "A value is trying to be set on a copy of a slice from a DataFrame.\n",
      "Try using .loc[row_indexer,col_indexer] = value instead\n",
      "\n",
      "See the caveats in the documentation: https://pandas.pydata.org/pandas-docs/stable/user_guide/indexing.html#returning-a-view-versus-a-copy\n",
      "  isetter(loc, value)\n"
     ]
    }
   ],
   "source": [
    "for index,row in three_ingr.iterrows():\n",
    "    if re.search(r'pfefferkörn',row.parse_ingr)!=None:\n",
    "        three_ingr.loc[index,'parse_ingr']='pepper'"
   ]
  },
  {
   "cell_type": "code",
   "execution_count": 108,
   "metadata": {
    "collapsed": true
   },
   "outputs": [
    {
     "name": "stderr",
     "output_type": "stream",
     "text": [
      "/opt/conda/lib/python3.6/site-packages/pandas/core/indexing.py:1765: SettingWithCopyWarning: \n",
      "A value is trying to be set on a copy of a slice from a DataFrame.\n",
      "Try using .loc[row_indexer,col_indexer] = value instead\n",
      "\n",
      "See the caveats in the documentation: https://pandas.pydata.org/pandas-docs/stable/user_guide/indexing.html#returning-a-view-versus-a-copy\n",
      "  isetter(loc, value)\n"
     ]
    }
   ],
   "source": [
    "for index,row in three_ingr.iterrows():\n",
    "    if re.search(r'paperikaschote',row.parse_ingr)!=None:\n",
    "        three_ingr.loc[index,'parse_ingr']='bell_pepper'"
   ]
  },
  {
   "cell_type": "code",
   "execution_count": 106,
   "metadata": {
    "collapsed": true
   },
   "outputs": [
    {
     "name": "stderr",
     "output_type": "stream",
     "text": [
      "/opt/conda/lib/python3.6/site-packages/pandas/core/indexing.py:1765: SettingWithCopyWarning: \n",
      "A value is trying to be set on a copy of a slice from a DataFrame.\n",
      "Try using .loc[row_indexer,col_indexer] = value instead\n",
      "\n",
      "See the caveats in the documentation: https://pandas.pydata.org/pandas-docs/stable/user_guide/indexing.html#returning-a-view-versus-a-copy\n",
      "  isetter(loc, value)\n"
     ]
    }
   ],
   "source": [
    "for index,row in three_ingr.iterrows():\n",
    "    if re.search(r'pecorino',row.parse_ingr)!=None:\n",
    "        three_ingr.loc[index,'parse_ingr']='pecorino_cheese'"
   ]
  },
  {
   "cell_type": "code",
   "execution_count": 104,
   "metadata": {
    "collapsed": true
   },
   "outputs": [
    {
     "name": "stderr",
     "output_type": "stream",
     "text": [
      "/opt/conda/lib/python3.6/site-packages/pandas/core/indexing.py:1765: SettingWithCopyWarning: \n",
      "A value is trying to be set on a copy of a slice from a DataFrame.\n",
      "Try using .loc[row_indexer,col_indexer] = value instead\n",
      "\n",
      "See the caveats in the documentation: https://pandas.pydata.org/pandas-docs/stable/user_guide/indexing.html#returning-a-view-versus-a-copy\n",
      "  isetter(loc, value)\n"
     ]
    }
   ],
   "source": [
    "for index,row in three_ingr.iterrows():\n",
    "    if re.search(r'passierte tomaten',row.parse_ingr)!=None:\n",
    "        three_ingr.loc[index,'parse_ingr']='passierte_tomato'"
   ]
  },
  {
   "cell_type": "code",
   "execution_count": 102,
   "metadata": {},
   "outputs": [
    {
     "name": "stderr",
     "output_type": "stream",
     "text": [
      "/opt/conda/lib/python3.6/site-packages/pandas/core/indexing.py:1765: SettingWithCopyWarning: \n",
      "A value is trying to be set on a copy of a slice from a DataFrame.\n",
      "Try using .loc[row_indexer,col_indexer] = value instead\n",
      "\n",
      "See the caveats in the documentation: https://pandas.pydata.org/pandas-docs/stable/user_guide/indexing.html#returning-a-view-versus-a-copy\n",
      "  isetter(loc, value)\n"
     ]
    }
   ],
   "source": [
    "for index,row in three_ingr.iterrows():\n",
    "    if re.search(r'paprika gelb',row.parse_ingr)!=None:\n",
    "        three_ingr.loc[index,'parse_ingr']='bell_pepper'"
   ]
  },
  {
   "cell_type": "code",
   "execution_count": 100,
   "metadata": {},
   "outputs": [
    {
     "name": "stderr",
     "output_type": "stream",
     "text": [
      "/opt/conda/lib/python3.6/site-packages/pandas/core/indexing.py:1765: SettingWithCopyWarning: \n",
      "A value is trying to be set on a copy of a slice from a DataFrame.\n",
      "Try using .loc[row_indexer,col_indexer] = value instead\n",
      "\n",
      "See the caveats in the documentation: https://pandas.pydata.org/pandas-docs/stable/user_guide/indexing.html#returning-a-view-versus-a-copy\n",
      "  isetter(loc, value)\n"
     ]
    }
   ],
   "source": [
    "for index,row in three_ingr.iterrows():\n",
    "    if re.search(r'paprika rot',row.parse_ingr)!=None:\n",
    "        three_ingr.loc[index,'parse_ingr']='bell_pepper'"
   ]
  },
  {
   "cell_type": "code",
   "execution_count": 98,
   "metadata": {
    "collapsed": true
   },
   "outputs": [
    {
     "name": "stderr",
     "output_type": "stream",
     "text": [
      "/opt/conda/lib/python3.6/site-packages/pandas/core/indexing.py:1765: SettingWithCopyWarning: \n",
      "A value is trying to be set on a copy of a slice from a DataFrame.\n",
      "Try using .loc[row_indexer,col_indexer] = value instead\n",
      "\n",
      "See the caveats in the documentation: https://pandas.pydata.org/pandas-docs/stable/user_guide/indexing.html#returning-a-view-versus-a-copy\n",
      "  isetter(loc, value)\n"
     ]
    }
   ],
   "source": [
    "for index,row in three_ingr.iterrows():\n",
    "    if re.search(r'pfeffer schwarz',row.parse_ingr)!=None:\n",
    "        three_ingr.loc[index,'parse_ingr']='black_pepper'"
   ]
  },
  {
   "cell_type": "code",
   "execution_count": 95,
   "metadata": {
    "scrolled": true
   },
   "outputs": [
    {
     "name": "stderr",
     "output_type": "stream",
     "text": [
      "/opt/conda/lib/python3.6/site-packages/pandas/core/indexing.py:1765: SettingWithCopyWarning: \n",
      "A value is trying to be set on a copy of a slice from a DataFrame.\n",
      "Try using .loc[row_indexer,col_indexer] = value instead\n",
      "\n",
      "See the caveats in the documentation: https://pandas.pydata.org/pandas-docs/stable/user_guide/indexing.html#returning-a-view-versus-a-copy\n",
      "  isetter(loc, value)\n"
     ]
    }
   ],
   "source": [
    "for index,row in three_ingr.iterrows():\n",
    "    if re.search(r'\\bknoblauch\\b',row.parse_ingr)!=None:\n",
    "        three_ingr.loc[index,'parse_ingr']='garlic'"
   ]
  },
  {
   "cell_type": "code",
   "execution_count": 92,
   "metadata": {},
   "outputs": [
    {
     "name": "stderr",
     "output_type": "stream",
     "text": [
      "/opt/conda/lib/python3.6/site-packages/pandas/core/indexing.py:1765: SettingWithCopyWarning: \n",
      "A value is trying to be set on a copy of a slice from a DataFrame.\n",
      "Try using .loc[row_indexer,col_indexer] = value instead\n",
      "\n",
      "See the caveats in the documentation: https://pandas.pydata.org/pandas-docs/stable/user_guide/indexing.html#returning-a-view-versus-a-copy\n",
      "  isetter(loc, value)\n"
     ]
    }
   ],
   "source": [
    "for index,row in three_ingr.iterrows():\n",
    "    if re.search(r'karotten',row.parse_ingr)!=None:\n",
    "        three_ingr.loc[index,'parse_ingr']='carrot'"
   ]
  },
  {
   "cell_type": "code",
   "execution_count": 88,
   "metadata": {
    "collapsed": true
   },
   "outputs": [
    {
     "name": "stderr",
     "output_type": "stream",
     "text": [
      "/opt/conda/lib/python3.6/site-packages/pandas/core/indexing.py:1765: SettingWithCopyWarning: \n",
      "A value is trying to be set on a copy of a slice from a DataFrame.\n",
      "Try using .loc[row_indexer,col_indexer] = value instead\n",
      "\n",
      "See the caveats in the documentation: https://pandas.pydata.org/pandas-docs/stable/user_guide/indexing.html#returning-a-view-versus-a-copy\n",
      "  isetter(loc, value)\n"
     ]
    }
   ],
   "source": [
    "for index,row in three_ingr.iterrows():\n",
    "    if re.search(r'kassler',row.parse_ingr)!=None:\n",
    "        three_ingr.loc[index,'parse_ingr']='smoked_pork'"
   ]
  },
  {
   "cell_type": "code",
   "execution_count": 83,
   "metadata": {
    "collapsed": true
   },
   "outputs": [
    {
     "name": "stderr",
     "output_type": "stream",
     "text": [
      "/opt/conda/lib/python3.6/site-packages/pandas/core/indexing.py:1765: SettingWithCopyWarning: \n",
      "A value is trying to be set on a copy of a slice from a DataFrame.\n",
      "Try using .loc[row_indexer,col_indexer] = value instead\n",
      "\n",
      "See the caveats in the documentation: https://pandas.pydata.org/pandas-docs/stable/user_guide/indexing.html#returning-a-view-versus-a-copy\n",
      "  isetter(loc, value)\n"
     ]
    }
   ],
   "source": [
    "for index,row in three_ingr.iterrows():\n",
    "    if re.search(r'kirschen',row.parse_ingr)!=None:\n",
    "        three_ingr.loc[index,'parse_ingr']='cherry'"
   ]
  },
  {
   "cell_type": "code",
   "execution_count": 81,
   "metadata": {
    "collapsed": true
   },
   "outputs": [
    {
     "name": "stderr",
     "output_type": "stream",
     "text": [
      "/opt/conda/lib/python3.6/site-packages/pandas/core/indexing.py:1765: SettingWithCopyWarning: \n",
      "A value is trying to be set on a copy of a slice from a DataFrame.\n",
      "Try using .loc[row_indexer,col_indexer] = value instead\n",
      "\n",
      "See the caveats in the documentation: https://pandas.pydata.org/pandas-docs/stable/user_guide/indexing.html#returning-a-view-versus-a-copy\n",
      "  isetter(loc, value)\n"
     ]
    }
   ],
   "source": [
    "for index,row in three_ingr.iterrows():\n",
    "    if re.search(r'kirschwasser',row.parse_ingr)!=None:\n",
    "        three_ingr.loc[index,'parse_ingr']='kirsch'"
   ]
  },
  {
   "cell_type": "code",
   "execution_count": 79,
   "metadata": {
    "collapsed": true
   },
   "outputs": [
    {
     "name": "stderr",
     "output_type": "stream",
     "text": [
      "/opt/conda/lib/python3.6/site-packages/pandas/core/indexing.py:1765: SettingWithCopyWarning: \n",
      "A value is trying to be set on a copy of a slice from a DataFrame.\n",
      "Try using .loc[row_indexer,col_indexer] = value instead\n",
      "\n",
      "See the caveats in the documentation: https://pandas.pydata.org/pandas-docs/stable/user_guide/indexing.html#returning-a-view-versus-a-copy\n",
      "  isetter(loc, value)\n"
     ]
    }
   ],
   "source": [
    "for index,row in three_ingr.iterrows():\n",
    "    if re.search(r'kokosmilch',row.parse_ingr)!=None:\n",
    "        three_ingr.loc[index,'parse_ingr']='coconut_milk'"
   ]
  },
  {
   "cell_type": "code",
   "execution_count": 77,
   "metadata": {
    "collapsed": true
   },
   "outputs": [
    {
     "name": "stderr",
     "output_type": "stream",
     "text": [
      "/opt/conda/lib/python3.6/site-packages/pandas/core/indexing.py:1765: SettingWithCopyWarning: \n",
      "A value is trying to be set on a copy of a slice from a DataFrame.\n",
      "Try using .loc[row_indexer,col_indexer] = value instead\n",
      "\n",
      "See the caveats in the documentation: https://pandas.pydata.org/pandas-docs/stable/user_guide/indexing.html#returning-a-view-versus-a-copy\n",
      "  isetter(loc, value)\n"
     ]
    }
   ],
   "source": [
    "for index,row in three_ingr.iterrows():\n",
    "    if re.search(r'kokosraspel',row.parse_ingr)!=None:\n",
    "        three_ingr.loc[index,'parse_ingr']='coconut_flour'"
   ]
  },
  {
   "cell_type": "code",
   "execution_count": 75,
   "metadata": {
    "collapsed": true
   },
   "outputs": [
    {
     "name": "stderr",
     "output_type": "stream",
     "text": [
      "/opt/conda/lib/python3.6/site-packages/pandas/core/indexing.py:1765: SettingWithCopyWarning: \n",
      "A value is trying to be set on a copy of a slice from a DataFrame.\n",
      "Try using .loc[row_indexer,col_indexer] = value instead\n",
      "\n",
      "See the caveats in the documentation: https://pandas.pydata.org/pandas-docs/stable/user_guide/indexing.html#returning-a-view-versus-a-copy\n",
      "  isetter(loc, value)\n"
     ]
    }
   ],
   "source": [
    "for index,row in three_ingr.iterrows():\n",
    "    if re.search(r'kondensmilch',row.parse_ingr)!=None:\n",
    "        three_ingr.loc[index,'parse_ingr']='milk'"
   ]
  },
  {
   "cell_type": "code",
   "execution_count": 113,
   "metadata": {},
   "outputs": [],
   "source": [
    "whole_delete=['juice tropicalvon dole','jubiläumsform lumara','küchenfertige gans','klein%x2c orichiette genommen', 'laune /',\n",
    "'lila [ggf.selbst mischen', 'muffinform', 'muttersaftaus reformhaus','mixed pickles selbsteingemacht','mind. 2 st',\n",
    "'nurder vordere teil','nuden kleinehörnchen','nähgarn','nussmehl zumausstäuben','nurder vordere teil',\n",
    "'natürlich verschiedenereste','nürnberger =deftiger strudel','orangat reformhaus','ober-/ unterhitze- etwa180°c',\n",
    "'papiermanschettenfür die form','papierförmchenfür die backform','papierförmchen',\n",
    "'papierbackförmchen', 'papier - backförmchen','packpapier','paarzwiebelringe rot']"
   ]
  },
  {
   "cell_type": "code",
   "execution_count": 114,
   "metadata": {},
   "outputs": [
    {
     "data": {
      "text/plain": [
       "(17320, 5)"
      ]
     },
     "execution_count": 114,
     "metadata": {},
     "output_type": "execute_result"
    }
   ],
   "source": [
    "three_ingr=three_ingr[~three_ingr['parse_ingr'].isin(whole_delete)]\n",
    "three_ingr.reset_index(drop=True,inplace=True)\n",
    "three_ingr.shape"
   ]
  },
  {
   "cell_type": "code",
   "execution_count": 125,
   "metadata": {
    "collapsed": true
   },
   "outputs": [
    {
     "data": {
      "text/plain": [
       "['zwiebelwürfel rot',\n",
       " 'zwiebel',\n",
       " 'zwiebefür die',\n",
       " 'zwieback sind 3',\n",
       " 'zwetschken sind pflaumen',\n",
       " 'zwetschken',\n",
       " 'zweibeutel hefe',\n",
       " 'zwei solozehen',\n",
       " 'zwei olivenölpeperoncino',\n",
       " 'zusatz',\n",
       " 'zumfestkneten',\n",
       " 'zumabschmecken',\n",
       " 'zuckerrand',\n",
       " 'zuckerperlen z.b. edeka',\n",
       " 'zuckerperlen - gold',\n",
       " 'zuckerperlen',\n",
       " 'zuckermais -abgetropft',\n",
       " 'zuckerhutsalat mit chiccore',\n",
       " 'zuckerguss',\n",
       " 'zuckercoleur nur1esslöffel',\n",
       " 'zuckerblumen z.b. aldi',\n",
       " 'zucker',\n",
       " 'zucchino - rest',\n",
       " 'zucchini',\n",
       " 'zubereitung inmeinem',\n",
       " 'zu1 beerengelierzucker',\n",
       " 'zitroneunbehandelt',\n",
       " 'zitronensäure -- pulver',\n",
       " 'zitronenschaleu. -saft',\n",
       " 'zitronenschale -unbehandelt',\n",
       " 'zitronenpfeffernach gusto',\n",
       " 'zitronenmus',\n",
       " 'zitronenlikör mit ingwer',\n",
       " 'zitronenessenz nötig',\n",
       " 'zitronenaroma o. abgeriebenezitronenschale',\n",
       " 'zitronenaroma - back',\n",
       " 'zitronen-kräuter-öl',\n",
       " 'zitronen-kastenkuchen - ekauft',\n",
       " 'zitronen saft',\n",
       " 'zitronen densaft',\n",
       " 'zitronen -',\n",
       " 'zitronen',\n",
       " 'zitronat',\n",
       " 'zitroback - finesse',\n",
       " 'zitonenspaltenzum',\n",
       " 'zitonenessig nahmkräuteressig',\n",
       " 'zitonen einerzitrone',\n",
       " 'zirtonen-kräuter-öl',\n",
       " 'zironen- orangensaft braunerzucker',\n",
       " 'zirone',\n",
       " 'zimtsterne baisermassezum verzieren',\n",
       " 'zimtstange',\n",
       " 'zimtpulver mit zuckermischen',\n",
       " 'zimtpulver',\n",
       " 'zimtlikör conny',\n",
       " 'zigeunersosse hohmann',\n",
       " 'zigeunersosse',\n",
       " 'zigeuner - sosse',\n",
       " 'ziegenfrischkäse mit honig',\n",
       " 'ziegenfrischkäse 60-',\n",
       " 'zerlassene butter',\n",
       " 'zerkrümeltes weissbrot- baguette',\n",
       " 'zedernholz weber',\n",
       " 'zbsp eisfix karamell',\n",
       " 'zaziki -',\n",
       " 'zartbitterschokolade vonlidl amazonas',\n",
       " 'zartbitterschokolade grobgehackt backschokolade',\n",
       " 'zartbitter - schokolade',\n",
       " 'zanderfilets mit haut',\n",
       " 'zanderfilet ohne gräten',\n",
       " 'zanderfilet mit haut',\n",
       " 'zanderfilet',\n",
       " 'z.b. zott',\n",
       " 'z.b. tortellini mitkäsefüllung',\n",
       " 'z.b. rama',\n",
       " 'z.b. rachenputzer vonschamel',\n",
       " 'z.b. penne rigate',\n",
       " 'z.b. miree',\n",
       " 'z.b. mazola',\n",
       " 'z.b. herta',\n",
       " 'z.b. g. vonf',\n",
       " 'z.b. bertolli',\n",
       " 'z.b.',\n",
       " 'z.b vonmüller',\n",
       " 'z. t.pilzwasser',\n",
       " 'z. bsp kabeljau']"
      ]
     },
     "execution_count": 125,
     "metadata": {},
     "output_type": "execute_result"
    }
   ],
   "source": [
    "ingr_list=[]\n",
    "for index,row in three_ingr.iterrows():\n",
    "    if re.search(r'^z',row.parse_ingr)!=None:\n",
    "        ingr_list.append(row.parse_ingr)\n",
    "ingr_list=list(set(ingr_list))    \n",
    "ingr_list.sort(reverse=True)\n",
    "ingr_list"
   ]
  },
  {
   "cell_type": "code",
   "execution_count": 126,
   "metadata": {},
   "outputs": [],
   "source": [
    "whole_change_dict={'tlöl':'oil','tk-spinat - blattspinat':'spinach','tk-petersilie %x22iglo%x':'parsley',\n",
    "'tk-mischgemüse vomsupermarkt meinesvertrauenes':'vegetable','tk-kräutermischungnach':'herb',\n",
    "'tk-kräuter derprovence':'herbes_de_provence','tk-kräuter 7 kräuter':'herb',\n",
    "'tk-gemüse bestehend auszuckerschoten':'vegetable','tk-erbsen - rest':'pea','tk-bohnen im speckmantel':'bean',\n",
    "'tk- fischfilet pangasiusaufgetaut':'fish','tagliolini nero auskühltegal':'tagliolini_pasta',\n",
    "'taglioline al barolo':'tagliolini_pasta','tagliolina all´ arancia':'tagliolini_pasta',\n",
    "'uncle ben`s reis':'rice','uncle ben`s expressbasmati-reis':'rice',\n",
    "'ungereinigtesgraues guérande-salz':'salt','vanillin-zucker':'vanilla_sugar','vanillesauce':'vanilla_sauce',\n",
    "'vanillemark schote':'vanilla','vanilleeis /schokoeis kugeln':'vanilla_ice_cream',\n",
    "'vanilleeis':'vanilla_ice_cream','vanillecreme ~ paradiescreme':'vanilla_cream',\n",
    "'vanille - zucker':'vanilla_sugar','vanille aroma':'vanilla_aroma','vegetarischefleischbällchen z.b. vonvales':'vegen_meat_ball',\n",
    "'wem bekanntfuego-hot-pepper-sauce mitknofi':'chili_garlic_sauce'}"
   ]
  },
  {
   "cell_type": "code",
   "execution_count": 127,
   "metadata": {
    "collapsed": true
   },
   "outputs": [
    {
     "name": "stderr",
     "output_type": "stream",
     "text": [
      "/opt/conda/lib/python3.6/site-packages/ipykernel_launcher.py:2: SettingWithCopyWarning: \n",
      "A value is trying to be set on a copy of a slice from a DataFrame.\n",
      "Try using .loc[row_indexer,col_indexer] = value instead\n",
      "\n",
      "See the caveats in the documentation: https://pandas.pydata.org/pandas-docs/stable/user_guide/indexing.html#returning-a-view-versus-a-copy\n",
      "  \n"
     ]
    }
   ],
   "source": [
    "for k,v in whole_change_dict.items():\n",
    "    three_ingr['parse_ingr']=three_ingr['parse_ingr'].apply(lambda x:replace_whole_ingr(k,v,x))"
   ]
  },
  {
   "cell_type": "code",
   "execution_count": 128,
   "metadata": {},
   "outputs": [],
   "source": [
    "delete_words=['süsses','süsser','süssen','süsse','stengel','schwarzwurzeln','schwarzwurzel','zumservieren','wie',\n",
    "'wermut','weiteres','wahlweise','zwei','z.b.']"
   ]
  },
  {
   "cell_type": "code",
   "execution_count": 129,
   "metadata": {
    "collapsed": true
   },
   "outputs": [
    {
     "name": "stderr",
     "output_type": "stream",
     "text": [
      "/opt/conda/lib/python3.6/site-packages/ipykernel_launcher.py:1: SettingWithCopyWarning: \n",
      "A value is trying to be set on a copy of a slice from a DataFrame.\n",
      "Try using .loc[row_indexer,col_indexer] = value instead\n",
      "\n",
      "See the caveats in the documentation: https://pandas.pydata.org/pandas-docs/stable/user_guide/indexing.html#returning-a-view-versus-a-copy\n",
      "  \"\"\"Entry point for launching an IPython kernel.\n"
     ]
    }
   ],
   "source": [
    "three_ingr['parse_ingr']=three_ingr['parse_ingr'].apply(lambda x:del_words(x))"
   ]
  },
  {
   "cell_type": "code",
   "execution_count": 130,
   "metadata": {},
   "outputs": [],
   "source": [
    "whole_delete=['sofort mitäpfel mischen','sekt -','sollte manentsprechendes backwerkzeughaben','saftige',\n",
    "'leicht','vortag','rest','stilles','sie enthaltenweniger saeure','toast toaster','vorspeise -pfifferlingsmaultäschle inrinderbrühe',\n",
    "'woanders sagt manmöhre','x22suppe%x22 gefro', 'x22brägili - gwirz%x','zusatz','zuckerperlen z.b. edeka',\n",
    "'zuckerperlen - gold','zuckerperlen']"
   ]
  },
  {
   "cell_type": "code",
   "execution_count": 131,
   "metadata": {},
   "outputs": [
    {
     "data": {
      "text/plain": [
       "(17308, 5)"
      ]
     },
     "execution_count": 131,
     "metadata": {},
     "output_type": "execute_result"
    }
   ],
   "source": [
    "three_ingr=three_ingr[~three_ingr['parse_ingr'].isin(whole_delete)]\n",
    "three_ingr.reset_index(drop=True,inplace=True)\n",
    "three_ingr.shape"
   ]
  },
  {
   "cell_type": "code",
   "execution_count": null,
   "metadata": {},
   "outputs": [],
   "source": [
    "# suppengemüse, speisestärke,speckwürfel,speck,schwarzer pfeffer,schwarzen pfeffer,süssstoff,stevia,saure sahne,\n",
    "# salatkrönung,salatkräuter,salami,spitzpaprika,tagliatelle,tortellini,wiener würstchen,wiener tortenboden,\n",
    "# wiener boden,weissbrot"
   ]
  },
  {
   "cell_type": "code",
   "execution_count": 155,
   "metadata": {
    "collapsed": true
   },
   "outputs": [
    {
     "data": {
      "text/plain": [
       "['zerkrümeltes weissbrot- baguette',\n",
       " 'weissbrotwürfel ohne rinde',\n",
       " 'weissbrotwürfel ohne kruste',\n",
       " 'weissbrotbrösel tagezuvor',\n",
       " 'weissbrot ohne rinde',\n",
       " 'weissbrot / baguette',\n",
       " 'weissbrot',\n",
       " 'kastenweissbrote -achtung-längs aufgeschitten']"
      ]
     },
     "execution_count": 155,
     "metadata": {},
     "output_type": "execute_result"
    }
   ],
   "source": [
    "ingr_list=[]\n",
    "for index,row in three_ingr.iterrows():\n",
    "    if re.search(r'weissbrot',row.parse_ingr)!=None:\n",
    "        ingr_list.append(row.parse_ingr)\n",
    "ingr_list=list(set(ingr_list))    \n",
    "ingr_list.sort(reverse=True)\n",
    "ingr_list"
   ]
  },
  {
   "cell_type": "code",
   "execution_count": 156,
   "metadata": {
    "collapsed": true
   },
   "outputs": [
    {
     "name": "stderr",
     "output_type": "stream",
     "text": [
      "/opt/conda/lib/python3.6/site-packages/pandas/core/indexing.py:1765: SettingWithCopyWarning: \n",
      "A value is trying to be set on a copy of a slice from a DataFrame.\n",
      "Try using .loc[row_indexer,col_indexer] = value instead\n",
      "\n",
      "See the caveats in the documentation: https://pandas.pydata.org/pandas-docs/stable/user_guide/indexing.html#returning-a-view-versus-a-copy\n",
      "  isetter(loc, value)\n"
     ]
    }
   ],
   "source": [
    "for index,row in three_ingr.iterrows():\n",
    "    if re.search(r'weissbrot',row.parse_ingr)!=None:\n",
    "        three_ingr.loc[index,'parse_ingr']='white_bread'"
   ]
  },
  {
   "cell_type": "code",
   "execution_count": 154,
   "metadata": {},
   "outputs": [
    {
     "name": "stderr",
     "output_type": "stream",
     "text": [
      "/opt/conda/lib/python3.6/site-packages/pandas/core/indexing.py:1765: SettingWithCopyWarning: \n",
      "A value is trying to be set on a copy of a slice from a DataFrame.\n",
      "Try using .loc[row_indexer,col_indexer] = value instead\n",
      "\n",
      "See the caveats in the documentation: https://pandas.pydata.org/pandas-docs/stable/user_guide/indexing.html#returning-a-view-versus-a-copy\n",
      "  isetter(loc, value)\n"
     ]
    }
   ],
   "source": [
    "for index,row in three_ingr.iterrows():\n",
    "    if (re.search(r'wiener tortenboden',row.parse_ingr)!=None) or (re.search(r'wiener boden',row.parse_ingr)!=None):\n",
    "        three_ingr.loc[index,'parse_ingr']='wiener_sponge_cake'"
   ]
  },
  {
   "cell_type": "code",
   "execution_count": 153,
   "metadata": {
    "collapsed": true
   },
   "outputs": [
    {
     "name": "stderr",
     "output_type": "stream",
     "text": [
      "/opt/conda/lib/python3.6/site-packages/pandas/core/indexing.py:1765: SettingWithCopyWarning: \n",
      "A value is trying to be set on a copy of a slice from a DataFrame.\n",
      "Try using .loc[row_indexer,col_indexer] = value instead\n",
      "\n",
      "See the caveats in the documentation: https://pandas.pydata.org/pandas-docs/stable/user_guide/indexing.html#returning-a-view-versus-a-copy\n",
      "  isetter(loc, value)\n"
     ]
    }
   ],
   "source": [
    "for index,row in three_ingr.iterrows():\n",
    "    if re.search(r'wiener würstchen',row.parse_ingr)!=None:\n",
    "        three_ingr.loc[index,'parse_ingr']='wiener_sausage'"
   ]
  },
  {
   "cell_type": "code",
   "execution_count": 149,
   "metadata": {
    "collapsed": true
   },
   "outputs": [
    {
     "name": "stderr",
     "output_type": "stream",
     "text": [
      "/opt/conda/lib/python3.6/site-packages/pandas/core/indexing.py:1765: SettingWithCopyWarning: \n",
      "A value is trying to be set on a copy of a slice from a DataFrame.\n",
      "Try using .loc[row_indexer,col_indexer] = value instead\n",
      "\n",
      "See the caveats in the documentation: https://pandas.pydata.org/pandas-docs/stable/user_guide/indexing.html#returning-a-view-versus-a-copy\n",
      "  isetter(loc, value)\n"
     ]
    }
   ],
   "source": [
    "for index,row in three_ingr.iterrows():\n",
    "    if re.search(r'tortellini',row.parse_ingr)!=None:\n",
    "        three_ingr.loc[index,'parse_ingr']='tortellini'"
   ]
  },
  {
   "cell_type": "code",
   "execution_count": 150,
   "metadata": {},
   "outputs": [
    {
     "name": "stderr",
     "output_type": "stream",
     "text": [
      "/opt/conda/lib/python3.6/site-packages/pandas/core/indexing.py:1765: SettingWithCopyWarning: \n",
      "A value is trying to be set on a copy of a slice from a DataFrame.\n",
      "Try using .loc[row_indexer,col_indexer] = value instead\n",
      "\n",
      "See the caveats in the documentation: https://pandas.pydata.org/pandas-docs/stable/user_guide/indexing.html#returning-a-view-versus-a-copy\n",
      "  isetter(loc, value)\n"
     ]
    }
   ],
   "source": [
    "for index,row in three_ingr.iterrows():\n",
    "    if re.search(r'tagliatelle',row.parse_ingr)!=None:\n",
    "        three_ingr.loc[index,'parse_ingr']='tagliatelle_pasta'"
   ]
  },
  {
   "cell_type": "code",
   "execution_count": 151,
   "metadata": {
    "collapsed": true
   },
   "outputs": [
    {
     "name": "stderr",
     "output_type": "stream",
     "text": [
      "/opt/conda/lib/python3.6/site-packages/pandas/core/indexing.py:1765: SettingWithCopyWarning: \n",
      "A value is trying to be set on a copy of a slice from a DataFrame.\n",
      "Try using .loc[row_indexer,col_indexer] = value instead\n",
      "\n",
      "See the caveats in the documentation: https://pandas.pydata.org/pandas-docs/stable/user_guide/indexing.html#returning-a-view-versus-a-copy\n",
      "  isetter(loc, value)\n"
     ]
    }
   ],
   "source": [
    "for index,row in three_ingr.iterrows():\n",
    "    if re.search(r'spitzpaprika',row.parse_ingr)!=None:\n",
    "        three_ingr.loc[index,'parse_ingr']='bell_pepper'"
   ]
  },
  {
   "cell_type": "code",
   "execution_count": 145,
   "metadata": {
    "collapsed": true
   },
   "outputs": [
    {
     "name": "stderr",
     "output_type": "stream",
     "text": [
      "/opt/conda/lib/python3.6/site-packages/pandas/core/indexing.py:1765: SettingWithCopyWarning: \n",
      "A value is trying to be set on a copy of a slice from a DataFrame.\n",
      "Try using .loc[row_indexer,col_indexer] = value instead\n",
      "\n",
      "See the caveats in the documentation: https://pandas.pydata.org/pandas-docs/stable/user_guide/indexing.html#returning-a-view-versus-a-copy\n",
      "  isetter(loc, value)\n"
     ]
    }
   ],
   "source": [
    "for index,row in three_ingr.iterrows():\n",
    "    if re.search(r'salami',row.parse_ingr)!=None:\n",
    "        three_ingr.loc[index,'parse_ingr']='salami'"
   ]
  },
  {
   "cell_type": "code",
   "execution_count": 143,
   "metadata": {
    "collapsed": true
   },
   "outputs": [
    {
     "name": "stderr",
     "output_type": "stream",
     "text": [
      "/opt/conda/lib/python3.6/site-packages/pandas/core/indexing.py:1765: SettingWithCopyWarning: \n",
      "A value is trying to be set on a copy of a slice from a DataFrame.\n",
      "Try using .loc[row_indexer,col_indexer] = value instead\n",
      "\n",
      "See the caveats in the documentation: https://pandas.pydata.org/pandas-docs/stable/user_guide/indexing.html#returning-a-view-versus-a-copy\n",
      "  isetter(loc, value)\n"
     ]
    }
   ],
   "source": [
    "for index,row in three_ingr.iterrows():\n",
    "    if re.search(r'schwarzen pfeffer',row.parse_ingr)!=None:\n",
    "        three_ingr.loc[index,'parse_ingr']='black_pepper'"
   ]
  },
  {
   "cell_type": "code",
   "execution_count": 141,
   "metadata": {
    "collapsed": true
   },
   "outputs": [
    {
     "name": "stderr",
     "output_type": "stream",
     "text": [
      "/opt/conda/lib/python3.6/site-packages/pandas/core/indexing.py:1765: SettingWithCopyWarning: \n",
      "A value is trying to be set on a copy of a slice from a DataFrame.\n",
      "Try using .loc[row_indexer,col_indexer] = value instead\n",
      "\n",
      "See the caveats in the documentation: https://pandas.pydata.org/pandas-docs/stable/user_guide/indexing.html#returning-a-view-versus-a-copy\n",
      "  isetter(loc, value)\n"
     ]
    }
   ],
   "source": [
    "for index,row in three_ingr.iterrows():\n",
    "    if re.search(r'schwarzer pfeffer',row.parse_ingr)!=None:\n",
    "        three_ingr.loc[index,'parse_ingr']='black_pepper'"
   ]
  },
  {
   "cell_type": "code",
   "execution_count": 139,
   "metadata": {
    "collapsed": true
   },
   "outputs": [
    {
     "name": "stderr",
     "output_type": "stream",
     "text": [
      "/opt/conda/lib/python3.6/site-packages/pandas/core/indexing.py:1765: SettingWithCopyWarning: \n",
      "A value is trying to be set on a copy of a slice from a DataFrame.\n",
      "Try using .loc[row_indexer,col_indexer] = value instead\n",
      "\n",
      "See the caveats in the documentation: https://pandas.pydata.org/pandas-docs/stable/user_guide/indexing.html#returning-a-view-versus-a-copy\n",
      "  isetter(loc, value)\n"
     ]
    }
   ],
   "source": [
    "for index,row in three_ingr.iterrows():\n",
    "    if re.search(r'speck',row.parse_ingr)!=None:\n",
    "        three_ingr.loc[index,'parse_ingr']='bacon'"
   ]
  },
  {
   "cell_type": "code",
   "execution_count": 160,
   "metadata": {},
   "outputs": [],
   "source": [
    "for index,row in three_ingr.iterrows():\n",
    "    if re.search(r'speckwürfel',row.parse_ingr)!=None:\n",
    "        three_ingr.loc[index,'parse_ingr']='bacon'"
   ]
  },
  {
   "cell_type": "code",
   "execution_count": 159,
   "metadata": {},
   "outputs": [],
   "source": [
    "three_ingrs.sort()"
   ]
  },
  {
   "cell_type": "code",
   "execution_count": 161,
   "metadata": {
    "collapsed": true
   },
   "outputs": [
    {
     "data": {
      "text/plain": [
       "['',\n",
       " '-',\n",
       " '- 8-kräuter',\n",
       " '- 8kräuter',\n",
       " '- beerenmischung',\n",
       " '- buttergemüse',\n",
       " '- dolden',\n",
       " '- erbsen',\n",
       " '- eventuellgulasch',\n",
       " '- farbtupfer',\n",
       " '- fischstäbchen',\n",
       " '- gemüsekorb',\n",
       " '- halb',\n",
       " '- himbeeren',\n",
       " '- limettensaft',\n",
       " '- mischgemüse',\n",
       " '- möhrenscheiben',\n",
       " '- petersilie',\n",
       " '- pizzateig',\n",
       " '- quark',\n",
       " '- rahmspinat',\n",
       " '- schattenmorellen',\n",
       " '- sirup',\n",
       " '- veganer nehmensojaquark',\n",
       " '- wok-gemüse',\n",
       " '- würzspinat',\n",
       " '- zahlen',\n",
       " '- zitronensaft',\n",
       " '- zwiebel',\n",
       " '-8 kräuter',\n",
       " '-ersatzweise ingwerpulver',\n",
       " '-fein',\n",
       " '-lachs-spinatquiche mitherbstsalat',\n",
       " '-schale',\n",
       " '-separat',\n",
       " '. diesewerden',\n",
       " '.......',\n",
       " '..pasta',\n",
       " '/ braunekraftsosse',\n",
       " '/ gewürfeltemöhrchen',\n",
       " '/ quark',\n",
       " '0',\n",
       " '1',\n",
       " '1 backpulver',\n",
       " '1 knobluchzehe',\n",
       " '1 muskat',\n",
       " '1 pck vanillesucker',\n",
       " '1 pk. feta',\n",
       " '1 pr. zucker',\n",
       " '1 priese zucker',\n",
       " '1 prisezucker',\n",
       " '1 salz',\n",
       " '1 suppenwürfel',\n",
       " '1 tlgetrocknetem rosmarin',\n",
       " '1 wird',\n",
       " '1 zucker',\n",
       " '1- speisestärke',\n",
       " '1/ frischerosmarinnadeln',\n",
       " '1/2 backpulver',\n",
       " '1/2 milch',\n",
       " '1/2 tlkreuzkümmel',\n",
       " '1/2bio-orange',\n",
       " '1/2zitrone',\n",
       " '1/2zitronenschale',\n",
       " '1/4 teelöfelsambal olek',\n",
       " '1/4 tlgemahlene nelken',\n",
       " '1/4 zitronenschale',\n",
       " '1/4zitronenschale',\n",
       " '10 - 14scheiben',\n",
       " '125 gabtropfgewicht',\n",
       " '125 gerüstet',\n",
       " '1lorbeerblatt',\n",
       " '1tl backpulver',\n",
       " '1zitrone',\n",
       " '2 bl. salbei',\n",
       " '2 jahre alt',\n",
       " '2 kochendessalzwasser',\n",
       " '2 mal gesiebt',\n",
       " '2 orangen',\n",
       " '2 pimentkörner',\n",
       " '2 rosmarin',\n",
       " '2- milch',\n",
       " '2/3davon wird gebraucht',\n",
       " '200 bis',\n",
       " '26 - ø',\n",
       " '2anbieter im internet',\n",
       " '2tassen geflügelbrühe',\n",
       " '3 bis',\n",
       " '3 grün',\n",
       " '3 knoblauchfein',\n",
       " '3 z..b.köstritzer',\n",
       " '30 % rind',\n",
       " '40 mm ø',\n",
       " '45 % vol',\n",
       " '4grosse blatt salbei',\n",
       " '5 % vonactivia',\n",
       " '5 * gross',\n",
       " '5 prozent fett',\n",
       " '5 salz',\n",
       " '5 x gross',\n",
       " '500 grammdose abgiesen',\n",
       " '8-fach kräutermischung',\n",
       " '= quark',\n",
       " 'a (zumabfüllen',\n",
       " 'abgeriebenenzitrone',\n",
       " 'abgeriebenezitronensachel',\n",
       " 'aepfel -',\n",
       " 'african pepper....ersatzweise chili',\n",
       " 'african zulu dipp',\n",
       " 'agaricus',\n",
       " 'agavendicksaft',\n",
       " 'ahoi brause orange',\n",
       " 'ahornsirup',\n",
       " 'ajvar -paprikapüree',\n",
       " 'almkäse bergader',\n",
       " 'almond',\n",
       " 'alpro soja cuisine',\n",
       " 'alpro soya cuisine',\n",
       " 'also grapefruitfilets',\n",
       " 'altbackenebrötchen/ semmeln',\n",
       " 'altbiermarinade steaks',\n",
       " 'alternativcabanossi',\n",
       " 'altesemmeln',\n",
       " 'altmeister - essig',\n",
       " 'amarettini',\n",
       " 'amaretto',\n",
       " 'amaretto%x2c',\n",
       " 'ananas',\n",
       " 'ananasaft -',\n",
       " 'ananasaus',\n",
       " 'ananasdose',\n",
       " 'ananasminze',\n",
       " 'ananasringe',\n",
       " 'ananassaft',\n",
       " 'ananassaft-der',\n",
       " 'ananasscheiben',\n",
       " 'ananasstückchensowie apfelstückchen',\n",
       " 'ananaswürfel',\n",
       " 'anchovis',\n",
       " 'anchovis filet',\n",
       " 'anchovy',\n",
       " 'anderefrische kräuter',\n",
       " 'anderefrüchte pflaumen',\n",
       " 'anderentrockenen wein',\n",
       " 'anderenwürzig',\n",
       " 'anderepasta',\n",
       " 'andererhonig',\n",
       " 'andererroter saft',\n",
       " 'angesetzten schnaps',\n",
       " 'anis gewürz',\n",
       " 'annis knoblauchdip -',\n",
       " 'apfel',\n",
       " 'apfeldicksaft gibts',\n",
       " 'apfelessig',\n",
       " 'apfelkompott',\n",
       " 'apfelkompott mit',\n",
       " 'apfelmus',\n",
       " 'apfelmus %x ew',\n",
       " 'apfelsaft',\n",
       " 'aprikose',\n",
       " 'aromatische äpfel',\n",
       " 'aromatischetomaten',\n",
       " 'artischocken',\n",
       " 'artischockenviertel glasin kräuteröl',\n",
       " 'asia gemüse',\n",
       " 'asparagus',\n",
       " 'atlantic pepper seasoning',\n",
       " 'aubergine',\n",
       " 'auchroher schinken',\n",
       " 'ausgepresstenlimette',\n",
       " 'ausschokolade',\n",
       " 'austernpilze',\n",
       " 'avocado',\n",
       " 'babyananas',\n",
       " 'babymöhrchen',\n",
       " 'bacalao rückenstück ohnegräten',\n",
       " 'bacardi carta blanca',\n",
       " 'backfertige mohnfüllung',\n",
       " 'backfeste puddingcreme',\n",
       " 'backin',\n",
       " 'backkartoffeln mit sourcream',\n",
       " 'backmalz /nicht',\n",
       " 'backmischung',\n",
       " 'backmischung brownies',\n",
       " 'backoblatten r',\n",
       " 'backofen ..... grins',\n",
       " 'backofenpommes',\n",
       " 'backofenpommes mc',\n",
       " 'backpulver',\n",
       " 'backpulver - zusammensetzungunten',\n",
       " 'backpulver mit safran',\n",
       " 'backpulver plus 2teelöffel',\n",
       " 'backpulver voll',\n",
       " 'backzucker feinererkristallzucher',\n",
       " 'bacon',\n",
       " 'badita decoco',\n",
       " 'baguette',\n",
       " 'baguette / bruschetta',\n",
       " 'baharat - gewürzmischung',\n",
       " 'bahlsen - waffelröllchen',\n",
       " 'baileys irish cream',\n",
       " 'baiser - zerbröselt',\n",
       " 'balance philadelphia mitkräuter',\n",
       " 'balsamico',\n",
       " 'balsamico - balsam',\n",
       " 'balsamico - essig',\n",
       " 'balsamico bianco [weisserbalsamicoessig',\n",
       " 'balsamico bianco mediteranekräuter',\n",
       " 'balsamico essig weiss',\n",
       " 'balsamico mild weiss',\n",
       " 'balsamicocreme',\n",
       " 'balsamicocreme als deko',\n",
       " 'bambus',\n",
       " 'bambussprossen',\n",
       " 'bambussprossen - demglas',\n",
       " 'bambussprossenaus derm',\n",
       " 'banane',\n",
       " 'banane - püriert',\n",
       " 'banane geschniten',\n",
       " 'bananen',\n",
       " 'bananen [schön',\n",
       " 'bananen geschniten',\n",
       " 'band_pasta',\n",
       " 'bandnudeln demkühlregal',\n",
       " 'bandnudeln nachpackungsanleitung bissfestkochen',\n",
       " 'bandnudeln rohware',\n",
       " 'bandnudeln z.b pappardelle',\n",
       " 'barbarieentenbrust magretde canard',\n",
       " 'barcadi rum weiss',\n",
       " 'basil',\n",
       " 'baslikum',\n",
       " 'basmati duft reis',\n",
       " 'basmati reis',\n",
       " 'basmati-reis ...je nachappetit',\n",
       " 'batida de coco',\n",
       " 'batida di coco',\n",
       " 'bauch mit knochen',\n",
       " 'bauernbrot / körnerbrot',\n",
       " 'bauernbrot ohne rinde',\n",
       " 'bauernschinkenfür die füllung',\n",
       " 'bauerntopf mit hackfleisch',\n",
       " 'baumnüsse',\n",
       " 'bavette flanchet [franz]genannt',\n",
       " 'bayrischer senf',\n",
       " 'bd.frischer dill',\n",
       " 'bean',\n",
       " 'beef',\n",
       " 'beeren gemischt',\n",
       " 'beeren himbeeren',\n",
       " 'beerenmischung [z. b.gefroren',\n",
       " 'bei mir heutekümmel',\n",
       " 'beibedarf',\n",
       " 'beilage-zitronen-ingwer-ofenkartoffeln',\n",
       " 'beilagen - mischbrot',\n",
       " 'beinscheibe mit marksknochen',\n",
       " 'beinscheibe rind',\n",
       " 'beischwarzem pfeffer 1tl',\n",
       " 'bel paese rahmstufe',\n",
       " 'belgische schokolade herbesahne',\n",
       " 'bell_pepper',\n",
       " 'bereitsgekocht',\n",
       " 'bergheu zoohandlung',\n",
       " 'bergkäse',\n",
       " 'bergkäse -',\n",
       " 'bergkäse inwürfelchen',\n",
       " 'bergkäse mit pfeffer',\n",
       " 'berry',\n",
       " 'bertolli',\n",
       " 'besan = kichererbsenmehl',\n",
       " 'besser wäre aroma',\n",
       " 'bestehend ausmilch',\n",
       " 'bier',\n",
       " 'bier 33cl',\n",
       " 'bier export dunkel',\n",
       " 'bier export hell',\n",
       " 'bier pils hell',\n",
       " 'bio- pesto rosso',\n",
       " 'bio- tomaten püriert',\n",
       " 'bio-ei gr.',\n",
       " 'bio-möhrchen',\n",
       " 'bio-olivenöl vergine',\n",
       " 'bio-tomaten passiert/passatadi pomodoro',\n",
       " 'bio-zitronen - schaleabgerieben',\n",
       " 'bioeier grösse m',\n",
       " 'biokartoffeln mit',\n",
       " 'biolimette',\n",
       " 'biozitrone',\n",
       " 'biozitronenabrieb',\n",
       " 'birkel`s no. 1gabelspaghetti',\n",
       " 'birnen',\n",
       " 'birnen mit saft',\n",
       " 'birnen pochiert invanillesirup',\n",
       " 'birnen-spalten dessert',\n",
       " 'birnenhälften',\n",
       " 'birnenscheiben -',\n",
       " 'birnenstäublinge = boviste',\n",
       " 'biskin',\n",
       " 'biskin mit buttergeschmack',\n",
       " 'biskotten',\n",
       " 'biskuit',\n",
       " 'biskuit boden backen',\n",
       " 'biskuit tortenboden 3-teilig',\n",
       " 'biskuitboden',\n",
       " 'biskuitboden gebacken',\n",
       " 'bissi vonmeinem engemüse-brühpulver',\n",
       " 'bitte kartoffelnnehmen',\n",
       " 'bitter - schokoladekakaoanteil',\n",
       " 'bittere mandeln',\n",
       " 'bittermandel- u.weisses rumaroma',\n",
       " 'bittermandelaroma',\n",
       " 'bitterschokolade min.anteil',\n",
       " 'bitterschokolade mind. anteil',\n",
       " 'black beans sosse',\n",
       " 'black_pepper',\n",
       " 'blackberry',\n",
       " 'blanchiertaufgetaut eigenem',\n",
       " 'blattgrün radieschen',\n",
       " 'blattpetersilie',\n",
       " 'blattpetersilie gahackt',\n",
       " 'blattsalat',\n",
       " 'blattsalat -feldsalat',\n",
       " 'blattsalat teller',\n",
       " 'blattsalate aller art',\n",
       " 'blattsalate gemischt z.bradicchio',\n",
       " 'blattsalate saison',\n",
       " 'blattspinat -',\n",
       " 'blattspinat - pellets',\n",
       " 'blattspinat iglo',\n",
       " 'blattspinat mit gorgonzolatiefgefroren',\n",
       " 'blaubeeren / heidelbeeren',\n",
       " 'blaumohn',\n",
       " 'blauschimmelkäse ziege',\n",
       " 'blitz tortenguss rot',\n",
       " 'blitzguss ohne kochen',\n",
       " 'blockschokolade - weiss',\n",
       " 'blumenkohl',\n",
       " 'blutorange',\n",
       " 'blutwurst',\n",
       " 'blutwurst / geräuchert',\n",
       " 'blättchen vomkohlrabi',\n",
       " 'bockshornkleesamen - haldi',\n",
       " 'bohnen',\n",
       " 'bohnen gelb',\n",
       " 'bohnen grün',\n",
       " 'bohnen rot',\n",
       " 'bohnen weiss',\n",
       " 'bohnenkerne',\n",
       " 'bohnenkraut',\n",
       " 'bohnenkraut o. getr.bohnenkraut',\n",
       " 'bohnenrezept %x22blutwurstgeröstel %x',\n",
       " 'boletus',\n",
       " 'bonbel grand maitre',\n",
       " 'bonifaz mit chili',\n",
       " 'born senf',\n",
       " 'bosbessenlköer - schwarzejohannisbeere',\n",
       " 'boskopp-äpfel',\n",
       " 'bouillon - pulver',\n",
       " 'bouillon pur gemüse',\n",
       " 'brandy',\n",
       " 'brandy de jerez',\n",
       " 'bratbutter',\n",
       " 'braten denhähnchenbrüsten',\n",
       " 'braten kamm',\n",
       " 'bratenaufschnitt',\n",
       " 'bratenreste sonntag',\n",
       " 'bratensauce',\n",
       " 'bratensosse',\n",
       " 'bratensosse /',\n",
       " 'bratensosse dunkel',\n",
       " 'bratfähiges olivenöl nativ',\n",
       " 'bratkartoffeln',\n",
       " 'bratkartoffelnvon aldi',\n",
       " 'bratwurst',\n",
       " 'bratwurst [ohne darm',\n",
       " 'bratwurst geraeuchert -',\n",
       " 'bratwurst ohne darm',\n",
       " 'bratwurst thüringer art',\n",
       " 'braune champions',\n",
       " 'braune linsen',\n",
       " 'braunen zucker',\n",
       " 'brauner reis',\n",
       " 'brauner roh rohrzucker',\n",
       " 'brauner rohrzucker',\n",
       " 'brauner sossenbinder nachbedarf',\n",
       " 'brauner zucker',\n",
       " 'brauner zucker zumabschmecken',\n",
       " 'brauner zucker zumkaramelisieren',\n",
       " 'braunes senfmehl',\n",
       " 'brauneschokoladenreste als guss',\n",
       " 'braunzucker / rohzucker',\n",
       " 'bread',\n",
       " 'bread_crumbs',\n",
       " 'brechbohnen',\n",
       " 'brennnessel',\n",
       " \"brez'n verwenden\",\n",
       " 'brezeln',\n",
       " 'broccoli',\n",
       " 'broccoli -',\n",
       " 'broccoli köpfe',\n",
       " 'brokkoli',\n",
       " 'brokkoli -',\n",
       " 'brokkolistrunck u.gewürfelt',\n",
       " 'brombeere konfitüre',\n",
       " 'brot',\n",
       " 'brot - kräftigesroggenmischbrot',\n",
       " 'brot altbacken escheiben',\n",
       " 'brotaufstrich mit kräutern',\n",
       " 'brotgewürz',\n",
       " 'broth',\n",
       " 'brotkrumben nehmemainsbrort krumbs',\n",
       " 'brotteig - roggenbrotmischung',\n",
       " 'brotteigmischung mit hefe',\n",
       " 'bruchettina im',\n",
       " 'brunch 1x mit',\n",
       " 'brunch brotaufstrich paprikapeperoni',\n",
       " 'brunch frischkäse paprikapeperoni',\n",
       " 'brunch legere kräuter',\n",
       " 'brunch mit kräuter',\n",
       " 'brunch mit kräutern',\n",
       " 'brunch paprika chilli',\n",
       " 'brunch paprika peperoni',\n",
       " 'brunch paprika pepperoni',\n",
       " 'brunch peperoni paprika',\n",
       " 'brunch „sweet thai-chili%x',\n",
       " 'brunello di montalcino',\n",
       " 'brunnenkresse',\n",
       " 'brust grillhähnchen',\n",
       " 'bräter mitdeckel',\n",
       " 'brösel',\n",
       " 'brösel butterkeksen',\n",
       " 'brösel f. diepanade',\n",
       " 'brösel z. panieren',\n",
       " 'bröseln',\n",
       " 'brötche',\n",
       " 'brühe',\n",
       " 'brühe blumenkohl',\n",
       " 'brühe gekörnt/ pulver',\n",
       " 'brühe hähnchenfilet',\n",
       " 'brühe mit mediteranebrühe',\n",
       " 'brühe pulver',\n",
       " 'brühe vegeta',\n",
       " 'brühe vombohnenkochen',\n",
       " 'brühe zumuntergiessen',\n",
       " 'brühpulver [die salzenthalten',\n",
       " 'brühwürstchen',\n",
       " 'buchweizen grütze imkochbeutel',\n",
       " 'buchweizen korn',\n",
       " 'buitoni integrale nudeln',\n",
       " 'buko frischkäse kräuter',\n",
       " 'buko-käse mit bärlauch',\n",
       " 'bulgur = weizenschrot',\n",
       " 'bunte mini-smarties',\n",
       " 'bunte nudeln aushartweizengries',\n",
       " 'bunte perlen u.w.s',\n",
       " 'bunter frühlingsalat',\n",
       " 'bunter pfeffer',\n",
       " 'bunterpfeffer',\n",
       " 'buntes',\n",
       " 'buntes gemüse [tiefkühlgemüse',\n",
       " 'burgerbrötchen mit sesam',\n",
       " 'burrer',\n",
       " 'buschbohnen grün',\n",
       " 'butaris',\n",
       " 'butter',\n",
       " 'butter -',\n",
       " 'butter ---',\n",
       " 'butter /',\n",
       " 'butter [sehr',\n",
       " 'butter halbfett -milchhalbfett',\n",
       " 'butter mild',\n",
       " 'butter minus',\n",
       " 'butter mit kräutern',\n",
       " 'butter n',\n",
       " 'butter o. schmalz',\n",
       " 'butter od. öl',\n",
       " 'butter salz',\n",
       " 'butter wanille aroma',\n",
       " 'butter zu',\n",
       " 'butter,garlic',\n",
       " 'butter-vanille aroma beinaturdrink',\n",
       " 'buttercup bonbon kürbis',\n",
       " 'butterfett',\n",
       " 'butterflocken',\n",
       " 'butterflöckchen',\n",
       " 'butterfür die form',\n",
       " 'butterkekse mit kakao',\n",
       " 'butterkekse mit schokolade',\n",
       " 'buttertoast',\n",
       " 'bärlauch',\n",
       " 'bärlauchpesto',\n",
       " 'büchse champis',\n",
       " 'büchse grüne bohnen',\n",
       " 'büchsenmilch',\n",
       " 'cafe de paris',\n",
       " 'café de paris',\n",
       " 'cajungewürz ingo holland',\n",
       " 'cake pop',\n",
       " 'cake pops',\n",
       " 'calamansi balsam essig',\n",
       " 'calamari',\n",
       " 'cappucchino wiener melange',\n",
       " 'cappuccino aldi',\n",
       " 'caramelsirup',\n",
       " 'carnaroli risotto reis',\n",
       " 'carrot',\n",
       " 'carrot,pea',\n",
       " 'cashew nüsse',\n",
       " 'cashewnüsse',\n",
       " 'cayennepulver',\n",
       " 'celery',\n",
       " 'cemesuppe',\n",
       " 'challoumi',\n",
       " 'champignon-scheibchen -',\n",
       " 'champignonkäse adler',\n",
       " 'champignonsuppenpulver ausder tüte',\n",
       " 'champions',\n",
       " 'champions braun',\n",
       " 'chanterelle',\n",
       " 'chavroux = ziegenfrischkäse',\n",
       " 'cheddar',\n",
       " 'cheddar käse',\n",
       " 'cheese',\n",
       " 'chen chili',\n",
       " 'chen zitronenschale -ungespritzt',\n",
       " 'cherry',\n",
       " 'cherry dattel tomaten',\n",
       " 'cherry tomaten mix',\n",
       " 'cherry-tomaten',\n",
       " 'cherrytomaten',\n",
       " 'cherrytomaten mit rispe',\n",
       " 'chervil',\n",
       " 'chevapchici dembeutel',\n",
       " 'chicken',\n",
       " 'chicoreestauden nachgrösse',\n",
       " 'chicory',\n",
       " 'chicorée',\n",
       " 'chiischote',\n",
       " 'chili',\n",
       " 'chili grün',\n",
       " 'chili kresse',\n",
       " 'chili rot',\n",
       " 'chili schoten',\n",
       " 'chili streuer',\n",
       " 'chili süsssauer sosse',\n",
       " 'chili-gewürz-öl s.',\n",
       " 'chili-sauce süss sauer',\n",
       " 'chili-öl',\n",
       " 'chili_cream_cheese',\n",
       " 'chili_garlic_sauce',\n",
       " 'chilibohnen edeka',\n",
       " 'chilibutter',\n",
       " 'chilibutter gemacht',\n",
       " 'chilies',\n",
       " 'chilifäden zumverzieren',\n",
       " 'chilipulveraus',\n",
       " 'chilisauce',\n",
       " 'chilisosse',\n",
       " 'chiliöl',\n",
       " 'chiliöl mit majoran',\n",
       " 'chiliöl mit oregano',\n",
       " 'chiliöl mit rosmarin',\n",
       " 'chiliöl vergine',\n",
       " 'chilli',\n",
       " 'chilli bohnen',\n",
       " 'chilli fuego',\n",
       " 'chilli getocknet',\n",
       " 'chilli pul piber',\n",
       " 'chilli rot',\n",
       " 'chilli schote',\n",
       " 'chilli süss-sauer sosse',\n",
       " 'chillie',\n",
       " 'chillis',\n",
       " 'chillisauce',\n",
       " 'chillisosse mittomaten',\n",
       " 'chin. chilisosse',\n",
       " 'chin. pilze',\n",
       " 'china-würzmischung fürasiatische',\n",
       " 'chinakohl',\n",
       " 'chinakohlblätter',\n",
       " 'chinawürzer fuchs',\n",
       " 'chinesische nudel gekocht',\n",
       " 'chinesische pilze',\n",
       " 'chinesischewokgemüsemischung -',\n",
       " 'chirizo / paprika',\n",
       " 'chives',\n",
       " 'chocolate',\n",
       " 'chocolate chip cookies',\n",
       " 'chocolate_cream_cheese',\n",
       " 'chocolate_paradies_creme',\n",
       " 'chocos k',\n",
       " 'chorizo',\n",
       " 'chorizo - wurst',\n",
       " 'ciabatta',\n",
       " 'cidre = apfelwein',\n",
       " 'cigköftelik bulgur',\n",
       " 'cinnamon',\n",
       " 'citro - back',\n",
       " 'citro-back',\n",
       " 'cnocchi',\n",
       " 'cocktai-strauchtomaten',\n",
       " 'cocktail tomaten',\n",
       " 'cocktail tomaten gelb',\n",
       " 'cocktail tomaten halbieren',\n",
       " 'cocktail tomaten rot',\n",
       " 'cocktailbeeren',\n",
       " 'cocktailtomaten',\n",
       " 'cocktailwürstchen demglas',\n",
       " 'coconut_flour',\n",
       " 'coconut_milk',\n",
       " 'coconut_paradies_creme',\n",
       " 'cocos creme brotaufstrich',\n",
       " 'cod',\n",
       " 'cognac',\n",
       " 'cognac / brantwein',\n",
       " 'cognac zu flambieren',\n",
       " 'cointreau -',\n",
       " 'cola-schlange haribo',\n",
       " 'cookie_cream_cheese',\n",
       " 'cookies mit schokostückchen',\n",
       " 'coppa ersatzweiseluftgetr. schinken',\n",
       " 'coriander',\n",
       " 'corn',\n",
       " 'cornflakes',\n",
       " 'cornflakes mit zucker/honiggeröstet',\n",
       " 'cornichons',\n",
       " 'cranberries',\n",
       " 'cranberries -',\n",
       " 'cranberry dipp gewürz',\n",
       " 'cream',\n",
       " 'cream - sherry',\n",
       " 'cream of coconut',\n",
       " 'cream_cheese',\n",
       " 'crema di balsamico',\n",
       " 'crema di balsimico',\n",
       " 'crema di cucina',\n",
       " 'crema die balsamico',\n",
       " 'creme de cassis',\n",
       " 'creme de lite',\n",
       " 'creme di balsamico',\n",
       " 'creme double%x2c alternativschmand',\n",
       " 'creme finesse -',\n",
       " 'creme fraìchclassik',\n",
       " 'cremefine',\n",
       " 'cremepulver',\n",
       " 'cremiger brotaufstrich mitkräutern',\n",
       " 'crevetten mit',\n",
       " 'croissants knack',\n",
       " 'crottin de chavignoldemi-sec',\n",
       " 'croutons vollkornbrot',\n",
       " 'crème légère mitkräutern',\n",
       " 'créme de cacao',\n",
       " 'cucuma - gelbwurzpulver',\n",
       " 'cumin - kreuzkümmel',\n",
       " 'cumin / kreuzkümmel',\n",
       " 'cumin kreuzkümmel',\n",
       " 'curacao blue',\n",
       " 'curacao saft blau',\n",
       " 'curcuma',\n",
       " 'curry',\n",
       " 'curry - ketchup',\n",
       " 'curry / kurkuma',\n",
       " 'curry maharadja mild',\n",
       " 'curry red hot',\n",
       " 'curry/je',\n",
       " 'curry[ca. 1/4',\n",
       " 'currygewürz',\n",
       " 'curryketchup',\n",
       " 'curryketchup mit chili',\n",
       " 'currypaste gelb vomasia-laden',\n",
       " 'currypaste rot madras',\n",
       " 'currypulver',\n",
       " 'currysosse',\n",
       " 'cyrry',\n",
       " 'danish smoked salt',\n",
       " 'datteln',\n",
       " 'datteln sot',\n",
       " 'debut kürbis',\n",
       " 'deer',\n",
       " 'deftigebrühwurst',\n",
       " 'delikates –gewürzgurken',\n",
       " 'delikatess würzmischungfür gemüse',\n",
       " 'delikatessgurken nachgrösse',\n",
       " 'den safteiner orange',\n",
       " 'denschwarzwurzeln',\n",
       " 'dessert-sosse vanille zumkochen',\n",
       " 'dessertcreme erdbeere vonruf',\n",
       " 'dessertsosse vanille ohnekochen',\n",
       " 'dessertsossenpulver vanille[ohne kochen',\n",
       " 'dessertwein marsale',\n",
       " 'diamant eiszauber fürfrüchte',\n",
       " 'dickmanns coco cabana',\n",
       " 'dickmanns mit karamel',\n",
       " 'die ingwerpaste',\n",
       " 'dieletzte',\n",
       " 'dijon senf',\n",
       " 'dijon senf gekörnt',\n",
       " 'dijon senf körnig',\n",
       " 'dijon-senf mit honig',\n",
       " 'dill',\n",
       " 'dill 3-4',\n",
       " 'dill o.gefriergetrocknet',\n",
       " 'dill petersilie estragon',\n",
       " 'dill,parsley',\n",
       " 'dille',\n",
       " 'dillsosse s. m.kochbuch',\n",
       " 'dillspitzen',\n",
       " 'dillzweige',\n",
       " 'dinkel mehl typ',\n",
       " 'dinkel- nudeln gekocht',\n",
       " 'dinkelbrot meinen',\n",
       " 'dinkelmehl -viel magnesium',\n",
       " 'dipsaucen',\n",
       " 'diättauglich creme legere',\n",
       " 'djah oftadeh [wahlweisebaharat',\n",
       " 'dolomitenkönig - ital.schnittkäse',\n",
       " 'doppelrahm - frischkäse',\n",
       " 'dorschfiliet',\n",
       " 'dosegeschälte toamten',\n",
       " 'dosenpfirisiche',\n",
       " 'dreierlei schokoladen chips',\n",
       " 'dressing',\n",
       " 'drillinge = kleinekartoffeln',\n",
       " 'drillinge gepellt gebräunt',\n",
       " 'drillinge mit',\n",
       " 'duck',\n",
       " 'dunkelzum verschliessen derpralinen',\n",
       " 'dunklen saucenbinder',\n",
       " 'dunklen sirup /zuckerruebensirup',\n",
       " 'dunkler sossenbinder zumbinden',\n",
       " 'dunkles bier',\n",
       " 'dörrbirnen - klezten',\n",
       " 'dörrfleisch',\n",
       " 'dörrpflaumen',\n",
       " 'dünngeschnitten od. besserzerrissen',\n",
       " 'dürrfleisch',\n",
       " 'düsseldorfer löwensenfextra scharf',\n",
       " 'edamer_cheese',\n",
       " 'edelbitter - schokolade',\n",
       " 'edelkastanien',\n",
       " 'edelpilz - sauce',\n",
       " 'edelpilz-sauce vonknorr',\n",
       " 'edelsüssenpaprika',\n",
       " 'edelsüsses u rosenscharfespaprikapulver',\n",
       " 'egg',\n",
       " 'ei',\n",
       " 'eieer grösse m',\n",
       " 'eiernudeln - schnitt',\n",
       " 'eierpastateig',\n",
       " 'eierstich',\n",
       " 'eierteigwaren makkaroni kurz',\n",
       " 'eiertomate',\n",
       " 'einerbio-orange',\n",
       " 'einerbiozitrone',\n",
       " 'einerlimette',\n",
       " 'einerorange',\n",
       " 'einerzitrone',\n",
       " 'einfacherzucker',\n",
       " 'einigemandelblättchen',\n",
       " 'einigeumdrehungen',\n",
       " 'eis',\n",
       " 'eisbein haxe) gepökelt',\n",
       " 'eisbergsalat 2blätter',\n",
       " 'eisbergsalat hälfte',\n",
       " 'eiscreme',\n",
       " 'eiscreme als beilage',\n",
       " 'eiskaffeepulver vonnescafe',\n",
       " 'eiswasser bindung',\n",
       " 'eiswürfel',\n",
       " 'eiszauber',\n",
       " 'emmental_cheese',\n",
       " 'emmi pfännli-chäs barbecue',\n",
       " 'empfehlenswert- kl. pinzette',\n",
       " 'enmajonaise [siehemein rezeptbuch',\n",
       " 'ente',\n",
       " 'entenkeulen -entenconfit',\n",
       " 'entrecote a -',\n",
       " 'entsprichteinem hefewürfel',\n",
       " 'entweder demglas -sommertrüffel',\n",
       " 'erbsen',\n",
       " 'erbsen -',\n",
       " 'erbsen -tk-ware',\n",
       " 'erbsen ca',\n",
       " 'erbsen gelb',\n",
       " 'erbsen grün',\n",
       " 'erbsen mit möhren',\n",
       " 'erbsen u. möhren',\n",
       " 'erbsen u. paprika',\n",
       " 'erbsen ware',\n",
       " 'erdbeere',\n",
       " 'erdbeere marokko',\n",
       " 'erdbeeren',\n",
       " 'erdbeeren ca.8',\n",
       " 'erdnussbutter mit',\n",
       " 'erdnusscreme - rest',\n",
       " 'erdnussmus',\n",
       " 'erdnussöl',\n",
       " 'erdnussöl o. ähnl',\n",
       " 'erdnüsse',\n",
       " 'erdäpfelsuppe',\n",
       " 'ergibt braune butter',\n",
       " 'erstazweise kleinegemüsezwiebel',\n",
       " 'espresso',\n",
       " 'espresso kaffee gekocht',\n",
       " 'espresso-pulver - tassenmass',\n",
       " 'espressobohnen',\n",
       " 'essbarer kleber',\n",
       " 'essig',\n",
       " 'essig benutze melfor',\n",
       " 'essig bzw. obstessig',\n",
       " 'essig melfor',\n",
       " 'essig nachgeschmack.wir liebenaltmeisteressig',\n",
       " 'essig od. zitronensaft',\n",
       " 'essigessens / zitronenessens',\n",
       " 'essigessenz --- verdünte',\n",
       " 'essigessenz 25% ebenso',\n",
       " 'essiggurken',\n",
       " 'essigwasser gurken',\n",
       " 'essl. reis',\n",
       " 'estragon',\n",
       " 'etwasbaguettebrot',\n",
       " 'etwaschilli',\n",
       " 'etwasfrische sahne ca.4esslöffel',\n",
       " 'etwasmehl',\n",
       " 'etwassossenbinder',\n",
       " 'etwaswasser',\n",
       " 'evt.etwas brauner zucker',\n",
       " 'evtl.1 milch',\n",
       " 'evtl.paprika',\n",
       " 'evtlbrühepulver',\n",
       " 'excellent worcestersaucedresdner art',\n",
       " 'exotic-sosse heinz',\n",
       " 'exotischemarmelade',\n",
       " 'exquisa quarkcreme kirsch',\n",
       " 'extra- salsa-sosse',\n",
       " 'extrawurst bzw. salatwurst',\n",
       " 'fach kräutermischung',\n",
       " 'falschesfilet / derkeule',\n",
       " 'farbpasten staedtler',\n",
       " 'farfalle - nudeln',\n",
       " 'farfalle_pasta',\n",
       " 'faschierten -hackfleisch',\n",
       " 'faschiertes - gemischt',\n",
       " 'faschiertes - hackfleisch',\n",
       " 'faschiertes rind',\n",
       " 'feigen',\n",
       " 'feigen grùne',\n",
       " 'feigenbalsamico',\n",
       " 'feingehacken hokkaidokürbis',\n",
       " 'feingehackter rosmarin',\n",
       " 'feinherbe schokolade mitchilli',\n",
       " 'feinmahlen [max. 10%bittermandeln',\n",
       " 'feinschmecker saucehollandaise %x22klassik%x22',\n",
       " 'feinste mittelfilet',\n",
       " 'feldsalat',\n",
       " 'feldsalat - vogerlsalat',\n",
       " 'feldsalat eigenemanbau',\n",
       " 'feldsalat eigenemgarten',\n",
       " 'fenchel',\n",
       " 'fenchelgrün',\n",
       " 'fenchelknolle kleingeputzt',\n",
       " 'fenchelknollen mit grün',\n",
       " 'fertigteig',\n",
       " 'fest kochende kartoffeln',\n",
       " 'feta',\n",
       " 'feta - käse',\n",
       " 'feta - weichkäse',\n",
       " 'feta / schafskäse',\n",
       " 'feta käse',\n",
       " 'feta mit kräutern',\n",
       " 'fetakäse',\n",
       " 'fett',\n",
       " 'fette butter öle',\n",
       " 'fettr. käse frischgeraspelt',\n",
       " 'fettreduzierte sahne zumkochen',\n",
       " 'fettucine bissfest gekocht',\n",
       " 'feuerfeste förmchen',\n",
       " 'filetsteak vompferd',\n",
       " 'filo teig',\n",
       " 'filoblätterv. tante fanny',\n",
       " 'filtertüte mit majoran',\n",
       " 'finess aroma orange',\n",
       " 'finesseamaretto-bittermandel-aromavon',\n",
       " 'finesseweihnachtsaroma',\n",
       " 'fisch pfeffer',\n",
       " 'fischer meinesvertrauenes',\n",
       " 'fischfilet',\n",
       " 'fischfond',\n",
       " 'fischfond gut',\n",
       " 'fischfumet *s. punkt',\n",
       " 'fischgewürz',\n",
       " 'fischköpfe wangen vorherrausnehmen',\n",
       " 'fischsauce - asialaden',\n",
       " 'fischsauce asialaden',\n",
       " 'fischsauce nouc mam',\n",
       " 'fischwürzer',\n",
       " 'fischzuschnitt',\n",
       " 'fish',\n",
       " 'fix fürnudel-schinken-gratin',\n",
       " 'fix gartenkräuter',\n",
       " 'flache grüne bohnen',\n",
       " 'fladenbrot als beilage',\n",
       " 'fladenbrot dünn',\n",
       " 'flaschelebensmittelfarbe rot',\n",
       " 'flaschentomate',\n",
       " 'flecke bzw kutteln',\n",
       " 'fleckerl = österreichischenudelsorte',\n",
       " 'fleisch',\n",
       " 'fleisch gegrilltenspanferkel',\n",
       " 'fleisch hokkaidokürbis',\n",
       " 'fleisch suppenhuhngegart',\n",
       " 'fleischrest fondue',\n",
       " 'fleischsalat',\n",
       " 'fleischsalat metzger',\n",
       " 'fleischsuppe vonm...i',\n",
       " 'fleischtomate',\n",
       " 'flomenschmalz / eigeneherstellung',\n",
       " 'flor de atlântico',\n",
       " 'flor de sal',\n",
       " 'flusskrebse gekocht',\n",
       " 'flusskrebse vakuum verp.gegart',\n",
       " 'fläschchen rum aroma',\n",
       " 'flüssigensüssstoff',\n",
       " 'flüssigkeit-z.b.blumenkohlwasser',\n",
       " 'flüssigwürze - maggi',\n",
       " 'foccacia warreichlich',\n",
       " 'fol epi hauchfein',\n",
       " 'fond',\n",
       " 'fond rind',\n",
       " 'fondantfoto bearbeitet',\n",
       " 'fondor',\n",
       " 'fondue_cheese',\n",
       " 'fontina - käse',\n",
       " 'forellen gross',\n",
       " 'forellenfilet geräuchertohne gräten',\n",
       " 'forellenfilet mildgeräuchert demscharzwald',\n",
       " 'forellenfilets geräuchert',\n",
       " 'forellenfiletsmit haut',\n",
       " 'forstmeisters marinade s.m.kochbuch',\n",
       " 'frankfurter grüne sossekräutermischung',\n",
       " 'frankfurter würstchen /schinkenwürste',\n",
       " 'franz.kartöffelchen mitschale gekocht',\n",
       " 'frikadellen',\n",
       " 'frisch- hier- petersilie',\n",
       " 'frischaus',\n",
       " 'frischechilli hinzugefügt werden',\n",
       " 'frischekräuter',\n",
       " 'frischemwaldmeister',\n",
       " 'frischenbiozitrone',\n",
       " 'frischerestragon',\n",
       " 'frischermajoran',\n",
       " 'frischerpfeffer',\n",
       " 'frischhaltefolie',\n",
       " 'frischhefe',\n",
       " 'frischkäse brunch',\n",
       " 'frischkäse o. ä',\n",
       " 'frischkäse ohne kräuter',\n",
       " 'frischteig',\n",
       " 'frucht buttermilch',\n",
       " 'fruchtaufstrich - erdbeere',\n",
       " 'fruchtfleisch tomate',\n",
       " 'fruchtjoghurt mit beeren',\n",
       " 'fruchtpektinpulver per 1',\n",
       " 'fruchtsaft',\n",
       " 'fruit',\n",
       " 'fruko-pudding komet',\n",
       " 'frz. blauschimmelkäse%x22saint agur%x',\n",
       " 'früchte',\n",
       " 'früchte saison',\n",
       " 'früchte zb. erdbeeren',\n",
       " 'früh]kartoffeln mit',\n",
       " 'frühkartoffeln alspellkartoffeln',\n",
       " 'frühlingslauch inbutter geschwenkt',\n",
       " 'frühlinszwiebeln / nurgrün',\n",
       " 'frühlinszwiebeln inscheiben',\n",
       " 'fungus',\n",
       " 'fusili bucati lunghi',\n",
       " 'fussili / spirelli',\n",
       " 'fähnchen',\n",
       " 'fünf gewürze mischung',\n",
       " 'g. vonf',\n",
       " 'gadidae',\n",
       " 'gambas mit',\n",
       " 'gambas mittl. grösse',\n",
       " 'garam marsala',\n",
       " 'garam masala pulver',\n",
       " 'garlic',\n",
       " 'garlic,pepper',\n",
       " 'garlic,rosemary,öl',\n",
       " 'garlic,salmon',\n",
       " 'gartenkresse',\n",
       " 'gartenkräuter',\n",
       " 'gartenkräuter de provence',\n",
       " 'gartenpetersilie',\n",
       " 'gauda',\n",
       " 'gauda geht',\n",
       " 'gauda mittelalt',\n",
       " 'gaudakäse',\n",
       " 'gebrühten kalten kaffee',\n",
       " 'gedünstetes gemüse',\n",
       " 'gedünsteteswürfeliggeschnittenesgemüse - erbsen',\n",
       " ...]"
      ]
     },
     "execution_count": 161,
     "metadata": {},
     "output_type": "execute_result"
    }
   ],
   "source": [
    "three_ingrs"
   ]
  },
  {
   "cell_type": "code",
   "execution_count": 163,
   "metadata": {},
   "outputs": [],
   "source": [
    "whole_delete=['-','- dolden','- eventuellgulasch','- farbtupfer','- fischstäbchen','- halb', '- zahlen',\n",
    "'-fein','-schale','-separat','. diesewerden','..pasta','0','1','1 wird','200 bis', '26 - ø', '3 bis',\n",
    "'3 grün', '30 % rind','40 mm ø','45 % vol','5 x gross','5 prozent fett','5 % vonactivia','5 * gross',\n",
    "'= quark','a (zumabfüllen']"
   ]
  },
  {
   "cell_type": "code",
   "execution_count": 164,
   "metadata": {},
   "outputs": [
    {
     "data": {
      "text/plain": [
       "(17268, 5)"
      ]
     },
     "execution_count": 164,
     "metadata": {},
     "output_type": "execute_result"
    }
   ],
   "source": [
    "three_ingr=three_ingr[~three_ingr['parse_ingr'].isin(whole_delete)]\n",
    "three_ingr.reset_index(drop=True,inplace=True)\n",
    "three_ingr.shape"
   ]
  },
  {
   "cell_type": "code",
   "execution_count": 169,
   "metadata": {},
   "outputs": [
    {
     "data": {
      "text/plain": [
       "(1705, 5)"
      ]
     },
     "execution_count": 169,
     "metadata": {},
     "output_type": "execute_result"
    }
   ],
   "source": [
    "three_ingr_done_002=three_ingr[three_ingr['parse_ingr'].str.contains('_')]\n",
    "three_ingr_done_002.shape"
   ]
  },
  {
   "cell_type": "code",
   "execution_count": 170,
   "metadata": {},
   "outputs": [
    {
     "data": {
      "text/plain": [
       "(85, 5)"
      ]
     },
     "execution_count": 170,
     "metadata": {},
     "output_type": "execute_result"
    }
   ],
   "source": [
    "three_ingr_done_003=three_ingr[three_ingr['parse_ingr'].str.contains(',')]\n",
    "three_ingr_done_003.shape"
   ]
  },
  {
   "cell_type": "code",
   "execution_count": 171,
   "metadata": {
    "collapsed": true
   },
   "outputs": [
    {
     "data": {
      "text/html": [
       "<div>\n",
       "<style scoped>\n",
       "    .dataframe tbody tr th:only-of-type {\n",
       "        vertical-align: middle;\n",
       "    }\n",
       "\n",
       "    .dataframe tbody tr th {\n",
       "        vertical-align: top;\n",
       "    }\n",
       "\n",
       "    .dataframe thead th {\n",
       "        text-align: right;\n",
       "    }\n",
       "</style>\n",
       "<table border=\"1\" class=\"dataframe\">\n",
       "  <thead>\n",
       "    <tr style=\"text-align: right;\">\n",
       "      <th></th>\n",
       "      <th>recipe_id</th>\n",
       "      <th>recipe_href</th>\n",
       "      <th>name</th>\n",
       "      <th>ingredient_name</th>\n",
       "      <th>parse_ingr</th>\n",
       "    </tr>\n",
       "  </thead>\n",
       "  <tbody>\n",
       "    <tr>\n",
       "      <th>97</th>\n",
       "      <td>41280</td>\n",
       "      <td>/rezept/363792/Gefuellter-Spiessbraten-im-Roem...</td>\n",
       "      <td>salz pfeffer majoran</td>\n",
       "      <td>salz pfeffer majoran</td>\n",
       "      <td>salt,pepper,marjoram</td>\n",
       "    </tr>\n",
       "    <tr>\n",
       "      <th>123</th>\n",
       "      <td>106049</td>\n",
       "      <td>/rezept/481809/Wuerstchengulasch.html</td>\n",
       "      <td>salz pfeffer paprika</td>\n",
       "      <td>salz pfeffer paprika</td>\n",
       "      <td>salt,pepper,paprika</td>\n",
       "    </tr>\n",
       "    <tr>\n",
       "      <th>203</th>\n",
       "      <td>1782</td>\n",
       "      <td>/rezept/333004/Kotelett-Salzkartoffeln-und-fri...</td>\n",
       "      <td>salz u pfeffer</td>\n",
       "      <td>salz u pfeffer</td>\n",
       "      <td>salt,pepper</td>\n",
       "    </tr>\n",
       "    <tr>\n",
       "      <th>441</th>\n",
       "      <td>75364</td>\n",
       "      <td>/rezept/445117/Misch-Masch-Gemuese.html</td>\n",
       "      <td>karotten mit erbsen</td>\n",
       "      <td>karotten mit erbsen</td>\n",
       "      <td>carrot,pea</td>\n",
       "    </tr>\n",
       "    <tr>\n",
       "      <th>552</th>\n",
       "      <td>30950</td>\n",
       "      <td>/rezept/471041/Gemuesewaffeln.html</td>\n",
       "      <td>salz/ pfeffer/ paprika</td>\n",
       "      <td>salz/ pfeffer/ paprika</td>\n",
       "      <td>salt,pepper,paprika</td>\n",
       "    </tr>\n",
       "    <tr>\n",
       "      <th>...</th>\n",
       "      <td>...</td>\n",
       "      <td>...</td>\n",
       "      <td>...</td>\n",
       "      <td>...</td>\n",
       "      <td>...</td>\n",
       "    </tr>\n",
       "    <tr>\n",
       "      <th>15244</th>\n",
       "      <td>15968</td>\n",
       "      <td>/rezept/71094/Porree-Quiche-mit-Fleischwurst.html</td>\n",
       "      <td>salz pfeffer muskat</td>\n",
       "      <td>salz pfeffer muskat</td>\n",
       "      <td>salt,pepper,nutmeg</td>\n",
       "    </tr>\n",
       "    <tr>\n",
       "      <th>15306</th>\n",
       "      <td>15954</td>\n",
       "      <td>/rezept/63335/Panierte-Bratwuerste.html</td>\n",
       "      <td>salz pfeffer muskat</td>\n",
       "      <td>salz pfeffer muskat</td>\n",
       "      <td>salt,pepper,nutmeg</td>\n",
       "    </tr>\n",
       "    <tr>\n",
       "      <th>15697</th>\n",
       "      <td>33821</td>\n",
       "      <td>/rezept/248058/Kyfhhaeuser-Kaesetorte.html</td>\n",
       "      <td>salz pfeffer muskat</td>\n",
       "      <td>salz pfeffer muskat</td>\n",
       "      <td>salt,pepper,nutmeg</td>\n",
       "    </tr>\n",
       "    <tr>\n",
       "      <th>16592</th>\n",
       "      <td>103261</td>\n",
       "      <td>/rezept/229266/Spagetti-mit-Gemuesesauce.html</td>\n",
       "      <td>salz pfeffer chili</td>\n",
       "      <td>salz pfeffer chili</td>\n",
       "      <td>salt,pepper,chili</td>\n",
       "    </tr>\n",
       "    <tr>\n",
       "      <th>16812</th>\n",
       "      <td>32817</td>\n",
       "      <td>/rezept/349283/Gemuesecremsuppe-mit-Basilikumn...</td>\n",
       "      <td>salz &amp; pfeffer</td>\n",
       "      <td>salz &amp; pfeffer</td>\n",
       "      <td>salt,pepper</td>\n",
       "    </tr>\n",
       "  </tbody>\n",
       "</table>\n",
       "<p>85 rows × 5 columns</p>\n",
       "</div>"
      ],
      "text/plain": [
       "       recipe_id                                        recipe_href  \\\n",
       "97         41280  /rezept/363792/Gefuellter-Spiessbraten-im-Roem...   \n",
       "123       106049              /rezept/481809/Wuerstchengulasch.html   \n",
       "203         1782  /rezept/333004/Kotelett-Salzkartoffeln-und-fri...   \n",
       "441        75364            /rezept/445117/Misch-Masch-Gemuese.html   \n",
       "552        30950                 /rezept/471041/Gemuesewaffeln.html   \n",
       "...          ...                                                ...   \n",
       "15244      15968  /rezept/71094/Porree-Quiche-mit-Fleischwurst.html   \n",
       "15306      15954            /rezept/63335/Panierte-Bratwuerste.html   \n",
       "15697      33821         /rezept/248058/Kyfhhaeuser-Kaesetorte.html   \n",
       "16592     103261      /rezept/229266/Spagetti-mit-Gemuesesauce.html   \n",
       "16812      32817  /rezept/349283/Gemuesecremsuppe-mit-Basilikumn...   \n",
       "\n",
       "                         name         ingredient_name            parse_ingr  \n",
       "97       salz pfeffer majoran    salz pfeffer majoran  salt,pepper,marjoram  \n",
       "123      salz pfeffer paprika    salz pfeffer paprika   salt,pepper,paprika  \n",
       "203            salz u pfeffer          salz u pfeffer           salt,pepper  \n",
       "441       karotten mit erbsen     karotten mit erbsen            carrot,pea  \n",
       "552    salz/ pfeffer/ paprika  salz/ pfeffer/ paprika   salt,pepper,paprika  \n",
       "...                       ...                     ...                   ...  \n",
       "15244     salz pfeffer muskat     salz pfeffer muskat    salt,pepper,nutmeg  \n",
       "15306     salz pfeffer muskat     salz pfeffer muskat    salt,pepper,nutmeg  \n",
       "15697     salz pfeffer muskat     salz pfeffer muskat    salt,pepper,nutmeg  \n",
       "16592      salz pfeffer chili      salz pfeffer chili     salt,pepper,chili  \n",
       "16812          salz & pfeffer          salz & pfeffer           salt,pepper  \n",
       "\n",
       "[85 rows x 5 columns]"
      ]
     },
     "execution_count": 171,
     "metadata": {},
     "output_type": "execute_result"
    }
   ],
   "source": [
    "three_ingr_done_003"
   ]
  },
  {
   "cell_type": "code",
   "execution_count": 172,
   "metadata": {},
   "outputs": [
    {
     "data": {
      "text/plain": [
       "(1790, 5)"
      ]
     },
     "execution_count": 172,
     "metadata": {},
     "output_type": "execute_result"
    }
   ],
   "source": [
    "three_ingr_done=pd.concat([three_ingr_done_002,three_ingr_done_003],axis=0,ignore_index=True)\n",
    "three_ingr_done.shape"
   ]
  },
  {
   "cell_type": "code",
   "execution_count": 174,
   "metadata": {},
   "outputs": [],
   "source": [
    "three_ingr_done.to_csv('~/work/food_flavor/kochbar_ingredient_preprocessing/datasets/three_ingr_data/three_ingr_done_002.csv')"
   ]
  },
  {
   "cell_type": "code",
   "execution_count": 175,
   "metadata": {},
   "outputs": [
    {
     "data": {
      "text/plain": [
       "(15478, 5)"
      ]
     },
     "execution_count": 175,
     "metadata": {},
     "output_type": "execute_result"
    }
   ],
   "source": [
    "three_ingr=three_ingr[~three_ingr['parse_ingr'].str.contains('_')]\n",
    "three_ingr=three_ingr[~three_ingr['parse_ingr'].str.contains(',')]\n",
    "three_ingr.shape"
   ]
  },
  {
   "cell_type": "code",
   "execution_count": 178,
   "metadata": {},
   "outputs": [
    {
     "data": {
      "text/plain": [
       "3451"
      ]
     },
     "execution_count": 178,
     "metadata": {},
     "output_type": "execute_result"
    }
   ],
   "source": [
    "three_ingrs=list(set(three_ingr['parse_ingr'].values.tolist()))\n",
    "len(three_ingrs)"
   ]
  },
  {
   "cell_type": "code",
   "execution_count": 180,
   "metadata": {},
   "outputs": [],
   "source": [
    "three_ingr.to_csv('~/work/food_flavor/kochbar_ingredient_preprocessing/datasets/three_ingr_data/three_ingr_003.csv')"
   ]
  },
  {
   "cell_type": "code",
   "execution_count": null,
   "metadata": {},
   "outputs": [],
   "source": []
  }
 ],
 "metadata": {
  "kernelspec": {
   "display_name": "Python 3",
   "language": "python",
   "name": "python3"
  },
  "language_info": {
   "codemirror_mode": {
    "name": "ipython",
    "version": 3
   },
   "file_extension": ".py",
   "mimetype": "text/x-python",
   "name": "python",
   "nbconvert_exporter": "python",
   "pygments_lexer": "ipython3",
   "version": "3.6.3"
  }
 },
 "nbformat": 4,
 "nbformat_minor": 2
}
