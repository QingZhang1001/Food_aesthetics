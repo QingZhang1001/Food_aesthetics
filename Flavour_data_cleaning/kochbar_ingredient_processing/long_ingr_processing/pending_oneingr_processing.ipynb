{
 "cells": [
  {
   "cell_type": "code",
   "execution_count": 1,
   "metadata": {},
   "outputs": [
    {
     "name": "stderr",
     "output_type": "stream",
     "text": [
      "[nltk_data] Downloading package averaged_perceptron_tagger to\n",
      "[nltk_data]     /home/IW_student/nltk_data...\n",
      "[nltk_data]   Package averaged_perceptron_tagger is already up-to-\n",
      "[nltk_data]       date!\n"
     ]
    }
   ],
   "source": [
    "import pandas as pd\n",
    "import numpy as np\n",
    "import re\n",
    "import os\n",
    "\n",
    "import nltk\n",
    "nltk.download('averaged_perceptron_tagger')\n",
    "from nltk import word_tokenize, pos_tag\n",
    "from nltk.corpus import wordnet\n",
    "from nltk.stem import WordNetLemmatizer"
   ]
  },
  {
   "cell_type": "code",
   "execution_count": 2,
   "metadata": {},
   "outputs": [
    {
     "data": {
      "text/plain": [
       "'/home/IW_student/work/food_flavor/kochbar_ingredient_preprocessing/long_ingr_processing'"
      ]
     },
     "execution_count": 2,
     "metadata": {},
     "output_type": "execute_result"
    }
   ],
   "source": [
    "os.getcwd()"
   ]
  },
  {
   "cell_type": "code",
   "execution_count": 3,
   "metadata": {},
   "outputs": [
    {
     "data": {
      "text/plain": [
       "(2467, 6)"
      ]
     },
     "execution_count": 3,
     "metadata": {},
     "output_type": "execute_result"
    }
   ],
   "source": [
    "data=pd.read_csv('~/work/food_flavor/kochbar_ingredient_preprocessing/datasets/long_ingr_data/one_ingr_data/one_ingr_pendding.csv',index_col=0)\n",
    "data.shape"
   ]
  },
  {
   "cell_type": "code",
   "execution_count": 4,
   "metadata": {},
   "outputs": [],
   "source": [
    "data.reset_index(drop=True,inplace=True)"
   ]
  },
  {
   "cell_type": "code",
   "execution_count": 5,
   "metadata": {},
   "outputs": [
    {
     "data": {
      "text/html": [
       "<div>\n",
       "<style scoped>\n",
       "    .dataframe tbody tr th:only-of-type {\n",
       "        vertical-align: middle;\n",
       "    }\n",
       "\n",
       "    .dataframe tbody tr th {\n",
       "        vertical-align: top;\n",
       "    }\n",
       "\n",
       "    .dataframe thead th {\n",
       "        text-align: right;\n",
       "    }\n",
       "</style>\n",
       "<table border=\"1\" class=\"dataframe\">\n",
       "  <thead>\n",
       "    <tr style=\"text-align: right;\">\n",
       "      <th></th>\n",
       "      <th>recipe_id</th>\n",
       "      <th>recipe_href</th>\n",
       "      <th>name</th>\n",
       "      <th>ingredient_name</th>\n",
       "      <th>en_ingr</th>\n",
       "      <th>tag</th>\n",
       "    </tr>\n",
       "  </thead>\n",
       "  <tbody>\n",
       "    <tr>\n",
       "      <th>2462</th>\n",
       "      <td>117623</td>\n",
       "      <td>/rezept/347746/Resteessen-das-2-mit-Bildern.html</td>\n",
       "      <td>nudeln gemischt sie wareneinfach vom vortag da</td>\n",
       "      <td>nudeln gemischt sie wareneinfach vom vortag da</td>\n",
       "      <td>pasta</td>\n",
       "      <td>n</td>\n",
       "    </tr>\n",
       "    <tr>\n",
       "      <th>2463</th>\n",
       "      <td>117736</td>\n",
       "      <td>/rezept/359668/Gefuelltes-Gemuese.html</td>\n",
       "      <td>butter für die form</td>\n",
       "      <td>butter</td>\n",
       "      <td>butter</td>\n",
       "      <td>n</td>\n",
       "    </tr>\n",
       "    <tr>\n",
       "      <th>2464</th>\n",
       "      <td>117980</td>\n",
       "      <td>/rezept/92350/Samosas-indisch.html</td>\n",
       "      <td>evtl. etwas mehl zumarbeiten</td>\n",
       "      <td>Mehl</td>\n",
       "      <td>flour</td>\n",
       "      <td>n</td>\n",
       "    </tr>\n",
       "    <tr>\n",
       "      <th>2465</th>\n",
       "      <td>117988</td>\n",
       "      <td>/rezept/414065/Berliner-Erbsensuppe.html</td>\n",
       "      <td>kartoffeln mittelgross -klein geschnitten</td>\n",
       "      <td>Kartoffel</td>\n",
       "      <td>potato</td>\n",
       "      <td>n</td>\n",
       "    </tr>\n",
       "    <tr>\n",
       "      <th>2466</th>\n",
       "      <td>117995</td>\n",
       "      <td>/rezept/442316/Blaubeer-Vanillequark-Muffin.html</td>\n",
       "      <td>anrieb einer halben zitrone</td>\n",
       "      <td>zitrone</td>\n",
       "      <td>lemon</td>\n",
       "      <td>n</td>\n",
       "    </tr>\n",
       "  </tbody>\n",
       "</table>\n",
       "</div>"
      ],
      "text/plain": [
       "      recipe_id                                       recipe_href  \\\n",
       "2462     117623  /rezept/347746/Resteessen-das-2-mit-Bildern.html   \n",
       "2463     117736            /rezept/359668/Gefuelltes-Gemuese.html   \n",
       "2464     117980                /rezept/92350/Samosas-indisch.html   \n",
       "2465     117988          /rezept/414065/Berliner-Erbsensuppe.html   \n",
       "2466     117995  /rezept/442316/Blaubeer-Vanillequark-Muffin.html   \n",
       "\n",
       "                                                name  \\\n",
       "2462  nudeln gemischt sie wareneinfach vom vortag da   \n",
       "2463                             butter für die form   \n",
       "2464                    evtl. etwas mehl zumarbeiten   \n",
       "2465       kartoffeln mittelgross -klein geschnitten   \n",
       "2466                     anrieb einer halben zitrone   \n",
       "\n",
       "                                     ingredient_name en_ingr tag  \n",
       "2462  nudeln gemischt sie wareneinfach vom vortag da   pasta   n  \n",
       "2463                                          butter  butter   n  \n",
       "2464                                            Mehl   flour   n  \n",
       "2465                                       Kartoffel  potato   n  \n",
       "2466                                         zitrone   lemon   n  "
      ]
     },
     "execution_count": 5,
     "metadata": {},
     "output_type": "execute_result"
    }
   ],
   "source": [
    "data.tail()"
   ]
  },
  {
   "cell_type": "code",
   "execution_count": 6,
   "metadata": {},
   "outputs": [
    {
     "data": {
      "text/plain": [
       "(166, 6)"
      ]
     },
     "execution_count": 6,
     "metadata": {},
     "output_type": "execute_result"
    }
   ],
   "source": [
    "data_nn=data[data['tag']!='n']\n",
    "data_nn.shape"
   ]
  },
  {
   "cell_type": "code",
   "execution_count": 7,
   "metadata": {
    "collapsed": true
   },
   "outputs": [
    {
     "name": "stdout",
     "output_type": "stream",
     "text": [
      "['alaska', 'alfonso', 'almond', 'angry', 'baking', 'black', 'borretsch', 'bovine', 'brown', 'close', 'coalfish', 'coating', 'collect', 'cooking', 'cooling', 'covering', 'currypulver', 'derananasdose', 'divide', 'double', 'drain', 'edeka', 'eggsstich', 'fencheltubern', 'fiery', 'fit', 'following', 'for', 'fresher', 'frit', 'funny', 'garnish', 'gelierfix', 'greedy', 'green', 'grosse', 'grumpy', 'hacked', 'handy', 'heavy', 'hierapfel', 'hijack', 'hot', 'important', 'inserted', 'intestinal', 'juiciest', 'kiss', 'leaves', 'licor', 'like', 'liquid', 'lukewarm', 'marinade', 'medium', 'mediumsized', 'morellen', 'mortified', 'mulltuch', 'net', 'nets', 'nutsized', 'oetker', 'omitted', 'orane', 'organic', 'parma', 'paste', 'pitted', 'planed', 'pops', 'preserve', 'preserves', 'pretty', 'queen', 'raw', 'red', 'refined', 'remaining', 'ripe', 'rough', 'scream', 'serving', 'sharper', 'shifting', 'slicing', 'sometimes', 'spicy', 'sprinkles', 'still', 'sun', 'sweet', 'thank', 'thawed', 'then', 'there', 'thyme', 'topping', 'trim', 'viennese', 'waferthin', 'was', 'westphalian', 'where', 'white', 'whiter', 'yellow']\n"
     ]
    }
   ],
   "source": [
    "ingr_nn=list(set(data_nn['en_ingr'].values.tolist()))\n",
    "ingr_nn.sort()\n",
    "print(ingr_nn)"
   ]
  },
  {
   "cell_type": "code",
   "execution_count": 8,
   "metadata": {
    "collapsed": true
   },
   "outputs": [
    {
     "name": "stderr",
     "output_type": "stream",
     "text": [
      "/opt/conda/lib/python3.6/site-packages/ipykernel_launcher.py:1: SettingWithCopyWarning: \n",
      "A value is trying to be set on a copy of a slice from a DataFrame\n",
      "\n",
      "See the caveats in the documentation: https://pandas.pydata.org/pandas-docs/stable/user_guide/indexing.html#returning-a-view-versus-a-copy\n",
      "  \"\"\"Entry point for launching an IPython kernel.\n",
      "/opt/conda/lib/python3.6/site-packages/ipykernel_launcher.py:2: SettingWithCopyWarning: \n",
      "A value is trying to be set on a copy of a slice from a DataFrame\n",
      "\n",
      "See the caveats in the documentation: https://pandas.pydata.org/pandas-docs/stable/user_guide/indexing.html#returning-a-view-versus-a-copy\n",
      "  \n",
      "/opt/conda/lib/python3.6/site-packages/ipykernel_launcher.py:3: SettingWithCopyWarning: \n",
      "A value is trying to be set on a copy of a slice from a DataFrame\n",
      "\n",
      "See the caveats in the documentation: https://pandas.pydata.org/pandas-docs/stable/user_guide/indexing.html#returning-a-view-versus-a-copy\n",
      "  This is separate from the ipykernel package so we can avoid doing imports until\n",
      "/opt/conda/lib/python3.6/site-packages/ipykernel_launcher.py:4: SettingWithCopyWarning: \n",
      "A value is trying to be set on a copy of a slice from a DataFrame\n",
      "\n",
      "See the caveats in the documentation: https://pandas.pydata.org/pandas-docs/stable/user_guide/indexing.html#returning-a-view-versus-a-copy\n",
      "  after removing the cwd from sys.path.\n",
      "/opt/conda/lib/python3.6/site-packages/ipykernel_launcher.py:5: SettingWithCopyWarning: \n",
      "A value is trying to be set on a copy of a slice from a DataFrame\n",
      "\n",
      "See the caveats in the documentation: https://pandas.pydata.org/pandas-docs/stable/user_guide/indexing.html#returning-a-view-versus-a-copy\n",
      "  \"\"\"\n",
      "/opt/conda/lib/python3.6/site-packages/ipykernel_launcher.py:6: SettingWithCopyWarning: \n",
      "A value is trying to be set on a copy of a slice from a DataFrame\n",
      "\n",
      "See the caveats in the documentation: https://pandas.pydata.org/pandas-docs/stable/user_guide/indexing.html#returning-a-view-versus-a-copy\n",
      "  \n"
     ]
    }
   ],
   "source": [
    "data['tag'][data['en_ingr']=='thyme']='n'\n",
    "data['tag'][data['en_ingr']=='almond']='n'\n",
    "data['tag'][data['en_ingr']=='coalfish']='n'\n",
    "data['tag'][data['en_ingr']=='bovine']='n'\n",
    "data['tag'][data['en_ingr']=='currypulver']='n'\n",
    "data['tag'][data['en_ingr']=='fencheltubern']='n'"
   ]
  },
  {
   "cell_type": "code",
   "execution_count": 9,
   "metadata": {
    "collapsed": true
   },
   "outputs": [
    {
     "name": "stderr",
     "output_type": "stream",
     "text": [
      "/opt/conda/lib/python3.6/site-packages/ipykernel_launcher.py:1: SettingWithCopyWarning: \n",
      "A value is trying to be set on a copy of a slice from a DataFrame\n",
      "\n",
      "See the caveats in the documentation: https://pandas.pydata.org/pandas-docs/stable/user_guide/indexing.html#returning-a-view-versus-a-copy\n",
      "  \"\"\"Entry point for launching an IPython kernel.\n",
      "/opt/conda/lib/python3.6/site-packages/ipykernel_launcher.py:2: SettingWithCopyWarning: \n",
      "A value is trying to be set on a copy of a slice from a DataFrame\n",
      "\n",
      "See the caveats in the documentation: https://pandas.pydata.org/pandas-docs/stable/user_guide/indexing.html#returning-a-view-versus-a-copy\n",
      "  \n"
     ]
    }
   ],
   "source": [
    "data['en_ingr'][data['en_ingr']=='currypulver']='curry_powder'\n",
    "data['en_ingr'][data['en_ingr']=='fencheltubern']='fenchel'"
   ]
  },
  {
   "cell_type": "code",
   "execution_count": 10,
   "metadata": {},
   "outputs": [
    {
     "data": {
      "text/plain": [
       "(152, 6)"
      ]
     },
     "execution_count": 10,
     "metadata": {},
     "output_type": "execute_result"
    }
   ],
   "source": [
    "data_nn=data[data['tag']!='n']\n",
    "data_nn.shape"
   ]
  },
  {
   "cell_type": "code",
   "execution_count": 11,
   "metadata": {},
   "outputs": [],
   "source": [
    "data_nn.to_csv('~/work/food_flavor/kochbar_ingredient_preprocessing/datasets/long_ingr_data/one_ingr_data/del_one_ingr_002.csv')"
   ]
  },
  {
   "cell_type": "code",
   "execution_count": 12,
   "metadata": {},
   "outputs": [
    {
     "data": {
      "text/plain": [
       "(2315, 6)"
      ]
     },
     "execution_count": 12,
     "metadata": {},
     "output_type": "execute_result"
    }
   ],
   "source": [
    "one_ingr=data[data['tag']=='n']\n",
    "one_ingr.shape"
   ]
  },
  {
   "cell_type": "code",
   "execution_count": 13,
   "metadata": {},
   "outputs": [],
   "source": [
    "lemmatizer = WordNetLemmatizer()"
   ]
  },
  {
   "cell_type": "code",
   "execution_count": 14,
   "metadata": {},
   "outputs": [
    {
     "name": "stderr",
     "output_type": "stream",
     "text": [
      "/opt/conda/lib/python3.6/site-packages/ipykernel_launcher.py:1: SettingWithCopyWarning: \n",
      "A value is trying to be set on a copy of a slice from a DataFrame.\n",
      "Try using .loc[row_indexer,col_indexer] = value instead\n",
      "\n",
      "See the caveats in the documentation: https://pandas.pydata.org/pandas-docs/stable/user_guide/indexing.html#returning-a-view-versus-a-copy\n",
      "  \"\"\"Entry point for launching an IPython kernel.\n"
     ]
    }
   ],
   "source": [
    "one_ingr['ingr_lemma']=one_ingr.apply(lambda x:lemmatizer.lemmatize(x.en_ingr,x.tag),axis=1)"
   ]
  },
  {
   "cell_type": "code",
   "execution_count": 15,
   "metadata": {},
   "outputs": [
    {
     "data": {
      "text/html": [
       "<div>\n",
       "<style scoped>\n",
       "    .dataframe tbody tr th:only-of-type {\n",
       "        vertical-align: middle;\n",
       "    }\n",
       "\n",
       "    .dataframe tbody tr th {\n",
       "        vertical-align: top;\n",
       "    }\n",
       "\n",
       "    .dataframe thead th {\n",
       "        text-align: right;\n",
       "    }\n",
       "</style>\n",
       "<table border=\"1\" class=\"dataframe\">\n",
       "  <thead>\n",
       "    <tr style=\"text-align: right;\">\n",
       "      <th></th>\n",
       "      <th>recipe_id</th>\n",
       "      <th>recipe_href</th>\n",
       "      <th>name</th>\n",
       "      <th>ingredient_name</th>\n",
       "      <th>en_ingr</th>\n",
       "      <th>tag</th>\n",
       "      <th>ingr_lemma</th>\n",
       "    </tr>\n",
       "  </thead>\n",
       "  <tbody>\n",
       "    <tr>\n",
       "      <th>0</th>\n",
       "      <td>80</td>\n",
       "      <td>/rezept/438956/Nudelauflauf-mit-Gemuese.html</td>\n",
       "      <td>butter für die form</td>\n",
       "      <td>butter</td>\n",
       "      <td>butter</td>\n",
       "      <td>n</td>\n",
       "      <td>butter</td>\n",
       "    </tr>\n",
       "    <tr>\n",
       "      <th>1</th>\n",
       "      <td>104</td>\n",
       "      <td>/rezept/279085/Gyrosauflauf-mit-Gemuese.html</td>\n",
       "      <td>erbsen / möhren 420 gabtropfgewicht</td>\n",
       "      <td>Erbsen</td>\n",
       "      <td>peas</td>\n",
       "      <td>n</td>\n",
       "      <td>pea</td>\n",
       "    </tr>\n",
       "    <tr>\n",
       "      <th>2</th>\n",
       "      <td>238</td>\n",
       "      <td>/rezept/372486/Zitronen-Schokoladenkuchen.html</td>\n",
       "      <td>zironensaft das entsprichtca. 1 - 2 zitronen</td>\n",
       "      <td>2 zitronen</td>\n",
       "      <td>lemons</td>\n",
       "      <td>n</td>\n",
       "      <td>lemon</td>\n",
       "    </tr>\n",
       "    <tr>\n",
       "      <th>3</th>\n",
       "      <td>238</td>\n",
       "      <td>/rezept/372486/Zitronen-Schokoladenkuchen.html</td>\n",
       "      <td>zitronensaft das entsprichtca. 4 - 5 zitronen</td>\n",
       "      <td>5 zitronen</td>\n",
       "      <td>lemons</td>\n",
       "      <td>n</td>\n",
       "      <td>lemon</td>\n",
       "    </tr>\n",
       "    <tr>\n",
       "      <th>4</th>\n",
       "      <td>282</td>\n",
       "      <td>/rezept/330603/Spiegelei-auf-Kartoffelbett-mit...</td>\n",
       "      <td>zwiebel frisch fein gehackt</td>\n",
       "      <td>zwiebel frisch fein gehackt</td>\n",
       "      <td>onion</td>\n",
       "      <td>n</td>\n",
       "      <td>onion</td>\n",
       "    </tr>\n",
       "  </tbody>\n",
       "</table>\n",
       "</div>"
      ],
      "text/plain": [
       "   recipe_id                                        recipe_href  \\\n",
       "0         80       /rezept/438956/Nudelauflauf-mit-Gemuese.html   \n",
       "1        104       /rezept/279085/Gyrosauflauf-mit-Gemuese.html   \n",
       "2        238     /rezept/372486/Zitronen-Schokoladenkuchen.html   \n",
       "3        238     /rezept/372486/Zitronen-Schokoladenkuchen.html   \n",
       "4        282  /rezept/330603/Spiegelei-auf-Kartoffelbett-mit...   \n",
       "\n",
       "                                            name              ingredient_name  \\\n",
       "0                            butter für die form                       butter   \n",
       "1            erbsen / möhren 420 gabtropfgewicht                       Erbsen   \n",
       "2   zironensaft das entsprichtca. 1 - 2 zitronen                   2 zitronen   \n",
       "3  zitronensaft das entsprichtca. 4 - 5 zitronen                   5 zitronen   \n",
       "4                    zwiebel frisch fein gehackt  zwiebel frisch fein gehackt   \n",
       "\n",
       "  en_ingr tag ingr_lemma  \n",
       "0  butter   n     butter  \n",
       "1    peas   n        pea  \n",
       "2  lemons   n      lemon  \n",
       "3  lemons   n      lemon  \n",
       "4   onion   n      onion  "
      ]
     },
     "execution_count": 15,
     "metadata": {},
     "output_type": "execute_result"
    }
   ],
   "source": [
    "one_ingr.head()"
   ]
  },
  {
   "cell_type": "code",
   "execution_count": 32,
   "metadata": {},
   "outputs": [
    {
     "data": {
      "text/plain": [
       "278"
      ]
     },
     "execution_count": 32,
     "metadata": {},
     "output_type": "execute_result"
    }
   ],
   "source": [
    "one_ingr_list=list(set(one_ingr['ingr_lemma'].values.tolist()))\n",
    "len(one_ingr_list)"
   ]
  },
  {
   "cell_type": "code",
   "execution_count": 33,
   "metadata": {
    "collapsed": true
   },
   "outputs": [
    {
     "data": {
      "text/plain": [
       "['abrasion',\n",
       " 'aioli',\n",
       " 'alcohol',\n",
       " 'almond',\n",
       " 'amaretto',\n",
       " 'apple',\n",
       " 'apricot',\n",
       " 'ardmore',\n",
       " 'artichoke',\n",
       " 'asparagus',\n",
       " 'avocado',\n",
       " 'bacon',\n",
       " 'baguette',\n",
       " 'bailey',\n",
       " 'balsamic',\n",
       " 'banana',\n",
       " 'barbecue_sauce',\n",
       " 'basil',\n",
       " 'basilikum',\n",
       " 'bean',\n",
       " 'beef',\n",
       " 'beer',\n",
       " 'beetroot',\n",
       " 'berry',\n",
       " 'bertolli',\n",
       " 'biscuit',\n",
       " 'blackberry',\n",
       " 'blueberry',\n",
       " 'boletus',\n",
       " 'bone',\n",
       " 'bourbon',\n",
       " 'bovine',\n",
       " 'brandy',\n",
       " 'breadcrumb',\n",
       " 'broth',\n",
       " 'bucatini',\n",
       " 'butter',\n",
       " 'buttercream',\n",
       " 'buttermilk',\n",
       " 'cabbage',\n",
       " 'cachaca',\n",
       " 'cake',\n",
       " 'calf',\n",
       " 'candy',\n",
       " 'cappuccino',\n",
       " 'caramel',\n",
       " 'cardamom',\n",
       " 'carnation',\n",
       " 'carrot',\n",
       " 'cattle',\n",
       " 'cauliflower',\n",
       " 'celeriac',\n",
       " 'celery',\n",
       " 'cereal',\n",
       " 'champorknons',\n",
       " 'chard',\n",
       " 'chardonnay',\n",
       " 'cheese',\n",
       " 'cherry',\n",
       " 'chervil',\n",
       " 'chestnut',\n",
       " 'chicken',\n",
       " 'chicory',\n",
       " 'chili',\n",
       " 'chili_powder',\n",
       " 'chilil',\n",
       " 'chilimischung',\n",
       " 'chilli',\n",
       " 'chip',\n",
       " 'chive',\n",
       " 'chocolate',\n",
       " 'chutney',\n",
       " 'ciabatta',\n",
       " 'cinnamon',\n",
       " 'citronella',\n",
       " 'clementine',\n",
       " 'clove',\n",
       " 'coalfish',\n",
       " 'cockle',\n",
       " 'cocoa',\n",
       " 'coconut',\n",
       " 'coffee',\n",
       " 'cognac',\n",
       " 'cointreau',\n",
       " 'coleslaw',\n",
       " 'condiment',\n",
       " 'cooky',\n",
       " 'cord',\n",
       " 'coriander',\n",
       " 'coriander_salt',\n",
       " 'corn',\n",
       " 'crab',\n",
       " 'cracker',\n",
       " 'cranberry',\n",
       " 'cream',\n",
       " 'creme',\n",
       " 'crepe',\n",
       " 'cress',\n",
       " 'cucumber',\n",
       " 'cumin',\n",
       " 'curcuma',\n",
       " 'currant',\n",
       " 'curry',\n",
       " 'curry_powder',\n",
       " 'dessert',\n",
       " 'dill',\n",
       " 'dough',\n",
       " 'egg',\n",
       " 'eggplant',\n",
       " 'endive',\n",
       " 'fenchel',\n",
       " 'feta',\n",
       " 'fig',\n",
       " 'fillet',\n",
       " 'fish',\n",
       " 'flour',\n",
       " 'flower',\n",
       " 'fondant',\n",
       " 'fondue',\n",
       " 'fructin',\n",
       " 'fruit',\n",
       " 'garlic',\n",
       " 'gelatin',\n",
       " 'ginger',\n",
       " 'glasnudeln',\n",
       " 'gnocchi',\n",
       " 'habanero',\n",
       " 'ham',\n",
       " 'hazelnut',\n",
       " 'herb',\n",
       " 'honey',\n",
       " 'horseradish',\n",
       " 'jalapeno',\n",
       " 'jam',\n",
       " 'jaroma',\n",
       " 'kekse',\n",
       " 'ketchup',\n",
       " 'kiwi',\n",
       " 'kohlrabi',\n",
       " 'korma',\n",
       " 'kumquat',\n",
       " 'lamb',\n",
       " 'lard',\n",
       " 'lasagne',\n",
       " 'lauch',\n",
       " 'leek',\n",
       " 'lemon',\n",
       " 'lentil',\n",
       " 'lettuce',\n",
       " 'lime',\n",
       " 'liqueur',\n",
       " 'liver',\n",
       " 'loaf',\n",
       " 'lovage',\n",
       " 'macadamia',\n",
       " 'macaroni',\n",
       " 'malibu',\n",
       " 'mandarin',\n",
       " 'mango',\n",
       " 'maracuja',\n",
       " 'margarine',\n",
       " 'marjoram',\n",
       " 'mayonnaise',\n",
       " 'meat',\n",
       " 'meatloaf',\n",
       " 'meatsoup',\n",
       " 'melisse',\n",
       " 'melon',\n",
       " 'mesclun',\n",
       " 'milk',\n",
       " 'mint',\n",
       " 'mocca',\n",
       " 'mohn',\n",
       " 'mouse',\n",
       " 'muffin',\n",
       " 'mushroom',\n",
       " 'mustard',\n",
       " 'noodle',\n",
       " 'nougat',\n",
       " 'nut',\n",
       " 'nutella',\n",
       " 'nutmeg',\n",
       " 'oil',\n",
       " 'olive',\n",
       " 'onion',\n",
       " 'onion_soup',\n",
       " 'orange',\n",
       " 'oregano',\n",
       " 'oreo',\n",
       " 'ouzo',\n",
       " 'palmin',\n",
       " 'pancetta',\n",
       " 'paprika',\n",
       " 'parsley',\n",
       " 'pasta',\n",
       " 'pea',\n",
       " 'peach',\n",
       " 'peanut',\n",
       " 'pear',\n",
       " 'pecan',\n",
       " 'pepper',\n",
       " 'pepperoni',\n",
       " 'pesto',\n",
       " 'pfanni',\n",
       " 'pfeffer',\n",
       " 'pimiento',\n",
       " 'pineapple',\n",
       " 'pistachio',\n",
       " 'pitta',\n",
       " 'pizza',\n",
       " 'pizzateig',\n",
       " 'plantain',\n",
       " 'plawater',\n",
       " 'plum',\n",
       " 'popcorn',\n",
       " 'pork',\n",
       " 'potato',\n",
       " 'poultry',\n",
       " 'prawn',\n",
       " 'pudding',\n",
       " 'pumpkin',\n",
       " 'quark',\n",
       " 'radish',\n",
       " 'rahm',\n",
       " 'raisin',\n",
       " 'raspberry',\n",
       " 'rhubarb',\n",
       " 'rib',\n",
       " 'rosemary',\n",
       " 'rum',\n",
       " 'rwater',\n",
       " 'saffron',\n",
       " 'sage',\n",
       " 'salad',\n",
       " 'salami',\n",
       " 'salmon',\n",
       " 'salt',\n",
       " 'sauce',\n",
       " 'sausage',\n",
       " 'scampi',\n",
       " 'schoko',\n",
       " 'seafood',\n",
       " 'seasoning',\n",
       " 'shallot',\n",
       " 'sheet',\n",
       " 'shell',\n",
       " 'sherry',\n",
       " 'shrimp',\n",
       " 'soup',\n",
       " 'spaghetti',\n",
       " 'spinach',\n",
       " 'steak',\n",
       " 'strawberry',\n",
       " 'sugar',\n",
       " 'syrup',\n",
       " 'tabasco',\n",
       " 'taco',\n",
       " 'tangerine',\n",
       " 'tarragon',\n",
       " 'thyme',\n",
       " 'tiramisu',\n",
       " 'tofu',\n",
       " 'tomato',\n",
       " 'trout',\n",
       " 'tuber',\n",
       " 'tuna',\n",
       " 'turmeric',\n",
       " 'vanilla',\n",
       " 'veal',\n",
       " 'vegetable',\n",
       " 'vinegar',\n",
       " 'walnut',\n",
       " 'water',\n",
       " 'whisky',\n",
       " 'yeast',\n",
       " 'yogurt',\n",
       " 'zimt',\n",
       " 'zucchini']"
      ]
     },
     "execution_count": 33,
     "metadata": {},
     "output_type": "execute_result"
    }
   ],
   "source": [
    "one_ingr_list.sort()\n",
    "one_ingr_list"
   ]
  },
  {
   "cell_type": "code",
   "execution_count": null,
   "metadata": {},
   "outputs": [],
   "source": [
    "# barbecuesosse = barbecue_sauce,chillipulver=chili_powder,endiviensalad=endive,koriandersalz = coriander_salt,\n",
    "# onionsoup=onion_soup"
   ]
  },
  {
   "cell_type": "code",
   "execution_count": 26,
   "metadata": {
    "collapsed": true
   },
   "outputs": [
    {
     "name": "stderr",
     "output_type": "stream",
     "text": [
      "/opt/conda/lib/python3.6/site-packages/ipykernel_launcher.py:1: SettingWithCopyWarning: \n",
      "A value is trying to be set on a copy of a slice from a DataFrame.\n",
      "Try using .loc[row_indexer,col_indexer] = value instead\n",
      "\n",
      "See the caveats in the documentation: https://pandas.pydata.org/pandas-docs/stable/user_guide/indexing.html#returning-a-view-versus-a-copy\n",
      "  \"\"\"Entry point for launching an IPython kernel.\n",
      "/opt/conda/lib/python3.6/site-packages/ipykernel_launcher.py:2: SettingWithCopyWarning: \n",
      "A value is trying to be set on a copy of a slice from a DataFrame.\n",
      "Try using .loc[row_indexer,col_indexer] = value instead\n",
      "\n",
      "See the caveats in the documentation: https://pandas.pydata.org/pandas-docs/stable/user_guide/indexing.html#returning-a-view-versus-a-copy\n",
      "  \n",
      "/opt/conda/lib/python3.6/site-packages/ipykernel_launcher.py:3: SettingWithCopyWarning: \n",
      "A value is trying to be set on a copy of a slice from a DataFrame.\n",
      "Try using .loc[row_indexer,col_indexer] = value instead\n",
      "\n",
      "See the caveats in the documentation: https://pandas.pydata.org/pandas-docs/stable/user_guide/indexing.html#returning-a-view-versus-a-copy\n",
      "  This is separate from the ipykernel package so we can avoid doing imports until\n",
      "/opt/conda/lib/python3.6/site-packages/ipykernel_launcher.py:4: SettingWithCopyWarning: \n",
      "A value is trying to be set on a copy of a slice from a DataFrame.\n",
      "Try using .loc[row_indexer,col_indexer] = value instead\n",
      "\n",
      "See the caveats in the documentation: https://pandas.pydata.org/pandas-docs/stable/user_guide/indexing.html#returning-a-view-versus-a-copy\n",
      "  after removing the cwd from sys.path.\n",
      "/opt/conda/lib/python3.6/site-packages/ipykernel_launcher.py:5: SettingWithCopyWarning: \n",
      "A value is trying to be set on a copy of a slice from a DataFrame.\n",
      "Try using .loc[row_indexer,col_indexer] = value instead\n",
      "\n",
      "See the caveats in the documentation: https://pandas.pydata.org/pandas-docs/stable/user_guide/indexing.html#returning-a-view-versus-a-copy\n",
      "  \"\"\"\n"
     ]
    }
   ],
   "source": [
    "one_ingr['ingr_lemma']=one_ingr['ingr_lemma'].apply(lambda x:x.replace('barbecuesosse','barbecue_sauce'))\n",
    "one_ingr['ingr_lemma']=one_ingr['ingr_lemma'].apply(lambda x:x.replace('chillipulver','chili_powder'))\n",
    "one_ingr['ingr_lemma']=one_ingr['ingr_lemma'].apply(lambda x:x.replace('endiviensalad','endive'))\n",
    "one_ingr['ingr_lemma']=one_ingr['ingr_lemma'].apply(lambda x:x.replace('koriandersalz','coriander_salt'))\n",
    "one_ingr['ingr_lemma']=one_ingr['ingr_lemma'].apply(lambda x:x.replace('onionsoup','onion_soup'))"
   ]
  },
  {
   "cell_type": "code",
   "execution_count": 30,
   "metadata": {},
   "outputs": [],
   "source": [
    "del_ingr=['fleckerl','juwater','spwater','spwaters','ungarnladende']"
   ]
  },
  {
   "cell_type": "code",
   "execution_count": 31,
   "metadata": {},
   "outputs": [
    {
     "data": {
      "text/plain": [
       "(2305, 7)"
      ]
     },
     "execution_count": 31,
     "metadata": {},
     "output_type": "execute_result"
    }
   ],
   "source": [
    "one_ingr=one_ingr[~one_ingr['ingr_lemma'].isin(del_ingr)]\n",
    "one_ingr.shape"
   ]
  },
  {
   "cell_type": "code",
   "execution_count": 34,
   "metadata": {},
   "outputs": [],
   "source": [
    "one_ingr.to_csv('~/work/food_flavor/kochbar_ingredient_preprocessing/datasets/long_ingr_data/one_ingr_data/one_ingr_done_002.csv')"
   ]
  },
  {
   "cell_type": "code",
   "execution_count": 38,
   "metadata": {},
   "outputs": [],
   "source": [
    "one_ingr=one_ingr[['recipe_id','recipe_href','name','ingr_lemma']]"
   ]
  },
  {
   "cell_type": "code",
   "execution_count": 35,
   "metadata": {},
   "outputs": [
    {
     "data": {
      "text/plain": [
       "(144, 6)"
      ]
     },
     "execution_count": 35,
     "metadata": {},
     "output_type": "execute_result"
    }
   ],
   "source": [
    "one_ingr_done_001=pd.read_csv('~/work/food_flavor/kochbar_ingredient_preprocessing/datasets/long_ingr_data/one_ingr_data/one_ingr_done_001.csv',index_col=0)\n",
    "one_ingr_done_001.shape"
   ]
  },
  {
   "cell_type": "code",
   "execution_count": 39,
   "metadata": {},
   "outputs": [],
   "source": [
    "one_ingr_done_001=one_ingr_done_001[['recipe_id','recipe_href','name','en_ingr']]"
   ]
  },
  {
   "cell_type": "code",
   "execution_count": 40,
   "metadata": {},
   "outputs": [],
   "source": [
    "one_ingr.rename(columns={'ingr_lemma':'end_ingr'},inplace=True)\n",
    "one_ingr_done_001.rename(columns={'en_ingr':'end_ingr'},inplace=True)"
   ]
  },
  {
   "cell_type": "code",
   "execution_count": 41,
   "metadata": {},
   "outputs": [
    {
     "data": {
      "text/plain": [
       "(2449, 4)"
      ]
     },
     "execution_count": 41,
     "metadata": {},
     "output_type": "execute_result"
    }
   ],
   "source": [
    "one_ingr_done=pd.concat([one_ingr,one_ingr_done_001],axis=0,ignore_index=True)\n",
    "one_ingr_done.reset_index(drop=True,inplace=True)\n",
    "one_ingr_done.shape"
   ]
  },
  {
   "cell_type": "code",
   "execution_count": 42,
   "metadata": {},
   "outputs": [
    {
     "data": {
      "text/html": [
       "<div>\n",
       "<style scoped>\n",
       "    .dataframe tbody tr th:only-of-type {\n",
       "        vertical-align: middle;\n",
       "    }\n",
       "\n",
       "    .dataframe tbody tr th {\n",
       "        vertical-align: top;\n",
       "    }\n",
       "\n",
       "    .dataframe thead th {\n",
       "        text-align: right;\n",
       "    }\n",
       "</style>\n",
       "<table border=\"1\" class=\"dataframe\">\n",
       "  <thead>\n",
       "    <tr style=\"text-align: right;\">\n",
       "      <th></th>\n",
       "      <th>recipe_id</th>\n",
       "      <th>recipe_href</th>\n",
       "      <th>name</th>\n",
       "      <th>end_ingr</th>\n",
       "    </tr>\n",
       "  </thead>\n",
       "  <tbody>\n",
       "    <tr>\n",
       "      <th>0</th>\n",
       "      <td>80</td>\n",
       "      <td>/rezept/438956/Nudelauflauf-mit-Gemuese.html</td>\n",
       "      <td>butter für die form</td>\n",
       "      <td>butter</td>\n",
       "    </tr>\n",
       "    <tr>\n",
       "      <th>1</th>\n",
       "      <td>104</td>\n",
       "      <td>/rezept/279085/Gyrosauflauf-mit-Gemuese.html</td>\n",
       "      <td>erbsen / möhren 420 gabtropfgewicht</td>\n",
       "      <td>pea</td>\n",
       "    </tr>\n",
       "    <tr>\n",
       "      <th>2</th>\n",
       "      <td>238</td>\n",
       "      <td>/rezept/372486/Zitronen-Schokoladenkuchen.html</td>\n",
       "      <td>zironensaft das entsprichtca. 1 - 2 zitronen</td>\n",
       "      <td>lemon</td>\n",
       "    </tr>\n",
       "    <tr>\n",
       "      <th>3</th>\n",
       "      <td>238</td>\n",
       "      <td>/rezept/372486/Zitronen-Schokoladenkuchen.html</td>\n",
       "      <td>zitronensaft das entsprichtca. 4 - 5 zitronen</td>\n",
       "      <td>lemon</td>\n",
       "    </tr>\n",
       "    <tr>\n",
       "      <th>4</th>\n",
       "      <td>282</td>\n",
       "      <td>/rezept/330603/Spiegelei-auf-Kartoffelbett-mit...</td>\n",
       "      <td>zwiebel frisch fein gehackt</td>\n",
       "      <td>onion</td>\n",
       "    </tr>\n",
       "    <tr>\n",
       "      <th>...</th>\n",
       "      <td>...</td>\n",
       "      <td>...</td>\n",
       "      <td>...</td>\n",
       "      <td>...</td>\n",
       "    </tr>\n",
       "    <tr>\n",
       "      <th>2444</th>\n",
       "      <td>112204</td>\n",
       "      <td>/rezept/154276/Mokka-Marmorkuchen.html</td>\n",
       "      <td>löslicher kaffee - typmokka</td>\n",
       "      <td>Mocha</td>\n",
       "    </tr>\n",
       "    <tr>\n",
       "      <th>2445</th>\n",
       "      <td>112216</td>\n",
       "      <td>/rezept/441953/Falsches-Haeschen-kleiner-Hackb...</td>\n",
       "      <td>semmelbrösel- zur not auchpaniermehl</td>\n",
       "      <td>Semmelbrösel</td>\n",
       "    </tr>\n",
       "    <tr>\n",
       "      <th>2446</th>\n",
       "      <td>114281</td>\n",
       "      <td>/rezept/312983/Muffins-mit-Schogetten-und-Scho...</td>\n",
       "      <td>schogetten - wir hatten nochjoghurt-erdbeere</td>\n",
       "      <td>Schogetten</td>\n",
       "    </tr>\n",
       "    <tr>\n",
       "      <th>2447</th>\n",
       "      <td>114539</td>\n",
       "      <td>/rezept/339431/Putenschnitzel-eingerollt.html</td>\n",
       "      <td>knobi --natürlich füredelgard nicht</td>\n",
       "      <td>Knobi</td>\n",
       "    </tr>\n",
       "    <tr>\n",
       "      <th>2448</th>\n",
       "      <td>117009</td>\n",
       "      <td>/rezept/447215/Kuerbis-Kartoffel-Suppe.html</td>\n",
       "      <td>hokkaido - bei anderenkürbisarten siehebeschre...</td>\n",
       "      <td>Hokkaido</td>\n",
       "    </tr>\n",
       "  </tbody>\n",
       "</table>\n",
       "<p>2449 rows × 4 columns</p>\n",
       "</div>"
      ],
      "text/plain": [
       "      recipe_id                                        recipe_href  \\\n",
       "0            80       /rezept/438956/Nudelauflauf-mit-Gemuese.html   \n",
       "1           104       /rezept/279085/Gyrosauflauf-mit-Gemuese.html   \n",
       "2           238     /rezept/372486/Zitronen-Schokoladenkuchen.html   \n",
       "3           238     /rezept/372486/Zitronen-Schokoladenkuchen.html   \n",
       "4           282  /rezept/330603/Spiegelei-auf-Kartoffelbett-mit...   \n",
       "...         ...                                                ...   \n",
       "2444     112204             /rezept/154276/Mokka-Marmorkuchen.html   \n",
       "2445     112216  /rezept/441953/Falsches-Haeschen-kleiner-Hackb...   \n",
       "2446     114281  /rezept/312983/Muffins-mit-Schogetten-und-Scho...   \n",
       "2447     114539      /rezept/339431/Putenschnitzel-eingerollt.html   \n",
       "2448     117009        /rezept/447215/Kuerbis-Kartoffel-Suppe.html   \n",
       "\n",
       "                                                   name      end_ingr  \n",
       "0                                   butter für die form        butter  \n",
       "1                   erbsen / möhren 420 gabtropfgewicht           pea  \n",
       "2          zironensaft das entsprichtca. 1 - 2 zitronen         lemon  \n",
       "3         zitronensaft das entsprichtca. 4 - 5 zitronen         lemon  \n",
       "4                           zwiebel frisch fein gehackt         onion  \n",
       "...                                                 ...           ...  \n",
       "2444                        löslicher kaffee - typmokka         Mocha  \n",
       "2445               semmelbrösel- zur not auchpaniermehl  Semmelbrösel  \n",
       "2446       schogetten - wir hatten nochjoghurt-erdbeere    Schogetten  \n",
       "2447                knobi --natürlich füredelgard nicht         Knobi  \n",
       "2448  hokkaido - bei anderenkürbisarten siehebeschre...      Hokkaido  \n",
       "\n",
       "[2449 rows x 4 columns]"
      ]
     },
     "execution_count": 42,
     "metadata": {},
     "output_type": "execute_result"
    }
   ],
   "source": [
    "one_ingr_done"
   ]
  },
  {
   "cell_type": "code",
   "execution_count": 43,
   "metadata": {},
   "outputs": [],
   "source": [
    "one_ingr_done.to_csv('~/work/food_flavor/kochbar_ingredient_preprocessing/datasets/long_ingr_data/one_ingr_data/one_ingr_done.csv')"
   ]
  },
  {
   "cell_type": "code",
   "execution_count": null,
   "metadata": {},
   "outputs": [],
   "source": []
  }
 ],
 "metadata": {
  "kernelspec": {
   "display_name": "Python 3",
   "language": "python",
   "name": "python3"
  },
  "language_info": {
   "codemirror_mode": {
    "name": "ipython",
    "version": 3
   },
   "file_extension": ".py",
   "mimetype": "text/x-python",
   "name": "python",
   "nbconvert_exporter": "python",
   "pygments_lexer": "ipython3",
   "version": "3.6.3"
  }
 },
 "nbformat": 4,
 "nbformat_minor": 2
}
