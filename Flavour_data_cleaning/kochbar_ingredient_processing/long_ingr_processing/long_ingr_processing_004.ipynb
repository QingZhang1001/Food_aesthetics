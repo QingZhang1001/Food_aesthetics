{
 "cells": [
  {
   "cell_type": "code",
   "execution_count": 109,
   "metadata": {},
   "outputs": [
    {
     "name": "stderr",
     "output_type": "stream",
     "text": [
      "[nltk_data] Downloading package averaged_perceptron_tagger to\n",
      "[nltk_data]     /home/IW_student/nltk_data...\n",
      "[nltk_data]   Package averaged_perceptron_tagger is already up-to-\n",
      "[nltk_data]       date!\n"
     ]
    }
   ],
   "source": [
    "import pandas as pd\n",
    "import numpy as np\n",
    "import os\n",
    "import re\n",
    "\n",
    "import nltk\n",
    "nltk.download('averaged_perceptron_tagger')\n",
    "from nltk import word_tokenize, pos_tag\n",
    "from nltk.corpus import wordnet\n",
    "from nltk.stem import WordNetLemmatizer"
   ]
  },
  {
   "cell_type": "code",
   "execution_count": 110,
   "metadata": {},
   "outputs": [
    {
     "data": {
      "text/plain": [
       "(1849, 5)"
      ]
     },
     "execution_count": 110,
     "metadata": {},
     "output_type": "execute_result"
    }
   ],
   "source": [
    "long_ingr=pd.read_csv('~/work/food_flavor/kochbar_ingredient_preprocessing/datasets/long_ingr_data/sub_long_ingr_data/long_ingr_ge_003.csv',index_col=0)\n",
    "long_ingr.shape"
   ]
  },
  {
   "cell_type": "code",
   "execution_count": 111,
   "metadata": {},
   "outputs": [
    {
     "data": {
      "text/html": [
       "<div>\n",
       "<style scoped>\n",
       "    .dataframe tbody tr th:only-of-type {\n",
       "        vertical-align: middle;\n",
       "    }\n",
       "\n",
       "    .dataframe tbody tr th {\n",
       "        vertical-align: top;\n",
       "    }\n",
       "\n",
       "    .dataframe thead th {\n",
       "        text-align: right;\n",
       "    }\n",
       "</style>\n",
       "<table border=\"1\" class=\"dataframe\">\n",
       "  <thead>\n",
       "    <tr style=\"text-align: right;\">\n",
       "      <th></th>\n",
       "      <th>recipe_id</th>\n",
       "      <th>recipe_href</th>\n",
       "      <th>name</th>\n",
       "      <th>ingredient_name</th>\n",
       "      <th>en_ingr</th>\n",
       "    </tr>\n",
       "  </thead>\n",
       "  <tbody>\n",
       "    <tr>\n",
       "      <th>1821</th>\n",
       "      <td>27351</td>\n",
       "      <td>/rezept/437163/Haehnchen-mit-scharfem-Paprikak...</td>\n",
       "      <td>gutgeräuchert auf dem bildpaprikaknacker,falls...</td>\n",
       "      <td>gutgeräuchert auf dem bildpaprikaknacker</td>\n",
       "      <td>wellsmoked picture pepper cracker</td>\n",
       "    </tr>\n",
       "  </tbody>\n",
       "</table>\n",
       "</div>"
      ],
      "text/plain": [
       "      recipe_id                                        recipe_href  \\\n",
       "1821      27351  /rezept/437163/Haehnchen-mit-scharfem-Paprikak...   \n",
       "\n",
       "                                                   name  \\\n",
       "1821  gutgeräuchert auf dem bildpaprikaknacker,falls...   \n",
       "\n",
       "                               ingredient_name  \\\n",
       "1821  gutgeräuchert auf dem bildpaprikaknacker   \n",
       "\n",
       "                                en_ingr  \n",
       "1821  wellsmoked picture pepper cracker  "
      ]
     },
     "execution_count": 111,
     "metadata": {},
     "output_type": "execute_result"
    }
   ],
   "source": [
    "long_ingr[long_ingr['recipe_id']==27351]"
   ]
  },
  {
   "cell_type": "code",
   "execution_count": 3,
   "metadata": {},
   "outputs": [],
   "source": [
    "long_ingr.drop('en_ingr',axis=1,inplace=True)"
   ]
  },
  {
   "cell_type": "code",
   "execution_count": 4,
   "metadata": {},
   "outputs": [],
   "source": [
    "long_ingr=long_ingr.assign(ingredient_name=long_ingr['ingredient_name'].str.split(',')).explode('ingredient_name')"
   ]
  },
  {
   "cell_type": "code",
   "execution_count": 5,
   "metadata": {},
   "outputs": [],
   "source": [
    "# load data frome here!!!\n",
    "long_ingr.reset_index(drop=True,inplace=True)"
   ]
  },
  {
   "cell_type": "code",
   "execution_count": 6,
   "metadata": {},
   "outputs": [
    {
     "data": {
      "text/plain": [
       "(153, 4)"
      ]
     },
     "execution_count": 6,
     "metadata": {},
     "output_type": "execute_result"
    }
   ],
   "source": [
    "long_three_ingr=long_ingr[long_ingr['ingredient_name'].str.split().str.len()==3]\n",
    "long_three_ingr.shape"
   ]
  },
  {
   "cell_type": "code",
   "execution_count": 7,
   "metadata": {},
   "outputs": [
    {
     "data": {
      "text/html": [
       "<div>\n",
       "<style scoped>\n",
       "    .dataframe tbody tr th:only-of-type {\n",
       "        vertical-align: middle;\n",
       "    }\n",
       "\n",
       "    .dataframe tbody tr th {\n",
       "        vertical-align: top;\n",
       "    }\n",
       "\n",
       "    .dataframe thead th {\n",
       "        text-align: right;\n",
       "    }\n",
       "</style>\n",
       "<table border=\"1\" class=\"dataframe\">\n",
       "  <thead>\n",
       "    <tr style=\"text-align: right;\">\n",
       "      <th></th>\n",
       "      <th>recipe_id</th>\n",
       "      <th>recipe_href</th>\n",
       "      <th>name</th>\n",
       "      <th>ingredient_name</th>\n",
       "    </tr>\n",
       "  </thead>\n",
       "  <tbody>\n",
       "    <tr>\n",
       "      <th>20</th>\n",
       "      <td>92629</td>\n",
       "      <td>/rezept/90278/Nudel-Kaese-Salat-mit-Coktailtom...</td>\n",
       "      <td>salatgenuss extra leichtz.b. von du darfst</td>\n",
       "      <td>salatgenuss extra leicht</td>\n",
       "    </tr>\n",
       "    <tr>\n",
       "      <th>29</th>\n",
       "      <td>47970</td>\n",
       "      <td>/rezept/110769/Roter-Gefluegelsalat.html</td>\n",
       "      <td>brathähnchen fleisch mithaut tiefgefroren</td>\n",
       "      <td>brathähnchen fleisch  tiefgefroren</td>\n",
       "    </tr>\n",
       "    <tr>\n",
       "      <th>38</th>\n",
       "      <td>42365</td>\n",
       "      <td>/rezept/402197/ROOIE-ZALM.html</td>\n",
       "      <td>pfeffer muskatnuss aus dermühle schwarz</td>\n",
       "      <td>pfeffer muskatnuss  schwarz</td>\n",
       "    </tr>\n",
       "    <tr>\n",
       "      <th>52</th>\n",
       "      <td>54530</td>\n",
       "      <td>/rezept/378323/Jaegerpfanne.html</td>\n",
       "      <td>suppenwürfel - klare suppemit suppengrün</td>\n",
       "      <td>klare suppemit suppengrün</td>\n",
       "    </tr>\n",
       "    <tr>\n",
       "      <th>78</th>\n",
       "      <td>98278</td>\n",
       "      <td>/rezept/465055/Gelbe-Bohnen-mit-Mehlnockerln.html</td>\n",
       "      <td>gelbe breite bohnen -tk,blanchiert</td>\n",
       "      <td>gelbe breite bohnen</td>\n",
       "    </tr>\n",
       "    <tr>\n",
       "      <th>...</th>\n",
       "      <td>...</td>\n",
       "      <td>...</td>\n",
       "      <td>...</td>\n",
       "      <td>...</td>\n",
       "    </tr>\n",
       "    <tr>\n",
       "      <th>1847</th>\n",
       "      <td>15875</td>\n",
       "      <td>/rezept/435661/Ofenspargel-mit-Speck-an-karame...</td>\n",
       "      <td>wie der ofenspargel - nurohne salz</td>\n",
       "      <td>wie der ofenspargel</td>\n",
       "    </tr>\n",
       "    <tr>\n",
       "      <th>1857</th>\n",
       "      <td>86451</td>\n",
       "      <td>/rezept/308177/Zuercher-Geschnetzeltes-mit-Roe...</td>\n",
       "      <td>kalbfleisch z.b nuss in ca.1 cm breite streife...</td>\n",
       "      <td>kalbfleisch z.b nuss</td>\n",
       "    </tr>\n",
       "    <tr>\n",
       "      <th>1859</th>\n",
       "      <td>94041</td>\n",
       "      <td>/rezept/54351/Gyros-Suppe.html</td>\n",
       "      <td>zwiebelsuppe von maggimeiserklasse für 3/4 ltr...</td>\n",
       "      <td>zwiebelsuppe von maggimeiserklasse</td>\n",
       "    </tr>\n",
       "    <tr>\n",
       "      <th>1889</th>\n",
       "      <td>13559</td>\n",
       "      <td>/rezept/451671/Huehnerbrustragout-mit-Champign...</td>\n",
       "      <td>reis mit gebratenenreisnudeln - rezept inmeine...</td>\n",
       "      <td>reis mit gebratenenreisnudeln</td>\n",
       "    </tr>\n",
       "    <tr>\n",
       "      <th>1893</th>\n",
       "      <td>61058</td>\n",
       "      <td>/rezept/500202/Doppelstoeckige-Schokoladentort...</td>\n",
       "      <td>candurin goldpulver hierhatte ich daskaramellf...</td>\n",
       "      <td>candurin goldpulver hierhatte</td>\n",
       "    </tr>\n",
       "  </tbody>\n",
       "</table>\n",
       "<p>153 rows × 4 columns</p>\n",
       "</div>"
      ],
      "text/plain": [
       "      recipe_id                                        recipe_href  \\\n",
       "20        92629  /rezept/90278/Nudel-Kaese-Salat-mit-Coktailtom...   \n",
       "29        47970           /rezept/110769/Roter-Gefluegelsalat.html   \n",
       "38        42365                     /rezept/402197/ROOIE-ZALM.html   \n",
       "52        54530                   /rezept/378323/Jaegerpfanne.html   \n",
       "78        98278  /rezept/465055/Gelbe-Bohnen-mit-Mehlnockerln.html   \n",
       "...         ...                                                ...   \n",
       "1847      15875  /rezept/435661/Ofenspargel-mit-Speck-an-karame...   \n",
       "1857      86451  /rezept/308177/Zuercher-Geschnetzeltes-mit-Roe...   \n",
       "1859      94041                     /rezept/54351/Gyros-Suppe.html   \n",
       "1889      13559  /rezept/451671/Huehnerbrustragout-mit-Champign...   \n",
       "1893      61058  /rezept/500202/Doppelstoeckige-Schokoladentort...   \n",
       "\n",
       "                                                   name  \\\n",
       "20           salatgenuss extra leichtz.b. von du darfst   \n",
       "29            brathähnchen fleisch mithaut tiefgefroren   \n",
       "38              pfeffer muskatnuss aus dermühle schwarz   \n",
       "52             suppenwürfel - klare suppemit suppengrün   \n",
       "78                   gelbe breite bohnen -tk,blanchiert   \n",
       "...                                                 ...   \n",
       "1847                 wie der ofenspargel - nurohne salz   \n",
       "1857  kalbfleisch z.b nuss in ca.1 cm breite streife...   \n",
       "1859  zwiebelsuppe von maggimeiserklasse für 3/4 ltr...   \n",
       "1889  reis mit gebratenenreisnudeln - rezept inmeine...   \n",
       "1893  candurin goldpulver hierhatte ich daskaramellf...   \n",
       "\n",
       "                         ingredient_name  \n",
       "20              salatgenuss extra leicht  \n",
       "29    brathähnchen fleisch  tiefgefroren  \n",
       "38           pfeffer muskatnuss  schwarz  \n",
       "52             klare suppemit suppengrün  \n",
       "78                   gelbe breite bohnen  \n",
       "...                                  ...  \n",
       "1847                 wie der ofenspargel  \n",
       "1857                kalbfleisch z.b nuss  \n",
       "1859  zwiebelsuppe von maggimeiserklasse  \n",
       "1889       reis mit gebratenenreisnudeln  \n",
       "1893       candurin goldpulver hierhatte  \n",
       "\n",
       "[153 rows x 4 columns]"
      ]
     },
     "execution_count": 7,
     "metadata": {},
     "output_type": "execute_result"
    }
   ],
   "source": [
    "long_three_ingr"
   ]
  },
  {
   "cell_type": "code",
   "execution_count": 8,
   "metadata": {},
   "outputs": [
    {
     "data": {
      "text/plain": [
       "150"
      ]
     },
     "execution_count": 8,
     "metadata": {},
     "output_type": "execute_result"
    }
   ],
   "source": [
    "long_three_ingrs=list(set(long_three_ingr['ingredient_name'].values.tolist()))\n",
    "len(long_three_ingrs)"
   ]
  },
  {
   "cell_type": "code",
   "execution_count": 9,
   "metadata": {
    "collapsed": true,
    "jupyter": {
     "outputs_hidden": true
    }
   },
   "outputs": [
    {
     "data": {
      "text/plain": [
       "['1 tüteentspricht 5',\n",
       " '10 stueckohe haut',\n",
       " '2 tl paprikapulver',\n",
       " '200gr. bergkäse untermischen',\n",
       " 'african zulu dipp',\n",
       " 'amerikan cookies dunkel',\n",
       " 'back trenn spray',\n",
       " 'backzeit im umluftofen',\n",
       " 'basilikumsauce mitcrème fraîche',\n",
       " 'batida de coco',\n",
       " 'bei anderenkürbisarten siehebeschreibung',\n",
       " 'blattgelantiene 6 blatt',\n",
       " 'bouillon 2 huhn',\n",
       " 'bouillon pur  knorr',\n",
       " 'brathähnchen fleisch  frisch',\n",
       " 'brathähnchen fleisch  tiefgefroren',\n",
       " 'buco der sahnige',\n",
       " 'candurin goldpulver hierhatte',\n",
       " 'chili bitte nur',\n",
       " 'chili gruen gehackt',\n",
       " 'creme fraiche fürdeko',\n",
       " 'dieäusseren blätter entfernt',\n",
       " 'dr. oetker dessert',\n",
       " 'dr. oetker götterspeisehimbeer',\n",
       " 'dr. oetker paradiescreme',\n",
       " 'dr. oetker puddingpulversahnegeschmack',\n",
       " 'dr. oetker vanillesosse',\n",
       " 'dr. oetker vanillin',\n",
       " 'dunkler bisquitboden 2xgeschniten',\n",
       " 'dunkler wienerboden 2xgeschnitten',\n",
       " 'ein esslöffelweissen balsamico',\n",
       " 'ein schuss hellerbalsamico',\n",
       " 'eingelegter grüner pfeffer',\n",
       " 'einige blätter liebstöckel',\n",
       " 'einpaar spritzer chilliölnur',\n",
       " 'erdnussöl es geht',\n",
       " 'essig weisswein essig',\n",
       " 'festes weisses fischfilet',\n",
       " 'flaschen guinnes irisch.bier',\n",
       " 'fleischbrühe von knorr',\n",
       " 'frische deutsche putenbrust',\n",
       " 'frische dicke schweinerippe',\n",
       " 'frucht nuss schokolatetafeln',\n",
       " 'fürerdbeerkonfitüre von dr.oetker',\n",
       " 'galetta instant vanillepudding',\n",
       " 'gefüllte kartoffeltaschenmit frischkäse',\n",
       " 'gelbe breite bohnen',\n",
       " 'gelbe ganze tomaten',\n",
       " 'gem. beeren  himbeeren',\n",
       " 'gemüse frisch stifte',\n",
       " 'gemüsebrühpulver eigeneherstellung! ersatzweisegekaufte',\n",
       " 'gemüsemischungcalifornische art mitsonnenblumenkerne',\n",
       " 'gemüsezwiebel frisch auchschlachter',\n",
       " 'gepökelter schinkenbraten vomschwäbisch',\n",
       " 'geriebenen käse holländernehme',\n",
       " 'germ od. oetkerdauerbackhefe',\n",
       " 'geröstete rote paprika',\n",
       " 'ginger garlic paste',\n",
       " 'gr blaue weintraubenhalbiert',\n",
       " 'grana padano parmesan',\n",
       " 'groberpfeffer der mühle',\n",
       " 'grüne heringsfileets gefroren',\n",
       " 'gulaschcreme im internetkäuflich',\n",
       " 'gulaschfleisch zbsp rind',\n",
       " 'hackepeterfertig gewürzt mitknoblauch',\n",
       " 'herbe sahne schokolade',\n",
       " 'hähnchenbrust gedünstet übrig',\n",
       " 'kalbfleisch z.b nuss',\n",
       " 'keramikschale mit heissemwasser',\n",
       " 'kikkoman teriyaki marinade',\n",
       " 'klare suppemit suppengrün',\n",
       " 'kleine schokoküssefür deko',\n",
       " 'klösse von gekochtenkartoffeln',\n",
       " 'knoblauchzwiebeln mit demgrün',\n",
       " 'konfitüre gelee marmeladen',\n",
       " 'kovertüre hell dunkel',\n",
       " 'kräutersalz n. b',\n",
       " 'kurkuma gewürz gemahlen',\n",
       " 'latte macchiato getränk',\n",
       " 'leber nach wahl...',\n",
       " 'lebkuchen mit schokoglasur',\n",
       " 'maggi klare brühe',\n",
       " 'maggi würze flüssig',\n",
       " 'mandel süss gem.',\n",
       " 'mischgemüse 69 kcal',\n",
       " 'mit je 2lammkoteletts',\n",
       " 'möhren 420 gabtropfgewicht',\n",
       " 'paniermehl  umfeuchtigkeit aufzunehmen',\n",
       " 'paprika grün ...',\n",
       " 'parmesanod. anderer hartkäse',\n",
       " 'pfeffer muskatnuss  schwarz',\n",
       " 'pfefferaus der mühle',\n",
       " 'philadelphia frisch kaese',\n",
       " 'pizzateig mit sosse',\n",
       " 'pok choi choy',\n",
       " 'prik kee noo',\n",
       " 'prise gemahlener anis',\n",
       " 'pudding von dr.oetker',\n",
       " 'pulver vonz.b. knorr',\n",
       " 'putenunterkeulen frischvom geflügelhof',\n",
       " 'rama cremfine 7%',\n",
       " 'red thai curry',\n",
       " 'reichlich bunter pfeffer',\n",
       " 'reis mit gebratenenreisnudeln',\n",
       " 'rettichrose mit piri',\n",
       " 'rezept pizza basisteig',\n",
       " 'rinderbrühe mit fleisch',\n",
       " 'rindfleisch schulter od.wadschinken',\n",
       " 'rosmarin knoblauch öl',\n",
       " 'rostbratwürste hautabziehen u.',\n",
       " 'rote grütze pulver',\n",
       " 'roter traubensaft gespritzt',\n",
       " 'rotweinessig mitestragon aromatisiert',\n",
       " 'rum aroma öl',\n",
       " 'sahne überlassen vom',\n",
       " 'saitenwürstchen hier sagtman',\n",
       " 'salatgenuss extra leicht',\n",
       " 'salatsosse  fixitalienische art',\n",
       " 'salzwasser mit zucker',\n",
       " 'sauerkirsche gut abgetropft',\n",
       " 'saure sahne stichfest',\n",
       " 'schwarzen pfeffergekörnte brühe',\n",
       " 'schwein keule frisch',\n",
       " 'schweineschulter ohneknochen  duroc',\n",
       " 'sind auchhalbierte cocktailtomaten',\n",
       " 'sossenpulver vanille für1',\n",
       " 'spanischerunzelkartoffeln – p',\n",
       " 'spice oriental fridabella',\n",
       " 'spritzer tabasco nachgeschmack',\n",
       " 'suppe ider weisswein',\n",
       " 'suppenhuhn fleisch frisch',\n",
       " 'tomaten gewürfelt sorrynicht',\n",
       " 'tomatensauce mit kräutern',\n",
       " 'tortellini gefüllt mitspinat',\n",
       " 'tropfen rote farbe',\n",
       " 'türkischepaprikapaste siehe foto',\n",
       " 'türkisches grillgewürzdöner baharat',\n",
       " 'um imeierschneider zerkleinernauch',\n",
       " 'wasser od. hühnerbrühe',\n",
       " 'weisser nougat mithaselnüssen',\n",
       " 'weisskohl geht genauso',\n",
       " 'welsfiletersatzweise anderesfestfleischiges fischfilet',\n",
       " 'wie der ofenspargel',\n",
       " 'winterkabeljau a`250 gramm',\n",
       " 'zucker 1prise salz',\n",
       " 'zucker bei bedarf',\n",
       " 'zwiebel grob gewürfelt',\n",
       " 'zwiebelsuppe von maggimeiserklasse',\n",
       " 'zwoi bärle seute',\n",
       " 'öl bzw. butterschmalz']"
      ]
     },
     "execution_count": 9,
     "metadata": {},
     "output_type": "execute_result"
    }
   ],
   "source": [
    "long_three_ingrs.sort()\n",
    "long_three_ingrs"
   ]
  },
  {
   "cell_type": "code",
   "execution_count": 10,
   "metadata": {},
   "outputs": [],
   "source": [
    "# total delete\n",
    "delete_whole=['1 tüteentspricht 5','10 stueckohe haut','backzeit im umluftofen','bei anderenkürbisarten siehebeschreibung',\n",
    "'frisch','tiefgefroren','candurin goldpulver hierhatte','dieäusseren blätter entfernt','fürerdbeerkonfitüre von dr.oetker',\n",
    "'keramikschale mit heissemwasser','leber nach wahl...','tropfen rote farbe', 'um imeierschneider zerkleinernauch']"
   ]
  },
  {
   "cell_type": "code",
   "execution_count": 11,
   "metadata": {},
   "outputs": [],
   "source": [
    "long_three_ingr=long_three_ingr[~long_three_ingr['ingredient_name'].isin(delete_whole)]"
   ]
  },
  {
   "cell_type": "code",
   "execution_count": 12,
   "metadata": {},
   "outputs": [],
   "source": [
    "# word delete\n",
    "delete_words=['2 tl','untermischen','200gr.','6 blatt','bitte','nur','gehackt','gruen','fürdeko','dr. oetker','einige blätter',\n",
    "'einpaar','es geht','festes','flaschen guinnes','von knorr','frische','dicke','deutsche','instant','galetta',\n",
    "'gefüllte','ganze','stifte','frisch','eigeneherstellung','ersatzweisegekaufte','auchschlachter','gepökelter',\n",
    "'vomschwäbisch','geriebenen','geröstete','der mühle','gefroren','zbsp','hackepeterfertig',\n",
    "'gewürzt','übrig','gedünstet','heissemwasser','kleine','deko','klösse','von','demgrün','getränk','69 kcal',\n",
    "'420 gabtropfgewicht','umfeuchtigkeit','aufzunehmen','prise','von dr.oetker','vonz.b. knorr','frischvom','geflügelhof',\n",
    "'reichlich','hautabziehen u.','gespritzt','überlassen','vom','hier','sagtman','extra','leicht','fixitalienische','art',\n",
    "'gut','abgetropft','stichfest','ohneknochen','duroc','sind','auchhalbierte','für1','fridabella','nachgeschmack',\n",
    "'spritzer','ider','gewürfelt','sorrynicht','gefüllt','siehe','foto','türkisches','geht','genauso','wie','der',\n",
    "'a`250','gramm','1prise','bei bedarf','grob','gewürfelt','von maggimeiserklasse','tiefgefroren','gemahlener',\n",
    "'gemahlen']"
   ]
  },
  {
   "cell_type": "code",
   "execution_count": 13,
   "metadata": {},
   "outputs": [],
   "source": [
    "def del_words(ingredient):\n",
    "    no_words=' '.join([c for c in ingredient.split() if c not in delete_words])\n",
    "    return no_words"
   ]
  },
  {
   "cell_type": "code",
   "execution_count": 14,
   "metadata": {
    "collapsed": true,
    "jupyter": {
     "outputs_hidden": true
    }
   },
   "outputs": [
    {
     "name": "stderr",
     "output_type": "stream",
     "text": [
      "/opt/conda/lib/python3.6/site-packages/ipykernel_launcher.py:1: SettingWithCopyWarning: \n",
      "A value is trying to be set on a copy of a slice from a DataFrame.\n",
      "Try using .loc[row_indexer,col_indexer] = value instead\n",
      "\n",
      "See the caveats in the documentation: https://pandas.pydata.org/pandas-docs/stable/user_guide/indexing.html#returning-a-view-versus-a-copy\n",
      "  \"\"\"Entry point for launching an IPython kernel.\n"
     ]
    }
   ],
   "source": [
    "long_three_ingr['ingredient_name']=long_three_ingr['ingredient_name'].apply(lambda x:del_words(x))"
   ]
  },
  {
   "cell_type": "code",
   "execution_count": 15,
   "metadata": {},
   "outputs": [],
   "source": [
    "long_three_ingr.reset_index(drop=True,inplace=True)"
   ]
  },
  {
   "cell_type": "code",
   "execution_count": 16,
   "metadata": {},
   "outputs": [],
   "source": [
    "# part delete\n",
    "delete_parts=['2 tl','ein esslöffel','ein schuss helle','eingelegter','halbiert','grober','gekochten','mit je 2l','aus der mühle',\n",
    "'gekörnte','6 blatt','69 kcal','420 gabtropfgewicht','bei bedarf','einige blätter','im internetkäuflich','eigeneherstellung!',\n",
    "'nehme','dr.oetker','vonz.b. knorr','dr. oetker']"
   ]
  },
  {
   "cell_type": "code",
   "execution_count": 17,
   "metadata": {
    "collapsed": true,
    "jupyter": {
     "outputs_hidden": true
    }
   },
   "outputs": [
    {
     "name": "stderr",
     "output_type": "stream",
     "text": [
      "/opt/conda/lib/python3.6/site-packages/pandas/core/indexing.py:1765: SettingWithCopyWarning: \n",
      "A value is trying to be set on a copy of a slice from a DataFrame.\n",
      "Try using .loc[row_indexer,col_indexer] = value instead\n",
      "\n",
      "See the caveats in the documentation: https://pandas.pydata.org/pandas-docs/stable/user_guide/indexing.html#returning-a-view-versus-a-copy\n",
      "  isetter(loc, value)\n"
     ]
    }
   ],
   "source": [
    "for part in delete_parts:\n",
    "    for index, row in long_three_ingr.iterrows():\n",
    "        if re.search(part,row.ingredient_name)!=None:\n",
    "            long_three_ingr.loc[index,'ingredient_name']=re.sub(part,'',row.ingredient_name)"
   ]
  },
  {
   "cell_type": "code",
   "execution_count": 18,
   "metadata": {},
   "outputs": [
    {
     "name": "stderr",
     "output_type": "stream",
     "text": [
      "/opt/conda/lib/python3.6/site-packages/ipykernel_launcher.py:1: SettingWithCopyWarning: \n",
      "A value is trying to be set on a copy of a slice from a DataFrame.\n",
      "Try using .loc[row_indexer,col_indexer] = value instead\n",
      "\n",
      "See the caveats in the documentation: https://pandas.pydata.org/pandas-docs/stable/user_guide/indexing.html#returning-a-view-versus-a-copy\n",
      "  \"\"\"Entry point for launching an IPython kernel.\n"
     ]
    }
   ],
   "source": [
    "long_three_ingr['ingredient_name']=long_three_ingr['ingredient_name'].str.strip()"
   ]
  },
  {
   "cell_type": "code",
   "execution_count": 19,
   "metadata": {},
   "outputs": [
    {
     "data": {
      "text/plain": [
       "137"
      ]
     },
     "execution_count": 19,
     "metadata": {},
     "output_type": "execute_result"
    }
   ],
   "source": [
    "long_three_ingrs=list(set(long_three_ingr['ingredient_name'].values.tolist()))\n",
    "len(long_three_ingrs)"
   ]
  },
  {
   "cell_type": "code",
   "execution_count": 20,
   "metadata": {
    "collapsed": true,
    "jupyter": {
     "outputs_hidden": true
    }
   },
   "outputs": [
    {
     "data": {
      "text/plain": [
       "['african zulu dipp',\n",
       " 'amerikan cookies dunkel',\n",
       " 'ammkoteletts',\n",
       " 'anis',\n",
       " 'back trenn spray',\n",
       " 'basilikumsauce mitcrème fraîche',\n",
       " 'batida de coco',\n",
       " 'bergkäse',\n",
       " 'blattgelantiene',\n",
       " 'bouillon 2 huhn',\n",
       " 'bouillon pur knorr',\n",
       " 'brathähnchen fleisch',\n",
       " 'buco sahnige',\n",
       " 'bunter pfeffer',\n",
       " 'chili',\n",
       " 'chilliölnur',\n",
       " 'cocktailtomaten',\n",
       " 'creme fraiche',\n",
       " 'dessert',\n",
       " 'dunkler bisquitboden 2xgeschniten',\n",
       " 'dunkler wienerboden 2xgeschnitten',\n",
       " 'erdnussöl es',\n",
       " 'essig weisswein essig',\n",
       " 'flaschen guinnes irisch.bier',\n",
       " 'fleischbrühe knorr',\n",
       " 'frucht nuss schokolatetafeln',\n",
       " 'gelbe breite bohnen',\n",
       " 'gelbe tomaten',\n",
       " 'gem. beeren himbeeren',\n",
       " 'gemüse',\n",
       " 'gemüsebrühpulver',\n",
       " 'gemüsemischungcalifornische mitsonnenblumenkerne',\n",
       " 'gemüsezwiebel',\n",
       " 'germ od. oetkerdauerbackhefe',\n",
       " 'ginger garlic paste',\n",
       " 'gr blaue weintrauben',\n",
       " 'grana padano parmesan',\n",
       " 'grillgewürzdöner baharat',\n",
       " 'grüne heringsfileets',\n",
       " 'grüner pfeffer',\n",
       " 'gulaschcreme',\n",
       " 'gulaschfleisch rind',\n",
       " 'götterspeisehimbeer',\n",
       " 'herbe sahne schokolade',\n",
       " 'hähnchenbrust',\n",
       " 'kalbfleisch z.b nuss',\n",
       " 'kartoffeln',\n",
       " 'kartoffeltaschenmit frischkäse',\n",
       " 'kikkoman teriyaki marinade',\n",
       " 'klare suppemit suppengrün',\n",
       " 'knoblauchzwiebeln mit',\n",
       " 'konfitüre gelee marmeladen',\n",
       " 'kovertüre hell dunkel',\n",
       " 'kräutersalz n. b',\n",
       " 'kurkuma gewürz',\n",
       " 'käse holländer',\n",
       " 'latte macchiato',\n",
       " 'lebkuchen mit schokoglasur',\n",
       " 'liebstöckel',\n",
       " 'maggi klare brühe',\n",
       " 'maggi würze flüssig',\n",
       " 'mandel süss gem.',\n",
       " 'mischgemüse',\n",
       " 'mitknoblauch',\n",
       " 'möhren',\n",
       " 'ofenspargel',\n",
       " 'paniermehl',\n",
       " 'paprika grün ...',\n",
       " 'paprikapulver',\n",
       " 'paradiescreme',\n",
       " 'parmesanod. anderer hartkäse',\n",
       " 'pfeffer muskatnuss schwarz',\n",
       " 'pfeffer mühle',\n",
       " 'pfefferaus mühle',\n",
       " 'philadelphia kaese',\n",
       " 'pizzateig mit sosse',\n",
       " 'pok choi choy',\n",
       " 'prik kee noo',\n",
       " 'pudding',\n",
       " 'puddingpulversahnegeschmack',\n",
       " 'pulver',\n",
       " 'putenbrust',\n",
       " 'putenunterkeulen',\n",
       " 'rama cremfine 7%',\n",
       " 'rbalsamico',\n",
       " 'red thai curry',\n",
       " 'reis mit gebratenenreisnudeln',\n",
       " 'rettichrose mit piri',\n",
       " 'rezept pizza basisteig',\n",
       " 'rinderbrühe mit fleisch',\n",
       " 'rindfleisch schulter od.wadschinken',\n",
       " 'rosmarin knoblauch öl',\n",
       " 'rostbratwürste hautabziehen u.',\n",
       " 'rote grütze pulver',\n",
       " 'rote paprika',\n",
       " 'roter traubensaft',\n",
       " 'rotweinessig mitestragon aromatisiert',\n",
       " 'rum aroma öl',\n",
       " 'sahne',\n",
       " 'saitenwürstchen',\n",
       " 'salatgenuss',\n",
       " 'salatsosse',\n",
       " 'salzwasser mit zucker',\n",
       " 'sauerkirsche',\n",
       " 'saure sahne',\n",
       " 'schinkenbraten',\n",
       " 'schokoküssefür',\n",
       " 'schwarzen pfeffer brühe',\n",
       " 'schwein keule',\n",
       " 'schweinerippe',\n",
       " 'schweineschulter',\n",
       " 'sossenpulver vanille',\n",
       " 'spanischerunzelkartoffeln – p',\n",
       " 'spice oriental',\n",
       " 'suppe weisswein',\n",
       " 'suppenhuhn fleisch',\n",
       " 'tabasco',\n",
       " 'tomaten',\n",
       " 'tomatensauce mit kräutern',\n",
       " 'tortellini mitspinat',\n",
       " 'türkischepaprikapaste',\n",
       " 'vanillepudding',\n",
       " 'vanillesosse',\n",
       " 'vanillin',\n",
       " 'wasser od. hühnerbrühe',\n",
       " 'weissen balsamico',\n",
       " 'weisser nougat mithaselnüssen',\n",
       " 'weisses fischfilet',\n",
       " 'weisskohl',\n",
       " 'welsfiletersatzweise anderesfestfleischiges fischfilet',\n",
       " 'winterkabeljau',\n",
       " 'zucker',\n",
       " 'zucker salz',\n",
       " 'zwiebel',\n",
       " 'zwiebelsuppe maggimeiserklasse',\n",
       " 'zwoi bärle seute',\n",
       " 'öl bzw. butterschmalz']"
      ]
     },
     "execution_count": 20,
     "metadata": {},
     "output_type": "execute_result"
    }
   ],
   "source": [
    "long_three_ingrs.sort()\n",
    "long_three_ingrs"
   ]
  },
  {
   "cell_type": "code",
   "execution_count": 21,
   "metadata": {},
   "outputs": [
    {
     "name": "stdout",
     "output_type": "stream",
     "text": [
      "env: GOOGLE_APPLICATION_CREDENTIALS=/home/IW_student/work/Ingredeints-translation-1d0aa41c5717.json\n"
     ]
    }
   ],
   "source": [
    "%env GOOGLE_APPLICATION_CREDENTIALS =/home/IW_student/work/Ingredeints-translation-1d0aa41c5717.json"
   ]
  },
  {
   "cell_type": "code",
   "execution_count": 22,
   "metadata": {},
   "outputs": [],
   "source": [
    "from google.cloud import translate_v2 as translate\n",
    "translate_client = translate.Client() # add environment varibale"
   ]
  },
  {
   "cell_type": "code",
   "execution_count": 23,
   "metadata": {},
   "outputs": [],
   "source": [
    "def translation(ingredient):\n",
    "    results=translate_client.translate(ingredient,target_language='en')\n",
    "    return results['translatedText']"
   ]
  },
  {
   "cell_type": "code",
   "execution_count": 24,
   "metadata": {},
   "outputs": [
    {
     "name": "stderr",
     "output_type": "stream",
     "text": [
      "/opt/conda/lib/python3.6/site-packages/ipykernel_launcher.py:1: SettingWithCopyWarning: \n",
      "A value is trying to be set on a copy of a slice from a DataFrame.\n",
      "Try using .loc[row_indexer,col_indexer] = value instead\n",
      "\n",
      "See the caveats in the documentation: https://pandas.pydata.org/pandas-docs/stable/user_guide/indexing.html#returning-a-view-versus-a-copy\n",
      "  \"\"\"Entry point for launching an IPython kernel.\n"
     ]
    }
   ],
   "source": [
    "long_three_ingr['en_ingr']=long_three_ingr['ingredient_name'].apply(lambda x:translation(x))"
   ]
  },
  {
   "cell_type": "code",
   "execution_count": 25,
   "metadata": {
    "collapsed": true,
    "jupyter": {
     "outputs_hidden": true
    }
   },
   "outputs": [
    {
     "data": {
      "text/html": [
       "<div>\n",
       "<style scoped>\n",
       "    .dataframe tbody tr th:only-of-type {\n",
       "        vertical-align: middle;\n",
       "    }\n",
       "\n",
       "    .dataframe tbody tr th {\n",
       "        vertical-align: top;\n",
       "    }\n",
       "\n",
       "    .dataframe thead th {\n",
       "        text-align: right;\n",
       "    }\n",
       "</style>\n",
       "<table border=\"1\" class=\"dataframe\">\n",
       "  <thead>\n",
       "    <tr style=\"text-align: right;\">\n",
       "      <th></th>\n",
       "      <th>recipe_id</th>\n",
       "      <th>recipe_href</th>\n",
       "      <th>name</th>\n",
       "      <th>ingredient_name</th>\n",
       "      <th>en_ingr</th>\n",
       "    </tr>\n",
       "  </thead>\n",
       "  <tbody>\n",
       "    <tr>\n",
       "      <th>0</th>\n",
       "      <td>92629</td>\n",
       "      <td>/rezept/90278/Nudel-Kaese-Salat-mit-Coktailtom...</td>\n",
       "      <td>salatgenuss extra leichtz.b. von du darfst</td>\n",
       "      <td>salatgenuss</td>\n",
       "      <td>salad enjoyment</td>\n",
       "    </tr>\n",
       "    <tr>\n",
       "      <th>1</th>\n",
       "      <td>47970</td>\n",
       "      <td>/rezept/110769/Roter-Gefluegelsalat.html</td>\n",
       "      <td>brathähnchen fleisch mithaut tiefgefroren</td>\n",
       "      <td>brathähnchen fleisch</td>\n",
       "      <td>fried chicken meat</td>\n",
       "    </tr>\n",
       "    <tr>\n",
       "      <th>2</th>\n",
       "      <td>42365</td>\n",
       "      <td>/rezept/402197/ROOIE-ZALM.html</td>\n",
       "      <td>pfeffer muskatnuss aus dermühle schwarz</td>\n",
       "      <td>pfeffer muskatnuss schwarz</td>\n",
       "      <td>pepper nutmeg black</td>\n",
       "    </tr>\n",
       "    <tr>\n",
       "      <th>3</th>\n",
       "      <td>54530</td>\n",
       "      <td>/rezept/378323/Jaegerpfanne.html</td>\n",
       "      <td>suppenwürfel - klare suppemit suppengrün</td>\n",
       "      <td>klare suppemit suppengrün</td>\n",
       "      <td>clear suppemit suppengrün</td>\n",
       "    </tr>\n",
       "    <tr>\n",
       "      <th>4</th>\n",
       "      <td>98278</td>\n",
       "      <td>/rezept/465055/Gelbe-Bohnen-mit-Mehlnockerln.html</td>\n",
       "      <td>gelbe breite bohnen -tk,blanchiert</td>\n",
       "      <td>gelbe breite bohnen</td>\n",
       "      <td>yellow broad beans</td>\n",
       "    </tr>\n",
       "    <tr>\n",
       "      <th>...</th>\n",
       "      <td>...</td>\n",
       "      <td>...</td>\n",
       "      <td>...</td>\n",
       "      <td>...</td>\n",
       "      <td>...</td>\n",
       "    </tr>\n",
       "    <tr>\n",
       "      <th>136</th>\n",
       "      <td>106216</td>\n",
       "      <td>/rezept/157015/Kebab-Salat.html</td>\n",
       "      <td>türkisches grillgewürz%x22döner baharat%x22 - ...</td>\n",
       "      <td>grillgewürzdöner baharat</td>\n",
       "      <td>grillgewürz</td>\n",
       "    </tr>\n",
       "    <tr>\n",
       "      <th>137</th>\n",
       "      <td>15875</td>\n",
       "      <td>/rezept/435661/Ofenspargel-mit-Speck-an-karame...</td>\n",
       "      <td>wie der ofenspargel - nurohne salz</td>\n",
       "      <td>ofenspargel</td>\n",
       "      <td>baked asparagus</td>\n",
       "    </tr>\n",
       "    <tr>\n",
       "      <th>138</th>\n",
       "      <td>86451</td>\n",
       "      <td>/rezept/308177/Zuercher-Geschnetzeltes-mit-Roe...</td>\n",
       "      <td>kalbfleisch z.b nuss in ca.1 cm breite streife...</td>\n",
       "      <td>kalbfleisch z.b nuss</td>\n",
       "      <td>veal e.g. nut</td>\n",
       "    </tr>\n",
       "    <tr>\n",
       "      <th>139</th>\n",
       "      <td>94041</td>\n",
       "      <td>/rezept/54351/Gyros-Suppe.html</td>\n",
       "      <td>zwiebelsuppe von maggimeiserklasse für 3/4 ltr...</td>\n",
       "      <td>zwiebelsuppe maggimeiserklasse</td>\n",
       "      <td>onion soup maggimier class</td>\n",
       "    </tr>\n",
       "    <tr>\n",
       "      <th>140</th>\n",
       "      <td>13559</td>\n",
       "      <td>/rezept/451671/Huehnerbrustragout-mit-Champign...</td>\n",
       "      <td>reis mit gebratenenreisnudeln - rezept inmeine...</td>\n",
       "      <td>reis mit gebratenenreisnudeln</td>\n",
       "      <td>rice with fried rice noodles</td>\n",
       "    </tr>\n",
       "  </tbody>\n",
       "</table>\n",
       "<p>141 rows × 5 columns</p>\n",
       "</div>"
      ],
      "text/plain": [
       "     recipe_id                                        recipe_href  \\\n",
       "0        92629  /rezept/90278/Nudel-Kaese-Salat-mit-Coktailtom...   \n",
       "1        47970           /rezept/110769/Roter-Gefluegelsalat.html   \n",
       "2        42365                     /rezept/402197/ROOIE-ZALM.html   \n",
       "3        54530                   /rezept/378323/Jaegerpfanne.html   \n",
       "4        98278  /rezept/465055/Gelbe-Bohnen-mit-Mehlnockerln.html   \n",
       "..         ...                                                ...   \n",
       "136     106216                    /rezept/157015/Kebab-Salat.html   \n",
       "137      15875  /rezept/435661/Ofenspargel-mit-Speck-an-karame...   \n",
       "138      86451  /rezept/308177/Zuercher-Geschnetzeltes-mit-Roe...   \n",
       "139      94041                     /rezept/54351/Gyros-Suppe.html   \n",
       "140      13559  /rezept/451671/Huehnerbrustragout-mit-Champign...   \n",
       "\n",
       "                                                  name  \\\n",
       "0           salatgenuss extra leichtz.b. von du darfst   \n",
       "1            brathähnchen fleisch mithaut tiefgefroren   \n",
       "2              pfeffer muskatnuss aus dermühle schwarz   \n",
       "3             suppenwürfel - klare suppemit suppengrün   \n",
       "4                   gelbe breite bohnen -tk,blanchiert   \n",
       "..                                                 ...   \n",
       "136  türkisches grillgewürz%x22döner baharat%x22 - ...   \n",
       "137                 wie der ofenspargel - nurohne salz   \n",
       "138  kalbfleisch z.b nuss in ca.1 cm breite streife...   \n",
       "139  zwiebelsuppe von maggimeiserklasse für 3/4 ltr...   \n",
       "140  reis mit gebratenenreisnudeln - rezept inmeine...   \n",
       "\n",
       "                    ingredient_name                       en_ingr  \n",
       "0                       salatgenuss               salad enjoyment  \n",
       "1              brathähnchen fleisch            fried chicken meat  \n",
       "2        pfeffer muskatnuss schwarz           pepper nutmeg black  \n",
       "3         klare suppemit suppengrün     clear suppemit suppengrün  \n",
       "4               gelbe breite bohnen            yellow broad beans  \n",
       "..                              ...                           ...  \n",
       "136        grillgewürzdöner baharat                   grillgewürz  \n",
       "137                     ofenspargel               baked asparagus  \n",
       "138            kalbfleisch z.b nuss                 veal e.g. nut  \n",
       "139  zwiebelsuppe maggimeiserklasse    onion soup maggimier class  \n",
       "140   reis mit gebratenenreisnudeln  rice with fried rice noodles  \n",
       "\n",
       "[141 rows x 5 columns]"
      ]
     },
     "execution_count": 25,
     "metadata": {},
     "output_type": "execute_result"
    }
   ],
   "source": [
    "long_three_ingr"
   ]
  },
  {
   "cell_type": "code",
   "execution_count": 26,
   "metadata": {},
   "outputs": [
    {
     "data": {
      "text/plain": [
       "136"
      ]
     },
     "execution_count": 26,
     "metadata": {},
     "output_type": "execute_result"
    }
   ],
   "source": [
    "long_three_ingr_en=list(set(long_three_ingr['en_ingr'].values.tolist()))\n",
    "len(long_three_ingr_en)"
   ]
  },
  {
   "cell_type": "code",
   "execution_count": 27,
   "metadata": {
    "collapsed": true,
    "jupyter": {
     "outputs_hidden": true
    }
   },
   "outputs": [
    {
     "data": {
      "text/plain": [
       "['Dark biscuit base cut twice',\n",
       " 'Red pepper',\n",
       " 'according to berries raspberries',\n",
       " 'african zulu dipp',\n",
       " 'american cookies dark',\n",
       " 'ammkoteletts',\n",
       " 'anis',\n",
       " 'back trenn spray',\n",
       " 'baked asparagus',\n",
       " 'basilica, fresh mitcream sauce',\n",
       " 'basketmehl',\n",
       " 'beef broth with meat',\n",
       " 'beef shoulder or wad ham',\n",
       " 'black pepper broth',\n",
       " 'bottles of guinnes irish beer',\n",
       " 'bouillon 2 chicken',\n",
       " 'carrots',\n",
       " 'catfish fillet alternatively other firm fleshy fish fillet',\n",
       " 'cheese dutch',\n",
       " 'chicken breast',\n",
       " 'chili',\n",
       " 'chilliölnur',\n",
       " 'chocolate kisses for',\n",
       " 'clear suppemit suppengrün',\n",
       " 'cocktailtomaten',\n",
       " 'coconut beat',\n",
       " 'colorful pepper',\n",
       " 'cover bright dark',\n",
       " 'cremfine branch 7%',\n",
       " 'dark wiener floor 2x cut',\n",
       " 'dessert',\n",
       " 'fried chicken meat',\n",
       " 'fruit nut chocolate bars',\n",
       " 'garlic bulbs with',\n",
       " 'gemüsemischungcalifornische mitsonnenblumenkerne',\n",
       " 'germ or oetker permanent yeast',\n",
       " 'ginger garlic paste',\n",
       " 'gingerbread with chocolate icing',\n",
       " 'goulash beef',\n",
       " 'goulash cream',\n",
       " 'gr blue grapes',\n",
       " 'green herring fillets',\n",
       " 'green pepper',\n",
       " 'grillgewürz',\n",
       " 'herb salt n. b',\n",
       " 'jam jam jams',\n",
       " 'kikkoman teriyaki marinade',\n",
       " 'leaf gelantiene',\n",
       " 'lovage',\n",
       " 'maggi clear broth',\n",
       " 'maggi wort liquid',\n",
       " 'meat broth knorr',\n",
       " 'milk with coffee',\n",
       " 'mixed vegetables',\n",
       " 'mountain cheese',\n",
       " 'oil or clarified butter',\n",
       " 'onion',\n",
       " 'onion soup maggimier class',\n",
       " 'paprika green ...',\n",
       " 'paprika powder',\n",
       " 'paradiescreme',\n",
       " 'parmesan grana padano',\n",
       " 'parmesanod. other hard cheese',\n",
       " 'peanut oil it',\n",
       " 'pepper from mill',\n",
       " 'pepper mill',\n",
       " 'pepper nutmeg black',\n",
       " 'philadelphia kaese',\n",
       " 'pig leg',\n",
       " 'pizza dough with sauce',\n",
       " 'pok choi choy',\n",
       " 'pork rib',\n",
       " 'pork shoulder',\n",
       " 'potato pockets with cream cheese',\n",
       " 'potatoes',\n",
       " 'powder',\n",
       " 'prik kee noo',\n",
       " 'pudding',\n",
       " 'puddingpulversahnegeschmack',\n",
       " 'pure knorr bouillon',\n",
       " 'radish rose with piri',\n",
       " 'raspberry',\n",
       " 'rbalsamic',\n",
       " 'recipe pizza base dough',\n",
       " 'red grape juice',\n",
       " 'red groats powder',\n",
       " 'red thai curry',\n",
       " 'red wine vinegar flavored with mitestragon',\n",
       " 'rice with fried rice noodles',\n",
       " 'roast ham',\n",
       " 'rosemary garlic oil',\n",
       " 'rum aroma oil',\n",
       " 'sahnige hole',\n",
       " 'saiten würstchen',\n",
       " 'salad enjoyment',\n",
       " 'salatsosse',\n",
       " 'salt water with sugar',\n",
       " 'scene',\n",
       " 'sossenpulver vanilla',\n",
       " 'soup chicken meat',\n",
       " 'soup white wine',\n",
       " 'sour cherry',\n",
       " 'sour cream',\n",
       " 'spanischerunzelkartoffeln – p',\n",
       " 'spice oriental',\n",
       " 'sugar',\n",
       " 'sugar salt',\n",
       " 'sweet almond acc.',\n",
       " 'tabasco',\n",
       " 'tart cream chocolate',\n",
       " 'toast sausages to remove skin u.',\n",
       " 'tomato sauce with herbs',\n",
       " 'tomatoes',\n",
       " 'tortellini with spinach',\n",
       " 'turkey breast',\n",
       " 'turkey legs',\n",
       " 'turkish pepper paste',\n",
       " 'turmeric spice',\n",
       " 'two bears sack',\n",
       " 'vanillepudding',\n",
       " 'vanillesosse',\n",
       " 'vanillin',\n",
       " 'veal e.g. nut',\n",
       " 'vegetable onion',\n",
       " 'vegetable stock powder',\n",
       " 'vegetables',\n",
       " 'vinegar white wine vinegar',\n",
       " 'water or chicken broth',\n",
       " 'weisskohl',\n",
       " 'white balsamic',\n",
       " 'white fish fillet',\n",
       " 'white nougat with hazelnuts',\n",
       " 'winter cod',\n",
       " 'with garlic',\n",
       " 'yellow broad beans',\n",
       " 'yellow tomatoes']"
      ]
     },
     "execution_count": 27,
     "metadata": {},
     "output_type": "execute_result"
    }
   ],
   "source": [
    "long_three_ingr_en.sort()\n",
    "long_three_ingr_en"
   ]
  },
  {
   "cell_type": "code",
   "execution_count": 30,
   "metadata": {},
   "outputs": [],
   "source": [
    "# whole delete\n",
    "whole_delete=['cover bright dark','sahnige hole','two bears sack',]"
   ]
  },
  {
   "cell_type": "code",
   "execution_count": 47,
   "metadata": {},
   "outputs": [],
   "source": [
    "long_three_ingr=long_three_ingr[~long_three_ingr['en_ingr'].isin(whole_delete)]"
   ]
  },
  {
   "cell_type": "code",
   "execution_count": 31,
   "metadata": {},
   "outputs": [],
   "source": [
    "# part delete\n",
    "delete_parts=['according to','american','dark','baked','with meat','or wad ham','bottles of guinnes irish','alternatively other firm fleshy fish fillet',\n",
    "'fillet','clear suppemit','2x cut','bulbs with','germ or oetker permanent','gr blue','n. b','or clarified butter',\n",
    "'from mill','mill','to remove skin u.','two bears sack']"
   ]
  },
  {
   "cell_type": "code",
   "execution_count": 32,
   "metadata": {},
   "outputs": [],
   "source": [
    "long_three_ingr.reset_index(drop=True,inplace=True)"
   ]
  },
  {
   "cell_type": "code",
   "execution_count": 33,
   "metadata": {
    "collapsed": true,
    "jupyter": {
     "outputs_hidden": true
    }
   },
   "outputs": [
    {
     "name": "stderr",
     "output_type": "stream",
     "text": [
      "/opt/conda/lib/python3.6/site-packages/pandas/core/indexing.py:1765: SettingWithCopyWarning: \n",
      "A value is trying to be set on a copy of a slice from a DataFrame.\n",
      "Try using .loc[row_indexer,col_indexer] = value instead\n",
      "\n",
      "See the caveats in the documentation: https://pandas.pydata.org/pandas-docs/stable/user_guide/indexing.html#returning-a-view-versus-a-copy\n",
      "  isetter(loc, value)\n"
     ]
    }
   ],
   "source": [
    "for part in delete_parts:\n",
    "    for index, row in long_three_ingr.iterrows():\n",
    "        if re.search(part,row.en_ingr)!=None:\n",
    "            long_three_ingr.loc[index,'en_ingr']=re.sub(part,'',row.en_ingr)"
   ]
  },
  {
   "cell_type": "code",
   "execution_count": 34,
   "metadata": {},
   "outputs": [],
   "source": [
    "# word delete\n",
    "delete_words=['for','colorful','7%','fillets','maggi','knorr','it','pockets','powder','pure','enjoyment']"
   ]
  },
  {
   "cell_type": "code",
   "execution_count": 35,
   "metadata": {},
   "outputs": [],
   "source": [
    "def del_words(ingredient):\n",
    "    no_words=' '.join([c for c in ingredient.split() if c not in delete_words])\n",
    "    return no_words"
   ]
  },
  {
   "cell_type": "code",
   "execution_count": 36,
   "metadata": {
    "collapsed": true,
    "jupyter": {
     "outputs_hidden": true
    }
   },
   "outputs": [
    {
     "name": "stderr",
     "output_type": "stream",
     "text": [
      "/opt/conda/lib/python3.6/site-packages/ipykernel_launcher.py:1: SettingWithCopyWarning: \n",
      "A value is trying to be set on a copy of a slice from a DataFrame.\n",
      "Try using .loc[row_indexer,col_indexer] = value instead\n",
      "\n",
      "See the caveats in the documentation: https://pandas.pydata.org/pandas-docs/stable/user_guide/indexing.html#returning-a-view-versus-a-copy\n",
      "  \"\"\"Entry point for launching an IPython kernel.\n"
     ]
    }
   ],
   "source": [
    "long_three_ingr['en_ingr']=long_three_ingr['en_ingr'].apply(lambda x:del_words(x))"
   ]
  },
  {
   "cell_type": "code",
   "execution_count": 79,
   "metadata": {},
   "outputs": [
    {
     "data": {
      "text/plain": [
       "107"
      ]
     },
     "execution_count": 79,
     "metadata": {},
     "output_type": "execute_result"
    }
   ],
   "source": [
    "long_three_ingr_en=list(set(long_three_ingr['en_ingr'].values.tolist()))\n",
    "len(long_three_ingr_en)"
   ]
  },
  {
   "cell_type": "code",
   "execution_count": 80,
   "metadata": {
    "collapsed": true,
    "jupyter": {
     "outputs_hidden": true
    }
   },
   "outputs": [
    {
     "data": {
      "text/plain": [
       "['',\n",
       " 'Batida_de_coco',\n",
       " 'Cremefine',\n",
       " 'Paradiescreme',\n",
       " 'Teriyaki marinade',\n",
       " 'Wiener_tortenbode',\n",
       " 'african zulu dipp',\n",
       " 'almond',\n",
       " 'anis',\n",
       " 'asparagus',\n",
       " 'balsamic',\n",
       " 'basil_sauce,cream_sauce',\n",
       " 'beef',\n",
       " 'beer',\n",
       " 'bell pepper',\n",
       " 'bell_pepper',\n",
       " 'berry',\n",
       " 'biscuit',\n",
       " 'black pepper',\n",
       " 'bouillon',\n",
       " 'broad bean',\n",
       " 'broth',\n",
       " 'cabbage',\n",
       " 'carrots',\n",
       " 'catfish',\n",
       " 'cheese',\n",
       " 'cherry',\n",
       " 'chicken',\n",
       " 'chicken broth',\n",
       " 'chili',\n",
       " 'chili oil',\n",
       " 'chocolate',\n",
       " 'cocktail tomato',\n",
       " 'cod',\n",
       " 'cookies',\n",
       " 'cream',\n",
       " 'cream cheese',\n",
       " 'cream_pudding_powder',\n",
       " 'curry',\n",
       " 'dessert',\n",
       " 'dutch cheese',\n",
       " 'fish',\n",
       " 'flour',\n",
       " 'garlic',\n",
       " 'gelatin',\n",
       " 'ginger',\n",
       " 'ginger garlic paste',\n",
       " 'goulash cream',\n",
       " 'grape juice',\n",
       " 'grapes',\n",
       " 'herb salt',\n",
       " 'herring',\n",
       " 'jam',\n",
       " 'lovage',\n",
       " 'milk,coffee',\n",
       " 'mountain cheese',\n",
       " 'mutton',\n",
       " 'nougat,hazelnuts',\n",
       " 'oil',\n",
       " 'onion',\n",
       " 'onion soup',\n",
       " 'oriental spice',\n",
       " 'pak choy',\n",
       " 'paprika',\n",
       " 'peanut oil',\n",
       " 'pepper',\n",
       " 'pepper paste',\n",
       " 'pepper,nutmeg',\n",
       " 'pizza dough',\n",
       " 'pork',\n",
       " 'potato',\n",
       " 'potato,cream cheese',\n",
       " 'potatoes',\n",
       " 'pudding',\n",
       " 'radish,piri',\n",
       " 'raspberry',\n",
       " 'red wine vinegar',\n",
       " 'rice,rice noodle',\n",
       " 'roasted ham',\n",
       " 'rosemary garlic oil',\n",
       " 'rum aroma oil',\n",
       " 'salad',\n",
       " 'salat_sauce',\n",
       " 'salt,water,sugar',\n",
       " 'sausage',\n",
       " 'sausages',\n",
       " 'sour cream',\n",
       " 'spice',\n",
       " 'sugar',\n",
       " 'sugar,salt',\n",
       " 'tabasco',\n",
       " 'tomato',\n",
       " 'tomato sauce,herbs',\n",
       " 'tomatoes',\n",
       " 'tortellini,spinach',\n",
       " 'turkey',\n",
       " 'turmeric',\n",
       " 'vanilla',\n",
       " 'vanilla_pudding',\n",
       " 'vanilla_sauce',\n",
       " 'veal',\n",
       " 'vegetable',\n",
       " 'vegetable,sunflower seed',\n",
       " 'vegetables',\n",
       " 'white wine',\n",
       " 'white wine vinegar',\n",
       " 'yeast']"
      ]
     },
     "execution_count": 80,
     "metadata": {},
     "output_type": "execute_result"
    }
   ],
   "source": [
    "long_three_ingr_en.sort()\n",
    "long_three_ingr_en"
   ]
  },
  {
   "cell_type": "code",
   "execution_count": 78,
   "metadata": {
    "collapsed": true,
    "jupyter": {
     "outputs_hidden": true
    }
   },
   "outputs": [
    {
     "name": "stderr",
     "output_type": "stream",
     "text": [
      "/opt/conda/lib/python3.6/site-packages/ipykernel_launcher.py:1: SettingWithCopyWarning: \n",
      "A value is trying to be set on a copy of a slice from a DataFrame\n",
      "\n",
      "See the caveats in the documentation: https://pandas.pydata.org/pandas-docs/stable/user_guide/indexing.html#returning-a-view-versus-a-copy\n",
      "  \"\"\"Entry point for launching an IPython kernel.\n",
      "/opt/conda/lib/python3.6/site-packages/pandas/core/series.py:1020: SettingWithCopyWarning: \n",
      "A value is trying to be set on a copy of a slice from a DataFrame\n",
      "\n",
      "See the caveats in the documentation: https://pandas.pydata.org/pandas-docs/stable/user_guide/indexing.html#returning-a-view-versus-a-copy\n",
      "  self._where(~key, value, inplace=True)\n"
     ]
    }
   ],
   "source": [
    "long_three_ingr['en_ingr'][long_three_ingr['en_ingr']=='meat broth']='broth'"
   ]
  },
  {
   "cell_type": "code",
   "execution_count": 72,
   "metadata": {},
   "outputs": [],
   "source": [
    "# change_dict\n",
    "change_dict={'balsamic vinegar':'balsamic','basilica, fresh mitcream sauce':'basil_sauce,cream_sauce',\n",
    "             'berries raspberries':'berry','chicken bouillon':'chicken broth','coconut beat':'Batida_de_coco',\n",
    "             'cover bright':'','radish rose with piri':'radish,piri','red groats':'','salatsosse':'salat_sauce',\n",
    "             'salt water with sugar':'salt,water,sugar','soup white wine':'white wine','suppengrün':'vegetable',\n",
    "             'toast sausages':'sausages','veal e.g. nut':'veal','vegetable onion':'onion','vegetable stock':'vegetable',\n",
    "             'wiener floor':'Wiener_tortenbode',\n",
    "             'ammkoteletts':'mutton','basketmehl':'flour','black pepper broth':'black pepper','bouillon 2 chicken':'chicken bouillon',\n",
    " 'cheese dutch':'dutch cheese','chicken breast':'chicken','chilliölnur':'chili oil','chocolate kisses':'chocolate',\n",
    " 'clear broth':'broth','cocktailtomaten':'cocktail tomato','cremfiranch':'Cremefine','fried chicken meat':'chicken',\n",
    "'fruit nut chocolate bars':'chocolate','gemüsemischungcalifornische mitsonnenblumenkerne':'vegetable,sunflower seed',\n",
    "'gingerbread with chocolate icing':'ginger','green herring s':'herring','green pepper':'bell_pepper',\n",
    "'grillgewürz':'spice','kräutersalz':'seasoned salt','jam jam jams':'jam','kikkoman teriyaki marinade':'Teriyaki marinade',\n",
    "'leaf gelantiene':'gelatin','milk with coffee':'milk,coffee','mixed vegetables':'vegetables',\n",
    "'onion soup maggimier class':'onion soup','paprika green ...':'bell pepper','paradiescreme':'Paradiescreme',\n",
    "'parmesan grana padano':'cheese','parmesanod. other hard cheese':'cheese','pepper nutmeg black':'pepper,nutmeg',\n",
    "'philadelphia kaese':'cream cheese','pig leg':'pork','pizza dough with sauce':'pizza dough',\n",
    "'pok choi choy':'pak choy','potato with cream cheese':'potato,cream cheese','prik kee noo':'chili',\n",
    "'puddingpulversahnegeschmack':'cream_pudding_powder','rbalsamic':'balsamic vinegar','recipe pizza base dough':'pizza dough',\n",
    "'red grape juice':'grape juice','red thai curry':'curry','red wine vinegar flavored with mitestragon':'red wine vinegar',\n",
    " 'rice with fried rice noodles':'rice,rice noodle','roast ham':'roasted ham','saiten würstchen':'sausage',\n",
    " 'scene':'cream','sossenpulver vanilla':'vanilla_sauce','soup chicken meat':'chicken','sour cherry':'cherry',\n",
    "'spanischerunzelkartoffeln – p':'potato','spice oriental':'oriental spice','sugar salt':'sugar,salt',\n",
    " 'sweet almond acc.':'almond','tart cream chocolate':'chocolate','tomato sauce with herbs':'tomato sauce,herbs',\n",
    " 'tortellini with spinach':'tortellini,spinach','turkish pepper paste':'pepper paste','turmeric spice':'turmeric',\n",
    " 'vanillepudding':'vanilla_pudding','vanillesosse':'vanilla_sauce','vanillin':'vanilla',\n",
    " 'vinegar white wine vinegar':'white wine vinegar','water or chicken broth':'chicken broth',\n",
    " 'weisskohl':'cabbage','white balsamic':'balsamic vinegar','white fish':'fish','white nougat with hazelnuts':'nougat,hazelnuts',\n",
    " 'winter cod':'cod','with garlic':'garlic','wort liquid':'spice',\n",
    "            'Dark biscuit base cut twice':'biscuit','Red pepper':'bell_pepper','back trenn spray':'',\n",
    "            'yellow broad beans':'broad bean','yellow tomatoes':'tomato'}"
   ]
  },
  {
   "cell_type": "code",
   "execution_count": 73,
   "metadata": {},
   "outputs": [],
   "source": [
    "long_three_ingr.reset_index(drop=True,inplace=True)"
   ]
  },
  {
   "cell_type": "code",
   "execution_count": 74,
   "metadata": {
    "collapsed": true,
    "jupyter": {
     "outputs_hidden": true
    }
   },
   "outputs": [
    {
     "name": "stderr",
     "output_type": "stream",
     "text": [
      "/opt/conda/lib/python3.6/site-packages/pandas/core/indexing.py:1765: SettingWithCopyWarning: \n",
      "A value is trying to be set on a copy of a slice from a DataFrame.\n",
      "Try using .loc[row_indexer,col_indexer] = value instead\n",
      "\n",
      "See the caveats in the documentation: https://pandas.pydata.org/pandas-docs/stable/user_guide/indexing.html#returning-a-view-versus-a-copy\n",
      "  isetter(loc, value)\n"
     ]
    }
   ],
   "source": [
    "for k,v in change_dict.items():\n",
    "    for index,row in long_three_ingr.iterrows():\n",
    "        if re.search(k,row.en_ingr)!=None:\n",
    "            long_three_ingr.loc[index,'en_ingr']=v"
   ]
  },
  {
   "cell_type": "code",
   "execution_count": 83,
   "metadata": {
    "collapsed": true,
    "jupyter": {
     "outputs_hidden": true
    }
   },
   "outputs": [
    {
     "name": "stderr",
     "output_type": "stream",
     "text": [
      "/opt/conda/lib/python3.6/site-packages/ipykernel_launcher.py:1: SettingWithCopyWarning: \n",
      "A value is trying to be set on a copy of a slice from a DataFrame\n",
      "\n",
      "See the caveats in the documentation: https://pandas.pydata.org/pandas-docs/stable/user_guide/indexing.html#returning-a-view-versus-a-copy\n",
      "  \"\"\"Entry point for launching an IPython kernel.\n",
      "/opt/conda/lib/python3.6/site-packages/pandas/core/series.py:1020: SettingWithCopyWarning: \n",
      "A value is trying to be set on a copy of a slice from a DataFrame\n",
      "\n",
      "See the caveats in the documentation: https://pandas.pydata.org/pandas-docs/stable/user_guide/indexing.html#returning-a-view-versus-a-copy\n",
      "  self._where(~key, value, inplace=True)\n"
     ]
    }
   ],
   "source": [
    "long_three_ingr['en_ingr'][long_three_ingr['en_ingr']=='paprika']='chili'"
   ]
  },
  {
   "cell_type": "code",
   "execution_count": null,
   "metadata": {},
   "outputs": [],
   "source": [
    "# contain\n",
    "# 'beef','pork','turkey',"
   ]
  },
  {
   "cell_type": "code",
   "execution_count": 75,
   "metadata": {
    "collapsed": true,
    "jupyter": {
     "outputs_hidden": true
    }
   },
   "outputs": [
    {
     "name": "stderr",
     "output_type": "stream",
     "text": [
      "/opt/conda/lib/python3.6/site-packages/pandas/core/indexing.py:1765: SettingWithCopyWarning: \n",
      "A value is trying to be set on a copy of a slice from a DataFrame.\n",
      "Try using .loc[row_indexer,col_indexer] = value instead\n",
      "\n",
      "See the caveats in the documentation: https://pandas.pydata.org/pandas-docs/stable/user_guide/indexing.html#returning-a-view-versus-a-copy\n",
      "  isetter(loc, value)\n"
     ]
    }
   ],
   "source": [
    "long_three_ingr.loc[long_three_ingr['en_ingr'].str.contains('beef'),'en_ingr']='beef'\n",
    "long_three_ingr.loc[long_three_ingr['en_ingr'].str.contains('pork'),'en_ingr']='pork'\n",
    "long_three_ingr.loc[long_three_ingr['en_ingr'].str.contains('turkey'),'en_ingr']='turkey'"
   ]
  },
  {
   "cell_type": "code",
   "execution_count": 86,
   "metadata": {},
   "outputs": [
    {
     "data": {
      "text/html": [
       "<div>\n",
       "<style scoped>\n",
       "    .dataframe tbody tr th:only-of-type {\n",
       "        vertical-align: middle;\n",
       "    }\n",
       "\n",
       "    .dataframe tbody tr th {\n",
       "        vertical-align: top;\n",
       "    }\n",
       "\n",
       "    .dataframe thead th {\n",
       "        text-align: right;\n",
       "    }\n",
       "</style>\n",
       "<table border=\"1\" class=\"dataframe\">\n",
       "  <thead>\n",
       "    <tr style=\"text-align: right;\">\n",
       "      <th></th>\n",
       "      <th>recipe_id</th>\n",
       "      <th>recipe_href</th>\n",
       "      <th>name</th>\n",
       "      <th>ingredient_name</th>\n",
       "      <th>en_ingr</th>\n",
       "    </tr>\n",
       "  </thead>\n",
       "  <tbody>\n",
       "    <tr>\n",
       "      <th>55</th>\n",
       "      <td>2154</td>\n",
       "      <td>/rezept/376933/Scharfe-Nudel-Gemuese-Pfanne-mi...</td>\n",
       "      <td>aci biber - türkischepaprikapaste siehe foto</td>\n",
       "      <td>türkischepaprikapaste</td>\n",
       "      <td>pepper paste</td>\n",
       "    </tr>\n",
       "  </tbody>\n",
       "</table>\n",
       "</div>"
      ],
      "text/plain": [
       "    recipe_id                                        recipe_href  \\\n",
       "55       2154  /rezept/376933/Scharfe-Nudel-Gemuese-Pfanne-mi...   \n",
       "\n",
       "                                            name        ingredient_name  \\\n",
       "55  aci biber - türkischepaprikapaste siehe foto  türkischepaprikapaste   \n",
       "\n",
       "         en_ingr  \n",
       "55  pepper paste  "
      ]
     },
     "execution_count": 86,
     "metadata": {},
     "output_type": "execute_result"
    }
   ],
   "source": [
    "long_three_ingr[long_three_ingr['en_ingr']=='pepper paste']"
   ]
  },
  {
   "cell_type": "code",
   "execution_count": 90,
   "metadata": {},
   "outputs": [
    {
     "data": {
      "text/plain": [
       "111"
      ]
     },
     "execution_count": 90,
     "metadata": {},
     "output_type": "execute_result"
    }
   ],
   "source": [
    "long_three_ingr_en=list(set(long_three_ingr['en_ingr'].values.tolist()))\n",
    "len(long_three_ingr_en)"
   ]
  },
  {
   "cell_type": "code",
   "execution_count": 91,
   "metadata": {
    "collapsed": true,
    "jupyter": {
     "outputs_hidden": true
    }
   },
   "outputs": [
    {
     "data": {
      "text/plain": [
       "['Batida_de_coco',\n",
       " 'Cremefine',\n",
       " 'Paradiescreme',\n",
       " 'Teriyaki marinade',\n",
       " 'Wiener_tortenbode',\n",
       " 'african zulu dipp',\n",
       " 'almond',\n",
       " 'anis',\n",
       " 'asparagus',\n",
       " 'balsamic',\n",
       " 'basil_sauce',\n",
       " 'beef',\n",
       " 'beer',\n",
       " 'bell pepper',\n",
       " 'bell_pepper',\n",
       " 'berry',\n",
       " 'biscuit',\n",
       " 'black pepper',\n",
       " 'bouillon',\n",
       " 'broad bean',\n",
       " 'broth',\n",
       " 'cabbage',\n",
       " 'carrots',\n",
       " 'catfish',\n",
       " 'cheese',\n",
       " 'cherry',\n",
       " 'chicken',\n",
       " 'chicken broth',\n",
       " 'chili',\n",
       " 'chili oil',\n",
       " 'chocolate',\n",
       " 'cocktail tomato',\n",
       " 'cod',\n",
       " 'coffee',\n",
       " 'cookies',\n",
       " 'cream',\n",
       " 'cream cheese',\n",
       " 'cream_pudding_powder',\n",
       " 'cream_sauce',\n",
       " 'curry',\n",
       " 'dessert',\n",
       " 'dutch cheese',\n",
       " 'fish',\n",
       " 'flour',\n",
       " 'garlic',\n",
       " 'gelatin',\n",
       " 'ginger',\n",
       " 'ginger garlic paste',\n",
       " 'goulash cream',\n",
       " 'grape juice',\n",
       " 'grapes',\n",
       " 'hazelnuts',\n",
       " 'herb salt',\n",
       " 'herbs',\n",
       " 'herring',\n",
       " 'jam',\n",
       " 'lovage',\n",
       " 'milk',\n",
       " 'mountain cheese',\n",
       " 'mutton',\n",
       " 'nougat',\n",
       " 'nutmeg',\n",
       " 'oil',\n",
       " 'onion',\n",
       " 'onion soup',\n",
       " 'oriental spice',\n",
       " 'pak choy',\n",
       " 'peanut oil',\n",
       " 'pepper',\n",
       " 'pepper paste',\n",
       " 'piri',\n",
       " 'pizza dough',\n",
       " 'pork',\n",
       " 'potato',\n",
       " 'potatoes',\n",
       " 'pudding',\n",
       " 'radish',\n",
       " 'raspberry',\n",
       " 'red wine vinegar',\n",
       " 'rice',\n",
       " 'rice noodle',\n",
       " 'roasted ham',\n",
       " 'rosemary garlic oil',\n",
       " 'rum aroma oil',\n",
       " 'salad',\n",
       " 'salat_sauce',\n",
       " 'salt',\n",
       " 'sausage',\n",
       " 'sausages',\n",
       " 'sour cream',\n",
       " 'spice',\n",
       " 'spinach',\n",
       " 'sugar',\n",
       " 'sunflower seed',\n",
       " 'tabasco',\n",
       " 'tomato',\n",
       " 'tomato sauce',\n",
       " 'tomatoes',\n",
       " 'tortellini',\n",
       " 'turkey',\n",
       " 'turmeric',\n",
       " 'vanilla',\n",
       " 'vanilla_pudding',\n",
       " 'vanilla_sauce',\n",
       " 'veal',\n",
       " 'vegetable',\n",
       " 'vegetables',\n",
       " 'water',\n",
       " 'white wine',\n",
       " 'white wine vinegar',\n",
       " 'yeast']"
      ]
     },
     "execution_count": 91,
     "metadata": {},
     "output_type": "execute_result"
    }
   ],
   "source": [
    "long_three_ingr_en.sort()\n",
    "long_three_ingr_en"
   ]
  },
  {
   "cell_type": "code",
   "execution_count": 87,
   "metadata": {},
   "outputs": [],
   "source": [
    "long_three_ingr=long_three_ingr[long_three_ingr['en_ingr']!='']"
   ]
  },
  {
   "cell_type": "code",
   "execution_count": 89,
   "metadata": {},
   "outputs": [],
   "source": [
    "long_three_ingr=long_three_ingr.assign(en_ingr=long_three_ingr['en_ingr'].str.split(',')).explode('en_ingr')"
   ]
  },
  {
   "cell_type": "code",
   "execution_count": 92,
   "metadata": {},
   "outputs": [],
   "source": [
    "lemmatizer = WordNetLemmatizer()"
   ]
  },
  {
   "cell_type": "code",
   "execution_count": 93,
   "metadata": {},
   "outputs": [],
   "source": [
    "long_three_ingr['tag']='n'"
   ]
  },
  {
   "cell_type": "code",
   "execution_count": 94,
   "metadata": {},
   "outputs": [],
   "source": [
    "long_three_ingr['ingr_lemma']=long_three_ingr.apply(lambda x:lemmatizer.lemmatize(x.en_ingr,x.tag),axis=1)"
   ]
  },
  {
   "cell_type": "code",
   "execution_count": 97,
   "metadata": {
    "collapsed": true,
    "jupyter": {
     "outputs_hidden": true
    }
   },
   "outputs": [
    {
     "name": "stderr",
     "output_type": "stream",
     "text": [
      "/opt/conda/lib/python3.6/site-packages/ipykernel_launcher.py:1: SettingWithCopyWarning: \n",
      "A value is trying to be set on a copy of a slice from a DataFrame\n",
      "\n",
      "See the caveats in the documentation: https://pandas.pydata.org/pandas-docs/stable/user_guide/indexing.html#returning-a-view-versus-a-copy\n",
      "  \"\"\"Entry point for launching an IPython kernel.\n"
     ]
    }
   ],
   "source": [
    "long_three_ingr['ingr_lemma'][long_three_ingr['ingr_lemma']=='ani']='anise'"
   ]
  },
  {
   "cell_type": "code",
   "execution_count": 106,
   "metadata": {},
   "outputs": [
    {
     "data": {
      "text/plain": [
       "106"
      ]
     },
     "execution_count": 106,
     "metadata": {},
     "output_type": "execute_result"
    }
   ],
   "source": [
    "long_three_ingr_en=list(set(long_three_ingr['ingr_lemma'].values.tolist()))\n",
    "len(long_three_ingr_en)"
   ]
  },
  {
   "cell_type": "code",
   "execution_count": 107,
   "metadata": {
    "collapsed": true,
    "jupyter": {
     "outputs_hidden": true
    }
   },
   "outputs": [
    {
     "data": {
      "text/plain": [
       "['Batida_de_coco',\n",
       " 'Cremefine',\n",
       " 'Paradiescreme',\n",
       " 'Teriyaki_marinade',\n",
       " 'Wiener_tortenbode',\n",
       " 'african_zulu_dipp',\n",
       " 'almond',\n",
       " 'anise',\n",
       " 'asparagus',\n",
       " 'balsamic',\n",
       " 'basil_sauce',\n",
       " 'beef',\n",
       " 'beer',\n",
       " 'bell_pepper',\n",
       " 'berry',\n",
       " 'biscuit',\n",
       " 'black_pepper',\n",
       " 'bouillon',\n",
       " 'broad_bean',\n",
       " 'broth',\n",
       " 'cabbage',\n",
       " 'carrot',\n",
       " 'catfish',\n",
       " 'cheese',\n",
       " 'cherry',\n",
       " 'chicken',\n",
       " 'chicken_broth',\n",
       " 'chili',\n",
       " 'chili_oil',\n",
       " 'chocolate',\n",
       " 'cocktail_tomato',\n",
       " 'cod',\n",
       " 'coffee',\n",
       " 'cooky',\n",
       " 'cream',\n",
       " 'cream_cheese',\n",
       " 'cream_pudding_powder',\n",
       " 'cream_sauce',\n",
       " 'curry',\n",
       " 'dessert',\n",
       " 'dutch_cheese',\n",
       " 'fish',\n",
       " 'flour',\n",
       " 'garlic',\n",
       " 'gelatin',\n",
       " 'ginger',\n",
       " 'ginger_garlic_paste',\n",
       " 'goulash_cream',\n",
       " 'grape',\n",
       " 'grape_juice',\n",
       " 'hazelnut',\n",
       " 'herb',\n",
       " 'herb_salt',\n",
       " 'herring',\n",
       " 'jam',\n",
       " 'lovage',\n",
       " 'milk',\n",
       " 'mountain_cheese',\n",
       " 'mutton',\n",
       " 'nougat',\n",
       " 'nutmeg',\n",
       " 'oil',\n",
       " 'onion',\n",
       " 'onion_soup',\n",
       " 'oriental_spice',\n",
       " 'pak_choy',\n",
       " 'peanut_oil',\n",
       " 'pepper',\n",
       " 'pepper_paste',\n",
       " 'piri',\n",
       " 'pizza_dough',\n",
       " 'pork',\n",
       " 'potato',\n",
       " 'pudding',\n",
       " 'radish',\n",
       " 'raspberry',\n",
       " 'red_wine_vinegar',\n",
       " 'rice',\n",
       " 'rice_noodle',\n",
       " 'roasted_ham',\n",
       " 'rosemary_garlic_oil',\n",
       " 'rum_aroma_oil',\n",
       " 'salad',\n",
       " 'salat_sauce',\n",
       " 'salt',\n",
       " 'sausage',\n",
       " 'sour_cream',\n",
       " 'spice',\n",
       " 'spinach',\n",
       " 'sugar',\n",
       " 'sunflower_seed',\n",
       " 'tabasco',\n",
       " 'tomato',\n",
       " 'tomato_sauce',\n",
       " 'tortellini',\n",
       " 'turkey',\n",
       " 'turmeric',\n",
       " 'vanilla',\n",
       " 'vanilla_pudding',\n",
       " 'vanilla_sauce',\n",
       " 'veal',\n",
       " 'vegetable',\n",
       " 'water',\n",
       " 'white_wine',\n",
       " 'white_wine_vinegar',\n",
       " 'yeast']"
      ]
     },
     "execution_count": 107,
     "metadata": {},
     "output_type": "execute_result"
    }
   ],
   "source": [
    "long_three_ingr_en.sort()\n",
    "long_three_ingr_en"
   ]
  },
  {
   "cell_type": "code",
   "execution_count": 100,
   "metadata": {},
   "outputs": [],
   "source": [
    "long_three_ingr['ingr_lemma']=long_three_ingr['ingr_lemma'].apply(lambda x:x.replace(' ','_'))"
   ]
  },
  {
   "cell_type": "code",
   "execution_count": 105,
   "metadata": {},
   "outputs": [],
   "source": [
    "long_three_ingr.drop('tag',axis=1,inplace=True)\n",
    "long_three_ingr.reset_index(drop=True,inplace=True)"
   ]
  },
  {
   "cell_type": "code",
   "execution_count": 108,
   "metadata": {},
   "outputs": [],
   "source": [
    "long_three_ingr.to_csv('~/work/food_flavor/kochbar_ingredient_preprocessing/datasets/long_ingr_data/sub_long_ingr_data/long_three_ingr_done.csv')"
   ]
  },
  {
   "cell_type": "code",
   "execution_count": null,
   "metadata": {},
   "outputs": [],
   "source": []
  }
 ],
 "metadata": {
  "kernelspec": {
   "display_name": "Python 3 (ipykernel)",
   "language": "python",
   "name": "python3"
  },
  "language_info": {
   "codemirror_mode": {
    "name": "ipython",
    "version": 3
   },
   "file_extension": ".py",
   "mimetype": "text/x-python",
   "name": "python",
   "nbconvert_exporter": "python",
   "pygments_lexer": "ipython3",
   "version": "3.9.13"
  }
 },
 "nbformat": 4,
 "nbformat_minor": 4
}
