{
 "cells": [
  {
   "cell_type": "code",
   "execution_count": 1,
   "id": "f296245b-eede-442a-9b88-c81be50bf06f",
   "metadata": {},
   "outputs": [],
   "source": [
    "# this is copied from (23.12)(comp)tf_idf_transfoer-Copy1 (non-binary)"
   ]
  },
  {
   "cell_type": "code",
   "execution_count": 2,
   "id": "b47be96e-9669-45ba-8e94-7394d1dac045",
   "metadata": {},
   "outputs": [],
   "source": [
    "import warnings\n",
    "warnings.filterwarnings('ignore')"
   ]
  },
  {
   "cell_type": "code",
   "execution_count": 3,
   "id": "3d09496c-389f-4ac2-8ef7-e99dc01a4d84",
   "metadata": {},
   "outputs": [],
   "source": [
    "import pandas as pd\n",
    "import numpy as np\n",
    "from ast import literal_eval\n",
    "import re\n",
    "\n",
    "import matplotlib.pyplot as plt\n",
    "import seaborn as sns"
   ]
  },
  {
   "cell_type": "code",
   "execution_count": 4,
   "id": "1449399e-fd14-4cd8-b494-117456437cd9",
   "metadata": {},
   "outputs": [],
   "source": [
    "from sklearn.feature_extraction.text import TfidfVectorizer\n",
    "from sklearn.feature_extraction.text import TfidfTransformer\n",
    "\n",
    "from sklearn.decomposition import TruncatedSVD\n",
    "\n",
    "from sklearn.model_selection import train_test_split\n",
    "from sklearn.ensemble import RandomForestClassifier\n",
    "from sklearn.naive_bayes import MultinomialNB,GaussianNB,BernoulliNB\n",
    "from sklearn.linear_model import LogisticRegression\n",
    "from sklearn.svm import SVC\n",
    "\n",
    "from sklearn.model_selection import cross_validate\n",
    "from sklearn.model_selection import RandomizedSearchCV\n",
    "from sklearn.model_selection import cross_val_score\n",
    "from sklearn.model_selection import ShuffleSplit\n",
    "from sklearn.model_selection import learning_curve\n",
    "from sklearn.metrics import classification_report\n",
    "\n",
    "from sklearn.metrics import accuracy_score"
   ]
  },
  {
   "cell_type": "code",
   "execution_count": 13,
   "id": "afa83b5d-40df-4e1f-a4a7-21503efb3143",
   "metadata": {},
   "outputs": [],
   "source": [
    "xcf_comp_train=pd.read_csv('datasets/(14.07)xcf_comp_train_df.csv',index_col=0)\n",
    "ars_comp_train=pd.read_csv('datasets/(14.07)ars_comp_train_df.csv',index_col=0)\n",
    "kb_comp_train=pd.read_csv('datasets/(14.07)kb_comp_train_df.csv',index_col=0)"
   ]
  },
  {
   "cell_type": "code",
   "execution_count": 14,
   "id": "29be5802-bf9d-4d8e-aa86-71618a3cc230",
   "metadata": {},
   "outputs": [],
   "source": [
    "xcf_comp_test=pd.read_csv('datasets/(14.07)xcf_comp_test_df.csv',index_col=0)\n",
    "ars_comp_test=pd.read_csv('datasets/(14.07)ars_comp_test_df.csv',index_col=0)\n",
    "kb_comp_test=pd.read_csv('datasets/(14.07)kb_comp_test_df.csv',index_col=0)"
   ]
  },
  {
   "cell_type": "code",
   "execution_count": 15,
   "id": "7bd3426f-b835-4130-92be-cc59891b96a8",
   "metadata": {},
   "outputs": [],
   "source": [
    "xcf_train_X=xcf_comp_train.drop('class',axis=1)\n",
    "ars_train_X=ars_comp_train.drop('class',axis=1)\n",
    "kb_train_X=kb_comp_train.drop('class',axis=1)\n",
    "\n",
    "xcf_train_y=xcf_comp_train['class']\n",
    "ars_train_y=ars_comp_train['class']\n",
    "kb_train_y=kb_comp_train['class']"
   ]
  },
  {
   "cell_type": "code",
   "execution_count": 16,
   "id": "83fbb9ec-6818-4223-84a7-782ad95990d5",
   "metadata": {},
   "outputs": [],
   "source": [
    "xcf_test_X=xcf_comp_test.drop('class',axis=1)\n",
    "ars_test_X=ars_comp_test.drop('class',axis=1)\n",
    "kb_test_X=kb_comp_test.drop('class',axis=1)\n",
    "\n",
    "xcf_test_y=xcf_comp_test['class']\n",
    "ars_test_y=ars_comp_test['class']\n",
    "kb_test_y=kb_comp_test['class']"
   ]
  },
  {
   "cell_type": "markdown",
   "id": "1f4953c0-8a6f-456b-9a80-47acd462191f",
   "metadata": {},
   "source": [
    "## Union set of the ingredients"
   ]
  },
  {
   "cell_type": "code",
   "execution_count": 17,
   "id": "7c0354df-70cf-46ab-a173-68b3f98a4d2d",
   "metadata": {},
   "outputs": [],
   "source": [
    "xcf_comp_set=set(xcf_train_X.columns.tolist())\n",
    "ars_comp_set=set(ars_train_X.columns.tolist())\n",
    "kb_comp_set=set(kb_train_X.columns.tolist())"
   ]
  },
  {
   "cell_type": "code",
   "execution_count": 18,
   "id": "f29a4792-260e-467b-901c-4b9c7fe2632a",
   "metadata": {},
   "outputs": [
    {
     "name": "stdout",
     "output_type": "stream",
     "text": [
      "1498\n",
      "1496\n",
      "1505\n"
     ]
    }
   ],
   "source": [
    "print(len(xcf_comp_set))\n",
    "print(len(ars_comp_set))\n",
    "print(len(kb_comp_set))"
   ]
  },
  {
   "cell_type": "code",
   "execution_count": 19,
   "id": "2ee31ae7-ff15-423d-8e5e-f425c4a512e1",
   "metadata": {},
   "outputs": [
    {
     "name": "stdout",
     "output_type": "stream",
     "text": [
      "1562\n"
     ]
    }
   ],
   "source": [
    "union_comp_set=xcf_comp_set|ars_comp_set|kb_comp_set\n",
    "print(len(union_comp_set))\n",
    "union_comp_list=list(union_comp_set)"
   ]
  },
  {
   "cell_type": "code",
   "execution_count": 20,
   "id": "a05547b8-9ad8-4c2a-bb8e-1df38ac29a44",
   "metadata": {},
   "outputs": [],
   "source": [
    "def get_origin_target_test_X(union_comp_list,origin_train_X,target_test_X):\n",
    "    complement_ingrs=list(set(union_comp_list)-set(target_test_X.columns.tolist()))\n",
    "    complement_tfidf=np.zeros((target_test_X.shape[0],len(complement_ingrs)))\n",
    "    complement_tfidf=pd.DataFrame(complement_tfidf,columns=complement_ingrs)\n",
    "    complement_target_test_tfidf=pd.concat([target_test_X,complement_tfidf],axis=1)\n",
    "    origin_target_test_tfidf=complement_target_test_tfidf[origin_train_X.columns.tolist()]\n",
    "    return origin_target_test_tfidf"
   ]
  },
  {
   "cell_type": "code",
   "execution_count": 21,
   "id": "3dcee5cb-4fcb-4a11-8959-86647838ea22",
   "metadata": {},
   "outputs": [],
   "source": [
    "# xiachufang --> allrecipes, kochbar"
   ]
  },
  {
   "cell_type": "code",
   "execution_count": 22,
   "id": "20f2af55-a93d-42b9-9ea5-d3ce0d63e446",
   "metadata": {},
   "outputs": [],
   "source": [
    "xcf_ars_test_tfidf=get_origin_target_test_X(union_comp_list,xcf_train_X,ars_test_X)\n",
    "xcf_kb_test_tfidf=get_origin_target_test_X(union_comp_list,xcf_train_X,kb_test_X)"
   ]
  },
  {
   "cell_type": "code",
   "execution_count": 23,
   "id": "994e4a6a-707a-482a-9e1c-5104cb8db6ff",
   "metadata": {},
   "outputs": [
    {
     "name": "stdout",
     "output_type": "stream",
     "text": [
      "(640, 1498)\n",
      "(560, 1498)\n"
     ]
    }
   ],
   "source": [
    "print(xcf_ars_test_tfidf.shape)\n",
    "print(xcf_kb_test_tfidf.shape)"
   ]
  },
  {
   "cell_type": "code",
   "execution_count": 25,
   "id": "22d7a75a-50e9-4e0d-8431-cdfdd0f6702b",
   "metadata": {},
   "outputs": [],
   "source": [
    "xcf_rf=RandomForestClassifier(max_depth=8, max_features='log2', n_estimators=477,\n",
    "                       random_state=42)"
   ]
  },
  {
   "cell_type": "code",
   "execution_count": 28,
   "id": "8a2a2e05-5a29-4c33-a507-0a96b5c70189",
   "metadata": {},
   "outputs": [
    {
     "name": "stdout",
     "output_type": "stream",
     "text": [
      "0.6577464788732394\n"
     ]
    }
   ],
   "source": [
    "xcf_rf.fit(xcf_train_X,xcf_train_y)\n",
    "xcf_pred_y=xcf_rf.predict(xcf_test_X)\n",
    "print(accuracy_score(xcf_pred_y,xcf_test_y))"
   ]
  },
  {
   "cell_type": "code",
   "execution_count": 29,
   "id": "d3aabdd6-75da-4134-ac19-6e1050bfe6d6",
   "metadata": {},
   "outputs": [
    {
     "name": "stdout",
     "output_type": "stream",
     "text": [
      "xcf-->ars prediction accuracy:  0.5375\n"
     ]
    }
   ],
   "source": [
    "xcf_rf.fit(xcf_train_X,xcf_train_y)\n",
    "xcf_ars_pred_y=xcf_rf.predict(xcf_ars_test_tfidf)\n",
    "print('xcf-->ars prediction accuracy: ', accuracy_score(xcf_ars_pred_y,ars_test_y))"
   ]
  },
  {
   "cell_type": "code",
   "execution_count": 30,
   "id": "5c1bdbfc-92d2-4f05-a081-df321b8c3fd1",
   "metadata": {},
   "outputs": [
    {
     "name": "stdout",
     "output_type": "stream",
     "text": [
      "xcf-->kb prediction accuracy:  0.4607142857142857\n"
     ]
    }
   ],
   "source": [
    "xcf_rf.fit(xcf_train_X,xcf_train_y)\n",
    "xcf_kb_pred_y=xcf_rf.predict(xcf_kb_test_tfidf)\n",
    "print('xcf-->kb prediction accuracy: ', accuracy_score(xcf_kb_pred_y,kb_test_y))"
   ]
  },
  {
   "cell_type": "code",
   "execution_count": 31,
   "id": "557ae507-1931-405f-84a8-70430e7a8247",
   "metadata": {},
   "outputs": [],
   "source": [
    "# allrecipes --> xiachufang, kochbar"
   ]
  },
  {
   "cell_type": "code",
   "execution_count": 32,
   "id": "8eded4fb-c3d5-4649-b929-9942f630ab9c",
   "metadata": {},
   "outputs": [],
   "source": [
    "ars_rf=RandomForestClassifier(max_depth=8, max_features='log2', n_estimators=411,\n",
    "                       random_state=42)"
   ]
  },
  {
   "cell_type": "code",
   "execution_count": 33,
   "id": "7d3db414-b132-4a55-8e4e-d2531521198b",
   "metadata": {},
   "outputs": [],
   "source": [
    "ars_xcf_test_tfidf=get_origin_target_test_X(union_comp_list,ars_train_X,xcf_test_X)\n",
    "ars_kb_test_tfidf=get_origin_target_test_X(union_comp_list,ars_train_X,kb_test_X)"
   ]
  },
  {
   "cell_type": "code",
   "execution_count": 34,
   "id": "6a004974-2981-4960-9b7f-7c83f5ae5442",
   "metadata": {},
   "outputs": [
    {
     "name": "stdout",
     "output_type": "stream",
     "text": [
      "0.6671875\n"
     ]
    }
   ],
   "source": [
    "ars_rf.fit(ars_train_X,ars_train_y)\n",
    "ars_pred_y=ars_rf.predict(ars_test_X)\n",
    "print(accuracy_score(ars_pred_y,ars_test_y))"
   ]
  },
  {
   "cell_type": "code",
   "execution_count": 35,
   "id": "1a4f1a1c-326a-4e9b-a02c-84c03d077b9a",
   "metadata": {},
   "outputs": [
    {
     "name": "stdout",
     "output_type": "stream",
     "text": [
      "ars-->xcf prediction accuracy:  0.5169014084507042\n"
     ]
    }
   ],
   "source": [
    "ars_rf.fit(ars_train_X,ars_train_y)\n",
    "ars_xcf_pred_y=ars_rf.predict(ars_xcf_test_tfidf)\n",
    "print('ars-->xcf prediction accuracy: ',accuracy_score(ars_xcf_pred_y,xcf_test_y))"
   ]
  },
  {
   "cell_type": "code",
   "execution_count": 36,
   "id": "1d9800a2-0557-4f5f-a541-767537867588",
   "metadata": {},
   "outputs": [
    {
     "name": "stdout",
     "output_type": "stream",
     "text": [
      "ars-->kb prediction accuracy:  0.4714285714285714\n"
     ]
    }
   ],
   "source": [
    "ars_rf.fit(ars_train_X,ars_train_y)\n",
    "ars_kb_pred_y=ars_rf.predict(ars_kb_test_tfidf)\n",
    "print('ars-->kb prediction accuracy: ',accuracy_score(ars_kb_pred_y,kb_test_y))"
   ]
  },
  {
   "cell_type": "code",
   "execution_count": 37,
   "id": "99715677-602f-4d60-a1ea-271db66e1e4e",
   "metadata": {},
   "outputs": [],
   "source": [
    "# kochbar --> xiachufang, allrecipes"
   ]
  },
  {
   "cell_type": "code",
   "execution_count": 38,
   "id": "a990bd38-f218-49a0-aa0d-dccaefcad3ae",
   "metadata": {},
   "outputs": [],
   "source": [
    "kb_log=LogisticRegression(C=100, random_state=9527)"
   ]
  },
  {
   "cell_type": "code",
   "execution_count": 39,
   "id": "dd7d90d9-4aa0-4843-9747-b02eec802d36",
   "metadata": {},
   "outputs": [],
   "source": [
    "kb_xcf_test_tfidf=get_origin_target_test_X(union_comp_list,kb_train_X,xcf_test_X)\n",
    "kb_ars_test_tfidf=get_origin_target_test_X(union_comp_list,kb_train_X,ars_test_X)"
   ]
  },
  {
   "cell_type": "code",
   "execution_count": 40,
   "id": "90c20d53-a30b-4937-aa85-74f30cab597f",
   "metadata": {},
   "outputs": [
    {
     "name": "stdout",
     "output_type": "stream",
     "text": [
      "0.6535714285714286\n"
     ]
    }
   ],
   "source": [
    "kb_log.fit(kb_train_X, kb_train_y)\n",
    "kb_pred_y=kb_log.predict(kb_test_X)\n",
    "print(accuracy_score(kb_pred_y,kb_test_y))"
   ]
  },
  {
   "cell_type": "code",
   "execution_count": 41,
   "id": "70848834-5780-4c00-85bf-6d5b31eb0104",
   "metadata": {},
   "outputs": [
    {
     "name": "stdout",
     "output_type": "stream",
     "text": [
      "kb-->xcf prediction accuracy:  0.48169014084507045\n"
     ]
    }
   ],
   "source": [
    "kb_log.fit(kb_train_X, kb_train_y)\n",
    "kb_xcf_pred_y=kb_log.predict(kb_xcf_test_tfidf)\n",
    "print('kb-->xcf prediction accuracy: ', accuracy_score(kb_xcf_pred_y,xcf_test_y))"
   ]
  },
  {
   "cell_type": "code",
   "execution_count": 42,
   "id": "ee50efa5-b0d1-45cb-bcb6-1f6a815e8670",
   "metadata": {},
   "outputs": [
    {
     "name": "stdout",
     "output_type": "stream",
     "text": [
      "kb-->ars prediction accuracy:  0.51875\n"
     ]
    }
   ],
   "source": [
    "kb_log.fit(kb_train_X, kb_train_y)\n",
    "kb_ars_pred_y=kb_log.predict(kb_ars_test_tfidf)\n",
    "print('kb-->ars prediction accuracy: ', accuracy_score(kb_ars_pred_y,ars_test_y))"
   ]
  },
  {
   "cell_type": "code",
   "execution_count": 43,
   "id": "92e916fc-fa9f-4583-a402-9dcf62e00975",
   "metadata": {},
   "outputs": [],
   "source": [
    "# visualization"
   ]
  },
  {
   "cell_type": "code",
   "execution_count": 44,
   "id": "7f859d5a-aa78-4b84-9b6e-b68fc7a94427",
   "metadata": {},
   "outputs": [],
   "source": [
    "accu_dict={'Xiachufang':[0.66,0.54,0.46],\n",
    "           'Allrecipes':[0.52,0.67,0.47],\n",
    "           'Kochbar':[0.48,0.52,0.65]}"
   ]
  },
  {
   "cell_type": "code",
   "execution_count": 45,
   "id": "838b2c6e-25bd-4bee-b9f8-038ad62e0a07",
   "metadata": {},
   "outputs": [],
   "source": [
    "accu_df=pd.DataFrame(accu_dict)"
   ]
  },
  {
   "cell_type": "code",
   "execution_count": 46,
   "id": "03e9e95b-109b-496c-85de-90e876b2d137",
   "metadata": {},
   "outputs": [],
   "source": [
    "accu_df.index=['Xiachufang','Allrecipes','Kochbar']"
   ]
  },
  {
   "cell_type": "code",
   "execution_count": 47,
   "id": "b40d025c-4402-4fb1-850f-d5cc089d2c16",
   "metadata": {},
   "outputs": [
    {
     "data": {
      "text/html": [
       "<div>\n",
       "<style scoped>\n",
       "    .dataframe tbody tr th:only-of-type {\n",
       "        vertical-align: middle;\n",
       "    }\n",
       "\n",
       "    .dataframe tbody tr th {\n",
       "        vertical-align: top;\n",
       "    }\n",
       "\n",
       "    .dataframe thead th {\n",
       "        text-align: right;\n",
       "    }\n",
       "</style>\n",
       "<table border=\"1\" class=\"dataframe\">\n",
       "  <thead>\n",
       "    <tr style=\"text-align: right;\">\n",
       "      <th></th>\n",
       "      <th>Xiachufang</th>\n",
       "      <th>Allrecipes</th>\n",
       "      <th>Kochbar</th>\n",
       "    </tr>\n",
       "  </thead>\n",
       "  <tbody>\n",
       "    <tr>\n",
       "      <th>Xiachufang</th>\n",
       "      <td>0.66</td>\n",
       "      <td>0.52</td>\n",
       "      <td>0.48</td>\n",
       "    </tr>\n",
       "    <tr>\n",
       "      <th>Allrecipes</th>\n",
       "      <td>0.54</td>\n",
       "      <td>0.67</td>\n",
       "      <td>0.52</td>\n",
       "    </tr>\n",
       "    <tr>\n",
       "      <th>Kochbar</th>\n",
       "      <td>0.46</td>\n",
       "      <td>0.47</td>\n",
       "      <td>0.65</td>\n",
       "    </tr>\n",
       "  </tbody>\n",
       "</table>\n",
       "</div>"
      ],
      "text/plain": [
       "            Xiachufang  Allrecipes  Kochbar\n",
       "Xiachufang        0.66        0.52     0.48\n",
       "Allrecipes        0.54        0.67     0.52\n",
       "Kochbar           0.46        0.47     0.65"
      ]
     },
     "execution_count": 47,
     "metadata": {},
     "output_type": "execute_result"
    }
   ],
   "source": [
    "accu_df"
   ]
  },
  {
   "cell_type": "code",
   "execution_count": 48,
   "id": "3bb6a3d7-2c14-4bd0-b1a9-6f6866f0ae1b",
   "metadata": {},
   "outputs": [],
   "source": [
    "import matplotlib.pyplot as plt\n",
    "import seaborn as sns"
   ]
  },
  {
   "cell_type": "code",
   "execution_count": 51,
   "id": "448da05b-fed3-4686-9d76-d72ca475ea1d",
   "metadata": {},
   "outputs": [
    {
     "data": {
      "image/png": "[encoded data removed]",
      "text/plain": [
       "<Figure size 864x216 with 3 Axes>"
      ]
     },
     "metadata": {},
     "output_type": "display_data"
    }
   ],
   "source": [
    "sns.set()\n",
    "plt.figure(figsize=(12,3))\n",
    "\n",
    "plt.subplot(1,3,1)\n",
    "baseline=0.5\n",
    "plt.bar([0,1,2],accu_df.Xiachufang-0.5,bottom=baseline,color=['b','orange','g'])\n",
    "plt.xticks([0,1,2],accu_df.index,fontsize=15,rotation=45)\n",
    "plt.yticks(fontsize=12)\n",
    "plt.axhline(0.5,color='k') # 将baseline标注出来\n",
    "plt.ylim(0.43,0.72)\n",
    "plt.title('Xiachufang',fontsize=15)\n",
    "\n",
    "plt.subplot(1,3,2)\n",
    "baseline=0.5\n",
    "plt.bar([0,1,2],accu_df.Allrecipes-0.5,bottom=baseline,color=['b','orange','g'])\n",
    "plt.xticks([0,1,2],accu_df.index,fontsize=15,rotation=45)\n",
    "plt.yticks(fontsize=12)\n",
    "plt.axhline(0.5,color='k') # 将baseline标注出来\n",
    "plt.ylim(0.43,0.72)\n",
    "plt.title('Allrecipes',fontsize=15)\n",
    "\n",
    "plt.subplot(1,3,3)\n",
    "baseline=0.5\n",
    "plt.bar([0,1,2],accu_df.Kochbar-0.5,bottom=baseline,color=['b','orange','g'])\n",
    "plt.xticks([0,1,2],accu_df.index,fontsize=15,rotation=45)\n",
    "plt.yticks(fontsize=12)\n",
    "plt.axhline(0.5,color='k') # 将baseline标注出来\n",
    "plt.ylim(0.43,0.72)\n",
    "plt.title('Kochbar',fontsize=15)\n",
    "\n",
    "plt.savefig('fig/pdf/comp_tfidf_cross_model.pdf',dpi=300,bbox_inches='tight')\n",
    "plt.savefig('fig/png/comp_tfidf_cross_model.png',dpi=300,bbox_inches='tight')"
   ]
  },
  {
   "cell_type": "code",
   "execution_count": null,
   "id": "f1221e81-3b6b-4956-8f7e-1f569cdcb5b1",
   "metadata": {},
   "outputs": [],
   "source": []
  }
 ],
 "metadata": {
  "kernelspec": {
   "display_name": "Python 3 (ipykernel)",
   "language": "python",
   "name": "python3"
  },
  "language_info": {
   "codemirror_mode": {
    "name": "ipython",
    "version": 3
   },
   "file_extension": ".py",
   "mimetype": "text/x-python",
   "name": "python",
   "nbconvert_exporter": "python",
   "pygments_lexer": "ipython3",
   "version": "3.9.13"
  }
 },
 "nbformat": 4,
 "nbformat_minor": 5
}
