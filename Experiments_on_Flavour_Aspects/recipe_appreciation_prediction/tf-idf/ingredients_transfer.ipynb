{
 "cells": [
  {
   "cell_type": "code",
   "execution_count": null,
   "id": "7958cfcd-d85a-474a-9f6e-891157e45cfe",
   "metadata": {},
   "outputs": [],
   "source": [
    "# this is copied from (22.12)tf_idf_transfer"
   ]
  },
  {
   "cell_type": "code",
   "execution_count": 2,
   "id": "8526e45f-9843-4669-8d40-2b02cdb64290",
   "metadata": {},
   "outputs": [],
   "source": [
    "import warnings\n",
    "warnings.filterwarnings('ignore')"
   ]
  },
  {
   "cell_type": "code",
   "execution_count": 1,
   "id": "b8e1deb1-3103-4f1a-8beb-bfeac412efac",
   "metadata": {},
   "outputs": [],
   "source": [
    "import pandas as pd\n",
    "import numpy as np\n",
    "from ast import literal_eval\n",
    "import re\n",
    "\n",
    "import matplotlib.pyplot as plt\n",
    "import seaborn as sns"
   ]
  },
  {
   "cell_type": "code",
   "execution_count": 4,
   "id": "32a26e5b-f8d5-4b24-8992-c47661d9cb8c",
   "metadata": {},
   "outputs": [],
   "source": [
    "from sklearn.feature_extraction.text import TfidfVectorizer\n",
    "from sklearn.feature_extraction.text import TfidfTransformer\n",
    "\n",
    "from sklearn.decomposition import TruncatedSVD\n",
    "\n",
    "from sklearn.model_selection import train_test_split\n",
    "from sklearn.ensemble import RandomForestClassifier\n",
    "from sklearn.naive_bayes import MultinomialNB,GaussianNB,BernoulliNB\n",
    "from sklearn.linear_model import LogisticRegression\n",
    "from sklearn.svm import SVC\n",
    "\n",
    "from sklearn.model_selection import cross_validate\n",
    "from sklearn.model_selection import RandomizedSearchCV\n",
    "from sklearn.model_selection import cross_val_score\n",
    "from sklearn.model_selection import ShuffleSplit\n",
    "from sklearn.model_selection import learning_curve\n",
    "from sklearn.metrics import classification_report\n",
    "\n",
    "from sklearn.metrics import accuracy_score"
   ]
  },
  {
   "cell_type": "code",
   "execution_count": 6,
   "id": "c27439b0-a89b-4ec9-acf7-5eee74d1e0ff",
   "metadata": {},
   "outputs": [],
   "source": [
    "xcf_train_df=pd.read_csv('~/final_flavour/appreciation/app_datasets/xcf_ingr_train_df.csv',index_col=0)\n",
    "ars_train_df=pd.read_csv('~/final_flavour/appreciation/app_datasets/ars_ingr_train_df.csv',index_col=0)\n",
    "kb_train_df=pd.read_csv('~/final_flavour/appreciation/app_datasets/kb_ingr_train_df.csv',index_col=0)"
   ]
  },
  {
   "cell_type": "code",
   "execution_count": 7,
   "id": "70a4194e-91ce-4986-8367-a4bb460d837a",
   "metadata": {},
   "outputs": [],
   "source": [
    "xcf_test_df=pd.read_csv('~/final_flavour/appreciation/app_datasets/xcf_ingr_test_df.csv',index_col=0)\n",
    "ars_test_df=pd.read_csv('~/final_flavour/appreciation/app_datasets/ars_ingr_test_df.csv',index_col=0)\n",
    "kb_test_df=pd.read_csv('~/final_flavour/appreciation/app_datasets/kb_ingr_test_df.csv',index_col=0)"
   ]
  },
  {
   "cell_type": "code",
   "execution_count": 10,
   "id": "916ed615-cdd4-40bc-a996-fbc43f677a76",
   "metadata": {},
   "outputs": [
    {
     "data": {
      "text/html": [
       "<div>\n",
       "<style scoped>\n",
       "    .dataframe tbody tr th:only-of-type {\n",
       "        vertical-align: middle;\n",
       "    }\n",
       "\n",
       "    .dataframe tbody tr th {\n",
       "        vertical-align: top;\n",
       "    }\n",
       "\n",
       "    .dataframe thead th {\n",
       "        text-align: right;\n",
       "    }\n",
       "</style>\n",
       "<table border=\"1\" class=\"dataframe\">\n",
       "  <thead>\n",
       "    <tr style=\"text-align: right;\">\n",
       "      <th></th>\n",
       "      <th>abalone</th>\n",
       "      <th>agar</th>\n",
       "      <th>alfalfa</th>\n",
       "      <th>allspice</th>\n",
       "      <th>almond</th>\n",
       "      <th>amaranth</th>\n",
       "      <th>american_butterfish</th>\n",
       "      <th>angelica</th>\n",
       "      <th>apple</th>\n",
       "      <th>apricot</th>\n",
       "      <th>...</th>\n",
       "      <th>wasabi</th>\n",
       "      <th>water</th>\n",
       "      <th>water_chestnut</th>\n",
       "      <th>welsh_onion</th>\n",
       "      <th>wheat</th>\n",
       "      <th>white_wine</th>\n",
       "      <th>wholewheat_bread</th>\n",
       "      <th>wonton_wrapper</th>\n",
       "      <th>yogurt</th>\n",
       "      <th>class</th>\n",
       "    </tr>\n",
       "  </thead>\n",
       "  <tbody>\n",
       "    <tr>\n",
       "      <th>0</th>\n",
       "      <td>0.0</td>\n",
       "      <td>0.0</td>\n",
       "      <td>0.0</td>\n",
       "      <td>0.0</td>\n",
       "      <td>0.0</td>\n",
       "      <td>0.0</td>\n",
       "      <td>0.0</td>\n",
       "      <td>0.0</td>\n",
       "      <td>0.0</td>\n",
       "      <td>0.0</td>\n",
       "      <td>...</td>\n",
       "      <td>0.0</td>\n",
       "      <td>0.0</td>\n",
       "      <td>0.0</td>\n",
       "      <td>0.0</td>\n",
       "      <td>0.0</td>\n",
       "      <td>0.0</td>\n",
       "      <td>0.0</td>\n",
       "      <td>0.0</td>\n",
       "      <td>0.0</td>\n",
       "      <td>0</td>\n",
       "    </tr>\n",
       "    <tr>\n",
       "      <th>1</th>\n",
       "      <td>0.0</td>\n",
       "      <td>0.0</td>\n",
       "      <td>0.0</td>\n",
       "      <td>0.0</td>\n",
       "      <td>0.0</td>\n",
       "      <td>0.0</td>\n",
       "      <td>0.0</td>\n",
       "      <td>0.0</td>\n",
       "      <td>0.0</td>\n",
       "      <td>0.0</td>\n",
       "      <td>...</td>\n",
       "      <td>0.0</td>\n",
       "      <td>0.0</td>\n",
       "      <td>0.0</td>\n",
       "      <td>0.0</td>\n",
       "      <td>0.0</td>\n",
       "      <td>0.0</td>\n",
       "      <td>0.0</td>\n",
       "      <td>0.0</td>\n",
       "      <td>0.0</td>\n",
       "      <td>0</td>\n",
       "    </tr>\n",
       "    <tr>\n",
       "      <th>2</th>\n",
       "      <td>0.0</td>\n",
       "      <td>0.0</td>\n",
       "      <td>0.0</td>\n",
       "      <td>0.0</td>\n",
       "      <td>0.0</td>\n",
       "      <td>0.0</td>\n",
       "      <td>0.0</td>\n",
       "      <td>0.0</td>\n",
       "      <td>0.0</td>\n",
       "      <td>0.0</td>\n",
       "      <td>...</td>\n",
       "      <td>0.0</td>\n",
       "      <td>0.0</td>\n",
       "      <td>0.0</td>\n",
       "      <td>0.0</td>\n",
       "      <td>0.0</td>\n",
       "      <td>0.0</td>\n",
       "      <td>0.0</td>\n",
       "      <td>0.0</td>\n",
       "      <td>0.0</td>\n",
       "      <td>0</td>\n",
       "    </tr>\n",
       "    <tr>\n",
       "      <th>3</th>\n",
       "      <td>0.0</td>\n",
       "      <td>0.0</td>\n",
       "      <td>0.0</td>\n",
       "      <td>0.0</td>\n",
       "      <td>0.0</td>\n",
       "      <td>0.0</td>\n",
       "      <td>0.0</td>\n",
       "      <td>0.0</td>\n",
       "      <td>0.0</td>\n",
       "      <td>0.0</td>\n",
       "      <td>...</td>\n",
       "      <td>0.0</td>\n",
       "      <td>0.0</td>\n",
       "      <td>0.0</td>\n",
       "      <td>0.0</td>\n",
       "      <td>0.0</td>\n",
       "      <td>0.0</td>\n",
       "      <td>0.0</td>\n",
       "      <td>0.0</td>\n",
       "      <td>0.0</td>\n",
       "      <td>1</td>\n",
       "    </tr>\n",
       "    <tr>\n",
       "      <th>4</th>\n",
       "      <td>0.0</td>\n",
       "      <td>0.0</td>\n",
       "      <td>0.0</td>\n",
       "      <td>0.0</td>\n",
       "      <td>0.0</td>\n",
       "      <td>0.0</td>\n",
       "      <td>0.0</td>\n",
       "      <td>0.0</td>\n",
       "      <td>0.0</td>\n",
       "      <td>0.0</td>\n",
       "      <td>...</td>\n",
       "      <td>0.0</td>\n",
       "      <td>0.0</td>\n",
       "      <td>0.0</td>\n",
       "      <td>0.0</td>\n",
       "      <td>0.0</td>\n",
       "      <td>0.0</td>\n",
       "      <td>0.0</td>\n",
       "      <td>0.0</td>\n",
       "      <td>0.0</td>\n",
       "      <td>1</td>\n",
       "    </tr>\n",
       "  </tbody>\n",
       "</table>\n",
       "<p>5 rows × 252 columns</p>\n",
       "</div>"
      ],
      "text/plain": [
       "   abalone  agar  alfalfa  allspice  almond  amaranth  american_butterfish  \\\n",
       "0      0.0   0.0      0.0       0.0     0.0       0.0                  0.0   \n",
       "1      0.0   0.0      0.0       0.0     0.0       0.0                  0.0   \n",
       "2      0.0   0.0      0.0       0.0     0.0       0.0                  0.0   \n",
       "3      0.0   0.0      0.0       0.0     0.0       0.0                  0.0   \n",
       "4      0.0   0.0      0.0       0.0     0.0       0.0                  0.0   \n",
       "\n",
       "   angelica  apple  apricot  ...  wasabi  water  water_chestnut  welsh_onion  \\\n",
       "0       0.0    0.0      0.0  ...     0.0    0.0             0.0          0.0   \n",
       "1       0.0    0.0      0.0  ...     0.0    0.0             0.0          0.0   \n",
       "2       0.0    0.0      0.0  ...     0.0    0.0             0.0          0.0   \n",
       "3       0.0    0.0      0.0  ...     0.0    0.0             0.0          0.0   \n",
       "4       0.0    0.0      0.0  ...     0.0    0.0             0.0          0.0   \n",
       "\n",
       "   wheat  white_wine  wholewheat_bread  wonton_wrapper  yogurt  class  \n",
       "0    0.0         0.0               0.0             0.0     0.0      0  \n",
       "1    0.0         0.0               0.0             0.0     0.0      0  \n",
       "2    0.0         0.0               0.0             0.0     0.0      0  \n",
       "3    0.0         0.0               0.0             0.0     0.0      1  \n",
       "4    0.0         0.0               0.0             0.0     0.0      1  \n",
       "\n",
       "[5 rows x 252 columns]"
      ]
     },
     "execution_count": 10,
     "metadata": {},
     "output_type": "execute_result"
    }
   ],
   "source": [
    "xcf_test_df.head()"
   ]
  },
  {
   "cell_type": "code",
   "execution_count": 11,
   "id": "46799c6b-6cdb-444d-a18f-849d660ebd4f",
   "metadata": {},
   "outputs": [],
   "source": [
    "xcf_train_X=xcf_train_df.drop('class',axis=1)\n",
    "ars_train_X=ars_train_df.drop('class',axis=1)\n",
    "kb_train_X=kb_train_df.drop('class',axis=1)"
   ]
  },
  {
   "cell_type": "code",
   "execution_count": 12,
   "id": "7562a926-89e3-48fe-aeb3-1cce47fa98f8",
   "metadata": {},
   "outputs": [],
   "source": [
    "xcf_test_X=xcf_test_df.drop('class',axis=1)\n",
    "ars_test_X=ars_test_df.drop('class',axis=1)\n",
    "kb_test_X=kb_test_df.drop('class',axis=1)"
   ]
  },
  {
   "cell_type": "code",
   "execution_count": 13,
   "id": "e9389905-ab45-434a-839c-3e2b905a168c",
   "metadata": {},
   "outputs": [],
   "source": [
    "xcf_train_y=xcf_train_df['class'].values\n",
    "ars_train_y=ars_train_df['class'].values\n",
    "kb_train_y=kb_train_df['class'].values"
   ]
  },
  {
   "cell_type": "code",
   "execution_count": 23,
   "id": "48d10714-37ba-414e-95fb-aee47f8a0315",
   "metadata": {},
   "outputs": [],
   "source": [
    "xcf_test_y=xcf_test_df['class'].values\n",
    "ars_test_y=ars_test_df['class'].values\n",
    "kb_test_y=kb_test_df['class'].values"
   ]
  },
  {
   "cell_type": "markdown",
   "id": "9dcbad25-f1a2-4ef6-bb58-dfe8696a387f",
   "metadata": {},
   "source": [
    "##  Union set of the ingredients"
   ]
  },
  {
   "cell_type": "code",
   "execution_count": 14,
   "id": "d59e9d86-71e2-4996-8558-c0d5ef2bf185",
   "metadata": {},
   "outputs": [],
   "source": [
    "# could only get the ingredients in train set\n",
    "xcf_ingrs=set(xcf_train_X.columns.tolist())|set(xcf_test_X.columns.tolist())\n",
    "ars_ingrs=set(ars_train_X.columns.tolist())|set(ars_test_X.columns.tolist())\n",
    "kb_ingrs=set(kb_train_X.columns.tolist())|set(kb_test_X.columns.tolist())"
   ]
  },
  {
   "cell_type": "code",
   "execution_count": 15,
   "id": "5fafe756-361c-43a5-9d02-fc61e704ed2d",
   "metadata": {},
   "outputs": [
    {
     "name": "stdout",
     "output_type": "stream",
     "text": [
      "251\n",
      "264\n",
      "287\n"
     ]
    }
   ],
   "source": [
    "print(len(xcf_ingrs))\n",
    "print(len(ars_ingrs))\n",
    "print(len(kb_ingrs))"
   ]
  },
  {
   "cell_type": "code",
   "execution_count": 16,
   "id": "9fb318a0-5188-4a01-80c6-b10740d7c589",
   "metadata": {},
   "outputs": [
    {
     "data": {
      "text/plain": [
       "404"
      ]
     },
     "execution_count": 16,
     "metadata": {},
     "output_type": "execute_result"
    }
   ],
   "source": [
    "allorigin_ingrs=list(xcf_ingrs|ars_ingrs|kb_ingrs )\n",
    "len(allorigin_ingrs)"
   ]
  },
  {
   "cell_type": "code",
   "execution_count": 17,
   "id": "02e16301-dc6b-4111-acbf-0d8f8f633c32",
   "metadata": {},
   "outputs": [],
   "source": [
    "# xiachufang --> allrecipes, kochbar"
   ]
  },
  {
   "cell_type": "code",
   "execution_count": 18,
   "id": "87dd6b3b-5975-4d98-8b67-7cf9ad36d846",
   "metadata": {},
   "outputs": [],
   "source": [
    "def get_origin_target_test_X(allorigin_ingrs,origin_train_X,target_test_X):\n",
    "    complement_ingrs=list(set(allorigin_ingrs)-set(target_test_X.columns.tolist()))\n",
    "    complement_tfidf=np.zeros((target_test_X.shape[0],len(complement_ingrs)))\n",
    "    complement_tfidf=pd.DataFrame(complement_tfidf,columns=complement_ingrs)\n",
    "    complement_target_test_tfidf=pd.concat([target_test_X,complement_tfidf],axis=1)\n",
    "    origin_target_test_tfidf=complement_target_test_tfidf[origin_train_X.columns.tolist()]\n",
    "    return origin_target_test_tfidf"
   ]
  },
  {
   "cell_type": "code",
   "execution_count": 19,
   "id": "5e549876-4bcb-4e5b-84b5-7dd21fb85a2a",
   "metadata": {},
   "outputs": [],
   "source": [
    "xcf_ars_test_tfidf=get_origin_target_test_X(allorigin_ingrs,xcf_train_X,ars_test_X)\n",
    "xcf_kb_test_tfidf=get_origin_target_test_X(allorigin_ingrs,xcf_train_X,kb_test_X)"
   ]
  },
  {
   "cell_type": "code",
   "execution_count": 20,
   "id": "7f01ad39-4d61-4d6e-a7af-b842def083c9",
   "metadata": {},
   "outputs": [
    {
     "name": "stdout",
     "output_type": "stream",
     "text": [
      "(640, 251)\n",
      "(560, 251)\n"
     ]
    }
   ],
   "source": [
    "print(xcf_ars_test_tfidf.shape)\n",
    "print(xcf_kb_test_tfidf.shape)"
   ]
  },
  {
   "cell_type": "code",
   "execution_count": 21,
   "id": "e9251c9e-62ba-4479-99ca-f7fec4faf6ef",
   "metadata": {},
   "outputs": [],
   "source": [
    "xcf_rf=RandomForestClassifier(max_depth=10, n_estimators=500, random_state=42)"
   ]
  },
  {
   "cell_type": "code",
   "execution_count": 24,
   "id": "3e7a4ff0-beac-46b4-bc62-d81e73bdd738",
   "metadata": {},
   "outputs": [
    {
     "name": "stdout",
     "output_type": "stream",
     "text": [
      "0.6746478873239437\n"
     ]
    }
   ],
   "source": [
    "xcf_rf.fit(xcf_train_X, xcf_train_y)\n",
    "xcf_pred_y=xcf_rf.predict(xcf_test_X)\n",
    "print(accuracy_score(xcf_pred_y,xcf_test_y))"
   ]
  },
  {
   "cell_type": "code",
   "execution_count": 25,
   "id": "6d6542c0-769d-4e05-aae5-ca0cda55740a",
   "metadata": {},
   "outputs": [
    {
     "name": "stdout",
     "output_type": "stream",
     "text": [
      "xcf-->ars prediction accuracy:  0.5203125\n"
     ]
    }
   ],
   "source": [
    "xcf_rf.fit(xcf_train_X, xcf_train_y)\n",
    "xcf_ars_pred_y=xcf_rf.predict(xcf_ars_test_tfidf)\n",
    "print('xcf-->ars prediction accuracy: ', accuracy_score(xcf_ars_pred_y,ars_test_y))"
   ]
  },
  {
   "cell_type": "code",
   "execution_count": 26,
   "id": "10e33cc3-ef08-4a7d-8d08-8de5f1d1a01b",
   "metadata": {},
   "outputs": [
    {
     "name": "stdout",
     "output_type": "stream",
     "text": [
      "xcf-->kb prediction accuracy:  0.4607142857142857\n"
     ]
    }
   ],
   "source": [
    "xcf_rf.fit(xcf_train_X, xcf_train_y)\n",
    "xcf_kb_pred_y=xcf_rf.predict(xcf_kb_test_tfidf)\n",
    "print('xcf-->kb prediction accuracy: ', accuracy_score(xcf_kb_pred_y,kb_test_y))"
   ]
  },
  {
   "cell_type": "code",
   "execution_count": 27,
   "id": "0787c338-0a93-4e1b-bf7e-a8808b340cc9",
   "metadata": {},
   "outputs": [],
   "source": [
    "# allrecipes --> xiachufang, kochbar"
   ]
  },
  {
   "cell_type": "code",
   "execution_count": 28,
   "id": "c7b7069f-6735-458e-8b29-999785e90627",
   "metadata": {},
   "outputs": [],
   "source": [
    "ars_xcf_test_tfidf=get_origin_target_test_X(allorigin_ingrs,ars_train_X,xcf_test_X)\n",
    "ars_kb_test_tfidf=get_origin_target_test_X(allorigin_ingrs,ars_train_X,kb_test_X)"
   ]
  },
  {
   "cell_type": "code",
   "execution_count": 29,
   "id": "58c1b8e5-d3b9-4d19-a3d2-1443c2869057",
   "metadata": {},
   "outputs": [],
   "source": [
    "ars_log=LogisticRegression(C=1, random_state=9527)"
   ]
  },
  {
   "cell_type": "code",
   "execution_count": 30,
   "id": "3afd6023-5bba-431b-b1b0-f2fbb204e17e",
   "metadata": {},
   "outputs": [
    {
     "name": "stdout",
     "output_type": "stream",
     "text": [
      "0.696875\n"
     ]
    }
   ],
   "source": [
    "ars_log.fit(ars_train_X, ars_train_y)\n",
    "ars_pred_y=ars_log.predict(ars_test_X)\n",
    "print(accuracy_score(ars_pred_y,ars_test_y))"
   ]
  },
  {
   "cell_type": "code",
   "execution_count": 31,
   "id": "558245aa-65b0-4a12-886c-8701886c9e5b",
   "metadata": {},
   "outputs": [
    {
     "name": "stdout",
     "output_type": "stream",
     "text": [
      "ars-->xcf prediction accuracy:  0.5225352112676056\n"
     ]
    }
   ],
   "source": [
    "ars_log.fit(ars_train_X,ars_train_y)\n",
    "ars_xcf_pred_y=ars_log.predict(ars_xcf_test_tfidf)\n",
    "print('ars-->xcf prediction accuracy: ', accuracy_score(ars_xcf_pred_y,xcf_test_y))"
   ]
  },
  {
   "cell_type": "code",
   "execution_count": 32,
   "id": "2ee9da8d-4922-44d9-876e-e3bc4e3bd108",
   "metadata": {},
   "outputs": [
    {
     "name": "stdout",
     "output_type": "stream",
     "text": [
      "ars-->kb prediction accuracy:  0.45714285714285713\n"
     ]
    }
   ],
   "source": [
    "ars_log.fit(ars_train_X, ars_train_y)\n",
    "ars_kb_pred_y=ars_log.predict(ars_kb_test_tfidf)\n",
    "print('ars-->kb prediction accuracy: ', accuracy_score(ars_kb_pred_y,kb_test_y))"
   ]
  },
  {
   "cell_type": "code",
   "execution_count": 33,
   "id": "2f28e921-9db7-402a-b2e8-8a6054b3d85d",
   "metadata": {},
   "outputs": [],
   "source": [
    "# kochbar --> xiachufang, allrecipes"
   ]
  },
  {
   "cell_type": "code",
   "execution_count": 34,
   "id": "fe1fedd8-6c7a-4823-98dd-457047c50816",
   "metadata": {},
   "outputs": [],
   "source": [
    "kb_xcf_test_tfidf=get_origin_target_test_X(allorigin_ingrs,kb_train_X,xcf_test_X)\n",
    "kb_ars_test_tfidf=get_origin_target_test_X(allorigin_ingrs,kb_train_X,ars_test_X)"
   ]
  },
  {
   "cell_type": "code",
   "execution_count": 35,
   "id": "50b7687e-2a9a-4179-aa54-aeb3c93729f2",
   "metadata": {},
   "outputs": [],
   "source": [
    "kb_log=LogisticRegression(C=0.1, random_state=9527)"
   ]
  },
  {
   "cell_type": "code",
   "execution_count": 36,
   "id": "b905bf14-7822-4831-9815-ba02b6bfbf8c",
   "metadata": {},
   "outputs": [
    {
     "name": "stdout",
     "output_type": "stream",
     "text": [
      "0.625\n"
     ]
    }
   ],
   "source": [
    "kb_log.fit(kb_train_X, kb_train_y)\n",
    "kb_pred_y=kb_log.predict(kb_test_X)\n",
    "print(accuracy_score(kb_pred_y,kb_test_y))"
   ]
  },
  {
   "cell_type": "code",
   "execution_count": 37,
   "id": "2b9a05e2-d626-4c38-a8de-d713544a7d70",
   "metadata": {},
   "outputs": [
    {
     "name": "stdout",
     "output_type": "stream",
     "text": [
      "kb-->xcf prediction accuracy:  0.43802816901408453\n"
     ]
    }
   ],
   "source": [
    "kb_log.fit(kb_train_X, kb_train_y)\n",
    "kb_xcf_pred_y=kb_log.predict(kb_xcf_test_tfidf)\n",
    "print('kb-->xcf prediction accuracy: ', accuracy_score(kb_xcf_pred_y,xcf_test_y))"
   ]
  },
  {
   "cell_type": "code",
   "execution_count": 38,
   "id": "ca06ca26-552e-495d-ae2d-47a1447d7542",
   "metadata": {},
   "outputs": [
    {
     "name": "stdout",
     "output_type": "stream",
     "text": [
      "kb-->ars prediction accuracy:  0.48125\n"
     ]
    }
   ],
   "source": [
    "kb_log.fit(kb_train_X, kb_train_y)\n",
    "kb_ars_pred_y=kb_log.predict(kb_ars_test_tfidf)\n",
    "print('kb-->ars prediction accuracy: ', accuracy_score(kb_ars_pred_y,ars_test_y))"
   ]
  },
  {
   "cell_type": "code",
   "execution_count": null,
   "id": "2eb16ed8-f71e-4bd3-a260-1f17eea63a62",
   "metadata": {},
   "outputs": [],
   "source": [
    "# visualization"
   ]
  },
  {
   "cell_type": "code",
   "execution_count": 57,
   "id": "722a33ce-b5e6-4e11-b4ee-a1e18015ea51",
   "metadata": {},
   "outputs": [],
   "source": [
    "accu_dict={'Xiachufang':[0.67,0.52,0.46],\n",
    "           'Allrecipes':[0.52,0.70,0.46],\n",
    "           'Kochbar':[0.44,0.48,0.63]}"
   ]
  },
  {
   "cell_type": "code",
   "execution_count": 58,
   "id": "86f912ca-0f3e-42fd-9d10-46a593a60f4c",
   "metadata": {},
   "outputs": [],
   "source": [
    "accu_df=pd.DataFrame(accu_dict)"
   ]
  },
  {
   "cell_type": "code",
   "execution_count": 59,
   "id": "8f6e3f02-c723-470f-a99a-7d6697cb5088",
   "metadata": {},
   "outputs": [],
   "source": [
    "accu_df.index=['Xiachufang','Allrecipes','Kochbar']"
   ]
  },
  {
   "cell_type": "code",
   "execution_count": 65,
   "id": "bd1ed271-1091-42cd-869a-07dd0e2f8805",
   "metadata": {},
   "outputs": [
    {
     "data": {
      "text/html": [
       "<div>\n",
       "<style scoped>\n",
       "    .dataframe tbody tr th:only-of-type {\n",
       "        vertical-align: middle;\n",
       "    }\n",
       "\n",
       "    .dataframe tbody tr th {\n",
       "        vertical-align: top;\n",
       "    }\n",
       "\n",
       "    .dataframe thead th {\n",
       "        text-align: right;\n",
       "    }\n",
       "</style>\n",
       "<table border=\"1\" class=\"dataframe\">\n",
       "  <thead>\n",
       "    <tr style=\"text-align: right;\">\n",
       "      <th></th>\n",
       "      <th>Xiachufang</th>\n",
       "      <th>Allrecipes</th>\n",
       "      <th>Kochbar</th>\n",
       "    </tr>\n",
       "  </thead>\n",
       "  <tbody>\n",
       "    <tr>\n",
       "      <th>Xiachufang</th>\n",
       "      <td>0.67</td>\n",
       "      <td>0.52</td>\n",
       "      <td>0.44</td>\n",
       "    </tr>\n",
       "    <tr>\n",
       "      <th>Allrecipes</th>\n",
       "      <td>0.52</td>\n",
       "      <td>0.70</td>\n",
       "      <td>0.48</td>\n",
       "    </tr>\n",
       "    <tr>\n",
       "      <th>Kochbar</th>\n",
       "      <td>0.46</td>\n",
       "      <td>0.46</td>\n",
       "      <td>0.63</td>\n",
       "    </tr>\n",
       "  </tbody>\n",
       "</table>\n",
       "</div>"
      ],
      "text/plain": [
       "            Xiachufang  Allrecipes  Kochbar\n",
       "Xiachufang        0.67        0.52     0.44\n",
       "Allrecipes        0.52        0.70     0.48\n",
       "Kochbar           0.46        0.46     0.63"
      ]
     },
     "execution_count": 65,
     "metadata": {},
     "output_type": "execute_result"
    }
   ],
   "source": [
    "accu_df"
   ]
  },
  {
   "cell_type": "code",
   "execution_count": 66,
   "id": "667b641f-419e-4948-84ad-bf7e72da7f3a",
   "metadata": {},
   "outputs": [],
   "source": [
    "import matplotlib.pyplot as plt\n",
    "import seaborn as sns"
   ]
  },
  {
   "cell_type": "code",
   "execution_count": 69,
   "id": "b5bdd2ff-ae18-45e5-bfbb-f1d955237b23",
   "metadata": {},
   "outputs": [
    {
     "data": {
      "image/png": "[encoded data removed]",
      "text/plain": [
       "<Figure size 864x216 with 3 Axes>"
      ]
     },
     "metadata": {},
     "output_type": "display_data"
    }
   ],
   "source": [
    "sns.set()\n",
    "plt.figure(figsize=(12,3))\n",
    "\n",
    "plt.subplot(1,3,1)\n",
    "baseline=0.5\n",
    "plt.bar([0,1,2],accu_df.Xiachufang-0.5,bottom=baseline,color=['b','orange','g'])\n",
    "plt.xticks([0,1,2],accu_df.index,fontsize=15,rotation=45)\n",
    "plt.yticks(fontsize=12)\n",
    "plt.axhline(0.5,color='k') # 将baseline标注出来\n",
    "plt.ylim(0.43,0.72)\n",
    "plt.title('Xiachufang',fontsize=15)\n",
    "\n",
    "plt.subplot(1,3,2)\n",
    "baseline=0.5\n",
    "plt.bar([0,1,2],accu_df.Allrecipes-0.5,bottom=baseline,color=['b','orange','g'])\n",
    "plt.xticks([0,1,2],accu_df.index,fontsize=15,rotation=45)\n",
    "plt.yticks(fontsize=12)\n",
    "plt.axhline(0.5,color='k') # 将baseline标注出来\n",
    "plt.ylim(0.43,0.72)\n",
    "plt.title('Allrecipes',fontsize=15)\n",
    "\n",
    "plt.subplot(1,3,3)\n",
    "baseline=0.5\n",
    "plt.bar([0,1,2],accu_df.Kochbar-0.5,bottom=baseline,color=['b','orange','g'])\n",
    "plt.xticks([0,1,2],accu_df.index,fontsize=15,rotation=45)\n",
    "plt.yticks(fontsize=12)\n",
    "plt.axhline(0.5,color='k') # 将baseline标注出来\n",
    "plt.ylim(0.43,0.72)\n",
    "plt.title('Kochbar',fontsize=15)\n",
    "\n",
    "plt.savefig('fig/pdf/ingr_tfidf_ingr_cross_model.pdf',dpi=300,bbox_inches='tight')\n",
    "plt.savefig('fig/png/ingr_tfidf_ingr_cross_model.png',dpi=300,bbox_inches='tight')"
   ]
  },
  {
   "cell_type": "code",
   "execution_count": null,
   "id": "aeb12b95-9811-4ca2-a4ff-900aaf9cb5c1",
   "metadata": {},
   "outputs": [],
   "source": []
  },
  {
   "cell_type": "code",
   "execution_count": null,
   "id": "e8bde13b-9861-46eb-94f5-5d9b35037fa3",
   "metadata": {},
   "outputs": [],
   "source": []
  }
 ],
 "metadata": {
  "kernelspec": {
   "display_name": "Python 3 (ipykernel)",
   "language": "python",
   "name": "python3"
  },
  "language_info": {
   "codemirror_mode": {
    "name": "ipython",
    "version": 3
   },
   "file_extension": ".py",
   "mimetype": "text/x-python",
   "name": "python",
   "nbconvert_exporter": "python",
   "pygments_lexer": "ipython3",
   "version": "3.9.13"
  }
 },
 "nbformat": 4,
 "nbformat_minor": 5
}
