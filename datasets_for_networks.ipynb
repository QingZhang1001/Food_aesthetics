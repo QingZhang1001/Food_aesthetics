{
 "cells": [
  {
   "cell_type": "code",
   "execution_count": 1,
   "metadata": {},
   "outputs": [],
   "source": [
    "import warnings\n",
    "warnings.filterwarnings('ignore')"
   ]
  },
  {
   "cell_type": "code",
   "execution_count": 2,
   "metadata": {},
   "outputs": [],
   "source": [
    "import pandas as pd\n",
    "import numpy as np\n",
    "import re \n",
    "from ast import literal_eval\n",
    "\n",
    "import matplotlib.pyplot as plt\n",
    "import seaborn as sns"
   ]
  },
  {
   "cell_type": "code",
   "execution_count": 14,
   "metadata": {},
   "outputs": [],
   "source": [
    "xcf_tb_data=pd.read_csv('~/work/food_flavor_2021/three_origins_ingredients_analysis/june_datasets/(14.09)xcf_tb_flavordb.csv',index_col=0,converters={'flavordb_ingrs':eval})\n",
    "ars_tb_data=pd.read_csv('~/work/food_flavor_2021/three_origins_ingredients_analysis/june_datasets/(23.09)ars_tb_flavordb.csv',index_col=0,converters={'flavordb_ingr':eval})\n",
    "kb_tb_data=pd.read_csv('~/work/food_flavor_2021/three_origins_ingredients_analysis/june_datasets/(09.07)kb_tb_flavordb.csv',index_col=0,converters={'flavordb_ingr':eval})"
   ]
  },
  {
   "cell_type": "code",
   "execution_count": 15,
   "metadata": {},
   "outputs": [],
   "source": [
    "xcf_tb_data.rename(columns={'flavordb_ingrs':'flavordb_ingr'},inplace=True)"
   ]
  },
  {
   "cell_type": "code",
   "execution_count": 16,
   "metadata": {},
   "outputs": [],
   "source": [
    "xcf_tb_data=xcf_tb_data[['class','recipe_id','flavordb_ingr']]"
   ]
  },
  {
   "cell_type": "code",
   "execution_count": 17,
   "metadata": {},
   "outputs": [
    {
     "data": {
      "text/html": [
       "<div>\n",
       "<style scoped>\n",
       "    .dataframe tbody tr th:only-of-type {\n",
       "        vertical-align: middle;\n",
       "    }\n",
       "\n",
       "    .dataframe tbody tr th {\n",
       "        vertical-align: top;\n",
       "    }\n",
       "\n",
       "    .dataframe thead th {\n",
       "        text-align: right;\n",
       "    }\n",
       "</style>\n",
       "<table border=\"1\" class=\"dataframe\">\n",
       "  <thead>\n",
       "    <tr style=\"text-align: right;\">\n",
       "      <th></th>\n",
       "      <th>class</th>\n",
       "      <th>recipe_id</th>\n",
       "      <th>flavordb_ingr</th>\n",
       "    </tr>\n",
       "  </thead>\n",
       "  <tbody>\n",
       "    <tr>\n",
       "      <th>0</th>\n",
       "      <td>1</td>\n",
       "      <td>100000175</td>\n",
       "      <td>[rice, salt, cabbage, oats, pepper]</td>\n",
       "    </tr>\n",
       "    <tr>\n",
       "      <th>1</th>\n",
       "      <td>1</td>\n",
       "      <td>100000387</td>\n",
       "      <td>[salt, broccoli, cooking_oil, pork]</td>\n",
       "    </tr>\n",
       "    <tr>\n",
       "      <th>2</th>\n",
       "      <td>1</td>\n",
       "      <td>100000424</td>\n",
       "      <td>[tomato, soybean_sauce, garlic, salt, cabbage,...</td>\n",
       "    </tr>\n",
       "    <tr>\n",
       "      <th>3</th>\n",
       "      <td>1</td>\n",
       "      <td>100000444</td>\n",
       "      <td>[shiitake, garlic, salt, cabbage, soybean_sauc...</td>\n",
       "    </tr>\n",
       "    <tr>\n",
       "      <th>4</th>\n",
       "      <td>1</td>\n",
       "      <td>100000562</td>\n",
       "      <td>[durian, water]</td>\n",
       "    </tr>\n",
       "  </tbody>\n",
       "</table>\n",
       "</div>"
      ],
      "text/plain": [
       "   class  recipe_id                                      flavordb_ingr\n",
       "0      1  100000175                [rice, salt, cabbage, oats, pepper]\n",
       "1      1  100000387                [salt, broccoli, cooking_oil, pork]\n",
       "2      1  100000424  [tomato, soybean_sauce, garlic, salt, cabbage,...\n",
       "3      1  100000444  [shiitake, garlic, salt, cabbage, soybean_sauc...\n",
       "4      1  100000562                                    [durian, water]"
      ]
     },
     "execution_count": 17,
     "metadata": {},
     "output_type": "execute_result"
    }
   ],
   "source": [
    "xcf_tb_data.head()"
   ]
  },
  {
   "cell_type": "code",
   "execution_count": 18,
   "metadata": {},
   "outputs": [
    {
     "data": {
      "text/html": [
       "<div>\n",
       "<style scoped>\n",
       "    .dataframe tbody tr th:only-of-type {\n",
       "        vertical-align: middle;\n",
       "    }\n",
       "\n",
       "    .dataframe tbody tr th {\n",
       "        vertical-align: top;\n",
       "    }\n",
       "\n",
       "    .dataframe thead th {\n",
       "        text-align: right;\n",
       "    }\n",
       "</style>\n",
       "<table border=\"1\" class=\"dataframe\">\n",
       "  <thead>\n",
       "    <tr style=\"text-align: right;\">\n",
       "      <th></th>\n",
       "      <th>class</th>\n",
       "      <th>recipe_id</th>\n",
       "      <th>flavordb_ingr</th>\n",
       "    </tr>\n",
       "  </thead>\n",
       "  <tbody>\n",
       "    <tr>\n",
       "      <th>0</th>\n",
       "      <td>0</td>\n",
       "      <td>152</td>\n",
       "      <td>[butter, buttermilk, cooking_oil, egg, flour, ...</td>\n",
       "    </tr>\n",
       "    <tr>\n",
       "      <th>1</th>\n",
       "      <td>0</td>\n",
       "      <td>198</td>\n",
       "      <td>[biscuit, butter, codfish, lemon, onion, parsl...</td>\n",
       "    </tr>\n",
       "    <tr>\n",
       "      <th>2</th>\n",
       "      <td>0</td>\n",
       "      <td>313</td>\n",
       "      <td>[apple, butter, capsicum, cheddar_cheese, egg,...</td>\n",
       "    </tr>\n",
       "    <tr>\n",
       "      <th>3</th>\n",
       "      <td>0</td>\n",
       "      <td>382</td>\n",
       "      <td>[beef, carrot, celery, garlic, kale, kidney_be...</td>\n",
       "    </tr>\n",
       "    <tr>\n",
       "      <th>4</th>\n",
       "      <td>0</td>\n",
       "      <td>596</td>\n",
       "      <td>[biscuit, chocolate, cream_cheese, egg, sugar,...</td>\n",
       "    </tr>\n",
       "  </tbody>\n",
       "</table>\n",
       "</div>"
      ],
      "text/plain": [
       "   class  recipe_id                                      flavordb_ingr\n",
       "0      0        152  [butter, buttermilk, cooking_oil, egg, flour, ...\n",
       "1      0        198  [biscuit, butter, codfish, lemon, onion, parsl...\n",
       "2      0        313  [apple, butter, capsicum, cheddar_cheese, egg,...\n",
       "3      0        382  [beef, carrot, celery, garlic, kale, kidney_be...\n",
       "4      0        596  [biscuit, chocolate, cream_cheese, egg, sugar,..."
      ]
     },
     "execution_count": 18,
     "metadata": {},
     "output_type": "execute_result"
    }
   ],
   "source": [
    "ars_tb_data.head()"
   ]
  },
  {
   "cell_type": "code",
   "execution_count": 19,
   "metadata": {},
   "outputs": [
    {
     "data": {
      "text/html": [
       "<div>\n",
       "<style scoped>\n",
       "    .dataframe tbody tr th:only-of-type {\n",
       "        vertical-align: middle;\n",
       "    }\n",
       "\n",
       "    .dataframe tbody tr th {\n",
       "        vertical-align: top;\n",
       "    }\n",
       "\n",
       "    .dataframe thead th {\n",
       "        text-align: right;\n",
       "    }\n",
       "</style>\n",
       "<table border=\"1\" class=\"dataframe\">\n",
       "  <thead>\n",
       "    <tr style=\"text-align: right;\">\n",
       "      <th></th>\n",
       "      <th>class</th>\n",
       "      <th>recipe_id</th>\n",
       "      <th>flavordb_ingr</th>\n",
       "    </tr>\n",
       "  </thead>\n",
       "  <tbody>\n",
       "    <tr>\n",
       "      <th>0</th>\n",
       "      <td>0</td>\n",
       "      <td>731</td>\n",
       "      <td>[asparagus, butter, capsicum, chive, cooking_o...</td>\n",
       "    </tr>\n",
       "    <tr>\n",
       "      <th>1</th>\n",
       "      <td>0</td>\n",
       "      <td>964</td>\n",
       "      <td>[cocoa_powder, cream, egg, red_wine, sugar]</td>\n",
       "    </tr>\n",
       "    <tr>\n",
       "      <th>2</th>\n",
       "      <td>0</td>\n",
       "      <td>1182</td>\n",
       "      <td>[butter, egg, flour, milk, salt, spelt, sugar]</td>\n",
       "    </tr>\n",
       "    <tr>\n",
       "      <th>3</th>\n",
       "      <td>0</td>\n",
       "      <td>1603</td>\n",
       "      <td>[chive, onion, parsley, rosemary, water]</td>\n",
       "    </tr>\n",
       "    <tr>\n",
       "      <th>4</th>\n",
       "      <td>0</td>\n",
       "      <td>1680</td>\n",
       "      <td>[butter, egg, gelatin, lemon, milk, pudding, s...</td>\n",
       "    </tr>\n",
       "  </tbody>\n",
       "</table>\n",
       "</div>"
      ],
      "text/plain": [
       "   class  recipe_id                                      flavordb_ingr\n",
       "0      0        731  [asparagus, butter, capsicum, chive, cooking_o...\n",
       "1      0        964        [cocoa_powder, cream, egg, red_wine, sugar]\n",
       "2      0       1182     [butter, egg, flour, milk, salt, spelt, sugar]\n",
       "3      0       1603           [chive, onion, parsley, rosemary, water]\n",
       "4      0       1680  [butter, egg, gelatin, lemon, milk, pudding, s..."
      ]
     },
     "execution_count": 19,
     "metadata": {},
     "output_type": "execute_result"
    }
   ],
   "source": [
    "kb_tb_data.head()"
   ]
  },
  {
   "cell_type": "code",
   "execution_count": 9,
   "metadata": {},
   "outputs": [],
   "source": [
    "# drop the num.flavordb_ingrs\n",
    "def calculate_frequency(data,column):\n",
    "    #data['flvaordb_ingrs']=data['flvaordb_ingrs'].apply(list)\n",
    "    data=data.explode(column)\n",
    "    #data=pd.merge(data,flavordb_ingr,left_on='flvaordb_ingrs',right_on='entity_alias_readable')\n",
    "    #print(data.shape)\n",
    "    \n",
    "    # delete duplicated ingredients in each recipe\n",
    "    data=pd.DataFrame(data.groupby('recipe_id')[column].apply(set)).reset_index()\n",
    "    data[column]=data[column].apply(list)\n",
    "    data=data.explode(column)\n",
    "    \n",
    "    # calculate ingredient frequency\n",
    "    ingr_fre=pd.DataFrame(data[column].value_counts()).reset_index()\n",
    "    ingr_fre.columns=['ingr','ingr_fre']\n",
    "    \n",
    "    # find the ingredient pair\n",
    "    list_data=pd.DataFrame(data.groupby('recipe_id')[column].apply(list)).reset_index()\n",
    "    print('Number of recipes: ',list_data.shape)\n",
    "    list_data[column]=list_data[column].apply(lambda x:sorted(x))\n",
    "    list_data['pairs']=list_data[column].apply(lambda x:[(a,b) for idx,a in enumerate(x) for b in x[idx+1:]])\n",
    "    pair_data=list_data.drop(column,axis=1)\n",
    "    \n",
    "    # calculate ingredient pair frequency\n",
    "    pair_data=pair_data.explode('pairs')\n",
    "    pair_fre=pd.DataFrame(pair_data['pairs'].value_counts()).reset_index()\n",
    "    pair_fre.columns=['pairs','pair_frequency']\n",
    "    \n",
    "    return ingr_fre,pair_data,pair_fre"
   ]
  },
  {
   "cell_type": "code",
   "execution_count": 23,
   "metadata": {},
   "outputs": [
    {
     "name": "stdout",
     "output_type": "stream",
     "text": [
      "Number of recipes:  (2366, 2)\n"
     ]
    }
   ],
   "source": [
    "xcf_ingr_fre,xcf_pair_data,xcf_pair_fre=calculate_frequency(xcf_tb_data,'flavordb_ingr')"
   ]
  },
  {
   "cell_type": "code",
   "execution_count": 24,
   "metadata": {},
   "outputs": [
    {
     "name": "stdout",
     "output_type": "stream",
     "text": [
      "Number of recipes:  (2133, 2)\n"
     ]
    }
   ],
   "source": [
    "ars_ingr_fre,ars_pair_data,ars_pair_fre=calculate_frequency(ars_tb_data,'flavordb_ingr')"
   ]
  },
  {
   "cell_type": "code",
   "execution_count": 25,
   "metadata": {},
   "outputs": [
    {
     "name": "stdout",
     "output_type": "stream",
     "text": [
      "Number of recipes:  (1864, 2)\n"
     ]
    }
   ],
   "source": [
    "kb_ingr_fre,kb_pair_data,kb_pair_fre=calculate_frequency(kb_tb_data,'flavordb_ingr')"
   ]
  },
  {
   "cell_type": "code",
   "execution_count": 26,
   "metadata": {},
   "outputs": [],
   "source": [
    "def cal_PMI(ingr_fre,pair_fre,N):\n",
    "    pair_fre[['ingr1','ingr2']]=pd.DataFrame(pair_fre['pairs'].tolist(),index=pair_fre.index)\n",
    "    temp=pd.merge(pair_fre,ingr_fre,left_on='ingr1',right_on='ingr').sort_values('pair_frequency',ascending=False)\n",
    "    temp.drop('ingr',axis=1,inplace=True)\n",
    "    temp.rename(columns={'ingr_fre':'ingr1_fre'},inplace=True)\n",
    "    \n",
    "    temp=pd.merge(temp,ingr_fre,left_on='ingr2',right_on='ingr').sort_values('pair_frequency',ascending=False)\n",
    "    temp.drop('ingr',axis=1,inplace=True)\n",
    "    temp.rename(columns={'ingr_fre':'ingr2_fre'},inplace=True)\n",
    "\n",
    "    PMI_data=temp.copy()\n",
    "    PMI_data['pair_prevelence']=PMI_data['pair_frequency']/N\n",
    "    PMI_data['ingr1_prevelence']=PMI_data['ingr1_fre']/N\n",
    "    PMI_data['ingr2_prevelence']=PMI_data['ingr2_fre']/N\n",
    "    \n",
    "    PMI_data.reset_index(drop=True,inplace=True)\n",
    "    PMI_data['pmi']=np.log(PMI_data['pair_prevelence']/(PMI_data['ingr1_prevelence']*PMI_data['ingr2_prevelence']))\n",
    "    \n",
    "    return PMI_data"
   ]
  },
  {
   "cell_type": "code",
   "execution_count": 27,
   "metadata": {},
   "outputs": [],
   "source": [
    "xcf_PMI_data=cal_PMI(xcf_ingr_fre,xcf_pair_fre,2366)\n",
    "ars_PMI_data=cal_PMI(ars_ingr_fre,ars_pair_fre,2133)\n",
    "kb_PMI_data=cal_PMI(kb_ingr_fre,kb_pair_fre,1864)"
   ]
  },
  {
   "cell_type": "code",
   "execution_count": 33,
   "metadata": {},
   "outputs": [],
   "source": [
    "def cal_NPMI(pmi_data):\n",
    "    pmi_data['npmi']=pmi_data['pmi']/-(np.log(pmi_data['pair_prevelence']))\n",
    "    return pmi_data"
   ]
  },
  {
   "cell_type": "code",
   "execution_count": 34,
   "metadata": {},
   "outputs": [],
   "source": [
    "xcf_PMI_data=cal_NPMI(xcf_PMI_data)\n",
    "ars_PMI_data=cal_NPMI(ars_PMI_data)\n",
    "kb_PMI_data=cal_NPMI(kb_PMI_data)"
   ]
  },
  {
   "cell_type": "code",
   "execution_count": 39,
   "metadata": {},
   "outputs": [],
   "source": [
    "xcf_PMI_data.sort_values('npmi',ascending=False,inplace=True)\n",
    "ars_PMI_data.sort_values('npmi',ascending=False,inplace=True)\n",
    "kb_PMI_data.sort_values('npmi',ascending=False,inplace=True)"
   ]
  },
  {
   "cell_type": "code",
   "execution_count": 40,
   "metadata": {
    "tags": []
   },
   "outputs": [
    {
     "data": {
      "text/html": [
       "<div>\n",
       "<style scoped>\n",
       "    .dataframe tbody tr th:only-of-type {\n",
       "        vertical-align: middle;\n",
       "    }\n",
       "\n",
       "    .dataframe tbody tr th {\n",
       "        vertical-align: top;\n",
       "    }\n",
       "\n",
       "    .dataframe thead th {\n",
       "        text-align: right;\n",
       "    }\n",
       "</style>\n",
       "<table border=\"1\" class=\"dataframe\">\n",
       "  <thead>\n",
       "    <tr style=\"text-align: right;\">\n",
       "      <th></th>\n",
       "      <th>pairs</th>\n",
       "      <th>pair_frequency</th>\n",
       "      <th>ingr1</th>\n",
       "      <th>ingr2</th>\n",
       "      <th>ingr1_fre</th>\n",
       "      <th>ingr2_fre</th>\n",
       "      <th>pair_prevelence</th>\n",
       "      <th>ingr1_prevelence</th>\n",
       "      <th>ingr2_prevelence</th>\n",
       "      <th>pmi</th>\n",
       "      <th>npmi</th>\n",
       "    </tr>\n",
       "  </thead>\n",
       "  <tbody>\n",
       "    <tr>\n",
       "      <th>383</th>\n",
       "      <td>(mace, tamarind)</td>\n",
       "      <td>18</td>\n",
       "      <td>mace</td>\n",
       "      <td>tamarind</td>\n",
       "      <td>18</td>\n",
       "      <td>18</td>\n",
       "      <td>0.007608</td>\n",
       "      <td>0.007608</td>\n",
       "      <td>0.007608</td>\n",
       "      <td>4.878584</td>\n",
       "      <td>1.0</td>\n",
       "    </tr>\n",
       "    <tr>\n",
       "      <th>442</th>\n",
       "      <td>(cardamom, mace)</td>\n",
       "      <td>18</td>\n",
       "      <td>cardamom</td>\n",
       "      <td>mace</td>\n",
       "      <td>18</td>\n",
       "      <td>18</td>\n",
       "      <td>0.007608</td>\n",
       "      <td>0.007608</td>\n",
       "      <td>0.007608</td>\n",
       "      <td>4.878584</td>\n",
       "      <td>1.0</td>\n",
       "    </tr>\n",
       "    <tr>\n",
       "      <th>381</th>\n",
       "      <td>(tamarind, turmeric)</td>\n",
       "      <td>18</td>\n",
       "      <td>tamarind</td>\n",
       "      <td>turmeric</td>\n",
       "      <td>18</td>\n",
       "      <td>18</td>\n",
       "      <td>0.007608</td>\n",
       "      <td>0.007608</td>\n",
       "      <td>0.007608</td>\n",
       "      <td>4.878584</td>\n",
       "      <td>1.0</td>\n",
       "    </tr>\n",
       "    <tr>\n",
       "      <th>382</th>\n",
       "      <td>(fenugreek, turmeric)</td>\n",
       "      <td>18</td>\n",
       "      <td>fenugreek</td>\n",
       "      <td>turmeric</td>\n",
       "      <td>18</td>\n",
       "      <td>18</td>\n",
       "      <td>0.007608</td>\n",
       "      <td>0.007608</td>\n",
       "      <td>0.007608</td>\n",
       "      <td>4.878584</td>\n",
       "      <td>1.0</td>\n",
       "    </tr>\n",
       "    <tr>\n",
       "      <th>388</th>\n",
       "      <td>(saffron, turmeric)</td>\n",
       "      <td>18</td>\n",
       "      <td>saffron</td>\n",
       "      <td>turmeric</td>\n",
       "      <td>18</td>\n",
       "      <td>18</td>\n",
       "      <td>0.007608</td>\n",
       "      <td>0.007608</td>\n",
       "      <td>0.007608</td>\n",
       "      <td>4.878584</td>\n",
       "      <td>1.0</td>\n",
       "    </tr>\n",
       "  </tbody>\n",
       "</table>\n",
       "</div>"
      ],
      "text/plain": [
       "                     pairs  pair_frequency      ingr1     ingr2  ingr1_fre  \\\n",
       "383       (mace, tamarind)              18       mace  tamarind         18   \n",
       "442       (cardamom, mace)              18   cardamom      mace         18   \n",
       "381   (tamarind, turmeric)              18   tamarind  turmeric         18   \n",
       "382  (fenugreek, turmeric)              18  fenugreek  turmeric         18   \n",
       "388    (saffron, turmeric)              18    saffron  turmeric         18   \n",
       "\n",
       "     ingr2_fre  pair_prevelence  ingr1_prevelence  ingr2_prevelence       pmi  \\\n",
       "383         18         0.007608          0.007608          0.007608  4.878584   \n",
       "442         18         0.007608          0.007608          0.007608  4.878584   \n",
       "381         18         0.007608          0.007608          0.007608  4.878584   \n",
       "382         18         0.007608          0.007608          0.007608  4.878584   \n",
       "388         18         0.007608          0.007608          0.007608  4.878584   \n",
       "\n",
       "     npmi  \n",
       "383   1.0  \n",
       "442   1.0  \n",
       "381   1.0  \n",
       "382   1.0  \n",
       "388   1.0  "
      ]
     },
     "execution_count": 40,
     "metadata": {},
     "output_type": "execute_result"
    }
   ],
   "source": [
    "xcf_PMI_data.head()"
   ]
  },
  {
   "cell_type": "code",
   "execution_count": 41,
   "metadata": {
    "collapsed": true,
    "jupyter": {
     "outputs_hidden": true
    }
   },
   "outputs": [
    {
     "data": {
      "text/html": [
       "<div>\n",
       "<style scoped>\n",
       "    .dataframe tbody tr th:only-of-type {\n",
       "        vertical-align: middle;\n",
       "    }\n",
       "\n",
       "    .dataframe tbody tr th {\n",
       "        vertical-align: top;\n",
       "    }\n",
       "\n",
       "    .dataframe thead th {\n",
       "        text-align: right;\n",
       "    }\n",
       "</style>\n",
       "<table border=\"1\" class=\"dataframe\">\n",
       "  <thead>\n",
       "    <tr style=\"text-align: right;\">\n",
       "      <th></th>\n",
       "      <th>pairs</th>\n",
       "      <th>pair_frequency</th>\n",
       "      <th>ingr1</th>\n",
       "      <th>ingr2</th>\n",
       "      <th>ingr1_fre</th>\n",
       "      <th>ingr2_fre</th>\n",
       "      <th>pair_prevelence</th>\n",
       "      <th>ingr1_prevelence</th>\n",
       "      <th>ingr2_prevelence</th>\n",
       "      <th>pmi</th>\n",
       "      <th>npmi</th>\n",
       "    </tr>\n",
       "  </thead>\n",
       "  <tbody>\n",
       "    <tr>\n",
       "      <th>671</th>\n",
       "      <td>(fenugreek, tamarind)</td>\n",
       "      <td>22</td>\n",
       "      <td>fenugreek</td>\n",
       "      <td>tamarind</td>\n",
       "      <td>22</td>\n",
       "      <td>22</td>\n",
       "      <td>0.010314</td>\n",
       "      <td>0.010314</td>\n",
       "      <td>0.010314</td>\n",
       "      <td>4.574242</td>\n",
       "      <td>1.000000</td>\n",
       "    </tr>\n",
       "    <tr>\n",
       "      <th>690</th>\n",
       "      <td>(fenugreek, saffron)</td>\n",
       "      <td>22</td>\n",
       "      <td>fenugreek</td>\n",
       "      <td>saffron</td>\n",
       "      <td>22</td>\n",
       "      <td>24</td>\n",
       "      <td>0.010314</td>\n",
       "      <td>0.010314</td>\n",
       "      <td>0.011252</td>\n",
       "      <td>4.487231</td>\n",
       "      <td>0.980978</td>\n",
       "    </tr>\n",
       "    <tr>\n",
       "      <th>698</th>\n",
       "      <td>(saffron, tamarind)</td>\n",
       "      <td>22</td>\n",
       "      <td>saffron</td>\n",
       "      <td>tamarind</td>\n",
       "      <td>24</td>\n",
       "      <td>22</td>\n",
       "      <td>0.010314</td>\n",
       "      <td>0.011252</td>\n",
       "      <td>0.010314</td>\n",
       "      <td>4.487231</td>\n",
       "      <td>0.980978</td>\n",
       "    </tr>\n",
       "    <tr>\n",
       "      <th>664</th>\n",
       "      <td>(mace, tamarind)</td>\n",
       "      <td>22</td>\n",
       "      <td>mace</td>\n",
       "      <td>tamarind</td>\n",
       "      <td>25</td>\n",
       "      <td>22</td>\n",
       "      <td>0.010314</td>\n",
       "      <td>0.011721</td>\n",
       "      <td>0.010314</td>\n",
       "      <td>4.446409</td>\n",
       "      <td>0.972054</td>\n",
       "    </tr>\n",
       "    <tr>\n",
       "      <th>699</th>\n",
       "      <td>(fenugreek, mace)</td>\n",
       "      <td>22</td>\n",
       "      <td>fenugreek</td>\n",
       "      <td>mace</td>\n",
       "      <td>22</td>\n",
       "      <td>25</td>\n",
       "      <td>0.010314</td>\n",
       "      <td>0.010314</td>\n",
       "      <td>0.011721</td>\n",
       "      <td>4.446409</td>\n",
       "      <td>0.972054</td>\n",
       "    </tr>\n",
       "  </tbody>\n",
       "</table>\n",
       "</div>"
      ],
      "text/plain": [
       "                     pairs  pair_frequency      ingr1     ingr2  ingr1_fre  \\\n",
       "671  (fenugreek, tamarind)              22  fenugreek  tamarind         22   \n",
       "690   (fenugreek, saffron)              22  fenugreek   saffron         22   \n",
       "698    (saffron, tamarind)              22    saffron  tamarind         24   \n",
       "664       (mace, tamarind)              22       mace  tamarind         25   \n",
       "699      (fenugreek, mace)              22  fenugreek      mace         22   \n",
       "\n",
       "     ingr2_fre  pair_prevelence  ingr1_prevelence  ingr2_prevelence       pmi  \\\n",
       "671         22         0.010314          0.010314          0.010314  4.574242   \n",
       "690         24         0.010314          0.010314          0.011252  4.487231   \n",
       "698         22         0.010314          0.011252          0.010314  4.487231   \n",
       "664         22         0.010314          0.011721          0.010314  4.446409   \n",
       "699         25         0.010314          0.010314          0.011721  4.446409   \n",
       "\n",
       "         npmi  \n",
       "671  1.000000  \n",
       "690  0.980978  \n",
       "698  0.980978  \n",
       "664  0.972054  \n",
       "699  0.972054  "
      ]
     },
     "execution_count": 41,
     "metadata": {},
     "output_type": "execute_result"
    }
   ],
   "source": [
    "ars_PMI_data.head()"
   ]
  },
  {
   "cell_type": "code",
   "execution_count": 42,
   "metadata": {
    "collapsed": true,
    "jupyter": {
     "outputs_hidden": true
    }
   },
   "outputs": [
    {
     "data": {
      "text/html": [
       "<div>\n",
       "<style scoped>\n",
       "    .dataframe tbody tr th:only-of-type {\n",
       "        vertical-align: middle;\n",
       "    }\n",
       "\n",
       "    .dataframe tbody tr th {\n",
       "        vertical-align: top;\n",
       "    }\n",
       "\n",
       "    .dataframe thead th {\n",
       "        text-align: right;\n",
       "    }\n",
       "</style>\n",
       "<table border=\"1\" class=\"dataframe\">\n",
       "  <thead>\n",
       "    <tr style=\"text-align: right;\">\n",
       "      <th></th>\n",
       "      <th>pairs</th>\n",
       "      <th>pair_frequency</th>\n",
       "      <th>ingr1</th>\n",
       "      <th>ingr2</th>\n",
       "      <th>ingr1_fre</th>\n",
       "      <th>ingr2_fre</th>\n",
       "      <th>pair_prevelence</th>\n",
       "      <th>ingr1_prevelence</th>\n",
       "      <th>ingr2_prevelence</th>\n",
       "      <th>pmi</th>\n",
       "      <th>npmi</th>\n",
       "    </tr>\n",
       "  </thead>\n",
       "  <tbody>\n",
       "    <tr>\n",
       "      <th>6369</th>\n",
       "      <td>(dandelion, sorrel)</td>\n",
       "      <td>1</td>\n",
       "      <td>dandelion</td>\n",
       "      <td>sorrel</td>\n",
       "      <td>1</td>\n",
       "      <td>1</td>\n",
       "      <td>0.000536</td>\n",
       "      <td>0.000536</td>\n",
       "      <td>0.000536</td>\n",
       "      <td>7.530480</td>\n",
       "      <td>1.000000</td>\n",
       "    </tr>\n",
       "    <tr>\n",
       "      <th>6142</th>\n",
       "      <td>(cassava, yam)</td>\n",
       "      <td>1</td>\n",
       "      <td>cassava</td>\n",
       "      <td>yam</td>\n",
       "      <td>1</td>\n",
       "      <td>1</td>\n",
       "      <td>0.000536</td>\n",
       "      <td>0.000536</td>\n",
       "      <td>0.000536</td>\n",
       "      <td>7.530480</td>\n",
       "      <td>1.000000</td>\n",
       "    </tr>\n",
       "    <tr>\n",
       "      <th>6227</th>\n",
       "      <td>(passionfruit, soft_drink)</td>\n",
       "      <td>1</td>\n",
       "      <td>passionfruit</td>\n",
       "      <td>soft_drink</td>\n",
       "      <td>1</td>\n",
       "      <td>1</td>\n",
       "      <td>0.000536</td>\n",
       "      <td>0.000536</td>\n",
       "      <td>0.000536</td>\n",
       "      <td>7.530480</td>\n",
       "      <td>1.000000</td>\n",
       "    </tr>\n",
       "    <tr>\n",
       "      <th>2680</th>\n",
       "      <td>(chicory, endive)</td>\n",
       "      <td>6</td>\n",
       "      <td>chicory</td>\n",
       "      <td>endive</td>\n",
       "      <td>6</td>\n",
       "      <td>6</td>\n",
       "      <td>0.003219</td>\n",
       "      <td>0.003219</td>\n",
       "      <td>0.003219</td>\n",
       "      <td>5.738721</td>\n",
       "      <td>1.000000</td>\n",
       "    </tr>\n",
       "    <tr>\n",
       "      <th>469</th>\n",
       "      <td>(fenugreek, mace)</td>\n",
       "      <td>44</td>\n",
       "      <td>fenugreek</td>\n",
       "      <td>mace</td>\n",
       "      <td>45</td>\n",
       "      <td>44</td>\n",
       "      <td>0.023605</td>\n",
       "      <td>0.024142</td>\n",
       "      <td>0.023605</td>\n",
       "      <td>3.723818</td>\n",
       "      <td>0.994001</td>\n",
       "    </tr>\n",
       "  </tbody>\n",
       "</table>\n",
       "</div>"
      ],
      "text/plain": [
       "                           pairs  pair_frequency         ingr1       ingr2  \\\n",
       "6369         (dandelion, sorrel)               1     dandelion      sorrel   \n",
       "6142              (cassava, yam)               1       cassava         yam   \n",
       "6227  (passionfruit, soft_drink)               1  passionfruit  soft_drink   \n",
       "2680           (chicory, endive)               6       chicory      endive   \n",
       "469            (fenugreek, mace)              44     fenugreek        mace   \n",
       "\n",
       "      ingr1_fre  ingr2_fre  pair_prevelence  ingr1_prevelence  \\\n",
       "6369          1          1         0.000536          0.000536   \n",
       "6142          1          1         0.000536          0.000536   \n",
       "6227          1          1         0.000536          0.000536   \n",
       "2680          6          6         0.003219          0.003219   \n",
       "469          45         44         0.023605          0.024142   \n",
       "\n",
       "      ingr2_prevelence       pmi      npmi  \n",
       "6369          0.000536  7.530480  1.000000  \n",
       "6142          0.000536  7.530480  1.000000  \n",
       "6227          0.000536  7.530480  1.000000  \n",
       "2680          0.003219  5.738721  1.000000  \n",
       "469           0.023605  3.723818  0.994001  "
      ]
     },
     "execution_count": 42,
     "metadata": {},
     "output_type": "execute_result"
    }
   ],
   "source": [
    "kb_PMI_data.head()"
   ]
  },
  {
   "cell_type": "code",
   "execution_count": null,
   "metadata": {},
   "outputs": [],
   "source": [
    "# set threshold: ingredient_count >=10, pair_count>=5"
   ]
  },
  {
   "cell_type": "code",
   "execution_count": 43,
   "metadata": {},
   "outputs": [
    {
     "data": {
      "text/plain": [
       "(1280, 11)"
      ]
     },
     "execution_count": 43,
     "metadata": {},
     "output_type": "execute_result"
    }
   ],
   "source": [
    "filtered_xcf_PMI_data=xcf_PMI_data[(xcf_PMI_data['ingr1_fre']>=10)&(xcf_PMI_data['ingr2_fre']>=10)&(xcf_PMI_data['pair_frequency']>=5)]\n",
    "filtered_xcf_PMI_data.shape"
   ]
  },
  {
   "cell_type": "code",
   "execution_count": 44,
   "metadata": {},
   "outputs": [
    {
     "data": {
      "text/plain": [
       "(2341, 11)"
      ]
     },
     "execution_count": 44,
     "metadata": {},
     "output_type": "execute_result"
    }
   ],
   "source": [
    "filtered_ars_PMI_data=ars_PMI_data[(ars_PMI_data['ingr1_fre']>=10)&(ars_PMI_data['ingr2_fre']>=10)&(ars_PMI_data['pair_frequency']>=5)]\n",
    "filtered_ars_PMI_data.shape"
   ]
  },
  {
   "cell_type": "code",
   "execution_count": 45,
   "metadata": {},
   "outputs": [
    {
     "data": {
      "text/plain": [
       "(3049, 11)"
      ]
     },
     "execution_count": 45,
     "metadata": {},
     "output_type": "execute_result"
    }
   ],
   "source": [
    "filtered_kb_PMI_data=kb_PMI_data[(kb_PMI_data['ingr1_fre']>=10)&(kb_PMI_data['ingr2_fre']>=10)&(kb_PMI_data['pair_frequency']>=5)]\n",
    "filtered_kb_PMI_data.shape"
   ]
  },
  {
   "cell_type": "code",
   "execution_count": 46,
   "metadata": {},
   "outputs": [
    {
     "name": "stdout",
     "output_type": "stream",
     "text": [
      "After filter, the number of ingredient pairs in \n",
      "xiachufang:4856-->1280,\n",
      "allrecipes:8169-->2341,\n",
      "kochbar:9758-->3049\n"
     ]
    }
   ],
   "source": [
    "print('After filter, the number of ingredient pairs in \\nxiachufang:{}-->{},\\nallrecipes:{}-->{},\\nkochbar:{}-->{}'\n",
    "      .format(xcf_PMI_data.shape[0],filtered_xcf_PMI_data.shape[0],\n",
    "              ars_PMI_data.shape[0],filtered_ars_PMI_data.shape[0],\n",
    "              kb_PMI_data.shape[0],filtered_kb_PMI_data.shape[0]))"
   ]
  },
  {
   "cell_type": "code",
   "execution_count": 47,
   "metadata": {
    "collapsed": true,
    "jupyter": {
     "outputs_hidden": true
    }
   },
   "outputs": [
    {
     "data": {
      "text/html": [
       "<div>\n",
       "<style scoped>\n",
       "    .dataframe tbody tr th:only-of-type {\n",
       "        vertical-align: middle;\n",
       "    }\n",
       "\n",
       "    .dataframe tbody tr th {\n",
       "        vertical-align: top;\n",
       "    }\n",
       "\n",
       "    .dataframe thead th {\n",
       "        text-align: right;\n",
       "    }\n",
       "</style>\n",
       "<table border=\"1\" class=\"dataframe\">\n",
       "  <thead>\n",
       "    <tr style=\"text-align: right;\">\n",
       "      <th></th>\n",
       "      <th>pairs</th>\n",
       "      <th>pair_frequency</th>\n",
       "      <th>ingr1</th>\n",
       "      <th>ingr2</th>\n",
       "      <th>ingr1_fre</th>\n",
       "      <th>ingr2_fre</th>\n",
       "      <th>pair_prevelence</th>\n",
       "      <th>ingr1_prevelence</th>\n",
       "      <th>ingr2_prevelence</th>\n",
       "      <th>pmi</th>\n",
       "      <th>npmi</th>\n",
       "    </tr>\n",
       "  </thead>\n",
       "  <tbody>\n",
       "    <tr>\n",
       "      <th>383</th>\n",
       "      <td>(mace, tamarind)</td>\n",
       "      <td>18</td>\n",
       "      <td>mace</td>\n",
       "      <td>tamarind</td>\n",
       "      <td>18</td>\n",
       "      <td>18</td>\n",
       "      <td>0.007608</td>\n",
       "      <td>0.007608</td>\n",
       "      <td>0.007608</td>\n",
       "      <td>4.878584</td>\n",
       "      <td>1.0</td>\n",
       "    </tr>\n",
       "    <tr>\n",
       "      <th>442</th>\n",
       "      <td>(cardamom, mace)</td>\n",
       "      <td>18</td>\n",
       "      <td>cardamom</td>\n",
       "      <td>mace</td>\n",
       "      <td>18</td>\n",
       "      <td>18</td>\n",
       "      <td>0.007608</td>\n",
       "      <td>0.007608</td>\n",
       "      <td>0.007608</td>\n",
       "      <td>4.878584</td>\n",
       "      <td>1.0</td>\n",
       "    </tr>\n",
       "    <tr>\n",
       "      <th>381</th>\n",
       "      <td>(tamarind, turmeric)</td>\n",
       "      <td>18</td>\n",
       "      <td>tamarind</td>\n",
       "      <td>turmeric</td>\n",
       "      <td>18</td>\n",
       "      <td>18</td>\n",
       "      <td>0.007608</td>\n",
       "      <td>0.007608</td>\n",
       "      <td>0.007608</td>\n",
       "      <td>4.878584</td>\n",
       "      <td>1.0</td>\n",
       "    </tr>\n",
       "    <tr>\n",
       "      <th>382</th>\n",
       "      <td>(fenugreek, turmeric)</td>\n",
       "      <td>18</td>\n",
       "      <td>fenugreek</td>\n",
       "      <td>turmeric</td>\n",
       "      <td>18</td>\n",
       "      <td>18</td>\n",
       "      <td>0.007608</td>\n",
       "      <td>0.007608</td>\n",
       "      <td>0.007608</td>\n",
       "      <td>4.878584</td>\n",
       "      <td>1.0</td>\n",
       "    </tr>\n",
       "    <tr>\n",
       "      <th>388</th>\n",
       "      <td>(saffron, turmeric)</td>\n",
       "      <td>18</td>\n",
       "      <td>saffron</td>\n",
       "      <td>turmeric</td>\n",
       "      <td>18</td>\n",
       "      <td>18</td>\n",
       "      <td>0.007608</td>\n",
       "      <td>0.007608</td>\n",
       "      <td>0.007608</td>\n",
       "      <td>4.878584</td>\n",
       "      <td>1.0</td>\n",
       "    </tr>\n",
       "  </tbody>\n",
       "</table>\n",
       "</div>"
      ],
      "text/plain": [
       "                     pairs  pair_frequency      ingr1     ingr2  ingr1_fre  \\\n",
       "383       (mace, tamarind)              18       mace  tamarind         18   \n",
       "442       (cardamom, mace)              18   cardamom      mace         18   \n",
       "381   (tamarind, turmeric)              18   tamarind  turmeric         18   \n",
       "382  (fenugreek, turmeric)              18  fenugreek  turmeric         18   \n",
       "388    (saffron, turmeric)              18    saffron  turmeric         18   \n",
       "\n",
       "     ingr2_fre  pair_prevelence  ingr1_prevelence  ingr2_prevelence       pmi  \\\n",
       "383         18         0.007608          0.007608          0.007608  4.878584   \n",
       "442         18         0.007608          0.007608          0.007608  4.878584   \n",
       "381         18         0.007608          0.007608          0.007608  4.878584   \n",
       "382         18         0.007608          0.007608          0.007608  4.878584   \n",
       "388         18         0.007608          0.007608          0.007608  4.878584   \n",
       "\n",
       "     npmi  \n",
       "383   1.0  \n",
       "442   1.0  \n",
       "381   1.0  \n",
       "382   1.0  \n",
       "388   1.0  "
      ]
     },
     "execution_count": 47,
     "metadata": {},
     "output_type": "execute_result"
    }
   ],
   "source": [
    "filtered_xcf_PMI_data.head()"
   ]
  },
  {
   "cell_type": "code",
   "execution_count": 48,
   "metadata": {
    "collapsed": true,
    "jupyter": {
     "outputs_hidden": true
    }
   },
   "outputs": [
    {
     "data": {
      "text/html": [
       "<div>\n",
       "<style scoped>\n",
       "    .dataframe tbody tr th:only-of-type {\n",
       "        vertical-align: middle;\n",
       "    }\n",
       "\n",
       "    .dataframe tbody tr th {\n",
       "        vertical-align: top;\n",
       "    }\n",
       "\n",
       "    .dataframe thead th {\n",
       "        text-align: right;\n",
       "    }\n",
       "</style>\n",
       "<table border=\"1\" class=\"dataframe\">\n",
       "  <thead>\n",
       "    <tr style=\"text-align: right;\">\n",
       "      <th></th>\n",
       "      <th>pairs</th>\n",
       "      <th>pair_frequency</th>\n",
       "      <th>ingr1</th>\n",
       "      <th>ingr2</th>\n",
       "      <th>ingr1_fre</th>\n",
       "      <th>ingr2_fre</th>\n",
       "      <th>pair_prevelence</th>\n",
       "      <th>ingr1_prevelence</th>\n",
       "      <th>ingr2_prevelence</th>\n",
       "      <th>pmi</th>\n",
       "      <th>npmi</th>\n",
       "    </tr>\n",
       "  </thead>\n",
       "  <tbody>\n",
       "    <tr>\n",
       "      <th>671</th>\n",
       "      <td>(fenugreek, tamarind)</td>\n",
       "      <td>22</td>\n",
       "      <td>fenugreek</td>\n",
       "      <td>tamarind</td>\n",
       "      <td>22</td>\n",
       "      <td>22</td>\n",
       "      <td>0.010314</td>\n",
       "      <td>0.010314</td>\n",
       "      <td>0.010314</td>\n",
       "      <td>4.574242</td>\n",
       "      <td>1.000000</td>\n",
       "    </tr>\n",
       "    <tr>\n",
       "      <th>690</th>\n",
       "      <td>(fenugreek, saffron)</td>\n",
       "      <td>22</td>\n",
       "      <td>fenugreek</td>\n",
       "      <td>saffron</td>\n",
       "      <td>22</td>\n",
       "      <td>24</td>\n",
       "      <td>0.010314</td>\n",
       "      <td>0.010314</td>\n",
       "      <td>0.011252</td>\n",
       "      <td>4.487231</td>\n",
       "      <td>0.980978</td>\n",
       "    </tr>\n",
       "    <tr>\n",
       "      <th>698</th>\n",
       "      <td>(saffron, tamarind)</td>\n",
       "      <td>22</td>\n",
       "      <td>saffron</td>\n",
       "      <td>tamarind</td>\n",
       "      <td>24</td>\n",
       "      <td>22</td>\n",
       "      <td>0.010314</td>\n",
       "      <td>0.011252</td>\n",
       "      <td>0.010314</td>\n",
       "      <td>4.487231</td>\n",
       "      <td>0.980978</td>\n",
       "    </tr>\n",
       "    <tr>\n",
       "      <th>664</th>\n",
       "      <td>(mace, tamarind)</td>\n",
       "      <td>22</td>\n",
       "      <td>mace</td>\n",
       "      <td>tamarind</td>\n",
       "      <td>25</td>\n",
       "      <td>22</td>\n",
       "      <td>0.010314</td>\n",
       "      <td>0.011721</td>\n",
       "      <td>0.010314</td>\n",
       "      <td>4.446409</td>\n",
       "      <td>0.972054</td>\n",
       "    </tr>\n",
       "    <tr>\n",
       "      <th>699</th>\n",
       "      <td>(fenugreek, mace)</td>\n",
       "      <td>22</td>\n",
       "      <td>fenugreek</td>\n",
       "      <td>mace</td>\n",
       "      <td>22</td>\n",
       "      <td>25</td>\n",
       "      <td>0.010314</td>\n",
       "      <td>0.010314</td>\n",
       "      <td>0.011721</td>\n",
       "      <td>4.446409</td>\n",
       "      <td>0.972054</td>\n",
       "    </tr>\n",
       "  </tbody>\n",
       "</table>\n",
       "</div>"
      ],
      "text/plain": [
       "                     pairs  pair_frequency      ingr1     ingr2  ingr1_fre  \\\n",
       "671  (fenugreek, tamarind)              22  fenugreek  tamarind         22   \n",
       "690   (fenugreek, saffron)              22  fenugreek   saffron         22   \n",
       "698    (saffron, tamarind)              22    saffron  tamarind         24   \n",
       "664       (mace, tamarind)              22       mace  tamarind         25   \n",
       "699      (fenugreek, mace)              22  fenugreek      mace         22   \n",
       "\n",
       "     ingr2_fre  pair_prevelence  ingr1_prevelence  ingr2_prevelence       pmi  \\\n",
       "671         22         0.010314          0.010314          0.010314  4.574242   \n",
       "690         24         0.010314          0.010314          0.011252  4.487231   \n",
       "698         22         0.010314          0.011252          0.010314  4.487231   \n",
       "664         22         0.010314          0.011721          0.010314  4.446409   \n",
       "699         25         0.010314          0.010314          0.011721  4.446409   \n",
       "\n",
       "         npmi  \n",
       "671  1.000000  \n",
       "690  0.980978  \n",
       "698  0.980978  \n",
       "664  0.972054  \n",
       "699  0.972054  "
      ]
     },
     "execution_count": 48,
     "metadata": {},
     "output_type": "execute_result"
    }
   ],
   "source": [
    "filtered_ars_PMI_data.head()"
   ]
  },
  {
   "cell_type": "code",
   "execution_count": 49,
   "metadata": {
    "collapsed": true,
    "jupyter": {
     "outputs_hidden": true
    }
   },
   "outputs": [
    {
     "data": {
      "text/html": [
       "<div>\n",
       "<style scoped>\n",
       "    .dataframe tbody tr th:only-of-type {\n",
       "        vertical-align: middle;\n",
       "    }\n",
       "\n",
       "    .dataframe tbody tr th {\n",
       "        vertical-align: top;\n",
       "    }\n",
       "\n",
       "    .dataframe thead th {\n",
       "        text-align: right;\n",
       "    }\n",
       "</style>\n",
       "<table border=\"1\" class=\"dataframe\">\n",
       "  <thead>\n",
       "    <tr style=\"text-align: right;\">\n",
       "      <th></th>\n",
       "      <th>pairs</th>\n",
       "      <th>pair_frequency</th>\n",
       "      <th>ingr1</th>\n",
       "      <th>ingr2</th>\n",
       "      <th>ingr1_fre</th>\n",
       "      <th>ingr2_fre</th>\n",
       "      <th>pair_prevelence</th>\n",
       "      <th>ingr1_prevelence</th>\n",
       "      <th>ingr2_prevelence</th>\n",
       "      <th>pmi</th>\n",
       "      <th>npmi</th>\n",
       "    </tr>\n",
       "  </thead>\n",
       "  <tbody>\n",
       "    <tr>\n",
       "      <th>469</th>\n",
       "      <td>(fenugreek, mace)</td>\n",
       "      <td>44</td>\n",
       "      <td>fenugreek</td>\n",
       "      <td>mace</td>\n",
       "      <td>45</td>\n",
       "      <td>44</td>\n",
       "      <td>0.023605</td>\n",
       "      <td>0.024142</td>\n",
       "      <td>0.023605</td>\n",
       "      <td>3.723818</td>\n",
       "      <td>0.994001</td>\n",
       "    </tr>\n",
       "    <tr>\n",
       "      <th>535</th>\n",
       "      <td>(mace, tamarind)</td>\n",
       "      <td>43</td>\n",
       "      <td>mace</td>\n",
       "      <td>tamarind</td>\n",
       "      <td>44</td>\n",
       "      <td>43</td>\n",
       "      <td>0.023069</td>\n",
       "      <td>0.023605</td>\n",
       "      <td>0.023069</td>\n",
       "      <td>3.746290</td>\n",
       "      <td>0.993901</td>\n",
       "    </tr>\n",
       "    <tr>\n",
       "      <th>498</th>\n",
       "      <td>(fenugreek, tamarind)</td>\n",
       "      <td>43</td>\n",
       "      <td>fenugreek</td>\n",
       "      <td>tamarind</td>\n",
       "      <td>45</td>\n",
       "      <td>43</td>\n",
       "      <td>0.023069</td>\n",
       "      <td>0.024142</td>\n",
       "      <td>0.023069</td>\n",
       "      <td>3.723818</td>\n",
       "      <td>0.987939</td>\n",
       "    </tr>\n",
       "    <tr>\n",
       "      <th>497</th>\n",
       "      <td>(saffron, tamarind)</td>\n",
       "      <td>43</td>\n",
       "      <td>saffron</td>\n",
       "      <td>tamarind</td>\n",
       "      <td>49</td>\n",
       "      <td>43</td>\n",
       "      <td>0.023069</td>\n",
       "      <td>0.026288</td>\n",
       "      <td>0.023069</td>\n",
       "      <td>3.638660</td>\n",
       "      <td>0.965346</td>\n",
       "    </tr>\n",
       "    <tr>\n",
       "      <th>522</th>\n",
       "      <td>(mace, saffron)</td>\n",
       "      <td>43</td>\n",
       "      <td>mace</td>\n",
       "      <td>saffron</td>\n",
       "      <td>44</td>\n",
       "      <td>49</td>\n",
       "      <td>0.023069</td>\n",
       "      <td>0.023605</td>\n",
       "      <td>0.026288</td>\n",
       "      <td>3.615670</td>\n",
       "      <td>0.959247</td>\n",
       "    </tr>\n",
       "  </tbody>\n",
       "</table>\n",
       "</div>"
      ],
      "text/plain": [
       "                     pairs  pair_frequency      ingr1     ingr2  ingr1_fre  \\\n",
       "469      (fenugreek, mace)              44  fenugreek      mace         45   \n",
       "535       (mace, tamarind)              43       mace  tamarind         44   \n",
       "498  (fenugreek, tamarind)              43  fenugreek  tamarind         45   \n",
       "497    (saffron, tamarind)              43    saffron  tamarind         49   \n",
       "522        (mace, saffron)              43       mace   saffron         44   \n",
       "\n",
       "     ingr2_fre  pair_prevelence  ingr1_prevelence  ingr2_prevelence       pmi  \\\n",
       "469         44         0.023605          0.024142          0.023605  3.723818   \n",
       "535         43         0.023069          0.023605          0.023069  3.746290   \n",
       "498         43         0.023069          0.024142          0.023069  3.723818   \n",
       "497         43         0.023069          0.026288          0.023069  3.638660   \n",
       "522         49         0.023069          0.023605          0.026288  3.615670   \n",
       "\n",
       "         npmi  \n",
       "469  0.994001  \n",
       "535  0.993901  \n",
       "498  0.987939  \n",
       "497  0.965346  \n",
       "522  0.959247  "
      ]
     },
     "execution_count": 49,
     "metadata": {},
     "output_type": "execute_result"
    }
   ],
   "source": [
    "filtered_kb_PMI_data.head()"
   ]
  },
  {
   "cell_type": "code",
   "execution_count": null,
   "metadata": {},
   "outputs": [],
   "source": [
    "# keep the filter pmi data as pmi data"
   ]
  },
  {
   "cell_type": "code",
   "execution_count": 50,
   "metadata": {},
   "outputs": [],
   "source": [
    "xcf_PMI_data=filtered_xcf_PMI_data.copy()\n",
    "ars_PMI_data=filtered_ars_PMI_data.copy()\n",
    "kb_PMI_data=filtered_kb_PMI_data.copy()"
   ]
  },
  {
   "cell_type": "code",
   "execution_count": 51,
   "metadata": {},
   "outputs": [
    {
     "data": {
      "text/html": [
       "<div>\n",
       "<style scoped>\n",
       "    .dataframe tbody tr th:only-of-type {\n",
       "        vertical-align: middle;\n",
       "    }\n",
       "\n",
       "    .dataframe tbody tr th {\n",
       "        vertical-align: top;\n",
       "    }\n",
       "\n",
       "    .dataframe thead th {\n",
       "        text-align: right;\n",
       "    }\n",
       "</style>\n",
       "<table border=\"1\" class=\"dataframe\">\n",
       "  <thead>\n",
       "    <tr style=\"text-align: right;\">\n",
       "      <th></th>\n",
       "      <th>pairs</th>\n",
       "      <th>pair_frequency</th>\n",
       "      <th>ingr1</th>\n",
       "      <th>ingr2</th>\n",
       "      <th>ingr1_fre</th>\n",
       "      <th>ingr2_fre</th>\n",
       "      <th>pair_prevelence</th>\n",
       "      <th>ingr1_prevelence</th>\n",
       "      <th>ingr2_prevelence</th>\n",
       "      <th>pmi</th>\n",
       "      <th>npmi</th>\n",
       "    </tr>\n",
       "  </thead>\n",
       "  <tbody>\n",
       "    <tr>\n",
       "      <th>383</th>\n",
       "      <td>(mace, tamarind)</td>\n",
       "      <td>18</td>\n",
       "      <td>mace</td>\n",
       "      <td>tamarind</td>\n",
       "      <td>18</td>\n",
       "      <td>18</td>\n",
       "      <td>0.007608</td>\n",
       "      <td>0.007608</td>\n",
       "      <td>0.007608</td>\n",
       "      <td>4.878584</td>\n",
       "      <td>1.0</td>\n",
       "    </tr>\n",
       "    <tr>\n",
       "      <th>442</th>\n",
       "      <td>(cardamom, mace)</td>\n",
       "      <td>18</td>\n",
       "      <td>cardamom</td>\n",
       "      <td>mace</td>\n",
       "      <td>18</td>\n",
       "      <td>18</td>\n",
       "      <td>0.007608</td>\n",
       "      <td>0.007608</td>\n",
       "      <td>0.007608</td>\n",
       "      <td>4.878584</td>\n",
       "      <td>1.0</td>\n",
       "    </tr>\n",
       "    <tr>\n",
       "      <th>381</th>\n",
       "      <td>(tamarind, turmeric)</td>\n",
       "      <td>18</td>\n",
       "      <td>tamarind</td>\n",
       "      <td>turmeric</td>\n",
       "      <td>18</td>\n",
       "      <td>18</td>\n",
       "      <td>0.007608</td>\n",
       "      <td>0.007608</td>\n",
       "      <td>0.007608</td>\n",
       "      <td>4.878584</td>\n",
       "      <td>1.0</td>\n",
       "    </tr>\n",
       "    <tr>\n",
       "      <th>382</th>\n",
       "      <td>(fenugreek, turmeric)</td>\n",
       "      <td>18</td>\n",
       "      <td>fenugreek</td>\n",
       "      <td>turmeric</td>\n",
       "      <td>18</td>\n",
       "      <td>18</td>\n",
       "      <td>0.007608</td>\n",
       "      <td>0.007608</td>\n",
       "      <td>0.007608</td>\n",
       "      <td>4.878584</td>\n",
       "      <td>1.0</td>\n",
       "    </tr>\n",
       "    <tr>\n",
       "      <th>388</th>\n",
       "      <td>(saffron, turmeric)</td>\n",
       "      <td>18</td>\n",
       "      <td>saffron</td>\n",
       "      <td>turmeric</td>\n",
       "      <td>18</td>\n",
       "      <td>18</td>\n",
       "      <td>0.007608</td>\n",
       "      <td>0.007608</td>\n",
       "      <td>0.007608</td>\n",
       "      <td>4.878584</td>\n",
       "      <td>1.0</td>\n",
       "    </tr>\n",
       "  </tbody>\n",
       "</table>\n",
       "</div>"
      ],
      "text/plain": [
       "                     pairs  pair_frequency      ingr1     ingr2  ingr1_fre  \\\n",
       "383       (mace, tamarind)              18       mace  tamarind         18   \n",
       "442       (cardamom, mace)              18   cardamom      mace         18   \n",
       "381   (tamarind, turmeric)              18   tamarind  turmeric         18   \n",
       "382  (fenugreek, turmeric)              18  fenugreek  turmeric         18   \n",
       "388    (saffron, turmeric)              18    saffron  turmeric         18   \n",
       "\n",
       "     ingr2_fre  pair_prevelence  ingr1_prevelence  ingr2_prevelence       pmi  \\\n",
       "383         18         0.007608          0.007608          0.007608  4.878584   \n",
       "442         18         0.007608          0.007608          0.007608  4.878584   \n",
       "381         18         0.007608          0.007608          0.007608  4.878584   \n",
       "382         18         0.007608          0.007608          0.007608  4.878584   \n",
       "388         18         0.007608          0.007608          0.007608  4.878584   \n",
       "\n",
       "     npmi  \n",
       "383   1.0  \n",
       "442   1.0  \n",
       "381   1.0  \n",
       "382   1.0  \n",
       "388   1.0  "
      ]
     },
     "execution_count": 51,
     "metadata": {},
     "output_type": "execute_result"
    }
   ],
   "source": [
    "xcf_PMI_data.head()"
   ]
  },
  {
   "cell_type": "code",
   "execution_count": null,
   "metadata": {},
   "outputs": [],
   "source": [
    "# ingredient prevelence"
   ]
  },
  {
   "cell_type": "code",
   "execution_count": 58,
   "metadata": {},
   "outputs": [],
   "source": [
    "xcf_ingr_fre['prevelence']=xcf_ingr_fre['ingr_fre']/2366\n",
    "ars_ingr_fre['prevelence']=ars_ingr_fre['ingr_fre']/2133\n",
    "kb_ingr_fre['prevelence']=kb_ingr_fre['ingr_fre']/1864"
   ]
  },
  {
   "cell_type": "code",
   "execution_count": 59,
   "metadata": {},
   "outputs": [
    {
     "data": {
      "text/html": [
       "<div>\n",
       "<style scoped>\n",
       "    .dataframe tbody tr th:only-of-type {\n",
       "        vertical-align: middle;\n",
       "    }\n",
       "\n",
       "    .dataframe tbody tr th {\n",
       "        vertical-align: top;\n",
       "    }\n",
       "\n",
       "    .dataframe thead th {\n",
       "        text-align: right;\n",
       "    }\n",
       "</style>\n",
       "<table border=\"1\" class=\"dataframe\">\n",
       "  <thead>\n",
       "    <tr style=\"text-align: right;\">\n",
       "      <th></th>\n",
       "      <th>ingr</th>\n",
       "      <th>ingr_fre</th>\n",
       "      <th>prevelence</th>\n",
       "    </tr>\n",
       "  </thead>\n",
       "  <tbody>\n",
       "    <tr>\n",
       "      <th>0</th>\n",
       "      <td>sugar</td>\n",
       "      <td>1199</td>\n",
       "      <td>0.506762</td>\n",
       "    </tr>\n",
       "    <tr>\n",
       "      <th>1</th>\n",
       "      <td>salt</td>\n",
       "      <td>961</td>\n",
       "      <td>0.406171</td>\n",
       "    </tr>\n",
       "    <tr>\n",
       "      <th>2</th>\n",
       "      <td>egg</td>\n",
       "      <td>787</td>\n",
       "      <td>0.332629</td>\n",
       "    </tr>\n",
       "    <tr>\n",
       "      <th>3</th>\n",
       "      <td>flour</td>\n",
       "      <td>727</td>\n",
       "      <td>0.307270</td>\n",
       "    </tr>\n",
       "    <tr>\n",
       "      <th>4</th>\n",
       "      <td>water</td>\n",
       "      <td>499</td>\n",
       "      <td>0.210904</td>\n",
       "    </tr>\n",
       "  </tbody>\n",
       "</table>\n",
       "</div>"
      ],
      "text/plain": [
       "    ingr  ingr_fre  prevelence\n",
       "0  sugar      1199    0.506762\n",
       "1   salt       961    0.406171\n",
       "2    egg       787    0.332629\n",
       "3  flour       727    0.307270\n",
       "4  water       499    0.210904"
      ]
     },
     "execution_count": 59,
     "metadata": {},
     "output_type": "execute_result"
    }
   ],
   "source": [
    "xcf_ingr_fre.head()"
   ]
  },
  {
   "cell_type": "markdown",
   "metadata": {},
   "source": [
    "## form the ingr-ingr edge dataset"
   ]
  },
  {
   "cell_type": "code",
   "execution_count": 54,
   "metadata": {},
   "outputs": [],
   "source": [
    "flavordb_info=pd.read_csv('~/work/food_flavor_2021/flavordb_dataset/(18.08)processed_flavordb_info.csv',index_col=0)"
   ]
  },
  {
   "cell_type": "code",
   "execution_count": 55,
   "metadata": {},
   "outputs": [
    {
     "data": {
      "text/html": [
       "<div>\n",
       "<style scoped>\n",
       "    .dataframe tbody tr th:only-of-type {\n",
       "        vertical-align: middle;\n",
       "    }\n",
       "\n",
       "    .dataframe tbody tr th {\n",
       "        vertical-align: top;\n",
       "    }\n",
       "\n",
       "    .dataframe thead th {\n",
       "        text-align: right;\n",
       "    }\n",
       "</style>\n",
       "<table border=\"1\" class=\"dataframe\">\n",
       "  <thead>\n",
       "    <tr style=\"text-align: right;\">\n",
       "      <th></th>\n",
       "      <th>entity_id</th>\n",
       "      <th>entity_alias_readable</th>\n",
       "      <th>category_readable</th>\n",
       "      <th>comb_cate</th>\n",
       "    </tr>\n",
       "  </thead>\n",
       "  <tbody>\n",
       "    <tr>\n",
       "      <th>0</th>\n",
       "      <td>0</td>\n",
       "      <td>egg</td>\n",
       "      <td>animal product</td>\n",
       "      <td>Animal Product</td>\n",
       "    </tr>\n",
       "    <tr>\n",
       "      <th>1</th>\n",
       "      <td>1</td>\n",
       "      <td>bakery_products</td>\n",
       "      <td>bakery</td>\n",
       "      <td>Bakery</td>\n",
       "    </tr>\n",
       "    <tr>\n",
       "      <th>2</th>\n",
       "      <td>2</td>\n",
       "      <td>bread</td>\n",
       "      <td>bakery</td>\n",
       "      <td>Bakery</td>\n",
       "    </tr>\n",
       "    <tr>\n",
       "      <th>3</th>\n",
       "      <td>3</td>\n",
       "      <td>rye_bread</td>\n",
       "      <td>bakery</td>\n",
       "      <td>Bakery</td>\n",
       "    </tr>\n",
       "    <tr>\n",
       "      <th>4</th>\n",
       "      <td>4</td>\n",
       "      <td>wheaten_bread</td>\n",
       "      <td>bakery</td>\n",
       "      <td>Bakery</td>\n",
       "    </tr>\n",
       "  </tbody>\n",
       "</table>\n",
       "</div>"
      ],
      "text/plain": [
       "   entity_id entity_alias_readable category_readable       comb_cate\n",
       "0          0                   egg    animal product  Animal Product\n",
       "1          1       bakery_products            bakery          Bakery\n",
       "2          2                 bread            bakery          Bakery\n",
       "3          3             rye_bread            bakery          Bakery\n",
       "4          4         wheaten_bread            bakery          Bakery"
      ]
     },
     "execution_count": 55,
     "metadata": {},
     "output_type": "execute_result"
    }
   ],
   "source": [
    "flavordb_info.head()"
   ]
  },
  {
   "cell_type": "code",
   "execution_count": 60,
   "metadata": {},
   "outputs": [],
   "source": [
    "def form_network_dataset(npmi_data,flavordb_info,ingr_fre):\n",
    "    # threshold = 0.10\n",
    "    filtered_npmi_data=npmi_data[npmi_data['npmi']>=0.10]\n",
    "    filtered_npmi_data=filtered_npmi_data[['ingr1','ingr2','npmi']]\n",
    "    filtered_npmi_data.reset_index(drop=True,inplace=True)\n",
    "    # get the edge data\n",
    "    ingr_edge=filtered_npmi_data.copy()\n",
    "    ingr_edge['edge_type']='ingr-ingr'\n",
    "    print('There are {} edge'.format(ingr_edge.shape[0]))\n",
    "    # extract node data from edge data\n",
    "    nodelists=list(set(ingr_edge['ingr1'].values.tolist())|(set(ingr_edge['ingr2'].values.tolist())))\n",
    "    print('There are {} nodes'.format(len(nodelists)))\n",
    "    ingr_node=pd.DataFrame((pd.Series(nodelists)))\n",
    "    ingr_node.rename(columns={0:'ingr'},inplace=True)\n",
    "    # add attributes(cate, prevelence) to the node\n",
    "    ingr_node=pd.merge(ingr_node,flavordb_info,left_on='ingr',right_on='entity_alias_readable')\n",
    "    ingr_node=pd.merge(ingr_node,ingr_fre,left_on='ingr',right_on='ingr')\n",
    "    ingr_node=ingr_node[['ingr','comb_cate','prevelence']]\n",
    "    return ingr_edge,ingr_node"
   ]
  },
  {
   "cell_type": "code",
   "execution_count": 61,
   "metadata": {},
   "outputs": [
    {
     "name": "stdout",
     "output_type": "stream",
     "text": [
      "There are 751 edge\n",
      "There are 130 nodes\n"
     ]
    }
   ],
   "source": [
    "xcf_ingr_edge,xcf_ingr_node=form_network_dataset(xcf_PMI_data,flavordb_info,xcf_ingr_fre)"
   ]
  },
  {
   "cell_type": "code",
   "execution_count": 65,
   "metadata": {},
   "outputs": [
    {
     "name": "stdout",
     "output_type": "stream",
     "text": [
      "There are 1144 edge\n",
      "There are 143 nodes\n"
     ]
    }
   ],
   "source": [
    "ars_ingr_edge,ars_ingr_node=form_network_dataset(ars_PMI_data,flavordb_info,ars_ingr_fre)"
   ]
  },
  {
   "cell_type": "code",
   "execution_count": 66,
   "metadata": {},
   "outputs": [
    {
     "name": "stdout",
     "output_type": "stream",
     "text": [
      "There are 1527 edge\n",
      "There are 155 nodes\n"
     ]
    }
   ],
   "source": [
    "kb_ingr_edge,kb_ingr_node=form_network_dataset(kb_PMI_data,flavordb_info,kb_ingr_fre)"
   ]
  },
  {
   "cell_type": "code",
   "execution_count": 105,
   "metadata": {},
   "outputs": [],
   "source": [
    "xcf_ingr_edge.to_csv('datasets/(06.10)xcf_ingr_edge.pkl')\n",
    "xcf_ingr_node.to_csv('datasets/(06.10)xcf_ingr_node.pkl')\n",
    "\n",
    "ars_ingr_edge.to_csv('datasets/(06.10)ars_ingr_edge.pkl')\n",
    "ars_ingr_node.to_csv('datasets/(06.10)ars_ingr_node.pkl')\n",
    "\n",
    "kb_ingr_edge.to_csv('datasets/(06.10)kb_ingr_edge.pkl')\n",
    "kb_ingr_node.to_csv('datasets/(06.10)kb_ingr_node.pkl')"
   ]
  },
  {
   "cell_type": "markdown",
   "metadata": {},
   "source": [
    "## form the ingr_comp edge dataset"
   ]
  },
  {
   "cell_type": "code",
   "execution_count": 79,
   "metadata": {},
   "outputs": [
    {
     "data": {
      "text/plain": [
       "(60263, 5)"
      ]
     },
     "execution_count": 79,
     "metadata": {},
     "output_type": "execute_result"
    }
   ],
   "source": [
    "ingr_info=pd.read_csv('~/work/food_flavor_2021/flavordb_dataset/(19.08)propossed_ingr_comp.csv',index_col=0)\n",
    "ingr_info.shape"
   ]
  },
  {
   "cell_type": "code",
   "execution_count": 80,
   "metadata": {},
   "outputs": [
    {
     "data": {
      "text/html": [
       "<div>\n",
       "<style scoped>\n",
       "    .dataframe tbody tr th:only-of-type {\n",
       "        vertical-align: middle;\n",
       "    }\n",
       "\n",
       "    .dataframe tbody tr th {\n",
       "        vertical-align: top;\n",
       "    }\n",
       "\n",
       "    .dataframe thead th {\n",
       "        text-align: right;\n",
       "    }\n",
       "</style>\n",
       "<table border=\"1\" class=\"dataframe\">\n",
       "  <thead>\n",
       "    <tr style=\"text-align: right;\">\n",
       "      <th></th>\n",
       "      <th>ingredient_id</th>\n",
       "      <th>ingredient_name</th>\n",
       "      <th>compound_id</th>\n",
       "      <th>compound_name</th>\n",
       "      <th>CAS_number</th>\n",
       "    </tr>\n",
       "  </thead>\n",
       "  <tbody>\n",
       "    <tr>\n",
       "      <th>0</th>\n",
       "      <td>0</td>\n",
       "      <td>egg</td>\n",
       "      <td>182</td>\n",
       "      <td>Dimethyl disulfide</td>\n",
       "      <td>624-92-0</td>\n",
       "    </tr>\n",
       "    <tr>\n",
       "      <th>1</th>\n",
       "      <td>0</td>\n",
       "      <td>egg</td>\n",
       "      <td>1095</td>\n",
       "      <td>L-histidine</td>\n",
       "      <td>71-00-1@26062-48-6</td>\n",
       "    </tr>\n",
       "    <tr>\n",
       "      <th>2</th>\n",
       "      <td>0</td>\n",
       "      <td>egg</td>\n",
       "      <td>45</td>\n",
       "      <td>Isobutyraldehyde</td>\n",
       "      <td>78-84-2</td>\n",
       "    </tr>\n",
       "    <tr>\n",
       "      <th>3</th>\n",
       "      <td>0</td>\n",
       "      <td>egg</td>\n",
       "      <td>127</td>\n",
       "      <td>Styrene</td>\n",
       "      <td>9003-53-6@100-42-5@98444-30-5@68441-35-0@12770...</td>\n",
       "    </tr>\n",
       "    <tr>\n",
       "      <th>4</th>\n",
       "      <td>0</td>\n",
       "      <td>egg</td>\n",
       "      <td>510</td>\n",
       "      <td>1-Undecanol</td>\n",
       "      <td>30207-98-8@143819-62-9@112-42-5</td>\n",
       "    </tr>\n",
       "  </tbody>\n",
       "</table>\n",
       "</div>"
      ],
      "text/plain": [
       "   ingredient_id ingredient_name  compound_id       compound_name  \\\n",
       "0              0             egg          182  Dimethyl disulfide   \n",
       "1              0             egg         1095         L-histidine   \n",
       "2              0             egg           45    Isobutyraldehyde   \n",
       "3              0             egg          127             Styrene   \n",
       "4              0             egg          510         1-Undecanol   \n",
       "\n",
       "                                          CAS_number  \n",
       "0                                           624-92-0  \n",
       "1                                 71-00-1@26062-48-6  \n",
       "2                                            78-84-2  \n",
       "3  9003-53-6@100-42-5@98444-30-5@68441-35-0@12770...  \n",
       "4                    30207-98-8@143819-62-9@112-42-5  "
      ]
     },
     "execution_count": 80,
     "metadata": {},
     "output_type": "execute_result"
    }
   ],
   "source": [
    "ingr_info.head()"
   ]
  },
  {
   "cell_type": "code",
   "execution_count": 81,
   "metadata": {},
   "outputs": [],
   "source": [
    "xcf_ingr_node['node_type']='ingr'\n",
    "ars_ingr_node['node_type']='ingr'\n",
    "kb_ingr_node['node_type']='ingr'"
   ]
  },
  {
   "cell_type": "code",
   "execution_count": 82,
   "metadata": {},
   "outputs": [],
   "source": [
    "xcf_ingr_node.rename(columns={'ingr':'name'},inplace=True)\n",
    "ars_ingr_node.rename(columns={'ingr':'name'},inplace=True)\n",
    "kb_ingr_node.rename(columns={'ingr':'name'},inplace=True)"
   ]
  },
  {
   "cell_type": "code",
   "execution_count": 83,
   "metadata": {},
   "outputs": [
    {
     "data": {
      "text/html": [
       "<div>\n",
       "<style scoped>\n",
       "    .dataframe tbody tr th:only-of-type {\n",
       "        vertical-align: middle;\n",
       "    }\n",
       "\n",
       "    .dataframe tbody tr th {\n",
       "        vertical-align: top;\n",
       "    }\n",
       "\n",
       "    .dataframe thead th {\n",
       "        text-align: right;\n",
       "    }\n",
       "</style>\n",
       "<table border=\"1\" class=\"dataframe\">\n",
       "  <thead>\n",
       "    <tr style=\"text-align: right;\">\n",
       "      <th></th>\n",
       "      <th>name</th>\n",
       "      <th>comb_cate</th>\n",
       "      <th>prevelence</th>\n",
       "      <th>node_type</th>\n",
       "    </tr>\n",
       "  </thead>\n",
       "  <tbody>\n",
       "    <tr>\n",
       "      <th>0</th>\n",
       "      <td>mallard_duck</td>\n",
       "      <td>Animal Product</td>\n",
       "      <td>0.004227</td>\n",
       "      <td>ingr</td>\n",
       "    </tr>\n",
       "    <tr>\n",
       "      <th>1</th>\n",
       "      <td>pak_choy</td>\n",
       "      <td>Vegetable</td>\n",
       "      <td>0.004227</td>\n",
       "      <td>ingr</td>\n",
       "    </tr>\n",
       "    <tr>\n",
       "      <th>2</th>\n",
       "      <td>welsh_onion</td>\n",
       "      <td>Vegetable</td>\n",
       "      <td>0.118343</td>\n",
       "      <td>ingr</td>\n",
       "    </tr>\n",
       "    <tr>\n",
       "      <th>3</th>\n",
       "      <td>sausage</td>\n",
       "      <td>Dish</td>\n",
       "      <td>0.006340</td>\n",
       "      <td>ingr</td>\n",
       "    </tr>\n",
       "    <tr>\n",
       "      <th>4</th>\n",
       "      <td>cake</td>\n",
       "      <td>Dish</td>\n",
       "      <td>0.004227</td>\n",
       "      <td>ingr</td>\n",
       "    </tr>\n",
       "  </tbody>\n",
       "</table>\n",
       "</div>"
      ],
      "text/plain": [
       "           name       comb_cate  prevelence node_type\n",
       "0  mallard_duck  Animal Product    0.004227      ingr\n",
       "1      pak_choy       Vegetable    0.004227      ingr\n",
       "2   welsh_onion       Vegetable    0.118343      ingr\n",
       "3       sausage            Dish    0.006340      ingr\n",
       "4          cake            Dish    0.004227      ingr"
      ]
     },
     "execution_count": 83,
     "metadata": {},
     "output_type": "execute_result"
    }
   ],
   "source": [
    "xcf_ingr_node.head()"
   ]
  },
  {
   "cell_type": "code",
   "execution_count": 84,
   "metadata": {},
   "outputs": [],
   "source": [
    "xcf_ingrcomp_edge=pd.merge(xcf_ingr_node,ingr_info,left_on='name',right_on='ingredient_name')\n",
    "ars_ingrcomp_edge=pd.merge(ars_ingr_node,ingr_info,left_on='name',right_on='ingredient_name')\n",
    "kb_ingrcomp_edge=pd.merge(kb_ingr_node,ingr_info,left_on='name',right_on='ingredient_name')"
   ]
  },
  {
   "cell_type": "code",
   "execution_count": 86,
   "metadata": {},
   "outputs": [],
   "source": [
    "xcf_ingrcomp_edge=xcf_ingrcomp_edge[['name','compound_name']]\n",
    "ars_ingrcomp_edge=ars_ingrcomp_edge[['name','compound_name']]\n",
    "kb_ingrcomp_edge=kb_ingrcomp_edge[['name','compound_name']]"
   ]
  },
  {
   "cell_type": "code",
   "execution_count": 88,
   "metadata": {},
   "outputs": [],
   "source": [
    "xcf_ingrcomp_edge['edge_type']='ingr-comp'\n",
    "ars_ingrcomp_edge['edge_type']='ingr-comp'\n",
    "kb_ingrcomp_edge['edge_type']='ingr-comp'"
   ]
  },
  {
   "cell_type": "code",
   "execution_count": 89,
   "metadata": {},
   "outputs": [
    {
     "data": {
      "text/html": [
       "<div>\n",
       "<style scoped>\n",
       "    .dataframe tbody tr th:only-of-type {\n",
       "        vertical-align: middle;\n",
       "    }\n",
       "\n",
       "    .dataframe tbody tr th {\n",
       "        vertical-align: top;\n",
       "    }\n",
       "\n",
       "    .dataframe thead th {\n",
       "        text-align: right;\n",
       "    }\n",
       "</style>\n",
       "<table border=\"1\" class=\"dataframe\">\n",
       "  <thead>\n",
       "    <tr style=\"text-align: right;\">\n",
       "      <th></th>\n",
       "      <th>name</th>\n",
       "      <th>compound_name</th>\n",
       "      <th>edge_type</th>\n",
       "    </tr>\n",
       "  </thead>\n",
       "  <tbody>\n",
       "    <tr>\n",
       "      <th>0</th>\n",
       "      <td>mallard_duck</td>\n",
       "      <td>betaine</td>\n",
       "      <td>ingr-comp</td>\n",
       "    </tr>\n",
       "    <tr>\n",
       "      <th>1</th>\n",
       "      <td>mallard_duck</td>\n",
       "      <td>thiamine</td>\n",
       "      <td>ingr-comp</td>\n",
       "    </tr>\n",
       "    <tr>\n",
       "      <th>2</th>\n",
       "      <td>mallard_duck</td>\n",
       "      <td>CID 644104</td>\n",
       "      <td>ingr-comp</td>\n",
       "    </tr>\n",
       "    <tr>\n",
       "      <th>3</th>\n",
       "      <td>pak_choy</td>\n",
       "      <td>Geraniol</td>\n",
       "      <td>ingr-comp</td>\n",
       "    </tr>\n",
       "    <tr>\n",
       "      <th>4</th>\n",
       "      <td>pak_choy</td>\n",
       "      <td>isoliquiritigenin</td>\n",
       "      <td>ingr-comp</td>\n",
       "    </tr>\n",
       "  </tbody>\n",
       "</table>\n",
       "</div>"
      ],
      "text/plain": [
       "           name      compound_name  edge_type\n",
       "0  mallard_duck            betaine  ingr-comp\n",
       "1  mallard_duck           thiamine  ingr-comp\n",
       "2  mallard_duck         CID 644104  ingr-comp\n",
       "3      pak_choy           Geraniol  ingr-comp\n",
       "4      pak_choy  isoliquiritigenin  ingr-comp"
      ]
     },
     "execution_count": 89,
     "metadata": {},
     "output_type": "execute_result"
    }
   ],
   "source": [
    "xcf_ingrcomp_edge.head()"
   ]
  },
  {
   "cell_type": "code",
   "execution_count": 90,
   "metadata": {},
   "outputs": [
    {
     "name": "stdout",
     "output_type": "stream",
     "text": [
      "(15978, 3)\n",
      "(17239, 3)\n",
      "(19039, 3)\n"
     ]
    }
   ],
   "source": [
    "print(xcf_ingrcomp_edge.shape)\n",
    "print(ars_ingrcomp_edge.shape)\n",
    "print(kb_ingrcomp_edge.shape)"
   ]
  },
  {
   "cell_type": "code",
   "execution_count": 91,
   "metadata": {},
   "outputs": [],
   "source": [
    "xcf_comp_node_list=list(set(xcf_ingrcomp_edge['compound_name'].values.tolist()))\n",
    "ars_comp_node_list=list(set(ars_ingrcomp_edge['compound_name'].values.tolist()))\n",
    "kb_comp_node_list=list(set(kb_ingrcomp_edge['compound_name'].values.tolist()))"
   ]
  },
  {
   "cell_type": "code",
   "execution_count": 92,
   "metadata": {},
   "outputs": [],
   "source": [
    "xcf_comp_node=pd.DataFrame(xcf_comp_node_list,columns=['name'])\n",
    "ars_comp_node=pd.DataFrame(ars_comp_node_list,columns=['name'])\n",
    "kb_comp_node=pd.DataFrame(kb_comp_node_list,columns=['name'])"
   ]
  },
  {
   "cell_type": "code",
   "execution_count": 93,
   "metadata": {},
   "outputs": [],
   "source": [
    "xcf_comp_node['node_type']='comp'\n",
    "ars_comp_node['node_type']='comp'\n",
    "kb_comp_node['node_type']='comp'\n",
    "\n",
    "xcf_comp_node['comb_cate']='Chem'\n",
    "ars_comp_node['comb_cate']='Chem'\n",
    "kb_comp_node['comb_cate']='Chem'"
   ]
  },
  {
   "cell_type": "code",
   "execution_count": 94,
   "metadata": {},
   "outputs": [],
   "source": [
    "xcf_ingrcomp_node=pd.concat([xcf_ingr_node,xcf_comp_node],axis=0).reset_index(drop=True)\n",
    "ars_ingrcomp_node=pd.concat([ars_ingr_node,ars_comp_node],axis=0).reset_index(drop=True)\n",
    "kb_ingrcomp_node=pd.concat([kb_ingr_node,kb_comp_node],axis=0).reset_index(drop=True)"
   ]
  },
  {
   "cell_type": "code",
   "execution_count": 95,
   "metadata": {},
   "outputs": [],
   "source": [
    "xcf_ingrcomp_edge.rename(columns={'name':'ingr'},inplace=True)\n",
    "ars_ingrcomp_edge.rename(columns={'name':'ingr'},inplace=True)\n",
    "kb_ingrcomp_edge.rename(columns={'name':'ingr'},inplace=True)"
   ]
  },
  {
   "cell_type": "code",
   "execution_count": null,
   "metadata": {},
   "outputs": [],
   "source": [
    "# form the full node and edge data(including ingr_ingr and ingr_comp)"
   ]
  },
  {
   "cell_type": "code",
   "execution_count": 97,
   "metadata": {},
   "outputs": [],
   "source": [
    "xcf_ingr_edge.rename(columns={'ingr1':'id_1','ingr2':'id_2'},inplace=True)\n",
    "ars_ingr_edge.rename(columns={'ingr1':'id_1','ingr2':'id_2'},inplace=True)\n",
    "kb_ingr_edge.rename(columns={'ingr1':'id_1','ingr2':'id_2'},inplace=True)"
   ]
  },
  {
   "cell_type": "code",
   "execution_count": 96,
   "metadata": {},
   "outputs": [],
   "source": [
    "xcf_ingrcomp_edge.rename(columns={'ingr':'id_1','compound_name':'id_2'},inplace=True)\n",
    "ars_ingrcomp_edge.rename(columns={'ingr':'id_1','compound_name':'id_2'},inplace=True)\n",
    "kb_ingrcomp_edge.rename(columns={'ingr':'id_1','compound_name':'id_2'},inplace=True)"
   ]
  },
  {
   "cell_type": "code",
   "execution_count": 98,
   "metadata": {},
   "outputs": [],
   "source": [
    "xcf_full_edge=pd.concat([xcf_ingr_edge,xcf_ingrcomp_edge],axis=0).reset_index(drop=True)\n",
    "ars_full_edge=pd.concat([ars_ingr_edge,ars_ingrcomp_edge],axis=0).reset_index(drop=True)\n",
    "kb_full_edge=pd.concat([kb_ingr_edge,kb_ingrcomp_edge],axis=0).reset_index(drop=True)"
   ]
  },
  {
   "cell_type": "code",
   "execution_count": 99,
   "metadata": {},
   "outputs": [],
   "source": [
    "xcf_full_node=xcf_ingrcomp_node.copy()\n",
    "ars_full_node=ars_ingrcomp_node.copy()\n",
    "kb_full_node=kb_ingrcomp_node.copy()"
   ]
  },
  {
   "cell_type": "code",
   "execution_count": 100,
   "metadata": {},
   "outputs": [
    {
     "name": "stdout",
     "output_type": "stream",
     "text": [
      "There are 1454 nodes in Xiachufang, from them there are 130 ingredients and 1324 compounds\n",
      "There are 1515 nodes in Allrecipes, from them there are 143 ingredients and 1372 compounds\n",
      "There are 1549 nodes in Kochbar, from them there are 155 ingredients and 1394 compounds\n"
     ]
    }
   ],
   "source": [
    "print('There are {} nodes in Xiachufang, from them there are {} ingredients and {} compounds'.format(xcf_full_node.shape[0],xcf_full_node[xcf_full_node['node_type']=='ingr'].shape[0],xcf_full_node[xcf_full_node['node_type']=='comp'].shape[0]))\n",
    "print('There are {} nodes in Allrecipes, from them there are {} ingredients and {} compounds'.format(ars_full_node.shape[0],ars_full_node[ars_full_node['node_type']=='ingr'].shape[0],ars_full_node[ars_full_node['node_type']=='comp'].shape[0]))\n",
    "print('There are {} nodes in Kochbar, from them there are {} ingredients and {} compounds'.format(kb_full_node.shape[0],kb_full_node[kb_full_node['node_type']=='ingr'].shape[0],kb_full_node[kb_full_node['node_type']=='comp'].shape[0]))"
   ]
  },
  {
   "cell_type": "code",
   "execution_count": 101,
   "metadata": {},
   "outputs": [
    {
     "name": "stdout",
     "output_type": "stream",
     "text": [
      "There are 16729 edges in Xiachufang, from them there are 751 ingr-ingr and 15978 ingr-comp\n",
      "There are 18383 edges in Allrecipes, from them there are 1144 ingr-ingr and 17239 ingr-comp\n",
      "There are 20566 edges in Kochbar, from them there are 1527 ingr-ingr and 19039 ingr-comp\n"
     ]
    }
   ],
   "source": [
    "print('There are {} edges in Xiachufang, from them there are {} ingr-ingr and {} ingr-comp'.format(xcf_full_edge.shape[0],xcf_full_edge[xcf_full_edge['edge_type']=='ingr-ingr'].shape[0],xcf_full_edge[xcf_full_edge['edge_type']=='ingr-comp'].shape[0]))\n",
    "print('There are {} edges in Allrecipes, from them there are {} ingr-ingr and {} ingr-comp'.format(ars_full_edge.shape[0],ars_full_edge[ars_full_edge['edge_type']=='ingr-ingr'].shape[0],ars_full_edge[ars_full_edge['edge_type']=='ingr-comp'].shape[0]))\n",
    "print('There are {} edges in Kochbar, from them there are {} ingr-ingr and {} ingr-comp'.format(kb_full_edge.shape[0],kb_full_edge[kb_full_edge['edge_type']=='ingr-ingr'].shape[0],kb_full_edge[kb_full_edge['edge_type']=='ingr-comp'].shape[0]))"
   ]
  },
  {
   "cell_type": "code",
   "execution_count": 106,
   "metadata": {},
   "outputs": [],
   "source": [
    "xcf_full_node.to_csv('datasets/(06.10)xcf_full_node.pkl')\n",
    "ars_full_node.to_csv('datasets/(06.10)ars_full_node.pkl')\n",
    "kb_full_node.to_csv('datasets/(06.10)kb_full_node.pkl')\n",
    "\n",
    "xcf_full_edge.to_csv('datasets/(06.10)xcf_full_edge.pkl')\n",
    "ars_full_edge.to_csv('datasets/(06.10)ars_full_edge.pkl')\n",
    "kb_full_edge.to_csv('datasets/(06.10)kb_full_edge.pkl')"
   ]
  },
  {
   "cell_type": "code",
   "execution_count": null,
   "metadata": {},
   "outputs": [],
   "source": []
  }
 ],
 "metadata": {
  "kernelspec": {
   "display_name": "Python 3 (ipykernel)",
   "language": "python",
   "name": "python3"
  },
  "language_info": {
   "codemirror_mode": {
    "name": "ipython",
    "version": 3
   },
   "file_extension": ".py",
   "mimetype": "text/x-python",
   "name": "python",
   "nbconvert_exporter": "python",
   "pygments_lexer": "ipython3",
   "version": "3.9.13"
  }
 },
 "nbformat": 4,
 "nbformat_minor": 4
}
